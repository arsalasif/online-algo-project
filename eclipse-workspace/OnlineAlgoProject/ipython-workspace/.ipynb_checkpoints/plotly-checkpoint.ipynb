{
 "cells": [
  {
   "cell_type": "code",
   "execution_count": 22,
   "metadata": {},
   "outputs": [
    {
     "data": {
      "text/html": [
       "<script type=\"text/javascript\">window.PlotlyConfig = {MathJaxConfig: 'local'};</script><script type=\"text/javascript\">if (window.MathJax) {MathJax.Hub.Config({SVG: {font: \"STIX-Web\"}});}</script><script>requirejs.config({paths: { 'plotly': ['https://cdn.plot.ly/plotly-latest.min']},});if(!window._Plotly) {require(['plotly'],function(plotly) {window._Plotly=plotly;});}</script>"
      ],
      "text/vnd.plotly.v1+html": [
       "<script type=\"text/javascript\">window.PlotlyConfig = {MathJaxConfig: 'local'};</script><script type=\"text/javascript\">if (window.MathJax) {MathJax.Hub.Config({SVG: {font: \"STIX-Web\"}});}</script><script>requirejs.config({paths: { 'plotly': ['https://cdn.plot.ly/plotly-latest.min']},});if(!window._Plotly) {require(['plotly'],function(plotly) {window._Plotly=plotly;});}</script>"
      ]
     },
     "metadata": {},
     "output_type": "display_data"
    }
   ],
   "source": [
    "from plotly import __version__\n",
    "from plotly.offline import download_plotlyjs, init_notebook_mode, plot, iplot\n",
    "init_notebook_mode(connected=True)\n",
    "import plotly.graph_objs as go\n",
    "\n",
    "\n",
    "import numpy as np\n",
    "import pandas as pd\n",
    "import plotly.figure_factory as ff"
   ]
  },
  {
   "cell_type": "code",
   "execution_count": 23,
   "metadata": {
    "scrolled": false
   },
   "outputs": [
    {
     "data": {
      "application/vnd.plotly.v1+json": {
       "config": {
        "linkText": "Export to plot.ly",
        "plotlyServerURL": "https://plot.ly",
        "showLink": true
       },
       "data": [
        {
         "line": {
          "color": "rgb(37, 120, 178)"
         },
         "mode": "lines",
         "name": "OPT",
         "type": "scatter",
         "uid": "0bda8780-a7e1-4d58-8e0e-cd65b5ae4199",
         "x": [
          10000,
          20000,
          30000,
          40000,
          50000,
          60000,
          70000,
          80000,
          90000,
          100000
         ],
         "y": [
          370252,
          820381,
          1276990,
          1734059,
          2210474,
          2699980,
          3157841,
          3631241,
          4126641,
          4566089
         ]
        },
        {
         "line": {
          "color": "rgb(253, 127, 40)"
         },
         "mode": "lines",
         "name": "MTF",
         "type": "scatter",
         "uid": "655cc435-684a-41c5-8111-97fd984e80d1",
         "x": [
          10000,
          20000,
          30000,
          40000,
          50000,
          60000,
          70000,
          80000,
          90000,
          100000
         ],
         "y": [
          48711,
          102619,
          145860,
          199780,
          246187,
          312213,
          349346,
          406437,
          446196,
          498426
         ]
        },
        {
         "line": {
          "color": "rgb(50, 158, 52)"
         },
         "mode": "lines",
         "name": "Transpose",
         "type": "scatter",
         "uid": "660793aa-ffca-4f21-bc1a-f4ae08b63c8f",
         "x": [
          10000,
          20000,
          30000,
          40000,
          50000,
          60000,
          70000,
          80000,
          90000,
          100000
         ],
         "y": [
          399209,
          827030,
          1247614,
          1641955,
          2089600,
          2522646,
          2915735,
          3339321,
          3807479,
          4137932
         ]
        },
        {
         "line": {
          "color": "rgb(211, 41, 47)"
         },
         "mode": "lines",
         "name": "2-in-a-row",
         "type": "scatter",
         "uid": "91afd8de-bf6b-4692-92f3-604a6b581ff1",
         "x": [
          10000,
          20000,
          30000,
          40000,
          50000,
          60000,
          70000,
          80000,
          90000,
          100000
         ],
         "y": [
          130709,
          276458,
          402006,
          542278,
          657863,
          849592,
          946142,
          1101822,
          1207012,
          1356133
         ]
        }
       ],
       "layout": {
        "plot_bgcolor": "rgb(255, 255,255)",
        "title": "List Access Cost: High Self Loop",
        "xaxis": {
         "title": "Sequence Length"
        },
        "yaxis": {
         "title": "Access Cost"
        }
       }
      },
      "text/html": [
       "<div id=\"9c266d43-da5e-4587-826c-61490d89f0b7\" style=\"height: 525px; width: 100%;\" class=\"plotly-graph-div\"></div><script type=\"text/javascript\">require([\"plotly\"], function(Plotly) { window.PLOTLYENV=window.PLOTLYENV || {};window.PLOTLYENV.BASE_URL=\"https://plot.ly\";Plotly.newPlot(\"9c266d43-da5e-4587-826c-61490d89f0b7\", [{\"line\": {\"color\": \"rgb(37, 120, 178)\"}, \"mode\": \"lines\", \"name\": \"OPT\", \"x\": [10000, 20000, 30000, 40000, 50000, 60000, 70000, 80000, 90000, 100000], \"y\": [370252, 820381, 1276990, 1734059, 2210474, 2699980, 3157841, 3631241, 4126641, 4566089], \"type\": \"scatter\", \"uid\": \"0bda8780-a7e1-4d58-8e0e-cd65b5ae4199\"}, {\"line\": {\"color\": \"rgb(253, 127, 40)\"}, \"mode\": \"lines\", \"name\": \"MTF\", \"x\": [10000, 20000, 30000, 40000, 50000, 60000, 70000, 80000, 90000, 100000], \"y\": [48711, 102619, 145860, 199780, 246187, 312213, 349346, 406437, 446196, 498426], \"type\": \"scatter\", \"uid\": \"655cc435-684a-41c5-8111-97fd984e80d1\"}, {\"line\": {\"color\": \"rgb(50, 158, 52)\"}, \"mode\": \"lines\", \"name\": \"Transpose\", \"x\": [10000, 20000, 30000, 40000, 50000, 60000, 70000, 80000, 90000, 100000], \"y\": [399209, 827030, 1247614, 1641955, 2089600, 2522646, 2915735, 3339321, 3807479, 4137932], \"type\": \"scatter\", \"uid\": \"660793aa-ffca-4f21-bc1a-f4ae08b63c8f\"}, {\"line\": {\"color\": \"rgb(211, 41, 47)\"}, \"mode\": \"lines\", \"name\": \"2-in-a-row\", \"x\": [10000, 20000, 30000, 40000, 50000, 60000, 70000, 80000, 90000, 100000], \"y\": [130709, 276458, 402006, 542278, 657863, 849592, 946142, 1101822, 1207012, 1356133], \"type\": \"scatter\", \"uid\": \"91afd8de-bf6b-4692-92f3-604a6b581ff1\"}], {\"plot_bgcolor\": \"rgb(255, 255,255)\", \"title\": \"List Access Cost: High Self Loop\", \"xaxis\": {\"title\": \"Sequence Length\"}, \"yaxis\": {\"title\": \"Access Cost\"}}, {\"showLink\": true, \"linkText\": \"Export to plot.ly\", \"plotlyServerURL\": \"https://plot.ly\"})});</script><script type=\"text/javascript\">window.addEventListener(\"resize\", function(){window._Plotly.Plots.resize(document.getElementById(\"9c266d43-da5e-4587-826c-61490d89f0b7\"));});</script>"
      ],
      "text/vnd.plotly.v1+html": [
       "<div id=\"9c266d43-da5e-4587-826c-61490d89f0b7\" style=\"height: 525px; width: 100%;\" class=\"plotly-graph-div\"></div><script type=\"text/javascript\">require([\"plotly\"], function(Plotly) { window.PLOTLYENV=window.PLOTLYENV || {};window.PLOTLYENV.BASE_URL=\"https://plot.ly\";Plotly.newPlot(\"9c266d43-da5e-4587-826c-61490d89f0b7\", [{\"line\": {\"color\": \"rgb(37, 120, 178)\"}, \"mode\": \"lines\", \"name\": \"OPT\", \"x\": [10000, 20000, 30000, 40000, 50000, 60000, 70000, 80000, 90000, 100000], \"y\": [370252, 820381, 1276990, 1734059, 2210474, 2699980, 3157841, 3631241, 4126641, 4566089], \"type\": \"scatter\", \"uid\": \"0bda8780-a7e1-4d58-8e0e-cd65b5ae4199\"}, {\"line\": {\"color\": \"rgb(253, 127, 40)\"}, \"mode\": \"lines\", \"name\": \"MTF\", \"x\": [10000, 20000, 30000, 40000, 50000, 60000, 70000, 80000, 90000, 100000], \"y\": [48711, 102619, 145860, 199780, 246187, 312213, 349346, 406437, 446196, 498426], \"type\": \"scatter\", \"uid\": \"655cc435-684a-41c5-8111-97fd984e80d1\"}, {\"line\": {\"color\": \"rgb(50, 158, 52)\"}, \"mode\": \"lines\", \"name\": \"Transpose\", \"x\": [10000, 20000, 30000, 40000, 50000, 60000, 70000, 80000, 90000, 100000], \"y\": [399209, 827030, 1247614, 1641955, 2089600, 2522646, 2915735, 3339321, 3807479, 4137932], \"type\": \"scatter\", \"uid\": \"660793aa-ffca-4f21-bc1a-f4ae08b63c8f\"}, {\"line\": {\"color\": \"rgb(211, 41, 47)\"}, \"mode\": \"lines\", \"name\": \"2-in-a-row\", \"x\": [10000, 20000, 30000, 40000, 50000, 60000, 70000, 80000, 90000, 100000], \"y\": [130709, 276458, 402006, 542278, 657863, 849592, 946142, 1101822, 1207012, 1356133], \"type\": \"scatter\", \"uid\": \"91afd8de-bf6b-4692-92f3-604a6b581ff1\"}], {\"plot_bgcolor\": \"rgb(255, 255,255)\", \"title\": \"List Access Cost: High Self Loop\", \"xaxis\": {\"title\": \"Sequence Length\"}, \"yaxis\": {\"title\": \"Access Cost\"}}, {\"showLink\": true, \"linkText\": \"Export to plot.ly\", \"plotlyServerURL\": \"https://plot.ly\"})});</script><script type=\"text/javascript\">window.addEventListener(\"resize\", function(){window._Plotly.Plots.resize(document.getElementById(\"9c266d43-da5e-4587-826c-61490d89f0b7\"));});</script>"
      ]
     },
     "metadata": {},
     "output_type": "display_data"
    },
    {
     "data": {
      "application/vnd.plotly.v1+json": {
       "config": {
        "linkText": "Export to plot.ly",
        "plotlyServerURL": "https://plot.ly",
        "showLink": true
       },
       "data": [
        {
         "colorscale": [
          [
           0,
           "#000000"
          ],
          [
           0.5,
           "#FFFFFF"
          ],
          [
           1,
           "#ffffff"
          ]
         ],
         "hoverinfo": "none",
         "opacity": 0.75,
         "showscale": false,
         "type": "heatmap",
         "uid": "55fe295e-4b79-440b-b2e5-ceb5afd31289",
         "z": [
          [
           0,
           0,
           0,
           0,
           0
          ],
          [
           0.5,
           0.5,
           0.5,
           0.5,
           0.5
          ],
          [
           1,
           1,
           1,
           1,
           1
          ],
          [
           0.5,
           0.5,
           0.5,
           0.5,
           0.5
          ],
          [
           1,
           1,
           1,
           1,
           1
          ],
          [
           0.5,
           0.5,
           0.5,
           0.5,
           0.5
          ],
          [
           1,
           1,
           1,
           1,
           1
          ],
          [
           0.5,
           0.5,
           0.5,
           0.5,
           0.5
          ],
          [
           1,
           1,
           1,
           1,
           1
          ],
          [
           0.5,
           0.5,
           0.5,
           0.5,
           0.5
          ],
          [
           1,
           1,
           1,
           1,
           1
          ]
         ]
        }
       ],
       "layout": {
        "annotations": [
         {
          "align": "left",
          "font": {
           "color": "#ffffff"
          },
          "showarrow": false,
          "text": "<b>Sequence Length</b>",
          "x": -0.45,
          "xanchor": "left",
          "xref": "x",
          "y": 0,
          "yref": "y"
         },
         {
          "align": "left",
          "font": {
           "color": "#ffffff"
          },
          "showarrow": false,
          "text": "<b>OPT</b>",
          "x": 0.55,
          "xanchor": "left",
          "xref": "x",
          "y": 0,
          "yref": "y"
         },
         {
          "align": "left",
          "font": {
           "color": "#ffffff"
          },
          "showarrow": false,
          "text": "<b>MTF</b>",
          "x": 1.55,
          "xanchor": "left",
          "xref": "x",
          "y": 0,
          "yref": "y"
         },
         {
          "align": "left",
          "font": {
           "color": "#ffffff"
          },
          "showarrow": false,
          "text": "<b>Transpose</b>",
          "x": 2.55,
          "xanchor": "left",
          "xref": "x",
          "y": 0,
          "yref": "y"
         },
         {
          "align": "left",
          "font": {
           "color": "#ffffff"
          },
          "showarrow": false,
          "text": "<b>2-in-a-Row</b>",
          "x": 3.55,
          "xanchor": "left",
          "xref": "x",
          "y": 0,
          "yref": "y"
         },
         {
          "align": "left",
          "font": {
           "color": "#000000"
          },
          "showarrow": false,
          "text": "10000",
          "x": -0.45,
          "xanchor": "left",
          "xref": "x",
          "y": 1,
          "yref": "y"
         },
         {
          "align": "left",
          "font": {
           "color": "#000000"
          },
          "showarrow": false,
          "text": "370252",
          "x": 0.55,
          "xanchor": "left",
          "xref": "x",
          "y": 1,
          "yref": "y"
         },
         {
          "align": "left",
          "font": {
           "color": "#000000"
          },
          "showarrow": false,
          "text": "48711",
          "x": 1.55,
          "xanchor": "left",
          "xref": "x",
          "y": 1,
          "yref": "y"
         },
         {
          "align": "left",
          "font": {
           "color": "#000000"
          },
          "showarrow": false,
          "text": "399209",
          "x": 2.55,
          "xanchor": "left",
          "xref": "x",
          "y": 1,
          "yref": "y"
         },
         {
          "align": "left",
          "font": {
           "color": "#000000"
          },
          "showarrow": false,
          "text": "130709",
          "x": 3.55,
          "xanchor": "left",
          "xref": "x",
          "y": 1,
          "yref": "y"
         },
         {
          "align": "left",
          "font": {
           "color": "#000000"
          },
          "showarrow": false,
          "text": "20000",
          "x": -0.45,
          "xanchor": "left",
          "xref": "x",
          "y": 2,
          "yref": "y"
         },
         {
          "align": "left",
          "font": {
           "color": "#000000"
          },
          "showarrow": false,
          "text": "820381",
          "x": 0.55,
          "xanchor": "left",
          "xref": "x",
          "y": 2,
          "yref": "y"
         },
         {
          "align": "left",
          "font": {
           "color": "#000000"
          },
          "showarrow": false,
          "text": "102619",
          "x": 1.55,
          "xanchor": "left",
          "xref": "x",
          "y": 2,
          "yref": "y"
         },
         {
          "align": "left",
          "font": {
           "color": "#000000"
          },
          "showarrow": false,
          "text": "827030",
          "x": 2.55,
          "xanchor": "left",
          "xref": "x",
          "y": 2,
          "yref": "y"
         },
         {
          "align": "left",
          "font": {
           "color": "#000000"
          },
          "showarrow": false,
          "text": "276458",
          "x": 3.55,
          "xanchor": "left",
          "xref": "x",
          "y": 2,
          "yref": "y"
         },
         {
          "align": "left",
          "font": {
           "color": "#000000"
          },
          "showarrow": false,
          "text": "30000",
          "x": -0.45,
          "xanchor": "left",
          "xref": "x",
          "y": 3,
          "yref": "y"
         },
         {
          "align": "left",
          "font": {
           "color": "#000000"
          },
          "showarrow": false,
          "text": "1276990",
          "x": 0.55,
          "xanchor": "left",
          "xref": "x",
          "y": 3,
          "yref": "y"
         },
         {
          "align": "left",
          "font": {
           "color": "#000000"
          },
          "showarrow": false,
          "text": "145860",
          "x": 1.55,
          "xanchor": "left",
          "xref": "x",
          "y": 3,
          "yref": "y"
         },
         {
          "align": "left",
          "font": {
           "color": "#000000"
          },
          "showarrow": false,
          "text": "1247614",
          "x": 2.55,
          "xanchor": "left",
          "xref": "x",
          "y": 3,
          "yref": "y"
         },
         {
          "align": "left",
          "font": {
           "color": "#000000"
          },
          "showarrow": false,
          "text": "402006",
          "x": 3.55,
          "xanchor": "left",
          "xref": "x",
          "y": 3,
          "yref": "y"
         },
         {
          "align": "left",
          "font": {
           "color": "#000000"
          },
          "showarrow": false,
          "text": "40000",
          "x": -0.45,
          "xanchor": "left",
          "xref": "x",
          "y": 4,
          "yref": "y"
         },
         {
          "align": "left",
          "font": {
           "color": "#000000"
          },
          "showarrow": false,
          "text": "1734059",
          "x": 0.55,
          "xanchor": "left",
          "xref": "x",
          "y": 4,
          "yref": "y"
         },
         {
          "align": "left",
          "font": {
           "color": "#000000"
          },
          "showarrow": false,
          "text": "199780",
          "x": 1.55,
          "xanchor": "left",
          "xref": "x",
          "y": 4,
          "yref": "y"
         },
         {
          "align": "left",
          "font": {
           "color": "#000000"
          },
          "showarrow": false,
          "text": "1641955",
          "x": 2.55,
          "xanchor": "left",
          "xref": "x",
          "y": 4,
          "yref": "y"
         },
         {
          "align": "left",
          "font": {
           "color": "#000000"
          },
          "showarrow": false,
          "text": "542278",
          "x": 3.55,
          "xanchor": "left",
          "xref": "x",
          "y": 4,
          "yref": "y"
         },
         {
          "align": "left",
          "font": {
           "color": "#000000"
          },
          "showarrow": false,
          "text": "50000",
          "x": -0.45,
          "xanchor": "left",
          "xref": "x",
          "y": 5,
          "yref": "y"
         },
         {
          "align": "left",
          "font": {
           "color": "#000000"
          },
          "showarrow": false,
          "text": "2210474",
          "x": 0.55,
          "xanchor": "left",
          "xref": "x",
          "y": 5,
          "yref": "y"
         },
         {
          "align": "left",
          "font": {
           "color": "#000000"
          },
          "showarrow": false,
          "text": "246187",
          "x": 1.55,
          "xanchor": "left",
          "xref": "x",
          "y": 5,
          "yref": "y"
         },
         {
          "align": "left",
          "font": {
           "color": "#000000"
          },
          "showarrow": false,
          "text": "2089600",
          "x": 2.55,
          "xanchor": "left",
          "xref": "x",
          "y": 5,
          "yref": "y"
         },
         {
          "align": "left",
          "font": {
           "color": "#000000"
          },
          "showarrow": false,
          "text": "657863",
          "x": 3.55,
          "xanchor": "left",
          "xref": "x",
          "y": 5,
          "yref": "y"
         },
         {
          "align": "left",
          "font": {
           "color": "#000000"
          },
          "showarrow": false,
          "text": "60000",
          "x": -0.45,
          "xanchor": "left",
          "xref": "x",
          "y": 6,
          "yref": "y"
         },
         {
          "align": "left",
          "font": {
           "color": "#000000"
          },
          "showarrow": false,
          "text": "2699980",
          "x": 0.55,
          "xanchor": "left",
          "xref": "x",
          "y": 6,
          "yref": "y"
         },
         {
          "align": "left",
          "font": {
           "color": "#000000"
          },
          "showarrow": false,
          "text": "312213",
          "x": 1.55,
          "xanchor": "left",
          "xref": "x",
          "y": 6,
          "yref": "y"
         },
         {
          "align": "left",
          "font": {
           "color": "#000000"
          },
          "showarrow": false,
          "text": "2522646",
          "x": 2.55,
          "xanchor": "left",
          "xref": "x",
          "y": 6,
          "yref": "y"
         },
         {
          "align": "left",
          "font": {
           "color": "#000000"
          },
          "showarrow": false,
          "text": "849592",
          "x": 3.55,
          "xanchor": "left",
          "xref": "x",
          "y": 6,
          "yref": "y"
         },
         {
          "align": "left",
          "font": {
           "color": "#000000"
          },
          "showarrow": false,
          "text": "70000",
          "x": -0.45,
          "xanchor": "left",
          "xref": "x",
          "y": 7,
          "yref": "y"
         },
         {
          "align": "left",
          "font": {
           "color": "#000000"
          },
          "showarrow": false,
          "text": "3157841",
          "x": 0.55,
          "xanchor": "left",
          "xref": "x",
          "y": 7,
          "yref": "y"
         },
         {
          "align": "left",
          "font": {
           "color": "#000000"
          },
          "showarrow": false,
          "text": "349346",
          "x": 1.55,
          "xanchor": "left",
          "xref": "x",
          "y": 7,
          "yref": "y"
         },
         {
          "align": "left",
          "font": {
           "color": "#000000"
          },
          "showarrow": false,
          "text": "2915735",
          "x": 2.55,
          "xanchor": "left",
          "xref": "x",
          "y": 7,
          "yref": "y"
         },
         {
          "align": "left",
          "font": {
           "color": "#000000"
          },
          "showarrow": false,
          "text": "946142",
          "x": 3.55,
          "xanchor": "left",
          "xref": "x",
          "y": 7,
          "yref": "y"
         },
         {
          "align": "left",
          "font": {
           "color": "#000000"
          },
          "showarrow": false,
          "text": "80000",
          "x": -0.45,
          "xanchor": "left",
          "xref": "x",
          "y": 8,
          "yref": "y"
         },
         {
          "align": "left",
          "font": {
           "color": "#000000"
          },
          "showarrow": false,
          "text": "3631241",
          "x": 0.55,
          "xanchor": "left",
          "xref": "x",
          "y": 8,
          "yref": "y"
         },
         {
          "align": "left",
          "font": {
           "color": "#000000"
          },
          "showarrow": false,
          "text": "406437",
          "x": 1.55,
          "xanchor": "left",
          "xref": "x",
          "y": 8,
          "yref": "y"
         },
         {
          "align": "left",
          "font": {
           "color": "#000000"
          },
          "showarrow": false,
          "text": "3339321",
          "x": 2.55,
          "xanchor": "left",
          "xref": "x",
          "y": 8,
          "yref": "y"
         },
         {
          "align": "left",
          "font": {
           "color": "#000000"
          },
          "showarrow": false,
          "text": "1101822",
          "x": 3.55,
          "xanchor": "left",
          "xref": "x",
          "y": 8,
          "yref": "y"
         },
         {
          "align": "left",
          "font": {
           "color": "#000000"
          },
          "showarrow": false,
          "text": "90000",
          "x": -0.45,
          "xanchor": "left",
          "xref": "x",
          "y": 9,
          "yref": "y"
         },
         {
          "align": "left",
          "font": {
           "color": "#000000"
          },
          "showarrow": false,
          "text": "4126641",
          "x": 0.55,
          "xanchor": "left",
          "xref": "x",
          "y": 9,
          "yref": "y"
         },
         {
          "align": "left",
          "font": {
           "color": "#000000"
          },
          "showarrow": false,
          "text": "446196",
          "x": 1.55,
          "xanchor": "left",
          "xref": "x",
          "y": 9,
          "yref": "y"
         },
         {
          "align": "left",
          "font": {
           "color": "#000000"
          },
          "showarrow": false,
          "text": "3807479",
          "x": 2.55,
          "xanchor": "left",
          "xref": "x",
          "y": 9,
          "yref": "y"
         },
         {
          "align": "left",
          "font": {
           "color": "#000000"
          },
          "showarrow": false,
          "text": "1207012",
          "x": 3.55,
          "xanchor": "left",
          "xref": "x",
          "y": 9,
          "yref": "y"
         },
         {
          "align": "left",
          "font": {
           "color": "#000000"
          },
          "showarrow": false,
          "text": "100000",
          "x": -0.45,
          "xanchor": "left",
          "xref": "x",
          "y": 10,
          "yref": "y"
         },
         {
          "align": "left",
          "font": {
           "color": "#000000"
          },
          "showarrow": false,
          "text": "4566089",
          "x": 0.55,
          "xanchor": "left",
          "xref": "x",
          "y": 10,
          "yref": "y"
         },
         {
          "align": "left",
          "font": {
           "color": "#000000"
          },
          "showarrow": false,
          "text": "498426",
          "x": 1.55,
          "xanchor": "left",
          "xref": "x",
          "y": 10,
          "yref": "y"
         },
         {
          "align": "left",
          "font": {
           "color": "#000000"
          },
          "showarrow": false,
          "text": "4137932",
          "x": 2.55,
          "xanchor": "left",
          "xref": "x",
          "y": 10,
          "yref": "y"
         },
         {
          "align": "left",
          "font": {
           "color": "#000000"
          },
          "showarrow": false,
          "text": "1356133",
          "x": 3.55,
          "xanchor": "left",
          "xref": "x",
          "y": 10,
          "yref": "y"
         }
        ],
        "height": 380,
        "margin": {
         "b": 0,
         "l": 0,
         "r": 0,
         "t": 0
        },
        "xaxis": {
         "dtick": 1,
         "gridwidth": 2,
         "showticklabels": false,
         "tick0": -0.5,
         "ticks": "",
         "zeroline": false
        },
        "yaxis": {
         "autorange": "reversed",
         "dtick": 1,
         "gridwidth": 2,
         "showticklabels": false,
         "tick0": 0.5,
         "ticks": "",
         "zeroline": false
        }
       }
      },
      "text/html": [
       "<div id=\"e803a680-f4ca-4c8f-8267-34db575c1168\" style=\"height: 380px; width: 100%;\" class=\"plotly-graph-div\"></div><script type=\"text/javascript\">require([\"plotly\"], function(Plotly) { window.PLOTLYENV=window.PLOTLYENV || {};window.PLOTLYENV.BASE_URL=\"https://plot.ly\";Plotly.newPlot(\"e803a680-f4ca-4c8f-8267-34db575c1168\", [{\"colorscale\": [[0, \"#000000\"], [0.5, \"#FFFFFF\"], [1, \"#ffffff\"]], \"hoverinfo\": \"none\", \"opacity\": 0.75, \"showscale\": false, \"z\": [[0, 0, 0, 0, 0], [0.5, 0.5, 0.5, 0.5, 0.5], [1, 1, 1, 1, 1], [0.5, 0.5, 0.5, 0.5, 0.5], [1, 1, 1, 1, 1], [0.5, 0.5, 0.5, 0.5, 0.5], [1, 1, 1, 1, 1], [0.5, 0.5, 0.5, 0.5, 0.5], [1, 1, 1, 1, 1], [0.5, 0.5, 0.5, 0.5, 0.5], [1, 1, 1, 1, 1]], \"type\": \"heatmap\", \"uid\": \"55fe295e-4b79-440b-b2e5-ceb5afd31289\"}], {\"annotations\": [{\"align\": \"left\", \"font\": {\"color\": \"#ffffff\"}, \"showarrow\": false, \"text\": \"<b>Sequence Length</b>\", \"x\": -0.45, \"xanchor\": \"left\", \"xref\": \"x\", \"y\": 0, \"yref\": \"y\"}, {\"align\": \"left\", \"font\": {\"color\": \"#ffffff\"}, \"showarrow\": false, \"text\": \"<b>OPT</b>\", \"x\": 0.55, \"xanchor\": \"left\", \"xref\": \"x\", \"y\": 0, \"yref\": \"y\"}, {\"align\": \"left\", \"font\": {\"color\": \"#ffffff\"}, \"showarrow\": false, \"text\": \"<b>MTF</b>\", \"x\": 1.55, \"xanchor\": \"left\", \"xref\": \"x\", \"y\": 0, \"yref\": \"y\"}, {\"align\": \"left\", \"font\": {\"color\": \"#ffffff\"}, \"showarrow\": false, \"text\": \"<b>Transpose</b>\", \"x\": 2.55, \"xanchor\": \"left\", \"xref\": \"x\", \"y\": 0, \"yref\": \"y\"}, {\"align\": \"left\", \"font\": {\"color\": \"#ffffff\"}, \"showarrow\": false, \"text\": \"<b>2-in-a-Row</b>\", \"x\": 3.55, \"xanchor\": \"left\", \"xref\": \"x\", \"y\": 0, \"yref\": \"y\"}, {\"align\": \"left\", \"font\": {\"color\": \"#000000\"}, \"showarrow\": false, \"text\": \"10000\", \"x\": -0.45, \"xanchor\": \"left\", \"xref\": \"x\", \"y\": 1, \"yref\": \"y\"}, {\"align\": \"left\", \"font\": {\"color\": \"#000000\"}, \"showarrow\": false, \"text\": \"370252\", \"x\": 0.55, \"xanchor\": \"left\", \"xref\": \"x\", \"y\": 1, \"yref\": \"y\"}, {\"align\": \"left\", \"font\": {\"color\": \"#000000\"}, \"showarrow\": false, \"text\": \"48711\", \"x\": 1.55, \"xanchor\": \"left\", \"xref\": \"x\", \"y\": 1, \"yref\": \"y\"}, {\"align\": \"left\", \"font\": {\"color\": \"#000000\"}, \"showarrow\": false, \"text\": \"399209\", \"x\": 2.55, \"xanchor\": \"left\", \"xref\": \"x\", \"y\": 1, \"yref\": \"y\"}, {\"align\": \"left\", \"font\": {\"color\": \"#000000\"}, \"showarrow\": false, \"text\": \"130709\", \"x\": 3.55, \"xanchor\": \"left\", \"xref\": \"x\", \"y\": 1, \"yref\": \"y\"}, {\"align\": \"left\", \"font\": {\"color\": \"#000000\"}, \"showarrow\": false, \"text\": \"20000\", \"x\": -0.45, \"xanchor\": \"left\", \"xref\": \"x\", \"y\": 2, \"yref\": \"y\"}, {\"align\": \"left\", \"font\": {\"color\": \"#000000\"}, \"showarrow\": false, \"text\": \"820381\", \"x\": 0.55, \"xanchor\": \"left\", \"xref\": \"x\", \"y\": 2, \"yref\": \"y\"}, {\"align\": \"left\", \"font\": {\"color\": \"#000000\"}, \"showarrow\": false, \"text\": \"102619\", \"x\": 1.55, \"xanchor\": \"left\", \"xref\": \"x\", \"y\": 2, \"yref\": \"y\"}, {\"align\": \"left\", \"font\": {\"color\": \"#000000\"}, \"showarrow\": false, \"text\": \"827030\", \"x\": 2.55, \"xanchor\": \"left\", \"xref\": \"x\", \"y\": 2, \"yref\": \"y\"}, {\"align\": \"left\", \"font\": {\"color\": \"#000000\"}, \"showarrow\": false, \"text\": \"276458\", \"x\": 3.55, \"xanchor\": \"left\", \"xref\": \"x\", \"y\": 2, \"yref\": \"y\"}, {\"align\": \"left\", \"font\": {\"color\": \"#000000\"}, \"showarrow\": false, \"text\": \"30000\", \"x\": -0.45, \"xanchor\": \"left\", \"xref\": \"x\", \"y\": 3, \"yref\": \"y\"}, {\"align\": \"left\", \"font\": {\"color\": \"#000000\"}, \"showarrow\": false, \"text\": \"1276990\", \"x\": 0.55, \"xanchor\": \"left\", \"xref\": \"x\", \"y\": 3, \"yref\": \"y\"}, {\"align\": \"left\", \"font\": {\"color\": \"#000000\"}, \"showarrow\": false, \"text\": \"145860\", \"x\": 1.55, \"xanchor\": \"left\", \"xref\": \"x\", \"y\": 3, \"yref\": \"y\"}, {\"align\": \"left\", \"font\": {\"color\": \"#000000\"}, \"showarrow\": false, \"text\": \"1247614\", \"x\": 2.55, \"xanchor\": \"left\", \"xref\": \"x\", \"y\": 3, \"yref\": \"y\"}, {\"align\": \"left\", \"font\": {\"color\": \"#000000\"}, \"showarrow\": false, \"text\": \"402006\", \"x\": 3.55, \"xanchor\": \"left\", \"xref\": \"x\", \"y\": 3, \"yref\": \"y\"}, {\"align\": \"left\", \"font\": {\"color\": \"#000000\"}, \"showarrow\": false, \"text\": \"40000\", \"x\": -0.45, \"xanchor\": \"left\", \"xref\": \"x\", \"y\": 4, \"yref\": \"y\"}, {\"align\": \"left\", \"font\": {\"color\": \"#000000\"}, \"showarrow\": false, \"text\": \"1734059\", \"x\": 0.55, \"xanchor\": \"left\", \"xref\": \"x\", \"y\": 4, \"yref\": \"y\"}, {\"align\": \"left\", \"font\": {\"color\": \"#000000\"}, \"showarrow\": false, \"text\": \"199780\", \"x\": 1.55, \"xanchor\": \"left\", \"xref\": \"x\", \"y\": 4, \"yref\": \"y\"}, {\"align\": \"left\", \"font\": {\"color\": \"#000000\"}, \"showarrow\": false, \"text\": \"1641955\", \"x\": 2.55, \"xanchor\": \"left\", \"xref\": \"x\", \"y\": 4, \"yref\": \"y\"}, {\"align\": \"left\", \"font\": {\"color\": \"#000000\"}, \"showarrow\": false, \"text\": \"542278\", \"x\": 3.55, \"xanchor\": \"left\", \"xref\": \"x\", \"y\": 4, \"yref\": \"y\"}, {\"align\": \"left\", \"font\": {\"color\": \"#000000\"}, \"showarrow\": false, \"text\": \"50000\", \"x\": -0.45, \"xanchor\": \"left\", \"xref\": \"x\", \"y\": 5, \"yref\": \"y\"}, {\"align\": \"left\", \"font\": {\"color\": \"#000000\"}, \"showarrow\": false, \"text\": \"2210474\", \"x\": 0.55, \"xanchor\": \"left\", \"xref\": \"x\", \"y\": 5, \"yref\": \"y\"}, {\"align\": \"left\", \"font\": {\"color\": \"#000000\"}, \"showarrow\": false, \"text\": \"246187\", \"x\": 1.55, \"xanchor\": \"left\", \"xref\": \"x\", \"y\": 5, \"yref\": \"y\"}, {\"align\": \"left\", \"font\": {\"color\": \"#000000\"}, \"showarrow\": false, \"text\": \"2089600\", \"x\": 2.55, \"xanchor\": \"left\", \"xref\": \"x\", \"y\": 5, \"yref\": \"y\"}, {\"align\": \"left\", \"font\": {\"color\": \"#000000\"}, \"showarrow\": false, \"text\": \"657863\", \"x\": 3.55, \"xanchor\": \"left\", \"xref\": \"x\", \"y\": 5, \"yref\": \"y\"}, {\"align\": \"left\", \"font\": {\"color\": \"#000000\"}, \"showarrow\": false, \"text\": \"60000\", \"x\": -0.45, \"xanchor\": \"left\", \"xref\": \"x\", \"y\": 6, \"yref\": \"y\"}, {\"align\": \"left\", \"font\": {\"color\": \"#000000\"}, \"showarrow\": false, \"text\": \"2699980\", \"x\": 0.55, \"xanchor\": \"left\", \"xref\": \"x\", \"y\": 6, \"yref\": \"y\"}, {\"align\": \"left\", \"font\": {\"color\": \"#000000\"}, \"showarrow\": false, \"text\": \"312213\", \"x\": 1.55, \"xanchor\": \"left\", \"xref\": \"x\", \"y\": 6, \"yref\": \"y\"}, {\"align\": \"left\", \"font\": {\"color\": \"#000000\"}, \"showarrow\": false, \"text\": \"2522646\", \"x\": 2.55, \"xanchor\": \"left\", \"xref\": \"x\", \"y\": 6, \"yref\": \"y\"}, {\"align\": \"left\", \"font\": {\"color\": \"#000000\"}, \"showarrow\": false, \"text\": \"849592\", \"x\": 3.55, \"xanchor\": \"left\", \"xref\": \"x\", \"y\": 6, \"yref\": \"y\"}, {\"align\": \"left\", \"font\": {\"color\": \"#000000\"}, \"showarrow\": false, \"text\": \"70000\", \"x\": -0.45, \"xanchor\": \"left\", \"xref\": \"x\", \"y\": 7, \"yref\": \"y\"}, {\"align\": \"left\", \"font\": {\"color\": \"#000000\"}, \"showarrow\": false, \"text\": \"3157841\", \"x\": 0.55, \"xanchor\": \"left\", \"xref\": \"x\", \"y\": 7, \"yref\": \"y\"}, {\"align\": \"left\", \"font\": {\"color\": \"#000000\"}, \"showarrow\": false, \"text\": \"349346\", \"x\": 1.55, \"xanchor\": \"left\", \"xref\": \"x\", \"y\": 7, \"yref\": \"y\"}, {\"align\": \"left\", \"font\": {\"color\": \"#000000\"}, \"showarrow\": false, \"text\": \"2915735\", \"x\": 2.55, \"xanchor\": \"left\", \"xref\": \"x\", \"y\": 7, \"yref\": \"y\"}, {\"align\": \"left\", \"font\": {\"color\": \"#000000\"}, \"showarrow\": false, \"text\": \"946142\", \"x\": 3.55, \"xanchor\": \"left\", \"xref\": \"x\", \"y\": 7, \"yref\": \"y\"}, {\"align\": \"left\", \"font\": {\"color\": \"#000000\"}, \"showarrow\": false, \"text\": \"80000\", \"x\": -0.45, \"xanchor\": \"left\", \"xref\": \"x\", \"y\": 8, \"yref\": \"y\"}, {\"align\": \"left\", \"font\": {\"color\": \"#000000\"}, \"showarrow\": false, \"text\": \"3631241\", \"x\": 0.55, \"xanchor\": \"left\", \"xref\": \"x\", \"y\": 8, \"yref\": \"y\"}, {\"align\": \"left\", \"font\": {\"color\": \"#000000\"}, \"showarrow\": false, \"text\": \"406437\", \"x\": 1.55, \"xanchor\": \"left\", \"xref\": \"x\", \"y\": 8, \"yref\": \"y\"}, {\"align\": \"left\", \"font\": {\"color\": \"#000000\"}, \"showarrow\": false, \"text\": \"3339321\", \"x\": 2.55, \"xanchor\": \"left\", \"xref\": \"x\", \"y\": 8, \"yref\": \"y\"}, {\"align\": \"left\", \"font\": {\"color\": \"#000000\"}, \"showarrow\": false, \"text\": \"1101822\", \"x\": 3.55, \"xanchor\": \"left\", \"xref\": \"x\", \"y\": 8, \"yref\": \"y\"}, {\"align\": \"left\", \"font\": {\"color\": \"#000000\"}, \"showarrow\": false, \"text\": \"90000\", \"x\": -0.45, \"xanchor\": \"left\", \"xref\": \"x\", \"y\": 9, \"yref\": \"y\"}, {\"align\": \"left\", \"font\": {\"color\": \"#000000\"}, \"showarrow\": false, \"text\": \"4126641\", \"x\": 0.55, \"xanchor\": \"left\", \"xref\": \"x\", \"y\": 9, \"yref\": \"y\"}, {\"align\": \"left\", \"font\": {\"color\": \"#000000\"}, \"showarrow\": false, \"text\": \"446196\", \"x\": 1.55, \"xanchor\": \"left\", \"xref\": \"x\", \"y\": 9, \"yref\": \"y\"}, {\"align\": \"left\", \"font\": {\"color\": \"#000000\"}, \"showarrow\": false, \"text\": \"3807479\", \"x\": 2.55, \"xanchor\": \"left\", \"xref\": \"x\", \"y\": 9, \"yref\": \"y\"}, {\"align\": \"left\", \"font\": {\"color\": \"#000000\"}, \"showarrow\": false, \"text\": \"1207012\", \"x\": 3.55, \"xanchor\": \"left\", \"xref\": \"x\", \"y\": 9, \"yref\": \"y\"}, {\"align\": \"left\", \"font\": {\"color\": \"#000000\"}, \"showarrow\": false, \"text\": \"100000\", \"x\": -0.45, \"xanchor\": \"left\", \"xref\": \"x\", \"y\": 10, \"yref\": \"y\"}, {\"align\": \"left\", \"font\": {\"color\": \"#000000\"}, \"showarrow\": false, \"text\": \"4566089\", \"x\": 0.55, \"xanchor\": \"left\", \"xref\": \"x\", \"y\": 10, \"yref\": \"y\"}, {\"align\": \"left\", \"font\": {\"color\": \"#000000\"}, \"showarrow\": false, \"text\": \"498426\", \"x\": 1.55, \"xanchor\": \"left\", \"xref\": \"x\", \"y\": 10, \"yref\": \"y\"}, {\"align\": \"left\", \"font\": {\"color\": \"#000000\"}, \"showarrow\": false, \"text\": \"4137932\", \"x\": 2.55, \"xanchor\": \"left\", \"xref\": \"x\", \"y\": 10, \"yref\": \"y\"}, {\"align\": \"left\", \"font\": {\"color\": \"#000000\"}, \"showarrow\": false, \"text\": \"1356133\", \"x\": 3.55, \"xanchor\": \"left\", \"xref\": \"x\", \"y\": 10, \"yref\": \"y\"}], \"height\": 380, \"margin\": {\"b\": 0, \"l\": 0, \"r\": 0, \"t\": 0}, \"xaxis\": {\"dtick\": 1, \"gridwidth\": 2, \"showticklabels\": false, \"tick0\": -0.5, \"ticks\": \"\", \"zeroline\": false}, \"yaxis\": {\"autorange\": \"reversed\", \"dtick\": 1, \"gridwidth\": 2, \"showticklabels\": false, \"tick0\": 0.5, \"ticks\": \"\", \"zeroline\": false}}, {\"showLink\": true, \"linkText\": \"Export to plot.ly\", \"plotlyServerURL\": \"https://plot.ly\"})});</script><script type=\"text/javascript\">window.addEventListener(\"resize\", function(){window._Plotly.Plots.resize(document.getElementById(\"e803a680-f4ca-4c8f-8267-34db575c1168\"));});</script>"
      ],
      "text/vnd.plotly.v1+html": [
       "<div id=\"e803a680-f4ca-4c8f-8267-34db575c1168\" style=\"height: 380px; width: 100%;\" class=\"plotly-graph-div\"></div><script type=\"text/javascript\">require([\"plotly\"], function(Plotly) { window.PLOTLYENV=window.PLOTLYENV || {};window.PLOTLYENV.BASE_URL=\"https://plot.ly\";Plotly.newPlot(\"e803a680-f4ca-4c8f-8267-34db575c1168\", [{\"colorscale\": [[0, \"#000000\"], [0.5, \"#FFFFFF\"], [1, \"#ffffff\"]], \"hoverinfo\": \"none\", \"opacity\": 0.75, \"showscale\": false, \"z\": [[0, 0, 0, 0, 0], [0.5, 0.5, 0.5, 0.5, 0.5], [1, 1, 1, 1, 1], [0.5, 0.5, 0.5, 0.5, 0.5], [1, 1, 1, 1, 1], [0.5, 0.5, 0.5, 0.5, 0.5], [1, 1, 1, 1, 1], [0.5, 0.5, 0.5, 0.5, 0.5], [1, 1, 1, 1, 1], [0.5, 0.5, 0.5, 0.5, 0.5], [1, 1, 1, 1, 1]], \"type\": \"heatmap\", \"uid\": \"55fe295e-4b79-440b-b2e5-ceb5afd31289\"}], {\"annotations\": [{\"align\": \"left\", \"font\": {\"color\": \"#ffffff\"}, \"showarrow\": false, \"text\": \"<b>Sequence Length</b>\", \"x\": -0.45, \"xanchor\": \"left\", \"xref\": \"x\", \"y\": 0, \"yref\": \"y\"}, {\"align\": \"left\", \"font\": {\"color\": \"#ffffff\"}, \"showarrow\": false, \"text\": \"<b>OPT</b>\", \"x\": 0.55, \"xanchor\": \"left\", \"xref\": \"x\", \"y\": 0, \"yref\": \"y\"}, {\"align\": \"left\", \"font\": {\"color\": \"#ffffff\"}, \"showarrow\": false, \"text\": \"<b>MTF</b>\", \"x\": 1.55, \"xanchor\": \"left\", \"xref\": \"x\", \"y\": 0, \"yref\": \"y\"}, {\"align\": \"left\", \"font\": {\"color\": \"#ffffff\"}, \"showarrow\": false, \"text\": \"<b>Transpose</b>\", \"x\": 2.55, \"xanchor\": \"left\", \"xref\": \"x\", \"y\": 0, \"yref\": \"y\"}, {\"align\": \"left\", \"font\": {\"color\": \"#ffffff\"}, \"showarrow\": false, \"text\": \"<b>2-in-a-Row</b>\", \"x\": 3.55, \"xanchor\": \"left\", \"xref\": \"x\", \"y\": 0, \"yref\": \"y\"}, {\"align\": \"left\", \"font\": {\"color\": \"#000000\"}, \"showarrow\": false, \"text\": \"10000\", \"x\": -0.45, \"xanchor\": \"left\", \"xref\": \"x\", \"y\": 1, \"yref\": \"y\"}, {\"align\": \"left\", \"font\": {\"color\": \"#000000\"}, \"showarrow\": false, \"text\": \"370252\", \"x\": 0.55, \"xanchor\": \"left\", \"xref\": \"x\", \"y\": 1, \"yref\": \"y\"}, {\"align\": \"left\", \"font\": {\"color\": \"#000000\"}, \"showarrow\": false, \"text\": \"48711\", \"x\": 1.55, \"xanchor\": \"left\", \"xref\": \"x\", \"y\": 1, \"yref\": \"y\"}, {\"align\": \"left\", \"font\": {\"color\": \"#000000\"}, \"showarrow\": false, \"text\": \"399209\", \"x\": 2.55, \"xanchor\": \"left\", \"xref\": \"x\", \"y\": 1, \"yref\": \"y\"}, {\"align\": \"left\", \"font\": {\"color\": \"#000000\"}, \"showarrow\": false, \"text\": \"130709\", \"x\": 3.55, \"xanchor\": \"left\", \"xref\": \"x\", \"y\": 1, \"yref\": \"y\"}, {\"align\": \"left\", \"font\": {\"color\": \"#000000\"}, \"showarrow\": false, \"text\": \"20000\", \"x\": -0.45, \"xanchor\": \"left\", \"xref\": \"x\", \"y\": 2, \"yref\": \"y\"}, {\"align\": \"left\", \"font\": {\"color\": \"#000000\"}, \"showarrow\": false, \"text\": \"820381\", \"x\": 0.55, \"xanchor\": \"left\", \"xref\": \"x\", \"y\": 2, \"yref\": \"y\"}, {\"align\": \"left\", \"font\": {\"color\": \"#000000\"}, \"showarrow\": false, \"text\": \"102619\", \"x\": 1.55, \"xanchor\": \"left\", \"xref\": \"x\", \"y\": 2, \"yref\": \"y\"}, {\"align\": \"left\", \"font\": {\"color\": \"#000000\"}, \"showarrow\": false, \"text\": \"827030\", \"x\": 2.55, \"xanchor\": \"left\", \"xref\": \"x\", \"y\": 2, \"yref\": \"y\"}, {\"align\": \"left\", \"font\": {\"color\": \"#000000\"}, \"showarrow\": false, \"text\": \"276458\", \"x\": 3.55, \"xanchor\": \"left\", \"xref\": \"x\", \"y\": 2, \"yref\": \"y\"}, {\"align\": \"left\", \"font\": {\"color\": \"#000000\"}, \"showarrow\": false, \"text\": \"30000\", \"x\": -0.45, \"xanchor\": \"left\", \"xref\": \"x\", \"y\": 3, \"yref\": \"y\"}, {\"align\": \"left\", \"font\": {\"color\": \"#000000\"}, \"showarrow\": false, \"text\": \"1276990\", \"x\": 0.55, \"xanchor\": \"left\", \"xref\": \"x\", \"y\": 3, \"yref\": \"y\"}, {\"align\": \"left\", \"font\": {\"color\": \"#000000\"}, \"showarrow\": false, \"text\": \"145860\", \"x\": 1.55, \"xanchor\": \"left\", \"xref\": \"x\", \"y\": 3, \"yref\": \"y\"}, {\"align\": \"left\", \"font\": {\"color\": \"#000000\"}, \"showarrow\": false, \"text\": \"1247614\", \"x\": 2.55, \"xanchor\": \"left\", \"xref\": \"x\", \"y\": 3, \"yref\": \"y\"}, {\"align\": \"left\", \"font\": {\"color\": \"#000000\"}, \"showarrow\": false, \"text\": \"402006\", \"x\": 3.55, \"xanchor\": \"left\", \"xref\": \"x\", \"y\": 3, \"yref\": \"y\"}, {\"align\": \"left\", \"font\": {\"color\": \"#000000\"}, \"showarrow\": false, \"text\": \"40000\", \"x\": -0.45, \"xanchor\": \"left\", \"xref\": \"x\", \"y\": 4, \"yref\": \"y\"}, {\"align\": \"left\", \"font\": {\"color\": \"#000000\"}, \"showarrow\": false, \"text\": \"1734059\", \"x\": 0.55, \"xanchor\": \"left\", \"xref\": \"x\", \"y\": 4, \"yref\": \"y\"}, {\"align\": \"left\", \"font\": {\"color\": \"#000000\"}, \"showarrow\": false, \"text\": \"199780\", \"x\": 1.55, \"xanchor\": \"left\", \"xref\": \"x\", \"y\": 4, \"yref\": \"y\"}, {\"align\": \"left\", \"font\": {\"color\": \"#000000\"}, \"showarrow\": false, \"text\": \"1641955\", \"x\": 2.55, \"xanchor\": \"left\", \"xref\": \"x\", \"y\": 4, \"yref\": \"y\"}, {\"align\": \"left\", \"font\": {\"color\": \"#000000\"}, \"showarrow\": false, \"text\": \"542278\", \"x\": 3.55, \"xanchor\": \"left\", \"xref\": \"x\", \"y\": 4, \"yref\": \"y\"}, {\"align\": \"left\", \"font\": {\"color\": \"#000000\"}, \"showarrow\": false, \"text\": \"50000\", \"x\": -0.45, \"xanchor\": \"left\", \"xref\": \"x\", \"y\": 5, \"yref\": \"y\"}, {\"align\": \"left\", \"font\": {\"color\": \"#000000\"}, \"showarrow\": false, \"text\": \"2210474\", \"x\": 0.55, \"xanchor\": \"left\", \"xref\": \"x\", \"y\": 5, \"yref\": \"y\"}, {\"align\": \"left\", \"font\": {\"color\": \"#000000\"}, \"showarrow\": false, \"text\": \"246187\", \"x\": 1.55, \"xanchor\": \"left\", \"xref\": \"x\", \"y\": 5, \"yref\": \"y\"}, {\"align\": \"left\", \"font\": {\"color\": \"#000000\"}, \"showarrow\": false, \"text\": \"2089600\", \"x\": 2.55, \"xanchor\": \"left\", \"xref\": \"x\", \"y\": 5, \"yref\": \"y\"}, {\"align\": \"left\", \"font\": {\"color\": \"#000000\"}, \"showarrow\": false, \"text\": \"657863\", \"x\": 3.55, \"xanchor\": \"left\", \"xref\": \"x\", \"y\": 5, \"yref\": \"y\"}, {\"align\": \"left\", \"font\": {\"color\": \"#000000\"}, \"showarrow\": false, \"text\": \"60000\", \"x\": -0.45, \"xanchor\": \"left\", \"xref\": \"x\", \"y\": 6, \"yref\": \"y\"}, {\"align\": \"left\", \"font\": {\"color\": \"#000000\"}, \"showarrow\": false, \"text\": \"2699980\", \"x\": 0.55, \"xanchor\": \"left\", \"xref\": \"x\", \"y\": 6, \"yref\": \"y\"}, {\"align\": \"left\", \"font\": {\"color\": \"#000000\"}, \"showarrow\": false, \"text\": \"312213\", \"x\": 1.55, \"xanchor\": \"left\", \"xref\": \"x\", \"y\": 6, \"yref\": \"y\"}, {\"align\": \"left\", \"font\": {\"color\": \"#000000\"}, \"showarrow\": false, \"text\": \"2522646\", \"x\": 2.55, \"xanchor\": \"left\", \"xref\": \"x\", \"y\": 6, \"yref\": \"y\"}, {\"align\": \"left\", \"font\": {\"color\": \"#000000\"}, \"showarrow\": false, \"text\": \"849592\", \"x\": 3.55, \"xanchor\": \"left\", \"xref\": \"x\", \"y\": 6, \"yref\": \"y\"}, {\"align\": \"left\", \"font\": {\"color\": \"#000000\"}, \"showarrow\": false, \"text\": \"70000\", \"x\": -0.45, \"xanchor\": \"left\", \"xref\": \"x\", \"y\": 7, \"yref\": \"y\"}, {\"align\": \"left\", \"font\": {\"color\": \"#000000\"}, \"showarrow\": false, \"text\": \"3157841\", \"x\": 0.55, \"xanchor\": \"left\", \"xref\": \"x\", \"y\": 7, \"yref\": \"y\"}, {\"align\": \"left\", \"font\": {\"color\": \"#000000\"}, \"showarrow\": false, \"text\": \"349346\", \"x\": 1.55, \"xanchor\": \"left\", \"xref\": \"x\", \"y\": 7, \"yref\": \"y\"}, {\"align\": \"left\", \"font\": {\"color\": \"#000000\"}, \"showarrow\": false, \"text\": \"2915735\", \"x\": 2.55, \"xanchor\": \"left\", \"xref\": \"x\", \"y\": 7, \"yref\": \"y\"}, {\"align\": \"left\", \"font\": {\"color\": \"#000000\"}, \"showarrow\": false, \"text\": \"946142\", \"x\": 3.55, \"xanchor\": \"left\", \"xref\": \"x\", \"y\": 7, \"yref\": \"y\"}, {\"align\": \"left\", \"font\": {\"color\": \"#000000\"}, \"showarrow\": false, \"text\": \"80000\", \"x\": -0.45, \"xanchor\": \"left\", \"xref\": \"x\", \"y\": 8, \"yref\": \"y\"}, {\"align\": \"left\", \"font\": {\"color\": \"#000000\"}, \"showarrow\": false, \"text\": \"3631241\", \"x\": 0.55, \"xanchor\": \"left\", \"xref\": \"x\", \"y\": 8, \"yref\": \"y\"}, {\"align\": \"left\", \"font\": {\"color\": \"#000000\"}, \"showarrow\": false, \"text\": \"406437\", \"x\": 1.55, \"xanchor\": \"left\", \"xref\": \"x\", \"y\": 8, \"yref\": \"y\"}, {\"align\": \"left\", \"font\": {\"color\": \"#000000\"}, \"showarrow\": false, \"text\": \"3339321\", \"x\": 2.55, \"xanchor\": \"left\", \"xref\": \"x\", \"y\": 8, \"yref\": \"y\"}, {\"align\": \"left\", \"font\": {\"color\": \"#000000\"}, \"showarrow\": false, \"text\": \"1101822\", \"x\": 3.55, \"xanchor\": \"left\", \"xref\": \"x\", \"y\": 8, \"yref\": \"y\"}, {\"align\": \"left\", \"font\": {\"color\": \"#000000\"}, \"showarrow\": false, \"text\": \"90000\", \"x\": -0.45, \"xanchor\": \"left\", \"xref\": \"x\", \"y\": 9, \"yref\": \"y\"}, {\"align\": \"left\", \"font\": {\"color\": \"#000000\"}, \"showarrow\": false, \"text\": \"4126641\", \"x\": 0.55, \"xanchor\": \"left\", \"xref\": \"x\", \"y\": 9, \"yref\": \"y\"}, {\"align\": \"left\", \"font\": {\"color\": \"#000000\"}, \"showarrow\": false, \"text\": \"446196\", \"x\": 1.55, \"xanchor\": \"left\", \"xref\": \"x\", \"y\": 9, \"yref\": \"y\"}, {\"align\": \"left\", \"font\": {\"color\": \"#000000\"}, \"showarrow\": false, \"text\": \"3807479\", \"x\": 2.55, \"xanchor\": \"left\", \"xref\": \"x\", \"y\": 9, \"yref\": \"y\"}, {\"align\": \"left\", \"font\": {\"color\": \"#000000\"}, \"showarrow\": false, \"text\": \"1207012\", \"x\": 3.55, \"xanchor\": \"left\", \"xref\": \"x\", \"y\": 9, \"yref\": \"y\"}, {\"align\": \"left\", \"font\": {\"color\": \"#000000\"}, \"showarrow\": false, \"text\": \"100000\", \"x\": -0.45, \"xanchor\": \"left\", \"xref\": \"x\", \"y\": 10, \"yref\": \"y\"}, {\"align\": \"left\", \"font\": {\"color\": \"#000000\"}, \"showarrow\": false, \"text\": \"4566089\", \"x\": 0.55, \"xanchor\": \"left\", \"xref\": \"x\", \"y\": 10, \"yref\": \"y\"}, {\"align\": \"left\", \"font\": {\"color\": \"#000000\"}, \"showarrow\": false, \"text\": \"498426\", \"x\": 1.55, \"xanchor\": \"left\", \"xref\": \"x\", \"y\": 10, \"yref\": \"y\"}, {\"align\": \"left\", \"font\": {\"color\": \"#000000\"}, \"showarrow\": false, \"text\": \"4137932\", \"x\": 2.55, \"xanchor\": \"left\", \"xref\": \"x\", \"y\": 10, \"yref\": \"y\"}, {\"align\": \"left\", \"font\": {\"color\": \"#000000\"}, \"showarrow\": false, \"text\": \"1356133\", \"x\": 3.55, \"xanchor\": \"left\", \"xref\": \"x\", \"y\": 10, \"yref\": \"y\"}], \"height\": 380, \"margin\": {\"b\": 0, \"l\": 0, \"r\": 0, \"t\": 0}, \"xaxis\": {\"dtick\": 1, \"gridwidth\": 2, \"showticklabels\": false, \"tick0\": -0.5, \"ticks\": \"\", \"zeroline\": false}, \"yaxis\": {\"autorange\": \"reversed\", \"dtick\": 1, \"gridwidth\": 2, \"showticklabels\": false, \"tick0\": 0.5, \"ticks\": \"\", \"zeroline\": false}}, {\"showLink\": true, \"linkText\": \"Export to plot.ly\", \"plotlyServerURL\": \"https://plot.ly\"})});</script><script type=\"text/javascript\">window.addEventListener(\"resize\", function(){window._Plotly.Plots.resize(document.getElementById(\"e803a680-f4ca-4c8f-8267-34db575c1168\"));});</script>"
      ]
     },
     "metadata": {},
     "output_type": "display_data"
    }
   ],
   "source": [
    "df = pd.read_csv('list/staticMarkovHighListAccessCost.csv')\n",
    "\n",
    "trace1 = go.Scatter(\n",
    "                    x=df['Sequence Length'], y=df['Access Costs'], # Data\n",
    "                    mode='lines', name='OPT',\n",
    "                    line = dict(color = ('rgb(37, 120, 178)'))\n",
    "                    )\n",
    "\n",
    "df = pd.read_csv('list/mtfMarkovHighListAccessCost.csv')\n",
    "\n",
    "trace2 = go.Scatter(\n",
    "                    x=df['Sequence Length'], y=df['Access Costs'], # Data\n",
    "                    mode='lines', name='MTF',\n",
    "                    line = dict(color = ('rgb(253, 127, 40)'))\n",
    "                   )\n",
    "\n",
    "df = pd.read_csv('list/transposeMarkovHighListAccessCost.csv')\n",
    "\n",
    "trace3 = go.Scatter(\n",
    "                    x=df['Sequence Length'], y=df['Access Costs'], # Data\n",
    "                    mode='lines', name='Transpose',\n",
    "                    line = dict(color = ('rgb(50, 158, 52)'))\n",
    "                   )\n",
    "\n",
    "df = pd.read_csv('list/kInARowMarkovHighListAccessCost.csv')\n",
    "\n",
    "trace4 = go.Scatter(\n",
    "                    x=df['Sequence Length'], y=df['Access Costs'], # Data\n",
    "                    mode='lines', name='2-in-a-row',\n",
    "                    line = dict(color = ('rgb(211, 41, 47)'))\n",
    "                   )\n",
    "\n",
    "\n",
    "\n",
    "layout = go.Layout(title='List Access Cost: High Self Loop',\n",
    "                   plot_bgcolor='rgb(255, 255,255)',\n",
    "                   xaxis=dict(title='Sequence Length'),\n",
    "                   yaxis=dict(title='Access Cost'))\n",
    "\n",
    "fig = go.Figure(data=[trace1, trace2, trace3, trace4], layout=layout)\n",
    "\n",
    "iplot(fig)\n",
    "\n",
    "df = pd.read_csv('table/MarkovHighList.csv')\n",
    "colorscale = [[0, '#000000'],[.5, '#FFFFFF'],[1, '#ffffff']]\n",
    "table = ff.create_table(df, colorscale=colorscale)\n",
    "iplot(table)"
   ]
  },
  {
   "cell_type": "code",
   "execution_count": 24,
   "metadata": {},
   "outputs": [
    {
     "data": {
      "application/vnd.plotly.v1+json": {
       "config": {
        "linkText": "Export to plot.ly",
        "plotlyServerURL": "https://plot.ly",
        "showLink": true
       },
       "data": [
        {
         "line": {
          "color": "rgb(37, 120, 178)"
         },
         "mode": "lines",
         "name": "OPT",
         "type": "scatter",
         "uid": "a76aca79-857b-4fb4-bc7b-e1b4f20c72b4",
         "x": [
          10000,
          20000,
          30000,
          40000,
          50000,
          60000,
          70000,
          80000,
          90000,
          100000
         ],
         "y": [
          57955,
          119889,
          172453,
          244474,
          370333,
          333342,
          430378,
          443334,
          587873,
          599577
         ]
        },
        {
         "line": {
          "color": "rgb(253, 127, 40)"
         },
         "mode": "lines",
         "name": "Splay",
         "type": "scatter",
         "uid": "0f10277c-bd67-49ae-9ad4-a41983a46e15",
         "x": [
          10000,
          20000,
          30000,
          40000,
          50000,
          60000,
          70000,
          80000,
          90000,
          100000
         ],
         "y": [
          6553,
          14156,
          19807,
          26983,
          33323,
          41841,
          47003,
          54787,
          60192,
          67449
         ]
        },
        {
         "line": {
          "color": "rgb(50, 158, 52)"
         },
         "mode": "lines",
         "name": "Transpose",
         "type": "scatter",
         "uid": "e2fe4899-0540-4918-872e-9ff348905069",
         "x": [
          10000,
          20000,
          30000,
          40000,
          50000,
          60000,
          70000,
          80000,
          90000,
          100000
         ],
         "y": [
          26544,
          55343,
          80765,
          108242,
          132689,
          167179,
          189057,
          217302,
          241796,
          272070
         ]
        },
        {
         "line": {
          "color": "rgb(211, 41, 47)"
         },
         "mode": "lines",
         "name": "2-in-a-row",
         "type": "scatter",
         "uid": "5bccd938-1c04-4cfb-a7ed-3312a01077d3",
         "x": [
          10000,
          20000,
          30000,
          40000,
          50000,
          60000,
          70000,
          80000,
          90000,
          100000
         ],
         "y": [
          17684,
          37892,
          54051,
          73064,
          89963,
          113971,
          126981,
          148419,
          162265,
          182712
         ]
        }
       ],
       "layout": {
        "plot_bgcolor": "rgb(255, 255,255)",
        "title": "Trees Access Cost: High Self Loop",
        "xaxis": {
         "title": "Sequence Length"
        },
        "yaxis": {
         "title": "Access Cost"
        }
       }
      },
      "text/html": [
       "<div id=\"41f9899c-cc15-4673-865f-db2cba1687db\" style=\"height: 525px; width: 100%;\" class=\"plotly-graph-div\"></div><script type=\"text/javascript\">require([\"plotly\"], function(Plotly) { window.PLOTLYENV=window.PLOTLYENV || {};window.PLOTLYENV.BASE_URL=\"https://plot.ly\";Plotly.newPlot(\"41f9899c-cc15-4673-865f-db2cba1687db\", [{\"line\": {\"color\": \"rgb(37, 120, 178)\"}, \"mode\": \"lines\", \"name\": \"OPT\", \"x\": [10000, 20000, 30000, 40000, 50000, 60000, 70000, 80000, 90000, 100000], \"y\": [57955, 119889, 172453, 244474, 370333, 333342, 430378, 443334, 587873, 599577], \"type\": \"scatter\", \"uid\": \"a76aca79-857b-4fb4-bc7b-e1b4f20c72b4\"}, {\"line\": {\"color\": \"rgb(253, 127, 40)\"}, \"mode\": \"lines\", \"name\": \"Splay\", \"x\": [10000, 20000, 30000, 40000, 50000, 60000, 70000, 80000, 90000, 100000], \"y\": [6553, 14156, 19807, 26983, 33323, 41841, 47003, 54787, 60192, 67449], \"type\": \"scatter\", \"uid\": \"0f10277c-bd67-49ae-9ad4-a41983a46e15\"}, {\"line\": {\"color\": \"rgb(50, 158, 52)\"}, \"mode\": \"lines\", \"name\": \"Transpose\", \"x\": [10000, 20000, 30000, 40000, 50000, 60000, 70000, 80000, 90000, 100000], \"y\": [26544, 55343, 80765, 108242, 132689, 167179, 189057, 217302, 241796, 272070], \"type\": \"scatter\", \"uid\": \"e2fe4899-0540-4918-872e-9ff348905069\"}, {\"line\": {\"color\": \"rgb(211, 41, 47)\"}, \"mode\": \"lines\", \"name\": \"2-in-a-row\", \"x\": [10000, 20000, 30000, 40000, 50000, 60000, 70000, 80000, 90000, 100000], \"y\": [17684, 37892, 54051, 73064, 89963, 113971, 126981, 148419, 162265, 182712], \"type\": \"scatter\", \"uid\": \"5bccd938-1c04-4cfb-a7ed-3312a01077d3\"}], {\"plot_bgcolor\": \"rgb(255, 255,255)\", \"title\": \"Trees Access Cost: High Self Loop\", \"xaxis\": {\"title\": \"Sequence Length\"}, \"yaxis\": {\"title\": \"Access Cost\"}}, {\"showLink\": true, \"linkText\": \"Export to plot.ly\", \"plotlyServerURL\": \"https://plot.ly\"})});</script><script type=\"text/javascript\">window.addEventListener(\"resize\", function(){window._Plotly.Plots.resize(document.getElementById(\"41f9899c-cc15-4673-865f-db2cba1687db\"));});</script>"
      ],
      "text/vnd.plotly.v1+html": [
       "<div id=\"41f9899c-cc15-4673-865f-db2cba1687db\" style=\"height: 525px; width: 100%;\" class=\"plotly-graph-div\"></div><script type=\"text/javascript\">require([\"plotly\"], function(Plotly) { window.PLOTLYENV=window.PLOTLYENV || {};window.PLOTLYENV.BASE_URL=\"https://plot.ly\";Plotly.newPlot(\"41f9899c-cc15-4673-865f-db2cba1687db\", [{\"line\": {\"color\": \"rgb(37, 120, 178)\"}, \"mode\": \"lines\", \"name\": \"OPT\", \"x\": [10000, 20000, 30000, 40000, 50000, 60000, 70000, 80000, 90000, 100000], \"y\": [57955, 119889, 172453, 244474, 370333, 333342, 430378, 443334, 587873, 599577], \"type\": \"scatter\", \"uid\": \"a76aca79-857b-4fb4-bc7b-e1b4f20c72b4\"}, {\"line\": {\"color\": \"rgb(253, 127, 40)\"}, \"mode\": \"lines\", \"name\": \"Splay\", \"x\": [10000, 20000, 30000, 40000, 50000, 60000, 70000, 80000, 90000, 100000], \"y\": [6553, 14156, 19807, 26983, 33323, 41841, 47003, 54787, 60192, 67449], \"type\": \"scatter\", \"uid\": \"0f10277c-bd67-49ae-9ad4-a41983a46e15\"}, {\"line\": {\"color\": \"rgb(50, 158, 52)\"}, \"mode\": \"lines\", \"name\": \"Transpose\", \"x\": [10000, 20000, 30000, 40000, 50000, 60000, 70000, 80000, 90000, 100000], \"y\": [26544, 55343, 80765, 108242, 132689, 167179, 189057, 217302, 241796, 272070], \"type\": \"scatter\", \"uid\": \"e2fe4899-0540-4918-872e-9ff348905069\"}, {\"line\": {\"color\": \"rgb(211, 41, 47)\"}, \"mode\": \"lines\", \"name\": \"2-in-a-row\", \"x\": [10000, 20000, 30000, 40000, 50000, 60000, 70000, 80000, 90000, 100000], \"y\": [17684, 37892, 54051, 73064, 89963, 113971, 126981, 148419, 162265, 182712], \"type\": \"scatter\", \"uid\": \"5bccd938-1c04-4cfb-a7ed-3312a01077d3\"}], {\"plot_bgcolor\": \"rgb(255, 255,255)\", \"title\": \"Trees Access Cost: High Self Loop\", \"xaxis\": {\"title\": \"Sequence Length\"}, \"yaxis\": {\"title\": \"Access Cost\"}}, {\"showLink\": true, \"linkText\": \"Export to plot.ly\", \"plotlyServerURL\": \"https://plot.ly\"})});</script><script type=\"text/javascript\">window.addEventListener(\"resize\", function(){window._Plotly.Plots.resize(document.getElementById(\"41f9899c-cc15-4673-865f-db2cba1687db\"));});</script>"
      ]
     },
     "metadata": {},
     "output_type": "display_data"
    },
    {
     "data": {
      "application/vnd.plotly.v1+json": {
       "config": {
        "linkText": "Export to plot.ly",
        "plotlyServerURL": "https://plot.ly",
        "showLink": true
       },
       "data": [
        {
         "colorscale": [
          [
           0,
           "#000000"
          ],
          [
           0.5,
           "#FFFFFF"
          ],
          [
           1,
           "#ffffff"
          ]
         ],
         "hoverinfo": "none",
         "opacity": 0.75,
         "showscale": false,
         "type": "heatmap",
         "uid": "9a5cd01f-29c7-4760-a318-21ec90ee7381",
         "z": [
          [
           0,
           0,
           0,
           0,
           0
          ],
          [
           0.5,
           0.5,
           0.5,
           0.5,
           0.5
          ],
          [
           1,
           1,
           1,
           1,
           1
          ],
          [
           0.5,
           0.5,
           0.5,
           0.5,
           0.5
          ],
          [
           1,
           1,
           1,
           1,
           1
          ],
          [
           0.5,
           0.5,
           0.5,
           0.5,
           0.5
          ],
          [
           1,
           1,
           1,
           1,
           1
          ],
          [
           0.5,
           0.5,
           0.5,
           0.5,
           0.5
          ],
          [
           1,
           1,
           1,
           1,
           1
          ],
          [
           0.5,
           0.5,
           0.5,
           0.5,
           0.5
          ],
          [
           1,
           1,
           1,
           1,
           1
          ]
         ]
        }
       ],
       "layout": {
        "annotations": [
         {
          "align": "left",
          "font": {
           "color": "#ffffff"
          },
          "showarrow": false,
          "text": "<b>Sequence Length</b>",
          "x": -0.45,
          "xanchor": "left",
          "xref": "x",
          "y": 0,
          "yref": "y"
         },
         {
          "align": "left",
          "font": {
           "color": "#ffffff"
          },
          "showarrow": false,
          "text": "<b>OPT</b>",
          "x": 0.55,
          "xanchor": "left",
          "xref": "x",
          "y": 0,
          "yref": "y"
         },
         {
          "align": "left",
          "font": {
           "color": "#ffffff"
          },
          "showarrow": false,
          "text": "<b>Splay</b>",
          "x": 1.55,
          "xanchor": "left",
          "xref": "x",
          "y": 0,
          "yref": "y"
         },
         {
          "align": "left",
          "font": {
           "color": "#ffffff"
          },
          "showarrow": false,
          "text": "<b>Transpose</b>",
          "x": 2.55,
          "xanchor": "left",
          "xref": "x",
          "y": 0,
          "yref": "y"
         },
         {
          "align": "left",
          "font": {
           "color": "#ffffff"
          },
          "showarrow": false,
          "text": "<b>2-in-a-Row</b>",
          "x": 3.55,
          "xanchor": "left",
          "xref": "x",
          "y": 0,
          "yref": "y"
         },
         {
          "align": "left",
          "font": {
           "color": "#000000"
          },
          "showarrow": false,
          "text": "10000",
          "x": -0.45,
          "xanchor": "left",
          "xref": "x",
          "y": 1,
          "yref": "y"
         },
         {
          "align": "left",
          "font": {
           "color": "#000000"
          },
          "showarrow": false,
          "text": "57955",
          "x": 0.55,
          "xanchor": "left",
          "xref": "x",
          "y": 1,
          "yref": "y"
         },
         {
          "align": "left",
          "font": {
           "color": "#000000"
          },
          "showarrow": false,
          "text": "6553",
          "x": 1.55,
          "xanchor": "left",
          "xref": "x",
          "y": 1,
          "yref": "y"
         },
         {
          "align": "left",
          "font": {
           "color": "#000000"
          },
          "showarrow": false,
          "text": "26544",
          "x": 2.55,
          "xanchor": "left",
          "xref": "x",
          "y": 1,
          "yref": "y"
         },
         {
          "align": "left",
          "font": {
           "color": "#000000"
          },
          "showarrow": false,
          "text": "17684",
          "x": 3.55,
          "xanchor": "left",
          "xref": "x",
          "y": 1,
          "yref": "y"
         },
         {
          "align": "left",
          "font": {
           "color": "#000000"
          },
          "showarrow": false,
          "text": "20000",
          "x": -0.45,
          "xanchor": "left",
          "xref": "x",
          "y": 2,
          "yref": "y"
         },
         {
          "align": "left",
          "font": {
           "color": "#000000"
          },
          "showarrow": false,
          "text": "119889",
          "x": 0.55,
          "xanchor": "left",
          "xref": "x",
          "y": 2,
          "yref": "y"
         },
         {
          "align": "left",
          "font": {
           "color": "#000000"
          },
          "showarrow": false,
          "text": "14156",
          "x": 1.55,
          "xanchor": "left",
          "xref": "x",
          "y": 2,
          "yref": "y"
         },
         {
          "align": "left",
          "font": {
           "color": "#000000"
          },
          "showarrow": false,
          "text": "55343",
          "x": 2.55,
          "xanchor": "left",
          "xref": "x",
          "y": 2,
          "yref": "y"
         },
         {
          "align": "left",
          "font": {
           "color": "#000000"
          },
          "showarrow": false,
          "text": "37892",
          "x": 3.55,
          "xanchor": "left",
          "xref": "x",
          "y": 2,
          "yref": "y"
         },
         {
          "align": "left",
          "font": {
           "color": "#000000"
          },
          "showarrow": false,
          "text": "30000",
          "x": -0.45,
          "xanchor": "left",
          "xref": "x",
          "y": 3,
          "yref": "y"
         },
         {
          "align": "left",
          "font": {
           "color": "#000000"
          },
          "showarrow": false,
          "text": "172453",
          "x": 0.55,
          "xanchor": "left",
          "xref": "x",
          "y": 3,
          "yref": "y"
         },
         {
          "align": "left",
          "font": {
           "color": "#000000"
          },
          "showarrow": false,
          "text": "19807",
          "x": 1.55,
          "xanchor": "left",
          "xref": "x",
          "y": 3,
          "yref": "y"
         },
         {
          "align": "left",
          "font": {
           "color": "#000000"
          },
          "showarrow": false,
          "text": "80765",
          "x": 2.55,
          "xanchor": "left",
          "xref": "x",
          "y": 3,
          "yref": "y"
         },
         {
          "align": "left",
          "font": {
           "color": "#000000"
          },
          "showarrow": false,
          "text": "54051",
          "x": 3.55,
          "xanchor": "left",
          "xref": "x",
          "y": 3,
          "yref": "y"
         },
         {
          "align": "left",
          "font": {
           "color": "#000000"
          },
          "showarrow": false,
          "text": "40000",
          "x": -0.45,
          "xanchor": "left",
          "xref": "x",
          "y": 4,
          "yref": "y"
         },
         {
          "align": "left",
          "font": {
           "color": "#000000"
          },
          "showarrow": false,
          "text": "244474",
          "x": 0.55,
          "xanchor": "left",
          "xref": "x",
          "y": 4,
          "yref": "y"
         },
         {
          "align": "left",
          "font": {
           "color": "#000000"
          },
          "showarrow": false,
          "text": "26983",
          "x": 1.55,
          "xanchor": "left",
          "xref": "x",
          "y": 4,
          "yref": "y"
         },
         {
          "align": "left",
          "font": {
           "color": "#000000"
          },
          "showarrow": false,
          "text": "108242",
          "x": 2.55,
          "xanchor": "left",
          "xref": "x",
          "y": 4,
          "yref": "y"
         },
         {
          "align": "left",
          "font": {
           "color": "#000000"
          },
          "showarrow": false,
          "text": "73064",
          "x": 3.55,
          "xanchor": "left",
          "xref": "x",
          "y": 4,
          "yref": "y"
         },
         {
          "align": "left",
          "font": {
           "color": "#000000"
          },
          "showarrow": false,
          "text": "50000",
          "x": -0.45,
          "xanchor": "left",
          "xref": "x",
          "y": 5,
          "yref": "y"
         },
         {
          "align": "left",
          "font": {
           "color": "#000000"
          },
          "showarrow": false,
          "text": "370333",
          "x": 0.55,
          "xanchor": "left",
          "xref": "x",
          "y": 5,
          "yref": "y"
         },
         {
          "align": "left",
          "font": {
           "color": "#000000"
          },
          "showarrow": false,
          "text": "33323",
          "x": 1.55,
          "xanchor": "left",
          "xref": "x",
          "y": 5,
          "yref": "y"
         },
         {
          "align": "left",
          "font": {
           "color": "#000000"
          },
          "showarrow": false,
          "text": "132689",
          "x": 2.55,
          "xanchor": "left",
          "xref": "x",
          "y": 5,
          "yref": "y"
         },
         {
          "align": "left",
          "font": {
           "color": "#000000"
          },
          "showarrow": false,
          "text": "89963",
          "x": 3.55,
          "xanchor": "left",
          "xref": "x",
          "y": 5,
          "yref": "y"
         },
         {
          "align": "left",
          "font": {
           "color": "#000000"
          },
          "showarrow": false,
          "text": "60000",
          "x": -0.45,
          "xanchor": "left",
          "xref": "x",
          "y": 6,
          "yref": "y"
         },
         {
          "align": "left",
          "font": {
           "color": "#000000"
          },
          "showarrow": false,
          "text": "333342",
          "x": 0.55,
          "xanchor": "left",
          "xref": "x",
          "y": 6,
          "yref": "y"
         },
         {
          "align": "left",
          "font": {
           "color": "#000000"
          },
          "showarrow": false,
          "text": "41841",
          "x": 1.55,
          "xanchor": "left",
          "xref": "x",
          "y": 6,
          "yref": "y"
         },
         {
          "align": "left",
          "font": {
           "color": "#000000"
          },
          "showarrow": false,
          "text": "167179",
          "x": 2.55,
          "xanchor": "left",
          "xref": "x",
          "y": 6,
          "yref": "y"
         },
         {
          "align": "left",
          "font": {
           "color": "#000000"
          },
          "showarrow": false,
          "text": "113971",
          "x": 3.55,
          "xanchor": "left",
          "xref": "x",
          "y": 6,
          "yref": "y"
         },
         {
          "align": "left",
          "font": {
           "color": "#000000"
          },
          "showarrow": false,
          "text": "70000",
          "x": -0.45,
          "xanchor": "left",
          "xref": "x",
          "y": 7,
          "yref": "y"
         },
         {
          "align": "left",
          "font": {
           "color": "#000000"
          },
          "showarrow": false,
          "text": "430378",
          "x": 0.55,
          "xanchor": "left",
          "xref": "x",
          "y": 7,
          "yref": "y"
         },
         {
          "align": "left",
          "font": {
           "color": "#000000"
          },
          "showarrow": false,
          "text": "47003",
          "x": 1.55,
          "xanchor": "left",
          "xref": "x",
          "y": 7,
          "yref": "y"
         },
         {
          "align": "left",
          "font": {
           "color": "#000000"
          },
          "showarrow": false,
          "text": "189057",
          "x": 2.55,
          "xanchor": "left",
          "xref": "x",
          "y": 7,
          "yref": "y"
         },
         {
          "align": "left",
          "font": {
           "color": "#000000"
          },
          "showarrow": false,
          "text": "126981",
          "x": 3.55,
          "xanchor": "left",
          "xref": "x",
          "y": 7,
          "yref": "y"
         },
         {
          "align": "left",
          "font": {
           "color": "#000000"
          },
          "showarrow": false,
          "text": "80000",
          "x": -0.45,
          "xanchor": "left",
          "xref": "x",
          "y": 8,
          "yref": "y"
         },
         {
          "align": "left",
          "font": {
           "color": "#000000"
          },
          "showarrow": false,
          "text": "443334",
          "x": 0.55,
          "xanchor": "left",
          "xref": "x",
          "y": 8,
          "yref": "y"
         },
         {
          "align": "left",
          "font": {
           "color": "#000000"
          },
          "showarrow": false,
          "text": "54787",
          "x": 1.55,
          "xanchor": "left",
          "xref": "x",
          "y": 8,
          "yref": "y"
         },
         {
          "align": "left",
          "font": {
           "color": "#000000"
          },
          "showarrow": false,
          "text": "217302",
          "x": 2.55,
          "xanchor": "left",
          "xref": "x",
          "y": 8,
          "yref": "y"
         },
         {
          "align": "left",
          "font": {
           "color": "#000000"
          },
          "showarrow": false,
          "text": "148419",
          "x": 3.55,
          "xanchor": "left",
          "xref": "x",
          "y": 8,
          "yref": "y"
         },
         {
          "align": "left",
          "font": {
           "color": "#000000"
          },
          "showarrow": false,
          "text": "90000",
          "x": -0.45,
          "xanchor": "left",
          "xref": "x",
          "y": 9,
          "yref": "y"
         },
         {
          "align": "left",
          "font": {
           "color": "#000000"
          },
          "showarrow": false,
          "text": "587873",
          "x": 0.55,
          "xanchor": "left",
          "xref": "x",
          "y": 9,
          "yref": "y"
         },
         {
          "align": "left",
          "font": {
           "color": "#000000"
          },
          "showarrow": false,
          "text": "60192",
          "x": 1.55,
          "xanchor": "left",
          "xref": "x",
          "y": 9,
          "yref": "y"
         },
         {
          "align": "left",
          "font": {
           "color": "#000000"
          },
          "showarrow": false,
          "text": "241796",
          "x": 2.55,
          "xanchor": "left",
          "xref": "x",
          "y": 9,
          "yref": "y"
         },
         {
          "align": "left",
          "font": {
           "color": "#000000"
          },
          "showarrow": false,
          "text": "162265",
          "x": 3.55,
          "xanchor": "left",
          "xref": "x",
          "y": 9,
          "yref": "y"
         },
         {
          "align": "left",
          "font": {
           "color": "#000000"
          },
          "showarrow": false,
          "text": "100000",
          "x": -0.45,
          "xanchor": "left",
          "xref": "x",
          "y": 10,
          "yref": "y"
         },
         {
          "align": "left",
          "font": {
           "color": "#000000"
          },
          "showarrow": false,
          "text": "599577",
          "x": 0.55,
          "xanchor": "left",
          "xref": "x",
          "y": 10,
          "yref": "y"
         },
         {
          "align": "left",
          "font": {
           "color": "#000000"
          },
          "showarrow": false,
          "text": "67449",
          "x": 1.55,
          "xanchor": "left",
          "xref": "x",
          "y": 10,
          "yref": "y"
         },
         {
          "align": "left",
          "font": {
           "color": "#000000"
          },
          "showarrow": false,
          "text": "272070",
          "x": 2.55,
          "xanchor": "left",
          "xref": "x",
          "y": 10,
          "yref": "y"
         },
         {
          "align": "left",
          "font": {
           "color": "#000000"
          },
          "showarrow": false,
          "text": "182712",
          "x": 3.55,
          "xanchor": "left",
          "xref": "x",
          "y": 10,
          "yref": "y"
         }
        ],
        "height": 380,
        "margin": {
         "b": 0,
         "l": 0,
         "r": 0,
         "t": 0
        },
        "xaxis": {
         "dtick": 1,
         "gridwidth": 2,
         "showticklabels": false,
         "tick0": -0.5,
         "ticks": "",
         "zeroline": false
        },
        "yaxis": {
         "autorange": "reversed",
         "dtick": 1,
         "gridwidth": 2,
         "showticklabels": false,
         "tick0": 0.5,
         "ticks": "",
         "zeroline": false
        }
       }
      },
      "text/html": [
       "<div id=\"4d1778fc-daa7-427c-b784-3d14dd31a454\" style=\"height: 380px; width: 100%;\" class=\"plotly-graph-div\"></div><script type=\"text/javascript\">require([\"plotly\"], function(Plotly) { window.PLOTLYENV=window.PLOTLYENV || {};window.PLOTLYENV.BASE_URL=\"https://plot.ly\";Plotly.newPlot(\"4d1778fc-daa7-427c-b784-3d14dd31a454\", [{\"colorscale\": [[0, \"#000000\"], [0.5, \"#FFFFFF\"], [1, \"#ffffff\"]], \"hoverinfo\": \"none\", \"opacity\": 0.75, \"showscale\": false, \"z\": [[0, 0, 0, 0, 0], [0.5, 0.5, 0.5, 0.5, 0.5], [1, 1, 1, 1, 1], [0.5, 0.5, 0.5, 0.5, 0.5], [1, 1, 1, 1, 1], [0.5, 0.5, 0.5, 0.5, 0.5], [1, 1, 1, 1, 1], [0.5, 0.5, 0.5, 0.5, 0.5], [1, 1, 1, 1, 1], [0.5, 0.5, 0.5, 0.5, 0.5], [1, 1, 1, 1, 1]], \"type\": \"heatmap\", \"uid\": \"9a5cd01f-29c7-4760-a318-21ec90ee7381\"}], {\"annotations\": [{\"align\": \"left\", \"font\": {\"color\": \"#ffffff\"}, \"showarrow\": false, \"text\": \"<b>Sequence Length</b>\", \"x\": -0.45, \"xanchor\": \"left\", \"xref\": \"x\", \"y\": 0, \"yref\": \"y\"}, {\"align\": \"left\", \"font\": {\"color\": \"#ffffff\"}, \"showarrow\": false, \"text\": \"<b>OPT</b>\", \"x\": 0.55, \"xanchor\": \"left\", \"xref\": \"x\", \"y\": 0, \"yref\": \"y\"}, {\"align\": \"left\", \"font\": {\"color\": \"#ffffff\"}, \"showarrow\": false, \"text\": \"<b>Splay</b>\", \"x\": 1.55, \"xanchor\": \"left\", \"xref\": \"x\", \"y\": 0, \"yref\": \"y\"}, {\"align\": \"left\", \"font\": {\"color\": \"#ffffff\"}, \"showarrow\": false, \"text\": \"<b>Transpose</b>\", \"x\": 2.55, \"xanchor\": \"left\", \"xref\": \"x\", \"y\": 0, \"yref\": \"y\"}, {\"align\": \"left\", \"font\": {\"color\": \"#ffffff\"}, \"showarrow\": false, \"text\": \"<b>2-in-a-Row</b>\", \"x\": 3.55, \"xanchor\": \"left\", \"xref\": \"x\", \"y\": 0, \"yref\": \"y\"}, {\"align\": \"left\", \"font\": {\"color\": \"#000000\"}, \"showarrow\": false, \"text\": \"10000\", \"x\": -0.45, \"xanchor\": \"left\", \"xref\": \"x\", \"y\": 1, \"yref\": \"y\"}, {\"align\": \"left\", \"font\": {\"color\": \"#000000\"}, \"showarrow\": false, \"text\": \"57955\", \"x\": 0.55, \"xanchor\": \"left\", \"xref\": \"x\", \"y\": 1, \"yref\": \"y\"}, {\"align\": \"left\", \"font\": {\"color\": \"#000000\"}, \"showarrow\": false, \"text\": \"6553\", \"x\": 1.55, \"xanchor\": \"left\", \"xref\": \"x\", \"y\": 1, \"yref\": \"y\"}, {\"align\": \"left\", \"font\": {\"color\": \"#000000\"}, \"showarrow\": false, \"text\": \"26544\", \"x\": 2.55, \"xanchor\": \"left\", \"xref\": \"x\", \"y\": 1, \"yref\": \"y\"}, {\"align\": \"left\", \"font\": {\"color\": \"#000000\"}, \"showarrow\": false, \"text\": \"17684\", \"x\": 3.55, \"xanchor\": \"left\", \"xref\": \"x\", \"y\": 1, \"yref\": \"y\"}, {\"align\": \"left\", \"font\": {\"color\": \"#000000\"}, \"showarrow\": false, \"text\": \"20000\", \"x\": -0.45, \"xanchor\": \"left\", \"xref\": \"x\", \"y\": 2, \"yref\": \"y\"}, {\"align\": \"left\", \"font\": {\"color\": \"#000000\"}, \"showarrow\": false, \"text\": \"119889\", \"x\": 0.55, \"xanchor\": \"left\", \"xref\": \"x\", \"y\": 2, \"yref\": \"y\"}, {\"align\": \"left\", \"font\": {\"color\": \"#000000\"}, \"showarrow\": false, \"text\": \"14156\", \"x\": 1.55, \"xanchor\": \"left\", \"xref\": \"x\", \"y\": 2, \"yref\": \"y\"}, {\"align\": \"left\", \"font\": {\"color\": \"#000000\"}, \"showarrow\": false, \"text\": \"55343\", \"x\": 2.55, \"xanchor\": \"left\", \"xref\": \"x\", \"y\": 2, \"yref\": \"y\"}, {\"align\": \"left\", \"font\": {\"color\": \"#000000\"}, \"showarrow\": false, \"text\": \"37892\", \"x\": 3.55, \"xanchor\": \"left\", \"xref\": \"x\", \"y\": 2, \"yref\": \"y\"}, {\"align\": \"left\", \"font\": {\"color\": \"#000000\"}, \"showarrow\": false, \"text\": \"30000\", \"x\": -0.45, \"xanchor\": \"left\", \"xref\": \"x\", \"y\": 3, \"yref\": \"y\"}, {\"align\": \"left\", \"font\": {\"color\": \"#000000\"}, \"showarrow\": false, \"text\": \"172453\", \"x\": 0.55, \"xanchor\": \"left\", \"xref\": \"x\", \"y\": 3, \"yref\": \"y\"}, {\"align\": \"left\", \"font\": {\"color\": \"#000000\"}, \"showarrow\": false, \"text\": \"19807\", \"x\": 1.55, \"xanchor\": \"left\", \"xref\": \"x\", \"y\": 3, \"yref\": \"y\"}, {\"align\": \"left\", \"font\": {\"color\": \"#000000\"}, \"showarrow\": false, \"text\": \"80765\", \"x\": 2.55, \"xanchor\": \"left\", \"xref\": \"x\", \"y\": 3, \"yref\": \"y\"}, {\"align\": \"left\", \"font\": {\"color\": \"#000000\"}, \"showarrow\": false, \"text\": \"54051\", \"x\": 3.55, \"xanchor\": \"left\", \"xref\": \"x\", \"y\": 3, \"yref\": \"y\"}, {\"align\": \"left\", \"font\": {\"color\": \"#000000\"}, \"showarrow\": false, \"text\": \"40000\", \"x\": -0.45, \"xanchor\": \"left\", \"xref\": \"x\", \"y\": 4, \"yref\": \"y\"}, {\"align\": \"left\", \"font\": {\"color\": \"#000000\"}, \"showarrow\": false, \"text\": \"244474\", \"x\": 0.55, \"xanchor\": \"left\", \"xref\": \"x\", \"y\": 4, \"yref\": \"y\"}, {\"align\": \"left\", \"font\": {\"color\": \"#000000\"}, \"showarrow\": false, \"text\": \"26983\", \"x\": 1.55, \"xanchor\": \"left\", \"xref\": \"x\", \"y\": 4, \"yref\": \"y\"}, {\"align\": \"left\", \"font\": {\"color\": \"#000000\"}, \"showarrow\": false, \"text\": \"108242\", \"x\": 2.55, \"xanchor\": \"left\", \"xref\": \"x\", \"y\": 4, \"yref\": \"y\"}, {\"align\": \"left\", \"font\": {\"color\": \"#000000\"}, \"showarrow\": false, \"text\": \"73064\", \"x\": 3.55, \"xanchor\": \"left\", \"xref\": \"x\", \"y\": 4, \"yref\": \"y\"}, {\"align\": \"left\", \"font\": {\"color\": \"#000000\"}, \"showarrow\": false, \"text\": \"50000\", \"x\": -0.45, \"xanchor\": \"left\", \"xref\": \"x\", \"y\": 5, \"yref\": \"y\"}, {\"align\": \"left\", \"font\": {\"color\": \"#000000\"}, \"showarrow\": false, \"text\": \"370333\", \"x\": 0.55, \"xanchor\": \"left\", \"xref\": \"x\", \"y\": 5, \"yref\": \"y\"}, {\"align\": \"left\", \"font\": {\"color\": \"#000000\"}, \"showarrow\": false, \"text\": \"33323\", \"x\": 1.55, \"xanchor\": \"left\", \"xref\": \"x\", \"y\": 5, \"yref\": \"y\"}, {\"align\": \"left\", \"font\": {\"color\": \"#000000\"}, \"showarrow\": false, \"text\": \"132689\", \"x\": 2.55, \"xanchor\": \"left\", \"xref\": \"x\", \"y\": 5, \"yref\": \"y\"}, {\"align\": \"left\", \"font\": {\"color\": \"#000000\"}, \"showarrow\": false, \"text\": \"89963\", \"x\": 3.55, \"xanchor\": \"left\", \"xref\": \"x\", \"y\": 5, \"yref\": \"y\"}, {\"align\": \"left\", \"font\": {\"color\": \"#000000\"}, \"showarrow\": false, \"text\": \"60000\", \"x\": -0.45, \"xanchor\": \"left\", \"xref\": \"x\", \"y\": 6, \"yref\": \"y\"}, {\"align\": \"left\", \"font\": {\"color\": \"#000000\"}, \"showarrow\": false, \"text\": \"333342\", \"x\": 0.55, \"xanchor\": \"left\", \"xref\": \"x\", \"y\": 6, \"yref\": \"y\"}, {\"align\": \"left\", \"font\": {\"color\": \"#000000\"}, \"showarrow\": false, \"text\": \"41841\", \"x\": 1.55, \"xanchor\": \"left\", \"xref\": \"x\", \"y\": 6, \"yref\": \"y\"}, {\"align\": \"left\", \"font\": {\"color\": \"#000000\"}, \"showarrow\": false, \"text\": \"167179\", \"x\": 2.55, \"xanchor\": \"left\", \"xref\": \"x\", \"y\": 6, \"yref\": \"y\"}, {\"align\": \"left\", \"font\": {\"color\": \"#000000\"}, \"showarrow\": false, \"text\": \"113971\", \"x\": 3.55, \"xanchor\": \"left\", \"xref\": \"x\", \"y\": 6, \"yref\": \"y\"}, {\"align\": \"left\", \"font\": {\"color\": \"#000000\"}, \"showarrow\": false, \"text\": \"70000\", \"x\": -0.45, \"xanchor\": \"left\", \"xref\": \"x\", \"y\": 7, \"yref\": \"y\"}, {\"align\": \"left\", \"font\": {\"color\": \"#000000\"}, \"showarrow\": false, \"text\": \"430378\", \"x\": 0.55, \"xanchor\": \"left\", \"xref\": \"x\", \"y\": 7, \"yref\": \"y\"}, {\"align\": \"left\", \"font\": {\"color\": \"#000000\"}, \"showarrow\": false, \"text\": \"47003\", \"x\": 1.55, \"xanchor\": \"left\", \"xref\": \"x\", \"y\": 7, \"yref\": \"y\"}, {\"align\": \"left\", \"font\": {\"color\": \"#000000\"}, \"showarrow\": false, \"text\": \"189057\", \"x\": 2.55, \"xanchor\": \"left\", \"xref\": \"x\", \"y\": 7, \"yref\": \"y\"}, {\"align\": \"left\", \"font\": {\"color\": \"#000000\"}, \"showarrow\": false, \"text\": \"126981\", \"x\": 3.55, \"xanchor\": \"left\", \"xref\": \"x\", \"y\": 7, \"yref\": \"y\"}, {\"align\": \"left\", \"font\": {\"color\": \"#000000\"}, \"showarrow\": false, \"text\": \"80000\", \"x\": -0.45, \"xanchor\": \"left\", \"xref\": \"x\", \"y\": 8, \"yref\": \"y\"}, {\"align\": \"left\", \"font\": {\"color\": \"#000000\"}, \"showarrow\": false, \"text\": \"443334\", \"x\": 0.55, \"xanchor\": \"left\", \"xref\": \"x\", \"y\": 8, \"yref\": \"y\"}, {\"align\": \"left\", \"font\": {\"color\": \"#000000\"}, \"showarrow\": false, \"text\": \"54787\", \"x\": 1.55, \"xanchor\": \"left\", \"xref\": \"x\", \"y\": 8, \"yref\": \"y\"}, {\"align\": \"left\", \"font\": {\"color\": \"#000000\"}, \"showarrow\": false, \"text\": \"217302\", \"x\": 2.55, \"xanchor\": \"left\", \"xref\": \"x\", \"y\": 8, \"yref\": \"y\"}, {\"align\": \"left\", \"font\": {\"color\": \"#000000\"}, \"showarrow\": false, \"text\": \"148419\", \"x\": 3.55, \"xanchor\": \"left\", \"xref\": \"x\", \"y\": 8, \"yref\": \"y\"}, {\"align\": \"left\", \"font\": {\"color\": \"#000000\"}, \"showarrow\": false, \"text\": \"90000\", \"x\": -0.45, \"xanchor\": \"left\", \"xref\": \"x\", \"y\": 9, \"yref\": \"y\"}, {\"align\": \"left\", \"font\": {\"color\": \"#000000\"}, \"showarrow\": false, \"text\": \"587873\", \"x\": 0.55, \"xanchor\": \"left\", \"xref\": \"x\", \"y\": 9, \"yref\": \"y\"}, {\"align\": \"left\", \"font\": {\"color\": \"#000000\"}, \"showarrow\": false, \"text\": \"60192\", \"x\": 1.55, \"xanchor\": \"left\", \"xref\": \"x\", \"y\": 9, \"yref\": \"y\"}, {\"align\": \"left\", \"font\": {\"color\": \"#000000\"}, \"showarrow\": false, \"text\": \"241796\", \"x\": 2.55, \"xanchor\": \"left\", \"xref\": \"x\", \"y\": 9, \"yref\": \"y\"}, {\"align\": \"left\", \"font\": {\"color\": \"#000000\"}, \"showarrow\": false, \"text\": \"162265\", \"x\": 3.55, \"xanchor\": \"left\", \"xref\": \"x\", \"y\": 9, \"yref\": \"y\"}, {\"align\": \"left\", \"font\": {\"color\": \"#000000\"}, \"showarrow\": false, \"text\": \"100000\", \"x\": -0.45, \"xanchor\": \"left\", \"xref\": \"x\", \"y\": 10, \"yref\": \"y\"}, {\"align\": \"left\", \"font\": {\"color\": \"#000000\"}, \"showarrow\": false, \"text\": \"599577\", \"x\": 0.55, \"xanchor\": \"left\", \"xref\": \"x\", \"y\": 10, \"yref\": \"y\"}, {\"align\": \"left\", \"font\": {\"color\": \"#000000\"}, \"showarrow\": false, \"text\": \"67449\", \"x\": 1.55, \"xanchor\": \"left\", \"xref\": \"x\", \"y\": 10, \"yref\": \"y\"}, {\"align\": \"left\", \"font\": {\"color\": \"#000000\"}, \"showarrow\": false, \"text\": \"272070\", \"x\": 2.55, \"xanchor\": \"left\", \"xref\": \"x\", \"y\": 10, \"yref\": \"y\"}, {\"align\": \"left\", \"font\": {\"color\": \"#000000\"}, \"showarrow\": false, \"text\": \"182712\", \"x\": 3.55, \"xanchor\": \"left\", \"xref\": \"x\", \"y\": 10, \"yref\": \"y\"}], \"height\": 380, \"margin\": {\"b\": 0, \"l\": 0, \"r\": 0, \"t\": 0}, \"xaxis\": {\"dtick\": 1, \"gridwidth\": 2, \"showticklabels\": false, \"tick0\": -0.5, \"ticks\": \"\", \"zeroline\": false}, \"yaxis\": {\"autorange\": \"reversed\", \"dtick\": 1, \"gridwidth\": 2, \"showticklabels\": false, \"tick0\": 0.5, \"ticks\": \"\", \"zeroline\": false}}, {\"showLink\": true, \"linkText\": \"Export to plot.ly\", \"plotlyServerURL\": \"https://plot.ly\"})});</script><script type=\"text/javascript\">window.addEventListener(\"resize\", function(){window._Plotly.Plots.resize(document.getElementById(\"4d1778fc-daa7-427c-b784-3d14dd31a454\"));});</script>"
      ],
      "text/vnd.plotly.v1+html": [
       "<div id=\"4d1778fc-daa7-427c-b784-3d14dd31a454\" style=\"height: 380px; width: 100%;\" class=\"plotly-graph-div\"></div><script type=\"text/javascript\">require([\"plotly\"], function(Plotly) { window.PLOTLYENV=window.PLOTLYENV || {};window.PLOTLYENV.BASE_URL=\"https://plot.ly\";Plotly.newPlot(\"4d1778fc-daa7-427c-b784-3d14dd31a454\", [{\"colorscale\": [[0, \"#000000\"], [0.5, \"#FFFFFF\"], [1, \"#ffffff\"]], \"hoverinfo\": \"none\", \"opacity\": 0.75, \"showscale\": false, \"z\": [[0, 0, 0, 0, 0], [0.5, 0.5, 0.5, 0.5, 0.5], [1, 1, 1, 1, 1], [0.5, 0.5, 0.5, 0.5, 0.5], [1, 1, 1, 1, 1], [0.5, 0.5, 0.5, 0.5, 0.5], [1, 1, 1, 1, 1], [0.5, 0.5, 0.5, 0.5, 0.5], [1, 1, 1, 1, 1], [0.5, 0.5, 0.5, 0.5, 0.5], [1, 1, 1, 1, 1]], \"type\": \"heatmap\", \"uid\": \"9a5cd01f-29c7-4760-a318-21ec90ee7381\"}], {\"annotations\": [{\"align\": \"left\", \"font\": {\"color\": \"#ffffff\"}, \"showarrow\": false, \"text\": \"<b>Sequence Length</b>\", \"x\": -0.45, \"xanchor\": \"left\", \"xref\": \"x\", \"y\": 0, \"yref\": \"y\"}, {\"align\": \"left\", \"font\": {\"color\": \"#ffffff\"}, \"showarrow\": false, \"text\": \"<b>OPT</b>\", \"x\": 0.55, \"xanchor\": \"left\", \"xref\": \"x\", \"y\": 0, \"yref\": \"y\"}, {\"align\": \"left\", \"font\": {\"color\": \"#ffffff\"}, \"showarrow\": false, \"text\": \"<b>Splay</b>\", \"x\": 1.55, \"xanchor\": \"left\", \"xref\": \"x\", \"y\": 0, \"yref\": \"y\"}, {\"align\": \"left\", \"font\": {\"color\": \"#ffffff\"}, \"showarrow\": false, \"text\": \"<b>Transpose</b>\", \"x\": 2.55, \"xanchor\": \"left\", \"xref\": \"x\", \"y\": 0, \"yref\": \"y\"}, {\"align\": \"left\", \"font\": {\"color\": \"#ffffff\"}, \"showarrow\": false, \"text\": \"<b>2-in-a-Row</b>\", \"x\": 3.55, \"xanchor\": \"left\", \"xref\": \"x\", \"y\": 0, \"yref\": \"y\"}, {\"align\": \"left\", \"font\": {\"color\": \"#000000\"}, \"showarrow\": false, \"text\": \"10000\", \"x\": -0.45, \"xanchor\": \"left\", \"xref\": \"x\", \"y\": 1, \"yref\": \"y\"}, {\"align\": \"left\", \"font\": {\"color\": \"#000000\"}, \"showarrow\": false, \"text\": \"57955\", \"x\": 0.55, \"xanchor\": \"left\", \"xref\": \"x\", \"y\": 1, \"yref\": \"y\"}, {\"align\": \"left\", \"font\": {\"color\": \"#000000\"}, \"showarrow\": false, \"text\": \"6553\", \"x\": 1.55, \"xanchor\": \"left\", \"xref\": \"x\", \"y\": 1, \"yref\": \"y\"}, {\"align\": \"left\", \"font\": {\"color\": \"#000000\"}, \"showarrow\": false, \"text\": \"26544\", \"x\": 2.55, \"xanchor\": \"left\", \"xref\": \"x\", \"y\": 1, \"yref\": \"y\"}, {\"align\": \"left\", \"font\": {\"color\": \"#000000\"}, \"showarrow\": false, \"text\": \"17684\", \"x\": 3.55, \"xanchor\": \"left\", \"xref\": \"x\", \"y\": 1, \"yref\": \"y\"}, {\"align\": \"left\", \"font\": {\"color\": \"#000000\"}, \"showarrow\": false, \"text\": \"20000\", \"x\": -0.45, \"xanchor\": \"left\", \"xref\": \"x\", \"y\": 2, \"yref\": \"y\"}, {\"align\": \"left\", \"font\": {\"color\": \"#000000\"}, \"showarrow\": false, \"text\": \"119889\", \"x\": 0.55, \"xanchor\": \"left\", \"xref\": \"x\", \"y\": 2, \"yref\": \"y\"}, {\"align\": \"left\", \"font\": {\"color\": \"#000000\"}, \"showarrow\": false, \"text\": \"14156\", \"x\": 1.55, \"xanchor\": \"left\", \"xref\": \"x\", \"y\": 2, \"yref\": \"y\"}, {\"align\": \"left\", \"font\": {\"color\": \"#000000\"}, \"showarrow\": false, \"text\": \"55343\", \"x\": 2.55, \"xanchor\": \"left\", \"xref\": \"x\", \"y\": 2, \"yref\": \"y\"}, {\"align\": \"left\", \"font\": {\"color\": \"#000000\"}, \"showarrow\": false, \"text\": \"37892\", \"x\": 3.55, \"xanchor\": \"left\", \"xref\": \"x\", \"y\": 2, \"yref\": \"y\"}, {\"align\": \"left\", \"font\": {\"color\": \"#000000\"}, \"showarrow\": false, \"text\": \"30000\", \"x\": -0.45, \"xanchor\": \"left\", \"xref\": \"x\", \"y\": 3, \"yref\": \"y\"}, {\"align\": \"left\", \"font\": {\"color\": \"#000000\"}, \"showarrow\": false, \"text\": \"172453\", \"x\": 0.55, \"xanchor\": \"left\", \"xref\": \"x\", \"y\": 3, \"yref\": \"y\"}, {\"align\": \"left\", \"font\": {\"color\": \"#000000\"}, \"showarrow\": false, \"text\": \"19807\", \"x\": 1.55, \"xanchor\": \"left\", \"xref\": \"x\", \"y\": 3, \"yref\": \"y\"}, {\"align\": \"left\", \"font\": {\"color\": \"#000000\"}, \"showarrow\": false, \"text\": \"80765\", \"x\": 2.55, \"xanchor\": \"left\", \"xref\": \"x\", \"y\": 3, \"yref\": \"y\"}, {\"align\": \"left\", \"font\": {\"color\": \"#000000\"}, \"showarrow\": false, \"text\": \"54051\", \"x\": 3.55, \"xanchor\": \"left\", \"xref\": \"x\", \"y\": 3, \"yref\": \"y\"}, {\"align\": \"left\", \"font\": {\"color\": \"#000000\"}, \"showarrow\": false, \"text\": \"40000\", \"x\": -0.45, \"xanchor\": \"left\", \"xref\": \"x\", \"y\": 4, \"yref\": \"y\"}, {\"align\": \"left\", \"font\": {\"color\": \"#000000\"}, \"showarrow\": false, \"text\": \"244474\", \"x\": 0.55, \"xanchor\": \"left\", \"xref\": \"x\", \"y\": 4, \"yref\": \"y\"}, {\"align\": \"left\", \"font\": {\"color\": \"#000000\"}, \"showarrow\": false, \"text\": \"26983\", \"x\": 1.55, \"xanchor\": \"left\", \"xref\": \"x\", \"y\": 4, \"yref\": \"y\"}, {\"align\": \"left\", \"font\": {\"color\": \"#000000\"}, \"showarrow\": false, \"text\": \"108242\", \"x\": 2.55, \"xanchor\": \"left\", \"xref\": \"x\", \"y\": 4, \"yref\": \"y\"}, {\"align\": \"left\", \"font\": {\"color\": \"#000000\"}, \"showarrow\": false, \"text\": \"73064\", \"x\": 3.55, \"xanchor\": \"left\", \"xref\": \"x\", \"y\": 4, \"yref\": \"y\"}, {\"align\": \"left\", \"font\": {\"color\": \"#000000\"}, \"showarrow\": false, \"text\": \"50000\", \"x\": -0.45, \"xanchor\": \"left\", \"xref\": \"x\", \"y\": 5, \"yref\": \"y\"}, {\"align\": \"left\", \"font\": {\"color\": \"#000000\"}, \"showarrow\": false, \"text\": \"370333\", \"x\": 0.55, \"xanchor\": \"left\", \"xref\": \"x\", \"y\": 5, \"yref\": \"y\"}, {\"align\": \"left\", \"font\": {\"color\": \"#000000\"}, \"showarrow\": false, \"text\": \"33323\", \"x\": 1.55, \"xanchor\": \"left\", \"xref\": \"x\", \"y\": 5, \"yref\": \"y\"}, {\"align\": \"left\", \"font\": {\"color\": \"#000000\"}, \"showarrow\": false, \"text\": \"132689\", \"x\": 2.55, \"xanchor\": \"left\", \"xref\": \"x\", \"y\": 5, \"yref\": \"y\"}, {\"align\": \"left\", \"font\": {\"color\": \"#000000\"}, \"showarrow\": false, \"text\": \"89963\", \"x\": 3.55, \"xanchor\": \"left\", \"xref\": \"x\", \"y\": 5, \"yref\": \"y\"}, {\"align\": \"left\", \"font\": {\"color\": \"#000000\"}, \"showarrow\": false, \"text\": \"60000\", \"x\": -0.45, \"xanchor\": \"left\", \"xref\": \"x\", \"y\": 6, \"yref\": \"y\"}, {\"align\": \"left\", \"font\": {\"color\": \"#000000\"}, \"showarrow\": false, \"text\": \"333342\", \"x\": 0.55, \"xanchor\": \"left\", \"xref\": \"x\", \"y\": 6, \"yref\": \"y\"}, {\"align\": \"left\", \"font\": {\"color\": \"#000000\"}, \"showarrow\": false, \"text\": \"41841\", \"x\": 1.55, \"xanchor\": \"left\", \"xref\": \"x\", \"y\": 6, \"yref\": \"y\"}, {\"align\": \"left\", \"font\": {\"color\": \"#000000\"}, \"showarrow\": false, \"text\": \"167179\", \"x\": 2.55, \"xanchor\": \"left\", \"xref\": \"x\", \"y\": 6, \"yref\": \"y\"}, {\"align\": \"left\", \"font\": {\"color\": \"#000000\"}, \"showarrow\": false, \"text\": \"113971\", \"x\": 3.55, \"xanchor\": \"left\", \"xref\": \"x\", \"y\": 6, \"yref\": \"y\"}, {\"align\": \"left\", \"font\": {\"color\": \"#000000\"}, \"showarrow\": false, \"text\": \"70000\", \"x\": -0.45, \"xanchor\": \"left\", \"xref\": \"x\", \"y\": 7, \"yref\": \"y\"}, {\"align\": \"left\", \"font\": {\"color\": \"#000000\"}, \"showarrow\": false, \"text\": \"430378\", \"x\": 0.55, \"xanchor\": \"left\", \"xref\": \"x\", \"y\": 7, \"yref\": \"y\"}, {\"align\": \"left\", \"font\": {\"color\": \"#000000\"}, \"showarrow\": false, \"text\": \"47003\", \"x\": 1.55, \"xanchor\": \"left\", \"xref\": \"x\", \"y\": 7, \"yref\": \"y\"}, {\"align\": \"left\", \"font\": {\"color\": \"#000000\"}, \"showarrow\": false, \"text\": \"189057\", \"x\": 2.55, \"xanchor\": \"left\", \"xref\": \"x\", \"y\": 7, \"yref\": \"y\"}, {\"align\": \"left\", \"font\": {\"color\": \"#000000\"}, \"showarrow\": false, \"text\": \"126981\", \"x\": 3.55, \"xanchor\": \"left\", \"xref\": \"x\", \"y\": 7, \"yref\": \"y\"}, {\"align\": \"left\", \"font\": {\"color\": \"#000000\"}, \"showarrow\": false, \"text\": \"80000\", \"x\": -0.45, \"xanchor\": \"left\", \"xref\": \"x\", \"y\": 8, \"yref\": \"y\"}, {\"align\": \"left\", \"font\": {\"color\": \"#000000\"}, \"showarrow\": false, \"text\": \"443334\", \"x\": 0.55, \"xanchor\": \"left\", \"xref\": \"x\", \"y\": 8, \"yref\": \"y\"}, {\"align\": \"left\", \"font\": {\"color\": \"#000000\"}, \"showarrow\": false, \"text\": \"54787\", \"x\": 1.55, \"xanchor\": \"left\", \"xref\": \"x\", \"y\": 8, \"yref\": \"y\"}, {\"align\": \"left\", \"font\": {\"color\": \"#000000\"}, \"showarrow\": false, \"text\": \"217302\", \"x\": 2.55, \"xanchor\": \"left\", \"xref\": \"x\", \"y\": 8, \"yref\": \"y\"}, {\"align\": \"left\", \"font\": {\"color\": \"#000000\"}, \"showarrow\": false, \"text\": \"148419\", \"x\": 3.55, \"xanchor\": \"left\", \"xref\": \"x\", \"y\": 8, \"yref\": \"y\"}, {\"align\": \"left\", \"font\": {\"color\": \"#000000\"}, \"showarrow\": false, \"text\": \"90000\", \"x\": -0.45, \"xanchor\": \"left\", \"xref\": \"x\", \"y\": 9, \"yref\": \"y\"}, {\"align\": \"left\", \"font\": {\"color\": \"#000000\"}, \"showarrow\": false, \"text\": \"587873\", \"x\": 0.55, \"xanchor\": \"left\", \"xref\": \"x\", \"y\": 9, \"yref\": \"y\"}, {\"align\": \"left\", \"font\": {\"color\": \"#000000\"}, \"showarrow\": false, \"text\": \"60192\", \"x\": 1.55, \"xanchor\": \"left\", \"xref\": \"x\", \"y\": 9, \"yref\": \"y\"}, {\"align\": \"left\", \"font\": {\"color\": \"#000000\"}, \"showarrow\": false, \"text\": \"241796\", \"x\": 2.55, \"xanchor\": \"left\", \"xref\": \"x\", \"y\": 9, \"yref\": \"y\"}, {\"align\": \"left\", \"font\": {\"color\": \"#000000\"}, \"showarrow\": false, \"text\": \"162265\", \"x\": 3.55, \"xanchor\": \"left\", \"xref\": \"x\", \"y\": 9, \"yref\": \"y\"}, {\"align\": \"left\", \"font\": {\"color\": \"#000000\"}, \"showarrow\": false, \"text\": \"100000\", \"x\": -0.45, \"xanchor\": \"left\", \"xref\": \"x\", \"y\": 10, \"yref\": \"y\"}, {\"align\": \"left\", \"font\": {\"color\": \"#000000\"}, \"showarrow\": false, \"text\": \"599577\", \"x\": 0.55, \"xanchor\": \"left\", \"xref\": \"x\", \"y\": 10, \"yref\": \"y\"}, {\"align\": \"left\", \"font\": {\"color\": \"#000000\"}, \"showarrow\": false, \"text\": \"67449\", \"x\": 1.55, \"xanchor\": \"left\", \"xref\": \"x\", \"y\": 10, \"yref\": \"y\"}, {\"align\": \"left\", \"font\": {\"color\": \"#000000\"}, \"showarrow\": false, \"text\": \"272070\", \"x\": 2.55, \"xanchor\": \"left\", \"xref\": \"x\", \"y\": 10, \"yref\": \"y\"}, {\"align\": \"left\", \"font\": {\"color\": \"#000000\"}, \"showarrow\": false, \"text\": \"182712\", \"x\": 3.55, \"xanchor\": \"left\", \"xref\": \"x\", \"y\": 10, \"yref\": \"y\"}], \"height\": 380, \"margin\": {\"b\": 0, \"l\": 0, \"r\": 0, \"t\": 0}, \"xaxis\": {\"dtick\": 1, \"gridwidth\": 2, \"showticklabels\": false, \"tick0\": -0.5, \"ticks\": \"\", \"zeroline\": false}, \"yaxis\": {\"autorange\": \"reversed\", \"dtick\": 1, \"gridwidth\": 2, \"showticklabels\": false, \"tick0\": 0.5, \"ticks\": \"\", \"zeroline\": false}}, {\"showLink\": true, \"linkText\": \"Export to plot.ly\", \"plotlyServerURL\": \"https://plot.ly\"})});</script><script type=\"text/javascript\">window.addEventListener(\"resize\", function(){window._Plotly.Plots.resize(document.getElementById(\"4d1778fc-daa7-427c-b784-3d14dd31a454\"));});</script>"
      ]
     },
     "metadata": {},
     "output_type": "display_data"
    }
   ],
   "source": [
    "\n",
    "df = pd.read_csv('trees/staticMarkovHighTreesAccessCost.csv')\n",
    "\n",
    "trace1 = go.Scatter(\n",
    "                    x=df['Sequence Length'], y=df['Access Costs'], # Data\n",
    "                    mode='lines', name='OPT',\n",
    "                    line = dict(color = ('rgb(37, 120, 178)'))\n",
    "                   )\n",
    "\n",
    "df = pd.read_csv('trees/mtfMarkovHighTreesAccessCost.csv')\n",
    "\n",
    "trace2 = go.Scatter(\n",
    "                    x=df['Sequence Length'], y=df['Access Costs'], # Data\n",
    "                    mode='lines', name='Splay',\n",
    "                    line = dict(color = ('rgb(253, 127, 40)'))\n",
    "                   )\n",
    "\n",
    "df = pd.read_csv('trees/transposeMarkovHighTreesAccessCost.csv')\n",
    "\n",
    "trace3 = go.Scatter(\n",
    "                    x=df['Sequence Length'], y=df['Access Costs'], # Data\n",
    "                    mode='lines', name='Transpose',\n",
    "                    line = dict(color = ('rgb(50, 158, 52)'))\n",
    "                   )\n",
    "\n",
    "df = pd.read_csv('trees/kInARowMarkovHighTreesAccessCost.csv')\n",
    "\n",
    "trace4 = go.Scatter(\n",
    "                    x=df['Sequence Length'], y=df['Access Costs'], # Data\n",
    "                    mode='lines', name='2-in-a-row',\n",
    "                    line = dict(color = ('rgb(211, 41, 47)'))\n",
    "                   )\n",
    "\n",
    "\n",
    "\n",
    "layout = go.Layout(title='Trees Access Cost: High Self Loop',\n",
    "                   plot_bgcolor='rgb(255, 255,255)',\n",
    "                   xaxis=dict(title='Sequence Length'),\n",
    "                   yaxis=dict(title='Access Cost'))\n",
    "\n",
    "fig = go.Figure(data=[trace1, trace2, trace3, trace4], layout=layout)\n",
    "\n",
    "# Plot data in the notebook\n",
    "iplot(fig)\n",
    "\n",
    "df = pd.read_csv('table/MarkovHighTrees.csv')\n",
    "colorscale = [[0, '#000000'],[.5, '#FFFFFF'],[1, '#ffffff']]\n",
    "table = ff.create_table(df, colorscale=colorscale)\n",
    "iplot(table)"
   ]
  },
  {
   "cell_type": "code",
   "execution_count": 25,
   "metadata": {},
   "outputs": [
    {
     "data": {
      "application/vnd.plotly.v1+json": {
       "config": {
        "linkText": "Export to plot.ly",
        "plotlyServerURL": "https://plot.ly",
        "showLink": true
       },
       "data": [
        {
         "line": {
          "color": "#CBF4F0"
         },
         "mode": "markers",
         "name": "100000",
         "type": "scatter",
         "uid": "88c84e59-da29-49a2-a2b3-bc59f939159a",
         "x": [
          37,
          22,
          99,
          16,
          96,
          71,
          44,
          48,
          49,
          55,
          74,
          3,
          64,
          95,
          2,
          77,
          10,
          19,
          25,
          89,
          46,
          80,
          78,
          79,
          20,
          84,
          69,
          31,
          26,
          8,
          60,
          50,
          9,
          29,
          11,
          39,
          65,
          100,
          33,
          13,
          53,
          41,
          52,
          18,
          27,
          56,
          12,
          15,
          36,
          43,
          82,
          66,
          42,
          81,
          40,
          94,
          67,
          75,
          34,
          72,
          1,
          58,
          21,
          93,
          54,
          6,
          17,
          32,
          68,
          87,
          28,
          83,
          38,
          62,
          61,
          85,
          63,
          4,
          30,
          5,
          97,
          98,
          51,
          88,
          45,
          35,
          59,
          23,
          14,
          24,
          91,
          70,
          86,
          76,
          57,
          7,
          47,
          73,
          92,
          90
         ],
         "y": [
          0.72,
          0.39,
          1.52,
          1.27,
          0.87,
          1.36,
          1.66,
          0.35,
          0.99,
          1.6,
          0.56,
          1.05,
          0.72,
          0.77,
          2.04,
          1.38,
          0.81,
          0.78,
          0.54,
          1.16,
          1.68,
          1.16,
          0.86,
          1.37,
          0.79,
          1.2,
          1.97,
          0.42,
          0.97,
          0.73,
          0.82,
          1.79,
          0.29,
          1.28,
          0.74,
          1.66,
          0.89,
          1.38,
          1.28,
          0.74,
          0.78,
          0.44,
          1.17,
          2.09,
          0.34,
          0.71,
          0.65,
          0.5,
          0.83,
          0.9,
          0.66,
          2.27,
          1.56,
          0.57,
          1.44,
          1.47,
          1.36,
          1.24,
          1.81,
          0.26,
          0.44,
          1.37,
          1.01,
          1.15,
          0.83,
          0.55,
          0.54,
          1.01,
          0.68,
          1.14,
          1.26,
          0.63,
          0.72,
          1.86,
          0.7,
          0.49,
          1.42,
          0.69,
          0.77,
          1.37,
          1.05,
          0.31,
          1.16,
          0.89,
          0.46,
          1.09,
          1.01,
          0.73,
          1.11,
          1.15,
          0.98,
          1.19,
          0.78,
          0.87,
          1.61,
          0.74,
          0.42,
          0.4,
          0.92,
          0.89
         ]
        },
        {
         "line": {
          "color": "#A9EDE6"
         },
         "mode": "markers",
         "name": "200000",
         "type": "scatter",
         "uid": "bb97e0dc-9aea-4f5d-9fb8-98405ef85cd5",
         "x": [
          37,
          22,
          99,
          16,
          96,
          71,
          44,
          48,
          49,
          55,
          74,
          3,
          64,
          95,
          2,
          77,
          10,
          19,
          25,
          89,
          46,
          80,
          78,
          79,
          20,
          84,
          69,
          31,
          26,
          8,
          60,
          50,
          9,
          29,
          11,
          39,
          65,
          100,
          33,
          13,
          53,
          41,
          52,
          18,
          27,
          56,
          12,
          15,
          36,
          43,
          82,
          66,
          42,
          81,
          40,
          94,
          67,
          75,
          34,
          72,
          1,
          58,
          21,
          93,
          54,
          6,
          17,
          32,
          68,
          87,
          28,
          83,
          38,
          62,
          61,
          85,
          63,
          4,
          30,
          5,
          97,
          98,
          51,
          88,
          45,
          35,
          59,
          23,
          14,
          24,
          91,
          70,
          86,
          76,
          57,
          7,
          47,
          73,
          92,
          90
         ],
         "y": [
          0.53,
          0.745,
          0.8,
          0.695,
          0.73,
          1.235,
          0.77,
          0.89,
          1.41,
          1.38,
          1.285,
          1.14,
          1.12,
          0.86,
          1.28,
          1.62,
          0.555,
          1.54,
          1.24,
          0.65,
          0.53,
          0.91,
          0.58,
          0.735,
          1.26,
          1.475,
          1.47,
          1.14,
          1.4,
          0.885,
          0.605,
          1.49,
          1.41,
          1.37,
          0.965,
          0.46,
          1.075,
          1.27,
          0.825,
          0.905,
          0.93,
          1.445,
          0.99,
          1.07,
          1.19,
          0.59,
          0.38,
          1.205,
          1.11,
          0.85,
          1.215,
          0.895,
          0.66,
          1.085,
          0.94,
          1.21,
          0.955,
          1.345,
          0.555,
          0.755,
          0.93,
          0.81,
          1.275,
          1.4,
          0.635,
          0.935,
          1.28,
          1.215,
          0.92,
          0.79,
          1.035,
          1.645,
          0.91,
          0.705,
          0.86,
          1.25,
          0.945,
          1.245,
          1.035,
          1.485,
          0.97,
          0.89,
          0.645,
          0.99,
          0.58,
          0.64,
          0.825,
          1.06,
          0.465,
          1.375,
          0.72,
          0.93,
          0.8,
          0.9,
          0.89,
          0.905,
          1.06,
          1.11,
          1.485,
          0.845
         ]
        },
        {
         "line": {
          "color": "#86E6DC"
         },
         "mode": "markers",
         "name": "300000",
         "type": "scatter",
         "uid": "4e385869-68b9-4b5f-9969-bfaad26c3f7a",
         "x": [
          37,
          22,
          99,
          16,
          96,
          71,
          44,
          48,
          49,
          55,
          74,
          3,
          64,
          95,
          2,
          77,
          10,
          19,
          25,
          89,
          46,
          80,
          78,
          79,
          20,
          84,
          69,
          31,
          26,
          8,
          60,
          50,
          9,
          29,
          11,
          39,
          65,
          100,
          33,
          13,
          53,
          41,
          52,
          18,
          27,
          56,
          12,
          15,
          36,
          43,
          82,
          66,
          42,
          81,
          40,
          94,
          67,
          75,
          34,
          72,
          1,
          58,
          21,
          93,
          54,
          6,
          17,
          32,
          68,
          87,
          28,
          83,
          38,
          62,
          61,
          85,
          63,
          4,
          30,
          5,
          97,
          98,
          51,
          88,
          45,
          35,
          59,
          23,
          14,
          24,
          91,
          70,
          86,
          76,
          57,
          7,
          47,
          73,
          92,
          90
         ],
         "y": [
          1.096666666666667,
          0.71,
          0.8333333333333334,
          1.4166666666666667,
          0.8166666666666667,
          1.5266666666666666,
          0.9633333333333334,
          0.82,
          0.8166666666666667,
          0.89,
          0.6166666666666667,
          0.88,
          0.92,
          1.0233333333333334,
          0.7266666666666667,
          0.8766666666666667,
          0.75,
          1.106666666666667,
          1.16,
          1.06,
          1.1833333333333331,
          1.2133333333333334,
          1.5033333333333334,
          1.05,
          1.0933333333333333,
          0.7533333333333333,
          0.6666666666666666,
          1.01,
          1.39,
          0.99,
          0.8733333333333333,
          0.7733333333333333,
          0.9866666666666668,
          0.93,
          1.16,
          0.7166666666666667,
          0.73,
          1.0533333333333332,
          0.61,
          1.19,
          1.4866666666666666,
          1.3766666666666667,
          0.9333333333333332,
          1.32,
          1.6033333333333333,
          0.85,
          0.84,
          0.8033333333333333,
          1.2066666666666668,
          1.0533333333333332,
          0.8,
          1.0033333333333334,
          0.8333333333333334,
          0.8366666666666667,
          1.1133333333333333,
          1.1,
          1.21,
          0.65,
          0.7966666666666666,
          0.7566666666666667,
          0.9333333333333332,
          0.8533333333333334,
          1.2266666666666666,
          1.5033333333333334,
          1.0666666666666669,
          0.8233333333333334,
          0.68,
          0.8733333333333333,
          0.41,
          1,
          0.69,
          0.92,
          0.9266666666666666,
          1.1833333333333331,
          1.5233333333333334,
          1.0733333333333333,
          1.13,
          1.13,
          1.0133333333333334,
          0.7633333333333333,
          1.04,
          1.11,
          0.9933333333333332,
          1.0033333333333334,
          0.9766666666666668,
          1.596666666666667,
          1.1766666666666667,
          0.4633333333333333,
          1.086666666666667,
          1.23,
          0.98,
          0.8933333333333333,
          1.0133333333333334,
          1.05,
          1.43,
          0.5866666666666667,
          0.95,
          0.8433333333333334,
          1.4,
          0.9933333333333332
         ]
        },
        {
         "line": {
          "color": "#64DFD2"
         },
         "mode": "markers",
         "name": "400000",
         "type": "scatter",
         "uid": "f9a02bd4-0079-4e69-b61d-2d69bb021e53",
         "x": [
          37,
          22,
          99,
          16,
          96,
          71,
          44,
          48,
          49,
          55,
          74,
          3,
          64,
          95,
          2,
          77,
          10,
          19,
          25,
          89,
          46,
          80,
          78,
          79,
          20,
          84,
          69,
          31,
          26,
          8,
          60,
          50,
          9,
          29,
          11,
          39,
          65,
          100,
          33,
          13,
          53,
          41,
          52,
          18,
          27,
          56,
          12,
          15,
          36,
          43,
          82,
          66,
          42,
          81,
          40,
          94,
          67,
          75,
          34,
          72,
          1,
          58,
          21,
          93,
          54,
          6,
          17,
          32,
          68,
          87,
          28,
          83,
          38,
          62,
          61,
          85,
          63,
          4,
          30,
          5,
          97,
          98,
          51,
          88,
          45,
          35,
          59,
          23,
          14,
          24,
          91,
          70,
          86,
          76,
          57,
          7,
          47,
          73,
          92,
          90
         ],
         "y": [
          1.1475,
          0.9775,
          1.1125,
          1.3675,
          1.415,
          1.2025,
          1.385,
          0.92,
          1.35,
          1.03,
          0.735,
          0.9225,
          1.095,
          1.2175,
          0.7725,
          1.255,
          0.5925,
          1.0825,
          1.235,
          1.0425,
          0.895,
          1.285,
          1.0175,
          0.7725,
          0.8925,
          1.19,
          0.9325,
          0.7225,
          1.0775,
          1.0275,
          1.2125,
          0.8275,
          1.1425,
          1.2575,
          0.9475,
          0.8475,
          1.16,
          1.295,
          1.22,
          0.815,
          1.2475,
          0.835,
          0.955,
          0.9575,
          1.035,
          1.195,
          0.8625,
          1.1525,
          0.8675,
          0.98,
          0.8675,
          0.7,
          0.8225,
          1.8275,
          0.8575,
          0.6625,
          0.72,
          1.28,
          0.9325,
          0.6725,
          0.8875,
          1.1225,
          0.8875,
          0.7225,
          1.2,
          1.0475,
          0.5425,
          0.7925,
          1.2475,
          1.1675,
          0.8325,
          0.4475,
          1.375,
          0.775,
          1.1325,
          0.485,
          1.0175,
          0.9575,
          1.0075,
          0.78,
          0.88,
          1.1625,
          1,
          1.18,
          0.8225,
          0.8575,
          0.9225,
          1.0525,
          1.04,
          0.955,
          1.0925,
          0.945,
          1.1025,
          0.7525,
          1,
          0.9675,
          0.985,
          0.7775,
          1.205,
          1.0475
         ]
        },
        {
         "line": {
          "color": "#42D9C8"
         },
         "mode": "markers",
         "name": "500000",
         "type": "scatter",
         "uid": "cdddc03b-5950-4dd3-aeda-5f960399c41b",
         "x": [
          37,
          22,
          99,
          16,
          96,
          71,
          44,
          48,
          49,
          55,
          74,
          3,
          64,
          95,
          2,
          77,
          10,
          19,
          25,
          89,
          46,
          80,
          78,
          79,
          20,
          84,
          69,
          31,
          26,
          8,
          60,
          50,
          9,
          29,
          11,
          39,
          65,
          100,
          33,
          13,
          53,
          41,
          52,
          18,
          27,
          56,
          12,
          15,
          36,
          43,
          82,
          66,
          42,
          81,
          40,
          94,
          67,
          75,
          34,
          72,
          1,
          58,
          21,
          93,
          54,
          6,
          17,
          32,
          68,
          87,
          28,
          83,
          38,
          62,
          61,
          85,
          63,
          4,
          30,
          5,
          97,
          98,
          51,
          88,
          45,
          35,
          59,
          23,
          14,
          24,
          91,
          70,
          86,
          76,
          57,
          7,
          47,
          73,
          92,
          90
         ],
         "y": [
          0.8140000000000001,
          1.01,
          0.77,
          1.3659999999999999,
          0.902,
          1.178,
          1.038,
          1.028,
          0.934,
          1.288,
          0.97,
          1.244,
          0.958,
          0.932,
          1.358,
          0.9359999999999999,
          0.9359999999999999,
          0.924,
          1.094,
          1.568,
          1,
          0.868,
          0.7040000000000001,
          0.79,
          1.038,
          0.8759999999999999,
          1.264,
          0.812,
          0.9640000000000001,
          0.92,
          1.15,
          0.9940000000000001,
          1.464,
          0.862,
          1.006,
          0.83,
          0.992,
          0.83,
          1.006,
          0.73,
          0.99,
          0.6579999999999999,
          0.6859999999999999,
          0.968,
          0.898,
          1.072,
          0.784,
          1.374,
          0.746,
          0.856,
          1.042,
          1.082,
          1.14,
          0.792,
          0.8140000000000001,
          0.9740000000000001,
          1.46,
          0.7120000000000001,
          0.884,
          0.852,
          1.072,
          0.838,
          0.898,
          0.868,
          1.05,
          1.03,
          1.124,
          1.004,
          1.07,
          0.9279999999999999,
          1.056,
          0.83,
          1.172,
          0.738,
          0.9159999999999999,
          1.136,
          1.026,
          1.03,
          1.062,
          1.36,
          0.8540000000000001,
          0.932,
          0.89,
          1.218,
          0.83,
          1.3659999999999999,
          1.442,
          1.206,
          1.022,
          0.9259999999999999,
          0.922,
          0.826,
          0.968,
          0.862,
          1.35,
          1.1840000000000002,
          0.9440000000000001,
          1.0959999999999999,
          0.7240000000000001,
          1.0979999999999999
         ]
        },
        {
         "line": {
          "color": "#37B2A4"
         },
         "mode": "markers",
         "name": "600000",
         "type": "scatter",
         "uid": "130a7de5-d0b4-426e-adad-bea1922858c8",
         "x": [
          37,
          22,
          99,
          16,
          96,
          71,
          44,
          48,
          49,
          55,
          74,
          3,
          64,
          95,
          2,
          77,
          10,
          19,
          25,
          89,
          46,
          80,
          78,
          79,
          20,
          84,
          69,
          31,
          26,
          8,
          60,
          50,
          9,
          29,
          11,
          39,
          65,
          100,
          33,
          13,
          53,
          41,
          52,
          18,
          27,
          56,
          12,
          15,
          36,
          43,
          82,
          66,
          42,
          81,
          40,
          94,
          67,
          75,
          34,
          72,
          1,
          58,
          21,
          93,
          54,
          6,
          17,
          32,
          68,
          87,
          28,
          83,
          38,
          62,
          61,
          85,
          63,
          4,
          30,
          5,
          97,
          98,
          51,
          88,
          45,
          35,
          59,
          23,
          14,
          24,
          91,
          70,
          86,
          76,
          57,
          7,
          47,
          73,
          92,
          90
         ],
         "y": [
          0.8583333333333333,
          1.0133333333333334,
          1.0633333333333332,
          1.0716666666666668,
          1.1166666666666667,
          0.8483333333333334,
          0.8516666666666667,
          1.2333333333333334,
          0.9816666666666668,
          1.1,
          1.015,
          0.7933333333333333,
          0.955,
          1.23,
          1.0516666666666667,
          1.0416666666666667,
          0.765,
          0.8716666666666667,
          1.4583333333333333,
          1.1216666666666666,
          0.9316666666666666,
          1.0516666666666667,
          0.88,
          0.815,
          0.775,
          1.3016666666666667,
          0.9366666666666666,
          1.1883333333333332,
          0.99,
          1.0433333333333332,
          0.75,
          0.835,
          0.8633333333333333,
          0.9966666666666668,
          0.9483333333333334,
          1.1683333333333332,
          0.9733333333333334,
          1.231666666666667,
          1.1016666666666666,
          1.16,
          1.2366666666666666,
          0.875,
          1.2,
          0.875,
          0.935,
          1.2583333333333333,
          1.1233333333333333,
          1.01,
          0.9933333333333332,
          0.7816666666666666,
          0.99,
          1.096666666666667,
          1.015,
          0.8183333333333334,
          0.9683333333333334,
          0.9183333333333332,
          1.0616666666666668,
          1.3683333333333334,
          0.6866666666666666,
          1.153333333333333,
          0.9483333333333334,
          0.8283333333333334,
          0.7366666666666667,
          0.925,
          1.0416666666666667,
          0.9266666666666666,
          0.8916666666666667,
          0.9433333333333334,
          1.163333333333333,
          0.995,
          0.8416666666666667,
          0.6383333333333333,
          0.9983333333333332,
          0.9666666666666668,
          1.08,
          0.795,
          1.0733333333333333,
          1.153333333333333,
          1.06,
          0.85,
          0.985,
          1.0716666666666668,
          0.8183333333333334,
          0.9983333333333332,
          0.955,
          0.83,
          1.1233333333333333,
          1.1733333333333331,
          0.7066666666666667,
          1.1666666666666667,
          0.9733333333333334,
          0.9416666666666668,
          0.7683333333333333,
          1.1083333333333334,
          0.9216666666666666,
          1.393333333333333,
          1.2383333333333333,
          1.0083333333333333,
          1.115,
          1.0983333333333334
         ]
        },
        {
         "line": {
          "color": "#2A8B80"
         },
         "mode": "markers",
         "name": "700000",
         "type": "scatter",
         "uid": "a65f3df5-9961-46d2-a530-95e06344b196",
         "x": [
          37,
          22,
          99,
          16,
          96,
          71,
          44,
          48,
          49,
          55,
          74,
          3,
          64,
          95,
          2,
          77,
          10,
          19,
          25,
          89,
          46,
          80,
          78,
          79,
          20,
          84,
          69,
          31,
          26,
          8,
          60,
          50,
          9,
          29,
          11,
          39,
          65,
          100,
          33,
          13,
          53,
          41,
          52,
          18,
          27,
          56,
          12,
          15,
          36,
          43,
          82,
          66,
          42,
          81,
          40,
          94,
          67,
          75,
          34,
          72,
          1,
          58,
          21,
          93,
          54,
          6,
          17,
          32,
          68,
          87,
          28,
          83,
          38,
          62,
          61,
          85,
          63,
          4,
          30,
          5,
          97,
          98,
          51,
          88,
          45,
          35,
          59,
          23,
          14,
          24,
          91,
          70,
          86,
          76,
          57,
          7,
          47,
          73,
          92,
          90
         ],
         "y": [
          0.9071428571428573,
          1.0714285714285714,
          0.8985714285714286,
          0.8014285714285714,
          1.022857142857143,
          1.1042857142857143,
          1.0514285714285714,
          0.81,
          1.1814285714285715,
          0.78,
          0.9571428571428572,
          1.008571428571429,
          0.8471428571428572,
          1.0242857142857142,
          0.8185714285714286,
          0.73,
          0.9885714285714284,
          0.96,
          1.0585714285714285,
          1.0442857142857145,
          1.18,
          1.2628571428571431,
          1.06,
          1.25,
          0.8485714285714285,
          0.9042857142857142,
          1.3071428571428572,
          1.0042857142857142,
          1.1314285714285717,
          0.9528571428571428,
          1.0971428571428572,
          0.7657142857142857,
          0.9585714285714284,
          1.032857142857143,
          1.2185714285714286,
          1.0971428571428572,
          0.7757142857142857,
          1.1442857142857144,
          1.0485714285714285,
          0.6442857142857142,
          1.1371428571428572,
          0.87,
          1.1414285714285717,
          1.3757142857142857,
          1.0242857142857142,
          0.9985714285714286,
          0.9842857142857144,
          0.7828571428571428,
          1.0214285714285714,
          0.9428571428571428,
          1.0885714285714283,
          0.9085714285714286,
          1.1214285714285714,
          1.1357142857142857,
          1.3628571428571428,
          0.89,
          0.9585714285714284,
          0.7914285714285715,
          0.7842857142857143,
          0.9785714285714284,
          0.7814285714285715,
          0.9614285714285714,
          0.95,
          0.8557142857142858,
          1.0285714285714285,
          0.8871428571428571,
          1.3257142857142856,
          1.2228571428571429,
          0.7471428571428571,
          1.0357142857142858,
          0.9042857142857142,
          1.0714285714285714,
          0.8528571428571429,
          0.7171428571428572,
          0.9414285714285714,
          0.8628571428571429,
          1.3028571428571432,
          0.9414285714285714,
          0.9814285714285714,
          1.2314285714285715,
          1.062857142857143,
          1.0871428571428572,
          0.8614285714285714,
          1.1514285714285717,
          0.8585714285714285,
          1.0885714285714283,
          1,
          1.3371428571428572,
          0.7457142857142857,
          1.1342857142857143,
          0.9828571428571428,
          1.008571428571429,
          1.0742857142857145,
          0.9957142857142856,
          1.1228571428571428,
          0.9128571428571428,
          0.9428571428571428,
          1.0442857142857145,
          0.9214285714285714,
          1.0157142857142858
         ]
        },
        {
         "line": {
          "color": "#206e65"
         },
         "mode": "markers",
         "name": "800000",
         "type": "scatter",
         "uid": "d293dd38-2aef-431a-9917-69a01160dc4f",
         "x": [
          37,
          22,
          99,
          16,
          96,
          71,
          44,
          48,
          49,
          55,
          74,
          3,
          64,
          95,
          2,
          77,
          10,
          19,
          25,
          89,
          46,
          80,
          78,
          79,
          20,
          84,
          69,
          31,
          26,
          8,
          60,
          50,
          9,
          29,
          11,
          39,
          65,
          100,
          33,
          13,
          53,
          41,
          52,
          18,
          27,
          56,
          12,
          15,
          36,
          43,
          82,
          66,
          42,
          81,
          40,
          94,
          67,
          75,
          34,
          72,
          1,
          58,
          21,
          93,
          54,
          6,
          17,
          32,
          68,
          87,
          28,
          83,
          38,
          62,
          61,
          85,
          63,
          4,
          30,
          5,
          97,
          98,
          51,
          88,
          45,
          35,
          59,
          23,
          14,
          24,
          91,
          70,
          86,
          76,
          57,
          7,
          47,
          73,
          92,
          90
         ],
         "y": [
          0.7625,
          0.8075,
          1.04,
          1.09875,
          0.90375,
          1.0475,
          1.2525,
          0.95125,
          0.90375,
          1.0425,
          0.96875,
          0.655,
          1.0225,
          1.2375,
          1.09875,
          1.16125,
          1.02625,
          0.8925,
          0.89375,
          0.93375,
          1.07375,
          1.17125,
          0.99625,
          1.21125,
          1.02875,
          0.88125,
          1.10125,
          0.945,
          0.835,
          1.03125,
          1.01,
          0.7275,
          0.86,
          1.27625,
          1.18125,
          0.7575,
          1.05875,
          0.9125,
          0.91125,
          1.06875,
          1.16125,
          0.99625,
          0.985,
          0.955,
          1.03625,
          1.27625,
          0.81875,
          1.26125,
          0.83,
          0.80125,
          0.87375,
          0.81875,
          1.005,
          1.12375,
          0.8775,
          1.18125,
          1.0425,
          1.2275,
          0.87625,
          0.9725,
          0.9325,
          1.16125,
          1.16625,
          1.11375,
          0.995,
          1.1,
          0.98,
          0.94875,
          0.97125,
          0.8675,
          1.05375,
          0.8675,
          1.0975,
          0.9975,
          0.9,
          0.905,
          1.1725,
          1.07375,
          0.92375,
          0.81375,
          1.10625,
          0.97625,
          1.09875,
          1.1125,
          0.87625,
          0.76875,
          1.12125,
          0.75375,
          0.75,
          1.1525,
          0.9875,
          1.3275,
          1.07375,
          1.1475,
          0.91125,
          0.80375,
          0.84,
          0.9725,
          1.12125,
          1.19875
         ]
        },
        {
         "line": {
          "color": "#1d5b54"
         },
         "mode": "markers",
         "name": "900000",
         "type": "scatter",
         "uid": "0392f4e6-0242-4b4e-90dc-07a6d7357cf6",
         "x": [
          37,
          22,
          99,
          16,
          96,
          71,
          44,
          48,
          49,
          55,
          74,
          3,
          64,
          95,
          2,
          77,
          10,
          19,
          25,
          89,
          46,
          80,
          78,
          79,
          20,
          84,
          69,
          31,
          26,
          8,
          60,
          50,
          9,
          29,
          11,
          39,
          65,
          100,
          33,
          13,
          53,
          41,
          52,
          18,
          27,
          56,
          12,
          15,
          36,
          43,
          82,
          66,
          42,
          81,
          40,
          94,
          67,
          75,
          34,
          72,
          1,
          58,
          21,
          93,
          54,
          6,
          17,
          32,
          68,
          87,
          28,
          83,
          38,
          62,
          61,
          85,
          63,
          4,
          30,
          5,
          97,
          98,
          51,
          88,
          45,
          35,
          59,
          23,
          14,
          24,
          91,
          70,
          86,
          76,
          57,
          7,
          47,
          73,
          92,
          90
         ],
         "y": [
          0.8288888888888889,
          1.1722222222222225,
          0.9033333333333332,
          1.0511111111111109,
          0.8944444444444445,
          0.9744444444444444,
          1.1511111111111112,
          0.8188888888888889,
          0.9977777777777778,
          1.1611111111111112,
          1.1311111111111112,
          1.0844444444444443,
          1.068888888888889,
          1.03,
          1.1444444444444444,
          0.9822222222222222,
          1.1955555555555557,
          0.71,
          1.0422222222222222,
          1.1277777777777778,
          1.0133333333333334,
          0.9266666666666666,
          0.9222222222222224,
          1.1088888888888888,
          0.9466666666666668,
          1.002222222222222,
          1.2644444444444445,
          0.9855555555555556,
          0.9988888888888888,
          1.0733333333333333,
          0.9644444444444444,
          1.0155555555555555,
          0.7666666666666667,
          1.0044444444444445,
          1.0311111111111109,
          0.9255555555555556,
          0.76,
          0.9377777777777778,
          1.0711111111111111,
          1.0466666666666666,
          0.9522222222222222,
          1.0433333333333332,
          1.1133333333333333,
          0.7944444444444444,
          0.9511111111111112,
          1.2466666666666666,
          1.0377777777777777,
          1.2177777777777778,
          0.9511111111111112,
          0.9577777777777776,
          0.9855555555555556,
          0.94,
          0.9411111111111112,
          0.8711111111111111,
          0.96,
          1.23,
          0.8788888888888889,
          0.8544444444444445,
          1.0144444444444445,
          0.6544444444444445,
          1.2388888888888892,
          1.0211111111111109,
          1.0233333333333334,
          0.8544444444444445,
          1.0133333333333334,
          0.9766666666666668,
          0.8322222222222222,
          1.0266666666666666,
          1.0066666666666666,
          0.9777777777777776,
          1.0477777777777777,
          0.84,
          1.1866666666666668,
          1.022222222222222,
          0.9322222222222222,
          1.0444444444444445,
          0.9855555555555556,
          0.99,
          1.0733333333333333,
          0.7222222222222222,
          0.6555555555555556,
          1.1622222222222225,
          1.0888888888888888,
          0.8688888888888889,
          0.9155555555555556,
          1.0533333333333332,
          1.1055555555555556,
          0.9188888888888888,
          1.1644444444444444,
          1.0455555555555556,
          1.1833333333333331,
          1.1411111111111112,
          0.9111111111111112,
          0.9311111111111112,
          1.0566666666666666,
          1.2111111111111108,
          0.8777777777777778,
          0.9077777777777778,
          1.252222222222222,
          0.9022222222222224
         ]
        },
        {
         "line": {
          "color": "#0c463e"
         },
         "mode": "markers",
         "name": "1000000",
         "type": "scatter",
         "uid": "f8b8664f-35ed-4d4d-9412-e53134b7bd98",
         "x": [
          37,
          22,
          99,
          16,
          96,
          71,
          44,
          48,
          49,
          55,
          74,
          3,
          64,
          95,
          2,
          77,
          10,
          19,
          25,
          89,
          46,
          80,
          78,
          79,
          20,
          84,
          69,
          31,
          26,
          8,
          60,
          50,
          9,
          29,
          11,
          39,
          65,
          100,
          33,
          13,
          53,
          41,
          52,
          18,
          27,
          56,
          12,
          15,
          36,
          43,
          82,
          66,
          42,
          81,
          40,
          94,
          67,
          75,
          34,
          72,
          1,
          58,
          21,
          93,
          54,
          6,
          17,
          32,
          68,
          87,
          28,
          83,
          38,
          62,
          61,
          85,
          63,
          4,
          30,
          5,
          97,
          98,
          51,
          88,
          45,
          35,
          59,
          23,
          14,
          24,
          91,
          70,
          86,
          76,
          57,
          7,
          47,
          73,
          92,
          90
         ],
         "y": [
          0.7340000000000001,
          1.1440000000000001,
          0.9590000000000001,
          0.7190000000000001,
          0.8590000000000001,
          0.995,
          0.929,
          0.7829999999999999,
          1.178,
          1.081,
          1.127,
          0.977,
          0.9279999999999999,
          1.122,
          1.2,
          1.062,
          0.955,
          0.9640000000000001,
          0.909,
          1.08,
          0.9059999999999999,
          1.081,
          1.0290000000000001,
          0.963,
          1.015,
          1.0170000000000001,
          1.1320000000000001,
          1.212,
          1.1159999999999999,
          0.89,
          1.0390000000000001,
          0.966,
          0.713,
          0.879,
          0.991,
          1.012,
          1.016,
          0.983,
          0.9390000000000001,
          0.7759999999999999,
          0.8909999999999999,
          1.105,
          0.857,
          1.489,
          1.169,
          0.774,
          1.072,
          0.965,
          0.861,
          1.095,
          1.081,
          0.981,
          0.9109999999999999,
          1.063,
          0.9640000000000001,
          1.151,
          1.0270000000000001,
          1.1,
          0.8959999999999999,
          1.0290000000000001,
          1.193,
          1.12,
          1.042,
          1.0959999999999999,
          1.092,
          0.7,
          1.21,
          1.074,
          0.899,
          0.96,
          1.104,
          0.903,
          1.01,
          0.9840000000000001,
          1.016,
          0.89,
          1.083,
          1.143,
          0.7759999999999999,
          0.899,
          0.775,
          1.099,
          0.945,
          0.9329999999999999,
          1.05,
          1.229,
          1.073,
          0.95,
          1.05,
          1.0290000000000001,
          0.8590000000000001,
          1.054,
          1.3230000000000002,
          0.809,
          1.2409999999999999,
          0.768,
          0.838,
          0.9079999999999999,
          1.091,
          0.9209999999999999
         ]
        }
       ],
       "layout": {
        "plot_bgcolor": "rgb(255, 255,255)",
        "title": "High Self Loop Input/Frequency",
        "xaxis": {
         "title": "Input"
        },
        "yaxis": {
         "title": "Frequency (%)"
        }
       }
      },
      "text/html": [
       "<div id=\"092d9ec4-456e-4ee5-ae43-fe64754e316e\" style=\"height: 525px; width: 100%;\" class=\"plotly-graph-div\"></div><script type=\"text/javascript\">require([\"plotly\"], function(Plotly) { window.PLOTLYENV=window.PLOTLYENV || {};window.PLOTLYENV.BASE_URL=\"https://plot.ly\";Plotly.newPlot(\"092d9ec4-456e-4ee5-ae43-fe64754e316e\", [{\"line\": {\"color\": \"#CBF4F0\"}, \"mode\": \"markers\", \"name\": \"100000\", \"x\": [37, 22, 99, 16, 96, 71, 44, 48, 49, 55, 74, 3, 64, 95, 2, 77, 10, 19, 25, 89, 46, 80, 78, 79, 20, 84, 69, 31, 26, 8, 60, 50, 9, 29, 11, 39, 65, 100, 33, 13, 53, 41, 52, 18, 27, 56, 12, 15, 36, 43, 82, 66, 42, 81, 40, 94, 67, 75, 34, 72, 1, 58, 21, 93, 54, 6, 17, 32, 68, 87, 28, 83, 38, 62, 61, 85, 63, 4, 30, 5, 97, 98, 51, 88, 45, 35, 59, 23, 14, 24, 91, 70, 86, 76, 57, 7, 47, 73, 92, 90], \"y\": [0.72, 0.39, 1.52, 1.27, 0.87, 1.36, 1.66, 0.35, 0.99, 1.6, 0.56, 1.05, 0.72, 0.77, 2.04, 1.38, 0.81, 0.78, 0.54, 1.16, 1.68, 1.16, 0.86, 1.37, 0.79, 1.2, 1.97, 0.42, 0.97, 0.73, 0.82, 1.79, 0.29, 1.28, 0.74, 1.66, 0.89, 1.38, 1.28, 0.74, 0.78, 0.44, 1.17, 2.09, 0.34, 0.71, 0.65, 0.5, 0.83, 0.9, 0.66, 2.27, 1.56, 0.57, 1.44, 1.47, 1.36, 1.24, 1.81, 0.26, 0.44, 1.37, 1.01, 1.15, 0.83, 0.55, 0.54, 1.01, 0.68, 1.14, 1.26, 0.63, 0.72, 1.86, 0.7, 0.49, 1.42, 0.69, 0.77, 1.37, 1.05, 0.31, 1.16, 0.89, 0.46, 1.09, 1.01, 0.73, 1.11, 1.15, 0.98, 1.19, 0.78, 0.87, 1.61, 0.74, 0.42, 0.4, 0.92, 0.89], \"type\": \"scatter\", \"uid\": \"88c84e59-da29-49a2-a2b3-bc59f939159a\"}, {\"line\": {\"color\": \"#A9EDE6\"}, \"mode\": \"markers\", \"name\": \"200000\", \"x\": [37, 22, 99, 16, 96, 71, 44, 48, 49, 55, 74, 3, 64, 95, 2, 77, 10, 19, 25, 89, 46, 80, 78, 79, 20, 84, 69, 31, 26, 8, 60, 50, 9, 29, 11, 39, 65, 100, 33, 13, 53, 41, 52, 18, 27, 56, 12, 15, 36, 43, 82, 66, 42, 81, 40, 94, 67, 75, 34, 72, 1, 58, 21, 93, 54, 6, 17, 32, 68, 87, 28, 83, 38, 62, 61, 85, 63, 4, 30, 5, 97, 98, 51, 88, 45, 35, 59, 23, 14, 24, 91, 70, 86, 76, 57, 7, 47, 73, 92, 90], \"y\": [0.53, 0.745, 0.8, 0.695, 0.73, 1.235, 0.77, 0.89, 1.41, 1.38, 1.285, 1.14, 1.12, 0.86, 1.28, 1.62, 0.555, 1.54, 1.24, 0.65, 0.53, 0.91, 0.58, 0.735, 1.26, 1.475, 1.47, 1.14, 1.4, 0.885, 0.605, 1.49, 1.41, 1.37, 0.965, 0.46, 1.075, 1.27, 0.825, 0.905, 0.93, 1.445, 0.99, 1.07, 1.19, 0.59, 0.38, 1.205, 1.11, 0.85, 1.215, 0.895, 0.66, 1.085, 0.94, 1.21, 0.955, 1.345, 0.555, 0.755, 0.93, 0.81, 1.275, 1.4, 0.635, 0.935, 1.28, 1.215, 0.92, 0.79, 1.035, 1.645, 0.91, 0.705, 0.86, 1.25, 0.945, 1.245, 1.035, 1.485, 0.97, 0.89, 0.645, 0.99, 0.58, 0.64, 0.825, 1.06, 0.465, 1.375, 0.72, 0.93, 0.8, 0.9, 0.89, 0.905, 1.06, 1.11, 1.485, 0.845], \"type\": \"scatter\", \"uid\": \"bb97e0dc-9aea-4f5d-9fb8-98405ef85cd5\"}, {\"line\": {\"color\": \"#86E6DC\"}, \"mode\": \"markers\", \"name\": \"300000\", \"x\": [37, 22, 99, 16, 96, 71, 44, 48, 49, 55, 74, 3, 64, 95, 2, 77, 10, 19, 25, 89, 46, 80, 78, 79, 20, 84, 69, 31, 26, 8, 60, 50, 9, 29, 11, 39, 65, 100, 33, 13, 53, 41, 52, 18, 27, 56, 12, 15, 36, 43, 82, 66, 42, 81, 40, 94, 67, 75, 34, 72, 1, 58, 21, 93, 54, 6, 17, 32, 68, 87, 28, 83, 38, 62, 61, 85, 63, 4, 30, 5, 97, 98, 51, 88, 45, 35, 59, 23, 14, 24, 91, 70, 86, 76, 57, 7, 47, 73, 92, 90], \"y\": [1.096666666666667, 0.71, 0.8333333333333334, 1.4166666666666667, 0.8166666666666667, 1.5266666666666666, 0.9633333333333334, 0.82, 0.8166666666666667, 0.89, 0.6166666666666667, 0.88, 0.92, 1.0233333333333334, 0.7266666666666667, 0.8766666666666667, 0.75, 1.106666666666667, 1.16, 1.06, 1.1833333333333331, 1.2133333333333334, 1.5033333333333334, 1.05, 1.0933333333333333, 0.7533333333333333, 0.6666666666666666, 1.01, 1.39, 0.99, 0.8733333333333333, 0.7733333333333333, 0.9866666666666668, 0.93, 1.16, 0.7166666666666667, 0.73, 1.0533333333333332, 0.61, 1.19, 1.4866666666666666, 1.3766666666666667, 0.9333333333333332, 1.32, 1.6033333333333333, 0.85, 0.84, 0.8033333333333333, 1.2066666666666668, 1.0533333333333332, 0.8, 1.0033333333333334, 0.8333333333333334, 0.8366666666666667, 1.1133333333333333, 1.1, 1.21, 0.65, 0.7966666666666666, 0.7566666666666667, 0.9333333333333332, 0.8533333333333334, 1.2266666666666666, 1.5033333333333334, 1.0666666666666669, 0.8233333333333334, 0.68, 0.8733333333333333, 0.41, 1.0, 0.69, 0.92, 0.9266666666666666, 1.1833333333333331, 1.5233333333333334, 1.0733333333333333, 1.13, 1.13, 1.0133333333333334, 0.7633333333333333, 1.04, 1.11, 0.9933333333333332, 1.0033333333333334, 0.9766666666666668, 1.596666666666667, 1.1766666666666667, 0.4633333333333333, 1.086666666666667, 1.23, 0.98, 0.8933333333333333, 1.0133333333333334, 1.05, 1.43, 0.5866666666666667, 0.95, 0.8433333333333334, 1.4, 0.9933333333333332], \"type\": \"scatter\", \"uid\": \"4e385869-68b9-4b5f-9969-bfaad26c3f7a\"}, {\"line\": {\"color\": \"#64DFD2\"}, \"mode\": \"markers\", \"name\": \"400000\", \"x\": [37, 22, 99, 16, 96, 71, 44, 48, 49, 55, 74, 3, 64, 95, 2, 77, 10, 19, 25, 89, 46, 80, 78, 79, 20, 84, 69, 31, 26, 8, 60, 50, 9, 29, 11, 39, 65, 100, 33, 13, 53, 41, 52, 18, 27, 56, 12, 15, 36, 43, 82, 66, 42, 81, 40, 94, 67, 75, 34, 72, 1, 58, 21, 93, 54, 6, 17, 32, 68, 87, 28, 83, 38, 62, 61, 85, 63, 4, 30, 5, 97, 98, 51, 88, 45, 35, 59, 23, 14, 24, 91, 70, 86, 76, 57, 7, 47, 73, 92, 90], \"y\": [1.1475, 0.9775, 1.1125, 1.3675, 1.415, 1.2025, 1.385, 0.92, 1.35, 1.03, 0.735, 0.9225, 1.095, 1.2175, 0.7725, 1.255, 0.5925, 1.0825, 1.235, 1.0425, 0.895, 1.285, 1.0175, 0.7725, 0.8925, 1.19, 0.9325, 0.7225, 1.0775, 1.0275, 1.2125, 0.8275, 1.1425, 1.2575, 0.9475, 0.8475, 1.16, 1.295, 1.22, 0.815, 1.2475, 0.835, 0.955, 0.9575, 1.035, 1.195, 0.8625, 1.1525, 0.8675, 0.98, 0.8675, 0.7, 0.8225, 1.8275, 0.8575, 0.6625, 0.72, 1.28, 0.9325, 0.6725, 0.8875, 1.1225, 0.8875, 0.7225, 1.2, 1.0475, 0.5425, 0.7925, 1.2475, 1.1675, 0.8325, 0.4475, 1.375, 0.775, 1.1325, 0.485, 1.0175, 0.9575, 1.0075, 0.78, 0.88, 1.1625, 1.0, 1.18, 0.8225, 0.8575, 0.9225, 1.0525, 1.04, 0.955, 1.0925, 0.945, 1.1025, 0.7525, 1.0, 0.9675, 0.985, 0.7775, 1.205, 1.0475], \"type\": \"scatter\", \"uid\": \"f9a02bd4-0079-4e69-b61d-2d69bb021e53\"}, {\"line\": {\"color\": \"#42D9C8\"}, \"mode\": \"markers\", \"name\": \"500000\", \"x\": [37, 22, 99, 16, 96, 71, 44, 48, 49, 55, 74, 3, 64, 95, 2, 77, 10, 19, 25, 89, 46, 80, 78, 79, 20, 84, 69, 31, 26, 8, 60, 50, 9, 29, 11, 39, 65, 100, 33, 13, 53, 41, 52, 18, 27, 56, 12, 15, 36, 43, 82, 66, 42, 81, 40, 94, 67, 75, 34, 72, 1, 58, 21, 93, 54, 6, 17, 32, 68, 87, 28, 83, 38, 62, 61, 85, 63, 4, 30, 5, 97, 98, 51, 88, 45, 35, 59, 23, 14, 24, 91, 70, 86, 76, 57, 7, 47, 73, 92, 90], \"y\": [0.8140000000000001, 1.01, 0.77, 1.3659999999999999, 0.902, 1.178, 1.038, 1.028, 0.934, 1.288, 0.97, 1.244, 0.958, 0.932, 1.358, 0.9359999999999999, 0.9359999999999999, 0.924, 1.094, 1.568, 1.0, 0.868, 0.7040000000000001, 0.79, 1.038, 0.8759999999999999, 1.264, 0.812, 0.9640000000000001, 0.92, 1.15, 0.9940000000000001, 1.464, 0.862, 1.006, 0.83, 0.992, 0.83, 1.006, 0.73, 0.99, 0.6579999999999999, 0.6859999999999999, 0.968, 0.898, 1.072, 0.784, 1.374, 0.746, 0.856, 1.042, 1.082, 1.14, 0.792, 0.8140000000000001, 0.9740000000000001, 1.46, 0.7120000000000001, 0.884, 0.852, 1.072, 0.838, 0.898, 0.868, 1.05, 1.03, 1.124, 1.004, 1.07, 0.9279999999999999, 1.056, 0.83, 1.172, 0.738, 0.9159999999999999, 1.136, 1.026, 1.03, 1.062, 1.36, 0.8540000000000001, 0.932, 0.89, 1.218, 0.83, 1.3659999999999999, 1.442, 1.206, 1.022, 0.9259999999999999, 0.922, 0.826, 0.968, 0.862, 1.35, 1.1840000000000002, 0.9440000000000001, 1.0959999999999999, 0.7240000000000001, 1.0979999999999999], \"type\": \"scatter\", \"uid\": \"cdddc03b-5950-4dd3-aeda-5f960399c41b\"}, {\"line\": {\"color\": \"#37B2A4\"}, \"mode\": \"markers\", \"name\": \"600000\", \"x\": [37, 22, 99, 16, 96, 71, 44, 48, 49, 55, 74, 3, 64, 95, 2, 77, 10, 19, 25, 89, 46, 80, 78, 79, 20, 84, 69, 31, 26, 8, 60, 50, 9, 29, 11, 39, 65, 100, 33, 13, 53, 41, 52, 18, 27, 56, 12, 15, 36, 43, 82, 66, 42, 81, 40, 94, 67, 75, 34, 72, 1, 58, 21, 93, 54, 6, 17, 32, 68, 87, 28, 83, 38, 62, 61, 85, 63, 4, 30, 5, 97, 98, 51, 88, 45, 35, 59, 23, 14, 24, 91, 70, 86, 76, 57, 7, 47, 73, 92, 90], \"y\": [0.8583333333333333, 1.0133333333333334, 1.0633333333333332, 1.0716666666666668, 1.1166666666666667, 0.8483333333333334, 0.8516666666666667, 1.2333333333333334, 0.9816666666666668, 1.1, 1.015, 0.7933333333333333, 0.955, 1.23, 1.0516666666666667, 1.0416666666666667, 0.765, 0.8716666666666667, 1.4583333333333333, 1.1216666666666666, 0.9316666666666666, 1.0516666666666667, 0.88, 0.815, 0.775, 1.3016666666666667, 0.9366666666666666, 1.1883333333333332, 0.99, 1.0433333333333332, 0.75, 0.835, 0.8633333333333333, 0.9966666666666668, 0.9483333333333334, 1.1683333333333332, 0.9733333333333334, 1.231666666666667, 1.1016666666666666, 1.16, 1.2366666666666666, 0.875, 1.2, 0.875, 0.935, 1.2583333333333333, 1.1233333333333333, 1.01, 0.9933333333333332, 0.7816666666666666, 0.99, 1.096666666666667, 1.015, 0.8183333333333334, 0.9683333333333334, 0.9183333333333332, 1.0616666666666668, 1.3683333333333334, 0.6866666666666666, 1.153333333333333, 0.9483333333333334, 0.8283333333333334, 0.7366666666666667, 0.925, 1.0416666666666667, 0.9266666666666666, 0.8916666666666667, 0.9433333333333334, 1.163333333333333, 0.995, 0.8416666666666667, 0.6383333333333333, 0.9983333333333332, 0.9666666666666668, 1.08, 0.795, 1.0733333333333333, 1.153333333333333, 1.06, 0.85, 0.985, 1.0716666666666668, 0.8183333333333334, 0.9983333333333332, 0.955, 0.83, 1.1233333333333333, 1.1733333333333331, 0.7066666666666667, 1.1666666666666667, 0.9733333333333334, 0.9416666666666668, 0.7683333333333333, 1.1083333333333334, 0.9216666666666666, 1.393333333333333, 1.2383333333333333, 1.0083333333333333, 1.115, 1.0983333333333334], \"type\": \"scatter\", \"uid\": \"130a7de5-d0b4-426e-adad-bea1922858c8\"}, {\"line\": {\"color\": \"#2A8B80\"}, \"mode\": \"markers\", \"name\": \"700000\", \"x\": [37, 22, 99, 16, 96, 71, 44, 48, 49, 55, 74, 3, 64, 95, 2, 77, 10, 19, 25, 89, 46, 80, 78, 79, 20, 84, 69, 31, 26, 8, 60, 50, 9, 29, 11, 39, 65, 100, 33, 13, 53, 41, 52, 18, 27, 56, 12, 15, 36, 43, 82, 66, 42, 81, 40, 94, 67, 75, 34, 72, 1, 58, 21, 93, 54, 6, 17, 32, 68, 87, 28, 83, 38, 62, 61, 85, 63, 4, 30, 5, 97, 98, 51, 88, 45, 35, 59, 23, 14, 24, 91, 70, 86, 76, 57, 7, 47, 73, 92, 90], \"y\": [0.9071428571428573, 1.0714285714285714, 0.8985714285714286, 0.8014285714285714, 1.022857142857143, 1.1042857142857143, 1.0514285714285714, 0.81, 1.1814285714285715, 0.78, 0.9571428571428572, 1.008571428571429, 0.8471428571428572, 1.0242857142857142, 0.8185714285714286, 0.73, 0.9885714285714284, 0.96, 1.0585714285714285, 1.0442857142857145, 1.18, 1.2628571428571431, 1.06, 1.25, 0.8485714285714285, 0.9042857142857142, 1.3071428571428572, 1.0042857142857142, 1.1314285714285717, 0.9528571428571428, 1.0971428571428572, 0.7657142857142857, 0.9585714285714284, 1.032857142857143, 1.2185714285714286, 1.0971428571428572, 0.7757142857142857, 1.1442857142857144, 1.0485714285714285, 0.6442857142857142, 1.1371428571428572, 0.87, 1.1414285714285717, 1.3757142857142857, 1.0242857142857142, 0.9985714285714286, 0.9842857142857144, 0.7828571428571428, 1.0214285714285714, 0.9428571428571428, 1.0885714285714283, 0.9085714285714286, 1.1214285714285714, 1.1357142857142857, 1.3628571428571428, 0.89, 0.9585714285714284, 0.7914285714285715, 0.7842857142857143, 0.9785714285714284, 0.7814285714285715, 0.9614285714285714, 0.95, 0.8557142857142858, 1.0285714285714285, 0.8871428571428571, 1.3257142857142856, 1.2228571428571429, 0.7471428571428571, 1.0357142857142858, 0.9042857142857142, 1.0714285714285714, 0.8528571428571429, 0.7171428571428572, 0.9414285714285714, 0.8628571428571429, 1.3028571428571432, 0.9414285714285714, 0.9814285714285714, 1.2314285714285715, 1.062857142857143, 1.0871428571428572, 0.8614285714285714, 1.1514285714285717, 0.8585714285714285, 1.0885714285714283, 1.0, 1.3371428571428572, 0.7457142857142857, 1.1342857142857143, 0.9828571428571428, 1.008571428571429, 1.0742857142857145, 0.9957142857142856, 1.1228571428571428, 0.9128571428571428, 0.9428571428571428, 1.0442857142857145, 0.9214285714285714, 1.0157142857142858], \"type\": \"scatter\", \"uid\": \"a65f3df5-9961-46d2-a530-95e06344b196\"}, {\"line\": {\"color\": \"#206e65\"}, \"mode\": \"markers\", \"name\": \"800000\", \"x\": [37, 22, 99, 16, 96, 71, 44, 48, 49, 55, 74, 3, 64, 95, 2, 77, 10, 19, 25, 89, 46, 80, 78, 79, 20, 84, 69, 31, 26, 8, 60, 50, 9, 29, 11, 39, 65, 100, 33, 13, 53, 41, 52, 18, 27, 56, 12, 15, 36, 43, 82, 66, 42, 81, 40, 94, 67, 75, 34, 72, 1, 58, 21, 93, 54, 6, 17, 32, 68, 87, 28, 83, 38, 62, 61, 85, 63, 4, 30, 5, 97, 98, 51, 88, 45, 35, 59, 23, 14, 24, 91, 70, 86, 76, 57, 7, 47, 73, 92, 90], \"y\": [0.7625, 0.8075, 1.04, 1.09875, 0.90375, 1.0475, 1.2525, 0.95125, 0.90375, 1.0425, 0.96875, 0.655, 1.0225, 1.2375, 1.09875, 1.16125, 1.02625, 0.8925, 0.89375, 0.93375, 1.07375, 1.17125, 0.99625, 1.21125, 1.02875, 0.88125, 1.10125, 0.945, 0.835, 1.03125, 1.01, 0.7275, 0.86, 1.27625, 1.18125, 0.7575, 1.05875, 0.9125, 0.91125, 1.06875, 1.16125, 0.99625, 0.985, 0.955, 1.03625, 1.27625, 0.81875, 1.26125, 0.83, 0.80125, 0.87375, 0.81875, 1.005, 1.12375, 0.8775, 1.18125, 1.0425, 1.2275, 0.87625, 0.9725, 0.9325, 1.16125, 1.16625, 1.11375, 0.995, 1.1, 0.98, 0.94875, 0.97125, 0.8675, 1.05375, 0.8675, 1.0975, 0.9975, 0.9, 0.905, 1.1725, 1.07375, 0.92375, 0.81375, 1.10625, 0.97625, 1.09875, 1.1125, 0.87625, 0.76875, 1.12125, 0.75375, 0.75, 1.1525, 0.9875, 1.3275, 1.07375, 1.1475, 0.91125, 0.80375, 0.84, 0.9725, 1.12125, 1.19875], \"type\": \"scatter\", \"uid\": \"d293dd38-2aef-431a-9917-69a01160dc4f\"}, {\"line\": {\"color\": \"#1d5b54\"}, \"mode\": \"markers\", \"name\": \"900000\", \"x\": [37, 22, 99, 16, 96, 71, 44, 48, 49, 55, 74, 3, 64, 95, 2, 77, 10, 19, 25, 89, 46, 80, 78, 79, 20, 84, 69, 31, 26, 8, 60, 50, 9, 29, 11, 39, 65, 100, 33, 13, 53, 41, 52, 18, 27, 56, 12, 15, 36, 43, 82, 66, 42, 81, 40, 94, 67, 75, 34, 72, 1, 58, 21, 93, 54, 6, 17, 32, 68, 87, 28, 83, 38, 62, 61, 85, 63, 4, 30, 5, 97, 98, 51, 88, 45, 35, 59, 23, 14, 24, 91, 70, 86, 76, 57, 7, 47, 73, 92, 90], \"y\": [0.8288888888888889, 1.1722222222222225, 0.9033333333333332, 1.0511111111111109, 0.8944444444444445, 0.9744444444444444, 1.1511111111111112, 0.8188888888888889, 0.9977777777777778, 1.1611111111111112, 1.1311111111111112, 1.0844444444444443, 1.068888888888889, 1.03, 1.1444444444444444, 0.9822222222222222, 1.1955555555555557, 0.71, 1.0422222222222222, 1.1277777777777778, 1.0133333333333334, 0.9266666666666666, 0.9222222222222224, 1.1088888888888888, 0.9466666666666668, 1.002222222222222, 1.2644444444444445, 0.9855555555555556, 0.9988888888888888, 1.0733333333333333, 0.9644444444444444, 1.0155555555555555, 0.7666666666666667, 1.0044444444444445, 1.0311111111111109, 0.9255555555555556, 0.76, 0.9377777777777778, 1.0711111111111111, 1.0466666666666666, 0.9522222222222222, 1.0433333333333332, 1.1133333333333333, 0.7944444444444444, 0.9511111111111112, 1.2466666666666666, 1.0377777777777777, 1.2177777777777778, 0.9511111111111112, 0.9577777777777776, 0.9855555555555556, 0.94, 0.9411111111111112, 0.8711111111111111, 0.96, 1.23, 0.8788888888888889, 0.8544444444444445, 1.0144444444444445, 0.6544444444444445, 1.2388888888888892, 1.0211111111111109, 1.0233333333333334, 0.8544444444444445, 1.0133333333333334, 0.9766666666666668, 0.8322222222222222, 1.0266666666666666, 1.0066666666666666, 0.9777777777777776, 1.0477777777777777, 0.84, 1.1866666666666668, 1.022222222222222, 0.9322222222222222, 1.0444444444444445, 0.9855555555555556, 0.99, 1.0733333333333333, 0.7222222222222222, 0.6555555555555556, 1.1622222222222225, 1.0888888888888888, 0.8688888888888889, 0.9155555555555556, 1.0533333333333332, 1.1055555555555556, 0.9188888888888888, 1.1644444444444444, 1.0455555555555556, 1.1833333333333331, 1.1411111111111112, 0.9111111111111112, 0.9311111111111112, 1.0566666666666666, 1.2111111111111108, 0.8777777777777778, 0.9077777777777778, 1.252222222222222, 0.9022222222222224], \"type\": \"scatter\", \"uid\": \"0392f4e6-0242-4b4e-90dc-07a6d7357cf6\"}, {\"line\": {\"color\": \"#0c463e\"}, \"mode\": \"markers\", \"name\": \"1000000\", \"x\": [37, 22, 99, 16, 96, 71, 44, 48, 49, 55, 74, 3, 64, 95, 2, 77, 10, 19, 25, 89, 46, 80, 78, 79, 20, 84, 69, 31, 26, 8, 60, 50, 9, 29, 11, 39, 65, 100, 33, 13, 53, 41, 52, 18, 27, 56, 12, 15, 36, 43, 82, 66, 42, 81, 40, 94, 67, 75, 34, 72, 1, 58, 21, 93, 54, 6, 17, 32, 68, 87, 28, 83, 38, 62, 61, 85, 63, 4, 30, 5, 97, 98, 51, 88, 45, 35, 59, 23, 14, 24, 91, 70, 86, 76, 57, 7, 47, 73, 92, 90], \"y\": [0.7340000000000001, 1.1440000000000001, 0.9590000000000001, 0.7190000000000001, 0.8590000000000001, 0.995, 0.929, 0.7829999999999999, 1.178, 1.081, 1.127, 0.977, 0.9279999999999999, 1.122, 1.2, 1.062, 0.955, 0.9640000000000001, 0.909, 1.08, 0.9059999999999999, 1.081, 1.0290000000000001, 0.963, 1.015, 1.0170000000000001, 1.1320000000000001, 1.212, 1.1159999999999999, 0.89, 1.0390000000000001, 0.966, 0.713, 0.879, 0.991, 1.012, 1.016, 0.983, 0.9390000000000001, 0.7759999999999999, 0.8909999999999999, 1.105, 0.857, 1.489, 1.169, 0.774, 1.072, 0.965, 0.861, 1.095, 1.081, 0.981, 0.9109999999999999, 1.063, 0.9640000000000001, 1.151, 1.0270000000000001, 1.1, 0.8959999999999999, 1.0290000000000001, 1.193, 1.12, 1.042, 1.0959999999999999, 1.092, 0.7, 1.21, 1.074, 0.899, 0.96, 1.104, 0.903, 1.01, 0.9840000000000001, 1.016, 0.89, 1.083, 1.143, 0.7759999999999999, 0.899, 0.775, 1.099, 0.945, 0.9329999999999999, 1.05, 1.229, 1.073, 0.95, 1.05, 1.0290000000000001, 0.8590000000000001, 1.054, 1.3230000000000002, 0.809, 1.2409999999999999, 0.768, 0.838, 0.9079999999999999, 1.091, 0.9209999999999999], \"type\": \"scatter\", \"uid\": \"f8b8664f-35ed-4d4d-9412-e53134b7bd98\"}], {\"plot_bgcolor\": \"rgb(255, 255,255)\", \"title\": \"High Self Loop Input/Frequency\", \"xaxis\": {\"title\": \"Input\"}, \"yaxis\": {\"title\": \"Frequency (%)\"}}, {\"showLink\": true, \"linkText\": \"Export to plot.ly\", \"plotlyServerURL\": \"https://plot.ly\"})});</script><script type=\"text/javascript\">window.addEventListener(\"resize\", function(){window._Plotly.Plots.resize(document.getElementById(\"092d9ec4-456e-4ee5-ae43-fe64754e316e\"));});</script>"
      ],
      "text/vnd.plotly.v1+html": [
       "<div id=\"092d9ec4-456e-4ee5-ae43-fe64754e316e\" style=\"height: 525px; width: 100%;\" class=\"plotly-graph-div\"></div><script type=\"text/javascript\">require([\"plotly\"], function(Plotly) { window.PLOTLYENV=window.PLOTLYENV || {};window.PLOTLYENV.BASE_URL=\"https://plot.ly\";Plotly.newPlot(\"092d9ec4-456e-4ee5-ae43-fe64754e316e\", [{\"line\": {\"color\": \"#CBF4F0\"}, \"mode\": \"markers\", \"name\": \"100000\", \"x\": [37, 22, 99, 16, 96, 71, 44, 48, 49, 55, 74, 3, 64, 95, 2, 77, 10, 19, 25, 89, 46, 80, 78, 79, 20, 84, 69, 31, 26, 8, 60, 50, 9, 29, 11, 39, 65, 100, 33, 13, 53, 41, 52, 18, 27, 56, 12, 15, 36, 43, 82, 66, 42, 81, 40, 94, 67, 75, 34, 72, 1, 58, 21, 93, 54, 6, 17, 32, 68, 87, 28, 83, 38, 62, 61, 85, 63, 4, 30, 5, 97, 98, 51, 88, 45, 35, 59, 23, 14, 24, 91, 70, 86, 76, 57, 7, 47, 73, 92, 90], \"y\": [0.72, 0.39, 1.52, 1.27, 0.87, 1.36, 1.66, 0.35, 0.99, 1.6, 0.56, 1.05, 0.72, 0.77, 2.04, 1.38, 0.81, 0.78, 0.54, 1.16, 1.68, 1.16, 0.86, 1.37, 0.79, 1.2, 1.97, 0.42, 0.97, 0.73, 0.82, 1.79, 0.29, 1.28, 0.74, 1.66, 0.89, 1.38, 1.28, 0.74, 0.78, 0.44, 1.17, 2.09, 0.34, 0.71, 0.65, 0.5, 0.83, 0.9, 0.66, 2.27, 1.56, 0.57, 1.44, 1.47, 1.36, 1.24, 1.81, 0.26, 0.44, 1.37, 1.01, 1.15, 0.83, 0.55, 0.54, 1.01, 0.68, 1.14, 1.26, 0.63, 0.72, 1.86, 0.7, 0.49, 1.42, 0.69, 0.77, 1.37, 1.05, 0.31, 1.16, 0.89, 0.46, 1.09, 1.01, 0.73, 1.11, 1.15, 0.98, 1.19, 0.78, 0.87, 1.61, 0.74, 0.42, 0.4, 0.92, 0.89], \"type\": \"scatter\", \"uid\": \"88c84e59-da29-49a2-a2b3-bc59f939159a\"}, {\"line\": {\"color\": \"#A9EDE6\"}, \"mode\": \"markers\", \"name\": \"200000\", \"x\": [37, 22, 99, 16, 96, 71, 44, 48, 49, 55, 74, 3, 64, 95, 2, 77, 10, 19, 25, 89, 46, 80, 78, 79, 20, 84, 69, 31, 26, 8, 60, 50, 9, 29, 11, 39, 65, 100, 33, 13, 53, 41, 52, 18, 27, 56, 12, 15, 36, 43, 82, 66, 42, 81, 40, 94, 67, 75, 34, 72, 1, 58, 21, 93, 54, 6, 17, 32, 68, 87, 28, 83, 38, 62, 61, 85, 63, 4, 30, 5, 97, 98, 51, 88, 45, 35, 59, 23, 14, 24, 91, 70, 86, 76, 57, 7, 47, 73, 92, 90], \"y\": [0.53, 0.745, 0.8, 0.695, 0.73, 1.235, 0.77, 0.89, 1.41, 1.38, 1.285, 1.14, 1.12, 0.86, 1.28, 1.62, 0.555, 1.54, 1.24, 0.65, 0.53, 0.91, 0.58, 0.735, 1.26, 1.475, 1.47, 1.14, 1.4, 0.885, 0.605, 1.49, 1.41, 1.37, 0.965, 0.46, 1.075, 1.27, 0.825, 0.905, 0.93, 1.445, 0.99, 1.07, 1.19, 0.59, 0.38, 1.205, 1.11, 0.85, 1.215, 0.895, 0.66, 1.085, 0.94, 1.21, 0.955, 1.345, 0.555, 0.755, 0.93, 0.81, 1.275, 1.4, 0.635, 0.935, 1.28, 1.215, 0.92, 0.79, 1.035, 1.645, 0.91, 0.705, 0.86, 1.25, 0.945, 1.245, 1.035, 1.485, 0.97, 0.89, 0.645, 0.99, 0.58, 0.64, 0.825, 1.06, 0.465, 1.375, 0.72, 0.93, 0.8, 0.9, 0.89, 0.905, 1.06, 1.11, 1.485, 0.845], \"type\": \"scatter\", \"uid\": \"bb97e0dc-9aea-4f5d-9fb8-98405ef85cd5\"}, {\"line\": {\"color\": \"#86E6DC\"}, \"mode\": \"markers\", \"name\": \"300000\", \"x\": [37, 22, 99, 16, 96, 71, 44, 48, 49, 55, 74, 3, 64, 95, 2, 77, 10, 19, 25, 89, 46, 80, 78, 79, 20, 84, 69, 31, 26, 8, 60, 50, 9, 29, 11, 39, 65, 100, 33, 13, 53, 41, 52, 18, 27, 56, 12, 15, 36, 43, 82, 66, 42, 81, 40, 94, 67, 75, 34, 72, 1, 58, 21, 93, 54, 6, 17, 32, 68, 87, 28, 83, 38, 62, 61, 85, 63, 4, 30, 5, 97, 98, 51, 88, 45, 35, 59, 23, 14, 24, 91, 70, 86, 76, 57, 7, 47, 73, 92, 90], \"y\": [1.096666666666667, 0.71, 0.8333333333333334, 1.4166666666666667, 0.8166666666666667, 1.5266666666666666, 0.9633333333333334, 0.82, 0.8166666666666667, 0.89, 0.6166666666666667, 0.88, 0.92, 1.0233333333333334, 0.7266666666666667, 0.8766666666666667, 0.75, 1.106666666666667, 1.16, 1.06, 1.1833333333333331, 1.2133333333333334, 1.5033333333333334, 1.05, 1.0933333333333333, 0.7533333333333333, 0.6666666666666666, 1.01, 1.39, 0.99, 0.8733333333333333, 0.7733333333333333, 0.9866666666666668, 0.93, 1.16, 0.7166666666666667, 0.73, 1.0533333333333332, 0.61, 1.19, 1.4866666666666666, 1.3766666666666667, 0.9333333333333332, 1.32, 1.6033333333333333, 0.85, 0.84, 0.8033333333333333, 1.2066666666666668, 1.0533333333333332, 0.8, 1.0033333333333334, 0.8333333333333334, 0.8366666666666667, 1.1133333333333333, 1.1, 1.21, 0.65, 0.7966666666666666, 0.7566666666666667, 0.9333333333333332, 0.8533333333333334, 1.2266666666666666, 1.5033333333333334, 1.0666666666666669, 0.8233333333333334, 0.68, 0.8733333333333333, 0.41, 1.0, 0.69, 0.92, 0.9266666666666666, 1.1833333333333331, 1.5233333333333334, 1.0733333333333333, 1.13, 1.13, 1.0133333333333334, 0.7633333333333333, 1.04, 1.11, 0.9933333333333332, 1.0033333333333334, 0.9766666666666668, 1.596666666666667, 1.1766666666666667, 0.4633333333333333, 1.086666666666667, 1.23, 0.98, 0.8933333333333333, 1.0133333333333334, 1.05, 1.43, 0.5866666666666667, 0.95, 0.8433333333333334, 1.4, 0.9933333333333332], \"type\": \"scatter\", \"uid\": \"4e385869-68b9-4b5f-9969-bfaad26c3f7a\"}, {\"line\": {\"color\": \"#64DFD2\"}, \"mode\": \"markers\", \"name\": \"400000\", \"x\": [37, 22, 99, 16, 96, 71, 44, 48, 49, 55, 74, 3, 64, 95, 2, 77, 10, 19, 25, 89, 46, 80, 78, 79, 20, 84, 69, 31, 26, 8, 60, 50, 9, 29, 11, 39, 65, 100, 33, 13, 53, 41, 52, 18, 27, 56, 12, 15, 36, 43, 82, 66, 42, 81, 40, 94, 67, 75, 34, 72, 1, 58, 21, 93, 54, 6, 17, 32, 68, 87, 28, 83, 38, 62, 61, 85, 63, 4, 30, 5, 97, 98, 51, 88, 45, 35, 59, 23, 14, 24, 91, 70, 86, 76, 57, 7, 47, 73, 92, 90], \"y\": [1.1475, 0.9775, 1.1125, 1.3675, 1.415, 1.2025, 1.385, 0.92, 1.35, 1.03, 0.735, 0.9225, 1.095, 1.2175, 0.7725, 1.255, 0.5925, 1.0825, 1.235, 1.0425, 0.895, 1.285, 1.0175, 0.7725, 0.8925, 1.19, 0.9325, 0.7225, 1.0775, 1.0275, 1.2125, 0.8275, 1.1425, 1.2575, 0.9475, 0.8475, 1.16, 1.295, 1.22, 0.815, 1.2475, 0.835, 0.955, 0.9575, 1.035, 1.195, 0.8625, 1.1525, 0.8675, 0.98, 0.8675, 0.7, 0.8225, 1.8275, 0.8575, 0.6625, 0.72, 1.28, 0.9325, 0.6725, 0.8875, 1.1225, 0.8875, 0.7225, 1.2, 1.0475, 0.5425, 0.7925, 1.2475, 1.1675, 0.8325, 0.4475, 1.375, 0.775, 1.1325, 0.485, 1.0175, 0.9575, 1.0075, 0.78, 0.88, 1.1625, 1.0, 1.18, 0.8225, 0.8575, 0.9225, 1.0525, 1.04, 0.955, 1.0925, 0.945, 1.1025, 0.7525, 1.0, 0.9675, 0.985, 0.7775, 1.205, 1.0475], \"type\": \"scatter\", \"uid\": \"f9a02bd4-0079-4e69-b61d-2d69bb021e53\"}, {\"line\": {\"color\": \"#42D9C8\"}, \"mode\": \"markers\", \"name\": \"500000\", \"x\": [37, 22, 99, 16, 96, 71, 44, 48, 49, 55, 74, 3, 64, 95, 2, 77, 10, 19, 25, 89, 46, 80, 78, 79, 20, 84, 69, 31, 26, 8, 60, 50, 9, 29, 11, 39, 65, 100, 33, 13, 53, 41, 52, 18, 27, 56, 12, 15, 36, 43, 82, 66, 42, 81, 40, 94, 67, 75, 34, 72, 1, 58, 21, 93, 54, 6, 17, 32, 68, 87, 28, 83, 38, 62, 61, 85, 63, 4, 30, 5, 97, 98, 51, 88, 45, 35, 59, 23, 14, 24, 91, 70, 86, 76, 57, 7, 47, 73, 92, 90], \"y\": [0.8140000000000001, 1.01, 0.77, 1.3659999999999999, 0.902, 1.178, 1.038, 1.028, 0.934, 1.288, 0.97, 1.244, 0.958, 0.932, 1.358, 0.9359999999999999, 0.9359999999999999, 0.924, 1.094, 1.568, 1.0, 0.868, 0.7040000000000001, 0.79, 1.038, 0.8759999999999999, 1.264, 0.812, 0.9640000000000001, 0.92, 1.15, 0.9940000000000001, 1.464, 0.862, 1.006, 0.83, 0.992, 0.83, 1.006, 0.73, 0.99, 0.6579999999999999, 0.6859999999999999, 0.968, 0.898, 1.072, 0.784, 1.374, 0.746, 0.856, 1.042, 1.082, 1.14, 0.792, 0.8140000000000001, 0.9740000000000001, 1.46, 0.7120000000000001, 0.884, 0.852, 1.072, 0.838, 0.898, 0.868, 1.05, 1.03, 1.124, 1.004, 1.07, 0.9279999999999999, 1.056, 0.83, 1.172, 0.738, 0.9159999999999999, 1.136, 1.026, 1.03, 1.062, 1.36, 0.8540000000000001, 0.932, 0.89, 1.218, 0.83, 1.3659999999999999, 1.442, 1.206, 1.022, 0.9259999999999999, 0.922, 0.826, 0.968, 0.862, 1.35, 1.1840000000000002, 0.9440000000000001, 1.0959999999999999, 0.7240000000000001, 1.0979999999999999], \"type\": \"scatter\", \"uid\": \"cdddc03b-5950-4dd3-aeda-5f960399c41b\"}, {\"line\": {\"color\": \"#37B2A4\"}, \"mode\": \"markers\", \"name\": \"600000\", \"x\": [37, 22, 99, 16, 96, 71, 44, 48, 49, 55, 74, 3, 64, 95, 2, 77, 10, 19, 25, 89, 46, 80, 78, 79, 20, 84, 69, 31, 26, 8, 60, 50, 9, 29, 11, 39, 65, 100, 33, 13, 53, 41, 52, 18, 27, 56, 12, 15, 36, 43, 82, 66, 42, 81, 40, 94, 67, 75, 34, 72, 1, 58, 21, 93, 54, 6, 17, 32, 68, 87, 28, 83, 38, 62, 61, 85, 63, 4, 30, 5, 97, 98, 51, 88, 45, 35, 59, 23, 14, 24, 91, 70, 86, 76, 57, 7, 47, 73, 92, 90], \"y\": [0.8583333333333333, 1.0133333333333334, 1.0633333333333332, 1.0716666666666668, 1.1166666666666667, 0.8483333333333334, 0.8516666666666667, 1.2333333333333334, 0.9816666666666668, 1.1, 1.015, 0.7933333333333333, 0.955, 1.23, 1.0516666666666667, 1.0416666666666667, 0.765, 0.8716666666666667, 1.4583333333333333, 1.1216666666666666, 0.9316666666666666, 1.0516666666666667, 0.88, 0.815, 0.775, 1.3016666666666667, 0.9366666666666666, 1.1883333333333332, 0.99, 1.0433333333333332, 0.75, 0.835, 0.8633333333333333, 0.9966666666666668, 0.9483333333333334, 1.1683333333333332, 0.9733333333333334, 1.231666666666667, 1.1016666666666666, 1.16, 1.2366666666666666, 0.875, 1.2, 0.875, 0.935, 1.2583333333333333, 1.1233333333333333, 1.01, 0.9933333333333332, 0.7816666666666666, 0.99, 1.096666666666667, 1.015, 0.8183333333333334, 0.9683333333333334, 0.9183333333333332, 1.0616666666666668, 1.3683333333333334, 0.6866666666666666, 1.153333333333333, 0.9483333333333334, 0.8283333333333334, 0.7366666666666667, 0.925, 1.0416666666666667, 0.9266666666666666, 0.8916666666666667, 0.9433333333333334, 1.163333333333333, 0.995, 0.8416666666666667, 0.6383333333333333, 0.9983333333333332, 0.9666666666666668, 1.08, 0.795, 1.0733333333333333, 1.153333333333333, 1.06, 0.85, 0.985, 1.0716666666666668, 0.8183333333333334, 0.9983333333333332, 0.955, 0.83, 1.1233333333333333, 1.1733333333333331, 0.7066666666666667, 1.1666666666666667, 0.9733333333333334, 0.9416666666666668, 0.7683333333333333, 1.1083333333333334, 0.9216666666666666, 1.393333333333333, 1.2383333333333333, 1.0083333333333333, 1.115, 1.0983333333333334], \"type\": \"scatter\", \"uid\": \"130a7de5-d0b4-426e-adad-bea1922858c8\"}, {\"line\": {\"color\": \"#2A8B80\"}, \"mode\": \"markers\", \"name\": \"700000\", \"x\": [37, 22, 99, 16, 96, 71, 44, 48, 49, 55, 74, 3, 64, 95, 2, 77, 10, 19, 25, 89, 46, 80, 78, 79, 20, 84, 69, 31, 26, 8, 60, 50, 9, 29, 11, 39, 65, 100, 33, 13, 53, 41, 52, 18, 27, 56, 12, 15, 36, 43, 82, 66, 42, 81, 40, 94, 67, 75, 34, 72, 1, 58, 21, 93, 54, 6, 17, 32, 68, 87, 28, 83, 38, 62, 61, 85, 63, 4, 30, 5, 97, 98, 51, 88, 45, 35, 59, 23, 14, 24, 91, 70, 86, 76, 57, 7, 47, 73, 92, 90], \"y\": [0.9071428571428573, 1.0714285714285714, 0.8985714285714286, 0.8014285714285714, 1.022857142857143, 1.1042857142857143, 1.0514285714285714, 0.81, 1.1814285714285715, 0.78, 0.9571428571428572, 1.008571428571429, 0.8471428571428572, 1.0242857142857142, 0.8185714285714286, 0.73, 0.9885714285714284, 0.96, 1.0585714285714285, 1.0442857142857145, 1.18, 1.2628571428571431, 1.06, 1.25, 0.8485714285714285, 0.9042857142857142, 1.3071428571428572, 1.0042857142857142, 1.1314285714285717, 0.9528571428571428, 1.0971428571428572, 0.7657142857142857, 0.9585714285714284, 1.032857142857143, 1.2185714285714286, 1.0971428571428572, 0.7757142857142857, 1.1442857142857144, 1.0485714285714285, 0.6442857142857142, 1.1371428571428572, 0.87, 1.1414285714285717, 1.3757142857142857, 1.0242857142857142, 0.9985714285714286, 0.9842857142857144, 0.7828571428571428, 1.0214285714285714, 0.9428571428571428, 1.0885714285714283, 0.9085714285714286, 1.1214285714285714, 1.1357142857142857, 1.3628571428571428, 0.89, 0.9585714285714284, 0.7914285714285715, 0.7842857142857143, 0.9785714285714284, 0.7814285714285715, 0.9614285714285714, 0.95, 0.8557142857142858, 1.0285714285714285, 0.8871428571428571, 1.3257142857142856, 1.2228571428571429, 0.7471428571428571, 1.0357142857142858, 0.9042857142857142, 1.0714285714285714, 0.8528571428571429, 0.7171428571428572, 0.9414285714285714, 0.8628571428571429, 1.3028571428571432, 0.9414285714285714, 0.9814285714285714, 1.2314285714285715, 1.062857142857143, 1.0871428571428572, 0.8614285714285714, 1.1514285714285717, 0.8585714285714285, 1.0885714285714283, 1.0, 1.3371428571428572, 0.7457142857142857, 1.1342857142857143, 0.9828571428571428, 1.008571428571429, 1.0742857142857145, 0.9957142857142856, 1.1228571428571428, 0.9128571428571428, 0.9428571428571428, 1.0442857142857145, 0.9214285714285714, 1.0157142857142858], \"type\": \"scatter\", \"uid\": \"a65f3df5-9961-46d2-a530-95e06344b196\"}, {\"line\": {\"color\": \"#206e65\"}, \"mode\": \"markers\", \"name\": \"800000\", \"x\": [37, 22, 99, 16, 96, 71, 44, 48, 49, 55, 74, 3, 64, 95, 2, 77, 10, 19, 25, 89, 46, 80, 78, 79, 20, 84, 69, 31, 26, 8, 60, 50, 9, 29, 11, 39, 65, 100, 33, 13, 53, 41, 52, 18, 27, 56, 12, 15, 36, 43, 82, 66, 42, 81, 40, 94, 67, 75, 34, 72, 1, 58, 21, 93, 54, 6, 17, 32, 68, 87, 28, 83, 38, 62, 61, 85, 63, 4, 30, 5, 97, 98, 51, 88, 45, 35, 59, 23, 14, 24, 91, 70, 86, 76, 57, 7, 47, 73, 92, 90], \"y\": [0.7625, 0.8075, 1.04, 1.09875, 0.90375, 1.0475, 1.2525, 0.95125, 0.90375, 1.0425, 0.96875, 0.655, 1.0225, 1.2375, 1.09875, 1.16125, 1.02625, 0.8925, 0.89375, 0.93375, 1.07375, 1.17125, 0.99625, 1.21125, 1.02875, 0.88125, 1.10125, 0.945, 0.835, 1.03125, 1.01, 0.7275, 0.86, 1.27625, 1.18125, 0.7575, 1.05875, 0.9125, 0.91125, 1.06875, 1.16125, 0.99625, 0.985, 0.955, 1.03625, 1.27625, 0.81875, 1.26125, 0.83, 0.80125, 0.87375, 0.81875, 1.005, 1.12375, 0.8775, 1.18125, 1.0425, 1.2275, 0.87625, 0.9725, 0.9325, 1.16125, 1.16625, 1.11375, 0.995, 1.1, 0.98, 0.94875, 0.97125, 0.8675, 1.05375, 0.8675, 1.0975, 0.9975, 0.9, 0.905, 1.1725, 1.07375, 0.92375, 0.81375, 1.10625, 0.97625, 1.09875, 1.1125, 0.87625, 0.76875, 1.12125, 0.75375, 0.75, 1.1525, 0.9875, 1.3275, 1.07375, 1.1475, 0.91125, 0.80375, 0.84, 0.9725, 1.12125, 1.19875], \"type\": \"scatter\", \"uid\": \"d293dd38-2aef-431a-9917-69a01160dc4f\"}, {\"line\": {\"color\": \"#1d5b54\"}, \"mode\": \"markers\", \"name\": \"900000\", \"x\": [37, 22, 99, 16, 96, 71, 44, 48, 49, 55, 74, 3, 64, 95, 2, 77, 10, 19, 25, 89, 46, 80, 78, 79, 20, 84, 69, 31, 26, 8, 60, 50, 9, 29, 11, 39, 65, 100, 33, 13, 53, 41, 52, 18, 27, 56, 12, 15, 36, 43, 82, 66, 42, 81, 40, 94, 67, 75, 34, 72, 1, 58, 21, 93, 54, 6, 17, 32, 68, 87, 28, 83, 38, 62, 61, 85, 63, 4, 30, 5, 97, 98, 51, 88, 45, 35, 59, 23, 14, 24, 91, 70, 86, 76, 57, 7, 47, 73, 92, 90], \"y\": [0.8288888888888889, 1.1722222222222225, 0.9033333333333332, 1.0511111111111109, 0.8944444444444445, 0.9744444444444444, 1.1511111111111112, 0.8188888888888889, 0.9977777777777778, 1.1611111111111112, 1.1311111111111112, 1.0844444444444443, 1.068888888888889, 1.03, 1.1444444444444444, 0.9822222222222222, 1.1955555555555557, 0.71, 1.0422222222222222, 1.1277777777777778, 1.0133333333333334, 0.9266666666666666, 0.9222222222222224, 1.1088888888888888, 0.9466666666666668, 1.002222222222222, 1.2644444444444445, 0.9855555555555556, 0.9988888888888888, 1.0733333333333333, 0.9644444444444444, 1.0155555555555555, 0.7666666666666667, 1.0044444444444445, 1.0311111111111109, 0.9255555555555556, 0.76, 0.9377777777777778, 1.0711111111111111, 1.0466666666666666, 0.9522222222222222, 1.0433333333333332, 1.1133333333333333, 0.7944444444444444, 0.9511111111111112, 1.2466666666666666, 1.0377777777777777, 1.2177777777777778, 0.9511111111111112, 0.9577777777777776, 0.9855555555555556, 0.94, 0.9411111111111112, 0.8711111111111111, 0.96, 1.23, 0.8788888888888889, 0.8544444444444445, 1.0144444444444445, 0.6544444444444445, 1.2388888888888892, 1.0211111111111109, 1.0233333333333334, 0.8544444444444445, 1.0133333333333334, 0.9766666666666668, 0.8322222222222222, 1.0266666666666666, 1.0066666666666666, 0.9777777777777776, 1.0477777777777777, 0.84, 1.1866666666666668, 1.022222222222222, 0.9322222222222222, 1.0444444444444445, 0.9855555555555556, 0.99, 1.0733333333333333, 0.7222222222222222, 0.6555555555555556, 1.1622222222222225, 1.0888888888888888, 0.8688888888888889, 0.9155555555555556, 1.0533333333333332, 1.1055555555555556, 0.9188888888888888, 1.1644444444444444, 1.0455555555555556, 1.1833333333333331, 1.1411111111111112, 0.9111111111111112, 0.9311111111111112, 1.0566666666666666, 1.2111111111111108, 0.8777777777777778, 0.9077777777777778, 1.252222222222222, 0.9022222222222224], \"type\": \"scatter\", \"uid\": \"0392f4e6-0242-4b4e-90dc-07a6d7357cf6\"}, {\"line\": {\"color\": \"#0c463e\"}, \"mode\": \"markers\", \"name\": \"1000000\", \"x\": [37, 22, 99, 16, 96, 71, 44, 48, 49, 55, 74, 3, 64, 95, 2, 77, 10, 19, 25, 89, 46, 80, 78, 79, 20, 84, 69, 31, 26, 8, 60, 50, 9, 29, 11, 39, 65, 100, 33, 13, 53, 41, 52, 18, 27, 56, 12, 15, 36, 43, 82, 66, 42, 81, 40, 94, 67, 75, 34, 72, 1, 58, 21, 93, 54, 6, 17, 32, 68, 87, 28, 83, 38, 62, 61, 85, 63, 4, 30, 5, 97, 98, 51, 88, 45, 35, 59, 23, 14, 24, 91, 70, 86, 76, 57, 7, 47, 73, 92, 90], \"y\": [0.7340000000000001, 1.1440000000000001, 0.9590000000000001, 0.7190000000000001, 0.8590000000000001, 0.995, 0.929, 0.7829999999999999, 1.178, 1.081, 1.127, 0.977, 0.9279999999999999, 1.122, 1.2, 1.062, 0.955, 0.9640000000000001, 0.909, 1.08, 0.9059999999999999, 1.081, 1.0290000000000001, 0.963, 1.015, 1.0170000000000001, 1.1320000000000001, 1.212, 1.1159999999999999, 0.89, 1.0390000000000001, 0.966, 0.713, 0.879, 0.991, 1.012, 1.016, 0.983, 0.9390000000000001, 0.7759999999999999, 0.8909999999999999, 1.105, 0.857, 1.489, 1.169, 0.774, 1.072, 0.965, 0.861, 1.095, 1.081, 0.981, 0.9109999999999999, 1.063, 0.9640000000000001, 1.151, 1.0270000000000001, 1.1, 0.8959999999999999, 1.0290000000000001, 1.193, 1.12, 1.042, 1.0959999999999999, 1.092, 0.7, 1.21, 1.074, 0.899, 0.96, 1.104, 0.903, 1.01, 0.9840000000000001, 1.016, 0.89, 1.083, 1.143, 0.7759999999999999, 0.899, 0.775, 1.099, 0.945, 0.9329999999999999, 1.05, 1.229, 1.073, 0.95, 1.05, 1.0290000000000001, 0.8590000000000001, 1.054, 1.3230000000000002, 0.809, 1.2409999999999999, 0.768, 0.838, 0.9079999999999999, 1.091, 0.9209999999999999], \"type\": \"scatter\", \"uid\": \"f8b8664f-35ed-4d4d-9412-e53134b7bd98\"}], {\"plot_bgcolor\": \"rgb(255, 255,255)\", \"title\": \"High Self Loop Input/Frequency\", \"xaxis\": {\"title\": \"Input\"}, \"yaxis\": {\"title\": \"Frequency (%)\"}}, {\"showLink\": true, \"linkText\": \"Export to plot.ly\", \"plotlyServerURL\": \"https://plot.ly\"})});</script><script type=\"text/javascript\">window.addEventListener(\"resize\", function(){window._Plotly.Plots.resize(document.getElementById(\"092d9ec4-456e-4ee5-ae43-fe64754e316e\"));});</script>"
      ]
     },
     "metadata": {},
     "output_type": "display_data"
    }
   ],
   "source": [
    "df = pd.read_csv('percentages/MarkovHigh/0.csv')\n",
    "\n",
    "trace1 = go.Scatter(\n",
    "                    x=df['Input'], y=df['Percentage'], # Data\n",
    "                    mode='markers',\n",
    "                    name='100000',\n",
    "                    line = dict(color = ('#CBF4F0'))\n",
    "                   )\n",
    "\n",
    "\n",
    "df = pd.read_csv('percentages/MarkovHigh/1.csv')\n",
    "\n",
    "trace2 = go.Scatter(\n",
    "                    x=df['Input'], y=df['Percentage'], # Data\n",
    "                    mode='markers',\n",
    "                    name='200000',\n",
    "                    line = dict(color = ('#A9EDE6'))\n",
    "                   )\n",
    "\n",
    "df = pd.read_csv('percentages/MarkovHigh/2.csv')\n",
    "\n",
    "trace3 = go.Scatter(\n",
    "                    x=df['Input'], y=df['Percentage'], # Data\n",
    "                    mode='markers',\n",
    "                    name='300000',\n",
    "                    line = dict(color = ('#86E6DC'))\n",
    "                   )\n",
    "\n",
    "\n",
    "df = pd.read_csv('percentages/MarkovHigh/3.csv')\n",
    "\n",
    "trace4 = go.Scatter(\n",
    "                    x=df['Input'], y=df['Percentage'], # Data\n",
    "                    mode='markers',\n",
    "                    name='400000',\n",
    "                    line = dict(color = ('#64DFD2'))\n",
    "                   )\n",
    "\n",
    "\n",
    "df = pd.read_csv('percentages/MarkovHigh/4.csv')\n",
    "\n",
    "trace5 = go.Scatter(\n",
    "                    x=df['Input'], y=df['Percentage'], # Data\n",
    "                    mode='markers',\n",
    "                    name='500000',\n",
    "                    line = dict(color = ('#42D9C8'))\n",
    "                   )\n",
    "\n",
    "df = pd.read_csv('percentages/MarkovHigh/5.csv')\n",
    "\n",
    "trace6 = go.Scatter(\n",
    "                    x=df['Input'], y=df['Percentage'], # Data\n",
    "                    mode='markers',\n",
    "                    name='600000',\n",
    "                    line = dict(color = ('#37B2A4'))\n",
    "                   )\n",
    "\n",
    "df = pd.read_csv('percentages/MarkovHigh/6.csv')\n",
    "\n",
    "trace7 = go.Scatter(\n",
    "                    x=df['Input'], y=df['Percentage'], # Data\n",
    "                    mode='markers',\n",
    "                    name='700000',\n",
    "                    line = dict(color = ('#2A8B80'))\n",
    "                   )\n",
    "\n",
    "df = pd.read_csv('percentages/MarkovHigh/7.csv')\n",
    "\n",
    "trace8 = go.Scatter(\n",
    "                    x=df['Input'], y=df['Percentage'], # Data\n",
    "                    mode='markers',\n",
    "                    name='800000',\n",
    "                    line = dict(color = ('#206e65'))\n",
    "                   )\n",
    "\n",
    "df = pd.read_csv('percentages/MarkovHigh/8.csv')\n",
    "\n",
    "trace9 = go.Scatter(\n",
    "                    x=df['Input'], y=df['Percentage'], # Data\n",
    "                    mode='markers',\n",
    "                    name='900000',\n",
    "                    line = dict(color = ('#1d5b54'))\n",
    "                   )\n",
    "\n",
    "df = pd.read_csv('percentages/MarkovHigh/9.csv')\n",
    "\n",
    "trace10 = go.Scatter(\n",
    "                    x=df['Input'], y=df['Percentage'], # Data\n",
    "                    mode='markers', \n",
    "                    name='1000000',\n",
    "                    line = dict(color = ('#0c463e'))\n",
    "                   )\n",
    "\n",
    "\n",
    "\n",
    "\n",
    "layout = go.Layout(title='High Self Loop Input/Frequency',\n",
    "                   plot_bgcolor='rgb(255, 255,255)',\n",
    "                   xaxis=dict(title='Input'),\n",
    "                   yaxis=dict(title='Frequency (%)'))\n",
    "\n",
    "# fig = go.Figure(data=[trace1], layout=layout)\n",
    "\n",
    "fig = go.Figure(data=[trace1, trace2, trace3, trace4, trace5, trace6, trace7, trace8, trace9, trace10], layout=layout)\n",
    "\n",
    "# Plot data in the notebook\n",
    "iplot(fig)"
   ]
  },
  {
   "cell_type": "code",
   "execution_count": 26,
   "metadata": {},
   "outputs": [
    {
     "data": {
      "application/vnd.plotly.v1+json": {
       "config": {
        "linkText": "Export to plot.ly",
        "plotlyServerURL": "https://plot.ly",
        "showLink": true
       },
       "data": [
        {
         "line": {
          "color": "rgb(253, 127, 40)"
         },
         "mode": "lines",
         "name": "Splay",
         "type": "scatter",
         "uid": "7a25f6f2-6125-4ed0-bb64-a08c47da53dd",
         "x": [
          10000,
          20000,
          30000,
          40000,
          50000,
          60000,
          70000,
          80000,
          90000,
          100000
         ],
         "y": [
          6553,
          14156,
          19807,
          26983,
          33323,
          41841,
          47003,
          54787,
          60192,
          67449
         ]
        },
        {
         "line": {
          "color": "rgb(50, 158, 52)"
         },
         "mode": "lines",
         "name": "Transpose",
         "type": "scatter",
         "uid": "68c70f44-838a-412b-b4e2-6835d0f63851",
         "x": [
          10000,
          20000,
          30000,
          40000,
          50000,
          60000,
          70000,
          80000,
          90000,
          100000
         ],
         "y": [
          4034,
          8560,
          12451,
          16532,
          20329,
          25895,
          29025,
          33449,
          37087,
          41804
         ]
        },
        {
         "line": {
          "color": "rgb(211, 41, 47)"
         },
         "mode": "lines",
         "name": "2-in-a-row",
         "type": "scatter",
         "uid": "cc5df96e-4698-46ef-bed4-ddcc4d361367",
         "x": [
          10000,
          20000,
          30000,
          40000,
          50000,
          60000,
          70000,
          80000,
          90000,
          100000
         ],
         "y": [
          5307,
          11267,
          16194,
          21743,
          26905,
          34136,
          37912,
          44389,
          48451,
          54749
         ]
        }
       ],
       "layout": {
        "plot_bgcolor": "rgb(255, 255,255)",
        "title": "Rotation Cost: High Self Loop",
        "xaxis": {
         "title": "Sequence Length"
        },
        "yaxis": {
         "title": "Rotation Cost"
        }
       }
      },
      "text/html": [
       "<div id=\"d910a10f-adc9-4485-bd0b-5a29f616e3f7\" style=\"height: 525px; width: 100%;\" class=\"plotly-graph-div\"></div><script type=\"text/javascript\">require([\"plotly\"], function(Plotly) { window.PLOTLYENV=window.PLOTLYENV || {};window.PLOTLYENV.BASE_URL=\"https://plot.ly\";Plotly.newPlot(\"d910a10f-adc9-4485-bd0b-5a29f616e3f7\", [{\"line\": {\"color\": \"rgb(253, 127, 40)\"}, \"mode\": \"lines\", \"name\": \"Splay\", \"x\": [10000, 20000, 30000, 40000, 50000, 60000, 70000, 80000, 90000, 100000], \"y\": [6553, 14156, 19807, 26983, 33323, 41841, 47003, 54787, 60192, 67449], \"type\": \"scatter\", \"uid\": \"7a25f6f2-6125-4ed0-bb64-a08c47da53dd\"}, {\"line\": {\"color\": \"rgb(50, 158, 52)\"}, \"mode\": \"lines\", \"name\": \"Transpose\", \"x\": [10000, 20000, 30000, 40000, 50000, 60000, 70000, 80000, 90000, 100000], \"y\": [4034, 8560, 12451, 16532, 20329, 25895, 29025, 33449, 37087, 41804], \"type\": \"scatter\", \"uid\": \"68c70f44-838a-412b-b4e2-6835d0f63851\"}, {\"line\": {\"color\": \"rgb(211, 41, 47)\"}, \"mode\": \"lines\", \"name\": \"2-in-a-row\", \"x\": [10000, 20000, 30000, 40000, 50000, 60000, 70000, 80000, 90000, 100000], \"y\": [5307, 11267, 16194, 21743, 26905, 34136, 37912, 44389, 48451, 54749], \"type\": \"scatter\", \"uid\": \"cc5df96e-4698-46ef-bed4-ddcc4d361367\"}], {\"plot_bgcolor\": \"rgb(255, 255,255)\", \"title\": \"Rotation Cost: High Self Loop\", \"xaxis\": {\"title\": \"Sequence Length\"}, \"yaxis\": {\"title\": \"Rotation Cost\"}}, {\"showLink\": true, \"linkText\": \"Export to plot.ly\", \"plotlyServerURL\": \"https://plot.ly\"})});</script><script type=\"text/javascript\">window.addEventListener(\"resize\", function(){window._Plotly.Plots.resize(document.getElementById(\"d910a10f-adc9-4485-bd0b-5a29f616e3f7\"));});</script>"
      ],
      "text/vnd.plotly.v1+html": [
       "<div id=\"d910a10f-adc9-4485-bd0b-5a29f616e3f7\" style=\"height: 525px; width: 100%;\" class=\"plotly-graph-div\"></div><script type=\"text/javascript\">require([\"plotly\"], function(Plotly) { window.PLOTLYENV=window.PLOTLYENV || {};window.PLOTLYENV.BASE_URL=\"https://plot.ly\";Plotly.newPlot(\"d910a10f-adc9-4485-bd0b-5a29f616e3f7\", [{\"line\": {\"color\": \"rgb(253, 127, 40)\"}, \"mode\": \"lines\", \"name\": \"Splay\", \"x\": [10000, 20000, 30000, 40000, 50000, 60000, 70000, 80000, 90000, 100000], \"y\": [6553, 14156, 19807, 26983, 33323, 41841, 47003, 54787, 60192, 67449], \"type\": \"scatter\", \"uid\": \"7a25f6f2-6125-4ed0-bb64-a08c47da53dd\"}, {\"line\": {\"color\": \"rgb(50, 158, 52)\"}, \"mode\": \"lines\", \"name\": \"Transpose\", \"x\": [10000, 20000, 30000, 40000, 50000, 60000, 70000, 80000, 90000, 100000], \"y\": [4034, 8560, 12451, 16532, 20329, 25895, 29025, 33449, 37087, 41804], \"type\": \"scatter\", \"uid\": \"68c70f44-838a-412b-b4e2-6835d0f63851\"}, {\"line\": {\"color\": \"rgb(211, 41, 47)\"}, \"mode\": \"lines\", \"name\": \"2-in-a-row\", \"x\": [10000, 20000, 30000, 40000, 50000, 60000, 70000, 80000, 90000, 100000], \"y\": [5307, 11267, 16194, 21743, 26905, 34136, 37912, 44389, 48451, 54749], \"type\": \"scatter\", \"uid\": \"cc5df96e-4698-46ef-bed4-ddcc4d361367\"}], {\"plot_bgcolor\": \"rgb(255, 255,255)\", \"title\": \"Rotation Cost: High Self Loop\", \"xaxis\": {\"title\": \"Sequence Length\"}, \"yaxis\": {\"title\": \"Rotation Cost\"}}, {\"showLink\": true, \"linkText\": \"Export to plot.ly\", \"plotlyServerURL\": \"https://plot.ly\"})});</script><script type=\"text/javascript\">window.addEventListener(\"resize\", function(){window._Plotly.Plots.resize(document.getElementById(\"d910a10f-adc9-4485-bd0b-5a29f616e3f7\"));});</script>"
      ]
     },
     "metadata": {},
     "output_type": "display_data"
    },
    {
     "data": {
      "application/vnd.plotly.v1+json": {
       "config": {
        "linkText": "Export to plot.ly",
        "plotlyServerURL": "https://plot.ly",
        "showLink": true
       },
       "data": [
        {
         "colorscale": [
          [
           0,
           "#000000"
          ],
          [
           0.5,
           "#FFFFFF"
          ],
          [
           1,
           "#ffffff"
          ]
         ],
         "hoverinfo": "none",
         "opacity": 0.75,
         "showscale": false,
         "type": "heatmap",
         "uid": "8aeb669e-008b-4739-8cc9-69a1cba69fa8",
         "z": [
          [
           0,
           0,
           0,
           0
          ],
          [
           0.5,
           0.5,
           0.5,
           0.5
          ],
          [
           1,
           1,
           1,
           1
          ],
          [
           0.5,
           0.5,
           0.5,
           0.5
          ],
          [
           1,
           1,
           1,
           1
          ],
          [
           0.5,
           0.5,
           0.5,
           0.5
          ],
          [
           1,
           1,
           1,
           1
          ],
          [
           0.5,
           0.5,
           0.5,
           0.5
          ],
          [
           1,
           1,
           1,
           1
          ],
          [
           0.5,
           0.5,
           0.5,
           0.5
          ],
          [
           1,
           1,
           1,
           1
          ]
         ]
        }
       ],
       "layout": {
        "annotations": [
         {
          "align": "left",
          "font": {
           "color": "#ffffff"
          },
          "showarrow": false,
          "text": "<b>Sequence Length</b>",
          "x": -0.45,
          "xanchor": "left",
          "xref": "x",
          "y": 0,
          "yref": "y"
         },
         {
          "align": "left",
          "font": {
           "color": "#ffffff"
          },
          "showarrow": false,
          "text": "<b>Splay</b>",
          "x": 0.55,
          "xanchor": "left",
          "xref": "x",
          "y": 0,
          "yref": "y"
         },
         {
          "align": "left",
          "font": {
           "color": "#ffffff"
          },
          "showarrow": false,
          "text": "<b>Transpose</b>",
          "x": 1.55,
          "xanchor": "left",
          "xref": "x",
          "y": 0,
          "yref": "y"
         },
         {
          "align": "left",
          "font": {
           "color": "#ffffff"
          },
          "showarrow": false,
          "text": "<b>2-in-a-Row</b>",
          "x": 2.55,
          "xanchor": "left",
          "xref": "x",
          "y": 0,
          "yref": "y"
         },
         {
          "align": "left",
          "font": {
           "color": "#000000"
          },
          "showarrow": false,
          "text": "10000",
          "x": -0.45,
          "xanchor": "left",
          "xref": "x",
          "y": 1,
          "yref": "y"
         },
         {
          "align": "left",
          "font": {
           "color": "#000000"
          },
          "showarrow": false,
          "text": "6553",
          "x": 0.55,
          "xanchor": "left",
          "xref": "x",
          "y": 1,
          "yref": "y"
         },
         {
          "align": "left",
          "font": {
           "color": "#000000"
          },
          "showarrow": false,
          "text": "4034",
          "x": 1.55,
          "xanchor": "left",
          "xref": "x",
          "y": 1,
          "yref": "y"
         },
         {
          "align": "left",
          "font": {
           "color": "#000000"
          },
          "showarrow": false,
          "text": "5307",
          "x": 2.55,
          "xanchor": "left",
          "xref": "x",
          "y": 1,
          "yref": "y"
         },
         {
          "align": "left",
          "font": {
           "color": "#000000"
          },
          "showarrow": false,
          "text": "20000",
          "x": -0.45,
          "xanchor": "left",
          "xref": "x",
          "y": 2,
          "yref": "y"
         },
         {
          "align": "left",
          "font": {
           "color": "#000000"
          },
          "showarrow": false,
          "text": "14156",
          "x": 0.55,
          "xanchor": "left",
          "xref": "x",
          "y": 2,
          "yref": "y"
         },
         {
          "align": "left",
          "font": {
           "color": "#000000"
          },
          "showarrow": false,
          "text": "8560",
          "x": 1.55,
          "xanchor": "left",
          "xref": "x",
          "y": 2,
          "yref": "y"
         },
         {
          "align": "left",
          "font": {
           "color": "#000000"
          },
          "showarrow": false,
          "text": "11267",
          "x": 2.55,
          "xanchor": "left",
          "xref": "x",
          "y": 2,
          "yref": "y"
         },
         {
          "align": "left",
          "font": {
           "color": "#000000"
          },
          "showarrow": false,
          "text": "30000",
          "x": -0.45,
          "xanchor": "left",
          "xref": "x",
          "y": 3,
          "yref": "y"
         },
         {
          "align": "left",
          "font": {
           "color": "#000000"
          },
          "showarrow": false,
          "text": "19807",
          "x": 0.55,
          "xanchor": "left",
          "xref": "x",
          "y": 3,
          "yref": "y"
         },
         {
          "align": "left",
          "font": {
           "color": "#000000"
          },
          "showarrow": false,
          "text": "12451",
          "x": 1.55,
          "xanchor": "left",
          "xref": "x",
          "y": 3,
          "yref": "y"
         },
         {
          "align": "left",
          "font": {
           "color": "#000000"
          },
          "showarrow": false,
          "text": "16194",
          "x": 2.55,
          "xanchor": "left",
          "xref": "x",
          "y": 3,
          "yref": "y"
         },
         {
          "align": "left",
          "font": {
           "color": "#000000"
          },
          "showarrow": false,
          "text": "40000",
          "x": -0.45,
          "xanchor": "left",
          "xref": "x",
          "y": 4,
          "yref": "y"
         },
         {
          "align": "left",
          "font": {
           "color": "#000000"
          },
          "showarrow": false,
          "text": "26983",
          "x": 0.55,
          "xanchor": "left",
          "xref": "x",
          "y": 4,
          "yref": "y"
         },
         {
          "align": "left",
          "font": {
           "color": "#000000"
          },
          "showarrow": false,
          "text": "16532",
          "x": 1.55,
          "xanchor": "left",
          "xref": "x",
          "y": 4,
          "yref": "y"
         },
         {
          "align": "left",
          "font": {
           "color": "#000000"
          },
          "showarrow": false,
          "text": "21743",
          "x": 2.55,
          "xanchor": "left",
          "xref": "x",
          "y": 4,
          "yref": "y"
         },
         {
          "align": "left",
          "font": {
           "color": "#000000"
          },
          "showarrow": false,
          "text": "50000",
          "x": -0.45,
          "xanchor": "left",
          "xref": "x",
          "y": 5,
          "yref": "y"
         },
         {
          "align": "left",
          "font": {
           "color": "#000000"
          },
          "showarrow": false,
          "text": "33323",
          "x": 0.55,
          "xanchor": "left",
          "xref": "x",
          "y": 5,
          "yref": "y"
         },
         {
          "align": "left",
          "font": {
           "color": "#000000"
          },
          "showarrow": false,
          "text": "20329",
          "x": 1.55,
          "xanchor": "left",
          "xref": "x",
          "y": 5,
          "yref": "y"
         },
         {
          "align": "left",
          "font": {
           "color": "#000000"
          },
          "showarrow": false,
          "text": "26905",
          "x": 2.55,
          "xanchor": "left",
          "xref": "x",
          "y": 5,
          "yref": "y"
         },
         {
          "align": "left",
          "font": {
           "color": "#000000"
          },
          "showarrow": false,
          "text": "60000",
          "x": -0.45,
          "xanchor": "left",
          "xref": "x",
          "y": 6,
          "yref": "y"
         },
         {
          "align": "left",
          "font": {
           "color": "#000000"
          },
          "showarrow": false,
          "text": "41841",
          "x": 0.55,
          "xanchor": "left",
          "xref": "x",
          "y": 6,
          "yref": "y"
         },
         {
          "align": "left",
          "font": {
           "color": "#000000"
          },
          "showarrow": false,
          "text": "25895",
          "x": 1.55,
          "xanchor": "left",
          "xref": "x",
          "y": 6,
          "yref": "y"
         },
         {
          "align": "left",
          "font": {
           "color": "#000000"
          },
          "showarrow": false,
          "text": "34136",
          "x": 2.55,
          "xanchor": "left",
          "xref": "x",
          "y": 6,
          "yref": "y"
         },
         {
          "align": "left",
          "font": {
           "color": "#000000"
          },
          "showarrow": false,
          "text": "70000",
          "x": -0.45,
          "xanchor": "left",
          "xref": "x",
          "y": 7,
          "yref": "y"
         },
         {
          "align": "left",
          "font": {
           "color": "#000000"
          },
          "showarrow": false,
          "text": "47003",
          "x": 0.55,
          "xanchor": "left",
          "xref": "x",
          "y": 7,
          "yref": "y"
         },
         {
          "align": "left",
          "font": {
           "color": "#000000"
          },
          "showarrow": false,
          "text": "29025",
          "x": 1.55,
          "xanchor": "left",
          "xref": "x",
          "y": 7,
          "yref": "y"
         },
         {
          "align": "left",
          "font": {
           "color": "#000000"
          },
          "showarrow": false,
          "text": "37912",
          "x": 2.55,
          "xanchor": "left",
          "xref": "x",
          "y": 7,
          "yref": "y"
         },
         {
          "align": "left",
          "font": {
           "color": "#000000"
          },
          "showarrow": false,
          "text": "80000",
          "x": -0.45,
          "xanchor": "left",
          "xref": "x",
          "y": 8,
          "yref": "y"
         },
         {
          "align": "left",
          "font": {
           "color": "#000000"
          },
          "showarrow": false,
          "text": "54787",
          "x": 0.55,
          "xanchor": "left",
          "xref": "x",
          "y": 8,
          "yref": "y"
         },
         {
          "align": "left",
          "font": {
           "color": "#000000"
          },
          "showarrow": false,
          "text": "33449",
          "x": 1.55,
          "xanchor": "left",
          "xref": "x",
          "y": 8,
          "yref": "y"
         },
         {
          "align": "left",
          "font": {
           "color": "#000000"
          },
          "showarrow": false,
          "text": "44389",
          "x": 2.55,
          "xanchor": "left",
          "xref": "x",
          "y": 8,
          "yref": "y"
         },
         {
          "align": "left",
          "font": {
           "color": "#000000"
          },
          "showarrow": false,
          "text": "90000",
          "x": -0.45,
          "xanchor": "left",
          "xref": "x",
          "y": 9,
          "yref": "y"
         },
         {
          "align": "left",
          "font": {
           "color": "#000000"
          },
          "showarrow": false,
          "text": "60192",
          "x": 0.55,
          "xanchor": "left",
          "xref": "x",
          "y": 9,
          "yref": "y"
         },
         {
          "align": "left",
          "font": {
           "color": "#000000"
          },
          "showarrow": false,
          "text": "37087",
          "x": 1.55,
          "xanchor": "left",
          "xref": "x",
          "y": 9,
          "yref": "y"
         },
         {
          "align": "left",
          "font": {
           "color": "#000000"
          },
          "showarrow": false,
          "text": "48451",
          "x": 2.55,
          "xanchor": "left",
          "xref": "x",
          "y": 9,
          "yref": "y"
         },
         {
          "align": "left",
          "font": {
           "color": "#000000"
          },
          "showarrow": false,
          "text": "100000",
          "x": -0.45,
          "xanchor": "left",
          "xref": "x",
          "y": 10,
          "yref": "y"
         },
         {
          "align": "left",
          "font": {
           "color": "#000000"
          },
          "showarrow": false,
          "text": "67449",
          "x": 0.55,
          "xanchor": "left",
          "xref": "x",
          "y": 10,
          "yref": "y"
         },
         {
          "align": "left",
          "font": {
           "color": "#000000"
          },
          "showarrow": false,
          "text": "41804",
          "x": 1.55,
          "xanchor": "left",
          "xref": "x",
          "y": 10,
          "yref": "y"
         },
         {
          "align": "left",
          "font": {
           "color": "#000000"
          },
          "showarrow": false,
          "text": "54749",
          "x": 2.55,
          "xanchor": "left",
          "xref": "x",
          "y": 10,
          "yref": "y"
         }
        ],
        "height": 380,
        "margin": {
         "b": 0,
         "l": 0,
         "r": 0,
         "t": 0
        },
        "xaxis": {
         "dtick": 1,
         "gridwidth": 2,
         "showticklabels": false,
         "tick0": -0.5,
         "ticks": "",
         "zeroline": false
        },
        "yaxis": {
         "autorange": "reversed",
         "dtick": 1,
         "gridwidth": 2,
         "showticklabels": false,
         "tick0": 0.5,
         "ticks": "",
         "zeroline": false
        }
       }
      },
      "text/html": [
       "<div id=\"6c71ccf4-9be9-4e9a-bcda-3f18dab82d10\" style=\"height: 380px; width: 100%;\" class=\"plotly-graph-div\"></div><script type=\"text/javascript\">require([\"plotly\"], function(Plotly) { window.PLOTLYENV=window.PLOTLYENV || {};window.PLOTLYENV.BASE_URL=\"https://plot.ly\";Plotly.newPlot(\"6c71ccf4-9be9-4e9a-bcda-3f18dab82d10\", [{\"colorscale\": [[0, \"#000000\"], [0.5, \"#FFFFFF\"], [1, \"#ffffff\"]], \"hoverinfo\": \"none\", \"opacity\": 0.75, \"showscale\": false, \"z\": [[0, 0, 0, 0], [0.5, 0.5, 0.5, 0.5], [1, 1, 1, 1], [0.5, 0.5, 0.5, 0.5], [1, 1, 1, 1], [0.5, 0.5, 0.5, 0.5], [1, 1, 1, 1], [0.5, 0.5, 0.5, 0.5], [1, 1, 1, 1], [0.5, 0.5, 0.5, 0.5], [1, 1, 1, 1]], \"type\": \"heatmap\", \"uid\": \"8aeb669e-008b-4739-8cc9-69a1cba69fa8\"}], {\"annotations\": [{\"align\": \"left\", \"font\": {\"color\": \"#ffffff\"}, \"showarrow\": false, \"text\": \"<b>Sequence Length</b>\", \"x\": -0.45, \"xanchor\": \"left\", \"xref\": \"x\", \"y\": 0, \"yref\": \"y\"}, {\"align\": \"left\", \"font\": {\"color\": \"#ffffff\"}, \"showarrow\": false, \"text\": \"<b>Splay</b>\", \"x\": 0.55, \"xanchor\": \"left\", \"xref\": \"x\", \"y\": 0, \"yref\": \"y\"}, {\"align\": \"left\", \"font\": {\"color\": \"#ffffff\"}, \"showarrow\": false, \"text\": \"<b>Transpose</b>\", \"x\": 1.55, \"xanchor\": \"left\", \"xref\": \"x\", \"y\": 0, \"yref\": \"y\"}, {\"align\": \"left\", \"font\": {\"color\": \"#ffffff\"}, \"showarrow\": false, \"text\": \"<b>2-in-a-Row</b>\", \"x\": 2.55, \"xanchor\": \"left\", \"xref\": \"x\", \"y\": 0, \"yref\": \"y\"}, {\"align\": \"left\", \"font\": {\"color\": \"#000000\"}, \"showarrow\": false, \"text\": \"10000\", \"x\": -0.45, \"xanchor\": \"left\", \"xref\": \"x\", \"y\": 1, \"yref\": \"y\"}, {\"align\": \"left\", \"font\": {\"color\": \"#000000\"}, \"showarrow\": false, \"text\": \"6553\", \"x\": 0.55, \"xanchor\": \"left\", \"xref\": \"x\", \"y\": 1, \"yref\": \"y\"}, {\"align\": \"left\", \"font\": {\"color\": \"#000000\"}, \"showarrow\": false, \"text\": \"4034\", \"x\": 1.55, \"xanchor\": \"left\", \"xref\": \"x\", \"y\": 1, \"yref\": \"y\"}, {\"align\": \"left\", \"font\": {\"color\": \"#000000\"}, \"showarrow\": false, \"text\": \"5307\", \"x\": 2.55, \"xanchor\": \"left\", \"xref\": \"x\", \"y\": 1, \"yref\": \"y\"}, {\"align\": \"left\", \"font\": {\"color\": \"#000000\"}, \"showarrow\": false, \"text\": \"20000\", \"x\": -0.45, \"xanchor\": \"left\", \"xref\": \"x\", \"y\": 2, \"yref\": \"y\"}, {\"align\": \"left\", \"font\": {\"color\": \"#000000\"}, \"showarrow\": false, \"text\": \"14156\", \"x\": 0.55, \"xanchor\": \"left\", \"xref\": \"x\", \"y\": 2, \"yref\": \"y\"}, {\"align\": \"left\", \"font\": {\"color\": \"#000000\"}, \"showarrow\": false, \"text\": \"8560\", \"x\": 1.55, \"xanchor\": \"left\", \"xref\": \"x\", \"y\": 2, \"yref\": \"y\"}, {\"align\": \"left\", \"font\": {\"color\": \"#000000\"}, \"showarrow\": false, \"text\": \"11267\", \"x\": 2.55, \"xanchor\": \"left\", \"xref\": \"x\", \"y\": 2, \"yref\": \"y\"}, {\"align\": \"left\", \"font\": {\"color\": \"#000000\"}, \"showarrow\": false, \"text\": \"30000\", \"x\": -0.45, \"xanchor\": \"left\", \"xref\": \"x\", \"y\": 3, \"yref\": \"y\"}, {\"align\": \"left\", \"font\": {\"color\": \"#000000\"}, \"showarrow\": false, \"text\": \"19807\", \"x\": 0.55, \"xanchor\": \"left\", \"xref\": \"x\", \"y\": 3, \"yref\": \"y\"}, {\"align\": \"left\", \"font\": {\"color\": \"#000000\"}, \"showarrow\": false, \"text\": \"12451\", \"x\": 1.55, \"xanchor\": \"left\", \"xref\": \"x\", \"y\": 3, \"yref\": \"y\"}, {\"align\": \"left\", \"font\": {\"color\": \"#000000\"}, \"showarrow\": false, \"text\": \"16194\", \"x\": 2.55, \"xanchor\": \"left\", \"xref\": \"x\", \"y\": 3, \"yref\": \"y\"}, {\"align\": \"left\", \"font\": {\"color\": \"#000000\"}, \"showarrow\": false, \"text\": \"40000\", \"x\": -0.45, \"xanchor\": \"left\", \"xref\": \"x\", \"y\": 4, \"yref\": \"y\"}, {\"align\": \"left\", \"font\": {\"color\": \"#000000\"}, \"showarrow\": false, \"text\": \"26983\", \"x\": 0.55, \"xanchor\": \"left\", \"xref\": \"x\", \"y\": 4, \"yref\": \"y\"}, {\"align\": \"left\", \"font\": {\"color\": \"#000000\"}, \"showarrow\": false, \"text\": \"16532\", \"x\": 1.55, \"xanchor\": \"left\", \"xref\": \"x\", \"y\": 4, \"yref\": \"y\"}, {\"align\": \"left\", \"font\": {\"color\": \"#000000\"}, \"showarrow\": false, \"text\": \"21743\", \"x\": 2.55, \"xanchor\": \"left\", \"xref\": \"x\", \"y\": 4, \"yref\": \"y\"}, {\"align\": \"left\", \"font\": {\"color\": \"#000000\"}, \"showarrow\": false, \"text\": \"50000\", \"x\": -0.45, \"xanchor\": \"left\", \"xref\": \"x\", \"y\": 5, \"yref\": \"y\"}, {\"align\": \"left\", \"font\": {\"color\": \"#000000\"}, \"showarrow\": false, \"text\": \"33323\", \"x\": 0.55, \"xanchor\": \"left\", \"xref\": \"x\", \"y\": 5, \"yref\": \"y\"}, {\"align\": \"left\", \"font\": {\"color\": \"#000000\"}, \"showarrow\": false, \"text\": \"20329\", \"x\": 1.55, \"xanchor\": \"left\", \"xref\": \"x\", \"y\": 5, \"yref\": \"y\"}, {\"align\": \"left\", \"font\": {\"color\": \"#000000\"}, \"showarrow\": false, \"text\": \"26905\", \"x\": 2.55, \"xanchor\": \"left\", \"xref\": \"x\", \"y\": 5, \"yref\": \"y\"}, {\"align\": \"left\", \"font\": {\"color\": \"#000000\"}, \"showarrow\": false, \"text\": \"60000\", \"x\": -0.45, \"xanchor\": \"left\", \"xref\": \"x\", \"y\": 6, \"yref\": \"y\"}, {\"align\": \"left\", \"font\": {\"color\": \"#000000\"}, \"showarrow\": false, \"text\": \"41841\", \"x\": 0.55, \"xanchor\": \"left\", \"xref\": \"x\", \"y\": 6, \"yref\": \"y\"}, {\"align\": \"left\", \"font\": {\"color\": \"#000000\"}, \"showarrow\": false, \"text\": \"25895\", \"x\": 1.55, \"xanchor\": \"left\", \"xref\": \"x\", \"y\": 6, \"yref\": \"y\"}, {\"align\": \"left\", \"font\": {\"color\": \"#000000\"}, \"showarrow\": false, \"text\": \"34136\", \"x\": 2.55, \"xanchor\": \"left\", \"xref\": \"x\", \"y\": 6, \"yref\": \"y\"}, {\"align\": \"left\", \"font\": {\"color\": \"#000000\"}, \"showarrow\": false, \"text\": \"70000\", \"x\": -0.45, \"xanchor\": \"left\", \"xref\": \"x\", \"y\": 7, \"yref\": \"y\"}, {\"align\": \"left\", \"font\": {\"color\": \"#000000\"}, \"showarrow\": false, \"text\": \"47003\", \"x\": 0.55, \"xanchor\": \"left\", \"xref\": \"x\", \"y\": 7, \"yref\": \"y\"}, {\"align\": \"left\", \"font\": {\"color\": \"#000000\"}, \"showarrow\": false, \"text\": \"29025\", \"x\": 1.55, \"xanchor\": \"left\", \"xref\": \"x\", \"y\": 7, \"yref\": \"y\"}, {\"align\": \"left\", \"font\": {\"color\": \"#000000\"}, \"showarrow\": false, \"text\": \"37912\", \"x\": 2.55, \"xanchor\": \"left\", \"xref\": \"x\", \"y\": 7, \"yref\": \"y\"}, {\"align\": \"left\", \"font\": {\"color\": \"#000000\"}, \"showarrow\": false, \"text\": \"80000\", \"x\": -0.45, \"xanchor\": \"left\", \"xref\": \"x\", \"y\": 8, \"yref\": \"y\"}, {\"align\": \"left\", \"font\": {\"color\": \"#000000\"}, \"showarrow\": false, \"text\": \"54787\", \"x\": 0.55, \"xanchor\": \"left\", \"xref\": \"x\", \"y\": 8, \"yref\": \"y\"}, {\"align\": \"left\", \"font\": {\"color\": \"#000000\"}, \"showarrow\": false, \"text\": \"33449\", \"x\": 1.55, \"xanchor\": \"left\", \"xref\": \"x\", \"y\": 8, \"yref\": \"y\"}, {\"align\": \"left\", \"font\": {\"color\": \"#000000\"}, \"showarrow\": false, \"text\": \"44389\", \"x\": 2.55, \"xanchor\": \"left\", \"xref\": \"x\", \"y\": 8, \"yref\": \"y\"}, {\"align\": \"left\", \"font\": {\"color\": \"#000000\"}, \"showarrow\": false, \"text\": \"90000\", \"x\": -0.45, \"xanchor\": \"left\", \"xref\": \"x\", \"y\": 9, \"yref\": \"y\"}, {\"align\": \"left\", \"font\": {\"color\": \"#000000\"}, \"showarrow\": false, \"text\": \"60192\", \"x\": 0.55, \"xanchor\": \"left\", \"xref\": \"x\", \"y\": 9, \"yref\": \"y\"}, {\"align\": \"left\", \"font\": {\"color\": \"#000000\"}, \"showarrow\": false, \"text\": \"37087\", \"x\": 1.55, \"xanchor\": \"left\", \"xref\": \"x\", \"y\": 9, \"yref\": \"y\"}, {\"align\": \"left\", \"font\": {\"color\": \"#000000\"}, \"showarrow\": false, \"text\": \"48451\", \"x\": 2.55, \"xanchor\": \"left\", \"xref\": \"x\", \"y\": 9, \"yref\": \"y\"}, {\"align\": \"left\", \"font\": {\"color\": \"#000000\"}, \"showarrow\": false, \"text\": \"100000\", \"x\": -0.45, \"xanchor\": \"left\", \"xref\": \"x\", \"y\": 10, \"yref\": \"y\"}, {\"align\": \"left\", \"font\": {\"color\": \"#000000\"}, \"showarrow\": false, \"text\": \"67449\", \"x\": 0.55, \"xanchor\": \"left\", \"xref\": \"x\", \"y\": 10, \"yref\": \"y\"}, {\"align\": \"left\", \"font\": {\"color\": \"#000000\"}, \"showarrow\": false, \"text\": \"41804\", \"x\": 1.55, \"xanchor\": \"left\", \"xref\": \"x\", \"y\": 10, \"yref\": \"y\"}, {\"align\": \"left\", \"font\": {\"color\": \"#000000\"}, \"showarrow\": false, \"text\": \"54749\", \"x\": 2.55, \"xanchor\": \"left\", \"xref\": \"x\", \"y\": 10, \"yref\": \"y\"}], \"height\": 380, \"margin\": {\"b\": 0, \"l\": 0, \"r\": 0, \"t\": 0}, \"xaxis\": {\"dtick\": 1, \"gridwidth\": 2, \"showticklabels\": false, \"tick0\": -0.5, \"ticks\": \"\", \"zeroline\": false}, \"yaxis\": {\"autorange\": \"reversed\", \"dtick\": 1, \"gridwidth\": 2, \"showticklabels\": false, \"tick0\": 0.5, \"ticks\": \"\", \"zeroline\": false}}, {\"showLink\": true, \"linkText\": \"Export to plot.ly\", \"plotlyServerURL\": \"https://plot.ly\"})});</script><script type=\"text/javascript\">window.addEventListener(\"resize\", function(){window._Plotly.Plots.resize(document.getElementById(\"6c71ccf4-9be9-4e9a-bcda-3f18dab82d10\"));});</script>"
      ],
      "text/vnd.plotly.v1+html": [
       "<div id=\"6c71ccf4-9be9-4e9a-bcda-3f18dab82d10\" style=\"height: 380px; width: 100%;\" class=\"plotly-graph-div\"></div><script type=\"text/javascript\">require([\"plotly\"], function(Plotly) { window.PLOTLYENV=window.PLOTLYENV || {};window.PLOTLYENV.BASE_URL=\"https://plot.ly\";Plotly.newPlot(\"6c71ccf4-9be9-4e9a-bcda-3f18dab82d10\", [{\"colorscale\": [[0, \"#000000\"], [0.5, \"#FFFFFF\"], [1, \"#ffffff\"]], \"hoverinfo\": \"none\", \"opacity\": 0.75, \"showscale\": false, \"z\": [[0, 0, 0, 0], [0.5, 0.5, 0.5, 0.5], [1, 1, 1, 1], [0.5, 0.5, 0.5, 0.5], [1, 1, 1, 1], [0.5, 0.5, 0.5, 0.5], [1, 1, 1, 1], [0.5, 0.5, 0.5, 0.5], [1, 1, 1, 1], [0.5, 0.5, 0.5, 0.5], [1, 1, 1, 1]], \"type\": \"heatmap\", \"uid\": \"8aeb669e-008b-4739-8cc9-69a1cba69fa8\"}], {\"annotations\": [{\"align\": \"left\", \"font\": {\"color\": \"#ffffff\"}, \"showarrow\": false, \"text\": \"<b>Sequence Length</b>\", \"x\": -0.45, \"xanchor\": \"left\", \"xref\": \"x\", \"y\": 0, \"yref\": \"y\"}, {\"align\": \"left\", \"font\": {\"color\": \"#ffffff\"}, \"showarrow\": false, \"text\": \"<b>Splay</b>\", \"x\": 0.55, \"xanchor\": \"left\", \"xref\": \"x\", \"y\": 0, \"yref\": \"y\"}, {\"align\": \"left\", \"font\": {\"color\": \"#ffffff\"}, \"showarrow\": false, \"text\": \"<b>Transpose</b>\", \"x\": 1.55, \"xanchor\": \"left\", \"xref\": \"x\", \"y\": 0, \"yref\": \"y\"}, {\"align\": \"left\", \"font\": {\"color\": \"#ffffff\"}, \"showarrow\": false, \"text\": \"<b>2-in-a-Row</b>\", \"x\": 2.55, \"xanchor\": \"left\", \"xref\": \"x\", \"y\": 0, \"yref\": \"y\"}, {\"align\": \"left\", \"font\": {\"color\": \"#000000\"}, \"showarrow\": false, \"text\": \"10000\", \"x\": -0.45, \"xanchor\": \"left\", \"xref\": \"x\", \"y\": 1, \"yref\": \"y\"}, {\"align\": \"left\", \"font\": {\"color\": \"#000000\"}, \"showarrow\": false, \"text\": \"6553\", \"x\": 0.55, \"xanchor\": \"left\", \"xref\": \"x\", \"y\": 1, \"yref\": \"y\"}, {\"align\": \"left\", \"font\": {\"color\": \"#000000\"}, \"showarrow\": false, \"text\": \"4034\", \"x\": 1.55, \"xanchor\": \"left\", \"xref\": \"x\", \"y\": 1, \"yref\": \"y\"}, {\"align\": \"left\", \"font\": {\"color\": \"#000000\"}, \"showarrow\": false, \"text\": \"5307\", \"x\": 2.55, \"xanchor\": \"left\", \"xref\": \"x\", \"y\": 1, \"yref\": \"y\"}, {\"align\": \"left\", \"font\": {\"color\": \"#000000\"}, \"showarrow\": false, \"text\": \"20000\", \"x\": -0.45, \"xanchor\": \"left\", \"xref\": \"x\", \"y\": 2, \"yref\": \"y\"}, {\"align\": \"left\", \"font\": {\"color\": \"#000000\"}, \"showarrow\": false, \"text\": \"14156\", \"x\": 0.55, \"xanchor\": \"left\", \"xref\": \"x\", \"y\": 2, \"yref\": \"y\"}, {\"align\": \"left\", \"font\": {\"color\": \"#000000\"}, \"showarrow\": false, \"text\": \"8560\", \"x\": 1.55, \"xanchor\": \"left\", \"xref\": \"x\", \"y\": 2, \"yref\": \"y\"}, {\"align\": \"left\", \"font\": {\"color\": \"#000000\"}, \"showarrow\": false, \"text\": \"11267\", \"x\": 2.55, \"xanchor\": \"left\", \"xref\": \"x\", \"y\": 2, \"yref\": \"y\"}, {\"align\": \"left\", \"font\": {\"color\": \"#000000\"}, \"showarrow\": false, \"text\": \"30000\", \"x\": -0.45, \"xanchor\": \"left\", \"xref\": \"x\", \"y\": 3, \"yref\": \"y\"}, {\"align\": \"left\", \"font\": {\"color\": \"#000000\"}, \"showarrow\": false, \"text\": \"19807\", \"x\": 0.55, \"xanchor\": \"left\", \"xref\": \"x\", \"y\": 3, \"yref\": \"y\"}, {\"align\": \"left\", \"font\": {\"color\": \"#000000\"}, \"showarrow\": false, \"text\": \"12451\", \"x\": 1.55, \"xanchor\": \"left\", \"xref\": \"x\", \"y\": 3, \"yref\": \"y\"}, {\"align\": \"left\", \"font\": {\"color\": \"#000000\"}, \"showarrow\": false, \"text\": \"16194\", \"x\": 2.55, \"xanchor\": \"left\", \"xref\": \"x\", \"y\": 3, \"yref\": \"y\"}, {\"align\": \"left\", \"font\": {\"color\": \"#000000\"}, \"showarrow\": false, \"text\": \"40000\", \"x\": -0.45, \"xanchor\": \"left\", \"xref\": \"x\", \"y\": 4, \"yref\": \"y\"}, {\"align\": \"left\", \"font\": {\"color\": \"#000000\"}, \"showarrow\": false, \"text\": \"26983\", \"x\": 0.55, \"xanchor\": \"left\", \"xref\": \"x\", \"y\": 4, \"yref\": \"y\"}, {\"align\": \"left\", \"font\": {\"color\": \"#000000\"}, \"showarrow\": false, \"text\": \"16532\", \"x\": 1.55, \"xanchor\": \"left\", \"xref\": \"x\", \"y\": 4, \"yref\": \"y\"}, {\"align\": \"left\", \"font\": {\"color\": \"#000000\"}, \"showarrow\": false, \"text\": \"21743\", \"x\": 2.55, \"xanchor\": \"left\", \"xref\": \"x\", \"y\": 4, \"yref\": \"y\"}, {\"align\": \"left\", \"font\": {\"color\": \"#000000\"}, \"showarrow\": false, \"text\": \"50000\", \"x\": -0.45, \"xanchor\": \"left\", \"xref\": \"x\", \"y\": 5, \"yref\": \"y\"}, {\"align\": \"left\", \"font\": {\"color\": \"#000000\"}, \"showarrow\": false, \"text\": \"33323\", \"x\": 0.55, \"xanchor\": \"left\", \"xref\": \"x\", \"y\": 5, \"yref\": \"y\"}, {\"align\": \"left\", \"font\": {\"color\": \"#000000\"}, \"showarrow\": false, \"text\": \"20329\", \"x\": 1.55, \"xanchor\": \"left\", \"xref\": \"x\", \"y\": 5, \"yref\": \"y\"}, {\"align\": \"left\", \"font\": {\"color\": \"#000000\"}, \"showarrow\": false, \"text\": \"26905\", \"x\": 2.55, \"xanchor\": \"left\", \"xref\": \"x\", \"y\": 5, \"yref\": \"y\"}, {\"align\": \"left\", \"font\": {\"color\": \"#000000\"}, \"showarrow\": false, \"text\": \"60000\", \"x\": -0.45, \"xanchor\": \"left\", \"xref\": \"x\", \"y\": 6, \"yref\": \"y\"}, {\"align\": \"left\", \"font\": {\"color\": \"#000000\"}, \"showarrow\": false, \"text\": \"41841\", \"x\": 0.55, \"xanchor\": \"left\", \"xref\": \"x\", \"y\": 6, \"yref\": \"y\"}, {\"align\": \"left\", \"font\": {\"color\": \"#000000\"}, \"showarrow\": false, \"text\": \"25895\", \"x\": 1.55, \"xanchor\": \"left\", \"xref\": \"x\", \"y\": 6, \"yref\": \"y\"}, {\"align\": \"left\", \"font\": {\"color\": \"#000000\"}, \"showarrow\": false, \"text\": \"34136\", \"x\": 2.55, \"xanchor\": \"left\", \"xref\": \"x\", \"y\": 6, \"yref\": \"y\"}, {\"align\": \"left\", \"font\": {\"color\": \"#000000\"}, \"showarrow\": false, \"text\": \"70000\", \"x\": -0.45, \"xanchor\": \"left\", \"xref\": \"x\", \"y\": 7, \"yref\": \"y\"}, {\"align\": \"left\", \"font\": {\"color\": \"#000000\"}, \"showarrow\": false, \"text\": \"47003\", \"x\": 0.55, \"xanchor\": \"left\", \"xref\": \"x\", \"y\": 7, \"yref\": \"y\"}, {\"align\": \"left\", \"font\": {\"color\": \"#000000\"}, \"showarrow\": false, \"text\": \"29025\", \"x\": 1.55, \"xanchor\": \"left\", \"xref\": \"x\", \"y\": 7, \"yref\": \"y\"}, {\"align\": \"left\", \"font\": {\"color\": \"#000000\"}, \"showarrow\": false, \"text\": \"37912\", \"x\": 2.55, \"xanchor\": \"left\", \"xref\": \"x\", \"y\": 7, \"yref\": \"y\"}, {\"align\": \"left\", \"font\": {\"color\": \"#000000\"}, \"showarrow\": false, \"text\": \"80000\", \"x\": -0.45, \"xanchor\": \"left\", \"xref\": \"x\", \"y\": 8, \"yref\": \"y\"}, {\"align\": \"left\", \"font\": {\"color\": \"#000000\"}, \"showarrow\": false, \"text\": \"54787\", \"x\": 0.55, \"xanchor\": \"left\", \"xref\": \"x\", \"y\": 8, \"yref\": \"y\"}, {\"align\": \"left\", \"font\": {\"color\": \"#000000\"}, \"showarrow\": false, \"text\": \"33449\", \"x\": 1.55, \"xanchor\": \"left\", \"xref\": \"x\", \"y\": 8, \"yref\": \"y\"}, {\"align\": \"left\", \"font\": {\"color\": \"#000000\"}, \"showarrow\": false, \"text\": \"44389\", \"x\": 2.55, \"xanchor\": \"left\", \"xref\": \"x\", \"y\": 8, \"yref\": \"y\"}, {\"align\": \"left\", \"font\": {\"color\": \"#000000\"}, \"showarrow\": false, \"text\": \"90000\", \"x\": -0.45, \"xanchor\": \"left\", \"xref\": \"x\", \"y\": 9, \"yref\": \"y\"}, {\"align\": \"left\", \"font\": {\"color\": \"#000000\"}, \"showarrow\": false, \"text\": \"60192\", \"x\": 0.55, \"xanchor\": \"left\", \"xref\": \"x\", \"y\": 9, \"yref\": \"y\"}, {\"align\": \"left\", \"font\": {\"color\": \"#000000\"}, \"showarrow\": false, \"text\": \"37087\", \"x\": 1.55, \"xanchor\": \"left\", \"xref\": \"x\", \"y\": 9, \"yref\": \"y\"}, {\"align\": \"left\", \"font\": {\"color\": \"#000000\"}, \"showarrow\": false, \"text\": \"48451\", \"x\": 2.55, \"xanchor\": \"left\", \"xref\": \"x\", \"y\": 9, \"yref\": \"y\"}, {\"align\": \"left\", \"font\": {\"color\": \"#000000\"}, \"showarrow\": false, \"text\": \"100000\", \"x\": -0.45, \"xanchor\": \"left\", \"xref\": \"x\", \"y\": 10, \"yref\": \"y\"}, {\"align\": \"left\", \"font\": {\"color\": \"#000000\"}, \"showarrow\": false, \"text\": \"67449\", \"x\": 0.55, \"xanchor\": \"left\", \"xref\": \"x\", \"y\": 10, \"yref\": \"y\"}, {\"align\": \"left\", \"font\": {\"color\": \"#000000\"}, \"showarrow\": false, \"text\": \"41804\", \"x\": 1.55, \"xanchor\": \"left\", \"xref\": \"x\", \"y\": 10, \"yref\": \"y\"}, {\"align\": \"left\", \"font\": {\"color\": \"#000000\"}, \"showarrow\": false, \"text\": \"54749\", \"x\": 2.55, \"xanchor\": \"left\", \"xref\": \"x\", \"y\": 10, \"yref\": \"y\"}], \"height\": 380, \"margin\": {\"b\": 0, \"l\": 0, \"r\": 0, \"t\": 0}, \"xaxis\": {\"dtick\": 1, \"gridwidth\": 2, \"showticklabels\": false, \"tick0\": -0.5, \"ticks\": \"\", \"zeroline\": false}, \"yaxis\": {\"autorange\": \"reversed\", \"dtick\": 1, \"gridwidth\": 2, \"showticklabels\": false, \"tick0\": 0.5, \"ticks\": \"\", \"zeroline\": false}}, {\"showLink\": true, \"linkText\": \"Export to plot.ly\", \"plotlyServerURL\": \"https://plot.ly\"})});</script><script type=\"text/javascript\">window.addEventListener(\"resize\", function(){window._Plotly.Plots.resize(document.getElementById(\"6c71ccf4-9be9-4e9a-bcda-3f18dab82d10\"));});</script>"
      ]
     },
     "metadata": {},
     "output_type": "display_data"
    }
   ],
   "source": [
    "df = pd.read_csv('rotation/mtfMarkovHighRotationCost.csv')\n",
    "\n",
    "trace1 = go.Scatter(\n",
    "                    x=df['Sequence Length'], y=df['Access Costs'], # Data\n",
    "                    mode='lines', name='Splay',\n",
    "                    line = dict(color = ('rgb(253, 127, 40)'))\n",
    "                   )\n",
    "\n",
    "df = pd.read_csv('rotation/transposeMarkovHighRotationCost.csv')\n",
    "\n",
    "trace2 = go.Scatter(\n",
    "                    x=df['Sequence Length'], y=df['Access Costs'], # Data\n",
    "                    mode='lines', name='Transpose',\n",
    "                    line = dict(color = ('rgb(50, 158, 52)'))\n",
    "                   )\n",
    "\n",
    "df = pd.read_csv('rotation/kInARowMarkovHighRotationCost.csv')\n",
    "\n",
    "trace3 = go.Scatter(\n",
    "                    x=df['Sequence Length'], y=df['Access Costs'], # Data\n",
    "                    mode='lines', name='2-in-a-row',\n",
    "                    line = dict(color = ('rgb(211, 41, 47)'))\n",
    "                   )\n",
    "\n",
    "\n",
    "\n",
    "layout = go.Layout(title='Rotation Cost: High Self Loop',\n",
    "                   plot_bgcolor='rgb(255, 255,255)',\n",
    "                   xaxis=dict(title='Sequence Length'),\n",
    "                   yaxis=dict(title='Rotation Cost'))\n",
    "\n",
    "fig = go.Figure(data=[trace1, trace2, trace3], layout=layout)\n",
    "\n",
    "# Plot data in the notebook\n",
    "iplot(fig)\n",
    "\n",
    "\n",
    "df = pd.read_csv('table/MarkovHighRotation.csv')\n",
    "colorscale = [[0, '#000000'],[.5, '#FFFFFF'],[1, '#ffffff']]\n",
    "table = ff.create_table(df, colorscale=colorscale)\n",
    "iplot(table)"
   ]
  },
  {
   "cell_type": "code",
   "execution_count": 27,
   "metadata": {},
   "outputs": [
    {
     "data": {
      "application/vnd.plotly.v1+json": {
       "config": {
        "linkText": "Export to plot.ly",
        "plotlyServerURL": "https://plot.ly",
        "showLink": true
       },
       "data": [
        {
         "line": {
          "color": "rgb(253, 127, 40)"
         },
         "mode": "lines",
         "name": "Splay",
         "type": "scatter",
         "uid": "55c68b26-19c2-48a6-82ca-c21d18065ef7",
         "x": [
          10000,
          20000,
          30000,
          40000,
          50000,
          60000,
          70000,
          80000,
          90000,
          100000
         ],
         "y": [
          13106,
          28312,
          39614,
          53966,
          66646,
          83682,
          94006,
          109574,
          120384,
          134898
         ]
        },
        {
         "line": {
          "color": "rgb(50, 158, 52)"
         },
         "mode": "lines",
         "name": "Transpose",
         "type": "scatter",
         "uid": "ff574e38-0b29-4ee1-927a-562615f8614b",
         "x": [
          10000,
          20000,
          30000,
          40000,
          50000,
          60000,
          70000,
          80000,
          90000,
          100000
         ],
         "y": [
          30578,
          63903,
          93216,
          124774,
          153018,
          193074,
          218082,
          250751,
          278883,
          313874
         ]
        },
        {
         "line": {
          "color": "rgb(211, 41, 47)"
         },
         "mode": "lines",
         "name": "2-in-a-row",
         "type": "scatter",
         "uid": "2b3c5949-0722-4737-a453-6b5b7f78e20a",
         "x": [
          10000,
          20000,
          30000,
          40000,
          50000,
          60000,
          70000,
          80000,
          90000,
          100000
         ],
         "y": [
          22991,
          49159,
          70245,
          94807,
          116868,
          148107,
          164893,
          192808,
          210716,
          237461
         ]
        }
       ],
       "layout": {
        "plot_bgcolor": "rgb(255, 255,255)",
        "title": "Total Cost: High Self Loop",
        "xaxis": {
         "title": "Sequence Length"
        },
        "yaxis": {
         "title": "Total Cost"
        }
       }
      },
      "text/html": [
       "<div id=\"648ff7b0-0399-480f-b15e-4c46f3829226\" style=\"height: 525px; width: 100%;\" class=\"plotly-graph-div\"></div><script type=\"text/javascript\">require([\"plotly\"], function(Plotly) { window.PLOTLYENV=window.PLOTLYENV || {};window.PLOTLYENV.BASE_URL=\"https://plot.ly\";Plotly.newPlot(\"648ff7b0-0399-480f-b15e-4c46f3829226\", [{\"line\": {\"color\": \"rgb(253, 127, 40)\"}, \"mode\": \"lines\", \"name\": \"Splay\", \"x\": [10000, 20000, 30000, 40000, 50000, 60000, 70000, 80000, 90000, 100000], \"y\": [13106, 28312, 39614, 53966, 66646, 83682, 94006, 109574, 120384, 134898], \"type\": \"scatter\", \"uid\": \"55c68b26-19c2-48a6-82ca-c21d18065ef7\"}, {\"line\": {\"color\": \"rgb(50, 158, 52)\"}, \"mode\": \"lines\", \"name\": \"Transpose\", \"x\": [10000, 20000, 30000, 40000, 50000, 60000, 70000, 80000, 90000, 100000], \"y\": [30578, 63903, 93216, 124774, 153018, 193074, 218082, 250751, 278883, 313874], \"type\": \"scatter\", \"uid\": \"ff574e38-0b29-4ee1-927a-562615f8614b\"}, {\"line\": {\"color\": \"rgb(211, 41, 47)\"}, \"mode\": \"lines\", \"name\": \"2-in-a-row\", \"x\": [10000, 20000, 30000, 40000, 50000, 60000, 70000, 80000, 90000, 100000], \"y\": [22991, 49159, 70245, 94807, 116868, 148107, 164893, 192808, 210716, 237461], \"type\": \"scatter\", \"uid\": \"2b3c5949-0722-4737-a453-6b5b7f78e20a\"}], {\"plot_bgcolor\": \"rgb(255, 255,255)\", \"title\": \"Total Cost: High Self Loop\", \"xaxis\": {\"title\": \"Sequence Length\"}, \"yaxis\": {\"title\": \"Total Cost\"}}, {\"showLink\": true, \"linkText\": \"Export to plot.ly\", \"plotlyServerURL\": \"https://plot.ly\"})});</script><script type=\"text/javascript\">window.addEventListener(\"resize\", function(){window._Plotly.Plots.resize(document.getElementById(\"648ff7b0-0399-480f-b15e-4c46f3829226\"));});</script>"
      ],
      "text/vnd.plotly.v1+html": [
       "<div id=\"648ff7b0-0399-480f-b15e-4c46f3829226\" style=\"height: 525px; width: 100%;\" class=\"plotly-graph-div\"></div><script type=\"text/javascript\">require([\"plotly\"], function(Plotly) { window.PLOTLYENV=window.PLOTLYENV || {};window.PLOTLYENV.BASE_URL=\"https://plot.ly\";Plotly.newPlot(\"648ff7b0-0399-480f-b15e-4c46f3829226\", [{\"line\": {\"color\": \"rgb(253, 127, 40)\"}, \"mode\": \"lines\", \"name\": \"Splay\", \"x\": [10000, 20000, 30000, 40000, 50000, 60000, 70000, 80000, 90000, 100000], \"y\": [13106, 28312, 39614, 53966, 66646, 83682, 94006, 109574, 120384, 134898], \"type\": \"scatter\", \"uid\": \"55c68b26-19c2-48a6-82ca-c21d18065ef7\"}, {\"line\": {\"color\": \"rgb(50, 158, 52)\"}, \"mode\": \"lines\", \"name\": \"Transpose\", \"x\": [10000, 20000, 30000, 40000, 50000, 60000, 70000, 80000, 90000, 100000], \"y\": [30578, 63903, 93216, 124774, 153018, 193074, 218082, 250751, 278883, 313874], \"type\": \"scatter\", \"uid\": \"ff574e38-0b29-4ee1-927a-562615f8614b\"}, {\"line\": {\"color\": \"rgb(211, 41, 47)\"}, \"mode\": \"lines\", \"name\": \"2-in-a-row\", \"x\": [10000, 20000, 30000, 40000, 50000, 60000, 70000, 80000, 90000, 100000], \"y\": [22991, 49159, 70245, 94807, 116868, 148107, 164893, 192808, 210716, 237461], \"type\": \"scatter\", \"uid\": \"2b3c5949-0722-4737-a453-6b5b7f78e20a\"}], {\"plot_bgcolor\": \"rgb(255, 255,255)\", \"title\": \"Total Cost: High Self Loop\", \"xaxis\": {\"title\": \"Sequence Length\"}, \"yaxis\": {\"title\": \"Total Cost\"}}, {\"showLink\": true, \"linkText\": \"Export to plot.ly\", \"plotlyServerURL\": \"https://plot.ly\"})});</script><script type=\"text/javascript\">window.addEventListener(\"resize\", function(){window._Plotly.Plots.resize(document.getElementById(\"648ff7b0-0399-480f-b15e-4c46f3829226\"));});</script>"
      ]
     },
     "metadata": {},
     "output_type": "display_data"
    }
   ],
   "source": [
    "df = pd.read_csv('total/mtfMarkovHighTotalCost.csv')\n",
    "\n",
    "trace1 = go.Scatter(\n",
    "                    x=df['Sequence Length'], y=df['Access Costs'], # Data\n",
    "                    mode='lines', name='Splay',\n",
    "                    line = dict(color = ('rgb(253, 127, 40)'))\n",
    "                   )\n",
    "\n",
    "df = pd.read_csv('total/transposeMarkovHighTotalCost.csv')\n",
    "\n",
    "trace2 = go.Scatter(\n",
    "                    x=df['Sequence Length'], y=df['Access Costs'], # Data\n",
    "                    mode='lines', name='Transpose',\n",
    "                    line = dict(color = ('rgb(50, 158, 52)'))\n",
    "                   )\n",
    "\n",
    "df = pd.read_csv('total/kInARowMarkovHighTotalCost.csv')\n",
    "\n",
    "trace3 = go.Scatter(\n",
    "                    x=df['Sequence Length'], y=df['Access Costs'], # Data\n",
    "                    mode='lines', name='2-in-a-row',\n",
    "                    line = dict(color = ('rgb(211, 41, 47)'))\n",
    "                   )\n",
    "\n",
    "\n",
    "\n",
    "layout = go.Layout(title='Total Cost: High Self Loop',\n",
    "                   plot_bgcolor='rgb(255, 255,255)',\n",
    "                   xaxis=dict(title='Sequence Length'),\n",
    "                   yaxis=dict(title='Total Cost'))\n",
    "\n",
    "fig = go.Figure(data=[trace1, trace2, trace3], layout=layout)\n",
    "\n",
    "# Plot data in the notebook\n",
    "iplot(fig)\n"
   ]
  },
  {
   "cell_type": "code",
   "execution_count": 28,
   "metadata": {},
   "outputs": [
    {
     "data": {
      "application/vnd.plotly.v1+json": {
       "config": {
        "linkText": "Export to plot.ly",
        "plotlyServerURL": "https://plot.ly",
        "showLink": true
       },
       "data": [
        {
         "line": {
          "color": "rgb(37, 120, 178)"
         },
         "mode": "lines",
         "name": "OPT",
         "type": "scatter",
         "uid": "896bdb07-0c3e-4d8a-b134-8f54f81243e7",
         "x": [
          10000,
          20000,
          30000,
          40000,
          50000,
          60000,
          70000,
          80000,
          90000,
          100000
         ],
         "y": [
          447846,
          927598,
          1391322,
          1889063,
          2377660,
          2855857,
          3336954,
          3826561,
          4322902,
          4803588
         ]
        },
        {
         "line": {
          "color": "rgb(253, 127, 40)"
         },
         "mode": "lines",
         "name": "MTF",
         "type": "scatter",
         "uid": "a0fe06bc-eb6f-426f-9e52-0fbc1f54af9c",
         "x": [
          10000,
          20000,
          30000,
          40000,
          50000,
          60000,
          70000,
          80000,
          90000,
          100000
         ],
         "y": [
          248224,
          504048,
          749187,
          1007440,
          1249948,
          1492237,
          1738730,
          1985507,
          2255257,
          2515712
         ]
        },
        {
         "line": {
          "color": "rgb(50, 158, 52)"
         },
         "mode": "lines",
         "name": "Transpose",
         "type": "scatter",
         "uid": "fb55ff7e-c93d-4c0e-b58c-37a92c2dfc02",
         "x": [
          10000,
          20000,
          30000,
          40000,
          50000,
          60000,
          70000,
          80000,
          90000,
          100000
         ],
         "y": [
          481305,
          981039,
          1435973,
          1960902,
          2435124,
          2920510,
          3394426,
          3885632,
          4389506,
          4866649
         ]
        },
        {
         "line": {
          "color": "rgb(211, 41, 47)"
         },
         "mode": "lines",
         "name": "2-in-a-row",
         "type": "scatter",
         "uid": "cb392c88-e945-44ed-a795-b136e87144bc",
         "x": [
          10000,
          20000,
          30000,
          40000,
          50000,
          60000,
          70000,
          80000,
          90000,
          100000
         ],
         "y": [
          435899,
          876855,
          1295786,
          1760027,
          2168028,
          2608387,
          3031953,
          3465866,
          3916682,
          4344986
         ]
        }
       ],
       "layout": {
        "plot_bgcolor": "rgb(255, 255,255)",
        "title": "List Access Cost: Medium Self Loop",
        "xaxis": {
         "title": "Sequence Length"
        },
        "yaxis": {
         "title": "Access Cost"
        }
       }
      },
      "text/html": [
       "<div id=\"a4d6538b-6d2c-439d-9860-868ab5d15d54\" style=\"height: 525px; width: 100%;\" class=\"plotly-graph-div\"></div><script type=\"text/javascript\">require([\"plotly\"], function(Plotly) { window.PLOTLYENV=window.PLOTLYENV || {};window.PLOTLYENV.BASE_URL=\"https://plot.ly\";Plotly.newPlot(\"a4d6538b-6d2c-439d-9860-868ab5d15d54\", [{\"line\": {\"color\": \"rgb(37, 120, 178)\"}, \"mode\": \"lines\", \"name\": \"OPT\", \"x\": [10000, 20000, 30000, 40000, 50000, 60000, 70000, 80000, 90000, 100000], \"y\": [447846, 927598, 1391322, 1889063, 2377660, 2855857, 3336954, 3826561, 4322902, 4803588], \"type\": \"scatter\", \"uid\": \"896bdb07-0c3e-4d8a-b134-8f54f81243e7\"}, {\"line\": {\"color\": \"rgb(253, 127, 40)\"}, \"mode\": \"lines\", \"name\": \"MTF\", \"x\": [10000, 20000, 30000, 40000, 50000, 60000, 70000, 80000, 90000, 100000], \"y\": [248224, 504048, 749187, 1007440, 1249948, 1492237, 1738730, 1985507, 2255257, 2515712], \"type\": \"scatter\", \"uid\": \"a0fe06bc-eb6f-426f-9e52-0fbc1f54af9c\"}, {\"line\": {\"color\": \"rgb(50, 158, 52)\"}, \"mode\": \"lines\", \"name\": \"Transpose\", \"x\": [10000, 20000, 30000, 40000, 50000, 60000, 70000, 80000, 90000, 100000], \"y\": [481305, 981039, 1435973, 1960902, 2435124, 2920510, 3394426, 3885632, 4389506, 4866649], \"type\": \"scatter\", \"uid\": \"fb55ff7e-c93d-4c0e-b58c-37a92c2dfc02\"}, {\"line\": {\"color\": \"rgb(211, 41, 47)\"}, \"mode\": \"lines\", \"name\": \"2-in-a-row\", \"x\": [10000, 20000, 30000, 40000, 50000, 60000, 70000, 80000, 90000, 100000], \"y\": [435899, 876855, 1295786, 1760027, 2168028, 2608387, 3031953, 3465866, 3916682, 4344986], \"type\": \"scatter\", \"uid\": \"cb392c88-e945-44ed-a795-b136e87144bc\"}], {\"plot_bgcolor\": \"rgb(255, 255,255)\", \"title\": \"List Access Cost: Medium Self Loop\", \"xaxis\": {\"title\": \"Sequence Length\"}, \"yaxis\": {\"title\": \"Access Cost\"}}, {\"showLink\": true, \"linkText\": \"Export to plot.ly\", \"plotlyServerURL\": \"https://plot.ly\"})});</script><script type=\"text/javascript\">window.addEventListener(\"resize\", function(){window._Plotly.Plots.resize(document.getElementById(\"a4d6538b-6d2c-439d-9860-868ab5d15d54\"));});</script>"
      ],
      "text/vnd.plotly.v1+html": [
       "<div id=\"a4d6538b-6d2c-439d-9860-868ab5d15d54\" style=\"height: 525px; width: 100%;\" class=\"plotly-graph-div\"></div><script type=\"text/javascript\">require([\"plotly\"], function(Plotly) { window.PLOTLYENV=window.PLOTLYENV || {};window.PLOTLYENV.BASE_URL=\"https://plot.ly\";Plotly.newPlot(\"a4d6538b-6d2c-439d-9860-868ab5d15d54\", [{\"line\": {\"color\": \"rgb(37, 120, 178)\"}, \"mode\": \"lines\", \"name\": \"OPT\", \"x\": [10000, 20000, 30000, 40000, 50000, 60000, 70000, 80000, 90000, 100000], \"y\": [447846, 927598, 1391322, 1889063, 2377660, 2855857, 3336954, 3826561, 4322902, 4803588], \"type\": \"scatter\", \"uid\": \"896bdb07-0c3e-4d8a-b134-8f54f81243e7\"}, {\"line\": {\"color\": \"rgb(253, 127, 40)\"}, \"mode\": \"lines\", \"name\": \"MTF\", \"x\": [10000, 20000, 30000, 40000, 50000, 60000, 70000, 80000, 90000, 100000], \"y\": [248224, 504048, 749187, 1007440, 1249948, 1492237, 1738730, 1985507, 2255257, 2515712], \"type\": \"scatter\", \"uid\": \"a0fe06bc-eb6f-426f-9e52-0fbc1f54af9c\"}, {\"line\": {\"color\": \"rgb(50, 158, 52)\"}, \"mode\": \"lines\", \"name\": \"Transpose\", \"x\": [10000, 20000, 30000, 40000, 50000, 60000, 70000, 80000, 90000, 100000], \"y\": [481305, 981039, 1435973, 1960902, 2435124, 2920510, 3394426, 3885632, 4389506, 4866649], \"type\": \"scatter\", \"uid\": \"fb55ff7e-c93d-4c0e-b58c-37a92c2dfc02\"}, {\"line\": {\"color\": \"rgb(211, 41, 47)\"}, \"mode\": \"lines\", \"name\": \"2-in-a-row\", \"x\": [10000, 20000, 30000, 40000, 50000, 60000, 70000, 80000, 90000, 100000], \"y\": [435899, 876855, 1295786, 1760027, 2168028, 2608387, 3031953, 3465866, 3916682, 4344986], \"type\": \"scatter\", \"uid\": \"cb392c88-e945-44ed-a795-b136e87144bc\"}], {\"plot_bgcolor\": \"rgb(255, 255,255)\", \"title\": \"List Access Cost: Medium Self Loop\", \"xaxis\": {\"title\": \"Sequence Length\"}, \"yaxis\": {\"title\": \"Access Cost\"}}, {\"showLink\": true, \"linkText\": \"Export to plot.ly\", \"plotlyServerURL\": \"https://plot.ly\"})});</script><script type=\"text/javascript\">window.addEventListener(\"resize\", function(){window._Plotly.Plots.resize(document.getElementById(\"a4d6538b-6d2c-439d-9860-868ab5d15d54\"));});</script>"
      ]
     },
     "metadata": {},
     "output_type": "display_data"
    },
    {
     "data": {
      "application/vnd.plotly.v1+json": {
       "config": {
        "linkText": "Export to plot.ly",
        "plotlyServerURL": "https://plot.ly",
        "showLink": true
       },
       "data": [
        {
         "colorscale": [
          [
           0,
           "#000000"
          ],
          [
           0.5,
           "#FFFFFF"
          ],
          [
           1,
           "#ffffff"
          ]
         ],
         "hoverinfo": "none",
         "opacity": 0.75,
         "showscale": false,
         "type": "heatmap",
         "uid": "64692b57-30bc-4c5c-9576-f37c9b2dcf09",
         "z": [
          [
           0,
           0,
           0,
           0,
           0
          ],
          [
           0.5,
           0.5,
           0.5,
           0.5,
           0.5
          ],
          [
           1,
           1,
           1,
           1,
           1
          ],
          [
           0.5,
           0.5,
           0.5,
           0.5,
           0.5
          ],
          [
           1,
           1,
           1,
           1,
           1
          ],
          [
           0.5,
           0.5,
           0.5,
           0.5,
           0.5
          ],
          [
           1,
           1,
           1,
           1,
           1
          ],
          [
           0.5,
           0.5,
           0.5,
           0.5,
           0.5
          ],
          [
           1,
           1,
           1,
           1,
           1
          ],
          [
           0.5,
           0.5,
           0.5,
           0.5,
           0.5
          ],
          [
           1,
           1,
           1,
           1,
           1
          ]
         ]
        }
       ],
       "layout": {
        "annotations": [
         {
          "align": "left",
          "font": {
           "color": "#ffffff"
          },
          "showarrow": false,
          "text": "<b>Sequence Length</b>",
          "x": -0.45,
          "xanchor": "left",
          "xref": "x",
          "y": 0,
          "yref": "y"
         },
         {
          "align": "left",
          "font": {
           "color": "#ffffff"
          },
          "showarrow": false,
          "text": "<b>OPT</b>",
          "x": 0.55,
          "xanchor": "left",
          "xref": "x",
          "y": 0,
          "yref": "y"
         },
         {
          "align": "left",
          "font": {
           "color": "#ffffff"
          },
          "showarrow": false,
          "text": "<b>MTF</b>",
          "x": 1.55,
          "xanchor": "left",
          "xref": "x",
          "y": 0,
          "yref": "y"
         },
         {
          "align": "left",
          "font": {
           "color": "#ffffff"
          },
          "showarrow": false,
          "text": "<b>Transpose</b>",
          "x": 2.55,
          "xanchor": "left",
          "xref": "x",
          "y": 0,
          "yref": "y"
         },
         {
          "align": "left",
          "font": {
           "color": "#ffffff"
          },
          "showarrow": false,
          "text": "<b>2-in-a-Row</b>",
          "x": 3.55,
          "xanchor": "left",
          "xref": "x",
          "y": 0,
          "yref": "y"
         },
         {
          "align": "left",
          "font": {
           "color": "#000000"
          },
          "showarrow": false,
          "text": "10000",
          "x": -0.45,
          "xanchor": "left",
          "xref": "x",
          "y": 1,
          "yref": "y"
         },
         {
          "align": "left",
          "font": {
           "color": "#000000"
          },
          "showarrow": false,
          "text": "447846",
          "x": 0.55,
          "xanchor": "left",
          "xref": "x",
          "y": 1,
          "yref": "y"
         },
         {
          "align": "left",
          "font": {
           "color": "#000000"
          },
          "showarrow": false,
          "text": "248224",
          "x": 1.55,
          "xanchor": "left",
          "xref": "x",
          "y": 1,
          "yref": "y"
         },
         {
          "align": "left",
          "font": {
           "color": "#000000"
          },
          "showarrow": false,
          "text": "481305",
          "x": 2.55,
          "xanchor": "left",
          "xref": "x",
          "y": 1,
          "yref": "y"
         },
         {
          "align": "left",
          "font": {
           "color": "#000000"
          },
          "showarrow": false,
          "text": "435899",
          "x": 3.55,
          "xanchor": "left",
          "xref": "x",
          "y": 1,
          "yref": "y"
         },
         {
          "align": "left",
          "font": {
           "color": "#000000"
          },
          "showarrow": false,
          "text": "20000",
          "x": -0.45,
          "xanchor": "left",
          "xref": "x",
          "y": 2,
          "yref": "y"
         },
         {
          "align": "left",
          "font": {
           "color": "#000000"
          },
          "showarrow": false,
          "text": "927598",
          "x": 0.55,
          "xanchor": "left",
          "xref": "x",
          "y": 2,
          "yref": "y"
         },
         {
          "align": "left",
          "font": {
           "color": "#000000"
          },
          "showarrow": false,
          "text": "504048",
          "x": 1.55,
          "xanchor": "left",
          "xref": "x",
          "y": 2,
          "yref": "y"
         },
         {
          "align": "left",
          "font": {
           "color": "#000000"
          },
          "showarrow": false,
          "text": "981039",
          "x": 2.55,
          "xanchor": "left",
          "xref": "x",
          "y": 2,
          "yref": "y"
         },
         {
          "align": "left",
          "font": {
           "color": "#000000"
          },
          "showarrow": false,
          "text": "876855",
          "x": 3.55,
          "xanchor": "left",
          "xref": "x",
          "y": 2,
          "yref": "y"
         },
         {
          "align": "left",
          "font": {
           "color": "#000000"
          },
          "showarrow": false,
          "text": "30000",
          "x": -0.45,
          "xanchor": "left",
          "xref": "x",
          "y": 3,
          "yref": "y"
         },
         {
          "align": "left",
          "font": {
           "color": "#000000"
          },
          "showarrow": false,
          "text": "1391322",
          "x": 0.55,
          "xanchor": "left",
          "xref": "x",
          "y": 3,
          "yref": "y"
         },
         {
          "align": "left",
          "font": {
           "color": "#000000"
          },
          "showarrow": false,
          "text": "749187",
          "x": 1.55,
          "xanchor": "left",
          "xref": "x",
          "y": 3,
          "yref": "y"
         },
         {
          "align": "left",
          "font": {
           "color": "#000000"
          },
          "showarrow": false,
          "text": "1435973",
          "x": 2.55,
          "xanchor": "left",
          "xref": "x",
          "y": 3,
          "yref": "y"
         },
         {
          "align": "left",
          "font": {
           "color": "#000000"
          },
          "showarrow": false,
          "text": "1295786",
          "x": 3.55,
          "xanchor": "left",
          "xref": "x",
          "y": 3,
          "yref": "y"
         },
         {
          "align": "left",
          "font": {
           "color": "#000000"
          },
          "showarrow": false,
          "text": "40000",
          "x": -0.45,
          "xanchor": "left",
          "xref": "x",
          "y": 4,
          "yref": "y"
         },
         {
          "align": "left",
          "font": {
           "color": "#000000"
          },
          "showarrow": false,
          "text": "1889063",
          "x": 0.55,
          "xanchor": "left",
          "xref": "x",
          "y": 4,
          "yref": "y"
         },
         {
          "align": "left",
          "font": {
           "color": "#000000"
          },
          "showarrow": false,
          "text": "1007440",
          "x": 1.55,
          "xanchor": "left",
          "xref": "x",
          "y": 4,
          "yref": "y"
         },
         {
          "align": "left",
          "font": {
           "color": "#000000"
          },
          "showarrow": false,
          "text": "1960902",
          "x": 2.55,
          "xanchor": "left",
          "xref": "x",
          "y": 4,
          "yref": "y"
         },
         {
          "align": "left",
          "font": {
           "color": "#000000"
          },
          "showarrow": false,
          "text": "1760027",
          "x": 3.55,
          "xanchor": "left",
          "xref": "x",
          "y": 4,
          "yref": "y"
         },
         {
          "align": "left",
          "font": {
           "color": "#000000"
          },
          "showarrow": false,
          "text": "50000",
          "x": -0.45,
          "xanchor": "left",
          "xref": "x",
          "y": 5,
          "yref": "y"
         },
         {
          "align": "left",
          "font": {
           "color": "#000000"
          },
          "showarrow": false,
          "text": "2377660",
          "x": 0.55,
          "xanchor": "left",
          "xref": "x",
          "y": 5,
          "yref": "y"
         },
         {
          "align": "left",
          "font": {
           "color": "#000000"
          },
          "showarrow": false,
          "text": "1249948",
          "x": 1.55,
          "xanchor": "left",
          "xref": "x",
          "y": 5,
          "yref": "y"
         },
         {
          "align": "left",
          "font": {
           "color": "#000000"
          },
          "showarrow": false,
          "text": "2435124",
          "x": 2.55,
          "xanchor": "left",
          "xref": "x",
          "y": 5,
          "yref": "y"
         },
         {
          "align": "left",
          "font": {
           "color": "#000000"
          },
          "showarrow": false,
          "text": "2168028",
          "x": 3.55,
          "xanchor": "left",
          "xref": "x",
          "y": 5,
          "yref": "y"
         },
         {
          "align": "left",
          "font": {
           "color": "#000000"
          },
          "showarrow": false,
          "text": "60000",
          "x": -0.45,
          "xanchor": "left",
          "xref": "x",
          "y": 6,
          "yref": "y"
         },
         {
          "align": "left",
          "font": {
           "color": "#000000"
          },
          "showarrow": false,
          "text": "2855857",
          "x": 0.55,
          "xanchor": "left",
          "xref": "x",
          "y": 6,
          "yref": "y"
         },
         {
          "align": "left",
          "font": {
           "color": "#000000"
          },
          "showarrow": false,
          "text": "1492237",
          "x": 1.55,
          "xanchor": "left",
          "xref": "x",
          "y": 6,
          "yref": "y"
         },
         {
          "align": "left",
          "font": {
           "color": "#000000"
          },
          "showarrow": false,
          "text": "2920510",
          "x": 2.55,
          "xanchor": "left",
          "xref": "x",
          "y": 6,
          "yref": "y"
         },
         {
          "align": "left",
          "font": {
           "color": "#000000"
          },
          "showarrow": false,
          "text": "2608387",
          "x": 3.55,
          "xanchor": "left",
          "xref": "x",
          "y": 6,
          "yref": "y"
         },
         {
          "align": "left",
          "font": {
           "color": "#000000"
          },
          "showarrow": false,
          "text": "70000",
          "x": -0.45,
          "xanchor": "left",
          "xref": "x",
          "y": 7,
          "yref": "y"
         },
         {
          "align": "left",
          "font": {
           "color": "#000000"
          },
          "showarrow": false,
          "text": "3336954",
          "x": 0.55,
          "xanchor": "left",
          "xref": "x",
          "y": 7,
          "yref": "y"
         },
         {
          "align": "left",
          "font": {
           "color": "#000000"
          },
          "showarrow": false,
          "text": "1738730",
          "x": 1.55,
          "xanchor": "left",
          "xref": "x",
          "y": 7,
          "yref": "y"
         },
         {
          "align": "left",
          "font": {
           "color": "#000000"
          },
          "showarrow": false,
          "text": "3394426",
          "x": 2.55,
          "xanchor": "left",
          "xref": "x",
          "y": 7,
          "yref": "y"
         },
         {
          "align": "left",
          "font": {
           "color": "#000000"
          },
          "showarrow": false,
          "text": "3031953",
          "x": 3.55,
          "xanchor": "left",
          "xref": "x",
          "y": 7,
          "yref": "y"
         },
         {
          "align": "left",
          "font": {
           "color": "#000000"
          },
          "showarrow": false,
          "text": "80000",
          "x": -0.45,
          "xanchor": "left",
          "xref": "x",
          "y": 8,
          "yref": "y"
         },
         {
          "align": "left",
          "font": {
           "color": "#000000"
          },
          "showarrow": false,
          "text": "3826561",
          "x": 0.55,
          "xanchor": "left",
          "xref": "x",
          "y": 8,
          "yref": "y"
         },
         {
          "align": "left",
          "font": {
           "color": "#000000"
          },
          "showarrow": false,
          "text": "1985507",
          "x": 1.55,
          "xanchor": "left",
          "xref": "x",
          "y": 8,
          "yref": "y"
         },
         {
          "align": "left",
          "font": {
           "color": "#000000"
          },
          "showarrow": false,
          "text": "3885632",
          "x": 2.55,
          "xanchor": "left",
          "xref": "x",
          "y": 8,
          "yref": "y"
         },
         {
          "align": "left",
          "font": {
           "color": "#000000"
          },
          "showarrow": false,
          "text": "3465866",
          "x": 3.55,
          "xanchor": "left",
          "xref": "x",
          "y": 8,
          "yref": "y"
         },
         {
          "align": "left",
          "font": {
           "color": "#000000"
          },
          "showarrow": false,
          "text": "90000",
          "x": -0.45,
          "xanchor": "left",
          "xref": "x",
          "y": 9,
          "yref": "y"
         },
         {
          "align": "left",
          "font": {
           "color": "#000000"
          },
          "showarrow": false,
          "text": "4322902",
          "x": 0.55,
          "xanchor": "left",
          "xref": "x",
          "y": 9,
          "yref": "y"
         },
         {
          "align": "left",
          "font": {
           "color": "#000000"
          },
          "showarrow": false,
          "text": "2255257",
          "x": 1.55,
          "xanchor": "left",
          "xref": "x",
          "y": 9,
          "yref": "y"
         },
         {
          "align": "left",
          "font": {
           "color": "#000000"
          },
          "showarrow": false,
          "text": "4389506",
          "x": 2.55,
          "xanchor": "left",
          "xref": "x",
          "y": 9,
          "yref": "y"
         },
         {
          "align": "left",
          "font": {
           "color": "#000000"
          },
          "showarrow": false,
          "text": "3916682",
          "x": 3.55,
          "xanchor": "left",
          "xref": "x",
          "y": 9,
          "yref": "y"
         },
         {
          "align": "left",
          "font": {
           "color": "#000000"
          },
          "showarrow": false,
          "text": "100000",
          "x": -0.45,
          "xanchor": "left",
          "xref": "x",
          "y": 10,
          "yref": "y"
         },
         {
          "align": "left",
          "font": {
           "color": "#000000"
          },
          "showarrow": false,
          "text": "4803588",
          "x": 0.55,
          "xanchor": "left",
          "xref": "x",
          "y": 10,
          "yref": "y"
         },
         {
          "align": "left",
          "font": {
           "color": "#000000"
          },
          "showarrow": false,
          "text": "2515712",
          "x": 1.55,
          "xanchor": "left",
          "xref": "x",
          "y": 10,
          "yref": "y"
         },
         {
          "align": "left",
          "font": {
           "color": "#000000"
          },
          "showarrow": false,
          "text": "4866649",
          "x": 2.55,
          "xanchor": "left",
          "xref": "x",
          "y": 10,
          "yref": "y"
         },
         {
          "align": "left",
          "font": {
           "color": "#000000"
          },
          "showarrow": false,
          "text": "4344986",
          "x": 3.55,
          "xanchor": "left",
          "xref": "x",
          "y": 10,
          "yref": "y"
         }
        ],
        "height": 380,
        "margin": {
         "b": 0,
         "l": 0,
         "r": 0,
         "t": 0
        },
        "xaxis": {
         "dtick": 1,
         "gridwidth": 2,
         "showticklabels": false,
         "tick0": -0.5,
         "ticks": "",
         "zeroline": false
        },
        "yaxis": {
         "autorange": "reversed",
         "dtick": 1,
         "gridwidth": 2,
         "showticklabels": false,
         "tick0": 0.5,
         "ticks": "",
         "zeroline": false
        }
       }
      },
      "text/html": [
       "<div id=\"8a419817-0e39-49ec-9107-3a65dc4d037f\" style=\"height: 380px; width: 100%;\" class=\"plotly-graph-div\"></div><script type=\"text/javascript\">require([\"plotly\"], function(Plotly) { window.PLOTLYENV=window.PLOTLYENV || {};window.PLOTLYENV.BASE_URL=\"https://plot.ly\";Plotly.newPlot(\"8a419817-0e39-49ec-9107-3a65dc4d037f\", [{\"colorscale\": [[0, \"#000000\"], [0.5, \"#FFFFFF\"], [1, \"#ffffff\"]], \"hoverinfo\": \"none\", \"opacity\": 0.75, \"showscale\": false, \"z\": [[0, 0, 0, 0, 0], [0.5, 0.5, 0.5, 0.5, 0.5], [1, 1, 1, 1, 1], [0.5, 0.5, 0.5, 0.5, 0.5], [1, 1, 1, 1, 1], [0.5, 0.5, 0.5, 0.5, 0.5], [1, 1, 1, 1, 1], [0.5, 0.5, 0.5, 0.5, 0.5], [1, 1, 1, 1, 1], [0.5, 0.5, 0.5, 0.5, 0.5], [1, 1, 1, 1, 1]], \"type\": \"heatmap\", \"uid\": \"64692b57-30bc-4c5c-9576-f37c9b2dcf09\"}], {\"annotations\": [{\"align\": \"left\", \"font\": {\"color\": \"#ffffff\"}, \"showarrow\": false, \"text\": \"<b>Sequence Length</b>\", \"x\": -0.45, \"xanchor\": \"left\", \"xref\": \"x\", \"y\": 0, \"yref\": \"y\"}, {\"align\": \"left\", \"font\": {\"color\": \"#ffffff\"}, \"showarrow\": false, \"text\": \"<b>OPT</b>\", \"x\": 0.55, \"xanchor\": \"left\", \"xref\": \"x\", \"y\": 0, \"yref\": \"y\"}, {\"align\": \"left\", \"font\": {\"color\": \"#ffffff\"}, \"showarrow\": false, \"text\": \"<b>MTF</b>\", \"x\": 1.55, \"xanchor\": \"left\", \"xref\": \"x\", \"y\": 0, \"yref\": \"y\"}, {\"align\": \"left\", \"font\": {\"color\": \"#ffffff\"}, \"showarrow\": false, \"text\": \"<b>Transpose</b>\", \"x\": 2.55, \"xanchor\": \"left\", \"xref\": \"x\", \"y\": 0, \"yref\": \"y\"}, {\"align\": \"left\", \"font\": {\"color\": \"#ffffff\"}, \"showarrow\": false, \"text\": \"<b>2-in-a-Row</b>\", \"x\": 3.55, \"xanchor\": \"left\", \"xref\": \"x\", \"y\": 0, \"yref\": \"y\"}, {\"align\": \"left\", \"font\": {\"color\": \"#000000\"}, \"showarrow\": false, \"text\": \"10000\", \"x\": -0.45, \"xanchor\": \"left\", \"xref\": \"x\", \"y\": 1, \"yref\": \"y\"}, {\"align\": \"left\", \"font\": {\"color\": \"#000000\"}, \"showarrow\": false, \"text\": \"447846\", \"x\": 0.55, \"xanchor\": \"left\", \"xref\": \"x\", \"y\": 1, \"yref\": \"y\"}, {\"align\": \"left\", \"font\": {\"color\": \"#000000\"}, \"showarrow\": false, \"text\": \"248224\", \"x\": 1.55, \"xanchor\": \"left\", \"xref\": \"x\", \"y\": 1, \"yref\": \"y\"}, {\"align\": \"left\", \"font\": {\"color\": \"#000000\"}, \"showarrow\": false, \"text\": \"481305\", \"x\": 2.55, \"xanchor\": \"left\", \"xref\": \"x\", \"y\": 1, \"yref\": \"y\"}, {\"align\": \"left\", \"font\": {\"color\": \"#000000\"}, \"showarrow\": false, \"text\": \"435899\", \"x\": 3.55, \"xanchor\": \"left\", \"xref\": \"x\", \"y\": 1, \"yref\": \"y\"}, {\"align\": \"left\", \"font\": {\"color\": \"#000000\"}, \"showarrow\": false, \"text\": \"20000\", \"x\": -0.45, \"xanchor\": \"left\", \"xref\": \"x\", \"y\": 2, \"yref\": \"y\"}, {\"align\": \"left\", \"font\": {\"color\": \"#000000\"}, \"showarrow\": false, \"text\": \"927598\", \"x\": 0.55, \"xanchor\": \"left\", \"xref\": \"x\", \"y\": 2, \"yref\": \"y\"}, {\"align\": \"left\", \"font\": {\"color\": \"#000000\"}, \"showarrow\": false, \"text\": \"504048\", \"x\": 1.55, \"xanchor\": \"left\", \"xref\": \"x\", \"y\": 2, \"yref\": \"y\"}, {\"align\": \"left\", \"font\": {\"color\": \"#000000\"}, \"showarrow\": false, \"text\": \"981039\", \"x\": 2.55, \"xanchor\": \"left\", \"xref\": \"x\", \"y\": 2, \"yref\": \"y\"}, {\"align\": \"left\", \"font\": {\"color\": \"#000000\"}, \"showarrow\": false, \"text\": \"876855\", \"x\": 3.55, \"xanchor\": \"left\", \"xref\": \"x\", \"y\": 2, \"yref\": \"y\"}, {\"align\": \"left\", \"font\": {\"color\": \"#000000\"}, \"showarrow\": false, \"text\": \"30000\", \"x\": -0.45, \"xanchor\": \"left\", \"xref\": \"x\", \"y\": 3, \"yref\": \"y\"}, {\"align\": \"left\", \"font\": {\"color\": \"#000000\"}, \"showarrow\": false, \"text\": \"1391322\", \"x\": 0.55, \"xanchor\": \"left\", \"xref\": \"x\", \"y\": 3, \"yref\": \"y\"}, {\"align\": \"left\", \"font\": {\"color\": \"#000000\"}, \"showarrow\": false, \"text\": \"749187\", \"x\": 1.55, \"xanchor\": \"left\", \"xref\": \"x\", \"y\": 3, \"yref\": \"y\"}, {\"align\": \"left\", \"font\": {\"color\": \"#000000\"}, \"showarrow\": false, \"text\": \"1435973\", \"x\": 2.55, \"xanchor\": \"left\", \"xref\": \"x\", \"y\": 3, \"yref\": \"y\"}, {\"align\": \"left\", \"font\": {\"color\": \"#000000\"}, \"showarrow\": false, \"text\": \"1295786\", \"x\": 3.55, \"xanchor\": \"left\", \"xref\": \"x\", \"y\": 3, \"yref\": \"y\"}, {\"align\": \"left\", \"font\": {\"color\": \"#000000\"}, \"showarrow\": false, \"text\": \"40000\", \"x\": -0.45, \"xanchor\": \"left\", \"xref\": \"x\", \"y\": 4, \"yref\": \"y\"}, {\"align\": \"left\", \"font\": {\"color\": \"#000000\"}, \"showarrow\": false, \"text\": \"1889063\", \"x\": 0.55, \"xanchor\": \"left\", \"xref\": \"x\", \"y\": 4, \"yref\": \"y\"}, {\"align\": \"left\", \"font\": {\"color\": \"#000000\"}, \"showarrow\": false, \"text\": \"1007440\", \"x\": 1.55, \"xanchor\": \"left\", \"xref\": \"x\", \"y\": 4, \"yref\": \"y\"}, {\"align\": \"left\", \"font\": {\"color\": \"#000000\"}, \"showarrow\": false, \"text\": \"1960902\", \"x\": 2.55, \"xanchor\": \"left\", \"xref\": \"x\", \"y\": 4, \"yref\": \"y\"}, {\"align\": \"left\", \"font\": {\"color\": \"#000000\"}, \"showarrow\": false, \"text\": \"1760027\", \"x\": 3.55, \"xanchor\": \"left\", \"xref\": \"x\", \"y\": 4, \"yref\": \"y\"}, {\"align\": \"left\", \"font\": {\"color\": \"#000000\"}, \"showarrow\": false, \"text\": \"50000\", \"x\": -0.45, \"xanchor\": \"left\", \"xref\": \"x\", \"y\": 5, \"yref\": \"y\"}, {\"align\": \"left\", \"font\": {\"color\": \"#000000\"}, \"showarrow\": false, \"text\": \"2377660\", \"x\": 0.55, \"xanchor\": \"left\", \"xref\": \"x\", \"y\": 5, \"yref\": \"y\"}, {\"align\": \"left\", \"font\": {\"color\": \"#000000\"}, \"showarrow\": false, \"text\": \"1249948\", \"x\": 1.55, \"xanchor\": \"left\", \"xref\": \"x\", \"y\": 5, \"yref\": \"y\"}, {\"align\": \"left\", \"font\": {\"color\": \"#000000\"}, \"showarrow\": false, \"text\": \"2435124\", \"x\": 2.55, \"xanchor\": \"left\", \"xref\": \"x\", \"y\": 5, \"yref\": \"y\"}, {\"align\": \"left\", \"font\": {\"color\": \"#000000\"}, \"showarrow\": false, \"text\": \"2168028\", \"x\": 3.55, \"xanchor\": \"left\", \"xref\": \"x\", \"y\": 5, \"yref\": \"y\"}, {\"align\": \"left\", \"font\": {\"color\": \"#000000\"}, \"showarrow\": false, \"text\": \"60000\", \"x\": -0.45, \"xanchor\": \"left\", \"xref\": \"x\", \"y\": 6, \"yref\": \"y\"}, {\"align\": \"left\", \"font\": {\"color\": \"#000000\"}, \"showarrow\": false, \"text\": \"2855857\", \"x\": 0.55, \"xanchor\": \"left\", \"xref\": \"x\", \"y\": 6, \"yref\": \"y\"}, {\"align\": \"left\", \"font\": {\"color\": \"#000000\"}, \"showarrow\": false, \"text\": \"1492237\", \"x\": 1.55, \"xanchor\": \"left\", \"xref\": \"x\", \"y\": 6, \"yref\": \"y\"}, {\"align\": \"left\", \"font\": {\"color\": \"#000000\"}, \"showarrow\": false, \"text\": \"2920510\", \"x\": 2.55, \"xanchor\": \"left\", \"xref\": \"x\", \"y\": 6, \"yref\": \"y\"}, {\"align\": \"left\", \"font\": {\"color\": \"#000000\"}, \"showarrow\": false, \"text\": \"2608387\", \"x\": 3.55, \"xanchor\": \"left\", \"xref\": \"x\", \"y\": 6, \"yref\": \"y\"}, {\"align\": \"left\", \"font\": {\"color\": \"#000000\"}, \"showarrow\": false, \"text\": \"70000\", \"x\": -0.45, \"xanchor\": \"left\", \"xref\": \"x\", \"y\": 7, \"yref\": \"y\"}, {\"align\": \"left\", \"font\": {\"color\": \"#000000\"}, \"showarrow\": false, \"text\": \"3336954\", \"x\": 0.55, \"xanchor\": \"left\", \"xref\": \"x\", \"y\": 7, \"yref\": \"y\"}, {\"align\": \"left\", \"font\": {\"color\": \"#000000\"}, \"showarrow\": false, \"text\": \"1738730\", \"x\": 1.55, \"xanchor\": \"left\", \"xref\": \"x\", \"y\": 7, \"yref\": \"y\"}, {\"align\": \"left\", \"font\": {\"color\": \"#000000\"}, \"showarrow\": false, \"text\": \"3394426\", \"x\": 2.55, \"xanchor\": \"left\", \"xref\": \"x\", \"y\": 7, \"yref\": \"y\"}, {\"align\": \"left\", \"font\": {\"color\": \"#000000\"}, \"showarrow\": false, \"text\": \"3031953\", \"x\": 3.55, \"xanchor\": \"left\", \"xref\": \"x\", \"y\": 7, \"yref\": \"y\"}, {\"align\": \"left\", \"font\": {\"color\": \"#000000\"}, \"showarrow\": false, \"text\": \"80000\", \"x\": -0.45, \"xanchor\": \"left\", \"xref\": \"x\", \"y\": 8, \"yref\": \"y\"}, {\"align\": \"left\", \"font\": {\"color\": \"#000000\"}, \"showarrow\": false, \"text\": \"3826561\", \"x\": 0.55, \"xanchor\": \"left\", \"xref\": \"x\", \"y\": 8, \"yref\": \"y\"}, {\"align\": \"left\", \"font\": {\"color\": \"#000000\"}, \"showarrow\": false, \"text\": \"1985507\", \"x\": 1.55, \"xanchor\": \"left\", \"xref\": \"x\", \"y\": 8, \"yref\": \"y\"}, {\"align\": \"left\", \"font\": {\"color\": \"#000000\"}, \"showarrow\": false, \"text\": \"3885632\", \"x\": 2.55, \"xanchor\": \"left\", \"xref\": \"x\", \"y\": 8, \"yref\": \"y\"}, {\"align\": \"left\", \"font\": {\"color\": \"#000000\"}, \"showarrow\": false, \"text\": \"3465866\", \"x\": 3.55, \"xanchor\": \"left\", \"xref\": \"x\", \"y\": 8, \"yref\": \"y\"}, {\"align\": \"left\", \"font\": {\"color\": \"#000000\"}, \"showarrow\": false, \"text\": \"90000\", \"x\": -0.45, \"xanchor\": \"left\", \"xref\": \"x\", \"y\": 9, \"yref\": \"y\"}, {\"align\": \"left\", \"font\": {\"color\": \"#000000\"}, \"showarrow\": false, \"text\": \"4322902\", \"x\": 0.55, \"xanchor\": \"left\", \"xref\": \"x\", \"y\": 9, \"yref\": \"y\"}, {\"align\": \"left\", \"font\": {\"color\": \"#000000\"}, \"showarrow\": false, \"text\": \"2255257\", \"x\": 1.55, \"xanchor\": \"left\", \"xref\": \"x\", \"y\": 9, \"yref\": \"y\"}, {\"align\": \"left\", \"font\": {\"color\": \"#000000\"}, \"showarrow\": false, \"text\": \"4389506\", \"x\": 2.55, \"xanchor\": \"left\", \"xref\": \"x\", \"y\": 9, \"yref\": \"y\"}, {\"align\": \"left\", \"font\": {\"color\": \"#000000\"}, \"showarrow\": false, \"text\": \"3916682\", \"x\": 3.55, \"xanchor\": \"left\", \"xref\": \"x\", \"y\": 9, \"yref\": \"y\"}, {\"align\": \"left\", \"font\": {\"color\": \"#000000\"}, \"showarrow\": false, \"text\": \"100000\", \"x\": -0.45, \"xanchor\": \"left\", \"xref\": \"x\", \"y\": 10, \"yref\": \"y\"}, {\"align\": \"left\", \"font\": {\"color\": \"#000000\"}, \"showarrow\": false, \"text\": \"4803588\", \"x\": 0.55, \"xanchor\": \"left\", \"xref\": \"x\", \"y\": 10, \"yref\": \"y\"}, {\"align\": \"left\", \"font\": {\"color\": \"#000000\"}, \"showarrow\": false, \"text\": \"2515712\", \"x\": 1.55, \"xanchor\": \"left\", \"xref\": \"x\", \"y\": 10, \"yref\": \"y\"}, {\"align\": \"left\", \"font\": {\"color\": \"#000000\"}, \"showarrow\": false, \"text\": \"4866649\", \"x\": 2.55, \"xanchor\": \"left\", \"xref\": \"x\", \"y\": 10, \"yref\": \"y\"}, {\"align\": \"left\", \"font\": {\"color\": \"#000000\"}, \"showarrow\": false, \"text\": \"4344986\", \"x\": 3.55, \"xanchor\": \"left\", \"xref\": \"x\", \"y\": 10, \"yref\": \"y\"}], \"height\": 380, \"margin\": {\"b\": 0, \"l\": 0, \"r\": 0, \"t\": 0}, \"xaxis\": {\"dtick\": 1, \"gridwidth\": 2, \"showticklabels\": false, \"tick0\": -0.5, \"ticks\": \"\", \"zeroline\": false}, \"yaxis\": {\"autorange\": \"reversed\", \"dtick\": 1, \"gridwidth\": 2, \"showticklabels\": false, \"tick0\": 0.5, \"ticks\": \"\", \"zeroline\": false}}, {\"showLink\": true, \"linkText\": \"Export to plot.ly\", \"plotlyServerURL\": \"https://plot.ly\"})});</script><script type=\"text/javascript\">window.addEventListener(\"resize\", function(){window._Plotly.Plots.resize(document.getElementById(\"8a419817-0e39-49ec-9107-3a65dc4d037f\"));});</script>"
      ],
      "text/vnd.plotly.v1+html": [
       "<div id=\"8a419817-0e39-49ec-9107-3a65dc4d037f\" style=\"height: 380px; width: 100%;\" class=\"plotly-graph-div\"></div><script type=\"text/javascript\">require([\"plotly\"], function(Plotly) { window.PLOTLYENV=window.PLOTLYENV || {};window.PLOTLYENV.BASE_URL=\"https://plot.ly\";Plotly.newPlot(\"8a419817-0e39-49ec-9107-3a65dc4d037f\", [{\"colorscale\": [[0, \"#000000\"], [0.5, \"#FFFFFF\"], [1, \"#ffffff\"]], \"hoverinfo\": \"none\", \"opacity\": 0.75, \"showscale\": false, \"z\": [[0, 0, 0, 0, 0], [0.5, 0.5, 0.5, 0.5, 0.5], [1, 1, 1, 1, 1], [0.5, 0.5, 0.5, 0.5, 0.5], [1, 1, 1, 1, 1], [0.5, 0.5, 0.5, 0.5, 0.5], [1, 1, 1, 1, 1], [0.5, 0.5, 0.5, 0.5, 0.5], [1, 1, 1, 1, 1], [0.5, 0.5, 0.5, 0.5, 0.5], [1, 1, 1, 1, 1]], \"type\": \"heatmap\", \"uid\": \"64692b57-30bc-4c5c-9576-f37c9b2dcf09\"}], {\"annotations\": [{\"align\": \"left\", \"font\": {\"color\": \"#ffffff\"}, \"showarrow\": false, \"text\": \"<b>Sequence Length</b>\", \"x\": -0.45, \"xanchor\": \"left\", \"xref\": \"x\", \"y\": 0, \"yref\": \"y\"}, {\"align\": \"left\", \"font\": {\"color\": \"#ffffff\"}, \"showarrow\": false, \"text\": \"<b>OPT</b>\", \"x\": 0.55, \"xanchor\": \"left\", \"xref\": \"x\", \"y\": 0, \"yref\": \"y\"}, {\"align\": \"left\", \"font\": {\"color\": \"#ffffff\"}, \"showarrow\": false, \"text\": \"<b>MTF</b>\", \"x\": 1.55, \"xanchor\": \"left\", \"xref\": \"x\", \"y\": 0, \"yref\": \"y\"}, {\"align\": \"left\", \"font\": {\"color\": \"#ffffff\"}, \"showarrow\": false, \"text\": \"<b>Transpose</b>\", \"x\": 2.55, \"xanchor\": \"left\", \"xref\": \"x\", \"y\": 0, \"yref\": \"y\"}, {\"align\": \"left\", \"font\": {\"color\": \"#ffffff\"}, \"showarrow\": false, \"text\": \"<b>2-in-a-Row</b>\", \"x\": 3.55, \"xanchor\": \"left\", \"xref\": \"x\", \"y\": 0, \"yref\": \"y\"}, {\"align\": \"left\", \"font\": {\"color\": \"#000000\"}, \"showarrow\": false, \"text\": \"10000\", \"x\": -0.45, \"xanchor\": \"left\", \"xref\": \"x\", \"y\": 1, \"yref\": \"y\"}, {\"align\": \"left\", \"font\": {\"color\": \"#000000\"}, \"showarrow\": false, \"text\": \"447846\", \"x\": 0.55, \"xanchor\": \"left\", \"xref\": \"x\", \"y\": 1, \"yref\": \"y\"}, {\"align\": \"left\", \"font\": {\"color\": \"#000000\"}, \"showarrow\": false, \"text\": \"248224\", \"x\": 1.55, \"xanchor\": \"left\", \"xref\": \"x\", \"y\": 1, \"yref\": \"y\"}, {\"align\": \"left\", \"font\": {\"color\": \"#000000\"}, \"showarrow\": false, \"text\": \"481305\", \"x\": 2.55, \"xanchor\": \"left\", \"xref\": \"x\", \"y\": 1, \"yref\": \"y\"}, {\"align\": \"left\", \"font\": {\"color\": \"#000000\"}, \"showarrow\": false, \"text\": \"435899\", \"x\": 3.55, \"xanchor\": \"left\", \"xref\": \"x\", \"y\": 1, \"yref\": \"y\"}, {\"align\": \"left\", \"font\": {\"color\": \"#000000\"}, \"showarrow\": false, \"text\": \"20000\", \"x\": -0.45, \"xanchor\": \"left\", \"xref\": \"x\", \"y\": 2, \"yref\": \"y\"}, {\"align\": \"left\", \"font\": {\"color\": \"#000000\"}, \"showarrow\": false, \"text\": \"927598\", \"x\": 0.55, \"xanchor\": \"left\", \"xref\": \"x\", \"y\": 2, \"yref\": \"y\"}, {\"align\": \"left\", \"font\": {\"color\": \"#000000\"}, \"showarrow\": false, \"text\": \"504048\", \"x\": 1.55, \"xanchor\": \"left\", \"xref\": \"x\", \"y\": 2, \"yref\": \"y\"}, {\"align\": \"left\", \"font\": {\"color\": \"#000000\"}, \"showarrow\": false, \"text\": \"981039\", \"x\": 2.55, \"xanchor\": \"left\", \"xref\": \"x\", \"y\": 2, \"yref\": \"y\"}, {\"align\": \"left\", \"font\": {\"color\": \"#000000\"}, \"showarrow\": false, \"text\": \"876855\", \"x\": 3.55, \"xanchor\": \"left\", \"xref\": \"x\", \"y\": 2, \"yref\": \"y\"}, {\"align\": \"left\", \"font\": {\"color\": \"#000000\"}, \"showarrow\": false, \"text\": \"30000\", \"x\": -0.45, \"xanchor\": \"left\", \"xref\": \"x\", \"y\": 3, \"yref\": \"y\"}, {\"align\": \"left\", \"font\": {\"color\": \"#000000\"}, \"showarrow\": false, \"text\": \"1391322\", \"x\": 0.55, \"xanchor\": \"left\", \"xref\": \"x\", \"y\": 3, \"yref\": \"y\"}, {\"align\": \"left\", \"font\": {\"color\": \"#000000\"}, \"showarrow\": false, \"text\": \"749187\", \"x\": 1.55, \"xanchor\": \"left\", \"xref\": \"x\", \"y\": 3, \"yref\": \"y\"}, {\"align\": \"left\", \"font\": {\"color\": \"#000000\"}, \"showarrow\": false, \"text\": \"1435973\", \"x\": 2.55, \"xanchor\": \"left\", \"xref\": \"x\", \"y\": 3, \"yref\": \"y\"}, {\"align\": \"left\", \"font\": {\"color\": \"#000000\"}, \"showarrow\": false, \"text\": \"1295786\", \"x\": 3.55, \"xanchor\": \"left\", \"xref\": \"x\", \"y\": 3, \"yref\": \"y\"}, {\"align\": \"left\", \"font\": {\"color\": \"#000000\"}, \"showarrow\": false, \"text\": \"40000\", \"x\": -0.45, \"xanchor\": \"left\", \"xref\": \"x\", \"y\": 4, \"yref\": \"y\"}, {\"align\": \"left\", \"font\": {\"color\": \"#000000\"}, \"showarrow\": false, \"text\": \"1889063\", \"x\": 0.55, \"xanchor\": \"left\", \"xref\": \"x\", \"y\": 4, \"yref\": \"y\"}, {\"align\": \"left\", \"font\": {\"color\": \"#000000\"}, \"showarrow\": false, \"text\": \"1007440\", \"x\": 1.55, \"xanchor\": \"left\", \"xref\": \"x\", \"y\": 4, \"yref\": \"y\"}, {\"align\": \"left\", \"font\": {\"color\": \"#000000\"}, \"showarrow\": false, \"text\": \"1960902\", \"x\": 2.55, \"xanchor\": \"left\", \"xref\": \"x\", \"y\": 4, \"yref\": \"y\"}, {\"align\": \"left\", \"font\": {\"color\": \"#000000\"}, \"showarrow\": false, \"text\": \"1760027\", \"x\": 3.55, \"xanchor\": \"left\", \"xref\": \"x\", \"y\": 4, \"yref\": \"y\"}, {\"align\": \"left\", \"font\": {\"color\": \"#000000\"}, \"showarrow\": false, \"text\": \"50000\", \"x\": -0.45, \"xanchor\": \"left\", \"xref\": \"x\", \"y\": 5, \"yref\": \"y\"}, {\"align\": \"left\", \"font\": {\"color\": \"#000000\"}, \"showarrow\": false, \"text\": \"2377660\", \"x\": 0.55, \"xanchor\": \"left\", \"xref\": \"x\", \"y\": 5, \"yref\": \"y\"}, {\"align\": \"left\", \"font\": {\"color\": \"#000000\"}, \"showarrow\": false, \"text\": \"1249948\", \"x\": 1.55, \"xanchor\": \"left\", \"xref\": \"x\", \"y\": 5, \"yref\": \"y\"}, {\"align\": \"left\", \"font\": {\"color\": \"#000000\"}, \"showarrow\": false, \"text\": \"2435124\", \"x\": 2.55, \"xanchor\": \"left\", \"xref\": \"x\", \"y\": 5, \"yref\": \"y\"}, {\"align\": \"left\", \"font\": {\"color\": \"#000000\"}, \"showarrow\": false, \"text\": \"2168028\", \"x\": 3.55, \"xanchor\": \"left\", \"xref\": \"x\", \"y\": 5, \"yref\": \"y\"}, {\"align\": \"left\", \"font\": {\"color\": \"#000000\"}, \"showarrow\": false, \"text\": \"60000\", \"x\": -0.45, \"xanchor\": \"left\", \"xref\": \"x\", \"y\": 6, \"yref\": \"y\"}, {\"align\": \"left\", \"font\": {\"color\": \"#000000\"}, \"showarrow\": false, \"text\": \"2855857\", \"x\": 0.55, \"xanchor\": \"left\", \"xref\": \"x\", \"y\": 6, \"yref\": \"y\"}, {\"align\": \"left\", \"font\": {\"color\": \"#000000\"}, \"showarrow\": false, \"text\": \"1492237\", \"x\": 1.55, \"xanchor\": \"left\", \"xref\": \"x\", \"y\": 6, \"yref\": \"y\"}, {\"align\": \"left\", \"font\": {\"color\": \"#000000\"}, \"showarrow\": false, \"text\": \"2920510\", \"x\": 2.55, \"xanchor\": \"left\", \"xref\": \"x\", \"y\": 6, \"yref\": \"y\"}, {\"align\": \"left\", \"font\": {\"color\": \"#000000\"}, \"showarrow\": false, \"text\": \"2608387\", \"x\": 3.55, \"xanchor\": \"left\", \"xref\": \"x\", \"y\": 6, \"yref\": \"y\"}, {\"align\": \"left\", \"font\": {\"color\": \"#000000\"}, \"showarrow\": false, \"text\": \"70000\", \"x\": -0.45, \"xanchor\": \"left\", \"xref\": \"x\", \"y\": 7, \"yref\": \"y\"}, {\"align\": \"left\", \"font\": {\"color\": \"#000000\"}, \"showarrow\": false, \"text\": \"3336954\", \"x\": 0.55, \"xanchor\": \"left\", \"xref\": \"x\", \"y\": 7, \"yref\": \"y\"}, {\"align\": \"left\", \"font\": {\"color\": \"#000000\"}, \"showarrow\": false, \"text\": \"1738730\", \"x\": 1.55, \"xanchor\": \"left\", \"xref\": \"x\", \"y\": 7, \"yref\": \"y\"}, {\"align\": \"left\", \"font\": {\"color\": \"#000000\"}, \"showarrow\": false, \"text\": \"3394426\", \"x\": 2.55, \"xanchor\": \"left\", \"xref\": \"x\", \"y\": 7, \"yref\": \"y\"}, {\"align\": \"left\", \"font\": {\"color\": \"#000000\"}, \"showarrow\": false, \"text\": \"3031953\", \"x\": 3.55, \"xanchor\": \"left\", \"xref\": \"x\", \"y\": 7, \"yref\": \"y\"}, {\"align\": \"left\", \"font\": {\"color\": \"#000000\"}, \"showarrow\": false, \"text\": \"80000\", \"x\": -0.45, \"xanchor\": \"left\", \"xref\": \"x\", \"y\": 8, \"yref\": \"y\"}, {\"align\": \"left\", \"font\": {\"color\": \"#000000\"}, \"showarrow\": false, \"text\": \"3826561\", \"x\": 0.55, \"xanchor\": \"left\", \"xref\": \"x\", \"y\": 8, \"yref\": \"y\"}, {\"align\": \"left\", \"font\": {\"color\": \"#000000\"}, \"showarrow\": false, \"text\": \"1985507\", \"x\": 1.55, \"xanchor\": \"left\", \"xref\": \"x\", \"y\": 8, \"yref\": \"y\"}, {\"align\": \"left\", \"font\": {\"color\": \"#000000\"}, \"showarrow\": false, \"text\": \"3885632\", \"x\": 2.55, \"xanchor\": \"left\", \"xref\": \"x\", \"y\": 8, \"yref\": \"y\"}, {\"align\": \"left\", \"font\": {\"color\": \"#000000\"}, \"showarrow\": false, \"text\": \"3465866\", \"x\": 3.55, \"xanchor\": \"left\", \"xref\": \"x\", \"y\": 8, \"yref\": \"y\"}, {\"align\": \"left\", \"font\": {\"color\": \"#000000\"}, \"showarrow\": false, \"text\": \"90000\", \"x\": -0.45, \"xanchor\": \"left\", \"xref\": \"x\", \"y\": 9, \"yref\": \"y\"}, {\"align\": \"left\", \"font\": {\"color\": \"#000000\"}, \"showarrow\": false, \"text\": \"4322902\", \"x\": 0.55, \"xanchor\": \"left\", \"xref\": \"x\", \"y\": 9, \"yref\": \"y\"}, {\"align\": \"left\", \"font\": {\"color\": \"#000000\"}, \"showarrow\": false, \"text\": \"2255257\", \"x\": 1.55, \"xanchor\": \"left\", \"xref\": \"x\", \"y\": 9, \"yref\": \"y\"}, {\"align\": \"left\", \"font\": {\"color\": \"#000000\"}, \"showarrow\": false, \"text\": \"4389506\", \"x\": 2.55, \"xanchor\": \"left\", \"xref\": \"x\", \"y\": 9, \"yref\": \"y\"}, {\"align\": \"left\", \"font\": {\"color\": \"#000000\"}, \"showarrow\": false, \"text\": \"3916682\", \"x\": 3.55, \"xanchor\": \"left\", \"xref\": \"x\", \"y\": 9, \"yref\": \"y\"}, {\"align\": \"left\", \"font\": {\"color\": \"#000000\"}, \"showarrow\": false, \"text\": \"100000\", \"x\": -0.45, \"xanchor\": \"left\", \"xref\": \"x\", \"y\": 10, \"yref\": \"y\"}, {\"align\": \"left\", \"font\": {\"color\": \"#000000\"}, \"showarrow\": false, \"text\": \"4803588\", \"x\": 0.55, \"xanchor\": \"left\", \"xref\": \"x\", \"y\": 10, \"yref\": \"y\"}, {\"align\": \"left\", \"font\": {\"color\": \"#000000\"}, \"showarrow\": false, \"text\": \"2515712\", \"x\": 1.55, \"xanchor\": \"left\", \"xref\": \"x\", \"y\": 10, \"yref\": \"y\"}, {\"align\": \"left\", \"font\": {\"color\": \"#000000\"}, \"showarrow\": false, \"text\": \"4866649\", \"x\": 2.55, \"xanchor\": \"left\", \"xref\": \"x\", \"y\": 10, \"yref\": \"y\"}, {\"align\": \"left\", \"font\": {\"color\": \"#000000\"}, \"showarrow\": false, \"text\": \"4344986\", \"x\": 3.55, \"xanchor\": \"left\", \"xref\": \"x\", \"y\": 10, \"yref\": \"y\"}], \"height\": 380, \"margin\": {\"b\": 0, \"l\": 0, \"r\": 0, \"t\": 0}, \"xaxis\": {\"dtick\": 1, \"gridwidth\": 2, \"showticklabels\": false, \"tick0\": -0.5, \"ticks\": \"\", \"zeroline\": false}, \"yaxis\": {\"autorange\": \"reversed\", \"dtick\": 1, \"gridwidth\": 2, \"showticklabels\": false, \"tick0\": 0.5, \"ticks\": \"\", \"zeroline\": false}}, {\"showLink\": true, \"linkText\": \"Export to plot.ly\", \"plotlyServerURL\": \"https://plot.ly\"})});</script><script type=\"text/javascript\">window.addEventListener(\"resize\", function(){window._Plotly.Plots.resize(document.getElementById(\"8a419817-0e39-49ec-9107-3a65dc4d037f\"));});</script>"
      ]
     },
     "metadata": {},
     "output_type": "display_data"
    }
   ],
   "source": [
    "df = pd.read_csv('list/staticMarkovMediumListAccessCost.csv')\n",
    "\n",
    "trace1 = go.Scatter(\n",
    "                    x=df['Sequence Length'], y=df['Access Costs'], # Data\n",
    "                    mode='lines', name='OPT',\n",
    "                    line = dict(color = ('rgb(37, 120, 178)'))\n",
    "                   )\n",
    "\n",
    "df = pd.read_csv('list/mtfMarkovMediumListAccessCost.csv')\n",
    "\n",
    "trace2 = go.Scatter(\n",
    "                    x=df['Sequence Length'], y=df['Access Costs'], # Data\n",
    "                    mode='lines', name='MTF',\n",
    "                    line = dict(color = ('rgb(253, 127, 40)'))\n",
    "                   )\n",
    "\n",
    "df = pd.read_csv('list/transposeMarkovMediumListAccessCost.csv')\n",
    "\n",
    "trace3 = go.Scatter(\n",
    "                    x=df['Sequence Length'], y=df['Access Costs'], # Data\n",
    "                    mode='lines', name='Transpose',\n",
    "                    line = dict(color = ('rgb(50, 158, 52)'))\n",
    "                   )\n",
    "\n",
    "df = pd.read_csv('list/kInARowMarkovMediumListAccessCost.csv')\n",
    "\n",
    "trace4 = go.Scatter(\n",
    "                    x=df['Sequence Length'], y=df['Access Costs'], # Data\n",
    "                    mode='lines', name='2-in-a-row',\n",
    "                    line = dict(color = ('rgb(211, 41, 47)'))\n",
    "                   )\n",
    "\n",
    "\n",
    "\n",
    "layout = go.Layout(title='List Access Cost: Medium Self Loop',\n",
    "                   plot_bgcolor='rgb(255, 255,255)',\n",
    "                   xaxis=dict(title='Sequence Length'),\n",
    "                   yaxis=dict(title='Access Cost'))\n",
    "\n",
    "fig = go.Figure(data=[trace1, trace2, trace3, trace4], layout=layout)\n",
    "\n",
    "# Plot data in the notebook\n",
    "iplot(fig)\n",
    "\n",
    "\n",
    "df = pd.read_csv('table/MarkovMediumList.csv')\n",
    "colorscale = [[0, '#000000'],[.5, '#FFFFFF'],[1, '#ffffff']]\n",
    "table = ff.create_table(df, colorscale=colorscale)\n",
    "iplot(table)"
   ]
  },
  {
   "cell_type": "code",
   "execution_count": 29,
   "metadata": {},
   "outputs": [
    {
     "data": {
      "application/vnd.plotly.v1+json": {
       "config": {
        "linkText": "Export to plot.ly",
        "plotlyServerURL": "https://plot.ly",
        "showLink": true
       },
       "data": [
        {
         "line": {
          "color": "rgb(37, 120, 178)"
         },
         "mode": "lines",
         "name": "OPT",
         "type": "scatter",
         "uid": "2596ff39-a548-487a-a10f-e244978174cd",
         "x": [
          10000,
          20000,
          30000,
          40000,
          50000,
          60000,
          70000,
          80000,
          90000,
          100000
         ],
         "y": [
          64327,
          123888,
          185005,
          270484,
          344726,
          354173,
          486883,
          521770,
          556666,
          567137
         ]
        },
        {
         "line": {
          "color": "rgb(253, 127, 40)"
         },
         "mode": "lines",
         "name": "Splay",
         "type": "scatter",
         "uid": "7238d1c4-e7ba-48ec-a66e-a464ed36a1ba",
         "x": [
          10000,
          20000,
          30000,
          40000,
          50000,
          60000,
          70000,
          80000,
          90000,
          100000
         ],
         "y": [
          33393,
          67653,
          100788,
          136149,
          168158,
          201935,
          235054,
          268171,
          304144,
          338755
         ]
        },
        {
         "line": {
          "color": "rgb(50, 158, 52)"
         },
         "mode": "lines",
         "name": "Transpose",
         "type": "scatter",
         "uid": "c7a3c886-9ccd-417c-8673-aa040c0a1fad",
         "x": [
          10000,
          20000,
          30000,
          40000,
          50000,
          60000,
          70000,
          80000,
          90000,
          100000
         ],
         "y": [
          79197,
          147999,
          217170,
          294567,
          369427,
          437829,
          516925,
          580043,
          669670,
          746209
         ]
        },
        {
         "line": {
          "color": "rgb(211, 41, 47)"
         },
         "mode": "lines",
         "name": "2-in-a-row",
         "type": "scatter",
         "uid": "57bda5d6-40b4-4b8a-ac69-7e56640daee7",
         "x": [
          10000,
          20000,
          30000,
          40000,
          50000,
          60000,
          70000,
          80000,
          90000,
          100000
         ],
         "y": [
          58710,
          118060,
          175830,
          237128,
          292673,
          351701,
          409324,
          466269,
          528110,
          588154
         ]
        }
       ],
       "layout": {
        "plot_bgcolor": "rgb(255, 255,255)",
        "title": "Trees Access Cost: Medium Self Loop",
        "xaxis": {
         "title": "Sequence Length"
        },
        "yaxis": {
         "title": "Access Cost"
        }
       }
      },
      "text/html": [
       "<div id=\"c7dc82ef-a9b7-409d-9a0e-f5730fc6671a\" style=\"height: 525px; width: 100%;\" class=\"plotly-graph-div\"></div><script type=\"text/javascript\">require([\"plotly\"], function(Plotly) { window.PLOTLYENV=window.PLOTLYENV || {};window.PLOTLYENV.BASE_URL=\"https://plot.ly\";Plotly.newPlot(\"c7dc82ef-a9b7-409d-9a0e-f5730fc6671a\", [{\"line\": {\"color\": \"rgb(37, 120, 178)\"}, \"mode\": \"lines\", \"name\": \"OPT\", \"x\": [10000, 20000, 30000, 40000, 50000, 60000, 70000, 80000, 90000, 100000], \"y\": [64327, 123888, 185005, 270484, 344726, 354173, 486883, 521770, 556666, 567137], \"type\": \"scatter\", \"uid\": \"2596ff39-a548-487a-a10f-e244978174cd\"}, {\"line\": {\"color\": \"rgb(253, 127, 40)\"}, \"mode\": \"lines\", \"name\": \"Splay\", \"x\": [10000, 20000, 30000, 40000, 50000, 60000, 70000, 80000, 90000, 100000], \"y\": [33393, 67653, 100788, 136149, 168158, 201935, 235054, 268171, 304144, 338755], \"type\": \"scatter\", \"uid\": \"7238d1c4-e7ba-48ec-a66e-a464ed36a1ba\"}, {\"line\": {\"color\": \"rgb(50, 158, 52)\"}, \"mode\": \"lines\", \"name\": \"Transpose\", \"x\": [10000, 20000, 30000, 40000, 50000, 60000, 70000, 80000, 90000, 100000], \"y\": [79197, 147999, 217170, 294567, 369427, 437829, 516925, 580043, 669670, 746209], \"type\": \"scatter\", \"uid\": \"c7a3c886-9ccd-417c-8673-aa040c0a1fad\"}, {\"line\": {\"color\": \"rgb(211, 41, 47)\"}, \"mode\": \"lines\", \"name\": \"2-in-a-row\", \"x\": [10000, 20000, 30000, 40000, 50000, 60000, 70000, 80000, 90000, 100000], \"y\": [58710, 118060, 175830, 237128, 292673, 351701, 409324, 466269, 528110, 588154], \"type\": \"scatter\", \"uid\": \"57bda5d6-40b4-4b8a-ac69-7e56640daee7\"}], {\"plot_bgcolor\": \"rgb(255, 255,255)\", \"title\": \"Trees Access Cost: Medium Self Loop\", \"xaxis\": {\"title\": \"Sequence Length\"}, \"yaxis\": {\"title\": \"Access Cost\"}}, {\"showLink\": true, \"linkText\": \"Export to plot.ly\", \"plotlyServerURL\": \"https://plot.ly\"})});</script><script type=\"text/javascript\">window.addEventListener(\"resize\", function(){window._Plotly.Plots.resize(document.getElementById(\"c7dc82ef-a9b7-409d-9a0e-f5730fc6671a\"));});</script>"
      ],
      "text/vnd.plotly.v1+html": [
       "<div id=\"c7dc82ef-a9b7-409d-9a0e-f5730fc6671a\" style=\"height: 525px; width: 100%;\" class=\"plotly-graph-div\"></div><script type=\"text/javascript\">require([\"plotly\"], function(Plotly) { window.PLOTLYENV=window.PLOTLYENV || {};window.PLOTLYENV.BASE_URL=\"https://plot.ly\";Plotly.newPlot(\"c7dc82ef-a9b7-409d-9a0e-f5730fc6671a\", [{\"line\": {\"color\": \"rgb(37, 120, 178)\"}, \"mode\": \"lines\", \"name\": \"OPT\", \"x\": [10000, 20000, 30000, 40000, 50000, 60000, 70000, 80000, 90000, 100000], \"y\": [64327, 123888, 185005, 270484, 344726, 354173, 486883, 521770, 556666, 567137], \"type\": \"scatter\", \"uid\": \"2596ff39-a548-487a-a10f-e244978174cd\"}, {\"line\": {\"color\": \"rgb(253, 127, 40)\"}, \"mode\": \"lines\", \"name\": \"Splay\", \"x\": [10000, 20000, 30000, 40000, 50000, 60000, 70000, 80000, 90000, 100000], \"y\": [33393, 67653, 100788, 136149, 168158, 201935, 235054, 268171, 304144, 338755], \"type\": \"scatter\", \"uid\": \"7238d1c4-e7ba-48ec-a66e-a464ed36a1ba\"}, {\"line\": {\"color\": \"rgb(50, 158, 52)\"}, \"mode\": \"lines\", \"name\": \"Transpose\", \"x\": [10000, 20000, 30000, 40000, 50000, 60000, 70000, 80000, 90000, 100000], \"y\": [79197, 147999, 217170, 294567, 369427, 437829, 516925, 580043, 669670, 746209], \"type\": \"scatter\", \"uid\": \"c7a3c886-9ccd-417c-8673-aa040c0a1fad\"}, {\"line\": {\"color\": \"rgb(211, 41, 47)\"}, \"mode\": \"lines\", \"name\": \"2-in-a-row\", \"x\": [10000, 20000, 30000, 40000, 50000, 60000, 70000, 80000, 90000, 100000], \"y\": [58710, 118060, 175830, 237128, 292673, 351701, 409324, 466269, 528110, 588154], \"type\": \"scatter\", \"uid\": \"57bda5d6-40b4-4b8a-ac69-7e56640daee7\"}], {\"plot_bgcolor\": \"rgb(255, 255,255)\", \"title\": \"Trees Access Cost: Medium Self Loop\", \"xaxis\": {\"title\": \"Sequence Length\"}, \"yaxis\": {\"title\": \"Access Cost\"}}, {\"showLink\": true, \"linkText\": \"Export to plot.ly\", \"plotlyServerURL\": \"https://plot.ly\"})});</script><script type=\"text/javascript\">window.addEventListener(\"resize\", function(){window._Plotly.Plots.resize(document.getElementById(\"c7dc82ef-a9b7-409d-9a0e-f5730fc6671a\"));});</script>"
      ]
     },
     "metadata": {},
     "output_type": "display_data"
    },
    {
     "data": {
      "application/vnd.plotly.v1+json": {
       "config": {
        "linkText": "Export to plot.ly",
        "plotlyServerURL": "https://plot.ly",
        "showLink": true
       },
       "data": [
        {
         "colorscale": [
          [
           0,
           "#000000"
          ],
          [
           0.5,
           "#FFFFFF"
          ],
          [
           1,
           "#ffffff"
          ]
         ],
         "hoverinfo": "none",
         "opacity": 0.75,
         "showscale": false,
         "type": "heatmap",
         "uid": "4ade6f11-6920-4d2f-abcb-92bc2ba90610",
         "z": [
          [
           0,
           0,
           0,
           0,
           0
          ],
          [
           0.5,
           0.5,
           0.5,
           0.5,
           0.5
          ],
          [
           1,
           1,
           1,
           1,
           1
          ],
          [
           0.5,
           0.5,
           0.5,
           0.5,
           0.5
          ],
          [
           1,
           1,
           1,
           1,
           1
          ],
          [
           0.5,
           0.5,
           0.5,
           0.5,
           0.5
          ],
          [
           1,
           1,
           1,
           1,
           1
          ],
          [
           0.5,
           0.5,
           0.5,
           0.5,
           0.5
          ],
          [
           1,
           1,
           1,
           1,
           1
          ],
          [
           0.5,
           0.5,
           0.5,
           0.5,
           0.5
          ],
          [
           1,
           1,
           1,
           1,
           1
          ]
         ]
        }
       ],
       "layout": {
        "annotations": [
         {
          "align": "left",
          "font": {
           "color": "#ffffff"
          },
          "showarrow": false,
          "text": "<b>Sequence Length</b>",
          "x": -0.45,
          "xanchor": "left",
          "xref": "x",
          "y": 0,
          "yref": "y"
         },
         {
          "align": "left",
          "font": {
           "color": "#ffffff"
          },
          "showarrow": false,
          "text": "<b>OPT</b>",
          "x": 0.55,
          "xanchor": "left",
          "xref": "x",
          "y": 0,
          "yref": "y"
         },
         {
          "align": "left",
          "font": {
           "color": "#ffffff"
          },
          "showarrow": false,
          "text": "<b>Splay</b>",
          "x": 1.55,
          "xanchor": "left",
          "xref": "x",
          "y": 0,
          "yref": "y"
         },
         {
          "align": "left",
          "font": {
           "color": "#ffffff"
          },
          "showarrow": false,
          "text": "<b>Transpose</b>",
          "x": 2.55,
          "xanchor": "left",
          "xref": "x",
          "y": 0,
          "yref": "y"
         },
         {
          "align": "left",
          "font": {
           "color": "#ffffff"
          },
          "showarrow": false,
          "text": "<b>2-in-a-Row</b>",
          "x": 3.55,
          "xanchor": "left",
          "xref": "x",
          "y": 0,
          "yref": "y"
         },
         {
          "align": "left",
          "font": {
           "color": "#000000"
          },
          "showarrow": false,
          "text": "10000",
          "x": -0.45,
          "xanchor": "left",
          "xref": "x",
          "y": 1,
          "yref": "y"
         },
         {
          "align": "left",
          "font": {
           "color": "#000000"
          },
          "showarrow": false,
          "text": "64327",
          "x": 0.55,
          "xanchor": "left",
          "xref": "x",
          "y": 1,
          "yref": "y"
         },
         {
          "align": "left",
          "font": {
           "color": "#000000"
          },
          "showarrow": false,
          "text": "33393",
          "x": 1.55,
          "xanchor": "left",
          "xref": "x",
          "y": 1,
          "yref": "y"
         },
         {
          "align": "left",
          "font": {
           "color": "#000000"
          },
          "showarrow": false,
          "text": "79197",
          "x": 2.55,
          "xanchor": "left",
          "xref": "x",
          "y": 1,
          "yref": "y"
         },
         {
          "align": "left",
          "font": {
           "color": "#000000"
          },
          "showarrow": false,
          "text": "58710",
          "x": 3.55,
          "xanchor": "left",
          "xref": "x",
          "y": 1,
          "yref": "y"
         },
         {
          "align": "left",
          "font": {
           "color": "#000000"
          },
          "showarrow": false,
          "text": "20000",
          "x": -0.45,
          "xanchor": "left",
          "xref": "x",
          "y": 2,
          "yref": "y"
         },
         {
          "align": "left",
          "font": {
           "color": "#000000"
          },
          "showarrow": false,
          "text": "123888",
          "x": 0.55,
          "xanchor": "left",
          "xref": "x",
          "y": 2,
          "yref": "y"
         },
         {
          "align": "left",
          "font": {
           "color": "#000000"
          },
          "showarrow": false,
          "text": "67653",
          "x": 1.55,
          "xanchor": "left",
          "xref": "x",
          "y": 2,
          "yref": "y"
         },
         {
          "align": "left",
          "font": {
           "color": "#000000"
          },
          "showarrow": false,
          "text": "147999",
          "x": 2.55,
          "xanchor": "left",
          "xref": "x",
          "y": 2,
          "yref": "y"
         },
         {
          "align": "left",
          "font": {
           "color": "#000000"
          },
          "showarrow": false,
          "text": "118060",
          "x": 3.55,
          "xanchor": "left",
          "xref": "x",
          "y": 2,
          "yref": "y"
         },
         {
          "align": "left",
          "font": {
           "color": "#000000"
          },
          "showarrow": false,
          "text": "30000",
          "x": -0.45,
          "xanchor": "left",
          "xref": "x",
          "y": 3,
          "yref": "y"
         },
         {
          "align": "left",
          "font": {
           "color": "#000000"
          },
          "showarrow": false,
          "text": "185005",
          "x": 0.55,
          "xanchor": "left",
          "xref": "x",
          "y": 3,
          "yref": "y"
         },
         {
          "align": "left",
          "font": {
           "color": "#000000"
          },
          "showarrow": false,
          "text": "100788",
          "x": 1.55,
          "xanchor": "left",
          "xref": "x",
          "y": 3,
          "yref": "y"
         },
         {
          "align": "left",
          "font": {
           "color": "#000000"
          },
          "showarrow": false,
          "text": "217170",
          "x": 2.55,
          "xanchor": "left",
          "xref": "x",
          "y": 3,
          "yref": "y"
         },
         {
          "align": "left",
          "font": {
           "color": "#000000"
          },
          "showarrow": false,
          "text": "175830",
          "x": 3.55,
          "xanchor": "left",
          "xref": "x",
          "y": 3,
          "yref": "y"
         },
         {
          "align": "left",
          "font": {
           "color": "#000000"
          },
          "showarrow": false,
          "text": "40000",
          "x": -0.45,
          "xanchor": "left",
          "xref": "x",
          "y": 4,
          "yref": "y"
         },
         {
          "align": "left",
          "font": {
           "color": "#000000"
          },
          "showarrow": false,
          "text": "270484",
          "x": 0.55,
          "xanchor": "left",
          "xref": "x",
          "y": 4,
          "yref": "y"
         },
         {
          "align": "left",
          "font": {
           "color": "#000000"
          },
          "showarrow": false,
          "text": "136149",
          "x": 1.55,
          "xanchor": "left",
          "xref": "x",
          "y": 4,
          "yref": "y"
         },
         {
          "align": "left",
          "font": {
           "color": "#000000"
          },
          "showarrow": false,
          "text": "294567",
          "x": 2.55,
          "xanchor": "left",
          "xref": "x",
          "y": 4,
          "yref": "y"
         },
         {
          "align": "left",
          "font": {
           "color": "#000000"
          },
          "showarrow": false,
          "text": "237128",
          "x": 3.55,
          "xanchor": "left",
          "xref": "x",
          "y": 4,
          "yref": "y"
         },
         {
          "align": "left",
          "font": {
           "color": "#000000"
          },
          "showarrow": false,
          "text": "50000",
          "x": -0.45,
          "xanchor": "left",
          "xref": "x",
          "y": 5,
          "yref": "y"
         },
         {
          "align": "left",
          "font": {
           "color": "#000000"
          },
          "showarrow": false,
          "text": "344726",
          "x": 0.55,
          "xanchor": "left",
          "xref": "x",
          "y": 5,
          "yref": "y"
         },
         {
          "align": "left",
          "font": {
           "color": "#000000"
          },
          "showarrow": false,
          "text": "168158",
          "x": 1.55,
          "xanchor": "left",
          "xref": "x",
          "y": 5,
          "yref": "y"
         },
         {
          "align": "left",
          "font": {
           "color": "#000000"
          },
          "showarrow": false,
          "text": "369427",
          "x": 2.55,
          "xanchor": "left",
          "xref": "x",
          "y": 5,
          "yref": "y"
         },
         {
          "align": "left",
          "font": {
           "color": "#000000"
          },
          "showarrow": false,
          "text": "292673",
          "x": 3.55,
          "xanchor": "left",
          "xref": "x",
          "y": 5,
          "yref": "y"
         },
         {
          "align": "left",
          "font": {
           "color": "#000000"
          },
          "showarrow": false,
          "text": "60000",
          "x": -0.45,
          "xanchor": "left",
          "xref": "x",
          "y": 6,
          "yref": "y"
         },
         {
          "align": "left",
          "font": {
           "color": "#000000"
          },
          "showarrow": false,
          "text": "354173",
          "x": 0.55,
          "xanchor": "left",
          "xref": "x",
          "y": 6,
          "yref": "y"
         },
         {
          "align": "left",
          "font": {
           "color": "#000000"
          },
          "showarrow": false,
          "text": "201935",
          "x": 1.55,
          "xanchor": "left",
          "xref": "x",
          "y": 6,
          "yref": "y"
         },
         {
          "align": "left",
          "font": {
           "color": "#000000"
          },
          "showarrow": false,
          "text": "437829",
          "x": 2.55,
          "xanchor": "left",
          "xref": "x",
          "y": 6,
          "yref": "y"
         },
         {
          "align": "left",
          "font": {
           "color": "#000000"
          },
          "showarrow": false,
          "text": "351701",
          "x": 3.55,
          "xanchor": "left",
          "xref": "x",
          "y": 6,
          "yref": "y"
         },
         {
          "align": "left",
          "font": {
           "color": "#000000"
          },
          "showarrow": false,
          "text": "70000",
          "x": -0.45,
          "xanchor": "left",
          "xref": "x",
          "y": 7,
          "yref": "y"
         },
         {
          "align": "left",
          "font": {
           "color": "#000000"
          },
          "showarrow": false,
          "text": "486883",
          "x": 0.55,
          "xanchor": "left",
          "xref": "x",
          "y": 7,
          "yref": "y"
         },
         {
          "align": "left",
          "font": {
           "color": "#000000"
          },
          "showarrow": false,
          "text": "235054",
          "x": 1.55,
          "xanchor": "left",
          "xref": "x",
          "y": 7,
          "yref": "y"
         },
         {
          "align": "left",
          "font": {
           "color": "#000000"
          },
          "showarrow": false,
          "text": "516925",
          "x": 2.55,
          "xanchor": "left",
          "xref": "x",
          "y": 7,
          "yref": "y"
         },
         {
          "align": "left",
          "font": {
           "color": "#000000"
          },
          "showarrow": false,
          "text": "409324",
          "x": 3.55,
          "xanchor": "left",
          "xref": "x",
          "y": 7,
          "yref": "y"
         },
         {
          "align": "left",
          "font": {
           "color": "#000000"
          },
          "showarrow": false,
          "text": "80000",
          "x": -0.45,
          "xanchor": "left",
          "xref": "x",
          "y": 8,
          "yref": "y"
         },
         {
          "align": "left",
          "font": {
           "color": "#000000"
          },
          "showarrow": false,
          "text": "521770",
          "x": 0.55,
          "xanchor": "left",
          "xref": "x",
          "y": 8,
          "yref": "y"
         },
         {
          "align": "left",
          "font": {
           "color": "#000000"
          },
          "showarrow": false,
          "text": "268171",
          "x": 1.55,
          "xanchor": "left",
          "xref": "x",
          "y": 8,
          "yref": "y"
         },
         {
          "align": "left",
          "font": {
           "color": "#000000"
          },
          "showarrow": false,
          "text": "580043",
          "x": 2.55,
          "xanchor": "left",
          "xref": "x",
          "y": 8,
          "yref": "y"
         },
         {
          "align": "left",
          "font": {
           "color": "#000000"
          },
          "showarrow": false,
          "text": "466269",
          "x": 3.55,
          "xanchor": "left",
          "xref": "x",
          "y": 8,
          "yref": "y"
         },
         {
          "align": "left",
          "font": {
           "color": "#000000"
          },
          "showarrow": false,
          "text": "90000",
          "x": -0.45,
          "xanchor": "left",
          "xref": "x",
          "y": 9,
          "yref": "y"
         },
         {
          "align": "left",
          "font": {
           "color": "#000000"
          },
          "showarrow": false,
          "text": "556666",
          "x": 0.55,
          "xanchor": "left",
          "xref": "x",
          "y": 9,
          "yref": "y"
         },
         {
          "align": "left",
          "font": {
           "color": "#000000"
          },
          "showarrow": false,
          "text": "304144",
          "x": 1.55,
          "xanchor": "left",
          "xref": "x",
          "y": 9,
          "yref": "y"
         },
         {
          "align": "left",
          "font": {
           "color": "#000000"
          },
          "showarrow": false,
          "text": "669670",
          "x": 2.55,
          "xanchor": "left",
          "xref": "x",
          "y": 9,
          "yref": "y"
         },
         {
          "align": "left",
          "font": {
           "color": "#000000"
          },
          "showarrow": false,
          "text": "528110",
          "x": 3.55,
          "xanchor": "left",
          "xref": "x",
          "y": 9,
          "yref": "y"
         },
         {
          "align": "left",
          "font": {
           "color": "#000000"
          },
          "showarrow": false,
          "text": "100000",
          "x": -0.45,
          "xanchor": "left",
          "xref": "x",
          "y": 10,
          "yref": "y"
         },
         {
          "align": "left",
          "font": {
           "color": "#000000"
          },
          "showarrow": false,
          "text": "567137",
          "x": 0.55,
          "xanchor": "left",
          "xref": "x",
          "y": 10,
          "yref": "y"
         },
         {
          "align": "left",
          "font": {
           "color": "#000000"
          },
          "showarrow": false,
          "text": "338755",
          "x": 1.55,
          "xanchor": "left",
          "xref": "x",
          "y": 10,
          "yref": "y"
         },
         {
          "align": "left",
          "font": {
           "color": "#000000"
          },
          "showarrow": false,
          "text": "746209",
          "x": 2.55,
          "xanchor": "left",
          "xref": "x",
          "y": 10,
          "yref": "y"
         },
         {
          "align": "left",
          "font": {
           "color": "#000000"
          },
          "showarrow": false,
          "text": "588154",
          "x": 3.55,
          "xanchor": "left",
          "xref": "x",
          "y": 10,
          "yref": "y"
         }
        ],
        "height": 380,
        "margin": {
         "b": 0,
         "l": 0,
         "r": 0,
         "t": 0
        },
        "xaxis": {
         "dtick": 1,
         "gridwidth": 2,
         "showticklabels": false,
         "tick0": -0.5,
         "ticks": "",
         "zeroline": false
        },
        "yaxis": {
         "autorange": "reversed",
         "dtick": 1,
         "gridwidth": 2,
         "showticklabels": false,
         "tick0": 0.5,
         "ticks": "",
         "zeroline": false
        }
       }
      },
      "text/html": [
       "<div id=\"da513ee7-ff89-4d11-adde-9c1a03496b5b\" style=\"height: 380px; width: 100%;\" class=\"plotly-graph-div\"></div><script type=\"text/javascript\">require([\"plotly\"], function(Plotly) { window.PLOTLYENV=window.PLOTLYENV || {};window.PLOTLYENV.BASE_URL=\"https://plot.ly\";Plotly.newPlot(\"da513ee7-ff89-4d11-adde-9c1a03496b5b\", [{\"colorscale\": [[0, \"#000000\"], [0.5, \"#FFFFFF\"], [1, \"#ffffff\"]], \"hoverinfo\": \"none\", \"opacity\": 0.75, \"showscale\": false, \"z\": [[0, 0, 0, 0, 0], [0.5, 0.5, 0.5, 0.5, 0.5], [1, 1, 1, 1, 1], [0.5, 0.5, 0.5, 0.5, 0.5], [1, 1, 1, 1, 1], [0.5, 0.5, 0.5, 0.5, 0.5], [1, 1, 1, 1, 1], [0.5, 0.5, 0.5, 0.5, 0.5], [1, 1, 1, 1, 1], [0.5, 0.5, 0.5, 0.5, 0.5], [1, 1, 1, 1, 1]], \"type\": \"heatmap\", \"uid\": \"4ade6f11-6920-4d2f-abcb-92bc2ba90610\"}], {\"annotations\": [{\"align\": \"left\", \"font\": {\"color\": \"#ffffff\"}, \"showarrow\": false, \"text\": \"<b>Sequence Length</b>\", \"x\": -0.45, \"xanchor\": \"left\", \"xref\": \"x\", \"y\": 0, \"yref\": \"y\"}, {\"align\": \"left\", \"font\": {\"color\": \"#ffffff\"}, \"showarrow\": false, \"text\": \"<b>OPT</b>\", \"x\": 0.55, \"xanchor\": \"left\", \"xref\": \"x\", \"y\": 0, \"yref\": \"y\"}, {\"align\": \"left\", \"font\": {\"color\": \"#ffffff\"}, \"showarrow\": false, \"text\": \"<b>Splay</b>\", \"x\": 1.55, \"xanchor\": \"left\", \"xref\": \"x\", \"y\": 0, \"yref\": \"y\"}, {\"align\": \"left\", \"font\": {\"color\": \"#ffffff\"}, \"showarrow\": false, \"text\": \"<b>Transpose</b>\", \"x\": 2.55, \"xanchor\": \"left\", \"xref\": \"x\", \"y\": 0, \"yref\": \"y\"}, {\"align\": \"left\", \"font\": {\"color\": \"#ffffff\"}, \"showarrow\": false, \"text\": \"<b>2-in-a-Row</b>\", \"x\": 3.55, \"xanchor\": \"left\", \"xref\": \"x\", \"y\": 0, \"yref\": \"y\"}, {\"align\": \"left\", \"font\": {\"color\": \"#000000\"}, \"showarrow\": false, \"text\": \"10000\", \"x\": -0.45, \"xanchor\": \"left\", \"xref\": \"x\", \"y\": 1, \"yref\": \"y\"}, {\"align\": \"left\", \"font\": {\"color\": \"#000000\"}, \"showarrow\": false, \"text\": \"64327\", \"x\": 0.55, \"xanchor\": \"left\", \"xref\": \"x\", \"y\": 1, \"yref\": \"y\"}, {\"align\": \"left\", \"font\": {\"color\": \"#000000\"}, \"showarrow\": false, \"text\": \"33393\", \"x\": 1.55, \"xanchor\": \"left\", \"xref\": \"x\", \"y\": 1, \"yref\": \"y\"}, {\"align\": \"left\", \"font\": {\"color\": \"#000000\"}, \"showarrow\": false, \"text\": \"79197\", \"x\": 2.55, \"xanchor\": \"left\", \"xref\": \"x\", \"y\": 1, \"yref\": \"y\"}, {\"align\": \"left\", \"font\": {\"color\": \"#000000\"}, \"showarrow\": false, \"text\": \"58710\", \"x\": 3.55, \"xanchor\": \"left\", \"xref\": \"x\", \"y\": 1, \"yref\": \"y\"}, {\"align\": \"left\", \"font\": {\"color\": \"#000000\"}, \"showarrow\": false, \"text\": \"20000\", \"x\": -0.45, \"xanchor\": \"left\", \"xref\": \"x\", \"y\": 2, \"yref\": \"y\"}, {\"align\": \"left\", \"font\": {\"color\": \"#000000\"}, \"showarrow\": false, \"text\": \"123888\", \"x\": 0.55, \"xanchor\": \"left\", \"xref\": \"x\", \"y\": 2, \"yref\": \"y\"}, {\"align\": \"left\", \"font\": {\"color\": \"#000000\"}, \"showarrow\": false, \"text\": \"67653\", \"x\": 1.55, \"xanchor\": \"left\", \"xref\": \"x\", \"y\": 2, \"yref\": \"y\"}, {\"align\": \"left\", \"font\": {\"color\": \"#000000\"}, \"showarrow\": false, \"text\": \"147999\", \"x\": 2.55, \"xanchor\": \"left\", \"xref\": \"x\", \"y\": 2, \"yref\": \"y\"}, {\"align\": \"left\", \"font\": {\"color\": \"#000000\"}, \"showarrow\": false, \"text\": \"118060\", \"x\": 3.55, \"xanchor\": \"left\", \"xref\": \"x\", \"y\": 2, \"yref\": \"y\"}, {\"align\": \"left\", \"font\": {\"color\": \"#000000\"}, \"showarrow\": false, \"text\": \"30000\", \"x\": -0.45, \"xanchor\": \"left\", \"xref\": \"x\", \"y\": 3, \"yref\": \"y\"}, {\"align\": \"left\", \"font\": {\"color\": \"#000000\"}, \"showarrow\": false, \"text\": \"185005\", \"x\": 0.55, \"xanchor\": \"left\", \"xref\": \"x\", \"y\": 3, \"yref\": \"y\"}, {\"align\": \"left\", \"font\": {\"color\": \"#000000\"}, \"showarrow\": false, \"text\": \"100788\", \"x\": 1.55, \"xanchor\": \"left\", \"xref\": \"x\", \"y\": 3, \"yref\": \"y\"}, {\"align\": \"left\", \"font\": {\"color\": \"#000000\"}, \"showarrow\": false, \"text\": \"217170\", \"x\": 2.55, \"xanchor\": \"left\", \"xref\": \"x\", \"y\": 3, \"yref\": \"y\"}, {\"align\": \"left\", \"font\": {\"color\": \"#000000\"}, \"showarrow\": false, \"text\": \"175830\", \"x\": 3.55, \"xanchor\": \"left\", \"xref\": \"x\", \"y\": 3, \"yref\": \"y\"}, {\"align\": \"left\", \"font\": {\"color\": \"#000000\"}, \"showarrow\": false, \"text\": \"40000\", \"x\": -0.45, \"xanchor\": \"left\", \"xref\": \"x\", \"y\": 4, \"yref\": \"y\"}, {\"align\": \"left\", \"font\": {\"color\": \"#000000\"}, \"showarrow\": false, \"text\": \"270484\", \"x\": 0.55, \"xanchor\": \"left\", \"xref\": \"x\", \"y\": 4, \"yref\": \"y\"}, {\"align\": \"left\", \"font\": {\"color\": \"#000000\"}, \"showarrow\": false, \"text\": \"136149\", \"x\": 1.55, \"xanchor\": \"left\", \"xref\": \"x\", \"y\": 4, \"yref\": \"y\"}, {\"align\": \"left\", \"font\": {\"color\": \"#000000\"}, \"showarrow\": false, \"text\": \"294567\", \"x\": 2.55, \"xanchor\": \"left\", \"xref\": \"x\", \"y\": 4, \"yref\": \"y\"}, {\"align\": \"left\", \"font\": {\"color\": \"#000000\"}, \"showarrow\": false, \"text\": \"237128\", \"x\": 3.55, \"xanchor\": \"left\", \"xref\": \"x\", \"y\": 4, \"yref\": \"y\"}, {\"align\": \"left\", \"font\": {\"color\": \"#000000\"}, \"showarrow\": false, \"text\": \"50000\", \"x\": -0.45, \"xanchor\": \"left\", \"xref\": \"x\", \"y\": 5, \"yref\": \"y\"}, {\"align\": \"left\", \"font\": {\"color\": \"#000000\"}, \"showarrow\": false, \"text\": \"344726\", \"x\": 0.55, \"xanchor\": \"left\", \"xref\": \"x\", \"y\": 5, \"yref\": \"y\"}, {\"align\": \"left\", \"font\": {\"color\": \"#000000\"}, \"showarrow\": false, \"text\": \"168158\", \"x\": 1.55, \"xanchor\": \"left\", \"xref\": \"x\", \"y\": 5, \"yref\": \"y\"}, {\"align\": \"left\", \"font\": {\"color\": \"#000000\"}, \"showarrow\": false, \"text\": \"369427\", \"x\": 2.55, \"xanchor\": \"left\", \"xref\": \"x\", \"y\": 5, \"yref\": \"y\"}, {\"align\": \"left\", \"font\": {\"color\": \"#000000\"}, \"showarrow\": false, \"text\": \"292673\", \"x\": 3.55, \"xanchor\": \"left\", \"xref\": \"x\", \"y\": 5, \"yref\": \"y\"}, {\"align\": \"left\", \"font\": {\"color\": \"#000000\"}, \"showarrow\": false, \"text\": \"60000\", \"x\": -0.45, \"xanchor\": \"left\", \"xref\": \"x\", \"y\": 6, \"yref\": \"y\"}, {\"align\": \"left\", \"font\": {\"color\": \"#000000\"}, \"showarrow\": false, \"text\": \"354173\", \"x\": 0.55, \"xanchor\": \"left\", \"xref\": \"x\", \"y\": 6, \"yref\": \"y\"}, {\"align\": \"left\", \"font\": {\"color\": \"#000000\"}, \"showarrow\": false, \"text\": \"201935\", \"x\": 1.55, \"xanchor\": \"left\", \"xref\": \"x\", \"y\": 6, \"yref\": \"y\"}, {\"align\": \"left\", \"font\": {\"color\": \"#000000\"}, \"showarrow\": false, \"text\": \"437829\", \"x\": 2.55, \"xanchor\": \"left\", \"xref\": \"x\", \"y\": 6, \"yref\": \"y\"}, {\"align\": \"left\", \"font\": {\"color\": \"#000000\"}, \"showarrow\": false, \"text\": \"351701\", \"x\": 3.55, \"xanchor\": \"left\", \"xref\": \"x\", \"y\": 6, \"yref\": \"y\"}, {\"align\": \"left\", \"font\": {\"color\": \"#000000\"}, \"showarrow\": false, \"text\": \"70000\", \"x\": -0.45, \"xanchor\": \"left\", \"xref\": \"x\", \"y\": 7, \"yref\": \"y\"}, {\"align\": \"left\", \"font\": {\"color\": \"#000000\"}, \"showarrow\": false, \"text\": \"486883\", \"x\": 0.55, \"xanchor\": \"left\", \"xref\": \"x\", \"y\": 7, \"yref\": \"y\"}, {\"align\": \"left\", \"font\": {\"color\": \"#000000\"}, \"showarrow\": false, \"text\": \"235054\", \"x\": 1.55, \"xanchor\": \"left\", \"xref\": \"x\", \"y\": 7, \"yref\": \"y\"}, {\"align\": \"left\", \"font\": {\"color\": \"#000000\"}, \"showarrow\": false, \"text\": \"516925\", \"x\": 2.55, \"xanchor\": \"left\", \"xref\": \"x\", \"y\": 7, \"yref\": \"y\"}, {\"align\": \"left\", \"font\": {\"color\": \"#000000\"}, \"showarrow\": false, \"text\": \"409324\", \"x\": 3.55, \"xanchor\": \"left\", \"xref\": \"x\", \"y\": 7, \"yref\": \"y\"}, {\"align\": \"left\", \"font\": {\"color\": \"#000000\"}, \"showarrow\": false, \"text\": \"80000\", \"x\": -0.45, \"xanchor\": \"left\", \"xref\": \"x\", \"y\": 8, \"yref\": \"y\"}, {\"align\": \"left\", \"font\": {\"color\": \"#000000\"}, \"showarrow\": false, \"text\": \"521770\", \"x\": 0.55, \"xanchor\": \"left\", \"xref\": \"x\", \"y\": 8, \"yref\": \"y\"}, {\"align\": \"left\", \"font\": {\"color\": \"#000000\"}, \"showarrow\": false, \"text\": \"268171\", \"x\": 1.55, \"xanchor\": \"left\", \"xref\": \"x\", \"y\": 8, \"yref\": \"y\"}, {\"align\": \"left\", \"font\": {\"color\": \"#000000\"}, \"showarrow\": false, \"text\": \"580043\", \"x\": 2.55, \"xanchor\": \"left\", \"xref\": \"x\", \"y\": 8, \"yref\": \"y\"}, {\"align\": \"left\", \"font\": {\"color\": \"#000000\"}, \"showarrow\": false, \"text\": \"466269\", \"x\": 3.55, \"xanchor\": \"left\", \"xref\": \"x\", \"y\": 8, \"yref\": \"y\"}, {\"align\": \"left\", \"font\": {\"color\": \"#000000\"}, \"showarrow\": false, \"text\": \"90000\", \"x\": -0.45, \"xanchor\": \"left\", \"xref\": \"x\", \"y\": 9, \"yref\": \"y\"}, {\"align\": \"left\", \"font\": {\"color\": \"#000000\"}, \"showarrow\": false, \"text\": \"556666\", \"x\": 0.55, \"xanchor\": \"left\", \"xref\": \"x\", \"y\": 9, \"yref\": \"y\"}, {\"align\": \"left\", \"font\": {\"color\": \"#000000\"}, \"showarrow\": false, \"text\": \"304144\", \"x\": 1.55, \"xanchor\": \"left\", \"xref\": \"x\", \"y\": 9, \"yref\": \"y\"}, {\"align\": \"left\", \"font\": {\"color\": \"#000000\"}, \"showarrow\": false, \"text\": \"669670\", \"x\": 2.55, \"xanchor\": \"left\", \"xref\": \"x\", \"y\": 9, \"yref\": \"y\"}, {\"align\": \"left\", \"font\": {\"color\": \"#000000\"}, \"showarrow\": false, \"text\": \"528110\", \"x\": 3.55, \"xanchor\": \"left\", \"xref\": \"x\", \"y\": 9, \"yref\": \"y\"}, {\"align\": \"left\", \"font\": {\"color\": \"#000000\"}, \"showarrow\": false, \"text\": \"100000\", \"x\": -0.45, \"xanchor\": \"left\", \"xref\": \"x\", \"y\": 10, \"yref\": \"y\"}, {\"align\": \"left\", \"font\": {\"color\": \"#000000\"}, \"showarrow\": false, \"text\": \"567137\", \"x\": 0.55, \"xanchor\": \"left\", \"xref\": \"x\", \"y\": 10, \"yref\": \"y\"}, {\"align\": \"left\", \"font\": {\"color\": \"#000000\"}, \"showarrow\": false, \"text\": \"338755\", \"x\": 1.55, \"xanchor\": \"left\", \"xref\": \"x\", \"y\": 10, \"yref\": \"y\"}, {\"align\": \"left\", \"font\": {\"color\": \"#000000\"}, \"showarrow\": false, \"text\": \"746209\", \"x\": 2.55, \"xanchor\": \"left\", \"xref\": \"x\", \"y\": 10, \"yref\": \"y\"}, {\"align\": \"left\", \"font\": {\"color\": \"#000000\"}, \"showarrow\": false, \"text\": \"588154\", \"x\": 3.55, \"xanchor\": \"left\", \"xref\": \"x\", \"y\": 10, \"yref\": \"y\"}], \"height\": 380, \"margin\": {\"b\": 0, \"l\": 0, \"r\": 0, \"t\": 0}, \"xaxis\": {\"dtick\": 1, \"gridwidth\": 2, \"showticklabels\": false, \"tick0\": -0.5, \"ticks\": \"\", \"zeroline\": false}, \"yaxis\": {\"autorange\": \"reversed\", \"dtick\": 1, \"gridwidth\": 2, \"showticklabels\": false, \"tick0\": 0.5, \"ticks\": \"\", \"zeroline\": false}}, {\"showLink\": true, \"linkText\": \"Export to plot.ly\", \"plotlyServerURL\": \"https://plot.ly\"})});</script><script type=\"text/javascript\">window.addEventListener(\"resize\", function(){window._Plotly.Plots.resize(document.getElementById(\"da513ee7-ff89-4d11-adde-9c1a03496b5b\"));});</script>"
      ],
      "text/vnd.plotly.v1+html": [
       "<div id=\"da513ee7-ff89-4d11-adde-9c1a03496b5b\" style=\"height: 380px; width: 100%;\" class=\"plotly-graph-div\"></div><script type=\"text/javascript\">require([\"plotly\"], function(Plotly) { window.PLOTLYENV=window.PLOTLYENV || {};window.PLOTLYENV.BASE_URL=\"https://plot.ly\";Plotly.newPlot(\"da513ee7-ff89-4d11-adde-9c1a03496b5b\", [{\"colorscale\": [[0, \"#000000\"], [0.5, \"#FFFFFF\"], [1, \"#ffffff\"]], \"hoverinfo\": \"none\", \"opacity\": 0.75, \"showscale\": false, \"z\": [[0, 0, 0, 0, 0], [0.5, 0.5, 0.5, 0.5, 0.5], [1, 1, 1, 1, 1], [0.5, 0.5, 0.5, 0.5, 0.5], [1, 1, 1, 1, 1], [0.5, 0.5, 0.5, 0.5, 0.5], [1, 1, 1, 1, 1], [0.5, 0.5, 0.5, 0.5, 0.5], [1, 1, 1, 1, 1], [0.5, 0.5, 0.5, 0.5, 0.5], [1, 1, 1, 1, 1]], \"type\": \"heatmap\", \"uid\": \"4ade6f11-6920-4d2f-abcb-92bc2ba90610\"}], {\"annotations\": [{\"align\": \"left\", \"font\": {\"color\": \"#ffffff\"}, \"showarrow\": false, \"text\": \"<b>Sequence Length</b>\", \"x\": -0.45, \"xanchor\": \"left\", \"xref\": \"x\", \"y\": 0, \"yref\": \"y\"}, {\"align\": \"left\", \"font\": {\"color\": \"#ffffff\"}, \"showarrow\": false, \"text\": \"<b>OPT</b>\", \"x\": 0.55, \"xanchor\": \"left\", \"xref\": \"x\", \"y\": 0, \"yref\": \"y\"}, {\"align\": \"left\", \"font\": {\"color\": \"#ffffff\"}, \"showarrow\": false, \"text\": \"<b>Splay</b>\", \"x\": 1.55, \"xanchor\": \"left\", \"xref\": \"x\", \"y\": 0, \"yref\": \"y\"}, {\"align\": \"left\", \"font\": {\"color\": \"#ffffff\"}, \"showarrow\": false, \"text\": \"<b>Transpose</b>\", \"x\": 2.55, \"xanchor\": \"left\", \"xref\": \"x\", \"y\": 0, \"yref\": \"y\"}, {\"align\": \"left\", \"font\": {\"color\": \"#ffffff\"}, \"showarrow\": false, \"text\": \"<b>2-in-a-Row</b>\", \"x\": 3.55, \"xanchor\": \"left\", \"xref\": \"x\", \"y\": 0, \"yref\": \"y\"}, {\"align\": \"left\", \"font\": {\"color\": \"#000000\"}, \"showarrow\": false, \"text\": \"10000\", \"x\": -0.45, \"xanchor\": \"left\", \"xref\": \"x\", \"y\": 1, \"yref\": \"y\"}, {\"align\": \"left\", \"font\": {\"color\": \"#000000\"}, \"showarrow\": false, \"text\": \"64327\", \"x\": 0.55, \"xanchor\": \"left\", \"xref\": \"x\", \"y\": 1, \"yref\": \"y\"}, {\"align\": \"left\", \"font\": {\"color\": \"#000000\"}, \"showarrow\": false, \"text\": \"33393\", \"x\": 1.55, \"xanchor\": \"left\", \"xref\": \"x\", \"y\": 1, \"yref\": \"y\"}, {\"align\": \"left\", \"font\": {\"color\": \"#000000\"}, \"showarrow\": false, \"text\": \"79197\", \"x\": 2.55, \"xanchor\": \"left\", \"xref\": \"x\", \"y\": 1, \"yref\": \"y\"}, {\"align\": \"left\", \"font\": {\"color\": \"#000000\"}, \"showarrow\": false, \"text\": \"58710\", \"x\": 3.55, \"xanchor\": \"left\", \"xref\": \"x\", \"y\": 1, \"yref\": \"y\"}, {\"align\": \"left\", \"font\": {\"color\": \"#000000\"}, \"showarrow\": false, \"text\": \"20000\", \"x\": -0.45, \"xanchor\": \"left\", \"xref\": \"x\", \"y\": 2, \"yref\": \"y\"}, {\"align\": \"left\", \"font\": {\"color\": \"#000000\"}, \"showarrow\": false, \"text\": \"123888\", \"x\": 0.55, \"xanchor\": \"left\", \"xref\": \"x\", \"y\": 2, \"yref\": \"y\"}, {\"align\": \"left\", \"font\": {\"color\": \"#000000\"}, \"showarrow\": false, \"text\": \"67653\", \"x\": 1.55, \"xanchor\": \"left\", \"xref\": \"x\", \"y\": 2, \"yref\": \"y\"}, {\"align\": \"left\", \"font\": {\"color\": \"#000000\"}, \"showarrow\": false, \"text\": \"147999\", \"x\": 2.55, \"xanchor\": \"left\", \"xref\": \"x\", \"y\": 2, \"yref\": \"y\"}, {\"align\": \"left\", \"font\": {\"color\": \"#000000\"}, \"showarrow\": false, \"text\": \"118060\", \"x\": 3.55, \"xanchor\": \"left\", \"xref\": \"x\", \"y\": 2, \"yref\": \"y\"}, {\"align\": \"left\", \"font\": {\"color\": \"#000000\"}, \"showarrow\": false, \"text\": \"30000\", \"x\": -0.45, \"xanchor\": \"left\", \"xref\": \"x\", \"y\": 3, \"yref\": \"y\"}, {\"align\": \"left\", \"font\": {\"color\": \"#000000\"}, \"showarrow\": false, \"text\": \"185005\", \"x\": 0.55, \"xanchor\": \"left\", \"xref\": \"x\", \"y\": 3, \"yref\": \"y\"}, {\"align\": \"left\", \"font\": {\"color\": \"#000000\"}, \"showarrow\": false, \"text\": \"100788\", \"x\": 1.55, \"xanchor\": \"left\", \"xref\": \"x\", \"y\": 3, \"yref\": \"y\"}, {\"align\": \"left\", \"font\": {\"color\": \"#000000\"}, \"showarrow\": false, \"text\": \"217170\", \"x\": 2.55, \"xanchor\": \"left\", \"xref\": \"x\", \"y\": 3, \"yref\": \"y\"}, {\"align\": \"left\", \"font\": {\"color\": \"#000000\"}, \"showarrow\": false, \"text\": \"175830\", \"x\": 3.55, \"xanchor\": \"left\", \"xref\": \"x\", \"y\": 3, \"yref\": \"y\"}, {\"align\": \"left\", \"font\": {\"color\": \"#000000\"}, \"showarrow\": false, \"text\": \"40000\", \"x\": -0.45, \"xanchor\": \"left\", \"xref\": \"x\", \"y\": 4, \"yref\": \"y\"}, {\"align\": \"left\", \"font\": {\"color\": \"#000000\"}, \"showarrow\": false, \"text\": \"270484\", \"x\": 0.55, \"xanchor\": \"left\", \"xref\": \"x\", \"y\": 4, \"yref\": \"y\"}, {\"align\": \"left\", \"font\": {\"color\": \"#000000\"}, \"showarrow\": false, \"text\": \"136149\", \"x\": 1.55, \"xanchor\": \"left\", \"xref\": \"x\", \"y\": 4, \"yref\": \"y\"}, {\"align\": \"left\", \"font\": {\"color\": \"#000000\"}, \"showarrow\": false, \"text\": \"294567\", \"x\": 2.55, \"xanchor\": \"left\", \"xref\": \"x\", \"y\": 4, \"yref\": \"y\"}, {\"align\": \"left\", \"font\": {\"color\": \"#000000\"}, \"showarrow\": false, \"text\": \"237128\", \"x\": 3.55, \"xanchor\": \"left\", \"xref\": \"x\", \"y\": 4, \"yref\": \"y\"}, {\"align\": \"left\", \"font\": {\"color\": \"#000000\"}, \"showarrow\": false, \"text\": \"50000\", \"x\": -0.45, \"xanchor\": \"left\", \"xref\": \"x\", \"y\": 5, \"yref\": \"y\"}, {\"align\": \"left\", \"font\": {\"color\": \"#000000\"}, \"showarrow\": false, \"text\": \"344726\", \"x\": 0.55, \"xanchor\": \"left\", \"xref\": \"x\", \"y\": 5, \"yref\": \"y\"}, {\"align\": \"left\", \"font\": {\"color\": \"#000000\"}, \"showarrow\": false, \"text\": \"168158\", \"x\": 1.55, \"xanchor\": \"left\", \"xref\": \"x\", \"y\": 5, \"yref\": \"y\"}, {\"align\": \"left\", \"font\": {\"color\": \"#000000\"}, \"showarrow\": false, \"text\": \"369427\", \"x\": 2.55, \"xanchor\": \"left\", \"xref\": \"x\", \"y\": 5, \"yref\": \"y\"}, {\"align\": \"left\", \"font\": {\"color\": \"#000000\"}, \"showarrow\": false, \"text\": \"292673\", \"x\": 3.55, \"xanchor\": \"left\", \"xref\": \"x\", \"y\": 5, \"yref\": \"y\"}, {\"align\": \"left\", \"font\": {\"color\": \"#000000\"}, \"showarrow\": false, \"text\": \"60000\", \"x\": -0.45, \"xanchor\": \"left\", \"xref\": \"x\", \"y\": 6, \"yref\": \"y\"}, {\"align\": \"left\", \"font\": {\"color\": \"#000000\"}, \"showarrow\": false, \"text\": \"354173\", \"x\": 0.55, \"xanchor\": \"left\", \"xref\": \"x\", \"y\": 6, \"yref\": \"y\"}, {\"align\": \"left\", \"font\": {\"color\": \"#000000\"}, \"showarrow\": false, \"text\": \"201935\", \"x\": 1.55, \"xanchor\": \"left\", \"xref\": \"x\", \"y\": 6, \"yref\": \"y\"}, {\"align\": \"left\", \"font\": {\"color\": \"#000000\"}, \"showarrow\": false, \"text\": \"437829\", \"x\": 2.55, \"xanchor\": \"left\", \"xref\": \"x\", \"y\": 6, \"yref\": \"y\"}, {\"align\": \"left\", \"font\": {\"color\": \"#000000\"}, \"showarrow\": false, \"text\": \"351701\", \"x\": 3.55, \"xanchor\": \"left\", \"xref\": \"x\", \"y\": 6, \"yref\": \"y\"}, {\"align\": \"left\", \"font\": {\"color\": \"#000000\"}, \"showarrow\": false, \"text\": \"70000\", \"x\": -0.45, \"xanchor\": \"left\", \"xref\": \"x\", \"y\": 7, \"yref\": \"y\"}, {\"align\": \"left\", \"font\": {\"color\": \"#000000\"}, \"showarrow\": false, \"text\": \"486883\", \"x\": 0.55, \"xanchor\": \"left\", \"xref\": \"x\", \"y\": 7, \"yref\": \"y\"}, {\"align\": \"left\", \"font\": {\"color\": \"#000000\"}, \"showarrow\": false, \"text\": \"235054\", \"x\": 1.55, \"xanchor\": \"left\", \"xref\": \"x\", \"y\": 7, \"yref\": \"y\"}, {\"align\": \"left\", \"font\": {\"color\": \"#000000\"}, \"showarrow\": false, \"text\": \"516925\", \"x\": 2.55, \"xanchor\": \"left\", \"xref\": \"x\", \"y\": 7, \"yref\": \"y\"}, {\"align\": \"left\", \"font\": {\"color\": \"#000000\"}, \"showarrow\": false, \"text\": \"409324\", \"x\": 3.55, \"xanchor\": \"left\", \"xref\": \"x\", \"y\": 7, \"yref\": \"y\"}, {\"align\": \"left\", \"font\": {\"color\": \"#000000\"}, \"showarrow\": false, \"text\": \"80000\", \"x\": -0.45, \"xanchor\": \"left\", \"xref\": \"x\", \"y\": 8, \"yref\": \"y\"}, {\"align\": \"left\", \"font\": {\"color\": \"#000000\"}, \"showarrow\": false, \"text\": \"521770\", \"x\": 0.55, \"xanchor\": \"left\", \"xref\": \"x\", \"y\": 8, \"yref\": \"y\"}, {\"align\": \"left\", \"font\": {\"color\": \"#000000\"}, \"showarrow\": false, \"text\": \"268171\", \"x\": 1.55, \"xanchor\": \"left\", \"xref\": \"x\", \"y\": 8, \"yref\": \"y\"}, {\"align\": \"left\", \"font\": {\"color\": \"#000000\"}, \"showarrow\": false, \"text\": \"580043\", \"x\": 2.55, \"xanchor\": \"left\", \"xref\": \"x\", \"y\": 8, \"yref\": \"y\"}, {\"align\": \"left\", \"font\": {\"color\": \"#000000\"}, \"showarrow\": false, \"text\": \"466269\", \"x\": 3.55, \"xanchor\": \"left\", \"xref\": \"x\", \"y\": 8, \"yref\": \"y\"}, {\"align\": \"left\", \"font\": {\"color\": \"#000000\"}, \"showarrow\": false, \"text\": \"90000\", \"x\": -0.45, \"xanchor\": \"left\", \"xref\": \"x\", \"y\": 9, \"yref\": \"y\"}, {\"align\": \"left\", \"font\": {\"color\": \"#000000\"}, \"showarrow\": false, \"text\": \"556666\", \"x\": 0.55, \"xanchor\": \"left\", \"xref\": \"x\", \"y\": 9, \"yref\": \"y\"}, {\"align\": \"left\", \"font\": {\"color\": \"#000000\"}, \"showarrow\": false, \"text\": \"304144\", \"x\": 1.55, \"xanchor\": \"left\", \"xref\": \"x\", \"y\": 9, \"yref\": \"y\"}, {\"align\": \"left\", \"font\": {\"color\": \"#000000\"}, \"showarrow\": false, \"text\": \"669670\", \"x\": 2.55, \"xanchor\": \"left\", \"xref\": \"x\", \"y\": 9, \"yref\": \"y\"}, {\"align\": \"left\", \"font\": {\"color\": \"#000000\"}, \"showarrow\": false, \"text\": \"528110\", \"x\": 3.55, \"xanchor\": \"left\", \"xref\": \"x\", \"y\": 9, \"yref\": \"y\"}, {\"align\": \"left\", \"font\": {\"color\": \"#000000\"}, \"showarrow\": false, \"text\": \"100000\", \"x\": -0.45, \"xanchor\": \"left\", \"xref\": \"x\", \"y\": 10, \"yref\": \"y\"}, {\"align\": \"left\", \"font\": {\"color\": \"#000000\"}, \"showarrow\": false, \"text\": \"567137\", \"x\": 0.55, \"xanchor\": \"left\", \"xref\": \"x\", \"y\": 10, \"yref\": \"y\"}, {\"align\": \"left\", \"font\": {\"color\": \"#000000\"}, \"showarrow\": false, \"text\": \"338755\", \"x\": 1.55, \"xanchor\": \"left\", \"xref\": \"x\", \"y\": 10, \"yref\": \"y\"}, {\"align\": \"left\", \"font\": {\"color\": \"#000000\"}, \"showarrow\": false, \"text\": \"746209\", \"x\": 2.55, \"xanchor\": \"left\", \"xref\": \"x\", \"y\": 10, \"yref\": \"y\"}, {\"align\": \"left\", \"font\": {\"color\": \"#000000\"}, \"showarrow\": false, \"text\": \"588154\", \"x\": 3.55, \"xanchor\": \"left\", \"xref\": \"x\", \"y\": 10, \"yref\": \"y\"}], \"height\": 380, \"margin\": {\"b\": 0, \"l\": 0, \"r\": 0, \"t\": 0}, \"xaxis\": {\"dtick\": 1, \"gridwidth\": 2, \"showticklabels\": false, \"tick0\": -0.5, \"ticks\": \"\", \"zeroline\": false}, \"yaxis\": {\"autorange\": \"reversed\", \"dtick\": 1, \"gridwidth\": 2, \"showticklabels\": false, \"tick0\": 0.5, \"ticks\": \"\", \"zeroline\": false}}, {\"showLink\": true, \"linkText\": \"Export to plot.ly\", \"plotlyServerURL\": \"https://plot.ly\"})});</script><script type=\"text/javascript\">window.addEventListener(\"resize\", function(){window._Plotly.Plots.resize(document.getElementById(\"da513ee7-ff89-4d11-adde-9c1a03496b5b\"));});</script>"
      ]
     },
     "metadata": {},
     "output_type": "display_data"
    }
   ],
   "source": [
    "df = pd.read_csv('trees/staticMarkovMediumTreesAccessCost.csv')\n",
    "\n",
    "trace1 = go.Scatter(\n",
    "                    x=df['Sequence Length'], y=df['Access Costs'], # Data\n",
    "                    mode='lines', name='OPT',\n",
    "                    line = dict(color = ('rgb(37, 120, 178)'))\n",
    "                   )\n",
    "\n",
    "df = pd.read_csv('trees/mtfMarkovMediumTreesAccessCost.csv')\n",
    "\n",
    "trace2 = go.Scatter(\n",
    "                    x=df['Sequence Length'], y=df['Access Costs'], # Data\n",
    "                    mode='lines', name='Splay',\n",
    "                    line = dict(color = ('rgb(253, 127, 40)'))\n",
    "                   )\n",
    "\n",
    "df = pd.read_csv('trees/transposeMarkovMediumTreesAccessCost.csv')\n",
    "\n",
    "trace3 = go.Scatter(\n",
    "                    x=df['Sequence Length'], y=df['Access Costs'], # Data\n",
    "                    mode='lines', name='Transpose',\n",
    "                    line = dict(color = ('rgb(50, 158, 52)'))\n",
    "                   )\n",
    "\n",
    "df = pd.read_csv('trees/kInARowMarkovMediumTreesAccessCost.csv')\n",
    "\n",
    "trace4 = go.Scatter(\n",
    "                    x=df['Sequence Length'], y=df['Access Costs'], # Data\n",
    "                    mode='lines', name='2-in-a-row',\n",
    "                    line = dict(color = ('rgb(211, 41, 47)'))\n",
    "                   )\n",
    "\n",
    "\n",
    "\n",
    "layout = go.Layout(title='Trees Access Cost: Medium Self Loop',\n",
    "                   plot_bgcolor='rgb(255, 255,255)',\n",
    "                   xaxis=dict(title='Sequence Length'),\n",
    "                   yaxis=dict(title='Access Cost'))\n",
    "\n",
    "fig = go.Figure(data=[trace1, trace2, trace3, trace4], layout=layout)\n",
    "\n",
    "# Plot data in the notebook\n",
    "iplot(fig)\n",
    "\n",
    "\n",
    "df = pd.read_csv('table/MarkovMediumTrees.csv')\n",
    "colorscale = [[0, '#000000'],[.5, '#FFFFFF'],[1, '#ffffff']]\n",
    "table = ff.create_table(df, colorscale=colorscale)\n",
    "iplot(table)"
   ]
  },
  {
   "cell_type": "code",
   "execution_count": 30,
   "metadata": {},
   "outputs": [
    {
     "data": {
      "application/vnd.plotly.v1+json": {
       "config": {
        "linkText": "Export to plot.ly",
        "plotlyServerURL": "https://plot.ly",
        "showLink": true
       },
       "data": [
        {
         "line": {
          "color": "#CBF4F0"
         },
         "mode": "markers",
         "name": "100000",
         "type": "scatter",
         "uid": "3a29460d-a1ab-41a5-b134-b24f8dad2da1",
         "x": [
          37,
          22,
          99,
          16,
          96,
          71,
          44,
          48,
          49,
          55,
          74,
          3,
          64,
          95,
          2,
          77,
          10,
          19,
          25,
          89,
          46,
          80,
          78,
          79,
          20,
          84,
          69,
          31,
          26,
          8,
          60,
          50,
          9,
          29,
          11,
          39,
          65,
          100,
          33,
          13,
          53,
          41,
          52,
          18,
          27,
          56,
          12,
          15,
          36,
          43,
          82,
          66,
          42,
          81,
          40,
          94,
          67,
          75,
          34,
          72,
          1,
          58,
          21,
          93,
          54,
          6,
          17,
          32,
          68,
          87,
          28,
          83,
          38,
          62,
          61,
          85,
          63,
          4,
          30,
          5,
          97,
          98,
          51,
          88,
          45,
          35,
          59,
          23,
          14,
          24,
          91,
          70,
          86,
          76,
          57,
          7,
          47,
          73,
          92,
          90
         ],
         "y": [
          1.2,
          0.78,
          1.13,
          1.07,
          0.99,
          0.8,
          1.18,
          1.17,
          1.06,
          0.84,
          1.14,
          1.13,
          1.34,
          0.95,
          1,
          1,
          0.7,
          0.58,
          0.87,
          0.99,
          1.15,
          1.32,
          0.85,
          1.19,
          0.84,
          1.11,
          0.87,
          0.96,
          0.99,
          0.94,
          0.87,
          1.25,
          1.01,
          1.16,
          1.1,
          1.06,
          1,
          1.45,
          1.12,
          1.08,
          0.79,
          0.86,
          0.86,
          1.04,
          1.01,
          1.19,
          1.3,
          1.31,
          1.06,
          0.97,
          1.18,
          0.98,
          0.77,
          0.74,
          1.12,
          1.18,
          0.78,
          0.94,
          1.19,
          0.99,
          1.04,
          0.72,
          0.87,
          0.93,
          0.81,
          1.03,
          1.1,
          0.77,
          0.76,
          1.11,
          0.97,
          0.99,
          0.98,
          0.76,
          1.13,
          1.04,
          1.04,
          0.82,
          0.92,
          0.93,
          1.18,
          0.81,
          0.84,
          1.03,
          1.15,
          0.86,
          1.07,
          1.19,
          0.78,
          0.92,
          0.98,
          0.85,
          1.06,
          0.99,
          1.24,
          1.15,
          1.16,
          0.64,
          1,
          0.88
         ]
        },
        {
         "line": {
          "color": "#A9EDE6"
         },
         "mode": "markers",
         "name": "200000",
         "type": "scatter",
         "uid": "44b5c2d4-ceaf-4649-a017-116326a11598",
         "x": [
          37,
          22,
          99,
          16,
          96,
          71,
          44,
          48,
          49,
          55,
          74,
          3,
          64,
          95,
          2,
          77,
          10,
          19,
          25,
          89,
          46,
          80,
          78,
          79,
          20,
          84,
          69,
          31,
          26,
          8,
          60,
          50,
          9,
          29,
          11,
          39,
          65,
          100,
          33,
          13,
          53,
          41,
          52,
          18,
          27,
          56,
          12,
          15,
          36,
          43,
          82,
          66,
          42,
          81,
          40,
          94,
          67,
          75,
          34,
          72,
          1,
          58,
          21,
          93,
          54,
          6,
          17,
          32,
          68,
          87,
          28,
          83,
          38,
          62,
          61,
          85,
          63,
          4,
          30,
          5,
          97,
          98,
          51,
          88,
          45,
          35,
          59,
          23,
          14,
          24,
          91,
          70,
          86,
          76,
          57,
          7,
          47,
          73,
          92,
          90
         ],
         "y": [
          0.95,
          1.01,
          1.255,
          1.005,
          0.9,
          1.1,
          1.02,
          1.005,
          1.035,
          1.135,
          1,
          0.99,
          1.125,
          0.855,
          0.97,
          1.21,
          0.935,
          0.83,
          0.965,
          1.025,
          0.91,
          0.9,
          1.025,
          0.96,
          0.865,
          1.095,
          0.84,
          0.88,
          0.92,
          0.915,
          0.895,
          0.95,
          0.85,
          1.075,
          1.03,
          1.005,
          0.9,
          1.195,
          0.96,
          0.785,
          1.235,
          0.98,
          1.17,
          1.035,
          0.96,
          0.96,
          0.965,
          0.935,
          1.04,
          1.045,
          1.05,
          0.935,
          0.925,
          0.92,
          1.27,
          0.945,
          0.89,
          0.965,
          1.02,
          1.165,
          1.09,
          1.165,
          0.955,
          0.94,
          0.96,
          0.95,
          0.965,
          0.885,
          0.93,
          0.865,
          1.07,
          1.045,
          1,
          1.175,
          1.065,
          0.95,
          1,
          0.945,
          1.075,
          0.83,
          1.065,
          0.77,
          1.09,
          1.125,
          0.725,
          1.055,
          0.885,
          0.93,
          1.015,
          1.27,
          0.925,
          0.89,
          0.995,
          0.975,
          1.235,
          1.19,
          1.07,
          1.08,
          1.11,
          1.055
         ]
        },
        {
         "line": {
          "color": "#86E6DC"
         },
         "mode": "markers",
         "name": "300000",
         "type": "scatter",
         "uid": "c96c39a0-a78b-4bc0-a8aa-aa8ad76e6ba1",
         "x": [
          37,
          22,
          99,
          16,
          96,
          71,
          44,
          48,
          49,
          55,
          74,
          3,
          64,
          95,
          2,
          77,
          10,
          19,
          25,
          89,
          46,
          80,
          78,
          79,
          20,
          84,
          69,
          31,
          26,
          8,
          60,
          50,
          9,
          29,
          11,
          39,
          65,
          100,
          33,
          13,
          53,
          41,
          52,
          18,
          27,
          56,
          12,
          15,
          36,
          43,
          82,
          66,
          42,
          81,
          40,
          94,
          67,
          75,
          34,
          72,
          1,
          58,
          21,
          93,
          54,
          6,
          17,
          32,
          68,
          87,
          28,
          83,
          38,
          62,
          61,
          85,
          63,
          4,
          30,
          5,
          97,
          98,
          51,
          88,
          45,
          35,
          59,
          23,
          14,
          24,
          91,
          70,
          86,
          76,
          57,
          7,
          47,
          73,
          92,
          90
         ],
         "y": [
          0.8833333333333333,
          1.06,
          1.0133333333333334,
          1.12,
          0.9966666666666668,
          1.1033333333333333,
          1.0933333333333333,
          0.8366666666666667,
          0.8733333333333333,
          1.0833333333333333,
          0.8966666666666666,
          1.03,
          0.8266666666666667,
          1.16,
          1.0466666666666666,
          1.1133333333333333,
          1.0366666666666666,
          1.0333333333333334,
          1.11,
          0.9933333333333332,
          0.9066666666666666,
          1.0933333333333333,
          1.0166666666666666,
          0.8666666666666667,
          1.3,
          1.03,
          1.1833333333333331,
          1.0433333333333332,
          0.7366666666666667,
          0.95,
          1.0233333333333334,
          0.9766666666666668,
          1.0933333333333333,
          1.16,
          0.87,
          1.2066666666666668,
          1.05,
          0.9033333333333332,
          1.0433333333333332,
          0.7333333333333333,
          0.93,
          0.9466666666666668,
          1.2266666666666666,
          0.92,
          0.92,
          1.01,
          0.87,
          0.8766666666666667,
          0.97,
          1.0566666666666666,
          1.0533333333333332,
          0.8166666666666667,
          1.09,
          1.06,
          1.04,
          0.89,
          0.9966666666666668,
          1.18,
          1.163333333333333,
          1.1233333333333333,
          1.0266666666666666,
          0.9266666666666666,
          0.9433333333333334,
          0.95,
          1.106666666666667,
          1.11,
          1.0266666666666666,
          0.9733333333333334,
          1.12,
          0.7733333333333333,
          1.096666666666667,
          1.0066666666666666,
          0.9666666666666668,
          1.0633333333333332,
          0.9833333333333332,
          0.9266666666666666,
          0.8433333333333334,
          1.0566666666666666,
          0.83,
          0.96,
          1.0633333333333332,
          1.01,
          0.81,
          0.96,
          1.07,
          0.9666666666666668,
          1.0133333333333334,
          1.0733333333333333,
          0.8633333333333333,
          1.2133333333333334,
          0.8466666666666667,
          0.9833333333333332,
          1.0366666666666666,
          0.95,
          0.9766666666666668,
          0.94,
          0.98,
          1.1133333333333333,
          0.8533333333333334,
          0.95
         ]
        },
        {
         "line": {
          "color": "#64DFD2"
         },
         "mode": "markers",
         "name": "400000",
         "type": "scatter",
         "uid": "93501a53-4ff4-4b01-9342-e743fae14bf1",
         "x": [
          37,
          22,
          99,
          16,
          96,
          71,
          44,
          48,
          49,
          55,
          74,
          3,
          64,
          95,
          2,
          77,
          10,
          19,
          25,
          89,
          46,
          80,
          78,
          79,
          20,
          84,
          69,
          31,
          26,
          8,
          60,
          50,
          9,
          29,
          11,
          39,
          65,
          100,
          33,
          13,
          53,
          41,
          52,
          18,
          27,
          56,
          12,
          15,
          36,
          43,
          82,
          66,
          42,
          81,
          40,
          94,
          67,
          75,
          34,
          72,
          1,
          58,
          21,
          93,
          54,
          6,
          17,
          32,
          68,
          87,
          28,
          83,
          38,
          62,
          61,
          85,
          63,
          4,
          30,
          5,
          97,
          98,
          51,
          88,
          45,
          35,
          59,
          23,
          14,
          24,
          91,
          70,
          86,
          76,
          57,
          7,
          47,
          73,
          92,
          90
         ],
         "y": [
          0.93,
          1.1475,
          0.9775,
          0.8625,
          0.8575,
          0.915,
          0.9075,
          0.9675,
          0.9375,
          0.8925,
          0.94,
          0.96,
          0.985,
          0.955,
          0.9475,
          0.9025,
          1.0975,
          1.045,
          1.1575,
          1.0075,
          1.0825,
          1.0525,
          1,
          1.025,
          1.0425,
          0.965,
          0.9275,
          0.92,
          0.9625,
          0.925,
          1.1225,
          1.11,
          1.0275,
          0.9625,
          0.945,
          0.91,
          0.9225,
          0.955,
          0.8975,
          0.9625,
          1,
          1.155,
          1.06,
          1.0125,
          0.9925,
          1.005,
          1.1075,
          0.9225,
          1.025,
          0.93,
          1.0175,
          0.9425,
          1.0225,
          1.0325,
          0.97,
          0.865,
          1.0425,
          1.035,
          1.0425,
          1.0325,
          1.075,
          0.92,
          1.015,
          0.9475,
          0.9775,
          0.885,
          0.99,
          0.9925,
          1.22,
          1.0075,
          0.94,
          0.99,
          1.14,
          1.1675,
          0.92,
          1,
          0.9675,
          1.1525,
          0.905,
          1.15,
          0.955,
          0.91,
          0.97,
          1.0075,
          0.875,
          1.0625,
          1.1025,
          1.055,
          0.965,
          0.95,
          1.0875,
          0.965,
          1.005,
          1.2975,
          0.9725,
          1.075,
          0.9975,
          1.1,
          1.0075,
          0.955
         ]
        },
        {
         "line": {
          "color": "#42D9C8"
         },
         "mode": "markers",
         "name": "500000",
         "type": "scatter",
         "uid": "7382749c-7c98-4a43-9449-c5a4c05c9611",
         "x": [
          37,
          22,
          99,
          16,
          96,
          71,
          44,
          48,
          49,
          55,
          74,
          3,
          64,
          95,
          2,
          77,
          10,
          19,
          25,
          89,
          46,
          80,
          78,
          79,
          20,
          84,
          69,
          31,
          26,
          8,
          60,
          50,
          9,
          29,
          11,
          39,
          65,
          100,
          33,
          13,
          53,
          41,
          52,
          18,
          27,
          56,
          12,
          15,
          36,
          43,
          82,
          66,
          42,
          81,
          40,
          94,
          67,
          75,
          34,
          72,
          1,
          58,
          21,
          93,
          54,
          6,
          17,
          32,
          68,
          87,
          28,
          83,
          38,
          62,
          61,
          85,
          63,
          4,
          30,
          5,
          97,
          98,
          51,
          88,
          45,
          35,
          59,
          23,
          14,
          24,
          91,
          70,
          86,
          76,
          57,
          7,
          47,
          73,
          92,
          90
         ],
         "y": [
          0.976,
          1.028,
          0.9259999999999999,
          0.9540000000000001,
          1.018,
          0.996,
          1.046,
          1.0659999999999998,
          0.95,
          0.9940000000000001,
          1.044,
          1.088,
          0.976,
          0.966,
          1.044,
          0.96,
          0.982,
          1.026,
          1.044,
          1,
          1.052,
          0.9640000000000001,
          1.004,
          1.036,
          0.97,
          1.09,
          1.016,
          1.022,
          0.948,
          0.894,
          0.9,
          1.11,
          0.958,
          0.988,
          0.978,
          0.794,
          1.0859999999999999,
          0.91,
          1.064,
          1.002,
          1.032,
          1.1079999999999999,
          1.092,
          0.982,
          1.1079999999999999,
          0.924,
          1.0759999999999998,
          0.92,
          0.9840000000000001,
          1.0859999999999999,
          1.102,
          0.978,
          0.89,
          1.088,
          1.09,
          0.924,
          0.912,
          1.024,
          1.048,
          0.858,
          0.92,
          0.9740000000000001,
          0.882,
          0.968,
          1.002,
          1.05,
          1.002,
          1.02,
          1.06,
          0.98,
          1.046,
          0.97,
          0.9840000000000001,
          1.038,
          0.934,
          1.068,
          0.924,
          1.046,
          1.018,
          1.114,
          1.032,
          0.856,
          1.06,
          1.114,
          0.868,
          1.008,
          1.058,
          0.924,
          0.858,
          1.004,
          0.862,
          1.002,
          1.008,
          1.01,
          1.026,
          1.14,
          1.012,
          0.982,
          1.05,
          1.03
         ]
        },
        {
         "line": {
          "color": "#37B2A4"
         },
         "mode": "markers",
         "name": "600000",
         "type": "scatter",
         "uid": "5922b447-fc75-4576-a26f-3f8b78698c33",
         "x": [
          37,
          22,
          99,
          16,
          96,
          71,
          44,
          48,
          49,
          55,
          74,
          3,
          64,
          95,
          2,
          77,
          10,
          19,
          25,
          89,
          46,
          80,
          78,
          79,
          20,
          84,
          69,
          31,
          26,
          8,
          60,
          50,
          9,
          29,
          11,
          39,
          65,
          100,
          33,
          13,
          53,
          41,
          52,
          18,
          27,
          56,
          12,
          15,
          36,
          43,
          82,
          66,
          42,
          81,
          40,
          94,
          67,
          75,
          34,
          72,
          1,
          58,
          21,
          93,
          54,
          6,
          17,
          32,
          68,
          87,
          28,
          83,
          38,
          62,
          61,
          85,
          63,
          4,
          30,
          5,
          97,
          98,
          51,
          88,
          45,
          35,
          59,
          23,
          14,
          24,
          91,
          70,
          86,
          76,
          57,
          7,
          47,
          73,
          92,
          90
         ],
         "y": [
          0.965,
          0.9366666666666666,
          1.0433333333333332,
          0.9516666666666668,
          0.9883333333333332,
          1.0366666666666666,
          1.1366666666666667,
          1.005,
          1.0416666666666667,
          1.0116666666666667,
          0.9416666666666668,
          0.9866666666666668,
          0.995,
          0.9316666666666666,
          0.955,
          0.8766666666666667,
          0.9383333333333334,
          1.0083333333333333,
          1,
          1.01,
          1.038333333333333,
          0.9266666666666666,
          0.9383333333333334,
          1.1483333333333334,
          1.163333333333333,
          1.04,
          1.0166666666666666,
          1.1233333333333333,
          0.965,
          0.8533333333333334,
          1.0366666666666666,
          1.03,
          0.96,
          0.8983333333333333,
          0.9833333333333332,
          0.9266666666666666,
          1.005,
          0.9683333333333334,
          1.0316666666666667,
          1.1133333333333333,
          0.9916666666666668,
          1.075,
          0.9883333333333332,
          0.8783333333333333,
          1.1016666666666666,
          0.8683333333333333,
          0.9716666666666668,
          1.096666666666667,
          1.0366666666666666,
          0.985,
          1.1083333333333334,
          1.015,
          0.9216666666666666,
          1.06,
          0.9916666666666668,
          1.0333333333333334,
          1.005,
          0.98,
          0.9916666666666668,
          1.0666666666666669,
          1.0116666666666667,
          1.1216666666666666,
          0.9783333333333334,
          0.9183333333333332,
          0.9466666666666668,
          0.95,
          1.04,
          1.1033333333333333,
          1.05,
          0.9783333333333334,
          1.0816666666666668,
          1.0216666666666667,
          0.96,
          0.925,
          0.9983333333333332,
          0.9566666666666668,
          1.0116666666666667,
          0.885,
          1.0583333333333331,
          0.97,
          1.0366666666666666,
          0.8033333333333333,
          1.1366666666666667,
          1.0233333333333334,
          1.0783333333333334,
          0.985,
          0.9533333333333334,
          1.0066666666666666,
          0.99,
          1.0216666666666667,
          1.0016666666666667,
          1,
          1.0166666666666666,
          0.9183333333333332,
          0.915,
          0.9033333333333332,
          1.0333333333333334,
          1.0366666666666666,
          1.0983333333333334,
          0.9816666666666668
         ]
        },
        {
         "line": {
          "color": "#2A8B80"
         },
         "mode": "markers",
         "name": "700000",
         "type": "scatter",
         "uid": "5701b545-09cc-4bcd-b88a-91b61328ddc0",
         "x": [
          37,
          22,
          99,
          16,
          96,
          71,
          44,
          48,
          49,
          55,
          74,
          3,
          64,
          95,
          2,
          77,
          10,
          19,
          25,
          89,
          46,
          80,
          78,
          79,
          20,
          84,
          69,
          31,
          26,
          8,
          60,
          50,
          9,
          29,
          11,
          39,
          65,
          100,
          33,
          13,
          53,
          41,
          52,
          18,
          27,
          56,
          12,
          15,
          36,
          43,
          82,
          66,
          42,
          81,
          40,
          94,
          67,
          75,
          34,
          72,
          1,
          58,
          21,
          93,
          54,
          6,
          17,
          32,
          68,
          87,
          28,
          83,
          38,
          62,
          61,
          85,
          63,
          4,
          30,
          5,
          97,
          98,
          51,
          88,
          45,
          35,
          59,
          23,
          14,
          24,
          91,
          70,
          86,
          76,
          57,
          7,
          47,
          73,
          92,
          90
         ],
         "y": [
          1.0642857142857145,
          1.0357142857142858,
          1.0142857142857142,
          0.9742857142857144,
          0.9228571428571428,
          1.0442857142857145,
          1.0385714285714285,
          0.9371428571428572,
          1.0557142857142856,
          0.9628571428571427,
          0.9042857142857142,
          0.9714285714285714,
          0.9485714285714286,
          1.0957142857142856,
          0.9428571428571428,
          1.1257142857142857,
          1.012857142857143,
          1.0114285714285711,
          0.9557142857142856,
          0.8871428571428571,
          1.0071428571428571,
          1.0214285714285714,
          1.07,
          0.9542857142857144,
          1.012857142857143,
          1.0157142857142858,
          0.9757142857142858,
          0.9714285714285714,
          0.8628571428571429,
          0.9842857142857144,
          1.0071428571428571,
          1.1057142857142856,
          0.9771428571428572,
          0.9785714285714284,
          0.96,
          1.082857142857143,
          1.0014285714285711,
          1.0671428571428572,
          1.06,
          1.1728571428571428,
          0.9514285714285714,
          1.0842857142857143,
          0.9828571428571428,
          0.9442857142857144,
          1.01,
          0.9342857142857144,
          1.1657142857142857,
          1.0742857142857145,
          0.9285714285714286,
          0.9114285714285716,
          1.0071428571428571,
          0.9057142857142856,
          0.94,
          0.9942857142857144,
          1.052857142857143,
          1.0757142857142856,
          1.0442857142857145,
          1.0771428571428572,
          0.9714285714285714,
          0.8871428571428571,
          0.8957142857142857,
          1.1142857142857143,
          1.0014285714285711,
          1.0642857142857145,
          0.93,
          1.012857142857143,
          1.0114285714285711,
          1.0057142857142858,
          0.9057142857142856,
          1.0457142857142858,
          0.9414285714285714,
          0.9771428571428572,
          1.008571428571429,
          1.04,
          1.0142857142857142,
          0.9271428571428572,
          1.052857142857143,
          1.05,
          1.0514285714285714,
          1.0857142857142856,
          0.97,
          0.91,
          1.0557142857142856,
          1.0485714285714285,
          0.9585714285714284,
          0.9642857142857144,
          0.9257142857142856,
          0.9728571428571428,
          0.9942857142857144,
          1.06,
          0.9585714285714284,
          0.9557142857142856,
          1.0357142857142858,
          0.97,
          1.16,
          0.9457142857142856,
          0.9428571428571428,
          0.9771428571428572,
          0.9014285714285716,
          1.02
         ]
        },
        {
         "line": {
          "color": "#206e65"
         },
         "mode": "markers",
         "name": "800000",
         "type": "scatter",
         "uid": "e006e6c1-757c-46d9-aa66-0b0509e333b8",
         "x": [
          37,
          22,
          99,
          16,
          96,
          71,
          44,
          48,
          49,
          55,
          74,
          3,
          64,
          95,
          2,
          77,
          10,
          19,
          25,
          89,
          46,
          80,
          78,
          79,
          20,
          84,
          69,
          31,
          26,
          8,
          60,
          50,
          9,
          29,
          11,
          39,
          65,
          100,
          33,
          13,
          53,
          41,
          52,
          18,
          27,
          56,
          12,
          15,
          36,
          43,
          82,
          66,
          42,
          81,
          40,
          94,
          67,
          75,
          34,
          72,
          1,
          58,
          21,
          93,
          54,
          6,
          17,
          32,
          68,
          87,
          28,
          83,
          38,
          62,
          61,
          85,
          63,
          4,
          30,
          5,
          97,
          98,
          51,
          88,
          45,
          35,
          59,
          23,
          14,
          24,
          91,
          70,
          86,
          76,
          57,
          7,
          47,
          73,
          92,
          90
         ],
         "y": [
          0.92,
          0.99625,
          0.9775,
          0.9075,
          0.9825,
          1.04625,
          1.015,
          0.90625,
          1.09875,
          1.0775,
          1.02625,
          1.01875,
          0.9825,
          1.00375,
          0.94375,
          1.01125,
          0.9125,
          0.9825,
          0.96875,
          1.125,
          0.95375,
          1,
          0.99625,
          0.9825,
          1.0675,
          0.9675,
          0.96875,
          1.0525,
          0.92625,
          0.99125,
          1.105,
          1.04125,
          1.11875,
          0.93625,
          0.9425,
          0.91875,
          1.08375,
          0.91375,
          1.01375,
          1.0975,
          1.005,
          1.035,
          0.935,
          1.05125,
          1.03375,
          0.96625,
          1.05,
          0.9925,
          0.92375,
          0.91,
          0.94625,
          1.03125,
          0.98125,
          1.02875,
          1.05875,
          0.90375,
          1.03875,
          0.985,
          0.935,
          0.99875,
          0.965,
          0.9625,
          0.98375,
          1.07,
          0.885,
          0.9625,
          1.01625,
          1.1325,
          1.0525,
          1.025,
          1.075,
          0.98875,
          1.0175,
          1.08625,
          1.09375,
          1.10875,
          1.07875,
          1.09625,
          0.95625,
          0.9975,
          0.995,
          0.99,
          0.93,
          1.02,
          0.975,
          0.98,
          0.955,
          0.96,
          1.02,
          1,
          0.9525,
          0.925,
          1.015,
          1.00375,
          0.9425,
          1.04375,
          1.0975,
          0.93125,
          0.98375,
          0.93625
         ]
        },
        {
         "line": {
          "color": "#1d5b54"
         },
         "mode": "markers",
         "name": "900000",
         "type": "scatter",
         "uid": "c4a28c9d-32ba-45c8-b311-c68017d1d051",
         "x": [
          37,
          22,
          99,
          16,
          96,
          71,
          44,
          48,
          49,
          55,
          74,
          3,
          64,
          95,
          2,
          77,
          10,
          19,
          25,
          89,
          46,
          80,
          78,
          79,
          20,
          84,
          69,
          31,
          26,
          8,
          60,
          50,
          9,
          29,
          11,
          39,
          65,
          100,
          33,
          13,
          53,
          41,
          52,
          18,
          27,
          56,
          12,
          15,
          36,
          43,
          82,
          66,
          42,
          81,
          40,
          94,
          67,
          75,
          34,
          72,
          1,
          58,
          21,
          93,
          54,
          6,
          17,
          32,
          68,
          87,
          28,
          83,
          38,
          62,
          61,
          85,
          63,
          4,
          30,
          5,
          97,
          98,
          51,
          88,
          45,
          35,
          59,
          23,
          14,
          24,
          91,
          70,
          86,
          76,
          57,
          7,
          47,
          73,
          92,
          90
         ],
         "y": [
          0.9711111111111111,
          0.9444444444444444,
          1.0388888888888892,
          1.068888888888889,
          0.9977777777777778,
          0.9733333333333334,
          0.9688888888888888,
          0.9177777777777778,
          0.9888888888888888,
          0.9955555555555556,
          0.9177777777777778,
          0.9311111111111112,
          1.1377777777777778,
          1.0233333333333334,
          1.05,
          0.9322222222222222,
          1.0355555555555556,
          1.0488888888888892,
          1.022222222222222,
          1.06,
          0.99,
          1.0055555555555555,
          1.03,
          1.0288888888888892,
          0.9766666666666668,
          1.096666666666667,
          0.8488888888888889,
          0.8944444444444445,
          1.0144444444444445,
          0.9666666666666668,
          0.9777777777777776,
          1.0422222222222222,
          1.01,
          0.9733333333333334,
          1.0722222222222222,
          0.9777777777777776,
          1.0255555555555556,
          0.9233333333333332,
          0.9277777777777778,
          1.0088888888888892,
          1.022222222222222,
          0.9833333333333332,
          1.1,
          0.9844444444444445,
          1.0144444444444445,
          0.9466666666666668,
          1.0577777777777777,
          0.98,
          1.0211111111111109,
          0.9488888888888888,
          1.0211111111111109,
          0.9266666666666666,
          1.01,
          0.9955555555555556,
          1.0166666666666666,
          1.0322222222222222,
          1.1088888888888888,
          1.0388888888888892,
          1.0933333333333333,
          0.9866666666666668,
          1.0433333333333332,
          1.0255555555555556,
          0.9833333333333332,
          0.9911111111111112,
          0.94,
          1.0288888888888892,
          1.0088888888888892,
          0.9588888888888888,
          1.0266666666666666,
          0.8122222222222222,
          0.9833333333333332,
          1.0088888888888892,
          0.9788888888888888,
          1.0711111111111111,
          0.9588888888888888,
          1.0044444444444445,
          0.9977777777777778,
          1.0744444444444443,
          1.0277777777777777,
          0.98,
          1.0333333333333334,
          0.9833333333333332,
          0.9966666666666668,
          0.9677777777777776,
          0.9844444444444445,
          0.9911111111111112,
          1.0588888888888892,
          0.9822222222222222,
          0.9455555555555556,
          0.9533333333333334,
          1.0488888888888892,
          1.007777777777778,
          0.9788888888888888,
          1.0566666666666666,
          1.0633333333333332,
          0.9411111111111112,
          0.9111111111111112,
          1.0166666666666666,
          0.9766666666666668,
          1.0933333333333333
         ]
        },
        {
         "line": {
          "color": "#0c463e"
         },
         "mode": "markers",
         "name": "1000000",
         "type": "scatter",
         "uid": "b6405a69-96a1-452f-a6a8-f66baebe425c",
         "x": [
          37,
          22,
          99,
          16,
          96,
          71,
          44,
          48,
          49,
          55,
          74,
          3,
          64,
          95,
          2,
          77,
          10,
          19,
          25,
          89,
          46,
          80,
          78,
          79,
          20,
          84,
          69,
          31,
          26,
          8,
          60,
          50,
          9,
          29,
          11,
          39,
          65,
          100,
          33,
          13,
          53,
          41,
          52,
          18,
          27,
          56,
          12,
          15,
          36,
          43,
          82,
          66,
          42,
          81,
          40,
          94,
          67,
          75,
          34,
          72,
          1,
          58,
          21,
          93,
          54,
          6,
          17,
          32,
          68,
          87,
          28,
          83,
          38,
          62,
          61,
          85,
          63,
          4,
          30,
          5,
          97,
          98,
          51,
          88,
          45,
          35,
          59,
          23,
          14,
          24,
          91,
          70,
          86,
          76,
          57,
          7,
          47,
          73,
          92,
          90
         ],
         "y": [
          1.093,
          1.028,
          1.011,
          0.9520000000000001,
          1.011,
          0.997,
          1.033,
          1.127,
          0.987,
          0.914,
          1.0170000000000001,
          1.011,
          1.0090000000000001,
          0.97,
          0.9259999999999999,
          0.95,
          0.953,
          1.077,
          0.965,
          1.042,
          1.034,
          0.95,
          1.063,
          1.002,
          1.0490000000000002,
          0.9159999999999999,
          0.996,
          1.062,
          1.069,
          1.03,
          1.001,
          0.9740000000000001,
          0.9079999999999999,
          1.008,
          1.084,
          1.054,
          0.9840000000000001,
          0.948,
          0.932,
          0.934,
          0.9520000000000001,
          0.963,
          0.9390000000000001,
          0.963,
          0.997,
          0.9670000000000001,
          0.937,
          1.0090000000000001,
          0.9790000000000001,
          0.975,
          0.9640000000000001,
          0.915,
          0.982,
          1.075,
          0.96,
          0.9540000000000001,
          1.0170000000000001,
          1.085,
          0.9790000000000001,
          1.0659999999999998,
          1.069,
          0.973,
          1.042,
          1.028,
          0.993,
          1.015,
          1.018,
          0.977,
          0.866,
          1.078,
          1.067,
          0.9279999999999999,
          0.963,
          1.018,
          1.111,
          1.003,
          0.971,
          0.9740000000000001,
          0.995,
          0.953,
          1.023,
          0.993,
          1.083,
          0.996,
          0.981,
          1.08,
          1.026,
          0.9440000000000001,
          1.072,
          1.018,
          1.05,
          1.057,
          0.9670000000000001,
          1.046,
          0.9990000000000001,
          0.934,
          0.93,
          0.9670000000000001,
          1.02,
          1.023
         ]
        }
       ],
       "layout": {
        "plot_bgcolor": "rgb(255, 255,255)",
        "title": "Medium Self Loop/Frequency",
        "xaxis": {
         "title": "Input"
        },
        "yaxis": {
         "title": "Frequency (%)"
        }
       }
      },
      "text/html": [
       "<div id=\"04599959-e717-4581-a987-c5e05d760840\" style=\"height: 525px; width: 100%;\" class=\"plotly-graph-div\"></div><script type=\"text/javascript\">require([\"plotly\"], function(Plotly) { window.PLOTLYENV=window.PLOTLYENV || {};window.PLOTLYENV.BASE_URL=\"https://plot.ly\";Plotly.newPlot(\"04599959-e717-4581-a987-c5e05d760840\", [{\"line\": {\"color\": \"#CBF4F0\"}, \"mode\": \"markers\", \"name\": \"100000\", \"x\": [37, 22, 99, 16, 96, 71, 44, 48, 49, 55, 74, 3, 64, 95, 2, 77, 10, 19, 25, 89, 46, 80, 78, 79, 20, 84, 69, 31, 26, 8, 60, 50, 9, 29, 11, 39, 65, 100, 33, 13, 53, 41, 52, 18, 27, 56, 12, 15, 36, 43, 82, 66, 42, 81, 40, 94, 67, 75, 34, 72, 1, 58, 21, 93, 54, 6, 17, 32, 68, 87, 28, 83, 38, 62, 61, 85, 63, 4, 30, 5, 97, 98, 51, 88, 45, 35, 59, 23, 14, 24, 91, 70, 86, 76, 57, 7, 47, 73, 92, 90], \"y\": [1.2, 0.78, 1.13, 1.07, 0.99, 0.8, 1.18, 1.17, 1.06, 0.84, 1.14, 1.13, 1.34, 0.95, 1.0, 1.0, 0.7, 0.58, 0.87, 0.99, 1.15, 1.32, 0.85, 1.19, 0.84, 1.11, 0.87, 0.96, 0.99, 0.94, 0.87, 1.25, 1.01, 1.16, 1.1, 1.06, 1.0, 1.45, 1.12, 1.08, 0.79, 0.86, 0.86, 1.04, 1.01, 1.19, 1.3, 1.31, 1.06, 0.97, 1.18, 0.98, 0.77, 0.74, 1.12, 1.18, 0.78, 0.94, 1.19, 0.99, 1.04, 0.72, 0.87, 0.93, 0.81, 1.03, 1.1, 0.77, 0.76, 1.11, 0.97, 0.99, 0.98, 0.76, 1.13, 1.04, 1.04, 0.82, 0.92, 0.93, 1.18, 0.81, 0.84, 1.03, 1.15, 0.86, 1.07, 1.19, 0.78, 0.92, 0.98, 0.85, 1.06, 0.99, 1.24, 1.15, 1.16, 0.64, 1.0, 0.88], \"type\": \"scatter\", \"uid\": \"3a29460d-a1ab-41a5-b134-b24f8dad2da1\"}, {\"line\": {\"color\": \"#A9EDE6\"}, \"mode\": \"markers\", \"name\": \"200000\", \"x\": [37, 22, 99, 16, 96, 71, 44, 48, 49, 55, 74, 3, 64, 95, 2, 77, 10, 19, 25, 89, 46, 80, 78, 79, 20, 84, 69, 31, 26, 8, 60, 50, 9, 29, 11, 39, 65, 100, 33, 13, 53, 41, 52, 18, 27, 56, 12, 15, 36, 43, 82, 66, 42, 81, 40, 94, 67, 75, 34, 72, 1, 58, 21, 93, 54, 6, 17, 32, 68, 87, 28, 83, 38, 62, 61, 85, 63, 4, 30, 5, 97, 98, 51, 88, 45, 35, 59, 23, 14, 24, 91, 70, 86, 76, 57, 7, 47, 73, 92, 90], \"y\": [0.95, 1.01, 1.255, 1.005, 0.9, 1.1, 1.02, 1.005, 1.035, 1.135, 1.0, 0.99, 1.125, 0.855, 0.97, 1.21, 0.935, 0.83, 0.965, 1.025, 0.91, 0.9, 1.025, 0.96, 0.865, 1.095, 0.84, 0.88, 0.92, 0.915, 0.895, 0.95, 0.85, 1.075, 1.03, 1.005, 0.9, 1.195, 0.96, 0.785, 1.235, 0.98, 1.17, 1.035, 0.96, 0.96, 0.965, 0.935, 1.04, 1.045, 1.05, 0.935, 0.925, 0.92, 1.27, 0.945, 0.89, 0.965, 1.02, 1.165, 1.09, 1.165, 0.955, 0.94, 0.96, 0.95, 0.965, 0.885, 0.93, 0.865, 1.07, 1.045, 1.0, 1.175, 1.065, 0.95, 1.0, 0.945, 1.075, 0.83, 1.065, 0.77, 1.09, 1.125, 0.725, 1.055, 0.885, 0.93, 1.015, 1.27, 0.925, 0.89, 0.995, 0.975, 1.235, 1.19, 1.07, 1.08, 1.11, 1.055], \"type\": \"scatter\", \"uid\": \"44b5c2d4-ceaf-4649-a017-116326a11598\"}, {\"line\": {\"color\": \"#86E6DC\"}, \"mode\": \"markers\", \"name\": \"300000\", \"x\": [37, 22, 99, 16, 96, 71, 44, 48, 49, 55, 74, 3, 64, 95, 2, 77, 10, 19, 25, 89, 46, 80, 78, 79, 20, 84, 69, 31, 26, 8, 60, 50, 9, 29, 11, 39, 65, 100, 33, 13, 53, 41, 52, 18, 27, 56, 12, 15, 36, 43, 82, 66, 42, 81, 40, 94, 67, 75, 34, 72, 1, 58, 21, 93, 54, 6, 17, 32, 68, 87, 28, 83, 38, 62, 61, 85, 63, 4, 30, 5, 97, 98, 51, 88, 45, 35, 59, 23, 14, 24, 91, 70, 86, 76, 57, 7, 47, 73, 92, 90], \"y\": [0.8833333333333333, 1.06, 1.0133333333333334, 1.12, 0.9966666666666668, 1.1033333333333333, 1.0933333333333333, 0.8366666666666667, 0.8733333333333333, 1.0833333333333333, 0.8966666666666666, 1.03, 0.8266666666666667, 1.16, 1.0466666666666666, 1.1133333333333333, 1.0366666666666666, 1.0333333333333334, 1.11, 0.9933333333333332, 0.9066666666666666, 1.0933333333333333, 1.0166666666666666, 0.8666666666666667, 1.3, 1.03, 1.1833333333333331, 1.0433333333333332, 0.7366666666666667, 0.95, 1.0233333333333334, 0.9766666666666668, 1.0933333333333333, 1.16, 0.87, 1.2066666666666668, 1.05, 0.9033333333333332, 1.0433333333333332, 0.7333333333333333, 0.93, 0.9466666666666668, 1.2266666666666666, 0.92, 0.92, 1.01, 0.87, 0.8766666666666667, 0.97, 1.0566666666666666, 1.0533333333333332, 0.8166666666666667, 1.09, 1.06, 1.04, 0.89, 0.9966666666666668, 1.18, 1.163333333333333, 1.1233333333333333, 1.0266666666666666, 0.9266666666666666, 0.9433333333333334, 0.95, 1.106666666666667, 1.11, 1.0266666666666666, 0.9733333333333334, 1.12, 0.7733333333333333, 1.096666666666667, 1.0066666666666666, 0.9666666666666668, 1.0633333333333332, 0.9833333333333332, 0.9266666666666666, 0.8433333333333334, 1.0566666666666666, 0.83, 0.96, 1.0633333333333332, 1.01, 0.81, 0.96, 1.07, 0.9666666666666668, 1.0133333333333334, 1.0733333333333333, 0.8633333333333333, 1.2133333333333334, 0.8466666666666667, 0.9833333333333332, 1.0366666666666666, 0.95, 0.9766666666666668, 0.94, 0.98, 1.1133333333333333, 0.8533333333333334, 0.95], \"type\": \"scatter\", \"uid\": \"c96c39a0-a78b-4bc0-a8aa-aa8ad76e6ba1\"}, {\"line\": {\"color\": \"#64DFD2\"}, \"mode\": \"markers\", \"name\": \"400000\", \"x\": [37, 22, 99, 16, 96, 71, 44, 48, 49, 55, 74, 3, 64, 95, 2, 77, 10, 19, 25, 89, 46, 80, 78, 79, 20, 84, 69, 31, 26, 8, 60, 50, 9, 29, 11, 39, 65, 100, 33, 13, 53, 41, 52, 18, 27, 56, 12, 15, 36, 43, 82, 66, 42, 81, 40, 94, 67, 75, 34, 72, 1, 58, 21, 93, 54, 6, 17, 32, 68, 87, 28, 83, 38, 62, 61, 85, 63, 4, 30, 5, 97, 98, 51, 88, 45, 35, 59, 23, 14, 24, 91, 70, 86, 76, 57, 7, 47, 73, 92, 90], \"y\": [0.93, 1.1475, 0.9775, 0.8625, 0.8575, 0.915, 0.9075, 0.9675, 0.9375, 0.8925, 0.94, 0.96, 0.985, 0.955, 0.9475, 0.9025, 1.0975, 1.045, 1.1575, 1.0075, 1.0825, 1.0525, 1.0, 1.025, 1.0425, 0.965, 0.9275, 0.92, 0.9625, 0.925, 1.1225, 1.11, 1.0275, 0.9625, 0.945, 0.91, 0.9225, 0.955, 0.8975, 0.9625, 1.0, 1.155, 1.06, 1.0125, 0.9925, 1.005, 1.1075, 0.9225, 1.025, 0.93, 1.0175, 0.9425, 1.0225, 1.0325, 0.97, 0.865, 1.0425, 1.035, 1.0425, 1.0325, 1.075, 0.92, 1.015, 0.9475, 0.9775, 0.885, 0.99, 0.9925, 1.22, 1.0075, 0.94, 0.99, 1.14, 1.1675, 0.92, 1.0, 0.9675, 1.1525, 0.905, 1.15, 0.955, 0.91, 0.97, 1.0075, 0.875, 1.0625, 1.1025, 1.055, 0.965, 0.95, 1.0875, 0.965, 1.005, 1.2975, 0.9725, 1.075, 0.9975, 1.1, 1.0075, 0.955], \"type\": \"scatter\", \"uid\": \"93501a53-4ff4-4b01-9342-e743fae14bf1\"}, {\"line\": {\"color\": \"#42D9C8\"}, \"mode\": \"markers\", \"name\": \"500000\", \"x\": [37, 22, 99, 16, 96, 71, 44, 48, 49, 55, 74, 3, 64, 95, 2, 77, 10, 19, 25, 89, 46, 80, 78, 79, 20, 84, 69, 31, 26, 8, 60, 50, 9, 29, 11, 39, 65, 100, 33, 13, 53, 41, 52, 18, 27, 56, 12, 15, 36, 43, 82, 66, 42, 81, 40, 94, 67, 75, 34, 72, 1, 58, 21, 93, 54, 6, 17, 32, 68, 87, 28, 83, 38, 62, 61, 85, 63, 4, 30, 5, 97, 98, 51, 88, 45, 35, 59, 23, 14, 24, 91, 70, 86, 76, 57, 7, 47, 73, 92, 90], \"y\": [0.976, 1.028, 0.9259999999999999, 0.9540000000000001, 1.018, 0.996, 1.046, 1.0659999999999998, 0.95, 0.9940000000000001, 1.044, 1.088, 0.976, 0.966, 1.044, 0.96, 0.982, 1.026, 1.044, 1.0, 1.052, 0.9640000000000001, 1.004, 1.036, 0.97, 1.09, 1.016, 1.022, 0.948, 0.894, 0.9, 1.11, 0.958, 0.988, 0.978, 0.794, 1.0859999999999999, 0.91, 1.064, 1.002, 1.032, 1.1079999999999999, 1.092, 0.982, 1.1079999999999999, 0.924, 1.0759999999999998, 0.92, 0.9840000000000001, 1.0859999999999999, 1.102, 0.978, 0.89, 1.088, 1.09, 0.924, 0.912, 1.024, 1.048, 0.858, 0.92, 0.9740000000000001, 0.882, 0.968, 1.002, 1.05, 1.002, 1.02, 1.06, 0.98, 1.046, 0.97, 0.9840000000000001, 1.038, 0.934, 1.068, 0.924, 1.046, 1.018, 1.114, 1.032, 0.856, 1.06, 1.114, 0.868, 1.008, 1.058, 0.924, 0.858, 1.004, 0.862, 1.002, 1.008, 1.01, 1.026, 1.14, 1.012, 0.982, 1.05, 1.03], \"type\": \"scatter\", \"uid\": \"7382749c-7c98-4a43-9449-c5a4c05c9611\"}, {\"line\": {\"color\": \"#37B2A4\"}, \"mode\": \"markers\", \"name\": \"600000\", \"x\": [37, 22, 99, 16, 96, 71, 44, 48, 49, 55, 74, 3, 64, 95, 2, 77, 10, 19, 25, 89, 46, 80, 78, 79, 20, 84, 69, 31, 26, 8, 60, 50, 9, 29, 11, 39, 65, 100, 33, 13, 53, 41, 52, 18, 27, 56, 12, 15, 36, 43, 82, 66, 42, 81, 40, 94, 67, 75, 34, 72, 1, 58, 21, 93, 54, 6, 17, 32, 68, 87, 28, 83, 38, 62, 61, 85, 63, 4, 30, 5, 97, 98, 51, 88, 45, 35, 59, 23, 14, 24, 91, 70, 86, 76, 57, 7, 47, 73, 92, 90], \"y\": [0.965, 0.9366666666666666, 1.0433333333333332, 0.9516666666666668, 0.9883333333333332, 1.0366666666666666, 1.1366666666666667, 1.005, 1.0416666666666667, 1.0116666666666667, 0.9416666666666668, 0.9866666666666668, 0.995, 0.9316666666666666, 0.955, 0.8766666666666667, 0.9383333333333334, 1.0083333333333333, 1.0, 1.01, 1.038333333333333, 0.9266666666666666, 0.9383333333333334, 1.1483333333333334, 1.163333333333333, 1.04, 1.0166666666666666, 1.1233333333333333, 0.965, 0.8533333333333334, 1.0366666666666666, 1.03, 0.96, 0.8983333333333333, 0.9833333333333332, 0.9266666666666666, 1.005, 0.9683333333333334, 1.0316666666666667, 1.1133333333333333, 0.9916666666666668, 1.075, 0.9883333333333332, 0.8783333333333333, 1.1016666666666666, 0.8683333333333333, 0.9716666666666668, 1.096666666666667, 1.0366666666666666, 0.985, 1.1083333333333334, 1.015, 0.9216666666666666, 1.06, 0.9916666666666668, 1.0333333333333334, 1.005, 0.98, 0.9916666666666668, 1.0666666666666669, 1.0116666666666667, 1.1216666666666666, 0.9783333333333334, 0.9183333333333332, 0.9466666666666668, 0.95, 1.04, 1.1033333333333333, 1.05, 0.9783333333333334, 1.0816666666666668, 1.0216666666666667, 0.96, 0.925, 0.9983333333333332, 0.9566666666666668, 1.0116666666666667, 0.885, 1.0583333333333331, 0.97, 1.0366666666666666, 0.8033333333333333, 1.1366666666666667, 1.0233333333333334, 1.0783333333333334, 0.985, 0.9533333333333334, 1.0066666666666666, 0.99, 1.0216666666666667, 1.0016666666666667, 1.0, 1.0166666666666666, 0.9183333333333332, 0.915, 0.9033333333333332, 1.0333333333333334, 1.0366666666666666, 1.0983333333333334, 0.9816666666666668], \"type\": \"scatter\", \"uid\": \"5922b447-fc75-4576-a26f-3f8b78698c33\"}, {\"line\": {\"color\": \"#2A8B80\"}, \"mode\": \"markers\", \"name\": \"700000\", \"x\": [37, 22, 99, 16, 96, 71, 44, 48, 49, 55, 74, 3, 64, 95, 2, 77, 10, 19, 25, 89, 46, 80, 78, 79, 20, 84, 69, 31, 26, 8, 60, 50, 9, 29, 11, 39, 65, 100, 33, 13, 53, 41, 52, 18, 27, 56, 12, 15, 36, 43, 82, 66, 42, 81, 40, 94, 67, 75, 34, 72, 1, 58, 21, 93, 54, 6, 17, 32, 68, 87, 28, 83, 38, 62, 61, 85, 63, 4, 30, 5, 97, 98, 51, 88, 45, 35, 59, 23, 14, 24, 91, 70, 86, 76, 57, 7, 47, 73, 92, 90], \"y\": [1.0642857142857145, 1.0357142857142858, 1.0142857142857142, 0.9742857142857144, 0.9228571428571428, 1.0442857142857145, 1.0385714285714285, 0.9371428571428572, 1.0557142857142856, 0.9628571428571427, 0.9042857142857142, 0.9714285714285714, 0.9485714285714286, 1.0957142857142856, 0.9428571428571428, 1.1257142857142857, 1.012857142857143, 1.0114285714285711, 0.9557142857142856, 0.8871428571428571, 1.0071428571428571, 1.0214285714285714, 1.07, 0.9542857142857144, 1.012857142857143, 1.0157142857142858, 0.9757142857142858, 0.9714285714285714, 0.8628571428571429, 0.9842857142857144, 1.0071428571428571, 1.1057142857142856, 0.9771428571428572, 0.9785714285714284, 0.96, 1.082857142857143, 1.0014285714285711, 1.0671428571428572, 1.06, 1.1728571428571428, 0.9514285714285714, 1.0842857142857143, 0.9828571428571428, 0.9442857142857144, 1.01, 0.9342857142857144, 1.1657142857142857, 1.0742857142857145, 0.9285714285714286, 0.9114285714285716, 1.0071428571428571, 0.9057142857142856, 0.94, 0.9942857142857144, 1.052857142857143, 1.0757142857142856, 1.0442857142857145, 1.0771428571428572, 0.9714285714285714, 0.8871428571428571, 0.8957142857142857, 1.1142857142857143, 1.0014285714285711, 1.0642857142857145, 0.93, 1.012857142857143, 1.0114285714285711, 1.0057142857142858, 0.9057142857142856, 1.0457142857142858, 0.9414285714285714, 0.9771428571428572, 1.008571428571429, 1.04, 1.0142857142857142, 0.9271428571428572, 1.052857142857143, 1.05, 1.0514285714285714, 1.0857142857142856, 0.97, 0.91, 1.0557142857142856, 1.0485714285714285, 0.9585714285714284, 0.9642857142857144, 0.9257142857142856, 0.9728571428571428, 0.9942857142857144, 1.06, 0.9585714285714284, 0.9557142857142856, 1.0357142857142858, 0.97, 1.16, 0.9457142857142856, 0.9428571428571428, 0.9771428571428572, 0.9014285714285716, 1.02], \"type\": \"scatter\", \"uid\": \"5701b545-09cc-4bcd-b88a-91b61328ddc0\"}, {\"line\": {\"color\": \"#206e65\"}, \"mode\": \"markers\", \"name\": \"800000\", \"x\": [37, 22, 99, 16, 96, 71, 44, 48, 49, 55, 74, 3, 64, 95, 2, 77, 10, 19, 25, 89, 46, 80, 78, 79, 20, 84, 69, 31, 26, 8, 60, 50, 9, 29, 11, 39, 65, 100, 33, 13, 53, 41, 52, 18, 27, 56, 12, 15, 36, 43, 82, 66, 42, 81, 40, 94, 67, 75, 34, 72, 1, 58, 21, 93, 54, 6, 17, 32, 68, 87, 28, 83, 38, 62, 61, 85, 63, 4, 30, 5, 97, 98, 51, 88, 45, 35, 59, 23, 14, 24, 91, 70, 86, 76, 57, 7, 47, 73, 92, 90], \"y\": [0.92, 0.99625, 0.9775, 0.9075, 0.9825, 1.04625, 1.015, 0.90625, 1.09875, 1.0775, 1.02625, 1.01875, 0.9825, 1.00375, 0.94375, 1.01125, 0.9125, 0.9825, 0.96875, 1.125, 0.95375, 1.0, 0.99625, 0.9825, 1.0675, 0.9675, 0.96875, 1.0525, 0.92625, 0.99125, 1.105, 1.04125, 1.11875, 0.93625, 0.9425, 0.91875, 1.08375, 0.91375, 1.01375, 1.0975, 1.005, 1.035, 0.935, 1.05125, 1.03375, 0.96625, 1.05, 0.9925, 0.92375, 0.91, 0.94625, 1.03125, 0.98125, 1.02875, 1.05875, 0.90375, 1.03875, 0.985, 0.935, 0.99875, 0.965, 0.9625, 0.98375, 1.07, 0.885, 0.9625, 1.01625, 1.1325, 1.0525, 1.025, 1.075, 0.98875, 1.0175, 1.08625, 1.09375, 1.10875, 1.07875, 1.09625, 0.95625, 0.9975, 0.995, 0.99, 0.93, 1.02, 0.975, 0.98, 0.955, 0.96, 1.02, 1.0, 0.9525, 0.925, 1.015, 1.00375, 0.9425, 1.04375, 1.0975, 0.93125, 0.98375, 0.93625], \"type\": \"scatter\", \"uid\": \"e006e6c1-757c-46d9-aa66-0b0509e333b8\"}, {\"line\": {\"color\": \"#1d5b54\"}, \"mode\": \"markers\", \"name\": \"900000\", \"x\": [37, 22, 99, 16, 96, 71, 44, 48, 49, 55, 74, 3, 64, 95, 2, 77, 10, 19, 25, 89, 46, 80, 78, 79, 20, 84, 69, 31, 26, 8, 60, 50, 9, 29, 11, 39, 65, 100, 33, 13, 53, 41, 52, 18, 27, 56, 12, 15, 36, 43, 82, 66, 42, 81, 40, 94, 67, 75, 34, 72, 1, 58, 21, 93, 54, 6, 17, 32, 68, 87, 28, 83, 38, 62, 61, 85, 63, 4, 30, 5, 97, 98, 51, 88, 45, 35, 59, 23, 14, 24, 91, 70, 86, 76, 57, 7, 47, 73, 92, 90], \"y\": [0.9711111111111111, 0.9444444444444444, 1.0388888888888892, 1.068888888888889, 0.9977777777777778, 0.9733333333333334, 0.9688888888888888, 0.9177777777777778, 0.9888888888888888, 0.9955555555555556, 0.9177777777777778, 0.9311111111111112, 1.1377777777777778, 1.0233333333333334, 1.05, 0.9322222222222222, 1.0355555555555556, 1.0488888888888892, 1.022222222222222, 1.06, 0.99, 1.0055555555555555, 1.03, 1.0288888888888892, 0.9766666666666668, 1.096666666666667, 0.8488888888888889, 0.8944444444444445, 1.0144444444444445, 0.9666666666666668, 0.9777777777777776, 1.0422222222222222, 1.01, 0.9733333333333334, 1.0722222222222222, 0.9777777777777776, 1.0255555555555556, 0.9233333333333332, 0.9277777777777778, 1.0088888888888892, 1.022222222222222, 0.9833333333333332, 1.1, 0.9844444444444445, 1.0144444444444445, 0.9466666666666668, 1.0577777777777777, 0.98, 1.0211111111111109, 0.9488888888888888, 1.0211111111111109, 0.9266666666666666, 1.01, 0.9955555555555556, 1.0166666666666666, 1.0322222222222222, 1.1088888888888888, 1.0388888888888892, 1.0933333333333333, 0.9866666666666668, 1.0433333333333332, 1.0255555555555556, 0.9833333333333332, 0.9911111111111112, 0.94, 1.0288888888888892, 1.0088888888888892, 0.9588888888888888, 1.0266666666666666, 0.8122222222222222, 0.9833333333333332, 1.0088888888888892, 0.9788888888888888, 1.0711111111111111, 0.9588888888888888, 1.0044444444444445, 0.9977777777777778, 1.0744444444444443, 1.0277777777777777, 0.98, 1.0333333333333334, 0.9833333333333332, 0.9966666666666668, 0.9677777777777776, 0.9844444444444445, 0.9911111111111112, 1.0588888888888892, 0.9822222222222222, 0.9455555555555556, 0.9533333333333334, 1.0488888888888892, 1.007777777777778, 0.9788888888888888, 1.0566666666666666, 1.0633333333333332, 0.9411111111111112, 0.9111111111111112, 1.0166666666666666, 0.9766666666666668, 1.0933333333333333], \"type\": \"scatter\", \"uid\": \"c4a28c9d-32ba-45c8-b311-c68017d1d051\"}, {\"line\": {\"color\": \"#0c463e\"}, \"mode\": \"markers\", \"name\": \"1000000\", \"x\": [37, 22, 99, 16, 96, 71, 44, 48, 49, 55, 74, 3, 64, 95, 2, 77, 10, 19, 25, 89, 46, 80, 78, 79, 20, 84, 69, 31, 26, 8, 60, 50, 9, 29, 11, 39, 65, 100, 33, 13, 53, 41, 52, 18, 27, 56, 12, 15, 36, 43, 82, 66, 42, 81, 40, 94, 67, 75, 34, 72, 1, 58, 21, 93, 54, 6, 17, 32, 68, 87, 28, 83, 38, 62, 61, 85, 63, 4, 30, 5, 97, 98, 51, 88, 45, 35, 59, 23, 14, 24, 91, 70, 86, 76, 57, 7, 47, 73, 92, 90], \"y\": [1.093, 1.028, 1.011, 0.9520000000000001, 1.011, 0.997, 1.033, 1.127, 0.987, 0.914, 1.0170000000000001, 1.011, 1.0090000000000001, 0.97, 0.9259999999999999, 0.95, 0.953, 1.077, 0.965, 1.042, 1.034, 0.95, 1.063, 1.002, 1.0490000000000002, 0.9159999999999999, 0.996, 1.062, 1.069, 1.03, 1.001, 0.9740000000000001, 0.9079999999999999, 1.008, 1.084, 1.054, 0.9840000000000001, 0.948, 0.932, 0.934, 0.9520000000000001, 0.963, 0.9390000000000001, 0.963, 0.997, 0.9670000000000001, 0.937, 1.0090000000000001, 0.9790000000000001, 0.975, 0.9640000000000001, 0.915, 0.982, 1.075, 0.96, 0.9540000000000001, 1.0170000000000001, 1.085, 0.9790000000000001, 1.0659999999999998, 1.069, 0.973, 1.042, 1.028, 0.993, 1.015, 1.018, 0.977, 0.866, 1.078, 1.067, 0.9279999999999999, 0.963, 1.018, 1.111, 1.003, 0.971, 0.9740000000000001, 0.995, 0.953, 1.023, 0.993, 1.083, 0.996, 0.981, 1.08, 1.026, 0.9440000000000001, 1.072, 1.018, 1.05, 1.057, 0.9670000000000001, 1.046, 0.9990000000000001, 0.934, 0.93, 0.9670000000000001, 1.02, 1.023], \"type\": \"scatter\", \"uid\": \"b6405a69-96a1-452f-a6a8-f66baebe425c\"}], {\"plot_bgcolor\": \"rgb(255, 255,255)\", \"title\": \"Medium Self Loop/Frequency\", \"xaxis\": {\"title\": \"Input\"}, \"yaxis\": {\"title\": \"Frequency (%)\"}}, {\"showLink\": true, \"linkText\": \"Export to plot.ly\", \"plotlyServerURL\": \"https://plot.ly\"})});</script><script type=\"text/javascript\">window.addEventListener(\"resize\", function(){window._Plotly.Plots.resize(document.getElementById(\"04599959-e717-4581-a987-c5e05d760840\"));});</script>"
      ],
      "text/vnd.plotly.v1+html": [
       "<div id=\"04599959-e717-4581-a987-c5e05d760840\" style=\"height: 525px; width: 100%;\" class=\"plotly-graph-div\"></div><script type=\"text/javascript\">require([\"plotly\"], function(Plotly) { window.PLOTLYENV=window.PLOTLYENV || {};window.PLOTLYENV.BASE_URL=\"https://plot.ly\";Plotly.newPlot(\"04599959-e717-4581-a987-c5e05d760840\", [{\"line\": {\"color\": \"#CBF4F0\"}, \"mode\": \"markers\", \"name\": \"100000\", \"x\": [37, 22, 99, 16, 96, 71, 44, 48, 49, 55, 74, 3, 64, 95, 2, 77, 10, 19, 25, 89, 46, 80, 78, 79, 20, 84, 69, 31, 26, 8, 60, 50, 9, 29, 11, 39, 65, 100, 33, 13, 53, 41, 52, 18, 27, 56, 12, 15, 36, 43, 82, 66, 42, 81, 40, 94, 67, 75, 34, 72, 1, 58, 21, 93, 54, 6, 17, 32, 68, 87, 28, 83, 38, 62, 61, 85, 63, 4, 30, 5, 97, 98, 51, 88, 45, 35, 59, 23, 14, 24, 91, 70, 86, 76, 57, 7, 47, 73, 92, 90], \"y\": [1.2, 0.78, 1.13, 1.07, 0.99, 0.8, 1.18, 1.17, 1.06, 0.84, 1.14, 1.13, 1.34, 0.95, 1.0, 1.0, 0.7, 0.58, 0.87, 0.99, 1.15, 1.32, 0.85, 1.19, 0.84, 1.11, 0.87, 0.96, 0.99, 0.94, 0.87, 1.25, 1.01, 1.16, 1.1, 1.06, 1.0, 1.45, 1.12, 1.08, 0.79, 0.86, 0.86, 1.04, 1.01, 1.19, 1.3, 1.31, 1.06, 0.97, 1.18, 0.98, 0.77, 0.74, 1.12, 1.18, 0.78, 0.94, 1.19, 0.99, 1.04, 0.72, 0.87, 0.93, 0.81, 1.03, 1.1, 0.77, 0.76, 1.11, 0.97, 0.99, 0.98, 0.76, 1.13, 1.04, 1.04, 0.82, 0.92, 0.93, 1.18, 0.81, 0.84, 1.03, 1.15, 0.86, 1.07, 1.19, 0.78, 0.92, 0.98, 0.85, 1.06, 0.99, 1.24, 1.15, 1.16, 0.64, 1.0, 0.88], \"type\": \"scatter\", \"uid\": \"3a29460d-a1ab-41a5-b134-b24f8dad2da1\"}, {\"line\": {\"color\": \"#A9EDE6\"}, \"mode\": \"markers\", \"name\": \"200000\", \"x\": [37, 22, 99, 16, 96, 71, 44, 48, 49, 55, 74, 3, 64, 95, 2, 77, 10, 19, 25, 89, 46, 80, 78, 79, 20, 84, 69, 31, 26, 8, 60, 50, 9, 29, 11, 39, 65, 100, 33, 13, 53, 41, 52, 18, 27, 56, 12, 15, 36, 43, 82, 66, 42, 81, 40, 94, 67, 75, 34, 72, 1, 58, 21, 93, 54, 6, 17, 32, 68, 87, 28, 83, 38, 62, 61, 85, 63, 4, 30, 5, 97, 98, 51, 88, 45, 35, 59, 23, 14, 24, 91, 70, 86, 76, 57, 7, 47, 73, 92, 90], \"y\": [0.95, 1.01, 1.255, 1.005, 0.9, 1.1, 1.02, 1.005, 1.035, 1.135, 1.0, 0.99, 1.125, 0.855, 0.97, 1.21, 0.935, 0.83, 0.965, 1.025, 0.91, 0.9, 1.025, 0.96, 0.865, 1.095, 0.84, 0.88, 0.92, 0.915, 0.895, 0.95, 0.85, 1.075, 1.03, 1.005, 0.9, 1.195, 0.96, 0.785, 1.235, 0.98, 1.17, 1.035, 0.96, 0.96, 0.965, 0.935, 1.04, 1.045, 1.05, 0.935, 0.925, 0.92, 1.27, 0.945, 0.89, 0.965, 1.02, 1.165, 1.09, 1.165, 0.955, 0.94, 0.96, 0.95, 0.965, 0.885, 0.93, 0.865, 1.07, 1.045, 1.0, 1.175, 1.065, 0.95, 1.0, 0.945, 1.075, 0.83, 1.065, 0.77, 1.09, 1.125, 0.725, 1.055, 0.885, 0.93, 1.015, 1.27, 0.925, 0.89, 0.995, 0.975, 1.235, 1.19, 1.07, 1.08, 1.11, 1.055], \"type\": \"scatter\", \"uid\": \"44b5c2d4-ceaf-4649-a017-116326a11598\"}, {\"line\": {\"color\": \"#86E6DC\"}, \"mode\": \"markers\", \"name\": \"300000\", \"x\": [37, 22, 99, 16, 96, 71, 44, 48, 49, 55, 74, 3, 64, 95, 2, 77, 10, 19, 25, 89, 46, 80, 78, 79, 20, 84, 69, 31, 26, 8, 60, 50, 9, 29, 11, 39, 65, 100, 33, 13, 53, 41, 52, 18, 27, 56, 12, 15, 36, 43, 82, 66, 42, 81, 40, 94, 67, 75, 34, 72, 1, 58, 21, 93, 54, 6, 17, 32, 68, 87, 28, 83, 38, 62, 61, 85, 63, 4, 30, 5, 97, 98, 51, 88, 45, 35, 59, 23, 14, 24, 91, 70, 86, 76, 57, 7, 47, 73, 92, 90], \"y\": [0.8833333333333333, 1.06, 1.0133333333333334, 1.12, 0.9966666666666668, 1.1033333333333333, 1.0933333333333333, 0.8366666666666667, 0.8733333333333333, 1.0833333333333333, 0.8966666666666666, 1.03, 0.8266666666666667, 1.16, 1.0466666666666666, 1.1133333333333333, 1.0366666666666666, 1.0333333333333334, 1.11, 0.9933333333333332, 0.9066666666666666, 1.0933333333333333, 1.0166666666666666, 0.8666666666666667, 1.3, 1.03, 1.1833333333333331, 1.0433333333333332, 0.7366666666666667, 0.95, 1.0233333333333334, 0.9766666666666668, 1.0933333333333333, 1.16, 0.87, 1.2066666666666668, 1.05, 0.9033333333333332, 1.0433333333333332, 0.7333333333333333, 0.93, 0.9466666666666668, 1.2266666666666666, 0.92, 0.92, 1.01, 0.87, 0.8766666666666667, 0.97, 1.0566666666666666, 1.0533333333333332, 0.8166666666666667, 1.09, 1.06, 1.04, 0.89, 0.9966666666666668, 1.18, 1.163333333333333, 1.1233333333333333, 1.0266666666666666, 0.9266666666666666, 0.9433333333333334, 0.95, 1.106666666666667, 1.11, 1.0266666666666666, 0.9733333333333334, 1.12, 0.7733333333333333, 1.096666666666667, 1.0066666666666666, 0.9666666666666668, 1.0633333333333332, 0.9833333333333332, 0.9266666666666666, 0.8433333333333334, 1.0566666666666666, 0.83, 0.96, 1.0633333333333332, 1.01, 0.81, 0.96, 1.07, 0.9666666666666668, 1.0133333333333334, 1.0733333333333333, 0.8633333333333333, 1.2133333333333334, 0.8466666666666667, 0.9833333333333332, 1.0366666666666666, 0.95, 0.9766666666666668, 0.94, 0.98, 1.1133333333333333, 0.8533333333333334, 0.95], \"type\": \"scatter\", \"uid\": \"c96c39a0-a78b-4bc0-a8aa-aa8ad76e6ba1\"}, {\"line\": {\"color\": \"#64DFD2\"}, \"mode\": \"markers\", \"name\": \"400000\", \"x\": [37, 22, 99, 16, 96, 71, 44, 48, 49, 55, 74, 3, 64, 95, 2, 77, 10, 19, 25, 89, 46, 80, 78, 79, 20, 84, 69, 31, 26, 8, 60, 50, 9, 29, 11, 39, 65, 100, 33, 13, 53, 41, 52, 18, 27, 56, 12, 15, 36, 43, 82, 66, 42, 81, 40, 94, 67, 75, 34, 72, 1, 58, 21, 93, 54, 6, 17, 32, 68, 87, 28, 83, 38, 62, 61, 85, 63, 4, 30, 5, 97, 98, 51, 88, 45, 35, 59, 23, 14, 24, 91, 70, 86, 76, 57, 7, 47, 73, 92, 90], \"y\": [0.93, 1.1475, 0.9775, 0.8625, 0.8575, 0.915, 0.9075, 0.9675, 0.9375, 0.8925, 0.94, 0.96, 0.985, 0.955, 0.9475, 0.9025, 1.0975, 1.045, 1.1575, 1.0075, 1.0825, 1.0525, 1.0, 1.025, 1.0425, 0.965, 0.9275, 0.92, 0.9625, 0.925, 1.1225, 1.11, 1.0275, 0.9625, 0.945, 0.91, 0.9225, 0.955, 0.8975, 0.9625, 1.0, 1.155, 1.06, 1.0125, 0.9925, 1.005, 1.1075, 0.9225, 1.025, 0.93, 1.0175, 0.9425, 1.0225, 1.0325, 0.97, 0.865, 1.0425, 1.035, 1.0425, 1.0325, 1.075, 0.92, 1.015, 0.9475, 0.9775, 0.885, 0.99, 0.9925, 1.22, 1.0075, 0.94, 0.99, 1.14, 1.1675, 0.92, 1.0, 0.9675, 1.1525, 0.905, 1.15, 0.955, 0.91, 0.97, 1.0075, 0.875, 1.0625, 1.1025, 1.055, 0.965, 0.95, 1.0875, 0.965, 1.005, 1.2975, 0.9725, 1.075, 0.9975, 1.1, 1.0075, 0.955], \"type\": \"scatter\", \"uid\": \"93501a53-4ff4-4b01-9342-e743fae14bf1\"}, {\"line\": {\"color\": \"#42D9C8\"}, \"mode\": \"markers\", \"name\": \"500000\", \"x\": [37, 22, 99, 16, 96, 71, 44, 48, 49, 55, 74, 3, 64, 95, 2, 77, 10, 19, 25, 89, 46, 80, 78, 79, 20, 84, 69, 31, 26, 8, 60, 50, 9, 29, 11, 39, 65, 100, 33, 13, 53, 41, 52, 18, 27, 56, 12, 15, 36, 43, 82, 66, 42, 81, 40, 94, 67, 75, 34, 72, 1, 58, 21, 93, 54, 6, 17, 32, 68, 87, 28, 83, 38, 62, 61, 85, 63, 4, 30, 5, 97, 98, 51, 88, 45, 35, 59, 23, 14, 24, 91, 70, 86, 76, 57, 7, 47, 73, 92, 90], \"y\": [0.976, 1.028, 0.9259999999999999, 0.9540000000000001, 1.018, 0.996, 1.046, 1.0659999999999998, 0.95, 0.9940000000000001, 1.044, 1.088, 0.976, 0.966, 1.044, 0.96, 0.982, 1.026, 1.044, 1.0, 1.052, 0.9640000000000001, 1.004, 1.036, 0.97, 1.09, 1.016, 1.022, 0.948, 0.894, 0.9, 1.11, 0.958, 0.988, 0.978, 0.794, 1.0859999999999999, 0.91, 1.064, 1.002, 1.032, 1.1079999999999999, 1.092, 0.982, 1.1079999999999999, 0.924, 1.0759999999999998, 0.92, 0.9840000000000001, 1.0859999999999999, 1.102, 0.978, 0.89, 1.088, 1.09, 0.924, 0.912, 1.024, 1.048, 0.858, 0.92, 0.9740000000000001, 0.882, 0.968, 1.002, 1.05, 1.002, 1.02, 1.06, 0.98, 1.046, 0.97, 0.9840000000000001, 1.038, 0.934, 1.068, 0.924, 1.046, 1.018, 1.114, 1.032, 0.856, 1.06, 1.114, 0.868, 1.008, 1.058, 0.924, 0.858, 1.004, 0.862, 1.002, 1.008, 1.01, 1.026, 1.14, 1.012, 0.982, 1.05, 1.03], \"type\": \"scatter\", \"uid\": \"7382749c-7c98-4a43-9449-c5a4c05c9611\"}, {\"line\": {\"color\": \"#37B2A4\"}, \"mode\": \"markers\", \"name\": \"600000\", \"x\": [37, 22, 99, 16, 96, 71, 44, 48, 49, 55, 74, 3, 64, 95, 2, 77, 10, 19, 25, 89, 46, 80, 78, 79, 20, 84, 69, 31, 26, 8, 60, 50, 9, 29, 11, 39, 65, 100, 33, 13, 53, 41, 52, 18, 27, 56, 12, 15, 36, 43, 82, 66, 42, 81, 40, 94, 67, 75, 34, 72, 1, 58, 21, 93, 54, 6, 17, 32, 68, 87, 28, 83, 38, 62, 61, 85, 63, 4, 30, 5, 97, 98, 51, 88, 45, 35, 59, 23, 14, 24, 91, 70, 86, 76, 57, 7, 47, 73, 92, 90], \"y\": [0.965, 0.9366666666666666, 1.0433333333333332, 0.9516666666666668, 0.9883333333333332, 1.0366666666666666, 1.1366666666666667, 1.005, 1.0416666666666667, 1.0116666666666667, 0.9416666666666668, 0.9866666666666668, 0.995, 0.9316666666666666, 0.955, 0.8766666666666667, 0.9383333333333334, 1.0083333333333333, 1.0, 1.01, 1.038333333333333, 0.9266666666666666, 0.9383333333333334, 1.1483333333333334, 1.163333333333333, 1.04, 1.0166666666666666, 1.1233333333333333, 0.965, 0.8533333333333334, 1.0366666666666666, 1.03, 0.96, 0.8983333333333333, 0.9833333333333332, 0.9266666666666666, 1.005, 0.9683333333333334, 1.0316666666666667, 1.1133333333333333, 0.9916666666666668, 1.075, 0.9883333333333332, 0.8783333333333333, 1.1016666666666666, 0.8683333333333333, 0.9716666666666668, 1.096666666666667, 1.0366666666666666, 0.985, 1.1083333333333334, 1.015, 0.9216666666666666, 1.06, 0.9916666666666668, 1.0333333333333334, 1.005, 0.98, 0.9916666666666668, 1.0666666666666669, 1.0116666666666667, 1.1216666666666666, 0.9783333333333334, 0.9183333333333332, 0.9466666666666668, 0.95, 1.04, 1.1033333333333333, 1.05, 0.9783333333333334, 1.0816666666666668, 1.0216666666666667, 0.96, 0.925, 0.9983333333333332, 0.9566666666666668, 1.0116666666666667, 0.885, 1.0583333333333331, 0.97, 1.0366666666666666, 0.8033333333333333, 1.1366666666666667, 1.0233333333333334, 1.0783333333333334, 0.985, 0.9533333333333334, 1.0066666666666666, 0.99, 1.0216666666666667, 1.0016666666666667, 1.0, 1.0166666666666666, 0.9183333333333332, 0.915, 0.9033333333333332, 1.0333333333333334, 1.0366666666666666, 1.0983333333333334, 0.9816666666666668], \"type\": \"scatter\", \"uid\": \"5922b447-fc75-4576-a26f-3f8b78698c33\"}, {\"line\": {\"color\": \"#2A8B80\"}, \"mode\": \"markers\", \"name\": \"700000\", \"x\": [37, 22, 99, 16, 96, 71, 44, 48, 49, 55, 74, 3, 64, 95, 2, 77, 10, 19, 25, 89, 46, 80, 78, 79, 20, 84, 69, 31, 26, 8, 60, 50, 9, 29, 11, 39, 65, 100, 33, 13, 53, 41, 52, 18, 27, 56, 12, 15, 36, 43, 82, 66, 42, 81, 40, 94, 67, 75, 34, 72, 1, 58, 21, 93, 54, 6, 17, 32, 68, 87, 28, 83, 38, 62, 61, 85, 63, 4, 30, 5, 97, 98, 51, 88, 45, 35, 59, 23, 14, 24, 91, 70, 86, 76, 57, 7, 47, 73, 92, 90], \"y\": [1.0642857142857145, 1.0357142857142858, 1.0142857142857142, 0.9742857142857144, 0.9228571428571428, 1.0442857142857145, 1.0385714285714285, 0.9371428571428572, 1.0557142857142856, 0.9628571428571427, 0.9042857142857142, 0.9714285714285714, 0.9485714285714286, 1.0957142857142856, 0.9428571428571428, 1.1257142857142857, 1.012857142857143, 1.0114285714285711, 0.9557142857142856, 0.8871428571428571, 1.0071428571428571, 1.0214285714285714, 1.07, 0.9542857142857144, 1.012857142857143, 1.0157142857142858, 0.9757142857142858, 0.9714285714285714, 0.8628571428571429, 0.9842857142857144, 1.0071428571428571, 1.1057142857142856, 0.9771428571428572, 0.9785714285714284, 0.96, 1.082857142857143, 1.0014285714285711, 1.0671428571428572, 1.06, 1.1728571428571428, 0.9514285714285714, 1.0842857142857143, 0.9828571428571428, 0.9442857142857144, 1.01, 0.9342857142857144, 1.1657142857142857, 1.0742857142857145, 0.9285714285714286, 0.9114285714285716, 1.0071428571428571, 0.9057142857142856, 0.94, 0.9942857142857144, 1.052857142857143, 1.0757142857142856, 1.0442857142857145, 1.0771428571428572, 0.9714285714285714, 0.8871428571428571, 0.8957142857142857, 1.1142857142857143, 1.0014285714285711, 1.0642857142857145, 0.93, 1.012857142857143, 1.0114285714285711, 1.0057142857142858, 0.9057142857142856, 1.0457142857142858, 0.9414285714285714, 0.9771428571428572, 1.008571428571429, 1.04, 1.0142857142857142, 0.9271428571428572, 1.052857142857143, 1.05, 1.0514285714285714, 1.0857142857142856, 0.97, 0.91, 1.0557142857142856, 1.0485714285714285, 0.9585714285714284, 0.9642857142857144, 0.9257142857142856, 0.9728571428571428, 0.9942857142857144, 1.06, 0.9585714285714284, 0.9557142857142856, 1.0357142857142858, 0.97, 1.16, 0.9457142857142856, 0.9428571428571428, 0.9771428571428572, 0.9014285714285716, 1.02], \"type\": \"scatter\", \"uid\": \"5701b545-09cc-4bcd-b88a-91b61328ddc0\"}, {\"line\": {\"color\": \"#206e65\"}, \"mode\": \"markers\", \"name\": \"800000\", \"x\": [37, 22, 99, 16, 96, 71, 44, 48, 49, 55, 74, 3, 64, 95, 2, 77, 10, 19, 25, 89, 46, 80, 78, 79, 20, 84, 69, 31, 26, 8, 60, 50, 9, 29, 11, 39, 65, 100, 33, 13, 53, 41, 52, 18, 27, 56, 12, 15, 36, 43, 82, 66, 42, 81, 40, 94, 67, 75, 34, 72, 1, 58, 21, 93, 54, 6, 17, 32, 68, 87, 28, 83, 38, 62, 61, 85, 63, 4, 30, 5, 97, 98, 51, 88, 45, 35, 59, 23, 14, 24, 91, 70, 86, 76, 57, 7, 47, 73, 92, 90], \"y\": [0.92, 0.99625, 0.9775, 0.9075, 0.9825, 1.04625, 1.015, 0.90625, 1.09875, 1.0775, 1.02625, 1.01875, 0.9825, 1.00375, 0.94375, 1.01125, 0.9125, 0.9825, 0.96875, 1.125, 0.95375, 1.0, 0.99625, 0.9825, 1.0675, 0.9675, 0.96875, 1.0525, 0.92625, 0.99125, 1.105, 1.04125, 1.11875, 0.93625, 0.9425, 0.91875, 1.08375, 0.91375, 1.01375, 1.0975, 1.005, 1.035, 0.935, 1.05125, 1.03375, 0.96625, 1.05, 0.9925, 0.92375, 0.91, 0.94625, 1.03125, 0.98125, 1.02875, 1.05875, 0.90375, 1.03875, 0.985, 0.935, 0.99875, 0.965, 0.9625, 0.98375, 1.07, 0.885, 0.9625, 1.01625, 1.1325, 1.0525, 1.025, 1.075, 0.98875, 1.0175, 1.08625, 1.09375, 1.10875, 1.07875, 1.09625, 0.95625, 0.9975, 0.995, 0.99, 0.93, 1.02, 0.975, 0.98, 0.955, 0.96, 1.02, 1.0, 0.9525, 0.925, 1.015, 1.00375, 0.9425, 1.04375, 1.0975, 0.93125, 0.98375, 0.93625], \"type\": \"scatter\", \"uid\": \"e006e6c1-757c-46d9-aa66-0b0509e333b8\"}, {\"line\": {\"color\": \"#1d5b54\"}, \"mode\": \"markers\", \"name\": \"900000\", \"x\": [37, 22, 99, 16, 96, 71, 44, 48, 49, 55, 74, 3, 64, 95, 2, 77, 10, 19, 25, 89, 46, 80, 78, 79, 20, 84, 69, 31, 26, 8, 60, 50, 9, 29, 11, 39, 65, 100, 33, 13, 53, 41, 52, 18, 27, 56, 12, 15, 36, 43, 82, 66, 42, 81, 40, 94, 67, 75, 34, 72, 1, 58, 21, 93, 54, 6, 17, 32, 68, 87, 28, 83, 38, 62, 61, 85, 63, 4, 30, 5, 97, 98, 51, 88, 45, 35, 59, 23, 14, 24, 91, 70, 86, 76, 57, 7, 47, 73, 92, 90], \"y\": [0.9711111111111111, 0.9444444444444444, 1.0388888888888892, 1.068888888888889, 0.9977777777777778, 0.9733333333333334, 0.9688888888888888, 0.9177777777777778, 0.9888888888888888, 0.9955555555555556, 0.9177777777777778, 0.9311111111111112, 1.1377777777777778, 1.0233333333333334, 1.05, 0.9322222222222222, 1.0355555555555556, 1.0488888888888892, 1.022222222222222, 1.06, 0.99, 1.0055555555555555, 1.03, 1.0288888888888892, 0.9766666666666668, 1.096666666666667, 0.8488888888888889, 0.8944444444444445, 1.0144444444444445, 0.9666666666666668, 0.9777777777777776, 1.0422222222222222, 1.01, 0.9733333333333334, 1.0722222222222222, 0.9777777777777776, 1.0255555555555556, 0.9233333333333332, 0.9277777777777778, 1.0088888888888892, 1.022222222222222, 0.9833333333333332, 1.1, 0.9844444444444445, 1.0144444444444445, 0.9466666666666668, 1.0577777777777777, 0.98, 1.0211111111111109, 0.9488888888888888, 1.0211111111111109, 0.9266666666666666, 1.01, 0.9955555555555556, 1.0166666666666666, 1.0322222222222222, 1.1088888888888888, 1.0388888888888892, 1.0933333333333333, 0.9866666666666668, 1.0433333333333332, 1.0255555555555556, 0.9833333333333332, 0.9911111111111112, 0.94, 1.0288888888888892, 1.0088888888888892, 0.9588888888888888, 1.0266666666666666, 0.8122222222222222, 0.9833333333333332, 1.0088888888888892, 0.9788888888888888, 1.0711111111111111, 0.9588888888888888, 1.0044444444444445, 0.9977777777777778, 1.0744444444444443, 1.0277777777777777, 0.98, 1.0333333333333334, 0.9833333333333332, 0.9966666666666668, 0.9677777777777776, 0.9844444444444445, 0.9911111111111112, 1.0588888888888892, 0.9822222222222222, 0.9455555555555556, 0.9533333333333334, 1.0488888888888892, 1.007777777777778, 0.9788888888888888, 1.0566666666666666, 1.0633333333333332, 0.9411111111111112, 0.9111111111111112, 1.0166666666666666, 0.9766666666666668, 1.0933333333333333], \"type\": \"scatter\", \"uid\": \"c4a28c9d-32ba-45c8-b311-c68017d1d051\"}, {\"line\": {\"color\": \"#0c463e\"}, \"mode\": \"markers\", \"name\": \"1000000\", \"x\": [37, 22, 99, 16, 96, 71, 44, 48, 49, 55, 74, 3, 64, 95, 2, 77, 10, 19, 25, 89, 46, 80, 78, 79, 20, 84, 69, 31, 26, 8, 60, 50, 9, 29, 11, 39, 65, 100, 33, 13, 53, 41, 52, 18, 27, 56, 12, 15, 36, 43, 82, 66, 42, 81, 40, 94, 67, 75, 34, 72, 1, 58, 21, 93, 54, 6, 17, 32, 68, 87, 28, 83, 38, 62, 61, 85, 63, 4, 30, 5, 97, 98, 51, 88, 45, 35, 59, 23, 14, 24, 91, 70, 86, 76, 57, 7, 47, 73, 92, 90], \"y\": [1.093, 1.028, 1.011, 0.9520000000000001, 1.011, 0.997, 1.033, 1.127, 0.987, 0.914, 1.0170000000000001, 1.011, 1.0090000000000001, 0.97, 0.9259999999999999, 0.95, 0.953, 1.077, 0.965, 1.042, 1.034, 0.95, 1.063, 1.002, 1.0490000000000002, 0.9159999999999999, 0.996, 1.062, 1.069, 1.03, 1.001, 0.9740000000000001, 0.9079999999999999, 1.008, 1.084, 1.054, 0.9840000000000001, 0.948, 0.932, 0.934, 0.9520000000000001, 0.963, 0.9390000000000001, 0.963, 0.997, 0.9670000000000001, 0.937, 1.0090000000000001, 0.9790000000000001, 0.975, 0.9640000000000001, 0.915, 0.982, 1.075, 0.96, 0.9540000000000001, 1.0170000000000001, 1.085, 0.9790000000000001, 1.0659999999999998, 1.069, 0.973, 1.042, 1.028, 0.993, 1.015, 1.018, 0.977, 0.866, 1.078, 1.067, 0.9279999999999999, 0.963, 1.018, 1.111, 1.003, 0.971, 0.9740000000000001, 0.995, 0.953, 1.023, 0.993, 1.083, 0.996, 0.981, 1.08, 1.026, 0.9440000000000001, 1.072, 1.018, 1.05, 1.057, 0.9670000000000001, 1.046, 0.9990000000000001, 0.934, 0.93, 0.9670000000000001, 1.02, 1.023], \"type\": \"scatter\", \"uid\": \"b6405a69-96a1-452f-a6a8-f66baebe425c\"}], {\"plot_bgcolor\": \"rgb(255, 255,255)\", \"title\": \"Medium Self Loop/Frequency\", \"xaxis\": {\"title\": \"Input\"}, \"yaxis\": {\"title\": \"Frequency (%)\"}}, {\"showLink\": true, \"linkText\": \"Export to plot.ly\", \"plotlyServerURL\": \"https://plot.ly\"})});</script><script type=\"text/javascript\">window.addEventListener(\"resize\", function(){window._Plotly.Plots.resize(document.getElementById(\"04599959-e717-4581-a987-c5e05d760840\"));});</script>"
      ]
     },
     "metadata": {},
     "output_type": "display_data"
    }
   ],
   "source": [
    "df = pd.read_csv('percentages/MarkovMedium/0.csv')\n",
    "\n",
    "trace1 = go.Scatter(\n",
    "                    x=df['Input'], y=df['Percentage'], # Data\n",
    "                    mode='markers',\n",
    "                    name='100000',\n",
    "                    line = dict(color = ('#CBF4F0'))\n",
    "                   )\n",
    "\n",
    "\n",
    "df = pd.read_csv('percentages/MarkovMedium/1.csv')\n",
    "\n",
    "trace2 = go.Scatter(\n",
    "                    x=df['Input'], y=df['Percentage'], # Data\n",
    "                    mode='markers',\n",
    "                    name='200000',\n",
    "                    line = dict(color = ('#A9EDE6'))\n",
    "                   )\n",
    "\n",
    "df = pd.read_csv('percentages/MarkovMedium/2.csv')\n",
    "\n",
    "trace3 = go.Scatter(\n",
    "                    x=df['Input'], y=df['Percentage'], # Data\n",
    "                    mode='markers',\n",
    "                    name='300000',\n",
    "                    line = dict(color = ('#86E6DC'))\n",
    "                   )\n",
    "\n",
    "\n",
    "df = pd.read_csv('percentages/MarkovMedium/3.csv')\n",
    "\n",
    "trace4 = go.Scatter(\n",
    "                    x=df['Input'], y=df['Percentage'], # Data\n",
    "                    mode='markers',\n",
    "                    name='400000',\n",
    "                    line = dict(color = ('#64DFD2'))\n",
    "                   )\n",
    "\n",
    "\n",
    "df = pd.read_csv('percentages/MarkovMedium/4.csv')\n",
    "\n",
    "trace5 = go.Scatter(\n",
    "                    x=df['Input'], y=df['Percentage'], # Data\n",
    "                    mode='markers',\n",
    "                    name='500000',\n",
    "                    line = dict(color = ('#42D9C8'))\n",
    "                   )\n",
    "\n",
    "df = pd.read_csv('percentages/MarkovMedium/5.csv')\n",
    "\n",
    "trace6 = go.Scatter(\n",
    "                    x=df['Input'], y=df['Percentage'], # Data\n",
    "                    mode='markers',\n",
    "                    name='600000',\n",
    "                    line = dict(color = ('#37B2A4'))\n",
    "                   )\n",
    "\n",
    "df = pd.read_csv('percentages/MarkovMedium/6.csv')\n",
    "\n",
    "trace7 = go.Scatter(\n",
    "                    x=df['Input'], y=df['Percentage'], # Data\n",
    "                    mode='markers',\n",
    "                    name='700000',\n",
    "                    line = dict(color = ('#2A8B80'))\n",
    "                   )\n",
    "\n",
    "df = pd.read_csv('percentages/MarkovMedium/7.csv')\n",
    "\n",
    "trace8 = go.Scatter(\n",
    "                    x=df['Input'], y=df['Percentage'], # Data\n",
    "                    mode='markers',\n",
    "                    name='800000',\n",
    "                    line = dict(color = ('#206e65'))\n",
    "                   )\n",
    "\n",
    "df = pd.read_csv('percentages/MarkovMedium/8.csv')\n",
    "\n",
    "trace9 = go.Scatter(\n",
    "                    x=df['Input'], y=df['Percentage'], # Data\n",
    "                    mode='markers',\n",
    "                    name='900000',\n",
    "                    line = dict(color = ('#1d5b54'))\n",
    "                   )\n",
    "\n",
    "df = pd.read_csv('percentages/MarkovMedium/9.csv')\n",
    "\n",
    "trace10 = go.Scatter(\n",
    "                    x=df['Input'], y=df['Percentage'], # Data\n",
    "                    mode='markers', \n",
    "                    name='1000000',\n",
    "                    line = dict(color = ('#0c463e'))\n",
    "                   )\n",
    "\n",
    "\n",
    "\n",
    "\n",
    "layout = go.Layout(title='Medium Self Loop/Frequency',\n",
    "                   plot_bgcolor='rgb(255, 255,255)',\n",
    "                   xaxis=dict(title='Input'),\n",
    "                   yaxis=dict(title='Frequency (%)'))\n",
    "\n",
    "# fig = go.Figure(data=[trace1], layout=layout)\n",
    "\n",
    "fig = go.Figure(data=[trace1, trace2, trace3, trace4, trace5, trace6, trace7, trace8, trace9, trace10], layout=layout)\n",
    "\n",
    "# Plot data in the notebook\n",
    "iplot(fig)"
   ]
  },
  {
   "cell_type": "code",
   "execution_count": 31,
   "metadata": {},
   "outputs": [
    {
     "data": {
      "application/vnd.plotly.v1+json": {
       "config": {
        "linkText": "Export to plot.ly",
        "plotlyServerURL": "https://plot.ly",
        "showLink": true
       },
       "data": [
        {
         "line": {
          "color": "rgb(253, 127, 40)"
         },
         "mode": "lines",
         "name": "Splay",
         "type": "scatter",
         "uid": "065c1d39-0a19-478e-8c94-f973a02e93de",
         "x": [
          10000,
          20000,
          30000,
          40000,
          50000,
          60000,
          70000,
          80000,
          90000,
          100000
         ],
         "y": [
          33393,
          67653,
          100788,
          136149,
          168158,
          201935,
          235054,
          268171,
          304144,
          338755
         ]
        },
        {
         "line": {
          "color": "rgb(50, 158, 52)"
         },
         "mode": "lines",
         "name": "Transpose",
         "type": "scatter",
         "uid": "49ede0dd-bde5-43cc-b041-29052b923532",
         "x": [
          10000,
          20000,
          30000,
          40000,
          50000,
          60000,
          70000,
          80000,
          90000,
          100000
         ],
         "y": [
          9186,
          18386,
          27583,
          36999,
          45935,
          55203,
          64279,
          73599,
          82830,
          92193
         ]
        },
        {
         "line": {
          "color": "rgb(211, 41, 47)"
         },
         "mode": "lines",
         "name": "2-in-a-row",
         "type": "scatter",
         "uid": "5062cf9c-27ab-4d0e-ae10-6cf5ae8449d0",
         "x": [
          10000,
          20000,
          30000,
          40000,
          50000,
          60000,
          70000,
          80000,
          90000,
          100000
         ],
         "y": [
          8225,
          17055,
          25227,
          33242,
          42307,
          50268,
          57876,
          66875,
          75228,
          83954
         ]
        }
       ],
       "layout": {
        "plot_bgcolor": "rgb(255, 255,255)",
        "title": "Rotation Cost: Medium Self Loop",
        "xaxis": {
         "title": "Sequence Length"
        },
        "yaxis": {
         "title": "Rotation Cost"
        }
       }
      },
      "text/html": [
       "<div id=\"0d1b4118-15af-4026-a4c3-c768e7f926ff\" style=\"height: 525px; width: 100%;\" class=\"plotly-graph-div\"></div><script type=\"text/javascript\">require([\"plotly\"], function(Plotly) { window.PLOTLYENV=window.PLOTLYENV || {};window.PLOTLYENV.BASE_URL=\"https://plot.ly\";Plotly.newPlot(\"0d1b4118-15af-4026-a4c3-c768e7f926ff\", [{\"line\": {\"color\": \"rgb(253, 127, 40)\"}, \"mode\": \"lines\", \"name\": \"Splay\", \"x\": [10000, 20000, 30000, 40000, 50000, 60000, 70000, 80000, 90000, 100000], \"y\": [33393, 67653, 100788, 136149, 168158, 201935, 235054, 268171, 304144, 338755], \"type\": \"scatter\", \"uid\": \"065c1d39-0a19-478e-8c94-f973a02e93de\"}, {\"line\": {\"color\": \"rgb(50, 158, 52)\"}, \"mode\": \"lines\", \"name\": \"Transpose\", \"x\": [10000, 20000, 30000, 40000, 50000, 60000, 70000, 80000, 90000, 100000], \"y\": [9186, 18386, 27583, 36999, 45935, 55203, 64279, 73599, 82830, 92193], \"type\": \"scatter\", \"uid\": \"49ede0dd-bde5-43cc-b041-29052b923532\"}, {\"line\": {\"color\": \"rgb(211, 41, 47)\"}, \"mode\": \"lines\", \"name\": \"2-in-a-row\", \"x\": [10000, 20000, 30000, 40000, 50000, 60000, 70000, 80000, 90000, 100000], \"y\": [8225, 17055, 25227, 33242, 42307, 50268, 57876, 66875, 75228, 83954], \"type\": \"scatter\", \"uid\": \"5062cf9c-27ab-4d0e-ae10-6cf5ae8449d0\"}], {\"plot_bgcolor\": \"rgb(255, 255,255)\", \"title\": \"Rotation Cost: Medium Self Loop\", \"xaxis\": {\"title\": \"Sequence Length\"}, \"yaxis\": {\"title\": \"Rotation Cost\"}}, {\"showLink\": true, \"linkText\": \"Export to plot.ly\", \"plotlyServerURL\": \"https://plot.ly\"})});</script><script type=\"text/javascript\">window.addEventListener(\"resize\", function(){window._Plotly.Plots.resize(document.getElementById(\"0d1b4118-15af-4026-a4c3-c768e7f926ff\"));});</script>"
      ],
      "text/vnd.plotly.v1+html": [
       "<div id=\"0d1b4118-15af-4026-a4c3-c768e7f926ff\" style=\"height: 525px; width: 100%;\" class=\"plotly-graph-div\"></div><script type=\"text/javascript\">require([\"plotly\"], function(Plotly) { window.PLOTLYENV=window.PLOTLYENV || {};window.PLOTLYENV.BASE_URL=\"https://plot.ly\";Plotly.newPlot(\"0d1b4118-15af-4026-a4c3-c768e7f926ff\", [{\"line\": {\"color\": \"rgb(253, 127, 40)\"}, \"mode\": \"lines\", \"name\": \"Splay\", \"x\": [10000, 20000, 30000, 40000, 50000, 60000, 70000, 80000, 90000, 100000], \"y\": [33393, 67653, 100788, 136149, 168158, 201935, 235054, 268171, 304144, 338755], \"type\": \"scatter\", \"uid\": \"065c1d39-0a19-478e-8c94-f973a02e93de\"}, {\"line\": {\"color\": \"rgb(50, 158, 52)\"}, \"mode\": \"lines\", \"name\": \"Transpose\", \"x\": [10000, 20000, 30000, 40000, 50000, 60000, 70000, 80000, 90000, 100000], \"y\": [9186, 18386, 27583, 36999, 45935, 55203, 64279, 73599, 82830, 92193], \"type\": \"scatter\", \"uid\": \"49ede0dd-bde5-43cc-b041-29052b923532\"}, {\"line\": {\"color\": \"rgb(211, 41, 47)\"}, \"mode\": \"lines\", \"name\": \"2-in-a-row\", \"x\": [10000, 20000, 30000, 40000, 50000, 60000, 70000, 80000, 90000, 100000], \"y\": [8225, 17055, 25227, 33242, 42307, 50268, 57876, 66875, 75228, 83954], \"type\": \"scatter\", \"uid\": \"5062cf9c-27ab-4d0e-ae10-6cf5ae8449d0\"}], {\"plot_bgcolor\": \"rgb(255, 255,255)\", \"title\": \"Rotation Cost: Medium Self Loop\", \"xaxis\": {\"title\": \"Sequence Length\"}, \"yaxis\": {\"title\": \"Rotation Cost\"}}, {\"showLink\": true, \"linkText\": \"Export to plot.ly\", \"plotlyServerURL\": \"https://plot.ly\"})});</script><script type=\"text/javascript\">window.addEventListener(\"resize\", function(){window._Plotly.Plots.resize(document.getElementById(\"0d1b4118-15af-4026-a4c3-c768e7f926ff\"));});</script>"
      ]
     },
     "metadata": {},
     "output_type": "display_data"
    },
    {
     "data": {
      "application/vnd.plotly.v1+json": {
       "config": {
        "linkText": "Export to plot.ly",
        "plotlyServerURL": "https://plot.ly",
        "showLink": true
       },
       "data": [
        {
         "colorscale": [
          [
           0,
           "#000000"
          ],
          [
           0.5,
           "#FFFFFF"
          ],
          [
           1,
           "#ffffff"
          ]
         ],
         "hoverinfo": "none",
         "opacity": 0.75,
         "showscale": false,
         "type": "heatmap",
         "uid": "2b55c04b-2d72-4935-a6c9-8536e447bd28",
         "z": [
          [
           0,
           0,
           0,
           0
          ],
          [
           0.5,
           0.5,
           0.5,
           0.5
          ],
          [
           1,
           1,
           1,
           1
          ],
          [
           0.5,
           0.5,
           0.5,
           0.5
          ],
          [
           1,
           1,
           1,
           1
          ],
          [
           0.5,
           0.5,
           0.5,
           0.5
          ],
          [
           1,
           1,
           1,
           1
          ],
          [
           0.5,
           0.5,
           0.5,
           0.5
          ],
          [
           1,
           1,
           1,
           1
          ],
          [
           0.5,
           0.5,
           0.5,
           0.5
          ],
          [
           1,
           1,
           1,
           1
          ]
         ]
        }
       ],
       "layout": {
        "annotations": [
         {
          "align": "left",
          "font": {
           "color": "#ffffff"
          },
          "showarrow": false,
          "text": "<b>Sequence Length</b>",
          "x": -0.45,
          "xanchor": "left",
          "xref": "x",
          "y": 0,
          "yref": "y"
         },
         {
          "align": "left",
          "font": {
           "color": "#ffffff"
          },
          "showarrow": false,
          "text": "<b>Splay</b>",
          "x": 0.55,
          "xanchor": "left",
          "xref": "x",
          "y": 0,
          "yref": "y"
         },
         {
          "align": "left",
          "font": {
           "color": "#ffffff"
          },
          "showarrow": false,
          "text": "<b>Transpose</b>",
          "x": 1.55,
          "xanchor": "left",
          "xref": "x",
          "y": 0,
          "yref": "y"
         },
         {
          "align": "left",
          "font": {
           "color": "#ffffff"
          },
          "showarrow": false,
          "text": "<b>2-in-a-Row</b>",
          "x": 2.55,
          "xanchor": "left",
          "xref": "x",
          "y": 0,
          "yref": "y"
         },
         {
          "align": "left",
          "font": {
           "color": "#000000"
          },
          "showarrow": false,
          "text": "10000",
          "x": -0.45,
          "xanchor": "left",
          "xref": "x",
          "y": 1,
          "yref": "y"
         },
         {
          "align": "left",
          "font": {
           "color": "#000000"
          },
          "showarrow": false,
          "text": "33393",
          "x": 0.55,
          "xanchor": "left",
          "xref": "x",
          "y": 1,
          "yref": "y"
         },
         {
          "align": "left",
          "font": {
           "color": "#000000"
          },
          "showarrow": false,
          "text": "9186",
          "x": 1.55,
          "xanchor": "left",
          "xref": "x",
          "y": 1,
          "yref": "y"
         },
         {
          "align": "left",
          "font": {
           "color": "#000000"
          },
          "showarrow": false,
          "text": "8225",
          "x": 2.55,
          "xanchor": "left",
          "xref": "x",
          "y": 1,
          "yref": "y"
         },
         {
          "align": "left",
          "font": {
           "color": "#000000"
          },
          "showarrow": false,
          "text": "20000",
          "x": -0.45,
          "xanchor": "left",
          "xref": "x",
          "y": 2,
          "yref": "y"
         },
         {
          "align": "left",
          "font": {
           "color": "#000000"
          },
          "showarrow": false,
          "text": "67653",
          "x": 0.55,
          "xanchor": "left",
          "xref": "x",
          "y": 2,
          "yref": "y"
         },
         {
          "align": "left",
          "font": {
           "color": "#000000"
          },
          "showarrow": false,
          "text": "18386",
          "x": 1.55,
          "xanchor": "left",
          "xref": "x",
          "y": 2,
          "yref": "y"
         },
         {
          "align": "left",
          "font": {
           "color": "#000000"
          },
          "showarrow": false,
          "text": "17055",
          "x": 2.55,
          "xanchor": "left",
          "xref": "x",
          "y": 2,
          "yref": "y"
         },
         {
          "align": "left",
          "font": {
           "color": "#000000"
          },
          "showarrow": false,
          "text": "30000",
          "x": -0.45,
          "xanchor": "left",
          "xref": "x",
          "y": 3,
          "yref": "y"
         },
         {
          "align": "left",
          "font": {
           "color": "#000000"
          },
          "showarrow": false,
          "text": "100788",
          "x": 0.55,
          "xanchor": "left",
          "xref": "x",
          "y": 3,
          "yref": "y"
         },
         {
          "align": "left",
          "font": {
           "color": "#000000"
          },
          "showarrow": false,
          "text": "27583",
          "x": 1.55,
          "xanchor": "left",
          "xref": "x",
          "y": 3,
          "yref": "y"
         },
         {
          "align": "left",
          "font": {
           "color": "#000000"
          },
          "showarrow": false,
          "text": "25227",
          "x": 2.55,
          "xanchor": "left",
          "xref": "x",
          "y": 3,
          "yref": "y"
         },
         {
          "align": "left",
          "font": {
           "color": "#000000"
          },
          "showarrow": false,
          "text": "40000",
          "x": -0.45,
          "xanchor": "left",
          "xref": "x",
          "y": 4,
          "yref": "y"
         },
         {
          "align": "left",
          "font": {
           "color": "#000000"
          },
          "showarrow": false,
          "text": "136149",
          "x": 0.55,
          "xanchor": "left",
          "xref": "x",
          "y": 4,
          "yref": "y"
         },
         {
          "align": "left",
          "font": {
           "color": "#000000"
          },
          "showarrow": false,
          "text": "36999",
          "x": 1.55,
          "xanchor": "left",
          "xref": "x",
          "y": 4,
          "yref": "y"
         },
         {
          "align": "left",
          "font": {
           "color": "#000000"
          },
          "showarrow": false,
          "text": "33242",
          "x": 2.55,
          "xanchor": "left",
          "xref": "x",
          "y": 4,
          "yref": "y"
         },
         {
          "align": "left",
          "font": {
           "color": "#000000"
          },
          "showarrow": false,
          "text": "50000",
          "x": -0.45,
          "xanchor": "left",
          "xref": "x",
          "y": 5,
          "yref": "y"
         },
         {
          "align": "left",
          "font": {
           "color": "#000000"
          },
          "showarrow": false,
          "text": "168158",
          "x": 0.55,
          "xanchor": "left",
          "xref": "x",
          "y": 5,
          "yref": "y"
         },
         {
          "align": "left",
          "font": {
           "color": "#000000"
          },
          "showarrow": false,
          "text": "45935",
          "x": 1.55,
          "xanchor": "left",
          "xref": "x",
          "y": 5,
          "yref": "y"
         },
         {
          "align": "left",
          "font": {
           "color": "#000000"
          },
          "showarrow": false,
          "text": "42307",
          "x": 2.55,
          "xanchor": "left",
          "xref": "x",
          "y": 5,
          "yref": "y"
         },
         {
          "align": "left",
          "font": {
           "color": "#000000"
          },
          "showarrow": false,
          "text": "60000",
          "x": -0.45,
          "xanchor": "left",
          "xref": "x",
          "y": 6,
          "yref": "y"
         },
         {
          "align": "left",
          "font": {
           "color": "#000000"
          },
          "showarrow": false,
          "text": "201935",
          "x": 0.55,
          "xanchor": "left",
          "xref": "x",
          "y": 6,
          "yref": "y"
         },
         {
          "align": "left",
          "font": {
           "color": "#000000"
          },
          "showarrow": false,
          "text": "55203",
          "x": 1.55,
          "xanchor": "left",
          "xref": "x",
          "y": 6,
          "yref": "y"
         },
         {
          "align": "left",
          "font": {
           "color": "#000000"
          },
          "showarrow": false,
          "text": "50268",
          "x": 2.55,
          "xanchor": "left",
          "xref": "x",
          "y": 6,
          "yref": "y"
         },
         {
          "align": "left",
          "font": {
           "color": "#000000"
          },
          "showarrow": false,
          "text": "70000",
          "x": -0.45,
          "xanchor": "left",
          "xref": "x",
          "y": 7,
          "yref": "y"
         },
         {
          "align": "left",
          "font": {
           "color": "#000000"
          },
          "showarrow": false,
          "text": "235054",
          "x": 0.55,
          "xanchor": "left",
          "xref": "x",
          "y": 7,
          "yref": "y"
         },
         {
          "align": "left",
          "font": {
           "color": "#000000"
          },
          "showarrow": false,
          "text": "64279",
          "x": 1.55,
          "xanchor": "left",
          "xref": "x",
          "y": 7,
          "yref": "y"
         },
         {
          "align": "left",
          "font": {
           "color": "#000000"
          },
          "showarrow": false,
          "text": "57876",
          "x": 2.55,
          "xanchor": "left",
          "xref": "x",
          "y": 7,
          "yref": "y"
         },
         {
          "align": "left",
          "font": {
           "color": "#000000"
          },
          "showarrow": false,
          "text": "80000",
          "x": -0.45,
          "xanchor": "left",
          "xref": "x",
          "y": 8,
          "yref": "y"
         },
         {
          "align": "left",
          "font": {
           "color": "#000000"
          },
          "showarrow": false,
          "text": "268171",
          "x": 0.55,
          "xanchor": "left",
          "xref": "x",
          "y": 8,
          "yref": "y"
         },
         {
          "align": "left",
          "font": {
           "color": "#000000"
          },
          "showarrow": false,
          "text": "73599",
          "x": 1.55,
          "xanchor": "left",
          "xref": "x",
          "y": 8,
          "yref": "y"
         },
         {
          "align": "left",
          "font": {
           "color": "#000000"
          },
          "showarrow": false,
          "text": "66875",
          "x": 2.55,
          "xanchor": "left",
          "xref": "x",
          "y": 8,
          "yref": "y"
         },
         {
          "align": "left",
          "font": {
           "color": "#000000"
          },
          "showarrow": false,
          "text": "90000",
          "x": -0.45,
          "xanchor": "left",
          "xref": "x",
          "y": 9,
          "yref": "y"
         },
         {
          "align": "left",
          "font": {
           "color": "#000000"
          },
          "showarrow": false,
          "text": "304144",
          "x": 0.55,
          "xanchor": "left",
          "xref": "x",
          "y": 9,
          "yref": "y"
         },
         {
          "align": "left",
          "font": {
           "color": "#000000"
          },
          "showarrow": false,
          "text": "82830",
          "x": 1.55,
          "xanchor": "left",
          "xref": "x",
          "y": 9,
          "yref": "y"
         },
         {
          "align": "left",
          "font": {
           "color": "#000000"
          },
          "showarrow": false,
          "text": "75228",
          "x": 2.55,
          "xanchor": "left",
          "xref": "x",
          "y": 9,
          "yref": "y"
         },
         {
          "align": "left",
          "font": {
           "color": "#000000"
          },
          "showarrow": false,
          "text": "100000",
          "x": -0.45,
          "xanchor": "left",
          "xref": "x",
          "y": 10,
          "yref": "y"
         },
         {
          "align": "left",
          "font": {
           "color": "#000000"
          },
          "showarrow": false,
          "text": "338755",
          "x": 0.55,
          "xanchor": "left",
          "xref": "x",
          "y": 10,
          "yref": "y"
         },
         {
          "align": "left",
          "font": {
           "color": "#000000"
          },
          "showarrow": false,
          "text": "92193",
          "x": 1.55,
          "xanchor": "left",
          "xref": "x",
          "y": 10,
          "yref": "y"
         },
         {
          "align": "left",
          "font": {
           "color": "#000000"
          },
          "showarrow": false,
          "text": "83954",
          "x": 2.55,
          "xanchor": "left",
          "xref": "x",
          "y": 10,
          "yref": "y"
         }
        ],
        "height": 380,
        "margin": {
         "b": 0,
         "l": 0,
         "r": 0,
         "t": 0
        },
        "xaxis": {
         "dtick": 1,
         "gridwidth": 2,
         "showticklabels": false,
         "tick0": -0.5,
         "ticks": "",
         "zeroline": false
        },
        "yaxis": {
         "autorange": "reversed",
         "dtick": 1,
         "gridwidth": 2,
         "showticklabels": false,
         "tick0": 0.5,
         "ticks": "",
         "zeroline": false
        }
       }
      },
      "text/html": [
       "<div id=\"b8efd1e6-ccdc-4646-b58b-9784480da6d7\" style=\"height: 380px; width: 100%;\" class=\"plotly-graph-div\"></div><script type=\"text/javascript\">require([\"plotly\"], function(Plotly) { window.PLOTLYENV=window.PLOTLYENV || {};window.PLOTLYENV.BASE_URL=\"https://plot.ly\";Plotly.newPlot(\"b8efd1e6-ccdc-4646-b58b-9784480da6d7\", [{\"colorscale\": [[0, \"#000000\"], [0.5, \"#FFFFFF\"], [1, \"#ffffff\"]], \"hoverinfo\": \"none\", \"opacity\": 0.75, \"showscale\": false, \"z\": [[0, 0, 0, 0], [0.5, 0.5, 0.5, 0.5], [1, 1, 1, 1], [0.5, 0.5, 0.5, 0.5], [1, 1, 1, 1], [0.5, 0.5, 0.5, 0.5], [1, 1, 1, 1], [0.5, 0.5, 0.5, 0.5], [1, 1, 1, 1], [0.5, 0.5, 0.5, 0.5], [1, 1, 1, 1]], \"type\": \"heatmap\", \"uid\": \"2b55c04b-2d72-4935-a6c9-8536e447bd28\"}], {\"annotations\": [{\"align\": \"left\", \"font\": {\"color\": \"#ffffff\"}, \"showarrow\": false, \"text\": \"<b>Sequence Length</b>\", \"x\": -0.45, \"xanchor\": \"left\", \"xref\": \"x\", \"y\": 0, \"yref\": \"y\"}, {\"align\": \"left\", \"font\": {\"color\": \"#ffffff\"}, \"showarrow\": false, \"text\": \"<b>Splay</b>\", \"x\": 0.55, \"xanchor\": \"left\", \"xref\": \"x\", \"y\": 0, \"yref\": \"y\"}, {\"align\": \"left\", \"font\": {\"color\": \"#ffffff\"}, \"showarrow\": false, \"text\": \"<b>Transpose</b>\", \"x\": 1.55, \"xanchor\": \"left\", \"xref\": \"x\", \"y\": 0, \"yref\": \"y\"}, {\"align\": \"left\", \"font\": {\"color\": \"#ffffff\"}, \"showarrow\": false, \"text\": \"<b>2-in-a-Row</b>\", \"x\": 2.55, \"xanchor\": \"left\", \"xref\": \"x\", \"y\": 0, \"yref\": \"y\"}, {\"align\": \"left\", \"font\": {\"color\": \"#000000\"}, \"showarrow\": false, \"text\": \"10000\", \"x\": -0.45, \"xanchor\": \"left\", \"xref\": \"x\", \"y\": 1, \"yref\": \"y\"}, {\"align\": \"left\", \"font\": {\"color\": \"#000000\"}, \"showarrow\": false, \"text\": \"33393\", \"x\": 0.55, \"xanchor\": \"left\", \"xref\": \"x\", \"y\": 1, \"yref\": \"y\"}, {\"align\": \"left\", \"font\": {\"color\": \"#000000\"}, \"showarrow\": false, \"text\": \"9186\", \"x\": 1.55, \"xanchor\": \"left\", \"xref\": \"x\", \"y\": 1, \"yref\": \"y\"}, {\"align\": \"left\", \"font\": {\"color\": \"#000000\"}, \"showarrow\": false, \"text\": \"8225\", \"x\": 2.55, \"xanchor\": \"left\", \"xref\": \"x\", \"y\": 1, \"yref\": \"y\"}, {\"align\": \"left\", \"font\": {\"color\": \"#000000\"}, \"showarrow\": false, \"text\": \"20000\", \"x\": -0.45, \"xanchor\": \"left\", \"xref\": \"x\", \"y\": 2, \"yref\": \"y\"}, {\"align\": \"left\", \"font\": {\"color\": \"#000000\"}, \"showarrow\": false, \"text\": \"67653\", \"x\": 0.55, \"xanchor\": \"left\", \"xref\": \"x\", \"y\": 2, \"yref\": \"y\"}, {\"align\": \"left\", \"font\": {\"color\": \"#000000\"}, \"showarrow\": false, \"text\": \"18386\", \"x\": 1.55, \"xanchor\": \"left\", \"xref\": \"x\", \"y\": 2, \"yref\": \"y\"}, {\"align\": \"left\", \"font\": {\"color\": \"#000000\"}, \"showarrow\": false, \"text\": \"17055\", \"x\": 2.55, \"xanchor\": \"left\", \"xref\": \"x\", \"y\": 2, \"yref\": \"y\"}, {\"align\": \"left\", \"font\": {\"color\": \"#000000\"}, \"showarrow\": false, \"text\": \"30000\", \"x\": -0.45, \"xanchor\": \"left\", \"xref\": \"x\", \"y\": 3, \"yref\": \"y\"}, {\"align\": \"left\", \"font\": {\"color\": \"#000000\"}, \"showarrow\": false, \"text\": \"100788\", \"x\": 0.55, \"xanchor\": \"left\", \"xref\": \"x\", \"y\": 3, \"yref\": \"y\"}, {\"align\": \"left\", \"font\": {\"color\": \"#000000\"}, \"showarrow\": false, \"text\": \"27583\", \"x\": 1.55, \"xanchor\": \"left\", \"xref\": \"x\", \"y\": 3, \"yref\": \"y\"}, {\"align\": \"left\", \"font\": {\"color\": \"#000000\"}, \"showarrow\": false, \"text\": \"25227\", \"x\": 2.55, \"xanchor\": \"left\", \"xref\": \"x\", \"y\": 3, \"yref\": \"y\"}, {\"align\": \"left\", \"font\": {\"color\": \"#000000\"}, \"showarrow\": false, \"text\": \"40000\", \"x\": -0.45, \"xanchor\": \"left\", \"xref\": \"x\", \"y\": 4, \"yref\": \"y\"}, {\"align\": \"left\", \"font\": {\"color\": \"#000000\"}, \"showarrow\": false, \"text\": \"136149\", \"x\": 0.55, \"xanchor\": \"left\", \"xref\": \"x\", \"y\": 4, \"yref\": \"y\"}, {\"align\": \"left\", \"font\": {\"color\": \"#000000\"}, \"showarrow\": false, \"text\": \"36999\", \"x\": 1.55, \"xanchor\": \"left\", \"xref\": \"x\", \"y\": 4, \"yref\": \"y\"}, {\"align\": \"left\", \"font\": {\"color\": \"#000000\"}, \"showarrow\": false, \"text\": \"33242\", \"x\": 2.55, \"xanchor\": \"left\", \"xref\": \"x\", \"y\": 4, \"yref\": \"y\"}, {\"align\": \"left\", \"font\": {\"color\": \"#000000\"}, \"showarrow\": false, \"text\": \"50000\", \"x\": -0.45, \"xanchor\": \"left\", \"xref\": \"x\", \"y\": 5, \"yref\": \"y\"}, {\"align\": \"left\", \"font\": {\"color\": \"#000000\"}, \"showarrow\": false, \"text\": \"168158\", \"x\": 0.55, \"xanchor\": \"left\", \"xref\": \"x\", \"y\": 5, \"yref\": \"y\"}, {\"align\": \"left\", \"font\": {\"color\": \"#000000\"}, \"showarrow\": false, \"text\": \"45935\", \"x\": 1.55, \"xanchor\": \"left\", \"xref\": \"x\", \"y\": 5, \"yref\": \"y\"}, {\"align\": \"left\", \"font\": {\"color\": \"#000000\"}, \"showarrow\": false, \"text\": \"42307\", \"x\": 2.55, \"xanchor\": \"left\", \"xref\": \"x\", \"y\": 5, \"yref\": \"y\"}, {\"align\": \"left\", \"font\": {\"color\": \"#000000\"}, \"showarrow\": false, \"text\": \"60000\", \"x\": -0.45, \"xanchor\": \"left\", \"xref\": \"x\", \"y\": 6, \"yref\": \"y\"}, {\"align\": \"left\", \"font\": {\"color\": \"#000000\"}, \"showarrow\": false, \"text\": \"201935\", \"x\": 0.55, \"xanchor\": \"left\", \"xref\": \"x\", \"y\": 6, \"yref\": \"y\"}, {\"align\": \"left\", \"font\": {\"color\": \"#000000\"}, \"showarrow\": false, \"text\": \"55203\", \"x\": 1.55, \"xanchor\": \"left\", \"xref\": \"x\", \"y\": 6, \"yref\": \"y\"}, {\"align\": \"left\", \"font\": {\"color\": \"#000000\"}, \"showarrow\": false, \"text\": \"50268\", \"x\": 2.55, \"xanchor\": \"left\", \"xref\": \"x\", \"y\": 6, \"yref\": \"y\"}, {\"align\": \"left\", \"font\": {\"color\": \"#000000\"}, \"showarrow\": false, \"text\": \"70000\", \"x\": -0.45, \"xanchor\": \"left\", \"xref\": \"x\", \"y\": 7, \"yref\": \"y\"}, {\"align\": \"left\", \"font\": {\"color\": \"#000000\"}, \"showarrow\": false, \"text\": \"235054\", \"x\": 0.55, \"xanchor\": \"left\", \"xref\": \"x\", \"y\": 7, \"yref\": \"y\"}, {\"align\": \"left\", \"font\": {\"color\": \"#000000\"}, \"showarrow\": false, \"text\": \"64279\", \"x\": 1.55, \"xanchor\": \"left\", \"xref\": \"x\", \"y\": 7, \"yref\": \"y\"}, {\"align\": \"left\", \"font\": {\"color\": \"#000000\"}, \"showarrow\": false, \"text\": \"57876\", \"x\": 2.55, \"xanchor\": \"left\", \"xref\": \"x\", \"y\": 7, \"yref\": \"y\"}, {\"align\": \"left\", \"font\": {\"color\": \"#000000\"}, \"showarrow\": false, \"text\": \"80000\", \"x\": -0.45, \"xanchor\": \"left\", \"xref\": \"x\", \"y\": 8, \"yref\": \"y\"}, {\"align\": \"left\", \"font\": {\"color\": \"#000000\"}, \"showarrow\": false, \"text\": \"268171\", \"x\": 0.55, \"xanchor\": \"left\", \"xref\": \"x\", \"y\": 8, \"yref\": \"y\"}, {\"align\": \"left\", \"font\": {\"color\": \"#000000\"}, \"showarrow\": false, \"text\": \"73599\", \"x\": 1.55, \"xanchor\": \"left\", \"xref\": \"x\", \"y\": 8, \"yref\": \"y\"}, {\"align\": \"left\", \"font\": {\"color\": \"#000000\"}, \"showarrow\": false, \"text\": \"66875\", \"x\": 2.55, \"xanchor\": \"left\", \"xref\": \"x\", \"y\": 8, \"yref\": \"y\"}, {\"align\": \"left\", \"font\": {\"color\": \"#000000\"}, \"showarrow\": false, \"text\": \"90000\", \"x\": -0.45, \"xanchor\": \"left\", \"xref\": \"x\", \"y\": 9, \"yref\": \"y\"}, {\"align\": \"left\", \"font\": {\"color\": \"#000000\"}, \"showarrow\": false, \"text\": \"304144\", \"x\": 0.55, \"xanchor\": \"left\", \"xref\": \"x\", \"y\": 9, \"yref\": \"y\"}, {\"align\": \"left\", \"font\": {\"color\": \"#000000\"}, \"showarrow\": false, \"text\": \"82830\", \"x\": 1.55, \"xanchor\": \"left\", \"xref\": \"x\", \"y\": 9, \"yref\": \"y\"}, {\"align\": \"left\", \"font\": {\"color\": \"#000000\"}, \"showarrow\": false, \"text\": \"75228\", \"x\": 2.55, \"xanchor\": \"left\", \"xref\": \"x\", \"y\": 9, \"yref\": \"y\"}, {\"align\": \"left\", \"font\": {\"color\": \"#000000\"}, \"showarrow\": false, \"text\": \"100000\", \"x\": -0.45, \"xanchor\": \"left\", \"xref\": \"x\", \"y\": 10, \"yref\": \"y\"}, {\"align\": \"left\", \"font\": {\"color\": \"#000000\"}, \"showarrow\": false, \"text\": \"338755\", \"x\": 0.55, \"xanchor\": \"left\", \"xref\": \"x\", \"y\": 10, \"yref\": \"y\"}, {\"align\": \"left\", \"font\": {\"color\": \"#000000\"}, \"showarrow\": false, \"text\": \"92193\", \"x\": 1.55, \"xanchor\": \"left\", \"xref\": \"x\", \"y\": 10, \"yref\": \"y\"}, {\"align\": \"left\", \"font\": {\"color\": \"#000000\"}, \"showarrow\": false, \"text\": \"83954\", \"x\": 2.55, \"xanchor\": \"left\", \"xref\": \"x\", \"y\": 10, \"yref\": \"y\"}], \"height\": 380, \"margin\": {\"b\": 0, \"l\": 0, \"r\": 0, \"t\": 0}, \"xaxis\": {\"dtick\": 1, \"gridwidth\": 2, \"showticklabels\": false, \"tick0\": -0.5, \"ticks\": \"\", \"zeroline\": false}, \"yaxis\": {\"autorange\": \"reversed\", \"dtick\": 1, \"gridwidth\": 2, \"showticklabels\": false, \"tick0\": 0.5, \"ticks\": \"\", \"zeroline\": false}}, {\"showLink\": true, \"linkText\": \"Export to plot.ly\", \"plotlyServerURL\": \"https://plot.ly\"})});</script><script type=\"text/javascript\">window.addEventListener(\"resize\", function(){window._Plotly.Plots.resize(document.getElementById(\"b8efd1e6-ccdc-4646-b58b-9784480da6d7\"));});</script>"
      ],
      "text/vnd.plotly.v1+html": [
       "<div id=\"b8efd1e6-ccdc-4646-b58b-9784480da6d7\" style=\"height: 380px; width: 100%;\" class=\"plotly-graph-div\"></div><script type=\"text/javascript\">require([\"plotly\"], function(Plotly) { window.PLOTLYENV=window.PLOTLYENV || {};window.PLOTLYENV.BASE_URL=\"https://plot.ly\";Plotly.newPlot(\"b8efd1e6-ccdc-4646-b58b-9784480da6d7\", [{\"colorscale\": [[0, \"#000000\"], [0.5, \"#FFFFFF\"], [1, \"#ffffff\"]], \"hoverinfo\": \"none\", \"opacity\": 0.75, \"showscale\": false, \"z\": [[0, 0, 0, 0], [0.5, 0.5, 0.5, 0.5], [1, 1, 1, 1], [0.5, 0.5, 0.5, 0.5], [1, 1, 1, 1], [0.5, 0.5, 0.5, 0.5], [1, 1, 1, 1], [0.5, 0.5, 0.5, 0.5], [1, 1, 1, 1], [0.5, 0.5, 0.5, 0.5], [1, 1, 1, 1]], \"type\": \"heatmap\", \"uid\": \"2b55c04b-2d72-4935-a6c9-8536e447bd28\"}], {\"annotations\": [{\"align\": \"left\", \"font\": {\"color\": \"#ffffff\"}, \"showarrow\": false, \"text\": \"<b>Sequence Length</b>\", \"x\": -0.45, \"xanchor\": \"left\", \"xref\": \"x\", \"y\": 0, \"yref\": \"y\"}, {\"align\": \"left\", \"font\": {\"color\": \"#ffffff\"}, \"showarrow\": false, \"text\": \"<b>Splay</b>\", \"x\": 0.55, \"xanchor\": \"left\", \"xref\": \"x\", \"y\": 0, \"yref\": \"y\"}, {\"align\": \"left\", \"font\": {\"color\": \"#ffffff\"}, \"showarrow\": false, \"text\": \"<b>Transpose</b>\", \"x\": 1.55, \"xanchor\": \"left\", \"xref\": \"x\", \"y\": 0, \"yref\": \"y\"}, {\"align\": \"left\", \"font\": {\"color\": \"#ffffff\"}, \"showarrow\": false, \"text\": \"<b>2-in-a-Row</b>\", \"x\": 2.55, \"xanchor\": \"left\", \"xref\": \"x\", \"y\": 0, \"yref\": \"y\"}, {\"align\": \"left\", \"font\": {\"color\": \"#000000\"}, \"showarrow\": false, \"text\": \"10000\", \"x\": -0.45, \"xanchor\": \"left\", \"xref\": \"x\", \"y\": 1, \"yref\": \"y\"}, {\"align\": \"left\", \"font\": {\"color\": \"#000000\"}, \"showarrow\": false, \"text\": \"33393\", \"x\": 0.55, \"xanchor\": \"left\", \"xref\": \"x\", \"y\": 1, \"yref\": \"y\"}, {\"align\": \"left\", \"font\": {\"color\": \"#000000\"}, \"showarrow\": false, \"text\": \"9186\", \"x\": 1.55, \"xanchor\": \"left\", \"xref\": \"x\", \"y\": 1, \"yref\": \"y\"}, {\"align\": \"left\", \"font\": {\"color\": \"#000000\"}, \"showarrow\": false, \"text\": \"8225\", \"x\": 2.55, \"xanchor\": \"left\", \"xref\": \"x\", \"y\": 1, \"yref\": \"y\"}, {\"align\": \"left\", \"font\": {\"color\": \"#000000\"}, \"showarrow\": false, \"text\": \"20000\", \"x\": -0.45, \"xanchor\": \"left\", \"xref\": \"x\", \"y\": 2, \"yref\": \"y\"}, {\"align\": \"left\", \"font\": {\"color\": \"#000000\"}, \"showarrow\": false, \"text\": \"67653\", \"x\": 0.55, \"xanchor\": \"left\", \"xref\": \"x\", \"y\": 2, \"yref\": \"y\"}, {\"align\": \"left\", \"font\": {\"color\": \"#000000\"}, \"showarrow\": false, \"text\": \"18386\", \"x\": 1.55, \"xanchor\": \"left\", \"xref\": \"x\", \"y\": 2, \"yref\": \"y\"}, {\"align\": \"left\", \"font\": {\"color\": \"#000000\"}, \"showarrow\": false, \"text\": \"17055\", \"x\": 2.55, \"xanchor\": \"left\", \"xref\": \"x\", \"y\": 2, \"yref\": \"y\"}, {\"align\": \"left\", \"font\": {\"color\": \"#000000\"}, \"showarrow\": false, \"text\": \"30000\", \"x\": -0.45, \"xanchor\": \"left\", \"xref\": \"x\", \"y\": 3, \"yref\": \"y\"}, {\"align\": \"left\", \"font\": {\"color\": \"#000000\"}, \"showarrow\": false, \"text\": \"100788\", \"x\": 0.55, \"xanchor\": \"left\", \"xref\": \"x\", \"y\": 3, \"yref\": \"y\"}, {\"align\": \"left\", \"font\": {\"color\": \"#000000\"}, \"showarrow\": false, \"text\": \"27583\", \"x\": 1.55, \"xanchor\": \"left\", \"xref\": \"x\", \"y\": 3, \"yref\": \"y\"}, {\"align\": \"left\", \"font\": {\"color\": \"#000000\"}, \"showarrow\": false, \"text\": \"25227\", \"x\": 2.55, \"xanchor\": \"left\", \"xref\": \"x\", \"y\": 3, \"yref\": \"y\"}, {\"align\": \"left\", \"font\": {\"color\": \"#000000\"}, \"showarrow\": false, \"text\": \"40000\", \"x\": -0.45, \"xanchor\": \"left\", \"xref\": \"x\", \"y\": 4, \"yref\": \"y\"}, {\"align\": \"left\", \"font\": {\"color\": \"#000000\"}, \"showarrow\": false, \"text\": \"136149\", \"x\": 0.55, \"xanchor\": \"left\", \"xref\": \"x\", \"y\": 4, \"yref\": \"y\"}, {\"align\": \"left\", \"font\": {\"color\": \"#000000\"}, \"showarrow\": false, \"text\": \"36999\", \"x\": 1.55, \"xanchor\": \"left\", \"xref\": \"x\", \"y\": 4, \"yref\": \"y\"}, {\"align\": \"left\", \"font\": {\"color\": \"#000000\"}, \"showarrow\": false, \"text\": \"33242\", \"x\": 2.55, \"xanchor\": \"left\", \"xref\": \"x\", \"y\": 4, \"yref\": \"y\"}, {\"align\": \"left\", \"font\": {\"color\": \"#000000\"}, \"showarrow\": false, \"text\": \"50000\", \"x\": -0.45, \"xanchor\": \"left\", \"xref\": \"x\", \"y\": 5, \"yref\": \"y\"}, {\"align\": \"left\", \"font\": {\"color\": \"#000000\"}, \"showarrow\": false, \"text\": \"168158\", \"x\": 0.55, \"xanchor\": \"left\", \"xref\": \"x\", \"y\": 5, \"yref\": \"y\"}, {\"align\": \"left\", \"font\": {\"color\": \"#000000\"}, \"showarrow\": false, \"text\": \"45935\", \"x\": 1.55, \"xanchor\": \"left\", \"xref\": \"x\", \"y\": 5, \"yref\": \"y\"}, {\"align\": \"left\", \"font\": {\"color\": \"#000000\"}, \"showarrow\": false, \"text\": \"42307\", \"x\": 2.55, \"xanchor\": \"left\", \"xref\": \"x\", \"y\": 5, \"yref\": \"y\"}, {\"align\": \"left\", \"font\": {\"color\": \"#000000\"}, \"showarrow\": false, \"text\": \"60000\", \"x\": -0.45, \"xanchor\": \"left\", \"xref\": \"x\", \"y\": 6, \"yref\": \"y\"}, {\"align\": \"left\", \"font\": {\"color\": \"#000000\"}, \"showarrow\": false, \"text\": \"201935\", \"x\": 0.55, \"xanchor\": \"left\", \"xref\": \"x\", \"y\": 6, \"yref\": \"y\"}, {\"align\": \"left\", \"font\": {\"color\": \"#000000\"}, \"showarrow\": false, \"text\": \"55203\", \"x\": 1.55, \"xanchor\": \"left\", \"xref\": \"x\", \"y\": 6, \"yref\": \"y\"}, {\"align\": \"left\", \"font\": {\"color\": \"#000000\"}, \"showarrow\": false, \"text\": \"50268\", \"x\": 2.55, \"xanchor\": \"left\", \"xref\": \"x\", \"y\": 6, \"yref\": \"y\"}, {\"align\": \"left\", \"font\": {\"color\": \"#000000\"}, \"showarrow\": false, \"text\": \"70000\", \"x\": -0.45, \"xanchor\": \"left\", \"xref\": \"x\", \"y\": 7, \"yref\": \"y\"}, {\"align\": \"left\", \"font\": {\"color\": \"#000000\"}, \"showarrow\": false, \"text\": \"235054\", \"x\": 0.55, \"xanchor\": \"left\", \"xref\": \"x\", \"y\": 7, \"yref\": \"y\"}, {\"align\": \"left\", \"font\": {\"color\": \"#000000\"}, \"showarrow\": false, \"text\": \"64279\", \"x\": 1.55, \"xanchor\": \"left\", \"xref\": \"x\", \"y\": 7, \"yref\": \"y\"}, {\"align\": \"left\", \"font\": {\"color\": \"#000000\"}, \"showarrow\": false, \"text\": \"57876\", \"x\": 2.55, \"xanchor\": \"left\", \"xref\": \"x\", \"y\": 7, \"yref\": \"y\"}, {\"align\": \"left\", \"font\": {\"color\": \"#000000\"}, \"showarrow\": false, \"text\": \"80000\", \"x\": -0.45, \"xanchor\": \"left\", \"xref\": \"x\", \"y\": 8, \"yref\": \"y\"}, {\"align\": \"left\", \"font\": {\"color\": \"#000000\"}, \"showarrow\": false, \"text\": \"268171\", \"x\": 0.55, \"xanchor\": \"left\", \"xref\": \"x\", \"y\": 8, \"yref\": \"y\"}, {\"align\": \"left\", \"font\": {\"color\": \"#000000\"}, \"showarrow\": false, \"text\": \"73599\", \"x\": 1.55, \"xanchor\": \"left\", \"xref\": \"x\", \"y\": 8, \"yref\": \"y\"}, {\"align\": \"left\", \"font\": {\"color\": \"#000000\"}, \"showarrow\": false, \"text\": \"66875\", \"x\": 2.55, \"xanchor\": \"left\", \"xref\": \"x\", \"y\": 8, \"yref\": \"y\"}, {\"align\": \"left\", \"font\": {\"color\": \"#000000\"}, \"showarrow\": false, \"text\": \"90000\", \"x\": -0.45, \"xanchor\": \"left\", \"xref\": \"x\", \"y\": 9, \"yref\": \"y\"}, {\"align\": \"left\", \"font\": {\"color\": \"#000000\"}, \"showarrow\": false, \"text\": \"304144\", \"x\": 0.55, \"xanchor\": \"left\", \"xref\": \"x\", \"y\": 9, \"yref\": \"y\"}, {\"align\": \"left\", \"font\": {\"color\": \"#000000\"}, \"showarrow\": false, \"text\": \"82830\", \"x\": 1.55, \"xanchor\": \"left\", \"xref\": \"x\", \"y\": 9, \"yref\": \"y\"}, {\"align\": \"left\", \"font\": {\"color\": \"#000000\"}, \"showarrow\": false, \"text\": \"75228\", \"x\": 2.55, \"xanchor\": \"left\", \"xref\": \"x\", \"y\": 9, \"yref\": \"y\"}, {\"align\": \"left\", \"font\": {\"color\": \"#000000\"}, \"showarrow\": false, \"text\": \"100000\", \"x\": -0.45, \"xanchor\": \"left\", \"xref\": \"x\", \"y\": 10, \"yref\": \"y\"}, {\"align\": \"left\", \"font\": {\"color\": \"#000000\"}, \"showarrow\": false, \"text\": \"338755\", \"x\": 0.55, \"xanchor\": \"left\", \"xref\": \"x\", \"y\": 10, \"yref\": \"y\"}, {\"align\": \"left\", \"font\": {\"color\": \"#000000\"}, \"showarrow\": false, \"text\": \"92193\", \"x\": 1.55, \"xanchor\": \"left\", \"xref\": \"x\", \"y\": 10, \"yref\": \"y\"}, {\"align\": \"left\", \"font\": {\"color\": \"#000000\"}, \"showarrow\": false, \"text\": \"83954\", \"x\": 2.55, \"xanchor\": \"left\", \"xref\": \"x\", \"y\": 10, \"yref\": \"y\"}], \"height\": 380, \"margin\": {\"b\": 0, \"l\": 0, \"r\": 0, \"t\": 0}, \"xaxis\": {\"dtick\": 1, \"gridwidth\": 2, \"showticklabels\": false, \"tick0\": -0.5, \"ticks\": \"\", \"zeroline\": false}, \"yaxis\": {\"autorange\": \"reversed\", \"dtick\": 1, \"gridwidth\": 2, \"showticklabels\": false, \"tick0\": 0.5, \"ticks\": \"\", \"zeroline\": false}}, {\"showLink\": true, \"linkText\": \"Export to plot.ly\", \"plotlyServerURL\": \"https://plot.ly\"})});</script><script type=\"text/javascript\">window.addEventListener(\"resize\", function(){window._Plotly.Plots.resize(document.getElementById(\"b8efd1e6-ccdc-4646-b58b-9784480da6d7\"));});</script>"
      ]
     },
     "metadata": {},
     "output_type": "display_data"
    }
   ],
   "source": [
    "df = pd.read_csv('rotation/mtfMarkovMediumRotationCost.csv')\n",
    "\n",
    "trace1 = go.Scatter(\n",
    "                    x=df['Sequence Length'], y=df['Access Costs'], # Data\n",
    "                    mode='lines', name='Splay',\n",
    "                    line = dict(color = ('rgb(253, 127, 40)'))\n",
    "                   )\n",
    "\n",
    "df = pd.read_csv('rotation/transposeMarkovMediumRotationCost.csv')\n",
    "\n",
    "trace2 = go.Scatter(\n",
    "                    x=df['Sequence Length'], y=df['Access Costs'], # Data\n",
    "                    mode='lines', name='Transpose',\n",
    "                    line = dict(color = ('rgb(50, 158, 52)'))\n",
    "                   )\n",
    "\n",
    "df = pd.read_csv('rotation/kInARowMarkovMediumRotationCost.csv')\n",
    "\n",
    "trace3 = go.Scatter(\n",
    "                    x=df['Sequence Length'], y=df['Access Costs'], # Data\n",
    "                    mode='lines', name='2-in-a-row',\n",
    "                    line = dict(color = ('rgb(211, 41, 47)'))\n",
    "                   )\n",
    "\n",
    "\n",
    "\n",
    "layout = go.Layout(title='Rotation Cost: Medium Self Loop',\n",
    "                   plot_bgcolor='rgb(255, 255,255)',\n",
    "                   xaxis=dict(title='Sequence Length'),\n",
    "                   yaxis=dict(title='Rotation Cost'))\n",
    "\n",
    "fig = go.Figure(data=[trace1, trace2, trace3], layout=layout)\n",
    "\n",
    "# Plot data in the notebook\n",
    "iplot(fig)\n",
    "\n",
    "\n",
    "df = pd.read_csv('table/MarkovMediumRotation.csv')\n",
    "colorscale = [[0, '#000000'],[.5, '#FFFFFF'],[1, '#ffffff']]\n",
    "table = ff.create_table(df, colorscale=colorscale)\n",
    "iplot(table)"
   ]
  },
  {
   "cell_type": "code",
   "execution_count": 32,
   "metadata": {},
   "outputs": [
    {
     "data": {
      "application/vnd.plotly.v1+json": {
       "config": {
        "linkText": "Export to plot.ly",
        "plotlyServerURL": "https://plot.ly",
        "showLink": true
       },
       "data": [
        {
         "line": {
          "color": "rgb(253, 127, 40)"
         },
         "mode": "lines",
         "name": "Splay",
         "type": "scatter",
         "uid": "ea173683-80d0-438e-894c-477afb8b1cb7",
         "x": [
          10000,
          20000,
          30000,
          40000,
          50000,
          60000,
          70000,
          80000,
          90000,
          100000
         ],
         "y": [
          66786,
          135306,
          201576,
          272298,
          336316,
          403870,
          470108,
          536342,
          608288,
          677510
         ]
        },
        {
         "line": {
          "color": "rgb(50, 158, 52)"
         },
         "mode": "lines",
         "name": "Transpose",
         "type": "scatter",
         "uid": "fe881045-1b43-4888-892f-79f67780f054",
         "x": [
          10000,
          20000,
          30000,
          40000,
          50000,
          60000,
          70000,
          80000,
          90000,
          100000
         ],
         "y": [
          88383,
          166385,
          244753,
          331566,
          415362,
          493032,
          581204,
          653642,
          752500,
          838402
         ]
        },
        {
         "line": {
          "color": "rgb(211, 41, 47)"
         },
         "mode": "lines",
         "name": "2-in-a-row",
         "type": "scatter",
         "uid": "68a3bbfc-dfc0-4460-b6cf-800870a789c2",
         "x": [
          10000,
          20000,
          30000,
          40000,
          50000,
          60000,
          70000,
          80000,
          90000,
          100000
         ],
         "y": [
          66935,
          135115,
          201057,
          270370,
          334980,
          401969,
          467200,
          533144,
          603338,
          672108
         ]
        }
       ],
       "layout": {
        "plot_bgcolor": "rgb(255, 255,255)",
        "title": "Total Cost: Medium Self Loop",
        "xaxis": {
         "title": "Sequence Length"
        },
        "yaxis": {
         "title": "Total Cost"
        }
       }
      },
      "text/html": [
       "<div id=\"e13787af-d384-498b-8364-92571a8df5e3\" style=\"height: 525px; width: 100%;\" class=\"plotly-graph-div\"></div><script type=\"text/javascript\">require([\"plotly\"], function(Plotly) { window.PLOTLYENV=window.PLOTLYENV || {};window.PLOTLYENV.BASE_URL=\"https://plot.ly\";Plotly.newPlot(\"e13787af-d384-498b-8364-92571a8df5e3\", [{\"line\": {\"color\": \"rgb(253, 127, 40)\"}, \"mode\": \"lines\", \"name\": \"Splay\", \"x\": [10000, 20000, 30000, 40000, 50000, 60000, 70000, 80000, 90000, 100000], \"y\": [66786, 135306, 201576, 272298, 336316, 403870, 470108, 536342, 608288, 677510], \"type\": \"scatter\", \"uid\": \"ea173683-80d0-438e-894c-477afb8b1cb7\"}, {\"line\": {\"color\": \"rgb(50, 158, 52)\"}, \"mode\": \"lines\", \"name\": \"Transpose\", \"x\": [10000, 20000, 30000, 40000, 50000, 60000, 70000, 80000, 90000, 100000], \"y\": [88383, 166385, 244753, 331566, 415362, 493032, 581204, 653642, 752500, 838402], \"type\": \"scatter\", \"uid\": \"fe881045-1b43-4888-892f-79f67780f054\"}, {\"line\": {\"color\": \"rgb(211, 41, 47)\"}, \"mode\": \"lines\", \"name\": \"2-in-a-row\", \"x\": [10000, 20000, 30000, 40000, 50000, 60000, 70000, 80000, 90000, 100000], \"y\": [66935, 135115, 201057, 270370, 334980, 401969, 467200, 533144, 603338, 672108], \"type\": \"scatter\", \"uid\": \"68a3bbfc-dfc0-4460-b6cf-800870a789c2\"}], {\"plot_bgcolor\": \"rgb(255, 255,255)\", \"title\": \"Total Cost: Medium Self Loop\", \"xaxis\": {\"title\": \"Sequence Length\"}, \"yaxis\": {\"title\": \"Total Cost\"}}, {\"showLink\": true, \"linkText\": \"Export to plot.ly\", \"plotlyServerURL\": \"https://plot.ly\"})});</script><script type=\"text/javascript\">window.addEventListener(\"resize\", function(){window._Plotly.Plots.resize(document.getElementById(\"e13787af-d384-498b-8364-92571a8df5e3\"));});</script>"
      ],
      "text/vnd.plotly.v1+html": [
       "<div id=\"e13787af-d384-498b-8364-92571a8df5e3\" style=\"height: 525px; width: 100%;\" class=\"plotly-graph-div\"></div><script type=\"text/javascript\">require([\"plotly\"], function(Plotly) { window.PLOTLYENV=window.PLOTLYENV || {};window.PLOTLYENV.BASE_URL=\"https://plot.ly\";Plotly.newPlot(\"e13787af-d384-498b-8364-92571a8df5e3\", [{\"line\": {\"color\": \"rgb(253, 127, 40)\"}, \"mode\": \"lines\", \"name\": \"Splay\", \"x\": [10000, 20000, 30000, 40000, 50000, 60000, 70000, 80000, 90000, 100000], \"y\": [66786, 135306, 201576, 272298, 336316, 403870, 470108, 536342, 608288, 677510], \"type\": \"scatter\", \"uid\": \"ea173683-80d0-438e-894c-477afb8b1cb7\"}, {\"line\": {\"color\": \"rgb(50, 158, 52)\"}, \"mode\": \"lines\", \"name\": \"Transpose\", \"x\": [10000, 20000, 30000, 40000, 50000, 60000, 70000, 80000, 90000, 100000], \"y\": [88383, 166385, 244753, 331566, 415362, 493032, 581204, 653642, 752500, 838402], \"type\": \"scatter\", \"uid\": \"fe881045-1b43-4888-892f-79f67780f054\"}, {\"line\": {\"color\": \"rgb(211, 41, 47)\"}, \"mode\": \"lines\", \"name\": \"2-in-a-row\", \"x\": [10000, 20000, 30000, 40000, 50000, 60000, 70000, 80000, 90000, 100000], \"y\": [66935, 135115, 201057, 270370, 334980, 401969, 467200, 533144, 603338, 672108], \"type\": \"scatter\", \"uid\": \"68a3bbfc-dfc0-4460-b6cf-800870a789c2\"}], {\"plot_bgcolor\": \"rgb(255, 255,255)\", \"title\": \"Total Cost: Medium Self Loop\", \"xaxis\": {\"title\": \"Sequence Length\"}, \"yaxis\": {\"title\": \"Total Cost\"}}, {\"showLink\": true, \"linkText\": \"Export to plot.ly\", \"plotlyServerURL\": \"https://plot.ly\"})});</script><script type=\"text/javascript\">window.addEventListener(\"resize\", function(){window._Plotly.Plots.resize(document.getElementById(\"e13787af-d384-498b-8364-92571a8df5e3\"));});</script>"
      ]
     },
     "metadata": {},
     "output_type": "display_data"
    }
   ],
   "source": [
    "df = pd.read_csv('total/mtfMarkovMediumTotalCost.csv')\n",
    "\n",
    "trace1 = go.Scatter(\n",
    "                    x=df['Sequence Length'], y=df['Access Costs'], # Data\n",
    "                    mode='lines', name='Splay',\n",
    "                    line = dict(color = ('rgb(253, 127, 40)'))\n",
    "                   )\n",
    "\n",
    "df = pd.read_csv('total/transposeMarkovMediumTotalCost.csv')\n",
    "\n",
    "trace2 = go.Scatter(\n",
    "                    x=df['Sequence Length'], y=df['Access Costs'], # Data\n",
    "                    mode='lines', name='Transpose',\n",
    "                    line = dict(color = ('rgb(50, 158, 52)'))\n",
    "                   )\n",
    "\n",
    "df = pd.read_csv('total/kInARowMarkovMediumTotalCost.csv')\n",
    "\n",
    "trace3 = go.Scatter(\n",
    "                    x=df['Sequence Length'], y=df['Access Costs'], # Data\n",
    "                    mode='lines', name='2-in-a-row',\n",
    "                    line = dict(color = ('rgb(211, 41, 47)'))\n",
    "                   )\n",
    "\n",
    "\n",
    "\n",
    "layout = go.Layout(title='Total Cost: Medium Self Loop',\n",
    "                   plot_bgcolor='rgb(255, 255,255)',\n",
    "                   xaxis=dict(title='Sequence Length'),\n",
    "                   yaxis=dict(title='Total Cost'))\n",
    "\n",
    "fig = go.Figure(data=[trace1, trace2, trace3], layout=layout)\n",
    "\n",
    "# Plot data in the notebook\n",
    "iplot(fig)\n"
   ]
  },
  {
   "cell_type": "code",
   "execution_count": 33,
   "metadata": {},
   "outputs": [
    {
     "data": {
      "application/vnd.plotly.v1+json": {
       "config": {
        "linkText": "Export to plot.ly",
        "plotlyServerURL": "https://plot.ly",
        "showLink": true
       },
       "data": [
        {
         "line": {
          "color": "rgb(37, 120, 178)"
         },
         "mode": "lines",
         "name": "OPT",
         "type": "scatter",
         "uid": "d963cffb-1de9-482c-9ccc-678695e17846",
         "x": [
          10000,
          20000,
          30000,
          40000,
          50000,
          60000,
          70000,
          80000,
          90000,
          100000
         ],
         "y": [
          461262,
          940087,
          1428694,
          1915217,
          2415435,
          2892406,
          3375753,
          3872688,
          4355747,
          4850280
         ]
        },
        {
         "line": {
          "color": "rgb(253, 127, 40)"
         },
         "mode": "lines",
         "name": "MTF",
         "type": "scatter",
         "uid": "8a50b22a-01f9-46e9-81da-42c473383e45",
         "x": [
          10000,
          20000,
          30000,
          40000,
          50000,
          60000,
          70000,
          80000,
          90000,
          100000
         ],
         "y": [
          451862,
          902562,
          1338009,
          1798487,
          2256277,
          2705675,
          3122579,
          3602125,
          4063608,
          4498173
         ]
        },
        {
         "line": {
          "color": "rgb(50, 158, 52)"
         },
         "mode": "lines",
         "name": "Transpose",
         "type": "scatter",
         "uid": "eb21f711-3818-42a1-96b2-041c9d81bc7e",
         "x": [
          10000,
          20000,
          30000,
          40000,
          50000,
          60000,
          70000,
          80000,
          90000,
          100000
         ],
         "y": [
          493795,
          982882,
          1480616,
          1970450,
          2477966,
          2959950,
          3450626,
          3947804,
          4433496,
          4932159
         ]
        },
        {
         "line": {
          "color": "rgb(211, 41, 47)"
         },
         "mode": "lines",
         "name": "2-in-a-row",
         "type": "scatter",
         "uid": "1f2bfc22-6e3e-4241-a8a1-ac960b1c8d82",
         "x": [
          10000,
          20000,
          30000,
          40000,
          50000,
          60000,
          70000,
          80000,
          90000,
          100000
         ],
         "y": [
          497474,
          990809,
          1476674,
          1982196,
          2465753,
          2971828,
          3457764,
          3951422,
          4447763,
          4947215
         ]
        }
       ],
       "layout": {
        "plot_bgcolor": "rgb(255, 255,255)",
        "title": "List Access Cost: Low Self Loop",
        "xaxis": {
         "title": "Sequence Length"
        },
        "yaxis": {
         "title": "Access Cost"
        }
       }
      },
      "text/html": [
       "<div id=\"b99ae0e0-bfdc-407c-8da0-7e94ca13ce54\" style=\"height: 525px; width: 100%;\" class=\"plotly-graph-div\"></div><script type=\"text/javascript\">require([\"plotly\"], function(Plotly) { window.PLOTLYENV=window.PLOTLYENV || {};window.PLOTLYENV.BASE_URL=\"https://plot.ly\";Plotly.newPlot(\"b99ae0e0-bfdc-407c-8da0-7e94ca13ce54\", [{\"line\": {\"color\": \"rgb(37, 120, 178)\"}, \"mode\": \"lines\", \"name\": \"OPT\", \"x\": [10000, 20000, 30000, 40000, 50000, 60000, 70000, 80000, 90000, 100000], \"y\": [461262, 940087, 1428694, 1915217, 2415435, 2892406, 3375753, 3872688, 4355747, 4850280], \"type\": \"scatter\", \"uid\": \"d963cffb-1de9-482c-9ccc-678695e17846\"}, {\"line\": {\"color\": \"rgb(253, 127, 40)\"}, \"mode\": \"lines\", \"name\": \"MTF\", \"x\": [10000, 20000, 30000, 40000, 50000, 60000, 70000, 80000, 90000, 100000], \"y\": [451862, 902562, 1338009, 1798487, 2256277, 2705675, 3122579, 3602125, 4063608, 4498173], \"type\": \"scatter\", \"uid\": \"8a50b22a-01f9-46e9-81da-42c473383e45\"}, {\"line\": {\"color\": \"rgb(50, 158, 52)\"}, \"mode\": \"lines\", \"name\": \"Transpose\", \"x\": [10000, 20000, 30000, 40000, 50000, 60000, 70000, 80000, 90000, 100000], \"y\": [493795, 982882, 1480616, 1970450, 2477966, 2959950, 3450626, 3947804, 4433496, 4932159], \"type\": \"scatter\", \"uid\": \"eb21f711-3818-42a1-96b2-041c9d81bc7e\"}, {\"line\": {\"color\": \"rgb(211, 41, 47)\"}, \"mode\": \"lines\", \"name\": \"2-in-a-row\", \"x\": [10000, 20000, 30000, 40000, 50000, 60000, 70000, 80000, 90000, 100000], \"y\": [497474, 990809, 1476674, 1982196, 2465753, 2971828, 3457764, 3951422, 4447763, 4947215], \"type\": \"scatter\", \"uid\": \"1f2bfc22-6e3e-4241-a8a1-ac960b1c8d82\"}], {\"plot_bgcolor\": \"rgb(255, 255,255)\", \"title\": \"List Access Cost: Low Self Loop\", \"xaxis\": {\"title\": \"Sequence Length\"}, \"yaxis\": {\"title\": \"Access Cost\"}}, {\"showLink\": true, \"linkText\": \"Export to plot.ly\", \"plotlyServerURL\": \"https://plot.ly\"})});</script><script type=\"text/javascript\">window.addEventListener(\"resize\", function(){window._Plotly.Plots.resize(document.getElementById(\"b99ae0e0-bfdc-407c-8da0-7e94ca13ce54\"));});</script>"
      ],
      "text/vnd.plotly.v1+html": [
       "<div id=\"b99ae0e0-bfdc-407c-8da0-7e94ca13ce54\" style=\"height: 525px; width: 100%;\" class=\"plotly-graph-div\"></div><script type=\"text/javascript\">require([\"plotly\"], function(Plotly) { window.PLOTLYENV=window.PLOTLYENV || {};window.PLOTLYENV.BASE_URL=\"https://plot.ly\";Plotly.newPlot(\"b99ae0e0-bfdc-407c-8da0-7e94ca13ce54\", [{\"line\": {\"color\": \"rgb(37, 120, 178)\"}, \"mode\": \"lines\", \"name\": \"OPT\", \"x\": [10000, 20000, 30000, 40000, 50000, 60000, 70000, 80000, 90000, 100000], \"y\": [461262, 940087, 1428694, 1915217, 2415435, 2892406, 3375753, 3872688, 4355747, 4850280], \"type\": \"scatter\", \"uid\": \"d963cffb-1de9-482c-9ccc-678695e17846\"}, {\"line\": {\"color\": \"rgb(253, 127, 40)\"}, \"mode\": \"lines\", \"name\": \"MTF\", \"x\": [10000, 20000, 30000, 40000, 50000, 60000, 70000, 80000, 90000, 100000], \"y\": [451862, 902562, 1338009, 1798487, 2256277, 2705675, 3122579, 3602125, 4063608, 4498173], \"type\": \"scatter\", \"uid\": \"8a50b22a-01f9-46e9-81da-42c473383e45\"}, {\"line\": {\"color\": \"rgb(50, 158, 52)\"}, \"mode\": \"lines\", \"name\": \"Transpose\", \"x\": [10000, 20000, 30000, 40000, 50000, 60000, 70000, 80000, 90000, 100000], \"y\": [493795, 982882, 1480616, 1970450, 2477966, 2959950, 3450626, 3947804, 4433496, 4932159], \"type\": \"scatter\", \"uid\": \"eb21f711-3818-42a1-96b2-041c9d81bc7e\"}, {\"line\": {\"color\": \"rgb(211, 41, 47)\"}, \"mode\": \"lines\", \"name\": \"2-in-a-row\", \"x\": [10000, 20000, 30000, 40000, 50000, 60000, 70000, 80000, 90000, 100000], \"y\": [497474, 990809, 1476674, 1982196, 2465753, 2971828, 3457764, 3951422, 4447763, 4947215], \"type\": \"scatter\", \"uid\": \"1f2bfc22-6e3e-4241-a8a1-ac960b1c8d82\"}], {\"plot_bgcolor\": \"rgb(255, 255,255)\", \"title\": \"List Access Cost: Low Self Loop\", \"xaxis\": {\"title\": \"Sequence Length\"}, \"yaxis\": {\"title\": \"Access Cost\"}}, {\"showLink\": true, \"linkText\": \"Export to plot.ly\", \"plotlyServerURL\": \"https://plot.ly\"})});</script><script type=\"text/javascript\">window.addEventListener(\"resize\", function(){window._Plotly.Plots.resize(document.getElementById(\"b99ae0e0-bfdc-407c-8da0-7e94ca13ce54\"));});</script>"
      ]
     },
     "metadata": {},
     "output_type": "display_data"
    },
    {
     "data": {
      "application/vnd.plotly.v1+json": {
       "config": {
        "linkText": "Export to plot.ly",
        "plotlyServerURL": "https://plot.ly",
        "showLink": true
       },
       "data": [
        {
         "colorscale": [
          [
           0,
           "#000000"
          ],
          [
           0.5,
           "#FFFFFF"
          ],
          [
           1,
           "#ffffff"
          ]
         ],
         "hoverinfo": "none",
         "opacity": 0.75,
         "showscale": false,
         "type": "heatmap",
         "uid": "26e27a46-729f-471e-965d-1b22fb116dbe",
         "z": [
          [
           0,
           0,
           0,
           0,
           0
          ],
          [
           0.5,
           0.5,
           0.5,
           0.5,
           0.5
          ],
          [
           1,
           1,
           1,
           1,
           1
          ],
          [
           0.5,
           0.5,
           0.5,
           0.5,
           0.5
          ],
          [
           1,
           1,
           1,
           1,
           1
          ],
          [
           0.5,
           0.5,
           0.5,
           0.5,
           0.5
          ],
          [
           1,
           1,
           1,
           1,
           1
          ],
          [
           0.5,
           0.5,
           0.5,
           0.5,
           0.5
          ],
          [
           1,
           1,
           1,
           1,
           1
          ],
          [
           0.5,
           0.5,
           0.5,
           0.5,
           0.5
          ],
          [
           1,
           1,
           1,
           1,
           1
          ]
         ]
        }
       ],
       "layout": {
        "annotations": [
         {
          "align": "left",
          "font": {
           "color": "#ffffff"
          },
          "showarrow": false,
          "text": "<b>Sequence Length</b>",
          "x": -0.45,
          "xanchor": "left",
          "xref": "x",
          "y": 0,
          "yref": "y"
         },
         {
          "align": "left",
          "font": {
           "color": "#ffffff"
          },
          "showarrow": false,
          "text": "<b>OPT</b>",
          "x": 0.55,
          "xanchor": "left",
          "xref": "x",
          "y": 0,
          "yref": "y"
         },
         {
          "align": "left",
          "font": {
           "color": "#ffffff"
          },
          "showarrow": false,
          "text": "<b>MTF</b>",
          "x": 1.55,
          "xanchor": "left",
          "xref": "x",
          "y": 0,
          "yref": "y"
         },
         {
          "align": "left",
          "font": {
           "color": "#ffffff"
          },
          "showarrow": false,
          "text": "<b>Transpose</b>",
          "x": 2.55,
          "xanchor": "left",
          "xref": "x",
          "y": 0,
          "yref": "y"
         },
         {
          "align": "left",
          "font": {
           "color": "#ffffff"
          },
          "showarrow": false,
          "text": "<b>2-in-a-Row</b>",
          "x": 3.55,
          "xanchor": "left",
          "xref": "x",
          "y": 0,
          "yref": "y"
         },
         {
          "align": "left",
          "font": {
           "color": "#000000"
          },
          "showarrow": false,
          "text": "10000",
          "x": -0.45,
          "xanchor": "left",
          "xref": "x",
          "y": 1,
          "yref": "y"
         },
         {
          "align": "left",
          "font": {
           "color": "#000000"
          },
          "showarrow": false,
          "text": "461262",
          "x": 0.55,
          "xanchor": "left",
          "xref": "x",
          "y": 1,
          "yref": "y"
         },
         {
          "align": "left",
          "font": {
           "color": "#000000"
          },
          "showarrow": false,
          "text": "451862",
          "x": 1.55,
          "xanchor": "left",
          "xref": "x",
          "y": 1,
          "yref": "y"
         },
         {
          "align": "left",
          "font": {
           "color": "#000000"
          },
          "showarrow": false,
          "text": "493795",
          "x": 2.55,
          "xanchor": "left",
          "xref": "x",
          "y": 1,
          "yref": "y"
         },
         {
          "align": "left",
          "font": {
           "color": "#000000"
          },
          "showarrow": false,
          "text": "497474",
          "x": 3.55,
          "xanchor": "left",
          "xref": "x",
          "y": 1,
          "yref": "y"
         },
         {
          "align": "left",
          "font": {
           "color": "#000000"
          },
          "showarrow": false,
          "text": "20000",
          "x": -0.45,
          "xanchor": "left",
          "xref": "x",
          "y": 2,
          "yref": "y"
         },
         {
          "align": "left",
          "font": {
           "color": "#000000"
          },
          "showarrow": false,
          "text": "940087",
          "x": 0.55,
          "xanchor": "left",
          "xref": "x",
          "y": 2,
          "yref": "y"
         },
         {
          "align": "left",
          "font": {
           "color": "#000000"
          },
          "showarrow": false,
          "text": "902562",
          "x": 1.55,
          "xanchor": "left",
          "xref": "x",
          "y": 2,
          "yref": "y"
         },
         {
          "align": "left",
          "font": {
           "color": "#000000"
          },
          "showarrow": false,
          "text": "982882",
          "x": 2.55,
          "xanchor": "left",
          "xref": "x",
          "y": 2,
          "yref": "y"
         },
         {
          "align": "left",
          "font": {
           "color": "#000000"
          },
          "showarrow": false,
          "text": "990809",
          "x": 3.55,
          "xanchor": "left",
          "xref": "x",
          "y": 2,
          "yref": "y"
         },
         {
          "align": "left",
          "font": {
           "color": "#000000"
          },
          "showarrow": false,
          "text": "30000",
          "x": -0.45,
          "xanchor": "left",
          "xref": "x",
          "y": 3,
          "yref": "y"
         },
         {
          "align": "left",
          "font": {
           "color": "#000000"
          },
          "showarrow": false,
          "text": "1428694",
          "x": 0.55,
          "xanchor": "left",
          "xref": "x",
          "y": 3,
          "yref": "y"
         },
         {
          "align": "left",
          "font": {
           "color": "#000000"
          },
          "showarrow": false,
          "text": "1338009",
          "x": 1.55,
          "xanchor": "left",
          "xref": "x",
          "y": 3,
          "yref": "y"
         },
         {
          "align": "left",
          "font": {
           "color": "#000000"
          },
          "showarrow": false,
          "text": "1480616",
          "x": 2.55,
          "xanchor": "left",
          "xref": "x",
          "y": 3,
          "yref": "y"
         },
         {
          "align": "left",
          "font": {
           "color": "#000000"
          },
          "showarrow": false,
          "text": "1476674",
          "x": 3.55,
          "xanchor": "left",
          "xref": "x",
          "y": 3,
          "yref": "y"
         },
         {
          "align": "left",
          "font": {
           "color": "#000000"
          },
          "showarrow": false,
          "text": "40000",
          "x": -0.45,
          "xanchor": "left",
          "xref": "x",
          "y": 4,
          "yref": "y"
         },
         {
          "align": "left",
          "font": {
           "color": "#000000"
          },
          "showarrow": false,
          "text": "1915217",
          "x": 0.55,
          "xanchor": "left",
          "xref": "x",
          "y": 4,
          "yref": "y"
         },
         {
          "align": "left",
          "font": {
           "color": "#000000"
          },
          "showarrow": false,
          "text": "1798487",
          "x": 1.55,
          "xanchor": "left",
          "xref": "x",
          "y": 4,
          "yref": "y"
         },
         {
          "align": "left",
          "font": {
           "color": "#000000"
          },
          "showarrow": false,
          "text": "1970450",
          "x": 2.55,
          "xanchor": "left",
          "xref": "x",
          "y": 4,
          "yref": "y"
         },
         {
          "align": "left",
          "font": {
           "color": "#000000"
          },
          "showarrow": false,
          "text": "1982196",
          "x": 3.55,
          "xanchor": "left",
          "xref": "x",
          "y": 4,
          "yref": "y"
         },
         {
          "align": "left",
          "font": {
           "color": "#000000"
          },
          "showarrow": false,
          "text": "50000",
          "x": -0.45,
          "xanchor": "left",
          "xref": "x",
          "y": 5,
          "yref": "y"
         },
         {
          "align": "left",
          "font": {
           "color": "#000000"
          },
          "showarrow": false,
          "text": "2415435",
          "x": 0.55,
          "xanchor": "left",
          "xref": "x",
          "y": 5,
          "yref": "y"
         },
         {
          "align": "left",
          "font": {
           "color": "#000000"
          },
          "showarrow": false,
          "text": "2256277",
          "x": 1.55,
          "xanchor": "left",
          "xref": "x",
          "y": 5,
          "yref": "y"
         },
         {
          "align": "left",
          "font": {
           "color": "#000000"
          },
          "showarrow": false,
          "text": "2477966",
          "x": 2.55,
          "xanchor": "left",
          "xref": "x",
          "y": 5,
          "yref": "y"
         },
         {
          "align": "left",
          "font": {
           "color": "#000000"
          },
          "showarrow": false,
          "text": "2465753",
          "x": 3.55,
          "xanchor": "left",
          "xref": "x",
          "y": 5,
          "yref": "y"
         },
         {
          "align": "left",
          "font": {
           "color": "#000000"
          },
          "showarrow": false,
          "text": "60000",
          "x": -0.45,
          "xanchor": "left",
          "xref": "x",
          "y": 6,
          "yref": "y"
         },
         {
          "align": "left",
          "font": {
           "color": "#000000"
          },
          "showarrow": false,
          "text": "2892406",
          "x": 0.55,
          "xanchor": "left",
          "xref": "x",
          "y": 6,
          "yref": "y"
         },
         {
          "align": "left",
          "font": {
           "color": "#000000"
          },
          "showarrow": false,
          "text": "2705675",
          "x": 1.55,
          "xanchor": "left",
          "xref": "x",
          "y": 6,
          "yref": "y"
         },
         {
          "align": "left",
          "font": {
           "color": "#000000"
          },
          "showarrow": false,
          "text": "2959950",
          "x": 2.55,
          "xanchor": "left",
          "xref": "x",
          "y": 6,
          "yref": "y"
         },
         {
          "align": "left",
          "font": {
           "color": "#000000"
          },
          "showarrow": false,
          "text": "2971828",
          "x": 3.55,
          "xanchor": "left",
          "xref": "x",
          "y": 6,
          "yref": "y"
         },
         {
          "align": "left",
          "font": {
           "color": "#000000"
          },
          "showarrow": false,
          "text": "70000",
          "x": -0.45,
          "xanchor": "left",
          "xref": "x",
          "y": 7,
          "yref": "y"
         },
         {
          "align": "left",
          "font": {
           "color": "#000000"
          },
          "showarrow": false,
          "text": "3375753",
          "x": 0.55,
          "xanchor": "left",
          "xref": "x",
          "y": 7,
          "yref": "y"
         },
         {
          "align": "left",
          "font": {
           "color": "#000000"
          },
          "showarrow": false,
          "text": "3122579",
          "x": 1.55,
          "xanchor": "left",
          "xref": "x",
          "y": 7,
          "yref": "y"
         },
         {
          "align": "left",
          "font": {
           "color": "#000000"
          },
          "showarrow": false,
          "text": "3450626",
          "x": 2.55,
          "xanchor": "left",
          "xref": "x",
          "y": 7,
          "yref": "y"
         },
         {
          "align": "left",
          "font": {
           "color": "#000000"
          },
          "showarrow": false,
          "text": "3457764",
          "x": 3.55,
          "xanchor": "left",
          "xref": "x",
          "y": 7,
          "yref": "y"
         },
         {
          "align": "left",
          "font": {
           "color": "#000000"
          },
          "showarrow": false,
          "text": "80000",
          "x": -0.45,
          "xanchor": "left",
          "xref": "x",
          "y": 8,
          "yref": "y"
         },
         {
          "align": "left",
          "font": {
           "color": "#000000"
          },
          "showarrow": false,
          "text": "3872688",
          "x": 0.55,
          "xanchor": "left",
          "xref": "x",
          "y": 8,
          "yref": "y"
         },
         {
          "align": "left",
          "font": {
           "color": "#000000"
          },
          "showarrow": false,
          "text": "3602125",
          "x": 1.55,
          "xanchor": "left",
          "xref": "x",
          "y": 8,
          "yref": "y"
         },
         {
          "align": "left",
          "font": {
           "color": "#000000"
          },
          "showarrow": false,
          "text": "3947804",
          "x": 2.55,
          "xanchor": "left",
          "xref": "x",
          "y": 8,
          "yref": "y"
         },
         {
          "align": "left",
          "font": {
           "color": "#000000"
          },
          "showarrow": false,
          "text": "3951422",
          "x": 3.55,
          "xanchor": "left",
          "xref": "x",
          "y": 8,
          "yref": "y"
         },
         {
          "align": "left",
          "font": {
           "color": "#000000"
          },
          "showarrow": false,
          "text": "90000",
          "x": -0.45,
          "xanchor": "left",
          "xref": "x",
          "y": 9,
          "yref": "y"
         },
         {
          "align": "left",
          "font": {
           "color": "#000000"
          },
          "showarrow": false,
          "text": "4355747",
          "x": 0.55,
          "xanchor": "left",
          "xref": "x",
          "y": 9,
          "yref": "y"
         },
         {
          "align": "left",
          "font": {
           "color": "#000000"
          },
          "showarrow": false,
          "text": "4063608",
          "x": 1.55,
          "xanchor": "left",
          "xref": "x",
          "y": 9,
          "yref": "y"
         },
         {
          "align": "left",
          "font": {
           "color": "#000000"
          },
          "showarrow": false,
          "text": "4433496",
          "x": 2.55,
          "xanchor": "left",
          "xref": "x",
          "y": 9,
          "yref": "y"
         },
         {
          "align": "left",
          "font": {
           "color": "#000000"
          },
          "showarrow": false,
          "text": "4447763",
          "x": 3.55,
          "xanchor": "left",
          "xref": "x",
          "y": 9,
          "yref": "y"
         },
         {
          "align": "left",
          "font": {
           "color": "#000000"
          },
          "showarrow": false,
          "text": "100000",
          "x": -0.45,
          "xanchor": "left",
          "xref": "x",
          "y": 10,
          "yref": "y"
         },
         {
          "align": "left",
          "font": {
           "color": "#000000"
          },
          "showarrow": false,
          "text": "4850280",
          "x": 0.55,
          "xanchor": "left",
          "xref": "x",
          "y": 10,
          "yref": "y"
         },
         {
          "align": "left",
          "font": {
           "color": "#000000"
          },
          "showarrow": false,
          "text": "4498173",
          "x": 1.55,
          "xanchor": "left",
          "xref": "x",
          "y": 10,
          "yref": "y"
         },
         {
          "align": "left",
          "font": {
           "color": "#000000"
          },
          "showarrow": false,
          "text": "4932159",
          "x": 2.55,
          "xanchor": "left",
          "xref": "x",
          "y": 10,
          "yref": "y"
         },
         {
          "align": "left",
          "font": {
           "color": "#000000"
          },
          "showarrow": false,
          "text": "4947215",
          "x": 3.55,
          "xanchor": "left",
          "xref": "x",
          "y": 10,
          "yref": "y"
         }
        ],
        "height": 380,
        "margin": {
         "b": 0,
         "l": 0,
         "r": 0,
         "t": 0
        },
        "xaxis": {
         "dtick": 1,
         "gridwidth": 2,
         "showticklabels": false,
         "tick0": -0.5,
         "ticks": "",
         "zeroline": false
        },
        "yaxis": {
         "autorange": "reversed",
         "dtick": 1,
         "gridwidth": 2,
         "showticklabels": false,
         "tick0": 0.5,
         "ticks": "",
         "zeroline": false
        }
       }
      },
      "text/html": [
       "<div id=\"c818abb0-13fc-406f-be1c-f4cd7eb9b94e\" style=\"height: 380px; width: 100%;\" class=\"plotly-graph-div\"></div><script type=\"text/javascript\">require([\"plotly\"], function(Plotly) { window.PLOTLYENV=window.PLOTLYENV || {};window.PLOTLYENV.BASE_URL=\"https://plot.ly\";Plotly.newPlot(\"c818abb0-13fc-406f-be1c-f4cd7eb9b94e\", [{\"colorscale\": [[0, \"#000000\"], [0.5, \"#FFFFFF\"], [1, \"#ffffff\"]], \"hoverinfo\": \"none\", \"opacity\": 0.75, \"showscale\": false, \"z\": [[0, 0, 0, 0, 0], [0.5, 0.5, 0.5, 0.5, 0.5], [1, 1, 1, 1, 1], [0.5, 0.5, 0.5, 0.5, 0.5], [1, 1, 1, 1, 1], [0.5, 0.5, 0.5, 0.5, 0.5], [1, 1, 1, 1, 1], [0.5, 0.5, 0.5, 0.5, 0.5], [1, 1, 1, 1, 1], [0.5, 0.5, 0.5, 0.5, 0.5], [1, 1, 1, 1, 1]], \"type\": \"heatmap\", \"uid\": \"26e27a46-729f-471e-965d-1b22fb116dbe\"}], {\"annotations\": [{\"align\": \"left\", \"font\": {\"color\": \"#ffffff\"}, \"showarrow\": false, \"text\": \"<b>Sequence Length</b>\", \"x\": -0.45, \"xanchor\": \"left\", \"xref\": \"x\", \"y\": 0, \"yref\": \"y\"}, {\"align\": \"left\", \"font\": {\"color\": \"#ffffff\"}, \"showarrow\": false, \"text\": \"<b>OPT</b>\", \"x\": 0.55, \"xanchor\": \"left\", \"xref\": \"x\", \"y\": 0, \"yref\": \"y\"}, {\"align\": \"left\", \"font\": {\"color\": \"#ffffff\"}, \"showarrow\": false, \"text\": \"<b>MTF</b>\", \"x\": 1.55, \"xanchor\": \"left\", \"xref\": \"x\", \"y\": 0, \"yref\": \"y\"}, {\"align\": \"left\", \"font\": {\"color\": \"#ffffff\"}, \"showarrow\": false, \"text\": \"<b>Transpose</b>\", \"x\": 2.55, \"xanchor\": \"left\", \"xref\": \"x\", \"y\": 0, \"yref\": \"y\"}, {\"align\": \"left\", \"font\": {\"color\": \"#ffffff\"}, \"showarrow\": false, \"text\": \"<b>2-in-a-Row</b>\", \"x\": 3.55, \"xanchor\": \"left\", \"xref\": \"x\", \"y\": 0, \"yref\": \"y\"}, {\"align\": \"left\", \"font\": {\"color\": \"#000000\"}, \"showarrow\": false, \"text\": \"10000\", \"x\": -0.45, \"xanchor\": \"left\", \"xref\": \"x\", \"y\": 1, \"yref\": \"y\"}, {\"align\": \"left\", \"font\": {\"color\": \"#000000\"}, \"showarrow\": false, \"text\": \"461262\", \"x\": 0.55, \"xanchor\": \"left\", \"xref\": \"x\", \"y\": 1, \"yref\": \"y\"}, {\"align\": \"left\", \"font\": {\"color\": \"#000000\"}, \"showarrow\": false, \"text\": \"451862\", \"x\": 1.55, \"xanchor\": \"left\", \"xref\": \"x\", \"y\": 1, \"yref\": \"y\"}, {\"align\": \"left\", \"font\": {\"color\": \"#000000\"}, \"showarrow\": false, \"text\": \"493795\", \"x\": 2.55, \"xanchor\": \"left\", \"xref\": \"x\", \"y\": 1, \"yref\": \"y\"}, {\"align\": \"left\", \"font\": {\"color\": \"#000000\"}, \"showarrow\": false, \"text\": \"497474\", \"x\": 3.55, \"xanchor\": \"left\", \"xref\": \"x\", \"y\": 1, \"yref\": \"y\"}, {\"align\": \"left\", \"font\": {\"color\": \"#000000\"}, \"showarrow\": false, \"text\": \"20000\", \"x\": -0.45, \"xanchor\": \"left\", \"xref\": \"x\", \"y\": 2, \"yref\": \"y\"}, {\"align\": \"left\", \"font\": {\"color\": \"#000000\"}, \"showarrow\": false, \"text\": \"940087\", \"x\": 0.55, \"xanchor\": \"left\", \"xref\": \"x\", \"y\": 2, \"yref\": \"y\"}, {\"align\": \"left\", \"font\": {\"color\": \"#000000\"}, \"showarrow\": false, \"text\": \"902562\", \"x\": 1.55, \"xanchor\": \"left\", \"xref\": \"x\", \"y\": 2, \"yref\": \"y\"}, {\"align\": \"left\", \"font\": {\"color\": \"#000000\"}, \"showarrow\": false, \"text\": \"982882\", \"x\": 2.55, \"xanchor\": \"left\", \"xref\": \"x\", \"y\": 2, \"yref\": \"y\"}, {\"align\": \"left\", \"font\": {\"color\": \"#000000\"}, \"showarrow\": false, \"text\": \"990809\", \"x\": 3.55, \"xanchor\": \"left\", \"xref\": \"x\", \"y\": 2, \"yref\": \"y\"}, {\"align\": \"left\", \"font\": {\"color\": \"#000000\"}, \"showarrow\": false, \"text\": \"30000\", \"x\": -0.45, \"xanchor\": \"left\", \"xref\": \"x\", \"y\": 3, \"yref\": \"y\"}, {\"align\": \"left\", \"font\": {\"color\": \"#000000\"}, \"showarrow\": false, \"text\": \"1428694\", \"x\": 0.55, \"xanchor\": \"left\", \"xref\": \"x\", \"y\": 3, \"yref\": \"y\"}, {\"align\": \"left\", \"font\": {\"color\": \"#000000\"}, \"showarrow\": false, \"text\": \"1338009\", \"x\": 1.55, \"xanchor\": \"left\", \"xref\": \"x\", \"y\": 3, \"yref\": \"y\"}, {\"align\": \"left\", \"font\": {\"color\": \"#000000\"}, \"showarrow\": false, \"text\": \"1480616\", \"x\": 2.55, \"xanchor\": \"left\", \"xref\": \"x\", \"y\": 3, \"yref\": \"y\"}, {\"align\": \"left\", \"font\": {\"color\": \"#000000\"}, \"showarrow\": false, \"text\": \"1476674\", \"x\": 3.55, \"xanchor\": \"left\", \"xref\": \"x\", \"y\": 3, \"yref\": \"y\"}, {\"align\": \"left\", \"font\": {\"color\": \"#000000\"}, \"showarrow\": false, \"text\": \"40000\", \"x\": -0.45, \"xanchor\": \"left\", \"xref\": \"x\", \"y\": 4, \"yref\": \"y\"}, {\"align\": \"left\", \"font\": {\"color\": \"#000000\"}, \"showarrow\": false, \"text\": \"1915217\", \"x\": 0.55, \"xanchor\": \"left\", \"xref\": \"x\", \"y\": 4, \"yref\": \"y\"}, {\"align\": \"left\", \"font\": {\"color\": \"#000000\"}, \"showarrow\": false, \"text\": \"1798487\", \"x\": 1.55, \"xanchor\": \"left\", \"xref\": \"x\", \"y\": 4, \"yref\": \"y\"}, {\"align\": \"left\", \"font\": {\"color\": \"#000000\"}, \"showarrow\": false, \"text\": \"1970450\", \"x\": 2.55, \"xanchor\": \"left\", \"xref\": \"x\", \"y\": 4, \"yref\": \"y\"}, {\"align\": \"left\", \"font\": {\"color\": \"#000000\"}, \"showarrow\": false, \"text\": \"1982196\", \"x\": 3.55, \"xanchor\": \"left\", \"xref\": \"x\", \"y\": 4, \"yref\": \"y\"}, {\"align\": \"left\", \"font\": {\"color\": \"#000000\"}, \"showarrow\": false, \"text\": \"50000\", \"x\": -0.45, \"xanchor\": \"left\", \"xref\": \"x\", \"y\": 5, \"yref\": \"y\"}, {\"align\": \"left\", \"font\": {\"color\": \"#000000\"}, \"showarrow\": false, \"text\": \"2415435\", \"x\": 0.55, \"xanchor\": \"left\", \"xref\": \"x\", \"y\": 5, \"yref\": \"y\"}, {\"align\": \"left\", \"font\": {\"color\": \"#000000\"}, \"showarrow\": false, \"text\": \"2256277\", \"x\": 1.55, \"xanchor\": \"left\", \"xref\": \"x\", \"y\": 5, \"yref\": \"y\"}, {\"align\": \"left\", \"font\": {\"color\": \"#000000\"}, \"showarrow\": false, \"text\": \"2477966\", \"x\": 2.55, \"xanchor\": \"left\", \"xref\": \"x\", \"y\": 5, \"yref\": \"y\"}, {\"align\": \"left\", \"font\": {\"color\": \"#000000\"}, \"showarrow\": false, \"text\": \"2465753\", \"x\": 3.55, \"xanchor\": \"left\", \"xref\": \"x\", \"y\": 5, \"yref\": \"y\"}, {\"align\": \"left\", \"font\": {\"color\": \"#000000\"}, \"showarrow\": false, \"text\": \"60000\", \"x\": -0.45, \"xanchor\": \"left\", \"xref\": \"x\", \"y\": 6, \"yref\": \"y\"}, {\"align\": \"left\", \"font\": {\"color\": \"#000000\"}, \"showarrow\": false, \"text\": \"2892406\", \"x\": 0.55, \"xanchor\": \"left\", \"xref\": \"x\", \"y\": 6, \"yref\": \"y\"}, {\"align\": \"left\", \"font\": {\"color\": \"#000000\"}, \"showarrow\": false, \"text\": \"2705675\", \"x\": 1.55, \"xanchor\": \"left\", \"xref\": \"x\", \"y\": 6, \"yref\": \"y\"}, {\"align\": \"left\", \"font\": {\"color\": \"#000000\"}, \"showarrow\": false, \"text\": \"2959950\", \"x\": 2.55, \"xanchor\": \"left\", \"xref\": \"x\", \"y\": 6, \"yref\": \"y\"}, {\"align\": \"left\", \"font\": {\"color\": \"#000000\"}, \"showarrow\": false, \"text\": \"2971828\", \"x\": 3.55, \"xanchor\": \"left\", \"xref\": \"x\", \"y\": 6, \"yref\": \"y\"}, {\"align\": \"left\", \"font\": {\"color\": \"#000000\"}, \"showarrow\": false, \"text\": \"70000\", \"x\": -0.45, \"xanchor\": \"left\", \"xref\": \"x\", \"y\": 7, \"yref\": \"y\"}, {\"align\": \"left\", \"font\": {\"color\": \"#000000\"}, \"showarrow\": false, \"text\": \"3375753\", \"x\": 0.55, \"xanchor\": \"left\", \"xref\": \"x\", \"y\": 7, \"yref\": \"y\"}, {\"align\": \"left\", \"font\": {\"color\": \"#000000\"}, \"showarrow\": false, \"text\": \"3122579\", \"x\": 1.55, \"xanchor\": \"left\", \"xref\": \"x\", \"y\": 7, \"yref\": \"y\"}, {\"align\": \"left\", \"font\": {\"color\": \"#000000\"}, \"showarrow\": false, \"text\": \"3450626\", \"x\": 2.55, \"xanchor\": \"left\", \"xref\": \"x\", \"y\": 7, \"yref\": \"y\"}, {\"align\": \"left\", \"font\": {\"color\": \"#000000\"}, \"showarrow\": false, \"text\": \"3457764\", \"x\": 3.55, \"xanchor\": \"left\", \"xref\": \"x\", \"y\": 7, \"yref\": \"y\"}, {\"align\": \"left\", \"font\": {\"color\": \"#000000\"}, \"showarrow\": false, \"text\": \"80000\", \"x\": -0.45, \"xanchor\": \"left\", \"xref\": \"x\", \"y\": 8, \"yref\": \"y\"}, {\"align\": \"left\", \"font\": {\"color\": \"#000000\"}, \"showarrow\": false, \"text\": \"3872688\", \"x\": 0.55, \"xanchor\": \"left\", \"xref\": \"x\", \"y\": 8, \"yref\": \"y\"}, {\"align\": \"left\", \"font\": {\"color\": \"#000000\"}, \"showarrow\": false, \"text\": \"3602125\", \"x\": 1.55, \"xanchor\": \"left\", \"xref\": \"x\", \"y\": 8, \"yref\": \"y\"}, {\"align\": \"left\", \"font\": {\"color\": \"#000000\"}, \"showarrow\": false, \"text\": \"3947804\", \"x\": 2.55, \"xanchor\": \"left\", \"xref\": \"x\", \"y\": 8, \"yref\": \"y\"}, {\"align\": \"left\", \"font\": {\"color\": \"#000000\"}, \"showarrow\": false, \"text\": \"3951422\", \"x\": 3.55, \"xanchor\": \"left\", \"xref\": \"x\", \"y\": 8, \"yref\": \"y\"}, {\"align\": \"left\", \"font\": {\"color\": \"#000000\"}, \"showarrow\": false, \"text\": \"90000\", \"x\": -0.45, \"xanchor\": \"left\", \"xref\": \"x\", \"y\": 9, \"yref\": \"y\"}, {\"align\": \"left\", \"font\": {\"color\": \"#000000\"}, \"showarrow\": false, \"text\": \"4355747\", \"x\": 0.55, \"xanchor\": \"left\", \"xref\": \"x\", \"y\": 9, \"yref\": \"y\"}, {\"align\": \"left\", \"font\": {\"color\": \"#000000\"}, \"showarrow\": false, \"text\": \"4063608\", \"x\": 1.55, \"xanchor\": \"left\", \"xref\": \"x\", \"y\": 9, \"yref\": \"y\"}, {\"align\": \"left\", \"font\": {\"color\": \"#000000\"}, \"showarrow\": false, \"text\": \"4433496\", \"x\": 2.55, \"xanchor\": \"left\", \"xref\": \"x\", \"y\": 9, \"yref\": \"y\"}, {\"align\": \"left\", \"font\": {\"color\": \"#000000\"}, \"showarrow\": false, \"text\": \"4447763\", \"x\": 3.55, \"xanchor\": \"left\", \"xref\": \"x\", \"y\": 9, \"yref\": \"y\"}, {\"align\": \"left\", \"font\": {\"color\": \"#000000\"}, \"showarrow\": false, \"text\": \"100000\", \"x\": -0.45, \"xanchor\": \"left\", \"xref\": \"x\", \"y\": 10, \"yref\": \"y\"}, {\"align\": \"left\", \"font\": {\"color\": \"#000000\"}, \"showarrow\": false, \"text\": \"4850280\", \"x\": 0.55, \"xanchor\": \"left\", \"xref\": \"x\", \"y\": 10, \"yref\": \"y\"}, {\"align\": \"left\", \"font\": {\"color\": \"#000000\"}, \"showarrow\": false, \"text\": \"4498173\", \"x\": 1.55, \"xanchor\": \"left\", \"xref\": \"x\", \"y\": 10, \"yref\": \"y\"}, {\"align\": \"left\", \"font\": {\"color\": \"#000000\"}, \"showarrow\": false, \"text\": \"4932159\", \"x\": 2.55, \"xanchor\": \"left\", \"xref\": \"x\", \"y\": 10, \"yref\": \"y\"}, {\"align\": \"left\", \"font\": {\"color\": \"#000000\"}, \"showarrow\": false, \"text\": \"4947215\", \"x\": 3.55, \"xanchor\": \"left\", \"xref\": \"x\", \"y\": 10, \"yref\": \"y\"}], \"height\": 380, \"margin\": {\"b\": 0, \"l\": 0, \"r\": 0, \"t\": 0}, \"xaxis\": {\"dtick\": 1, \"gridwidth\": 2, \"showticklabels\": false, \"tick0\": -0.5, \"ticks\": \"\", \"zeroline\": false}, \"yaxis\": {\"autorange\": \"reversed\", \"dtick\": 1, \"gridwidth\": 2, \"showticklabels\": false, \"tick0\": 0.5, \"ticks\": \"\", \"zeroline\": false}}, {\"showLink\": true, \"linkText\": \"Export to plot.ly\", \"plotlyServerURL\": \"https://plot.ly\"})});</script><script type=\"text/javascript\">window.addEventListener(\"resize\", function(){window._Plotly.Plots.resize(document.getElementById(\"c818abb0-13fc-406f-be1c-f4cd7eb9b94e\"));});</script>"
      ],
      "text/vnd.plotly.v1+html": [
       "<div id=\"c818abb0-13fc-406f-be1c-f4cd7eb9b94e\" style=\"height: 380px; width: 100%;\" class=\"plotly-graph-div\"></div><script type=\"text/javascript\">require([\"plotly\"], function(Plotly) { window.PLOTLYENV=window.PLOTLYENV || {};window.PLOTLYENV.BASE_URL=\"https://plot.ly\";Plotly.newPlot(\"c818abb0-13fc-406f-be1c-f4cd7eb9b94e\", [{\"colorscale\": [[0, \"#000000\"], [0.5, \"#FFFFFF\"], [1, \"#ffffff\"]], \"hoverinfo\": \"none\", \"opacity\": 0.75, \"showscale\": false, \"z\": [[0, 0, 0, 0, 0], [0.5, 0.5, 0.5, 0.5, 0.5], [1, 1, 1, 1, 1], [0.5, 0.5, 0.5, 0.5, 0.5], [1, 1, 1, 1, 1], [0.5, 0.5, 0.5, 0.5, 0.5], [1, 1, 1, 1, 1], [0.5, 0.5, 0.5, 0.5, 0.5], [1, 1, 1, 1, 1], [0.5, 0.5, 0.5, 0.5, 0.5], [1, 1, 1, 1, 1]], \"type\": \"heatmap\", \"uid\": \"26e27a46-729f-471e-965d-1b22fb116dbe\"}], {\"annotations\": [{\"align\": \"left\", \"font\": {\"color\": \"#ffffff\"}, \"showarrow\": false, \"text\": \"<b>Sequence Length</b>\", \"x\": -0.45, \"xanchor\": \"left\", \"xref\": \"x\", \"y\": 0, \"yref\": \"y\"}, {\"align\": \"left\", \"font\": {\"color\": \"#ffffff\"}, \"showarrow\": false, \"text\": \"<b>OPT</b>\", \"x\": 0.55, \"xanchor\": \"left\", \"xref\": \"x\", \"y\": 0, \"yref\": \"y\"}, {\"align\": \"left\", \"font\": {\"color\": \"#ffffff\"}, \"showarrow\": false, \"text\": \"<b>MTF</b>\", \"x\": 1.55, \"xanchor\": \"left\", \"xref\": \"x\", \"y\": 0, \"yref\": \"y\"}, {\"align\": \"left\", \"font\": {\"color\": \"#ffffff\"}, \"showarrow\": false, \"text\": \"<b>Transpose</b>\", \"x\": 2.55, \"xanchor\": \"left\", \"xref\": \"x\", \"y\": 0, \"yref\": \"y\"}, {\"align\": \"left\", \"font\": {\"color\": \"#ffffff\"}, \"showarrow\": false, \"text\": \"<b>2-in-a-Row</b>\", \"x\": 3.55, \"xanchor\": \"left\", \"xref\": \"x\", \"y\": 0, \"yref\": \"y\"}, {\"align\": \"left\", \"font\": {\"color\": \"#000000\"}, \"showarrow\": false, \"text\": \"10000\", \"x\": -0.45, \"xanchor\": \"left\", \"xref\": \"x\", \"y\": 1, \"yref\": \"y\"}, {\"align\": \"left\", \"font\": {\"color\": \"#000000\"}, \"showarrow\": false, \"text\": \"461262\", \"x\": 0.55, \"xanchor\": \"left\", \"xref\": \"x\", \"y\": 1, \"yref\": \"y\"}, {\"align\": \"left\", \"font\": {\"color\": \"#000000\"}, \"showarrow\": false, \"text\": \"451862\", \"x\": 1.55, \"xanchor\": \"left\", \"xref\": \"x\", \"y\": 1, \"yref\": \"y\"}, {\"align\": \"left\", \"font\": {\"color\": \"#000000\"}, \"showarrow\": false, \"text\": \"493795\", \"x\": 2.55, \"xanchor\": \"left\", \"xref\": \"x\", \"y\": 1, \"yref\": \"y\"}, {\"align\": \"left\", \"font\": {\"color\": \"#000000\"}, \"showarrow\": false, \"text\": \"497474\", \"x\": 3.55, \"xanchor\": \"left\", \"xref\": \"x\", \"y\": 1, \"yref\": \"y\"}, {\"align\": \"left\", \"font\": {\"color\": \"#000000\"}, \"showarrow\": false, \"text\": \"20000\", \"x\": -0.45, \"xanchor\": \"left\", \"xref\": \"x\", \"y\": 2, \"yref\": \"y\"}, {\"align\": \"left\", \"font\": {\"color\": \"#000000\"}, \"showarrow\": false, \"text\": \"940087\", \"x\": 0.55, \"xanchor\": \"left\", \"xref\": \"x\", \"y\": 2, \"yref\": \"y\"}, {\"align\": \"left\", \"font\": {\"color\": \"#000000\"}, \"showarrow\": false, \"text\": \"902562\", \"x\": 1.55, \"xanchor\": \"left\", \"xref\": \"x\", \"y\": 2, \"yref\": \"y\"}, {\"align\": \"left\", \"font\": {\"color\": \"#000000\"}, \"showarrow\": false, \"text\": \"982882\", \"x\": 2.55, \"xanchor\": \"left\", \"xref\": \"x\", \"y\": 2, \"yref\": \"y\"}, {\"align\": \"left\", \"font\": {\"color\": \"#000000\"}, \"showarrow\": false, \"text\": \"990809\", \"x\": 3.55, \"xanchor\": \"left\", \"xref\": \"x\", \"y\": 2, \"yref\": \"y\"}, {\"align\": \"left\", \"font\": {\"color\": \"#000000\"}, \"showarrow\": false, \"text\": \"30000\", \"x\": -0.45, \"xanchor\": \"left\", \"xref\": \"x\", \"y\": 3, \"yref\": \"y\"}, {\"align\": \"left\", \"font\": {\"color\": \"#000000\"}, \"showarrow\": false, \"text\": \"1428694\", \"x\": 0.55, \"xanchor\": \"left\", \"xref\": \"x\", \"y\": 3, \"yref\": \"y\"}, {\"align\": \"left\", \"font\": {\"color\": \"#000000\"}, \"showarrow\": false, \"text\": \"1338009\", \"x\": 1.55, \"xanchor\": \"left\", \"xref\": \"x\", \"y\": 3, \"yref\": \"y\"}, {\"align\": \"left\", \"font\": {\"color\": \"#000000\"}, \"showarrow\": false, \"text\": \"1480616\", \"x\": 2.55, \"xanchor\": \"left\", \"xref\": \"x\", \"y\": 3, \"yref\": \"y\"}, {\"align\": \"left\", \"font\": {\"color\": \"#000000\"}, \"showarrow\": false, \"text\": \"1476674\", \"x\": 3.55, \"xanchor\": \"left\", \"xref\": \"x\", \"y\": 3, \"yref\": \"y\"}, {\"align\": \"left\", \"font\": {\"color\": \"#000000\"}, \"showarrow\": false, \"text\": \"40000\", \"x\": -0.45, \"xanchor\": \"left\", \"xref\": \"x\", \"y\": 4, \"yref\": \"y\"}, {\"align\": \"left\", \"font\": {\"color\": \"#000000\"}, \"showarrow\": false, \"text\": \"1915217\", \"x\": 0.55, \"xanchor\": \"left\", \"xref\": \"x\", \"y\": 4, \"yref\": \"y\"}, {\"align\": \"left\", \"font\": {\"color\": \"#000000\"}, \"showarrow\": false, \"text\": \"1798487\", \"x\": 1.55, \"xanchor\": \"left\", \"xref\": \"x\", \"y\": 4, \"yref\": \"y\"}, {\"align\": \"left\", \"font\": {\"color\": \"#000000\"}, \"showarrow\": false, \"text\": \"1970450\", \"x\": 2.55, \"xanchor\": \"left\", \"xref\": \"x\", \"y\": 4, \"yref\": \"y\"}, {\"align\": \"left\", \"font\": {\"color\": \"#000000\"}, \"showarrow\": false, \"text\": \"1982196\", \"x\": 3.55, \"xanchor\": \"left\", \"xref\": \"x\", \"y\": 4, \"yref\": \"y\"}, {\"align\": \"left\", \"font\": {\"color\": \"#000000\"}, \"showarrow\": false, \"text\": \"50000\", \"x\": -0.45, \"xanchor\": \"left\", \"xref\": \"x\", \"y\": 5, \"yref\": \"y\"}, {\"align\": \"left\", \"font\": {\"color\": \"#000000\"}, \"showarrow\": false, \"text\": \"2415435\", \"x\": 0.55, \"xanchor\": \"left\", \"xref\": \"x\", \"y\": 5, \"yref\": \"y\"}, {\"align\": \"left\", \"font\": {\"color\": \"#000000\"}, \"showarrow\": false, \"text\": \"2256277\", \"x\": 1.55, \"xanchor\": \"left\", \"xref\": \"x\", \"y\": 5, \"yref\": \"y\"}, {\"align\": \"left\", \"font\": {\"color\": \"#000000\"}, \"showarrow\": false, \"text\": \"2477966\", \"x\": 2.55, \"xanchor\": \"left\", \"xref\": \"x\", \"y\": 5, \"yref\": \"y\"}, {\"align\": \"left\", \"font\": {\"color\": \"#000000\"}, \"showarrow\": false, \"text\": \"2465753\", \"x\": 3.55, \"xanchor\": \"left\", \"xref\": \"x\", \"y\": 5, \"yref\": \"y\"}, {\"align\": \"left\", \"font\": {\"color\": \"#000000\"}, \"showarrow\": false, \"text\": \"60000\", \"x\": -0.45, \"xanchor\": \"left\", \"xref\": \"x\", \"y\": 6, \"yref\": \"y\"}, {\"align\": \"left\", \"font\": {\"color\": \"#000000\"}, \"showarrow\": false, \"text\": \"2892406\", \"x\": 0.55, \"xanchor\": \"left\", \"xref\": \"x\", \"y\": 6, \"yref\": \"y\"}, {\"align\": \"left\", \"font\": {\"color\": \"#000000\"}, \"showarrow\": false, \"text\": \"2705675\", \"x\": 1.55, \"xanchor\": \"left\", \"xref\": \"x\", \"y\": 6, \"yref\": \"y\"}, {\"align\": \"left\", \"font\": {\"color\": \"#000000\"}, \"showarrow\": false, \"text\": \"2959950\", \"x\": 2.55, \"xanchor\": \"left\", \"xref\": \"x\", \"y\": 6, \"yref\": \"y\"}, {\"align\": \"left\", \"font\": {\"color\": \"#000000\"}, \"showarrow\": false, \"text\": \"2971828\", \"x\": 3.55, \"xanchor\": \"left\", \"xref\": \"x\", \"y\": 6, \"yref\": \"y\"}, {\"align\": \"left\", \"font\": {\"color\": \"#000000\"}, \"showarrow\": false, \"text\": \"70000\", \"x\": -0.45, \"xanchor\": \"left\", \"xref\": \"x\", \"y\": 7, \"yref\": \"y\"}, {\"align\": \"left\", \"font\": {\"color\": \"#000000\"}, \"showarrow\": false, \"text\": \"3375753\", \"x\": 0.55, \"xanchor\": \"left\", \"xref\": \"x\", \"y\": 7, \"yref\": \"y\"}, {\"align\": \"left\", \"font\": {\"color\": \"#000000\"}, \"showarrow\": false, \"text\": \"3122579\", \"x\": 1.55, \"xanchor\": \"left\", \"xref\": \"x\", \"y\": 7, \"yref\": \"y\"}, {\"align\": \"left\", \"font\": {\"color\": \"#000000\"}, \"showarrow\": false, \"text\": \"3450626\", \"x\": 2.55, \"xanchor\": \"left\", \"xref\": \"x\", \"y\": 7, \"yref\": \"y\"}, {\"align\": \"left\", \"font\": {\"color\": \"#000000\"}, \"showarrow\": false, \"text\": \"3457764\", \"x\": 3.55, \"xanchor\": \"left\", \"xref\": \"x\", \"y\": 7, \"yref\": \"y\"}, {\"align\": \"left\", \"font\": {\"color\": \"#000000\"}, \"showarrow\": false, \"text\": \"80000\", \"x\": -0.45, \"xanchor\": \"left\", \"xref\": \"x\", \"y\": 8, \"yref\": \"y\"}, {\"align\": \"left\", \"font\": {\"color\": \"#000000\"}, \"showarrow\": false, \"text\": \"3872688\", \"x\": 0.55, \"xanchor\": \"left\", \"xref\": \"x\", \"y\": 8, \"yref\": \"y\"}, {\"align\": \"left\", \"font\": {\"color\": \"#000000\"}, \"showarrow\": false, \"text\": \"3602125\", \"x\": 1.55, \"xanchor\": \"left\", \"xref\": \"x\", \"y\": 8, \"yref\": \"y\"}, {\"align\": \"left\", \"font\": {\"color\": \"#000000\"}, \"showarrow\": false, \"text\": \"3947804\", \"x\": 2.55, \"xanchor\": \"left\", \"xref\": \"x\", \"y\": 8, \"yref\": \"y\"}, {\"align\": \"left\", \"font\": {\"color\": \"#000000\"}, \"showarrow\": false, \"text\": \"3951422\", \"x\": 3.55, \"xanchor\": \"left\", \"xref\": \"x\", \"y\": 8, \"yref\": \"y\"}, {\"align\": \"left\", \"font\": {\"color\": \"#000000\"}, \"showarrow\": false, \"text\": \"90000\", \"x\": -0.45, \"xanchor\": \"left\", \"xref\": \"x\", \"y\": 9, \"yref\": \"y\"}, {\"align\": \"left\", \"font\": {\"color\": \"#000000\"}, \"showarrow\": false, \"text\": \"4355747\", \"x\": 0.55, \"xanchor\": \"left\", \"xref\": \"x\", \"y\": 9, \"yref\": \"y\"}, {\"align\": \"left\", \"font\": {\"color\": \"#000000\"}, \"showarrow\": false, \"text\": \"4063608\", \"x\": 1.55, \"xanchor\": \"left\", \"xref\": \"x\", \"y\": 9, \"yref\": \"y\"}, {\"align\": \"left\", \"font\": {\"color\": \"#000000\"}, \"showarrow\": false, \"text\": \"4433496\", \"x\": 2.55, \"xanchor\": \"left\", \"xref\": \"x\", \"y\": 9, \"yref\": \"y\"}, {\"align\": \"left\", \"font\": {\"color\": \"#000000\"}, \"showarrow\": false, \"text\": \"4447763\", \"x\": 3.55, \"xanchor\": \"left\", \"xref\": \"x\", \"y\": 9, \"yref\": \"y\"}, {\"align\": \"left\", \"font\": {\"color\": \"#000000\"}, \"showarrow\": false, \"text\": \"100000\", \"x\": -0.45, \"xanchor\": \"left\", \"xref\": \"x\", \"y\": 10, \"yref\": \"y\"}, {\"align\": \"left\", \"font\": {\"color\": \"#000000\"}, \"showarrow\": false, \"text\": \"4850280\", \"x\": 0.55, \"xanchor\": \"left\", \"xref\": \"x\", \"y\": 10, \"yref\": \"y\"}, {\"align\": \"left\", \"font\": {\"color\": \"#000000\"}, \"showarrow\": false, \"text\": \"4498173\", \"x\": 1.55, \"xanchor\": \"left\", \"xref\": \"x\", \"y\": 10, \"yref\": \"y\"}, {\"align\": \"left\", \"font\": {\"color\": \"#000000\"}, \"showarrow\": false, \"text\": \"4932159\", \"x\": 2.55, \"xanchor\": \"left\", \"xref\": \"x\", \"y\": 10, \"yref\": \"y\"}, {\"align\": \"left\", \"font\": {\"color\": \"#000000\"}, \"showarrow\": false, \"text\": \"4947215\", \"x\": 3.55, \"xanchor\": \"left\", \"xref\": \"x\", \"y\": 10, \"yref\": \"y\"}], \"height\": 380, \"margin\": {\"b\": 0, \"l\": 0, \"r\": 0, \"t\": 0}, \"xaxis\": {\"dtick\": 1, \"gridwidth\": 2, \"showticklabels\": false, \"tick0\": -0.5, \"ticks\": \"\", \"zeroline\": false}, \"yaxis\": {\"autorange\": \"reversed\", \"dtick\": 1, \"gridwidth\": 2, \"showticklabels\": false, \"tick0\": 0.5, \"ticks\": \"\", \"zeroline\": false}}, {\"showLink\": true, \"linkText\": \"Export to plot.ly\", \"plotlyServerURL\": \"https://plot.ly\"})});</script><script type=\"text/javascript\">window.addEventListener(\"resize\", function(){window._Plotly.Plots.resize(document.getElementById(\"c818abb0-13fc-406f-be1c-f4cd7eb9b94e\"));});</script>"
      ]
     },
     "metadata": {},
     "output_type": "display_data"
    }
   ],
   "source": [
    "df = pd.read_csv('list/staticMarkovLowListAccessCost.csv')\n",
    "\n",
    "trace1 = go.Scatter(\n",
    "                    x=df['Sequence Length'], y=df['Access Costs'], # Data\n",
    "                    mode='lines', name='OPT',\n",
    "                    line = dict(color = ('rgb(37, 120, 178)'))\n",
    "                   )\n",
    "\n",
    "df = pd.read_csv('list/mtfMarkovLowListAccessCost.csv')\n",
    "\n",
    "trace2 = go.Scatter(\n",
    "                    x=df['Sequence Length'], y=df['Access Costs'], # Data\n",
    "                    mode='lines', name='MTF',\n",
    "                    line = dict(color = ('rgb(253, 127, 40)'))\n",
    "                   )\n",
    "\n",
    "df = pd.read_csv('list/transposeMarkovLowListAccessCost.csv')\n",
    "\n",
    "trace3 = go.Scatter(\n",
    "                    x=df['Sequence Length'], y=df['Access Costs'], # Data\n",
    "                    mode='lines', name='Transpose',\n",
    "                    line = dict(color = ('rgb(50, 158, 52)'))\n",
    "                   )\n",
    "\n",
    "df = pd.read_csv('list/kInARowMarkovLowListAccessCost.csv')\n",
    "\n",
    "trace4 = go.Scatter(\n",
    "                    x=df['Sequence Length'], y=df['Access Costs'], # Data\n",
    "                    mode='lines', name='2-in-a-row',\n",
    "                    line = dict(color = ('rgb(211, 41, 47)'))\n",
    "                   )\n",
    "\n",
    "\n",
    "\n",
    "layout = go.Layout(title='List Access Cost: Low Self Loop',\n",
    "                   plot_bgcolor='rgb(255, 255,255)',\n",
    "                   xaxis=dict(title='Sequence Length'),\n",
    "                   yaxis=dict(title='Access Cost'))\n",
    "\n",
    "fig = go.Figure(data=[trace1, trace2, trace3, trace4], layout=layout)\n",
    "\n",
    "# Plot data in the notebook\n",
    "iplot(fig)\n",
    "\n",
    "\n",
    "df = pd.read_csv('table/MarkovLowList.csv')\n",
    "colorscale = [[0, '#000000'],[.5, '#FFFFFF'],[1, '#ffffff']]\n",
    "table = ff.create_table(df, colorscale=colorscale)\n",
    "iplot(table)"
   ]
  },
  {
   "cell_type": "code",
   "execution_count": 34,
   "metadata": {},
   "outputs": [
    {
     "data": {
      "application/vnd.plotly.v1+json": {
       "config": {
        "linkText": "Export to plot.ly",
        "plotlyServerURL": "https://plot.ly",
        "showLink": true
       },
       "data": [
        {
         "line": {
          "color": "rgb(37, 120, 178)"
         },
         "mode": "lines",
         "name": "OPT",
         "type": "scatter",
         "uid": "bd71722b-3986-4e26-9161-126ba66e3fa4",
         "x": [
          10000,
          20000,
          30000,
          40000,
          50000,
          60000,
          70000,
          80000,
          90000,
          100000
         ],
         "y": [
          57661,
          119252,
          204459,
          305299,
          356225,
          369954,
          497523,
          537857,
          615042,
          659005
         ]
        },
        {
         "line": {
          "color": "rgb(253, 127, 40)"
         },
         "mode": "lines",
         "name": "Splay",
         "type": "scatter",
         "uid": "6dad4527-cb5a-4a28-943c-a05f84348ec5",
         "x": [
          10000,
          20000,
          30000,
          40000,
          50000,
          60000,
          70000,
          80000,
          90000,
          100000
         ],
         "y": [
          60795,
          121232,
          181266,
          242825,
          303506,
          364777,
          423805,
          486479,
          547275,
          607287
         ]
        },
        {
         "line": {
          "color": "rgb(50, 158, 52)"
         },
         "mode": "lines",
         "name": "Transpose",
         "type": "scatter",
         "uid": "4ca2ede2-16f3-45ad-87dd-e982adaa67f4",
         "x": [
          10000,
          20000,
          30000,
          40000,
          50000,
          60000,
          70000,
          80000,
          90000,
          100000
         ],
         "y": [
          93908,
          223123,
          308547,
          382984,
          510398,
          639981,
          705973,
          844320,
          925898,
          1037674
         ]
        },
        {
         "line": {
          "color": "rgb(211, 41, 47)"
         },
         "mode": "lines",
         "name": "2-in-a-row",
         "type": "scatter",
         "uid": "8c63f3be-0eef-4da5-9144-97143d952638",
         "x": [
          10000,
          20000,
          30000,
          40000,
          50000,
          60000,
          70000,
          80000,
          90000,
          100000
         ],
         "y": [
          67054,
          135876,
          199662,
          269974,
          332092,
          401225,
          459672,
          529103,
          600695,
          669633
         ]
        }
       ],
       "layout": {
        "plot_bgcolor": "rgb(255, 255,255)",
        "title": "Trees Access Cost: Low Self Loop",
        "xaxis": {
         "title": "Sequence Length"
        },
        "yaxis": {
         "title": "Access Cost"
        }
       }
      },
      "text/html": [
       "<div id=\"e5e729ee-77f0-4fe4-88fd-253a5bb10b30\" style=\"height: 525px; width: 100%;\" class=\"plotly-graph-div\"></div><script type=\"text/javascript\">require([\"plotly\"], function(Plotly) { window.PLOTLYENV=window.PLOTLYENV || {};window.PLOTLYENV.BASE_URL=\"https://plot.ly\";Plotly.newPlot(\"e5e729ee-77f0-4fe4-88fd-253a5bb10b30\", [{\"line\": {\"color\": \"rgb(37, 120, 178)\"}, \"mode\": \"lines\", \"name\": \"OPT\", \"x\": [10000, 20000, 30000, 40000, 50000, 60000, 70000, 80000, 90000, 100000], \"y\": [57661, 119252, 204459, 305299, 356225, 369954, 497523, 537857, 615042, 659005], \"type\": \"scatter\", \"uid\": \"bd71722b-3986-4e26-9161-126ba66e3fa4\"}, {\"line\": {\"color\": \"rgb(253, 127, 40)\"}, \"mode\": \"lines\", \"name\": \"Splay\", \"x\": [10000, 20000, 30000, 40000, 50000, 60000, 70000, 80000, 90000, 100000], \"y\": [60795, 121232, 181266, 242825, 303506, 364777, 423805, 486479, 547275, 607287], \"type\": \"scatter\", \"uid\": \"6dad4527-cb5a-4a28-943c-a05f84348ec5\"}, {\"line\": {\"color\": \"rgb(50, 158, 52)\"}, \"mode\": \"lines\", \"name\": \"Transpose\", \"x\": [10000, 20000, 30000, 40000, 50000, 60000, 70000, 80000, 90000, 100000], \"y\": [93908, 223123, 308547, 382984, 510398, 639981, 705973, 844320, 925898, 1037674], \"type\": \"scatter\", \"uid\": \"4ca2ede2-16f3-45ad-87dd-e982adaa67f4\"}, {\"line\": {\"color\": \"rgb(211, 41, 47)\"}, \"mode\": \"lines\", \"name\": \"2-in-a-row\", \"x\": [10000, 20000, 30000, 40000, 50000, 60000, 70000, 80000, 90000, 100000], \"y\": [67054, 135876, 199662, 269974, 332092, 401225, 459672, 529103, 600695, 669633], \"type\": \"scatter\", \"uid\": \"8c63f3be-0eef-4da5-9144-97143d952638\"}], {\"plot_bgcolor\": \"rgb(255, 255,255)\", \"title\": \"Trees Access Cost: Low Self Loop\", \"xaxis\": {\"title\": \"Sequence Length\"}, \"yaxis\": {\"title\": \"Access Cost\"}}, {\"showLink\": true, \"linkText\": \"Export to plot.ly\", \"plotlyServerURL\": \"https://plot.ly\"})});</script><script type=\"text/javascript\">window.addEventListener(\"resize\", function(){window._Plotly.Plots.resize(document.getElementById(\"e5e729ee-77f0-4fe4-88fd-253a5bb10b30\"));});</script>"
      ],
      "text/vnd.plotly.v1+html": [
       "<div id=\"e5e729ee-77f0-4fe4-88fd-253a5bb10b30\" style=\"height: 525px; width: 100%;\" class=\"plotly-graph-div\"></div><script type=\"text/javascript\">require([\"plotly\"], function(Plotly) { window.PLOTLYENV=window.PLOTLYENV || {};window.PLOTLYENV.BASE_URL=\"https://plot.ly\";Plotly.newPlot(\"e5e729ee-77f0-4fe4-88fd-253a5bb10b30\", [{\"line\": {\"color\": \"rgb(37, 120, 178)\"}, \"mode\": \"lines\", \"name\": \"OPT\", \"x\": [10000, 20000, 30000, 40000, 50000, 60000, 70000, 80000, 90000, 100000], \"y\": [57661, 119252, 204459, 305299, 356225, 369954, 497523, 537857, 615042, 659005], \"type\": \"scatter\", \"uid\": \"bd71722b-3986-4e26-9161-126ba66e3fa4\"}, {\"line\": {\"color\": \"rgb(253, 127, 40)\"}, \"mode\": \"lines\", \"name\": \"Splay\", \"x\": [10000, 20000, 30000, 40000, 50000, 60000, 70000, 80000, 90000, 100000], \"y\": [60795, 121232, 181266, 242825, 303506, 364777, 423805, 486479, 547275, 607287], \"type\": \"scatter\", \"uid\": \"6dad4527-cb5a-4a28-943c-a05f84348ec5\"}, {\"line\": {\"color\": \"rgb(50, 158, 52)\"}, \"mode\": \"lines\", \"name\": \"Transpose\", \"x\": [10000, 20000, 30000, 40000, 50000, 60000, 70000, 80000, 90000, 100000], \"y\": [93908, 223123, 308547, 382984, 510398, 639981, 705973, 844320, 925898, 1037674], \"type\": \"scatter\", \"uid\": \"4ca2ede2-16f3-45ad-87dd-e982adaa67f4\"}, {\"line\": {\"color\": \"rgb(211, 41, 47)\"}, \"mode\": \"lines\", \"name\": \"2-in-a-row\", \"x\": [10000, 20000, 30000, 40000, 50000, 60000, 70000, 80000, 90000, 100000], \"y\": [67054, 135876, 199662, 269974, 332092, 401225, 459672, 529103, 600695, 669633], \"type\": \"scatter\", \"uid\": \"8c63f3be-0eef-4da5-9144-97143d952638\"}], {\"plot_bgcolor\": \"rgb(255, 255,255)\", \"title\": \"Trees Access Cost: Low Self Loop\", \"xaxis\": {\"title\": \"Sequence Length\"}, \"yaxis\": {\"title\": \"Access Cost\"}}, {\"showLink\": true, \"linkText\": \"Export to plot.ly\", \"plotlyServerURL\": \"https://plot.ly\"})});</script><script type=\"text/javascript\">window.addEventListener(\"resize\", function(){window._Plotly.Plots.resize(document.getElementById(\"e5e729ee-77f0-4fe4-88fd-253a5bb10b30\"));});</script>"
      ]
     },
     "metadata": {},
     "output_type": "display_data"
    },
    {
     "data": {
      "application/vnd.plotly.v1+json": {
       "config": {
        "linkText": "Export to plot.ly",
        "plotlyServerURL": "https://plot.ly",
        "showLink": true
       },
       "data": [
        {
         "colorscale": [
          [
           0,
           "#000000"
          ],
          [
           0.5,
           "#FFFFFF"
          ],
          [
           1,
           "#ffffff"
          ]
         ],
         "hoverinfo": "none",
         "opacity": 0.75,
         "showscale": false,
         "type": "heatmap",
         "uid": "2d1b7e3a-b227-429c-8982-647c9b70b7cf",
         "z": [
          [
           0,
           0,
           0,
           0,
           0
          ],
          [
           0.5,
           0.5,
           0.5,
           0.5,
           0.5
          ],
          [
           1,
           1,
           1,
           1,
           1
          ],
          [
           0.5,
           0.5,
           0.5,
           0.5,
           0.5
          ],
          [
           1,
           1,
           1,
           1,
           1
          ],
          [
           0.5,
           0.5,
           0.5,
           0.5,
           0.5
          ],
          [
           1,
           1,
           1,
           1,
           1
          ],
          [
           0.5,
           0.5,
           0.5,
           0.5,
           0.5
          ],
          [
           1,
           1,
           1,
           1,
           1
          ],
          [
           0.5,
           0.5,
           0.5,
           0.5,
           0.5
          ],
          [
           1,
           1,
           1,
           1,
           1
          ]
         ]
        }
       ],
       "layout": {
        "annotations": [
         {
          "align": "left",
          "font": {
           "color": "#ffffff"
          },
          "showarrow": false,
          "text": "<b>Sequence Length</b>",
          "x": -0.45,
          "xanchor": "left",
          "xref": "x",
          "y": 0,
          "yref": "y"
         },
         {
          "align": "left",
          "font": {
           "color": "#ffffff"
          },
          "showarrow": false,
          "text": "<b>OPT</b>",
          "x": 0.55,
          "xanchor": "left",
          "xref": "x",
          "y": 0,
          "yref": "y"
         },
         {
          "align": "left",
          "font": {
           "color": "#ffffff"
          },
          "showarrow": false,
          "text": "<b>Splay</b>",
          "x": 1.55,
          "xanchor": "left",
          "xref": "x",
          "y": 0,
          "yref": "y"
         },
         {
          "align": "left",
          "font": {
           "color": "#ffffff"
          },
          "showarrow": false,
          "text": "<b>Transpose</b>",
          "x": 2.55,
          "xanchor": "left",
          "xref": "x",
          "y": 0,
          "yref": "y"
         },
         {
          "align": "left",
          "font": {
           "color": "#ffffff"
          },
          "showarrow": false,
          "text": "<b>2-in-a-Row</b>",
          "x": 3.55,
          "xanchor": "left",
          "xref": "x",
          "y": 0,
          "yref": "y"
         },
         {
          "align": "left",
          "font": {
           "color": "#000000"
          },
          "showarrow": false,
          "text": "10000",
          "x": -0.45,
          "xanchor": "left",
          "xref": "x",
          "y": 1,
          "yref": "y"
         },
         {
          "align": "left",
          "font": {
           "color": "#000000"
          },
          "showarrow": false,
          "text": "57661",
          "x": 0.55,
          "xanchor": "left",
          "xref": "x",
          "y": 1,
          "yref": "y"
         },
         {
          "align": "left",
          "font": {
           "color": "#000000"
          },
          "showarrow": false,
          "text": "60795",
          "x": 1.55,
          "xanchor": "left",
          "xref": "x",
          "y": 1,
          "yref": "y"
         },
         {
          "align": "left",
          "font": {
           "color": "#000000"
          },
          "showarrow": false,
          "text": "93908",
          "x": 2.55,
          "xanchor": "left",
          "xref": "x",
          "y": 1,
          "yref": "y"
         },
         {
          "align": "left",
          "font": {
           "color": "#000000"
          },
          "showarrow": false,
          "text": "67054",
          "x": 3.55,
          "xanchor": "left",
          "xref": "x",
          "y": 1,
          "yref": "y"
         },
         {
          "align": "left",
          "font": {
           "color": "#000000"
          },
          "showarrow": false,
          "text": "20000",
          "x": -0.45,
          "xanchor": "left",
          "xref": "x",
          "y": 2,
          "yref": "y"
         },
         {
          "align": "left",
          "font": {
           "color": "#000000"
          },
          "showarrow": false,
          "text": "119252",
          "x": 0.55,
          "xanchor": "left",
          "xref": "x",
          "y": 2,
          "yref": "y"
         },
         {
          "align": "left",
          "font": {
           "color": "#000000"
          },
          "showarrow": false,
          "text": "121232",
          "x": 1.55,
          "xanchor": "left",
          "xref": "x",
          "y": 2,
          "yref": "y"
         },
         {
          "align": "left",
          "font": {
           "color": "#000000"
          },
          "showarrow": false,
          "text": "223123",
          "x": 2.55,
          "xanchor": "left",
          "xref": "x",
          "y": 2,
          "yref": "y"
         },
         {
          "align": "left",
          "font": {
           "color": "#000000"
          },
          "showarrow": false,
          "text": "135876",
          "x": 3.55,
          "xanchor": "left",
          "xref": "x",
          "y": 2,
          "yref": "y"
         },
         {
          "align": "left",
          "font": {
           "color": "#000000"
          },
          "showarrow": false,
          "text": "30000",
          "x": -0.45,
          "xanchor": "left",
          "xref": "x",
          "y": 3,
          "yref": "y"
         },
         {
          "align": "left",
          "font": {
           "color": "#000000"
          },
          "showarrow": false,
          "text": "204459",
          "x": 0.55,
          "xanchor": "left",
          "xref": "x",
          "y": 3,
          "yref": "y"
         },
         {
          "align": "left",
          "font": {
           "color": "#000000"
          },
          "showarrow": false,
          "text": "181266",
          "x": 1.55,
          "xanchor": "left",
          "xref": "x",
          "y": 3,
          "yref": "y"
         },
         {
          "align": "left",
          "font": {
           "color": "#000000"
          },
          "showarrow": false,
          "text": "308547",
          "x": 2.55,
          "xanchor": "left",
          "xref": "x",
          "y": 3,
          "yref": "y"
         },
         {
          "align": "left",
          "font": {
           "color": "#000000"
          },
          "showarrow": false,
          "text": "199662",
          "x": 3.55,
          "xanchor": "left",
          "xref": "x",
          "y": 3,
          "yref": "y"
         },
         {
          "align": "left",
          "font": {
           "color": "#000000"
          },
          "showarrow": false,
          "text": "40000",
          "x": -0.45,
          "xanchor": "left",
          "xref": "x",
          "y": 4,
          "yref": "y"
         },
         {
          "align": "left",
          "font": {
           "color": "#000000"
          },
          "showarrow": false,
          "text": "305299",
          "x": 0.55,
          "xanchor": "left",
          "xref": "x",
          "y": 4,
          "yref": "y"
         },
         {
          "align": "left",
          "font": {
           "color": "#000000"
          },
          "showarrow": false,
          "text": "242825",
          "x": 1.55,
          "xanchor": "left",
          "xref": "x",
          "y": 4,
          "yref": "y"
         },
         {
          "align": "left",
          "font": {
           "color": "#000000"
          },
          "showarrow": false,
          "text": "382984",
          "x": 2.55,
          "xanchor": "left",
          "xref": "x",
          "y": 4,
          "yref": "y"
         },
         {
          "align": "left",
          "font": {
           "color": "#000000"
          },
          "showarrow": false,
          "text": "269974",
          "x": 3.55,
          "xanchor": "left",
          "xref": "x",
          "y": 4,
          "yref": "y"
         },
         {
          "align": "left",
          "font": {
           "color": "#000000"
          },
          "showarrow": false,
          "text": "50000",
          "x": -0.45,
          "xanchor": "left",
          "xref": "x",
          "y": 5,
          "yref": "y"
         },
         {
          "align": "left",
          "font": {
           "color": "#000000"
          },
          "showarrow": false,
          "text": "356225",
          "x": 0.55,
          "xanchor": "left",
          "xref": "x",
          "y": 5,
          "yref": "y"
         },
         {
          "align": "left",
          "font": {
           "color": "#000000"
          },
          "showarrow": false,
          "text": "303506",
          "x": 1.55,
          "xanchor": "left",
          "xref": "x",
          "y": 5,
          "yref": "y"
         },
         {
          "align": "left",
          "font": {
           "color": "#000000"
          },
          "showarrow": false,
          "text": "510398",
          "x": 2.55,
          "xanchor": "left",
          "xref": "x",
          "y": 5,
          "yref": "y"
         },
         {
          "align": "left",
          "font": {
           "color": "#000000"
          },
          "showarrow": false,
          "text": "332092",
          "x": 3.55,
          "xanchor": "left",
          "xref": "x",
          "y": 5,
          "yref": "y"
         },
         {
          "align": "left",
          "font": {
           "color": "#000000"
          },
          "showarrow": false,
          "text": "60000",
          "x": -0.45,
          "xanchor": "left",
          "xref": "x",
          "y": 6,
          "yref": "y"
         },
         {
          "align": "left",
          "font": {
           "color": "#000000"
          },
          "showarrow": false,
          "text": "369954",
          "x": 0.55,
          "xanchor": "left",
          "xref": "x",
          "y": 6,
          "yref": "y"
         },
         {
          "align": "left",
          "font": {
           "color": "#000000"
          },
          "showarrow": false,
          "text": "364777",
          "x": 1.55,
          "xanchor": "left",
          "xref": "x",
          "y": 6,
          "yref": "y"
         },
         {
          "align": "left",
          "font": {
           "color": "#000000"
          },
          "showarrow": false,
          "text": "639981",
          "x": 2.55,
          "xanchor": "left",
          "xref": "x",
          "y": 6,
          "yref": "y"
         },
         {
          "align": "left",
          "font": {
           "color": "#000000"
          },
          "showarrow": false,
          "text": "401225",
          "x": 3.55,
          "xanchor": "left",
          "xref": "x",
          "y": 6,
          "yref": "y"
         },
         {
          "align": "left",
          "font": {
           "color": "#000000"
          },
          "showarrow": false,
          "text": "70000",
          "x": -0.45,
          "xanchor": "left",
          "xref": "x",
          "y": 7,
          "yref": "y"
         },
         {
          "align": "left",
          "font": {
           "color": "#000000"
          },
          "showarrow": false,
          "text": "497523",
          "x": 0.55,
          "xanchor": "left",
          "xref": "x",
          "y": 7,
          "yref": "y"
         },
         {
          "align": "left",
          "font": {
           "color": "#000000"
          },
          "showarrow": false,
          "text": "423805",
          "x": 1.55,
          "xanchor": "left",
          "xref": "x",
          "y": 7,
          "yref": "y"
         },
         {
          "align": "left",
          "font": {
           "color": "#000000"
          },
          "showarrow": false,
          "text": "705973",
          "x": 2.55,
          "xanchor": "left",
          "xref": "x",
          "y": 7,
          "yref": "y"
         },
         {
          "align": "left",
          "font": {
           "color": "#000000"
          },
          "showarrow": false,
          "text": "459672",
          "x": 3.55,
          "xanchor": "left",
          "xref": "x",
          "y": 7,
          "yref": "y"
         },
         {
          "align": "left",
          "font": {
           "color": "#000000"
          },
          "showarrow": false,
          "text": "80000",
          "x": -0.45,
          "xanchor": "left",
          "xref": "x",
          "y": 8,
          "yref": "y"
         },
         {
          "align": "left",
          "font": {
           "color": "#000000"
          },
          "showarrow": false,
          "text": "537857",
          "x": 0.55,
          "xanchor": "left",
          "xref": "x",
          "y": 8,
          "yref": "y"
         },
         {
          "align": "left",
          "font": {
           "color": "#000000"
          },
          "showarrow": false,
          "text": "486479",
          "x": 1.55,
          "xanchor": "left",
          "xref": "x",
          "y": 8,
          "yref": "y"
         },
         {
          "align": "left",
          "font": {
           "color": "#000000"
          },
          "showarrow": false,
          "text": "844320",
          "x": 2.55,
          "xanchor": "left",
          "xref": "x",
          "y": 8,
          "yref": "y"
         },
         {
          "align": "left",
          "font": {
           "color": "#000000"
          },
          "showarrow": false,
          "text": "529103",
          "x": 3.55,
          "xanchor": "left",
          "xref": "x",
          "y": 8,
          "yref": "y"
         },
         {
          "align": "left",
          "font": {
           "color": "#000000"
          },
          "showarrow": false,
          "text": "90000",
          "x": -0.45,
          "xanchor": "left",
          "xref": "x",
          "y": 9,
          "yref": "y"
         },
         {
          "align": "left",
          "font": {
           "color": "#000000"
          },
          "showarrow": false,
          "text": "615042",
          "x": 0.55,
          "xanchor": "left",
          "xref": "x",
          "y": 9,
          "yref": "y"
         },
         {
          "align": "left",
          "font": {
           "color": "#000000"
          },
          "showarrow": false,
          "text": "547275",
          "x": 1.55,
          "xanchor": "left",
          "xref": "x",
          "y": 9,
          "yref": "y"
         },
         {
          "align": "left",
          "font": {
           "color": "#000000"
          },
          "showarrow": false,
          "text": "925898",
          "x": 2.55,
          "xanchor": "left",
          "xref": "x",
          "y": 9,
          "yref": "y"
         },
         {
          "align": "left",
          "font": {
           "color": "#000000"
          },
          "showarrow": false,
          "text": "600695",
          "x": 3.55,
          "xanchor": "left",
          "xref": "x",
          "y": 9,
          "yref": "y"
         },
         {
          "align": "left",
          "font": {
           "color": "#000000"
          },
          "showarrow": false,
          "text": "100000",
          "x": -0.45,
          "xanchor": "left",
          "xref": "x",
          "y": 10,
          "yref": "y"
         },
         {
          "align": "left",
          "font": {
           "color": "#000000"
          },
          "showarrow": false,
          "text": "659005",
          "x": 0.55,
          "xanchor": "left",
          "xref": "x",
          "y": 10,
          "yref": "y"
         },
         {
          "align": "left",
          "font": {
           "color": "#000000"
          },
          "showarrow": false,
          "text": "607287",
          "x": 1.55,
          "xanchor": "left",
          "xref": "x",
          "y": 10,
          "yref": "y"
         },
         {
          "align": "left",
          "font": {
           "color": "#000000"
          },
          "showarrow": false,
          "text": "1037674",
          "x": 2.55,
          "xanchor": "left",
          "xref": "x",
          "y": 10,
          "yref": "y"
         },
         {
          "align": "left",
          "font": {
           "color": "#000000"
          },
          "showarrow": false,
          "text": "669633",
          "x": 3.55,
          "xanchor": "left",
          "xref": "x",
          "y": 10,
          "yref": "y"
         }
        ],
        "height": 380,
        "margin": {
         "b": 0,
         "l": 0,
         "r": 0,
         "t": 0
        },
        "xaxis": {
         "dtick": 1,
         "gridwidth": 2,
         "showticklabels": false,
         "tick0": -0.5,
         "ticks": "",
         "zeroline": false
        },
        "yaxis": {
         "autorange": "reversed",
         "dtick": 1,
         "gridwidth": 2,
         "showticklabels": false,
         "tick0": 0.5,
         "ticks": "",
         "zeroline": false
        }
       }
      },
      "text/html": [
       "<div id=\"e7aee26d-122b-4850-bcb5-b3fc02edf523\" style=\"height: 380px; width: 100%;\" class=\"plotly-graph-div\"></div><script type=\"text/javascript\">require([\"plotly\"], function(Plotly) { window.PLOTLYENV=window.PLOTLYENV || {};window.PLOTLYENV.BASE_URL=\"https://plot.ly\";Plotly.newPlot(\"e7aee26d-122b-4850-bcb5-b3fc02edf523\", [{\"colorscale\": [[0, \"#000000\"], [0.5, \"#FFFFFF\"], [1, \"#ffffff\"]], \"hoverinfo\": \"none\", \"opacity\": 0.75, \"showscale\": false, \"z\": [[0, 0, 0, 0, 0], [0.5, 0.5, 0.5, 0.5, 0.5], [1, 1, 1, 1, 1], [0.5, 0.5, 0.5, 0.5, 0.5], [1, 1, 1, 1, 1], [0.5, 0.5, 0.5, 0.5, 0.5], [1, 1, 1, 1, 1], [0.5, 0.5, 0.5, 0.5, 0.5], [1, 1, 1, 1, 1], [0.5, 0.5, 0.5, 0.5, 0.5], [1, 1, 1, 1, 1]], \"type\": \"heatmap\", \"uid\": \"2d1b7e3a-b227-429c-8982-647c9b70b7cf\"}], {\"annotations\": [{\"align\": \"left\", \"font\": {\"color\": \"#ffffff\"}, \"showarrow\": false, \"text\": \"<b>Sequence Length</b>\", \"x\": -0.45, \"xanchor\": \"left\", \"xref\": \"x\", \"y\": 0, \"yref\": \"y\"}, {\"align\": \"left\", \"font\": {\"color\": \"#ffffff\"}, \"showarrow\": false, \"text\": \"<b>OPT</b>\", \"x\": 0.55, \"xanchor\": \"left\", \"xref\": \"x\", \"y\": 0, \"yref\": \"y\"}, {\"align\": \"left\", \"font\": {\"color\": \"#ffffff\"}, \"showarrow\": false, \"text\": \"<b>Splay</b>\", \"x\": 1.55, \"xanchor\": \"left\", \"xref\": \"x\", \"y\": 0, \"yref\": \"y\"}, {\"align\": \"left\", \"font\": {\"color\": \"#ffffff\"}, \"showarrow\": false, \"text\": \"<b>Transpose</b>\", \"x\": 2.55, \"xanchor\": \"left\", \"xref\": \"x\", \"y\": 0, \"yref\": \"y\"}, {\"align\": \"left\", \"font\": {\"color\": \"#ffffff\"}, \"showarrow\": false, \"text\": \"<b>2-in-a-Row</b>\", \"x\": 3.55, \"xanchor\": \"left\", \"xref\": \"x\", \"y\": 0, \"yref\": \"y\"}, {\"align\": \"left\", \"font\": {\"color\": \"#000000\"}, \"showarrow\": false, \"text\": \"10000\", \"x\": -0.45, \"xanchor\": \"left\", \"xref\": \"x\", \"y\": 1, \"yref\": \"y\"}, {\"align\": \"left\", \"font\": {\"color\": \"#000000\"}, \"showarrow\": false, \"text\": \"57661\", \"x\": 0.55, \"xanchor\": \"left\", \"xref\": \"x\", \"y\": 1, \"yref\": \"y\"}, {\"align\": \"left\", \"font\": {\"color\": \"#000000\"}, \"showarrow\": false, \"text\": \"60795\", \"x\": 1.55, \"xanchor\": \"left\", \"xref\": \"x\", \"y\": 1, \"yref\": \"y\"}, {\"align\": \"left\", \"font\": {\"color\": \"#000000\"}, \"showarrow\": false, \"text\": \"93908\", \"x\": 2.55, \"xanchor\": \"left\", \"xref\": \"x\", \"y\": 1, \"yref\": \"y\"}, {\"align\": \"left\", \"font\": {\"color\": \"#000000\"}, \"showarrow\": false, \"text\": \"67054\", \"x\": 3.55, \"xanchor\": \"left\", \"xref\": \"x\", \"y\": 1, \"yref\": \"y\"}, {\"align\": \"left\", \"font\": {\"color\": \"#000000\"}, \"showarrow\": false, \"text\": \"20000\", \"x\": -0.45, \"xanchor\": \"left\", \"xref\": \"x\", \"y\": 2, \"yref\": \"y\"}, {\"align\": \"left\", \"font\": {\"color\": \"#000000\"}, \"showarrow\": false, \"text\": \"119252\", \"x\": 0.55, \"xanchor\": \"left\", \"xref\": \"x\", \"y\": 2, \"yref\": \"y\"}, {\"align\": \"left\", \"font\": {\"color\": \"#000000\"}, \"showarrow\": false, \"text\": \"121232\", \"x\": 1.55, \"xanchor\": \"left\", \"xref\": \"x\", \"y\": 2, \"yref\": \"y\"}, {\"align\": \"left\", \"font\": {\"color\": \"#000000\"}, \"showarrow\": false, \"text\": \"223123\", \"x\": 2.55, \"xanchor\": \"left\", \"xref\": \"x\", \"y\": 2, \"yref\": \"y\"}, {\"align\": \"left\", \"font\": {\"color\": \"#000000\"}, \"showarrow\": false, \"text\": \"135876\", \"x\": 3.55, \"xanchor\": \"left\", \"xref\": \"x\", \"y\": 2, \"yref\": \"y\"}, {\"align\": \"left\", \"font\": {\"color\": \"#000000\"}, \"showarrow\": false, \"text\": \"30000\", \"x\": -0.45, \"xanchor\": \"left\", \"xref\": \"x\", \"y\": 3, \"yref\": \"y\"}, {\"align\": \"left\", \"font\": {\"color\": \"#000000\"}, \"showarrow\": false, \"text\": \"204459\", \"x\": 0.55, \"xanchor\": \"left\", \"xref\": \"x\", \"y\": 3, \"yref\": \"y\"}, {\"align\": \"left\", \"font\": {\"color\": \"#000000\"}, \"showarrow\": false, \"text\": \"181266\", \"x\": 1.55, \"xanchor\": \"left\", \"xref\": \"x\", \"y\": 3, \"yref\": \"y\"}, {\"align\": \"left\", \"font\": {\"color\": \"#000000\"}, \"showarrow\": false, \"text\": \"308547\", \"x\": 2.55, \"xanchor\": \"left\", \"xref\": \"x\", \"y\": 3, \"yref\": \"y\"}, {\"align\": \"left\", \"font\": {\"color\": \"#000000\"}, \"showarrow\": false, \"text\": \"199662\", \"x\": 3.55, \"xanchor\": \"left\", \"xref\": \"x\", \"y\": 3, \"yref\": \"y\"}, {\"align\": \"left\", \"font\": {\"color\": \"#000000\"}, \"showarrow\": false, \"text\": \"40000\", \"x\": -0.45, \"xanchor\": \"left\", \"xref\": \"x\", \"y\": 4, \"yref\": \"y\"}, {\"align\": \"left\", \"font\": {\"color\": \"#000000\"}, \"showarrow\": false, \"text\": \"305299\", \"x\": 0.55, \"xanchor\": \"left\", \"xref\": \"x\", \"y\": 4, \"yref\": \"y\"}, {\"align\": \"left\", \"font\": {\"color\": \"#000000\"}, \"showarrow\": false, \"text\": \"242825\", \"x\": 1.55, \"xanchor\": \"left\", \"xref\": \"x\", \"y\": 4, \"yref\": \"y\"}, {\"align\": \"left\", \"font\": {\"color\": \"#000000\"}, \"showarrow\": false, \"text\": \"382984\", \"x\": 2.55, \"xanchor\": \"left\", \"xref\": \"x\", \"y\": 4, \"yref\": \"y\"}, {\"align\": \"left\", \"font\": {\"color\": \"#000000\"}, \"showarrow\": false, \"text\": \"269974\", \"x\": 3.55, \"xanchor\": \"left\", \"xref\": \"x\", \"y\": 4, \"yref\": \"y\"}, {\"align\": \"left\", \"font\": {\"color\": \"#000000\"}, \"showarrow\": false, \"text\": \"50000\", \"x\": -0.45, \"xanchor\": \"left\", \"xref\": \"x\", \"y\": 5, \"yref\": \"y\"}, {\"align\": \"left\", \"font\": {\"color\": \"#000000\"}, \"showarrow\": false, \"text\": \"356225\", \"x\": 0.55, \"xanchor\": \"left\", \"xref\": \"x\", \"y\": 5, \"yref\": \"y\"}, {\"align\": \"left\", \"font\": {\"color\": \"#000000\"}, \"showarrow\": false, \"text\": \"303506\", \"x\": 1.55, \"xanchor\": \"left\", \"xref\": \"x\", \"y\": 5, \"yref\": \"y\"}, {\"align\": \"left\", \"font\": {\"color\": \"#000000\"}, \"showarrow\": false, \"text\": \"510398\", \"x\": 2.55, \"xanchor\": \"left\", \"xref\": \"x\", \"y\": 5, \"yref\": \"y\"}, {\"align\": \"left\", \"font\": {\"color\": \"#000000\"}, \"showarrow\": false, \"text\": \"332092\", \"x\": 3.55, \"xanchor\": \"left\", \"xref\": \"x\", \"y\": 5, \"yref\": \"y\"}, {\"align\": \"left\", \"font\": {\"color\": \"#000000\"}, \"showarrow\": false, \"text\": \"60000\", \"x\": -0.45, \"xanchor\": \"left\", \"xref\": \"x\", \"y\": 6, \"yref\": \"y\"}, {\"align\": \"left\", \"font\": {\"color\": \"#000000\"}, \"showarrow\": false, \"text\": \"369954\", \"x\": 0.55, \"xanchor\": \"left\", \"xref\": \"x\", \"y\": 6, \"yref\": \"y\"}, {\"align\": \"left\", \"font\": {\"color\": \"#000000\"}, \"showarrow\": false, \"text\": \"364777\", \"x\": 1.55, \"xanchor\": \"left\", \"xref\": \"x\", \"y\": 6, \"yref\": \"y\"}, {\"align\": \"left\", \"font\": {\"color\": \"#000000\"}, \"showarrow\": false, \"text\": \"639981\", \"x\": 2.55, \"xanchor\": \"left\", \"xref\": \"x\", \"y\": 6, \"yref\": \"y\"}, {\"align\": \"left\", \"font\": {\"color\": \"#000000\"}, \"showarrow\": false, \"text\": \"401225\", \"x\": 3.55, \"xanchor\": \"left\", \"xref\": \"x\", \"y\": 6, \"yref\": \"y\"}, {\"align\": \"left\", \"font\": {\"color\": \"#000000\"}, \"showarrow\": false, \"text\": \"70000\", \"x\": -0.45, \"xanchor\": \"left\", \"xref\": \"x\", \"y\": 7, \"yref\": \"y\"}, {\"align\": \"left\", \"font\": {\"color\": \"#000000\"}, \"showarrow\": false, \"text\": \"497523\", \"x\": 0.55, \"xanchor\": \"left\", \"xref\": \"x\", \"y\": 7, \"yref\": \"y\"}, {\"align\": \"left\", \"font\": {\"color\": \"#000000\"}, \"showarrow\": false, \"text\": \"423805\", \"x\": 1.55, \"xanchor\": \"left\", \"xref\": \"x\", \"y\": 7, \"yref\": \"y\"}, {\"align\": \"left\", \"font\": {\"color\": \"#000000\"}, \"showarrow\": false, \"text\": \"705973\", \"x\": 2.55, \"xanchor\": \"left\", \"xref\": \"x\", \"y\": 7, \"yref\": \"y\"}, {\"align\": \"left\", \"font\": {\"color\": \"#000000\"}, \"showarrow\": false, \"text\": \"459672\", \"x\": 3.55, \"xanchor\": \"left\", \"xref\": \"x\", \"y\": 7, \"yref\": \"y\"}, {\"align\": \"left\", \"font\": {\"color\": \"#000000\"}, \"showarrow\": false, \"text\": \"80000\", \"x\": -0.45, \"xanchor\": \"left\", \"xref\": \"x\", \"y\": 8, \"yref\": \"y\"}, {\"align\": \"left\", \"font\": {\"color\": \"#000000\"}, \"showarrow\": false, \"text\": \"537857\", \"x\": 0.55, \"xanchor\": \"left\", \"xref\": \"x\", \"y\": 8, \"yref\": \"y\"}, {\"align\": \"left\", \"font\": {\"color\": \"#000000\"}, \"showarrow\": false, \"text\": \"486479\", \"x\": 1.55, \"xanchor\": \"left\", \"xref\": \"x\", \"y\": 8, \"yref\": \"y\"}, {\"align\": \"left\", \"font\": {\"color\": \"#000000\"}, \"showarrow\": false, \"text\": \"844320\", \"x\": 2.55, \"xanchor\": \"left\", \"xref\": \"x\", \"y\": 8, \"yref\": \"y\"}, {\"align\": \"left\", \"font\": {\"color\": \"#000000\"}, \"showarrow\": false, \"text\": \"529103\", \"x\": 3.55, \"xanchor\": \"left\", \"xref\": \"x\", \"y\": 8, \"yref\": \"y\"}, {\"align\": \"left\", \"font\": {\"color\": \"#000000\"}, \"showarrow\": false, \"text\": \"90000\", \"x\": -0.45, \"xanchor\": \"left\", \"xref\": \"x\", \"y\": 9, \"yref\": \"y\"}, {\"align\": \"left\", \"font\": {\"color\": \"#000000\"}, \"showarrow\": false, \"text\": \"615042\", \"x\": 0.55, \"xanchor\": \"left\", \"xref\": \"x\", \"y\": 9, \"yref\": \"y\"}, {\"align\": \"left\", \"font\": {\"color\": \"#000000\"}, \"showarrow\": false, \"text\": \"547275\", \"x\": 1.55, \"xanchor\": \"left\", \"xref\": \"x\", \"y\": 9, \"yref\": \"y\"}, {\"align\": \"left\", \"font\": {\"color\": \"#000000\"}, \"showarrow\": false, \"text\": \"925898\", \"x\": 2.55, \"xanchor\": \"left\", \"xref\": \"x\", \"y\": 9, \"yref\": \"y\"}, {\"align\": \"left\", \"font\": {\"color\": \"#000000\"}, \"showarrow\": false, \"text\": \"600695\", \"x\": 3.55, \"xanchor\": \"left\", \"xref\": \"x\", \"y\": 9, \"yref\": \"y\"}, {\"align\": \"left\", \"font\": {\"color\": \"#000000\"}, \"showarrow\": false, \"text\": \"100000\", \"x\": -0.45, \"xanchor\": \"left\", \"xref\": \"x\", \"y\": 10, \"yref\": \"y\"}, {\"align\": \"left\", \"font\": {\"color\": \"#000000\"}, \"showarrow\": false, \"text\": \"659005\", \"x\": 0.55, \"xanchor\": \"left\", \"xref\": \"x\", \"y\": 10, \"yref\": \"y\"}, {\"align\": \"left\", \"font\": {\"color\": \"#000000\"}, \"showarrow\": false, \"text\": \"607287\", \"x\": 1.55, \"xanchor\": \"left\", \"xref\": \"x\", \"y\": 10, \"yref\": \"y\"}, {\"align\": \"left\", \"font\": {\"color\": \"#000000\"}, \"showarrow\": false, \"text\": \"1037674\", \"x\": 2.55, \"xanchor\": \"left\", \"xref\": \"x\", \"y\": 10, \"yref\": \"y\"}, {\"align\": \"left\", \"font\": {\"color\": \"#000000\"}, \"showarrow\": false, \"text\": \"669633\", \"x\": 3.55, \"xanchor\": \"left\", \"xref\": \"x\", \"y\": 10, \"yref\": \"y\"}], \"height\": 380, \"margin\": {\"b\": 0, \"l\": 0, \"r\": 0, \"t\": 0}, \"xaxis\": {\"dtick\": 1, \"gridwidth\": 2, \"showticklabels\": false, \"tick0\": -0.5, \"ticks\": \"\", \"zeroline\": false}, \"yaxis\": {\"autorange\": \"reversed\", \"dtick\": 1, \"gridwidth\": 2, \"showticklabels\": false, \"tick0\": 0.5, \"ticks\": \"\", \"zeroline\": false}}, {\"showLink\": true, \"linkText\": \"Export to plot.ly\", \"plotlyServerURL\": \"https://plot.ly\"})});</script><script type=\"text/javascript\">window.addEventListener(\"resize\", function(){window._Plotly.Plots.resize(document.getElementById(\"e7aee26d-122b-4850-bcb5-b3fc02edf523\"));});</script>"
      ],
      "text/vnd.plotly.v1+html": [
       "<div id=\"e7aee26d-122b-4850-bcb5-b3fc02edf523\" style=\"height: 380px; width: 100%;\" class=\"plotly-graph-div\"></div><script type=\"text/javascript\">require([\"plotly\"], function(Plotly) { window.PLOTLYENV=window.PLOTLYENV || {};window.PLOTLYENV.BASE_URL=\"https://plot.ly\";Plotly.newPlot(\"e7aee26d-122b-4850-bcb5-b3fc02edf523\", [{\"colorscale\": [[0, \"#000000\"], [0.5, \"#FFFFFF\"], [1, \"#ffffff\"]], \"hoverinfo\": \"none\", \"opacity\": 0.75, \"showscale\": false, \"z\": [[0, 0, 0, 0, 0], [0.5, 0.5, 0.5, 0.5, 0.5], [1, 1, 1, 1, 1], [0.5, 0.5, 0.5, 0.5, 0.5], [1, 1, 1, 1, 1], [0.5, 0.5, 0.5, 0.5, 0.5], [1, 1, 1, 1, 1], [0.5, 0.5, 0.5, 0.5, 0.5], [1, 1, 1, 1, 1], [0.5, 0.5, 0.5, 0.5, 0.5], [1, 1, 1, 1, 1]], \"type\": \"heatmap\", \"uid\": \"2d1b7e3a-b227-429c-8982-647c9b70b7cf\"}], {\"annotations\": [{\"align\": \"left\", \"font\": {\"color\": \"#ffffff\"}, \"showarrow\": false, \"text\": \"<b>Sequence Length</b>\", \"x\": -0.45, \"xanchor\": \"left\", \"xref\": \"x\", \"y\": 0, \"yref\": \"y\"}, {\"align\": \"left\", \"font\": {\"color\": \"#ffffff\"}, \"showarrow\": false, \"text\": \"<b>OPT</b>\", \"x\": 0.55, \"xanchor\": \"left\", \"xref\": \"x\", \"y\": 0, \"yref\": \"y\"}, {\"align\": \"left\", \"font\": {\"color\": \"#ffffff\"}, \"showarrow\": false, \"text\": \"<b>Splay</b>\", \"x\": 1.55, \"xanchor\": \"left\", \"xref\": \"x\", \"y\": 0, \"yref\": \"y\"}, {\"align\": \"left\", \"font\": {\"color\": \"#ffffff\"}, \"showarrow\": false, \"text\": \"<b>Transpose</b>\", \"x\": 2.55, \"xanchor\": \"left\", \"xref\": \"x\", \"y\": 0, \"yref\": \"y\"}, {\"align\": \"left\", \"font\": {\"color\": \"#ffffff\"}, \"showarrow\": false, \"text\": \"<b>2-in-a-Row</b>\", \"x\": 3.55, \"xanchor\": \"left\", \"xref\": \"x\", \"y\": 0, \"yref\": \"y\"}, {\"align\": \"left\", \"font\": {\"color\": \"#000000\"}, \"showarrow\": false, \"text\": \"10000\", \"x\": -0.45, \"xanchor\": \"left\", \"xref\": \"x\", \"y\": 1, \"yref\": \"y\"}, {\"align\": \"left\", \"font\": {\"color\": \"#000000\"}, \"showarrow\": false, \"text\": \"57661\", \"x\": 0.55, \"xanchor\": \"left\", \"xref\": \"x\", \"y\": 1, \"yref\": \"y\"}, {\"align\": \"left\", \"font\": {\"color\": \"#000000\"}, \"showarrow\": false, \"text\": \"60795\", \"x\": 1.55, \"xanchor\": \"left\", \"xref\": \"x\", \"y\": 1, \"yref\": \"y\"}, {\"align\": \"left\", \"font\": {\"color\": \"#000000\"}, \"showarrow\": false, \"text\": \"93908\", \"x\": 2.55, \"xanchor\": \"left\", \"xref\": \"x\", \"y\": 1, \"yref\": \"y\"}, {\"align\": \"left\", \"font\": {\"color\": \"#000000\"}, \"showarrow\": false, \"text\": \"67054\", \"x\": 3.55, \"xanchor\": \"left\", \"xref\": \"x\", \"y\": 1, \"yref\": \"y\"}, {\"align\": \"left\", \"font\": {\"color\": \"#000000\"}, \"showarrow\": false, \"text\": \"20000\", \"x\": -0.45, \"xanchor\": \"left\", \"xref\": \"x\", \"y\": 2, \"yref\": \"y\"}, {\"align\": \"left\", \"font\": {\"color\": \"#000000\"}, \"showarrow\": false, \"text\": \"119252\", \"x\": 0.55, \"xanchor\": \"left\", \"xref\": \"x\", \"y\": 2, \"yref\": \"y\"}, {\"align\": \"left\", \"font\": {\"color\": \"#000000\"}, \"showarrow\": false, \"text\": \"121232\", \"x\": 1.55, \"xanchor\": \"left\", \"xref\": \"x\", \"y\": 2, \"yref\": \"y\"}, {\"align\": \"left\", \"font\": {\"color\": \"#000000\"}, \"showarrow\": false, \"text\": \"223123\", \"x\": 2.55, \"xanchor\": \"left\", \"xref\": \"x\", \"y\": 2, \"yref\": \"y\"}, {\"align\": \"left\", \"font\": {\"color\": \"#000000\"}, \"showarrow\": false, \"text\": \"135876\", \"x\": 3.55, \"xanchor\": \"left\", \"xref\": \"x\", \"y\": 2, \"yref\": \"y\"}, {\"align\": \"left\", \"font\": {\"color\": \"#000000\"}, \"showarrow\": false, \"text\": \"30000\", \"x\": -0.45, \"xanchor\": \"left\", \"xref\": \"x\", \"y\": 3, \"yref\": \"y\"}, {\"align\": \"left\", \"font\": {\"color\": \"#000000\"}, \"showarrow\": false, \"text\": \"204459\", \"x\": 0.55, \"xanchor\": \"left\", \"xref\": \"x\", \"y\": 3, \"yref\": \"y\"}, {\"align\": \"left\", \"font\": {\"color\": \"#000000\"}, \"showarrow\": false, \"text\": \"181266\", \"x\": 1.55, \"xanchor\": \"left\", \"xref\": \"x\", \"y\": 3, \"yref\": \"y\"}, {\"align\": \"left\", \"font\": {\"color\": \"#000000\"}, \"showarrow\": false, \"text\": \"308547\", \"x\": 2.55, \"xanchor\": \"left\", \"xref\": \"x\", \"y\": 3, \"yref\": \"y\"}, {\"align\": \"left\", \"font\": {\"color\": \"#000000\"}, \"showarrow\": false, \"text\": \"199662\", \"x\": 3.55, \"xanchor\": \"left\", \"xref\": \"x\", \"y\": 3, \"yref\": \"y\"}, {\"align\": \"left\", \"font\": {\"color\": \"#000000\"}, \"showarrow\": false, \"text\": \"40000\", \"x\": -0.45, \"xanchor\": \"left\", \"xref\": \"x\", \"y\": 4, \"yref\": \"y\"}, {\"align\": \"left\", \"font\": {\"color\": \"#000000\"}, \"showarrow\": false, \"text\": \"305299\", \"x\": 0.55, \"xanchor\": \"left\", \"xref\": \"x\", \"y\": 4, \"yref\": \"y\"}, {\"align\": \"left\", \"font\": {\"color\": \"#000000\"}, \"showarrow\": false, \"text\": \"242825\", \"x\": 1.55, \"xanchor\": \"left\", \"xref\": \"x\", \"y\": 4, \"yref\": \"y\"}, {\"align\": \"left\", \"font\": {\"color\": \"#000000\"}, \"showarrow\": false, \"text\": \"382984\", \"x\": 2.55, \"xanchor\": \"left\", \"xref\": \"x\", \"y\": 4, \"yref\": \"y\"}, {\"align\": \"left\", \"font\": {\"color\": \"#000000\"}, \"showarrow\": false, \"text\": \"269974\", \"x\": 3.55, \"xanchor\": \"left\", \"xref\": \"x\", \"y\": 4, \"yref\": \"y\"}, {\"align\": \"left\", \"font\": {\"color\": \"#000000\"}, \"showarrow\": false, \"text\": \"50000\", \"x\": -0.45, \"xanchor\": \"left\", \"xref\": \"x\", \"y\": 5, \"yref\": \"y\"}, {\"align\": \"left\", \"font\": {\"color\": \"#000000\"}, \"showarrow\": false, \"text\": \"356225\", \"x\": 0.55, \"xanchor\": \"left\", \"xref\": \"x\", \"y\": 5, \"yref\": \"y\"}, {\"align\": \"left\", \"font\": {\"color\": \"#000000\"}, \"showarrow\": false, \"text\": \"303506\", \"x\": 1.55, \"xanchor\": \"left\", \"xref\": \"x\", \"y\": 5, \"yref\": \"y\"}, {\"align\": \"left\", \"font\": {\"color\": \"#000000\"}, \"showarrow\": false, \"text\": \"510398\", \"x\": 2.55, \"xanchor\": \"left\", \"xref\": \"x\", \"y\": 5, \"yref\": \"y\"}, {\"align\": \"left\", \"font\": {\"color\": \"#000000\"}, \"showarrow\": false, \"text\": \"332092\", \"x\": 3.55, \"xanchor\": \"left\", \"xref\": \"x\", \"y\": 5, \"yref\": \"y\"}, {\"align\": \"left\", \"font\": {\"color\": \"#000000\"}, \"showarrow\": false, \"text\": \"60000\", \"x\": -0.45, \"xanchor\": \"left\", \"xref\": \"x\", \"y\": 6, \"yref\": \"y\"}, {\"align\": \"left\", \"font\": {\"color\": \"#000000\"}, \"showarrow\": false, \"text\": \"369954\", \"x\": 0.55, \"xanchor\": \"left\", \"xref\": \"x\", \"y\": 6, \"yref\": \"y\"}, {\"align\": \"left\", \"font\": {\"color\": \"#000000\"}, \"showarrow\": false, \"text\": \"364777\", \"x\": 1.55, \"xanchor\": \"left\", \"xref\": \"x\", \"y\": 6, \"yref\": \"y\"}, {\"align\": \"left\", \"font\": {\"color\": \"#000000\"}, \"showarrow\": false, \"text\": \"639981\", \"x\": 2.55, \"xanchor\": \"left\", \"xref\": \"x\", \"y\": 6, \"yref\": \"y\"}, {\"align\": \"left\", \"font\": {\"color\": \"#000000\"}, \"showarrow\": false, \"text\": \"401225\", \"x\": 3.55, \"xanchor\": \"left\", \"xref\": \"x\", \"y\": 6, \"yref\": \"y\"}, {\"align\": \"left\", \"font\": {\"color\": \"#000000\"}, \"showarrow\": false, \"text\": \"70000\", \"x\": -0.45, \"xanchor\": \"left\", \"xref\": \"x\", \"y\": 7, \"yref\": \"y\"}, {\"align\": \"left\", \"font\": {\"color\": \"#000000\"}, \"showarrow\": false, \"text\": \"497523\", \"x\": 0.55, \"xanchor\": \"left\", \"xref\": \"x\", \"y\": 7, \"yref\": \"y\"}, {\"align\": \"left\", \"font\": {\"color\": \"#000000\"}, \"showarrow\": false, \"text\": \"423805\", \"x\": 1.55, \"xanchor\": \"left\", \"xref\": \"x\", \"y\": 7, \"yref\": \"y\"}, {\"align\": \"left\", \"font\": {\"color\": \"#000000\"}, \"showarrow\": false, \"text\": \"705973\", \"x\": 2.55, \"xanchor\": \"left\", \"xref\": \"x\", \"y\": 7, \"yref\": \"y\"}, {\"align\": \"left\", \"font\": {\"color\": \"#000000\"}, \"showarrow\": false, \"text\": \"459672\", \"x\": 3.55, \"xanchor\": \"left\", \"xref\": \"x\", \"y\": 7, \"yref\": \"y\"}, {\"align\": \"left\", \"font\": {\"color\": \"#000000\"}, \"showarrow\": false, \"text\": \"80000\", \"x\": -0.45, \"xanchor\": \"left\", \"xref\": \"x\", \"y\": 8, \"yref\": \"y\"}, {\"align\": \"left\", \"font\": {\"color\": \"#000000\"}, \"showarrow\": false, \"text\": \"537857\", \"x\": 0.55, \"xanchor\": \"left\", \"xref\": \"x\", \"y\": 8, \"yref\": \"y\"}, {\"align\": \"left\", \"font\": {\"color\": \"#000000\"}, \"showarrow\": false, \"text\": \"486479\", \"x\": 1.55, \"xanchor\": \"left\", \"xref\": \"x\", \"y\": 8, \"yref\": \"y\"}, {\"align\": \"left\", \"font\": {\"color\": \"#000000\"}, \"showarrow\": false, \"text\": \"844320\", \"x\": 2.55, \"xanchor\": \"left\", \"xref\": \"x\", \"y\": 8, \"yref\": \"y\"}, {\"align\": \"left\", \"font\": {\"color\": \"#000000\"}, \"showarrow\": false, \"text\": \"529103\", \"x\": 3.55, \"xanchor\": \"left\", \"xref\": \"x\", \"y\": 8, \"yref\": \"y\"}, {\"align\": \"left\", \"font\": {\"color\": \"#000000\"}, \"showarrow\": false, \"text\": \"90000\", \"x\": -0.45, \"xanchor\": \"left\", \"xref\": \"x\", \"y\": 9, \"yref\": \"y\"}, {\"align\": \"left\", \"font\": {\"color\": \"#000000\"}, \"showarrow\": false, \"text\": \"615042\", \"x\": 0.55, \"xanchor\": \"left\", \"xref\": \"x\", \"y\": 9, \"yref\": \"y\"}, {\"align\": \"left\", \"font\": {\"color\": \"#000000\"}, \"showarrow\": false, \"text\": \"547275\", \"x\": 1.55, \"xanchor\": \"left\", \"xref\": \"x\", \"y\": 9, \"yref\": \"y\"}, {\"align\": \"left\", \"font\": {\"color\": \"#000000\"}, \"showarrow\": false, \"text\": \"925898\", \"x\": 2.55, \"xanchor\": \"left\", \"xref\": \"x\", \"y\": 9, \"yref\": \"y\"}, {\"align\": \"left\", \"font\": {\"color\": \"#000000\"}, \"showarrow\": false, \"text\": \"600695\", \"x\": 3.55, \"xanchor\": \"left\", \"xref\": \"x\", \"y\": 9, \"yref\": \"y\"}, {\"align\": \"left\", \"font\": {\"color\": \"#000000\"}, \"showarrow\": false, \"text\": \"100000\", \"x\": -0.45, \"xanchor\": \"left\", \"xref\": \"x\", \"y\": 10, \"yref\": \"y\"}, {\"align\": \"left\", \"font\": {\"color\": \"#000000\"}, \"showarrow\": false, \"text\": \"659005\", \"x\": 0.55, \"xanchor\": \"left\", \"xref\": \"x\", \"y\": 10, \"yref\": \"y\"}, {\"align\": \"left\", \"font\": {\"color\": \"#000000\"}, \"showarrow\": false, \"text\": \"607287\", \"x\": 1.55, \"xanchor\": \"left\", \"xref\": \"x\", \"y\": 10, \"yref\": \"y\"}, {\"align\": \"left\", \"font\": {\"color\": \"#000000\"}, \"showarrow\": false, \"text\": \"1037674\", \"x\": 2.55, \"xanchor\": \"left\", \"xref\": \"x\", \"y\": 10, \"yref\": \"y\"}, {\"align\": \"left\", \"font\": {\"color\": \"#000000\"}, \"showarrow\": false, \"text\": \"669633\", \"x\": 3.55, \"xanchor\": \"left\", \"xref\": \"x\", \"y\": 10, \"yref\": \"y\"}], \"height\": 380, \"margin\": {\"b\": 0, \"l\": 0, \"r\": 0, \"t\": 0}, \"xaxis\": {\"dtick\": 1, \"gridwidth\": 2, \"showticklabels\": false, \"tick0\": -0.5, \"ticks\": \"\", \"zeroline\": false}, \"yaxis\": {\"autorange\": \"reversed\", \"dtick\": 1, \"gridwidth\": 2, \"showticklabels\": false, \"tick0\": 0.5, \"ticks\": \"\", \"zeroline\": false}}, {\"showLink\": true, \"linkText\": \"Export to plot.ly\", \"plotlyServerURL\": \"https://plot.ly\"})});</script><script type=\"text/javascript\">window.addEventListener(\"resize\", function(){window._Plotly.Plots.resize(document.getElementById(\"e7aee26d-122b-4850-bcb5-b3fc02edf523\"));});</script>"
      ]
     },
     "metadata": {},
     "output_type": "display_data"
    }
   ],
   "source": [
    "df = pd.read_csv('trees/staticMarkovLowTreesAccessCost.csv')\n",
    "\n",
    "trace1 = go.Scatter(\n",
    "                    x=df['Sequence Length'], y=df['Access Costs'], # Data\n",
    "                    mode='lines', name='OPT',\n",
    "                    line = dict(color = ('rgb(37, 120, 178)'))\n",
    "                   )\n",
    "\n",
    "df = pd.read_csv('trees/mtfMarkovLowTreesAccessCost.csv')\n",
    "\n",
    "trace2 = go.Scatter(\n",
    "                    x=df['Sequence Length'], y=df['Access Costs'], # Data\n",
    "                    mode='lines', name='Splay',\n",
    "                    line = dict(color = ('rgb(253, 127, 40)'))\n",
    "                   )\n",
    "\n",
    "df = pd.read_csv('trees/transposeMarkovLowTreesAccessCost.csv')\n",
    "\n",
    "trace3 = go.Scatter(\n",
    "                    x=df['Sequence Length'], y=df['Access Costs'], # Data\n",
    "                    mode='lines', name='Transpose',\n",
    "                    line = dict(color = ('rgb(50, 158, 52)'))\n",
    "                   )\n",
    "\n",
    "df = pd.read_csv('trees/kInARowMarkovLowTreesAccessCost.csv')\n",
    "\n",
    "trace4 = go.Scatter(\n",
    "                    x=df['Sequence Length'], y=df['Access Costs'], # Data\n",
    "                    mode='lines', name='2-in-a-row',\n",
    "                    line = dict(color = ('rgb(211, 41, 47)'))\n",
    "                   )\n",
    "\n",
    "\n",
    "\n",
    "layout = go.Layout(title='Trees Access Cost: Low Self Loop',\n",
    "                   plot_bgcolor='rgb(255, 255,255)',\n",
    "                   xaxis=dict(title='Sequence Length'),\n",
    "                   yaxis=dict(title='Access Cost'))\n",
    "\n",
    "fig = go.Figure(data=[trace1, trace2, trace3, trace4], layout=layout)\n",
    "\n",
    "# Plot data in the notebook\n",
    "iplot(fig)\n",
    "\n",
    "\n",
    "df = pd.read_csv('table/MarkovLowTrees.csv')\n",
    "colorscale = [[0, '#000000'],[.5, '#FFFFFF'],[1, '#ffffff']]\n",
    "table = ff.create_table(df, colorscale=colorscale)\n",
    "iplot(table)"
   ]
  },
  {
   "cell_type": "code",
   "execution_count": 35,
   "metadata": {},
   "outputs": [
    {
     "data": {
      "application/vnd.plotly.v1+json": {
       "config": {
        "linkText": "Export to plot.ly",
        "plotlyServerURL": "https://plot.ly",
        "showLink": true
       },
       "data": [
        {
         "line": {
          "color": "#CBF4F0"
         },
         "mode": "markers",
         "name": "100000",
         "type": "scatter",
         "uid": "9e18dfcb-1922-43f5-976c-fdd475a2dc32",
         "x": [
          37,
          22,
          99,
          16,
          96,
          71,
          44,
          48,
          49,
          55,
          74,
          3,
          64,
          95,
          2,
          77,
          10,
          19,
          25,
          89,
          46,
          80,
          78,
          79,
          20,
          84,
          69,
          31,
          26,
          8,
          60,
          50,
          9,
          29,
          11,
          39,
          65,
          100,
          33,
          13,
          53,
          41,
          52,
          18,
          27,
          56,
          12,
          15,
          36,
          43,
          82,
          66,
          42,
          81,
          40,
          94,
          67,
          75,
          34,
          72,
          1,
          58,
          21,
          93,
          54,
          6,
          17,
          32,
          68,
          87,
          28,
          83,
          38,
          62,
          61,
          85,
          63,
          4,
          30,
          5,
          97,
          98,
          51,
          88,
          45,
          35,
          59,
          23,
          14,
          24,
          91,
          70,
          86,
          76,
          57,
          7,
          47,
          73,
          92,
          90
         ],
         "y": [
          1.05,
          1.23,
          0.83,
          0.94,
          0.86,
          1.13,
          0.93,
          0.9,
          1,
          1.18,
          0.97,
          1,
          1.21,
          1,
          0.83,
          0.96,
          0.88,
          1.08,
          1.11,
          1.1,
          0.92,
          1.07,
          0.98,
          0.89,
          0.75,
          0.94,
          0.88,
          0.93,
          1.03,
          0.91,
          0.87,
          1.26,
          0.95,
          1.14,
          0.94,
          1,
          1.13,
          0.9,
          1.05,
          1.21,
          0.99,
          1.15,
          1.04,
          1.16,
          1.11,
          1.19,
          1.08,
          1.05,
          1.09,
          0.77,
          0.84,
          0.85,
          0.95,
          0.86,
          1.07,
          1.17,
          1.07,
          0.99,
          0.95,
          0.93,
          1.11,
          0.65,
          0.97,
          0.86,
          1.11,
          0.88,
          1.09,
          0.74,
          1.17,
          0.97,
          0.79,
          1.09,
          1.09,
          1.07,
          0.95,
          1.06,
          1.03,
          1.01,
          0.74,
          0.92,
          1.03,
          0.86,
          1.14,
          1.1,
          1.02,
          0.96,
          0.94,
          1.1,
          0.97,
          0.88,
          1.08,
          1.04,
          1.03,
          1,
          1.01,
          1.07,
          1.01,
          1.08,
          1.13,
          1
         ]
        },
        {
         "line": {
          "color": "#A9EDE6"
         },
         "mode": "markers",
         "name": "200000",
         "type": "scatter",
         "uid": "3851202e-19f0-468b-8122-484f99b6104a",
         "x": [
          37,
          22,
          99,
          16,
          96,
          71,
          44,
          48,
          49,
          55,
          74,
          3,
          64,
          95,
          2,
          77,
          10,
          19,
          25,
          89,
          46,
          80,
          78,
          79,
          20,
          84,
          69,
          31,
          26,
          8,
          60,
          50,
          9,
          29,
          11,
          39,
          65,
          100,
          33,
          13,
          53,
          41,
          52,
          18,
          27,
          56,
          12,
          15,
          36,
          43,
          82,
          66,
          42,
          81,
          40,
          94,
          67,
          75,
          34,
          72,
          1,
          58,
          21,
          93,
          54,
          6,
          17,
          32,
          68,
          87,
          28,
          83,
          38,
          62,
          61,
          85,
          63,
          4,
          30,
          5,
          97,
          98,
          51,
          88,
          45,
          35,
          59,
          23,
          14,
          24,
          91,
          70,
          86,
          76,
          57,
          7,
          47,
          73,
          92,
          90
         ],
         "y": [
          0.92,
          1.04,
          0.895,
          1,
          1.005,
          0.995,
          1.035,
          1.06,
          1.12,
          0.96,
          1.185,
          1.075,
          1.04,
          1.02,
          1.045,
          1.07,
          1.14,
          0.885,
          0.945,
          0.97,
          1.055,
          1.14,
          0.945,
          0.89,
          1.07,
          1.035,
          0.985,
          0.915,
          1.12,
          0.875,
          0.905,
          1.005,
          1.1,
          1.05,
          0.96,
          0.895,
          0.98,
          0.955,
          1.095,
          0.99,
          0.97,
          1.09,
          1.005,
          0.925,
          1.025,
          0.955,
          0.945,
          0.865,
          1.06,
          0.925,
          1.055,
          0.84,
          0.97,
          1.07,
          0.85,
          0.86,
          0.97,
          1.025,
          1.07,
          0.975,
          1.175,
          1.095,
          1.185,
          0.985,
          1.045,
          0.995,
          1.09,
          0.91,
          1.145,
          1.13,
          1.05,
          0.95,
          1.03,
          1.02,
          0.935,
          0.965,
          0.88,
          0.925,
          0.995,
          0.9,
          0.87,
          1.02,
          1.075,
          1,
          0.89,
          1.12,
          1.025,
          0.93,
          1.155,
          0.8,
          0.92,
          0.99,
          1.14,
          0.955,
          1.025,
          0.955,
          1.11,
          0.86,
          1.07,
          0.865
         ]
        },
        {
         "line": {
          "color": "#86E6DC"
         },
         "mode": "markers",
         "name": "300000",
         "type": "scatter",
         "uid": "a95fe184-08e2-4848-a4f6-36f8fab270c7",
         "x": [
          37,
          22,
          99,
          16,
          96,
          71,
          44,
          48,
          49,
          55,
          74,
          3,
          64,
          95,
          2,
          77,
          10,
          19,
          25,
          89,
          46,
          80,
          78,
          79,
          20,
          84,
          69,
          31,
          26,
          8,
          60,
          50,
          9,
          29,
          11,
          39,
          65,
          100,
          33,
          13,
          53,
          41,
          52,
          18,
          27,
          56,
          12,
          15,
          36,
          43,
          82,
          66,
          42,
          81,
          40,
          94,
          67,
          75,
          34,
          72,
          1,
          58,
          21,
          93,
          54,
          6,
          17,
          32,
          68,
          87,
          28,
          83,
          38,
          62,
          61,
          85,
          63,
          4,
          30,
          5,
          97,
          98,
          51,
          88,
          45,
          35,
          59,
          23,
          14,
          24,
          91,
          70,
          86,
          76,
          57,
          7,
          47,
          73,
          92,
          90
         ],
         "y": [
          0.9766666666666668,
          0.9133333333333332,
          1.0666666666666669,
          0.98,
          0.98,
          1.0366666666666666,
          0.9833333333333332,
          0.9133333333333332,
          0.9466666666666668,
          0.9733333333333334,
          0.97,
          1.0166666666666666,
          1.14,
          1.0833333333333333,
          1.0333333333333334,
          1.0466666666666666,
          1.0366666666666666,
          1.0433333333333332,
          1.0266666666666666,
          1.1033333333333333,
          1.01,
          0.9866666666666668,
          0.9366666666666666,
          1.0033333333333334,
          1.0166666666666666,
          1.0733333333333333,
          0.9333333333333332,
          1.05,
          0.95,
          1.03,
          1.0733333333333333,
          0.8533333333333334,
          1.02,
          1.08,
          1.0433333333333332,
          0.9233333333333332,
          1.086666666666667,
          0.9466666666666668,
          1.03,
          0.89,
          1.086666666666667,
          0.87,
          0.9533333333333334,
          0.98,
          1.0333333333333334,
          1.04,
          0.9266666666666666,
          1.0266666666666666,
          0.9266666666666666,
          0.9333333333333332,
          1.1,
          0.93,
          1.0033333333333334,
          1.0666666666666669,
          0.86,
          0.9,
          1.0233333333333334,
          1.106666666666667,
          1.0433333333333332,
          0.9666666666666668,
          0.9933333333333332,
          1.0433333333333332,
          1.0633333333333332,
          1.0633333333333332,
          0.9733333333333334,
          1.0366666666666666,
          0.9133333333333332,
          1.0366666666666666,
          0.95,
          1.0266666666666666,
          0.9466666666666668,
          0.9233333333333332,
          0.9633333333333334,
          0.8833333333333333,
          1.086666666666667,
          1.0566666666666666,
          1.0566666666666666,
          0.93,
          1.0133333333333334,
          0.8933333333333333,
          0.9933333333333332,
          0.9566666666666668,
          1.06,
          1.0366666666666666,
          1.0466666666666666,
          1,
          1.0633333333333332,
          1.09,
          0.9333333333333332,
          0.9866666666666668,
          1.153333333333333,
          0.9966666666666668,
          0.99,
          1.0933333333333333,
          0.9566666666666668,
          1.0466666666666666,
          0.9866666666666668,
          0.8333333333333334,
          0.9833333333333332,
          0.9566666666666668
         ]
        },
        {
         "line": {
          "color": "#64DFD2"
         },
         "mode": "markers",
         "name": "400000",
         "type": "scatter",
         "uid": "beac8561-1d97-483b-98dd-55cfbb47d873",
         "x": [
          37,
          22,
          99,
          16,
          96,
          71,
          44,
          48,
          49,
          55,
          74,
          3,
          64,
          95,
          2,
          77,
          10,
          19,
          25,
          89,
          46,
          80,
          78,
          79,
          20,
          84,
          69,
          31,
          26,
          8,
          60,
          50,
          9,
          29,
          11,
          39,
          65,
          100,
          33,
          13,
          53,
          41,
          52,
          18,
          27,
          56,
          12,
          15,
          36,
          43,
          82,
          66,
          42,
          81,
          40,
          94,
          67,
          75,
          34,
          72,
          1,
          58,
          21,
          93,
          54,
          6,
          17,
          32,
          68,
          87,
          28,
          83,
          38,
          62,
          61,
          85,
          63,
          4,
          30,
          5,
          97,
          98,
          51,
          88,
          45,
          35,
          59,
          23,
          14,
          24,
          91,
          70,
          86,
          76,
          57,
          7,
          47,
          73,
          92,
          90
         ],
         "y": [
          1.02,
          0.97,
          0.945,
          0.895,
          1.01,
          0.9825,
          0.9675,
          1.0875,
          1.0525,
          0.925,
          0.995,
          0.95,
          0.975,
          1.0875,
          1.0025,
          1.08,
          1.0075,
          0.965,
          0.97,
          1.0425,
          1.0375,
          1.0425,
          1.165,
          1.06,
          1.1225,
          1.0275,
          0.9875,
          1.0525,
          1.03,
          1.035,
          0.9875,
          1.09,
          1.0175,
          1.095,
          0.9025,
          1.0375,
          0.92,
          0.94,
          0.9575,
          0.995,
          0.9725,
          0.9475,
          0.9475,
          1.06,
          1.0625,
          0.9775,
          0.8825,
          1.1725,
          0.9275,
          0.965,
          0.985,
          1.015,
          0.9925,
          0.975,
          0.995,
          0.9925,
          0.9075,
          1.0125,
          0.9975,
          0.965,
          1.0075,
          0.99,
          1.03,
          1.0225,
          1.045,
          0.9775,
          1.0475,
          1.025,
          0.9725,
          0.84,
          0.9525,
          0.9275,
          0.99,
          1.0175,
          0.99,
          1.0525,
          1.0525,
          0.915,
          1.07,
          0.99,
          0.92,
          1.05,
          0.985,
          0.9625,
          0.975,
          0.985,
          0.9575,
          0.935,
          0.9425,
          1.115,
          1.0125,
          0.9475,
          0.975,
          1.0425,
          1.0625,
          1.0675,
          0.9525,
          0.98,
          0.97,
          1.0625
         ]
        },
        {
         "line": {
          "color": "#42D9C8"
         },
         "mode": "markers",
         "name": "500000",
         "type": "scatter",
         "uid": "78fffa0c-9a1d-4f45-b4d9-182828e90101",
         "x": [
          37,
          22,
          99,
          16,
          96,
          71,
          44,
          48,
          49,
          55,
          74,
          3,
          64,
          95,
          2,
          77,
          10,
          19,
          25,
          89,
          46,
          80,
          78,
          79,
          20,
          84,
          69,
          31,
          26,
          8,
          60,
          50,
          9,
          29,
          11,
          39,
          65,
          100,
          33,
          13,
          53,
          41,
          52,
          18,
          27,
          56,
          12,
          15,
          36,
          43,
          82,
          66,
          42,
          81,
          40,
          94,
          67,
          75,
          34,
          72,
          1,
          58,
          21,
          93,
          54,
          6,
          17,
          32,
          68,
          87,
          28,
          83,
          38,
          62,
          61,
          85,
          63,
          4,
          30,
          5,
          97,
          98,
          51,
          88,
          45,
          35,
          59,
          23,
          14,
          24,
          91,
          70,
          86,
          76,
          57,
          7,
          47,
          73,
          92,
          90
         ],
         "y": [
          0.988,
          0.966,
          1.024,
          0.986,
          0.978,
          1.018,
          1.042,
          0.9159999999999999,
          1.006,
          0.976,
          1.058,
          1.008,
          0.988,
          0.982,
          0.986,
          0.9640000000000001,
          0.998,
          0.978,
          1.074,
          0.946,
          1.062,
          0.988,
          1.022,
          0.972,
          0.9740000000000001,
          1.044,
          1.004,
          0.9079999999999999,
          1.0959999999999999,
          1.018,
          1.006,
          0.992,
          1.026,
          0.938,
          0.9440000000000001,
          1.036,
          1.012,
          1.03,
          0.9520000000000001,
          1.148,
          0.9740000000000001,
          1.002,
          0.982,
          0.988,
          0.9540000000000001,
          0.988,
          0.992,
          0.894,
          0.9640000000000001,
          0.988,
          1.04,
          1.014,
          1.004,
          1.046,
          1.024,
          0.9940000000000001,
          0.96,
          0.9740000000000001,
          0.958,
          1.042,
          1.074,
          0.976,
          0.94,
          0.968,
          0.998,
          0.958,
          1.07,
          1.068,
          0.982,
          1.07,
          0.992,
          0.98,
          0.988,
          1.05,
          1.03,
          0.988,
          0.9079999999999999,
          0.9640000000000001,
          0.95,
          1.002,
          0.978,
          1.01,
          1.024,
          0.934,
          0.99,
          1.048,
          0.9520000000000001,
          1.028,
          0.98,
          1.02,
          1.034,
          1.016,
          1.094,
          1.028,
          1.012,
          1.052,
          1.012,
          1.024,
          1.012,
          0.96
         ]
        },
        {
         "line": {
          "color": "#37B2A4"
         },
         "mode": "markers",
         "name": "600000",
         "type": "scatter",
         "uid": "ab3e78ee-1d5b-4878-9fe8-01b7cb8e446e",
         "x": [
          37,
          22,
          99,
          16,
          96,
          71,
          44,
          48,
          49,
          55,
          74,
          3,
          64,
          95,
          2,
          77,
          10,
          19,
          25,
          89,
          46,
          80,
          78,
          79,
          20,
          84,
          69,
          31,
          26,
          8,
          60,
          50,
          9,
          29,
          11,
          39,
          65,
          100,
          33,
          13,
          53,
          41,
          52,
          18,
          27,
          56,
          12,
          15,
          36,
          43,
          82,
          66,
          42,
          81,
          40,
          94,
          67,
          75,
          34,
          72,
          1,
          58,
          21,
          93,
          54,
          6,
          17,
          32,
          68,
          87,
          28,
          83,
          38,
          62,
          61,
          85,
          63,
          4,
          30,
          5,
          97,
          98,
          51,
          88,
          45,
          35,
          59,
          23,
          14,
          24,
          91,
          70,
          86,
          76,
          57,
          7,
          47,
          73,
          92,
          90
         ],
         "y": [
          0.9633333333333334,
          1.05,
          1.028333333333333,
          0.97,
          1.0233333333333334,
          0.9416666666666668,
          1.0633333333333332,
          1.0933333333333333,
          0.905,
          1.0733333333333333,
          1.0216666666666667,
          0.9583333333333334,
          1.0816666666666668,
          1.035,
          0.9533333333333334,
          1.0316666666666667,
          1.0316666666666667,
          1.0583333333333331,
          1.0516666666666667,
          1,
          0.99,
          1.0133333333333334,
          0.8733333333333333,
          0.9833333333333332,
          1.0466666666666666,
          0.9833333333333332,
          0.9266666666666666,
          1.0033333333333334,
          1.065,
          0.9783333333333334,
          0.9933333333333332,
          0.9933333333333332,
          0.995,
          1.018333333333333,
          0.9366666666666666,
          0.9383333333333334,
          1.0316666666666667,
          1.028333333333333,
          0.975,
          1.0316666666666667,
          1.0083333333333333,
          0.9533333333333334,
          0.9933333333333332,
          0.9816666666666668,
          0.905,
          0.9233333333333332,
          0.985,
          0.9716666666666668,
          1.0216666666666667,
          1.05,
          0.9466666666666668,
          1.0316666666666667,
          0.9733333333333334,
          1,
          0.9566666666666668,
          1.038333333333333,
          0.98,
          0.98,
          0.975,
          0.9766666666666668,
          1.01,
          1.0733333333333333,
          1.0066666666666666,
          0.9983333333333332,
          1.095,
          0.9483333333333334,
          0.9883333333333332,
          1.018333333333333,
          1.1166666666666667,
          1.018333333333333,
          0.9983333333333332,
          0.99,
          0.99,
          1.025,
          1.0233333333333334,
          0.9316666666666666,
          0.9233333333333332,
          1.0583333333333331,
          1.04,
          1.0216666666666667,
          1.018333333333333,
          0.995,
          1.0133333333333334,
          0.96,
          0.975,
          1.0233333333333334,
          0.9616666666666668,
          1.018333333333333,
          0.975,
          1.0033333333333334,
          0.9866666666666668,
          1.04,
          0.9883333333333332,
          1.0483333333333331,
          0.9733333333333334,
          0.9033333333333332,
          0.93,
          1.01,
          1.0933333333333333,
          1.0166666666666666
         ]
        },
        {
         "line": {
          "color": "#2A8B80"
         },
         "mode": "markers",
         "name": "700000",
         "type": "scatter",
         "uid": "f66587b4-b6b9-4087-924c-94b478ab668f",
         "x": [
          37,
          22,
          99,
          16,
          96,
          71,
          44,
          48,
          49,
          55,
          74,
          3,
          64,
          95,
          2,
          77,
          10,
          19,
          25,
          89,
          46,
          80,
          78,
          79,
          20,
          84,
          69,
          31,
          26,
          8,
          60,
          50,
          9,
          29,
          11,
          39,
          65,
          100,
          33,
          13,
          53,
          41,
          52,
          18,
          27,
          56,
          12,
          15,
          36,
          43,
          82,
          66,
          42,
          81,
          40,
          94,
          67,
          75,
          34,
          72,
          1,
          58,
          21,
          93,
          54,
          6,
          17,
          32,
          68,
          87,
          28,
          83,
          38,
          62,
          61,
          85,
          63,
          4,
          30,
          5,
          97,
          98,
          51,
          88,
          45,
          35,
          59,
          23,
          14,
          24,
          91,
          70,
          86,
          76,
          57,
          7,
          47,
          73,
          92,
          90
         ],
         "y": [
          0.9114285714285716,
          0.9642857142857144,
          0.9985714285714286,
          1.0857142857142856,
          0.9542857142857144,
          1.06,
          0.9457142857142856,
          0.9671428571428572,
          1.0742857142857145,
          1.0514285714285714,
          1,
          1.0157142857142858,
          1.0171428571428571,
          1.0471428571428572,
          0.9357142857142856,
          0.9971428571428572,
          0.9785714285714284,
          1.052857142857143,
          0.9757142857142858,
          0.9885714285714284,
          0.9714285714285714,
          1.0514285714285714,
          0.9314285714285714,
          1.0214285714285714,
          0.9428571428571428,
          1.012857142857143,
          0.95,
          1.0071428571428571,
          0.9871428571428572,
          0.9985714285714286,
          1.0314285714285714,
          0.9814285714285714,
          0.93,
          0.9371428571428572,
          1.0214285714285714,
          0.9642857142857144,
          1.05,
          0.9757142857142858,
          0.9885714285714284,
          1.0657142857142856,
          0.9471428571428572,
          0.98,
          1.0057142857142858,
          0.9871428571428572,
          0.9957142857142856,
          1.0271428571428571,
          1.01,
          1.0971428571428572,
          1.0071428571428571,
          0.9528571428571428,
          1.072857142857143,
          1.0785714285714283,
          0.96,
          1.0757142857142856,
          0.9928571428571428,
          0.9757142857142858,
          1.0285714285714285,
          0.9928571428571428,
          1.0342857142857145,
          0.9557142857142856,
          1.0571428571428572,
          1.0514285714285714,
          0.9871428571428572,
          0.9314285714285714,
          1.042857142857143,
          1.05,
          1.0371428571428571,
          1.0385714285714285,
          0.9771428571428572,
          0.9471428571428572,
          0.9542857142857144,
          0.96,
          0.9271428571428572,
          0.9871428571428572,
          1.0485714285714285,
          0.9528571428571428,
          1.0585714285714285,
          1.0342857142857145,
          0.9871428571428572,
          1.0485714285714285,
          0.9557142857142856,
          0.9628571428571427,
          0.9842857142857144,
          0.9357142857142856,
          1.0171428571428571,
          1.01,
          1.0357142857142858,
          1.03,
          0.9614285714285714,
          1.0571428571428572,
          1.0471428571428572,
          1.03,
          1.032857142857143,
          0.98,
          0.9985714285714286,
          0.9685714285714284,
          1.062857142857143,
          0.9228571428571428,
          0.9314285714285714,
          0.9785714285714284
         ]
        },
        {
         "line": {
          "color": "#206e65"
         },
         "mode": "markers",
         "name": "800000",
         "type": "scatter",
         "uid": "ac58c92d-8ada-4be5-9720-031506463ec2",
         "x": [
          37,
          22,
          99,
          16,
          96,
          71,
          44,
          48,
          49,
          55,
          74,
          3,
          64,
          95,
          2,
          77,
          10,
          19,
          25,
          89,
          46,
          80,
          78,
          79,
          20,
          84,
          69,
          31,
          26,
          8,
          60,
          50,
          9,
          29,
          11,
          39,
          65,
          100,
          33,
          13,
          53,
          41,
          52,
          18,
          27,
          56,
          12,
          15,
          36,
          43,
          82,
          66,
          42,
          81,
          40,
          94,
          67,
          75,
          34,
          72,
          1,
          58,
          21,
          93,
          54,
          6,
          17,
          32,
          68,
          87,
          28,
          83,
          38,
          62,
          61,
          85,
          63,
          4,
          30,
          5,
          97,
          98,
          51,
          88,
          45,
          35,
          59,
          23,
          14,
          24,
          91,
          70,
          86,
          76,
          57,
          7,
          47,
          73,
          92,
          90
         ],
         "y": [
          1.03625,
          1.0075,
          1.02,
          1.065,
          0.98375,
          0.955,
          1.03375,
          1.0475,
          1.01375,
          0.98625,
          0.99125,
          0.95875,
          1.06125,
          0.95875,
          1.01875,
          1.03125,
          1.02375,
          0.9775,
          0.98625,
          0.94375,
          0.9825,
          0.91,
          0.97625,
          0.985,
          1.01375,
          0.9725,
          1.01875,
          0.93375,
          0.9975,
          0.9675,
          0.97875,
          0.96125,
          1.01375,
          0.98625,
          0.95375,
          1.0375,
          0.9975,
          1.00625,
          0.97125,
          1.03375,
          0.99375,
          0.97625,
          1.0175,
          1.07,
          0.99125,
          1.0375,
          0.9475,
          1.04875,
          1.04625,
          1.0025,
          0.98125,
          0.97375,
          0.9275,
          1.0075,
          0.9275,
          0.98625,
          1.03,
          1.02375,
          0.9825,
          0.97125,
          1.025,
          1.075,
          0.97375,
          0.97625,
          1.065,
          1.03,
          1.0625,
          1.04625,
          1.00375,
          1.0125,
          0.9675,
          1.06,
          0.99625,
          1.08,
          1.015,
          0.96625,
          1.00875,
          1.07375,
          1.0225,
          1.01,
          0.96125,
          1.05,
          0.975,
          0.96875,
          0.975,
          0.985,
          0.9675,
          0.97375,
          0.97,
          0.97,
          0.99625,
          1.05,
          1.06625,
          0.98125,
          0.9975,
          1.04875,
          0.96,
          0.95375,
          0.90875,
          1.03125
         ]
        },
        {
         "line": {
          "color": "#1d5b54"
         },
         "mode": "markers",
         "name": "900000",
         "type": "scatter",
         "uid": "a09a37ba-f700-4dab-9784-5303e98948ec",
         "x": [
          37,
          22,
          99,
          16,
          96,
          71,
          44,
          48,
          49,
          55,
          74,
          3,
          64,
          95,
          2,
          77,
          10,
          19,
          25,
          89,
          46,
          80,
          78,
          79,
          20,
          84,
          69,
          31,
          26,
          8,
          60,
          50,
          9,
          29,
          11,
          39,
          65,
          100,
          33,
          13,
          53,
          41,
          52,
          18,
          27,
          56,
          12,
          15,
          36,
          43,
          82,
          66,
          42,
          81,
          40,
          94,
          67,
          75,
          34,
          72,
          1,
          58,
          21,
          93,
          54,
          6,
          17,
          32,
          68,
          87,
          28,
          83,
          38,
          62,
          61,
          85,
          63,
          4,
          30,
          5,
          97,
          98,
          51,
          88,
          45,
          35,
          59,
          23,
          14,
          24,
          91,
          70,
          86,
          76,
          57,
          7,
          47,
          73,
          92,
          90
         ],
         "y": [
          1.0422222222222222,
          0.9211111111111112,
          1.06,
          0.9322222222222222,
          1.01,
          1,
          1,
          1.0033333333333334,
          0.9433333333333334,
          1.0288888888888892,
          1.0922222222222222,
          1.0188888888888892,
          1.0666666666666669,
          1.022222222222222,
          0.9855555555555556,
          1.0377777777777777,
          0.9844444444444445,
          0.99,
          1.0444444444444445,
          1.0388888888888892,
          1.007777777777778,
          1.0411111111111109,
          0.9577777777777776,
          0.9588888888888888,
          0.98,
          0.9944444444444444,
          0.9344444444444444,
          0.9544444444444444,
          0.9877777777777778,
          1.0422222222222222,
          1.03,
          0.9622222222222222,
          1.0111111111111108,
          1.0166666666666666,
          0.9866666666666668,
          0.9666666666666668,
          1.002222222222222,
          1.0011111111111108,
          1.0066666666666666,
          0.9777777777777776,
          1.0677777777777775,
          0.9355555555555556,
          1.0322222222222222,
          1.0577777777777777,
          1.0366666666666666,
          1.0344444444444445,
          1.0144444444444445,
          0.9833333333333332,
          1.012222222222222,
          1.0411111111111109,
          1.0311111111111109,
          0.9777777777777776,
          1.0555555555555556,
          1.0411111111111109,
          0.9844444444444445,
          0.9744444444444444,
          1.022222222222222,
          1.007777777777778,
          1.0266666666666666,
          0.97,
          0.9633333333333334,
          1.0244444444444445,
          0.9944444444444444,
          0.9744444444444444,
          1.06,
          0.9455555555555556,
          0.9377777777777778,
          0.9922222222222222,
          0.9766666666666668,
          1.0177777777777777,
          1.0133333333333334,
          0.9877777777777778,
          0.9988888888888888,
          1.06,
          1.0677777777777775,
          0.9622222222222222,
          1.0722222222222222,
          0.9277777777777778,
          1.0188888888888892,
          0.9666666666666668,
          0.9611111111111112,
          1.022222222222222,
          1.0044444444444445,
          0.9988888888888888,
          0.9444444444444444,
          0.9577777777777776,
          1.0333333333333334,
          1.0244444444444445,
          0.9877777777777778,
          0.9811111111111112,
          1.0055555555555555,
          0.9922222222222222,
          1.0088888888888892,
          0.9033333333333332,
          0.9588888888888888,
          0.9811111111111112,
          0.9577777777777776,
          0.9911111111111112,
          0.9333333333333332,
          1.0411111111111109
         ]
        },
        {
         "line": {
          "color": "#0c463e"
         },
         "mode": "markers",
         "name": "1000000",
         "type": "scatter",
         "uid": "2d974cfe-d7f1-435c-88a4-314f15810a51",
         "x": [
          37,
          22,
          99,
          16,
          96,
          71,
          44,
          48,
          49,
          55,
          74,
          3,
          64,
          95,
          2,
          77,
          10,
          19,
          25,
          89,
          46,
          80,
          78,
          79,
          20,
          84,
          69,
          31,
          26,
          8,
          60,
          50,
          9,
          29,
          11,
          39,
          65,
          100,
          33,
          13,
          53,
          41,
          52,
          18,
          27,
          56,
          12,
          15,
          36,
          43,
          82,
          66,
          42,
          81,
          40,
          94,
          67,
          75,
          34,
          72,
          1,
          58,
          21,
          93,
          54,
          6,
          17,
          32,
          68,
          87,
          28,
          83,
          38,
          62,
          61,
          85,
          63,
          4,
          30,
          5,
          97,
          98,
          51,
          88,
          45,
          35,
          59,
          23,
          14,
          24,
          91,
          70,
          86,
          76,
          57,
          7,
          47,
          73,
          92,
          90
         ],
         "y": [
          0.951,
          1.0170000000000001,
          1.031,
          1.061,
          1.0070000000000001,
          0.991,
          0.973,
          1.008,
          0.986,
          0.9490000000000001,
          1.0070000000000001,
          1.038,
          0.9890000000000001,
          0.975,
          1.072,
          0.932,
          1.005,
          0.948,
          1.02,
          1.021,
          1.014,
          1,
          1.01,
          0.948,
          0.998,
          1.004,
          0.991,
          1.0290000000000001,
          0.997,
          1.031,
          0.958,
          0.9520000000000001,
          0.9640000000000001,
          0.975,
          1.051,
          1.002,
          0.9940000000000001,
          1.01,
          1.077,
          1.035,
          1.031,
          0.986,
          0.985,
          0.935,
          1,
          1.0590000000000002,
          1.012,
          0.9990000000000001,
          1.005,
          0.972,
          0.972,
          0.9640000000000001,
          0.992,
          1.05,
          1.045,
          0.9620000000000001,
          1.032,
          0.975,
          1.014,
          1.0390000000000001,
          1.004,
          0.9620000000000001,
          0.9890000000000001,
          1.082,
          1.056,
          0.956,
          0.971,
          1.041,
          0.953,
          0.97,
          1.012,
          1.037,
          0.961,
          1.028,
          1.001,
          1.015,
          0.9329999999999999,
          0.9640000000000001,
          0.992,
          0.9790000000000001,
          0.995,
          0.995,
          0.955,
          0.9129999999999999,
          1.0190000000000001,
          0.997,
          1.046,
          0.909,
          0.987,
          1.02,
          1.023,
          1.028,
          1.021,
          1.028,
          1.034,
          1.026,
          1.005,
          1.025,
          1.018,
          1
         ]
        }
       ],
       "layout": {
        "plot_bgcolor": "rgb(255, 255,255)",
        "title": "Low Self Loop Input/Frequency",
        "xaxis": {
         "title": "Input"
        },
        "yaxis": {
         "title": "Frequency (%)"
        }
       }
      },
      "text/html": [
       "<div id=\"e177a641-d39e-4d77-a939-0a58e652bac1\" style=\"height: 525px; width: 100%;\" class=\"plotly-graph-div\"></div><script type=\"text/javascript\">require([\"plotly\"], function(Plotly) { window.PLOTLYENV=window.PLOTLYENV || {};window.PLOTLYENV.BASE_URL=\"https://plot.ly\";Plotly.newPlot(\"e177a641-d39e-4d77-a939-0a58e652bac1\", [{\"line\": {\"color\": \"#CBF4F0\"}, \"mode\": \"markers\", \"name\": \"100000\", \"x\": [37, 22, 99, 16, 96, 71, 44, 48, 49, 55, 74, 3, 64, 95, 2, 77, 10, 19, 25, 89, 46, 80, 78, 79, 20, 84, 69, 31, 26, 8, 60, 50, 9, 29, 11, 39, 65, 100, 33, 13, 53, 41, 52, 18, 27, 56, 12, 15, 36, 43, 82, 66, 42, 81, 40, 94, 67, 75, 34, 72, 1, 58, 21, 93, 54, 6, 17, 32, 68, 87, 28, 83, 38, 62, 61, 85, 63, 4, 30, 5, 97, 98, 51, 88, 45, 35, 59, 23, 14, 24, 91, 70, 86, 76, 57, 7, 47, 73, 92, 90], \"y\": [1.05, 1.23, 0.83, 0.94, 0.86, 1.13, 0.93, 0.9, 1.0, 1.18, 0.97, 1.0, 1.21, 1.0, 0.83, 0.96, 0.88, 1.08, 1.11, 1.1, 0.92, 1.07, 0.98, 0.89, 0.75, 0.94, 0.88, 0.93, 1.03, 0.91, 0.87, 1.26, 0.95, 1.14, 0.94, 1.0, 1.13, 0.9, 1.05, 1.21, 0.99, 1.15, 1.04, 1.16, 1.11, 1.19, 1.08, 1.05, 1.09, 0.77, 0.84, 0.85, 0.95, 0.86, 1.07, 1.17, 1.07, 0.99, 0.95, 0.93, 1.11, 0.65, 0.97, 0.86, 1.11, 0.88, 1.09, 0.74, 1.17, 0.97, 0.79, 1.09, 1.09, 1.07, 0.95, 1.06, 1.03, 1.01, 0.74, 0.92, 1.03, 0.86, 1.14, 1.1, 1.02, 0.96, 0.94, 1.1, 0.97, 0.88, 1.08, 1.04, 1.03, 1.0, 1.01, 1.07, 1.01, 1.08, 1.13, 1.0], \"type\": \"scatter\", \"uid\": \"9e18dfcb-1922-43f5-976c-fdd475a2dc32\"}, {\"line\": {\"color\": \"#A9EDE6\"}, \"mode\": \"markers\", \"name\": \"200000\", \"x\": [37, 22, 99, 16, 96, 71, 44, 48, 49, 55, 74, 3, 64, 95, 2, 77, 10, 19, 25, 89, 46, 80, 78, 79, 20, 84, 69, 31, 26, 8, 60, 50, 9, 29, 11, 39, 65, 100, 33, 13, 53, 41, 52, 18, 27, 56, 12, 15, 36, 43, 82, 66, 42, 81, 40, 94, 67, 75, 34, 72, 1, 58, 21, 93, 54, 6, 17, 32, 68, 87, 28, 83, 38, 62, 61, 85, 63, 4, 30, 5, 97, 98, 51, 88, 45, 35, 59, 23, 14, 24, 91, 70, 86, 76, 57, 7, 47, 73, 92, 90], \"y\": [0.92, 1.04, 0.895, 1.0, 1.005, 0.995, 1.035, 1.06, 1.12, 0.96, 1.185, 1.075, 1.04, 1.02, 1.045, 1.07, 1.14, 0.885, 0.945, 0.97, 1.055, 1.14, 0.945, 0.89, 1.07, 1.035, 0.985, 0.915, 1.12, 0.875, 0.905, 1.005, 1.1, 1.05, 0.96, 0.895, 0.98, 0.955, 1.095, 0.99, 0.97, 1.09, 1.005, 0.925, 1.025, 0.955, 0.945, 0.865, 1.06, 0.925, 1.055, 0.84, 0.97, 1.07, 0.85, 0.86, 0.97, 1.025, 1.07, 0.975, 1.175, 1.095, 1.185, 0.985, 1.045, 0.995, 1.09, 0.91, 1.145, 1.13, 1.05, 0.95, 1.03, 1.02, 0.935, 0.965, 0.88, 0.925, 0.995, 0.9, 0.87, 1.02, 1.075, 1.0, 0.89, 1.12, 1.025, 0.93, 1.155, 0.8, 0.92, 0.99, 1.14, 0.955, 1.025, 0.955, 1.11, 0.86, 1.07, 0.865], \"type\": \"scatter\", \"uid\": \"3851202e-19f0-468b-8122-484f99b6104a\"}, {\"line\": {\"color\": \"#86E6DC\"}, \"mode\": \"markers\", \"name\": \"300000\", \"x\": [37, 22, 99, 16, 96, 71, 44, 48, 49, 55, 74, 3, 64, 95, 2, 77, 10, 19, 25, 89, 46, 80, 78, 79, 20, 84, 69, 31, 26, 8, 60, 50, 9, 29, 11, 39, 65, 100, 33, 13, 53, 41, 52, 18, 27, 56, 12, 15, 36, 43, 82, 66, 42, 81, 40, 94, 67, 75, 34, 72, 1, 58, 21, 93, 54, 6, 17, 32, 68, 87, 28, 83, 38, 62, 61, 85, 63, 4, 30, 5, 97, 98, 51, 88, 45, 35, 59, 23, 14, 24, 91, 70, 86, 76, 57, 7, 47, 73, 92, 90], \"y\": [0.9766666666666668, 0.9133333333333332, 1.0666666666666669, 0.98, 0.98, 1.0366666666666666, 0.9833333333333332, 0.9133333333333332, 0.9466666666666668, 0.9733333333333334, 0.97, 1.0166666666666666, 1.14, 1.0833333333333333, 1.0333333333333334, 1.0466666666666666, 1.0366666666666666, 1.0433333333333332, 1.0266666666666666, 1.1033333333333333, 1.01, 0.9866666666666668, 0.9366666666666666, 1.0033333333333334, 1.0166666666666666, 1.0733333333333333, 0.9333333333333332, 1.05, 0.95, 1.03, 1.0733333333333333, 0.8533333333333334, 1.02, 1.08, 1.0433333333333332, 0.9233333333333332, 1.086666666666667, 0.9466666666666668, 1.03, 0.89, 1.086666666666667, 0.87, 0.9533333333333334, 0.98, 1.0333333333333334, 1.04, 0.9266666666666666, 1.0266666666666666, 0.9266666666666666, 0.9333333333333332, 1.1, 0.93, 1.0033333333333334, 1.0666666666666669, 0.86, 0.9, 1.0233333333333334, 1.106666666666667, 1.0433333333333332, 0.9666666666666668, 0.9933333333333332, 1.0433333333333332, 1.0633333333333332, 1.0633333333333332, 0.9733333333333334, 1.0366666666666666, 0.9133333333333332, 1.0366666666666666, 0.95, 1.0266666666666666, 0.9466666666666668, 0.9233333333333332, 0.9633333333333334, 0.8833333333333333, 1.086666666666667, 1.0566666666666666, 1.0566666666666666, 0.93, 1.0133333333333334, 0.8933333333333333, 0.9933333333333332, 0.9566666666666668, 1.06, 1.0366666666666666, 1.0466666666666666, 1.0, 1.0633333333333332, 1.09, 0.9333333333333332, 0.9866666666666668, 1.153333333333333, 0.9966666666666668, 0.99, 1.0933333333333333, 0.9566666666666668, 1.0466666666666666, 0.9866666666666668, 0.8333333333333334, 0.9833333333333332, 0.9566666666666668], \"type\": \"scatter\", \"uid\": \"a95fe184-08e2-4848-a4f6-36f8fab270c7\"}, {\"line\": {\"color\": \"#64DFD2\"}, \"mode\": \"markers\", \"name\": \"400000\", \"x\": [37, 22, 99, 16, 96, 71, 44, 48, 49, 55, 74, 3, 64, 95, 2, 77, 10, 19, 25, 89, 46, 80, 78, 79, 20, 84, 69, 31, 26, 8, 60, 50, 9, 29, 11, 39, 65, 100, 33, 13, 53, 41, 52, 18, 27, 56, 12, 15, 36, 43, 82, 66, 42, 81, 40, 94, 67, 75, 34, 72, 1, 58, 21, 93, 54, 6, 17, 32, 68, 87, 28, 83, 38, 62, 61, 85, 63, 4, 30, 5, 97, 98, 51, 88, 45, 35, 59, 23, 14, 24, 91, 70, 86, 76, 57, 7, 47, 73, 92, 90], \"y\": [1.02, 0.97, 0.945, 0.895, 1.01, 0.9825, 0.9675, 1.0875, 1.0525, 0.925, 0.995, 0.95, 0.975, 1.0875, 1.0025, 1.08, 1.0075, 0.965, 0.97, 1.0425, 1.0375, 1.0425, 1.165, 1.06, 1.1225, 1.0275, 0.9875, 1.0525, 1.03, 1.035, 0.9875, 1.09, 1.0175, 1.095, 0.9025, 1.0375, 0.92, 0.94, 0.9575, 0.995, 0.9725, 0.9475, 0.9475, 1.06, 1.0625, 0.9775, 0.8825, 1.1725, 0.9275, 0.965, 0.985, 1.015, 0.9925, 0.975, 0.995, 0.9925, 0.9075, 1.0125, 0.9975, 0.965, 1.0075, 0.99, 1.03, 1.0225, 1.045, 0.9775, 1.0475, 1.025, 0.9725, 0.84, 0.9525, 0.9275, 0.99, 1.0175, 0.99, 1.0525, 1.0525, 0.915, 1.07, 0.99, 0.92, 1.05, 0.985, 0.9625, 0.975, 0.985, 0.9575, 0.935, 0.9425, 1.115, 1.0125, 0.9475, 0.975, 1.0425, 1.0625, 1.0675, 0.9525, 0.98, 0.97, 1.0625], \"type\": \"scatter\", \"uid\": \"beac8561-1d97-483b-98dd-55cfbb47d873\"}, {\"line\": {\"color\": \"#42D9C8\"}, \"mode\": \"markers\", \"name\": \"500000\", \"x\": [37, 22, 99, 16, 96, 71, 44, 48, 49, 55, 74, 3, 64, 95, 2, 77, 10, 19, 25, 89, 46, 80, 78, 79, 20, 84, 69, 31, 26, 8, 60, 50, 9, 29, 11, 39, 65, 100, 33, 13, 53, 41, 52, 18, 27, 56, 12, 15, 36, 43, 82, 66, 42, 81, 40, 94, 67, 75, 34, 72, 1, 58, 21, 93, 54, 6, 17, 32, 68, 87, 28, 83, 38, 62, 61, 85, 63, 4, 30, 5, 97, 98, 51, 88, 45, 35, 59, 23, 14, 24, 91, 70, 86, 76, 57, 7, 47, 73, 92, 90], \"y\": [0.988, 0.966, 1.024, 0.986, 0.978, 1.018, 1.042, 0.9159999999999999, 1.006, 0.976, 1.058, 1.008, 0.988, 0.982, 0.986, 0.9640000000000001, 0.998, 0.978, 1.074, 0.946, 1.062, 0.988, 1.022, 0.972, 0.9740000000000001, 1.044, 1.004, 0.9079999999999999, 1.0959999999999999, 1.018, 1.006, 0.992, 1.026, 0.938, 0.9440000000000001, 1.036, 1.012, 1.03, 0.9520000000000001, 1.148, 0.9740000000000001, 1.002, 0.982, 0.988, 0.9540000000000001, 0.988, 0.992, 0.894, 0.9640000000000001, 0.988, 1.04, 1.014, 1.004, 1.046, 1.024, 0.9940000000000001, 0.96, 0.9740000000000001, 0.958, 1.042, 1.074, 0.976, 0.94, 0.968, 0.998, 0.958, 1.07, 1.068, 0.982, 1.07, 0.992, 0.98, 0.988, 1.05, 1.03, 0.988, 0.9079999999999999, 0.9640000000000001, 0.95, 1.002, 0.978, 1.01, 1.024, 0.934, 0.99, 1.048, 0.9520000000000001, 1.028, 0.98, 1.02, 1.034, 1.016, 1.094, 1.028, 1.012, 1.052, 1.012, 1.024, 1.012, 0.96], \"type\": \"scatter\", \"uid\": \"78fffa0c-9a1d-4f45-b4d9-182828e90101\"}, {\"line\": {\"color\": \"#37B2A4\"}, \"mode\": \"markers\", \"name\": \"600000\", \"x\": [37, 22, 99, 16, 96, 71, 44, 48, 49, 55, 74, 3, 64, 95, 2, 77, 10, 19, 25, 89, 46, 80, 78, 79, 20, 84, 69, 31, 26, 8, 60, 50, 9, 29, 11, 39, 65, 100, 33, 13, 53, 41, 52, 18, 27, 56, 12, 15, 36, 43, 82, 66, 42, 81, 40, 94, 67, 75, 34, 72, 1, 58, 21, 93, 54, 6, 17, 32, 68, 87, 28, 83, 38, 62, 61, 85, 63, 4, 30, 5, 97, 98, 51, 88, 45, 35, 59, 23, 14, 24, 91, 70, 86, 76, 57, 7, 47, 73, 92, 90], \"y\": [0.9633333333333334, 1.05, 1.028333333333333, 0.97, 1.0233333333333334, 0.9416666666666668, 1.0633333333333332, 1.0933333333333333, 0.905, 1.0733333333333333, 1.0216666666666667, 0.9583333333333334, 1.0816666666666668, 1.035, 0.9533333333333334, 1.0316666666666667, 1.0316666666666667, 1.0583333333333331, 1.0516666666666667, 1.0, 0.99, 1.0133333333333334, 0.8733333333333333, 0.9833333333333332, 1.0466666666666666, 0.9833333333333332, 0.9266666666666666, 1.0033333333333334, 1.065, 0.9783333333333334, 0.9933333333333332, 0.9933333333333332, 0.995, 1.018333333333333, 0.9366666666666666, 0.9383333333333334, 1.0316666666666667, 1.028333333333333, 0.975, 1.0316666666666667, 1.0083333333333333, 0.9533333333333334, 0.9933333333333332, 0.9816666666666668, 0.905, 0.9233333333333332, 0.985, 0.9716666666666668, 1.0216666666666667, 1.05, 0.9466666666666668, 1.0316666666666667, 0.9733333333333334, 1.0, 0.9566666666666668, 1.038333333333333, 0.98, 0.98, 0.975, 0.9766666666666668, 1.01, 1.0733333333333333, 1.0066666666666666, 0.9983333333333332, 1.095, 0.9483333333333334, 0.9883333333333332, 1.018333333333333, 1.1166666666666667, 1.018333333333333, 0.9983333333333332, 0.99, 0.99, 1.025, 1.0233333333333334, 0.9316666666666666, 0.9233333333333332, 1.0583333333333331, 1.04, 1.0216666666666667, 1.018333333333333, 0.995, 1.0133333333333334, 0.96, 0.975, 1.0233333333333334, 0.9616666666666668, 1.018333333333333, 0.975, 1.0033333333333334, 0.9866666666666668, 1.04, 0.9883333333333332, 1.0483333333333331, 0.9733333333333334, 0.9033333333333332, 0.93, 1.01, 1.0933333333333333, 1.0166666666666666], \"type\": \"scatter\", \"uid\": \"ab3e78ee-1d5b-4878-9fe8-01b7cb8e446e\"}, {\"line\": {\"color\": \"#2A8B80\"}, \"mode\": \"markers\", \"name\": \"700000\", \"x\": [37, 22, 99, 16, 96, 71, 44, 48, 49, 55, 74, 3, 64, 95, 2, 77, 10, 19, 25, 89, 46, 80, 78, 79, 20, 84, 69, 31, 26, 8, 60, 50, 9, 29, 11, 39, 65, 100, 33, 13, 53, 41, 52, 18, 27, 56, 12, 15, 36, 43, 82, 66, 42, 81, 40, 94, 67, 75, 34, 72, 1, 58, 21, 93, 54, 6, 17, 32, 68, 87, 28, 83, 38, 62, 61, 85, 63, 4, 30, 5, 97, 98, 51, 88, 45, 35, 59, 23, 14, 24, 91, 70, 86, 76, 57, 7, 47, 73, 92, 90], \"y\": [0.9114285714285716, 0.9642857142857144, 0.9985714285714286, 1.0857142857142856, 0.9542857142857144, 1.06, 0.9457142857142856, 0.9671428571428572, 1.0742857142857145, 1.0514285714285714, 1.0, 1.0157142857142858, 1.0171428571428571, 1.0471428571428572, 0.9357142857142856, 0.9971428571428572, 0.9785714285714284, 1.052857142857143, 0.9757142857142858, 0.9885714285714284, 0.9714285714285714, 1.0514285714285714, 0.9314285714285714, 1.0214285714285714, 0.9428571428571428, 1.012857142857143, 0.95, 1.0071428571428571, 0.9871428571428572, 0.9985714285714286, 1.0314285714285714, 0.9814285714285714, 0.93, 0.9371428571428572, 1.0214285714285714, 0.9642857142857144, 1.05, 0.9757142857142858, 0.9885714285714284, 1.0657142857142856, 0.9471428571428572, 0.98, 1.0057142857142858, 0.9871428571428572, 0.9957142857142856, 1.0271428571428571, 1.01, 1.0971428571428572, 1.0071428571428571, 0.9528571428571428, 1.072857142857143, 1.0785714285714283, 0.96, 1.0757142857142856, 0.9928571428571428, 0.9757142857142858, 1.0285714285714285, 0.9928571428571428, 1.0342857142857145, 0.9557142857142856, 1.0571428571428572, 1.0514285714285714, 0.9871428571428572, 0.9314285714285714, 1.042857142857143, 1.05, 1.0371428571428571, 1.0385714285714285, 0.9771428571428572, 0.9471428571428572, 0.9542857142857144, 0.96, 0.9271428571428572, 0.9871428571428572, 1.0485714285714285, 0.9528571428571428, 1.0585714285714285, 1.0342857142857145, 0.9871428571428572, 1.0485714285714285, 0.9557142857142856, 0.9628571428571427, 0.9842857142857144, 0.9357142857142856, 1.0171428571428571, 1.01, 1.0357142857142858, 1.03, 0.9614285714285714, 1.0571428571428572, 1.0471428571428572, 1.03, 1.032857142857143, 0.98, 0.9985714285714286, 0.9685714285714284, 1.062857142857143, 0.9228571428571428, 0.9314285714285714, 0.9785714285714284], \"type\": \"scatter\", \"uid\": \"f66587b4-b6b9-4087-924c-94b478ab668f\"}, {\"line\": {\"color\": \"#206e65\"}, \"mode\": \"markers\", \"name\": \"800000\", \"x\": [37, 22, 99, 16, 96, 71, 44, 48, 49, 55, 74, 3, 64, 95, 2, 77, 10, 19, 25, 89, 46, 80, 78, 79, 20, 84, 69, 31, 26, 8, 60, 50, 9, 29, 11, 39, 65, 100, 33, 13, 53, 41, 52, 18, 27, 56, 12, 15, 36, 43, 82, 66, 42, 81, 40, 94, 67, 75, 34, 72, 1, 58, 21, 93, 54, 6, 17, 32, 68, 87, 28, 83, 38, 62, 61, 85, 63, 4, 30, 5, 97, 98, 51, 88, 45, 35, 59, 23, 14, 24, 91, 70, 86, 76, 57, 7, 47, 73, 92, 90], \"y\": [1.03625, 1.0075, 1.02, 1.065, 0.98375, 0.955, 1.03375, 1.0475, 1.01375, 0.98625, 0.99125, 0.95875, 1.06125, 0.95875, 1.01875, 1.03125, 1.02375, 0.9775, 0.98625, 0.94375, 0.9825, 0.91, 0.97625, 0.985, 1.01375, 0.9725, 1.01875, 0.93375, 0.9975, 0.9675, 0.97875, 0.96125, 1.01375, 0.98625, 0.95375, 1.0375, 0.9975, 1.00625, 0.97125, 1.03375, 0.99375, 0.97625, 1.0175, 1.07, 0.99125, 1.0375, 0.9475, 1.04875, 1.04625, 1.0025, 0.98125, 0.97375, 0.9275, 1.0075, 0.9275, 0.98625, 1.03, 1.02375, 0.9825, 0.97125, 1.025, 1.075, 0.97375, 0.97625, 1.065, 1.03, 1.0625, 1.04625, 1.00375, 1.0125, 0.9675, 1.06, 0.99625, 1.08, 1.015, 0.96625, 1.00875, 1.07375, 1.0225, 1.01, 0.96125, 1.05, 0.975, 0.96875, 0.975, 0.985, 0.9675, 0.97375, 0.97, 0.97, 0.99625, 1.05, 1.06625, 0.98125, 0.9975, 1.04875, 0.96, 0.95375, 0.90875, 1.03125], \"type\": \"scatter\", \"uid\": \"ac58c92d-8ada-4be5-9720-031506463ec2\"}, {\"line\": {\"color\": \"#1d5b54\"}, \"mode\": \"markers\", \"name\": \"900000\", \"x\": [37, 22, 99, 16, 96, 71, 44, 48, 49, 55, 74, 3, 64, 95, 2, 77, 10, 19, 25, 89, 46, 80, 78, 79, 20, 84, 69, 31, 26, 8, 60, 50, 9, 29, 11, 39, 65, 100, 33, 13, 53, 41, 52, 18, 27, 56, 12, 15, 36, 43, 82, 66, 42, 81, 40, 94, 67, 75, 34, 72, 1, 58, 21, 93, 54, 6, 17, 32, 68, 87, 28, 83, 38, 62, 61, 85, 63, 4, 30, 5, 97, 98, 51, 88, 45, 35, 59, 23, 14, 24, 91, 70, 86, 76, 57, 7, 47, 73, 92, 90], \"y\": [1.0422222222222222, 0.9211111111111112, 1.06, 0.9322222222222222, 1.01, 1.0, 1.0, 1.0033333333333334, 0.9433333333333334, 1.0288888888888892, 1.0922222222222222, 1.0188888888888892, 1.0666666666666669, 1.022222222222222, 0.9855555555555556, 1.0377777777777777, 0.9844444444444445, 0.99, 1.0444444444444445, 1.0388888888888892, 1.007777777777778, 1.0411111111111109, 0.9577777777777776, 0.9588888888888888, 0.98, 0.9944444444444444, 0.9344444444444444, 0.9544444444444444, 0.9877777777777778, 1.0422222222222222, 1.03, 0.9622222222222222, 1.0111111111111108, 1.0166666666666666, 0.9866666666666668, 0.9666666666666668, 1.002222222222222, 1.0011111111111108, 1.0066666666666666, 0.9777777777777776, 1.0677777777777775, 0.9355555555555556, 1.0322222222222222, 1.0577777777777777, 1.0366666666666666, 1.0344444444444445, 1.0144444444444445, 0.9833333333333332, 1.012222222222222, 1.0411111111111109, 1.0311111111111109, 0.9777777777777776, 1.0555555555555556, 1.0411111111111109, 0.9844444444444445, 0.9744444444444444, 1.022222222222222, 1.007777777777778, 1.0266666666666666, 0.97, 0.9633333333333334, 1.0244444444444445, 0.9944444444444444, 0.9744444444444444, 1.06, 0.9455555555555556, 0.9377777777777778, 0.9922222222222222, 0.9766666666666668, 1.0177777777777777, 1.0133333333333334, 0.9877777777777778, 0.9988888888888888, 1.06, 1.0677777777777775, 0.9622222222222222, 1.0722222222222222, 0.9277777777777778, 1.0188888888888892, 0.9666666666666668, 0.9611111111111112, 1.022222222222222, 1.0044444444444445, 0.9988888888888888, 0.9444444444444444, 0.9577777777777776, 1.0333333333333334, 1.0244444444444445, 0.9877777777777778, 0.9811111111111112, 1.0055555555555555, 0.9922222222222222, 1.0088888888888892, 0.9033333333333332, 0.9588888888888888, 0.9811111111111112, 0.9577777777777776, 0.9911111111111112, 0.9333333333333332, 1.0411111111111109], \"type\": \"scatter\", \"uid\": \"a09a37ba-f700-4dab-9784-5303e98948ec\"}, {\"line\": {\"color\": \"#0c463e\"}, \"mode\": \"markers\", \"name\": \"1000000\", \"x\": [37, 22, 99, 16, 96, 71, 44, 48, 49, 55, 74, 3, 64, 95, 2, 77, 10, 19, 25, 89, 46, 80, 78, 79, 20, 84, 69, 31, 26, 8, 60, 50, 9, 29, 11, 39, 65, 100, 33, 13, 53, 41, 52, 18, 27, 56, 12, 15, 36, 43, 82, 66, 42, 81, 40, 94, 67, 75, 34, 72, 1, 58, 21, 93, 54, 6, 17, 32, 68, 87, 28, 83, 38, 62, 61, 85, 63, 4, 30, 5, 97, 98, 51, 88, 45, 35, 59, 23, 14, 24, 91, 70, 86, 76, 57, 7, 47, 73, 92, 90], \"y\": [0.951, 1.0170000000000001, 1.031, 1.061, 1.0070000000000001, 0.991, 0.973, 1.008, 0.986, 0.9490000000000001, 1.0070000000000001, 1.038, 0.9890000000000001, 0.975, 1.072, 0.932, 1.005, 0.948, 1.02, 1.021, 1.014, 1.0, 1.01, 0.948, 0.998, 1.004, 0.991, 1.0290000000000001, 0.997, 1.031, 0.958, 0.9520000000000001, 0.9640000000000001, 0.975, 1.051, 1.002, 0.9940000000000001, 1.01, 1.077, 1.035, 1.031, 0.986, 0.985, 0.935, 1.0, 1.0590000000000002, 1.012, 0.9990000000000001, 1.005, 0.972, 0.972, 0.9640000000000001, 0.992, 1.05, 1.045, 0.9620000000000001, 1.032, 0.975, 1.014, 1.0390000000000001, 1.004, 0.9620000000000001, 0.9890000000000001, 1.082, 1.056, 0.956, 0.971, 1.041, 0.953, 0.97, 1.012, 1.037, 0.961, 1.028, 1.001, 1.015, 0.9329999999999999, 0.9640000000000001, 0.992, 0.9790000000000001, 0.995, 0.995, 0.955, 0.9129999999999999, 1.0190000000000001, 0.997, 1.046, 0.909, 0.987, 1.02, 1.023, 1.028, 1.021, 1.028, 1.034, 1.026, 1.005, 1.025, 1.018, 1.0], \"type\": \"scatter\", \"uid\": \"2d974cfe-d7f1-435c-88a4-314f15810a51\"}], {\"plot_bgcolor\": \"rgb(255, 255,255)\", \"title\": \"Low Self Loop Input/Frequency\", \"xaxis\": {\"title\": \"Input\"}, \"yaxis\": {\"title\": \"Frequency (%)\"}}, {\"showLink\": true, \"linkText\": \"Export to plot.ly\", \"plotlyServerURL\": \"https://plot.ly\"})});</script><script type=\"text/javascript\">window.addEventListener(\"resize\", function(){window._Plotly.Plots.resize(document.getElementById(\"e177a641-d39e-4d77-a939-0a58e652bac1\"));});</script>"
      ],
      "text/vnd.plotly.v1+html": [
       "<div id=\"e177a641-d39e-4d77-a939-0a58e652bac1\" style=\"height: 525px; width: 100%;\" class=\"plotly-graph-div\"></div><script type=\"text/javascript\">require([\"plotly\"], function(Plotly) { window.PLOTLYENV=window.PLOTLYENV || {};window.PLOTLYENV.BASE_URL=\"https://plot.ly\";Plotly.newPlot(\"e177a641-d39e-4d77-a939-0a58e652bac1\", [{\"line\": {\"color\": \"#CBF4F0\"}, \"mode\": \"markers\", \"name\": \"100000\", \"x\": [37, 22, 99, 16, 96, 71, 44, 48, 49, 55, 74, 3, 64, 95, 2, 77, 10, 19, 25, 89, 46, 80, 78, 79, 20, 84, 69, 31, 26, 8, 60, 50, 9, 29, 11, 39, 65, 100, 33, 13, 53, 41, 52, 18, 27, 56, 12, 15, 36, 43, 82, 66, 42, 81, 40, 94, 67, 75, 34, 72, 1, 58, 21, 93, 54, 6, 17, 32, 68, 87, 28, 83, 38, 62, 61, 85, 63, 4, 30, 5, 97, 98, 51, 88, 45, 35, 59, 23, 14, 24, 91, 70, 86, 76, 57, 7, 47, 73, 92, 90], \"y\": [1.05, 1.23, 0.83, 0.94, 0.86, 1.13, 0.93, 0.9, 1.0, 1.18, 0.97, 1.0, 1.21, 1.0, 0.83, 0.96, 0.88, 1.08, 1.11, 1.1, 0.92, 1.07, 0.98, 0.89, 0.75, 0.94, 0.88, 0.93, 1.03, 0.91, 0.87, 1.26, 0.95, 1.14, 0.94, 1.0, 1.13, 0.9, 1.05, 1.21, 0.99, 1.15, 1.04, 1.16, 1.11, 1.19, 1.08, 1.05, 1.09, 0.77, 0.84, 0.85, 0.95, 0.86, 1.07, 1.17, 1.07, 0.99, 0.95, 0.93, 1.11, 0.65, 0.97, 0.86, 1.11, 0.88, 1.09, 0.74, 1.17, 0.97, 0.79, 1.09, 1.09, 1.07, 0.95, 1.06, 1.03, 1.01, 0.74, 0.92, 1.03, 0.86, 1.14, 1.1, 1.02, 0.96, 0.94, 1.1, 0.97, 0.88, 1.08, 1.04, 1.03, 1.0, 1.01, 1.07, 1.01, 1.08, 1.13, 1.0], \"type\": \"scatter\", \"uid\": \"9e18dfcb-1922-43f5-976c-fdd475a2dc32\"}, {\"line\": {\"color\": \"#A9EDE6\"}, \"mode\": \"markers\", \"name\": \"200000\", \"x\": [37, 22, 99, 16, 96, 71, 44, 48, 49, 55, 74, 3, 64, 95, 2, 77, 10, 19, 25, 89, 46, 80, 78, 79, 20, 84, 69, 31, 26, 8, 60, 50, 9, 29, 11, 39, 65, 100, 33, 13, 53, 41, 52, 18, 27, 56, 12, 15, 36, 43, 82, 66, 42, 81, 40, 94, 67, 75, 34, 72, 1, 58, 21, 93, 54, 6, 17, 32, 68, 87, 28, 83, 38, 62, 61, 85, 63, 4, 30, 5, 97, 98, 51, 88, 45, 35, 59, 23, 14, 24, 91, 70, 86, 76, 57, 7, 47, 73, 92, 90], \"y\": [0.92, 1.04, 0.895, 1.0, 1.005, 0.995, 1.035, 1.06, 1.12, 0.96, 1.185, 1.075, 1.04, 1.02, 1.045, 1.07, 1.14, 0.885, 0.945, 0.97, 1.055, 1.14, 0.945, 0.89, 1.07, 1.035, 0.985, 0.915, 1.12, 0.875, 0.905, 1.005, 1.1, 1.05, 0.96, 0.895, 0.98, 0.955, 1.095, 0.99, 0.97, 1.09, 1.005, 0.925, 1.025, 0.955, 0.945, 0.865, 1.06, 0.925, 1.055, 0.84, 0.97, 1.07, 0.85, 0.86, 0.97, 1.025, 1.07, 0.975, 1.175, 1.095, 1.185, 0.985, 1.045, 0.995, 1.09, 0.91, 1.145, 1.13, 1.05, 0.95, 1.03, 1.02, 0.935, 0.965, 0.88, 0.925, 0.995, 0.9, 0.87, 1.02, 1.075, 1.0, 0.89, 1.12, 1.025, 0.93, 1.155, 0.8, 0.92, 0.99, 1.14, 0.955, 1.025, 0.955, 1.11, 0.86, 1.07, 0.865], \"type\": \"scatter\", \"uid\": \"3851202e-19f0-468b-8122-484f99b6104a\"}, {\"line\": {\"color\": \"#86E6DC\"}, \"mode\": \"markers\", \"name\": \"300000\", \"x\": [37, 22, 99, 16, 96, 71, 44, 48, 49, 55, 74, 3, 64, 95, 2, 77, 10, 19, 25, 89, 46, 80, 78, 79, 20, 84, 69, 31, 26, 8, 60, 50, 9, 29, 11, 39, 65, 100, 33, 13, 53, 41, 52, 18, 27, 56, 12, 15, 36, 43, 82, 66, 42, 81, 40, 94, 67, 75, 34, 72, 1, 58, 21, 93, 54, 6, 17, 32, 68, 87, 28, 83, 38, 62, 61, 85, 63, 4, 30, 5, 97, 98, 51, 88, 45, 35, 59, 23, 14, 24, 91, 70, 86, 76, 57, 7, 47, 73, 92, 90], \"y\": [0.9766666666666668, 0.9133333333333332, 1.0666666666666669, 0.98, 0.98, 1.0366666666666666, 0.9833333333333332, 0.9133333333333332, 0.9466666666666668, 0.9733333333333334, 0.97, 1.0166666666666666, 1.14, 1.0833333333333333, 1.0333333333333334, 1.0466666666666666, 1.0366666666666666, 1.0433333333333332, 1.0266666666666666, 1.1033333333333333, 1.01, 0.9866666666666668, 0.9366666666666666, 1.0033333333333334, 1.0166666666666666, 1.0733333333333333, 0.9333333333333332, 1.05, 0.95, 1.03, 1.0733333333333333, 0.8533333333333334, 1.02, 1.08, 1.0433333333333332, 0.9233333333333332, 1.086666666666667, 0.9466666666666668, 1.03, 0.89, 1.086666666666667, 0.87, 0.9533333333333334, 0.98, 1.0333333333333334, 1.04, 0.9266666666666666, 1.0266666666666666, 0.9266666666666666, 0.9333333333333332, 1.1, 0.93, 1.0033333333333334, 1.0666666666666669, 0.86, 0.9, 1.0233333333333334, 1.106666666666667, 1.0433333333333332, 0.9666666666666668, 0.9933333333333332, 1.0433333333333332, 1.0633333333333332, 1.0633333333333332, 0.9733333333333334, 1.0366666666666666, 0.9133333333333332, 1.0366666666666666, 0.95, 1.0266666666666666, 0.9466666666666668, 0.9233333333333332, 0.9633333333333334, 0.8833333333333333, 1.086666666666667, 1.0566666666666666, 1.0566666666666666, 0.93, 1.0133333333333334, 0.8933333333333333, 0.9933333333333332, 0.9566666666666668, 1.06, 1.0366666666666666, 1.0466666666666666, 1.0, 1.0633333333333332, 1.09, 0.9333333333333332, 0.9866666666666668, 1.153333333333333, 0.9966666666666668, 0.99, 1.0933333333333333, 0.9566666666666668, 1.0466666666666666, 0.9866666666666668, 0.8333333333333334, 0.9833333333333332, 0.9566666666666668], \"type\": \"scatter\", \"uid\": \"a95fe184-08e2-4848-a4f6-36f8fab270c7\"}, {\"line\": {\"color\": \"#64DFD2\"}, \"mode\": \"markers\", \"name\": \"400000\", \"x\": [37, 22, 99, 16, 96, 71, 44, 48, 49, 55, 74, 3, 64, 95, 2, 77, 10, 19, 25, 89, 46, 80, 78, 79, 20, 84, 69, 31, 26, 8, 60, 50, 9, 29, 11, 39, 65, 100, 33, 13, 53, 41, 52, 18, 27, 56, 12, 15, 36, 43, 82, 66, 42, 81, 40, 94, 67, 75, 34, 72, 1, 58, 21, 93, 54, 6, 17, 32, 68, 87, 28, 83, 38, 62, 61, 85, 63, 4, 30, 5, 97, 98, 51, 88, 45, 35, 59, 23, 14, 24, 91, 70, 86, 76, 57, 7, 47, 73, 92, 90], \"y\": [1.02, 0.97, 0.945, 0.895, 1.01, 0.9825, 0.9675, 1.0875, 1.0525, 0.925, 0.995, 0.95, 0.975, 1.0875, 1.0025, 1.08, 1.0075, 0.965, 0.97, 1.0425, 1.0375, 1.0425, 1.165, 1.06, 1.1225, 1.0275, 0.9875, 1.0525, 1.03, 1.035, 0.9875, 1.09, 1.0175, 1.095, 0.9025, 1.0375, 0.92, 0.94, 0.9575, 0.995, 0.9725, 0.9475, 0.9475, 1.06, 1.0625, 0.9775, 0.8825, 1.1725, 0.9275, 0.965, 0.985, 1.015, 0.9925, 0.975, 0.995, 0.9925, 0.9075, 1.0125, 0.9975, 0.965, 1.0075, 0.99, 1.03, 1.0225, 1.045, 0.9775, 1.0475, 1.025, 0.9725, 0.84, 0.9525, 0.9275, 0.99, 1.0175, 0.99, 1.0525, 1.0525, 0.915, 1.07, 0.99, 0.92, 1.05, 0.985, 0.9625, 0.975, 0.985, 0.9575, 0.935, 0.9425, 1.115, 1.0125, 0.9475, 0.975, 1.0425, 1.0625, 1.0675, 0.9525, 0.98, 0.97, 1.0625], \"type\": \"scatter\", \"uid\": \"beac8561-1d97-483b-98dd-55cfbb47d873\"}, {\"line\": {\"color\": \"#42D9C8\"}, \"mode\": \"markers\", \"name\": \"500000\", \"x\": [37, 22, 99, 16, 96, 71, 44, 48, 49, 55, 74, 3, 64, 95, 2, 77, 10, 19, 25, 89, 46, 80, 78, 79, 20, 84, 69, 31, 26, 8, 60, 50, 9, 29, 11, 39, 65, 100, 33, 13, 53, 41, 52, 18, 27, 56, 12, 15, 36, 43, 82, 66, 42, 81, 40, 94, 67, 75, 34, 72, 1, 58, 21, 93, 54, 6, 17, 32, 68, 87, 28, 83, 38, 62, 61, 85, 63, 4, 30, 5, 97, 98, 51, 88, 45, 35, 59, 23, 14, 24, 91, 70, 86, 76, 57, 7, 47, 73, 92, 90], \"y\": [0.988, 0.966, 1.024, 0.986, 0.978, 1.018, 1.042, 0.9159999999999999, 1.006, 0.976, 1.058, 1.008, 0.988, 0.982, 0.986, 0.9640000000000001, 0.998, 0.978, 1.074, 0.946, 1.062, 0.988, 1.022, 0.972, 0.9740000000000001, 1.044, 1.004, 0.9079999999999999, 1.0959999999999999, 1.018, 1.006, 0.992, 1.026, 0.938, 0.9440000000000001, 1.036, 1.012, 1.03, 0.9520000000000001, 1.148, 0.9740000000000001, 1.002, 0.982, 0.988, 0.9540000000000001, 0.988, 0.992, 0.894, 0.9640000000000001, 0.988, 1.04, 1.014, 1.004, 1.046, 1.024, 0.9940000000000001, 0.96, 0.9740000000000001, 0.958, 1.042, 1.074, 0.976, 0.94, 0.968, 0.998, 0.958, 1.07, 1.068, 0.982, 1.07, 0.992, 0.98, 0.988, 1.05, 1.03, 0.988, 0.9079999999999999, 0.9640000000000001, 0.95, 1.002, 0.978, 1.01, 1.024, 0.934, 0.99, 1.048, 0.9520000000000001, 1.028, 0.98, 1.02, 1.034, 1.016, 1.094, 1.028, 1.012, 1.052, 1.012, 1.024, 1.012, 0.96], \"type\": \"scatter\", \"uid\": \"78fffa0c-9a1d-4f45-b4d9-182828e90101\"}, {\"line\": {\"color\": \"#37B2A4\"}, \"mode\": \"markers\", \"name\": \"600000\", \"x\": [37, 22, 99, 16, 96, 71, 44, 48, 49, 55, 74, 3, 64, 95, 2, 77, 10, 19, 25, 89, 46, 80, 78, 79, 20, 84, 69, 31, 26, 8, 60, 50, 9, 29, 11, 39, 65, 100, 33, 13, 53, 41, 52, 18, 27, 56, 12, 15, 36, 43, 82, 66, 42, 81, 40, 94, 67, 75, 34, 72, 1, 58, 21, 93, 54, 6, 17, 32, 68, 87, 28, 83, 38, 62, 61, 85, 63, 4, 30, 5, 97, 98, 51, 88, 45, 35, 59, 23, 14, 24, 91, 70, 86, 76, 57, 7, 47, 73, 92, 90], \"y\": [0.9633333333333334, 1.05, 1.028333333333333, 0.97, 1.0233333333333334, 0.9416666666666668, 1.0633333333333332, 1.0933333333333333, 0.905, 1.0733333333333333, 1.0216666666666667, 0.9583333333333334, 1.0816666666666668, 1.035, 0.9533333333333334, 1.0316666666666667, 1.0316666666666667, 1.0583333333333331, 1.0516666666666667, 1.0, 0.99, 1.0133333333333334, 0.8733333333333333, 0.9833333333333332, 1.0466666666666666, 0.9833333333333332, 0.9266666666666666, 1.0033333333333334, 1.065, 0.9783333333333334, 0.9933333333333332, 0.9933333333333332, 0.995, 1.018333333333333, 0.9366666666666666, 0.9383333333333334, 1.0316666666666667, 1.028333333333333, 0.975, 1.0316666666666667, 1.0083333333333333, 0.9533333333333334, 0.9933333333333332, 0.9816666666666668, 0.905, 0.9233333333333332, 0.985, 0.9716666666666668, 1.0216666666666667, 1.05, 0.9466666666666668, 1.0316666666666667, 0.9733333333333334, 1.0, 0.9566666666666668, 1.038333333333333, 0.98, 0.98, 0.975, 0.9766666666666668, 1.01, 1.0733333333333333, 1.0066666666666666, 0.9983333333333332, 1.095, 0.9483333333333334, 0.9883333333333332, 1.018333333333333, 1.1166666666666667, 1.018333333333333, 0.9983333333333332, 0.99, 0.99, 1.025, 1.0233333333333334, 0.9316666666666666, 0.9233333333333332, 1.0583333333333331, 1.04, 1.0216666666666667, 1.018333333333333, 0.995, 1.0133333333333334, 0.96, 0.975, 1.0233333333333334, 0.9616666666666668, 1.018333333333333, 0.975, 1.0033333333333334, 0.9866666666666668, 1.04, 0.9883333333333332, 1.0483333333333331, 0.9733333333333334, 0.9033333333333332, 0.93, 1.01, 1.0933333333333333, 1.0166666666666666], \"type\": \"scatter\", \"uid\": \"ab3e78ee-1d5b-4878-9fe8-01b7cb8e446e\"}, {\"line\": {\"color\": \"#2A8B80\"}, \"mode\": \"markers\", \"name\": \"700000\", \"x\": [37, 22, 99, 16, 96, 71, 44, 48, 49, 55, 74, 3, 64, 95, 2, 77, 10, 19, 25, 89, 46, 80, 78, 79, 20, 84, 69, 31, 26, 8, 60, 50, 9, 29, 11, 39, 65, 100, 33, 13, 53, 41, 52, 18, 27, 56, 12, 15, 36, 43, 82, 66, 42, 81, 40, 94, 67, 75, 34, 72, 1, 58, 21, 93, 54, 6, 17, 32, 68, 87, 28, 83, 38, 62, 61, 85, 63, 4, 30, 5, 97, 98, 51, 88, 45, 35, 59, 23, 14, 24, 91, 70, 86, 76, 57, 7, 47, 73, 92, 90], \"y\": [0.9114285714285716, 0.9642857142857144, 0.9985714285714286, 1.0857142857142856, 0.9542857142857144, 1.06, 0.9457142857142856, 0.9671428571428572, 1.0742857142857145, 1.0514285714285714, 1.0, 1.0157142857142858, 1.0171428571428571, 1.0471428571428572, 0.9357142857142856, 0.9971428571428572, 0.9785714285714284, 1.052857142857143, 0.9757142857142858, 0.9885714285714284, 0.9714285714285714, 1.0514285714285714, 0.9314285714285714, 1.0214285714285714, 0.9428571428571428, 1.012857142857143, 0.95, 1.0071428571428571, 0.9871428571428572, 0.9985714285714286, 1.0314285714285714, 0.9814285714285714, 0.93, 0.9371428571428572, 1.0214285714285714, 0.9642857142857144, 1.05, 0.9757142857142858, 0.9885714285714284, 1.0657142857142856, 0.9471428571428572, 0.98, 1.0057142857142858, 0.9871428571428572, 0.9957142857142856, 1.0271428571428571, 1.01, 1.0971428571428572, 1.0071428571428571, 0.9528571428571428, 1.072857142857143, 1.0785714285714283, 0.96, 1.0757142857142856, 0.9928571428571428, 0.9757142857142858, 1.0285714285714285, 0.9928571428571428, 1.0342857142857145, 0.9557142857142856, 1.0571428571428572, 1.0514285714285714, 0.9871428571428572, 0.9314285714285714, 1.042857142857143, 1.05, 1.0371428571428571, 1.0385714285714285, 0.9771428571428572, 0.9471428571428572, 0.9542857142857144, 0.96, 0.9271428571428572, 0.9871428571428572, 1.0485714285714285, 0.9528571428571428, 1.0585714285714285, 1.0342857142857145, 0.9871428571428572, 1.0485714285714285, 0.9557142857142856, 0.9628571428571427, 0.9842857142857144, 0.9357142857142856, 1.0171428571428571, 1.01, 1.0357142857142858, 1.03, 0.9614285714285714, 1.0571428571428572, 1.0471428571428572, 1.03, 1.032857142857143, 0.98, 0.9985714285714286, 0.9685714285714284, 1.062857142857143, 0.9228571428571428, 0.9314285714285714, 0.9785714285714284], \"type\": \"scatter\", \"uid\": \"f66587b4-b6b9-4087-924c-94b478ab668f\"}, {\"line\": {\"color\": \"#206e65\"}, \"mode\": \"markers\", \"name\": \"800000\", \"x\": [37, 22, 99, 16, 96, 71, 44, 48, 49, 55, 74, 3, 64, 95, 2, 77, 10, 19, 25, 89, 46, 80, 78, 79, 20, 84, 69, 31, 26, 8, 60, 50, 9, 29, 11, 39, 65, 100, 33, 13, 53, 41, 52, 18, 27, 56, 12, 15, 36, 43, 82, 66, 42, 81, 40, 94, 67, 75, 34, 72, 1, 58, 21, 93, 54, 6, 17, 32, 68, 87, 28, 83, 38, 62, 61, 85, 63, 4, 30, 5, 97, 98, 51, 88, 45, 35, 59, 23, 14, 24, 91, 70, 86, 76, 57, 7, 47, 73, 92, 90], \"y\": [1.03625, 1.0075, 1.02, 1.065, 0.98375, 0.955, 1.03375, 1.0475, 1.01375, 0.98625, 0.99125, 0.95875, 1.06125, 0.95875, 1.01875, 1.03125, 1.02375, 0.9775, 0.98625, 0.94375, 0.9825, 0.91, 0.97625, 0.985, 1.01375, 0.9725, 1.01875, 0.93375, 0.9975, 0.9675, 0.97875, 0.96125, 1.01375, 0.98625, 0.95375, 1.0375, 0.9975, 1.00625, 0.97125, 1.03375, 0.99375, 0.97625, 1.0175, 1.07, 0.99125, 1.0375, 0.9475, 1.04875, 1.04625, 1.0025, 0.98125, 0.97375, 0.9275, 1.0075, 0.9275, 0.98625, 1.03, 1.02375, 0.9825, 0.97125, 1.025, 1.075, 0.97375, 0.97625, 1.065, 1.03, 1.0625, 1.04625, 1.00375, 1.0125, 0.9675, 1.06, 0.99625, 1.08, 1.015, 0.96625, 1.00875, 1.07375, 1.0225, 1.01, 0.96125, 1.05, 0.975, 0.96875, 0.975, 0.985, 0.9675, 0.97375, 0.97, 0.97, 0.99625, 1.05, 1.06625, 0.98125, 0.9975, 1.04875, 0.96, 0.95375, 0.90875, 1.03125], \"type\": \"scatter\", \"uid\": \"ac58c92d-8ada-4be5-9720-031506463ec2\"}, {\"line\": {\"color\": \"#1d5b54\"}, \"mode\": \"markers\", \"name\": \"900000\", \"x\": [37, 22, 99, 16, 96, 71, 44, 48, 49, 55, 74, 3, 64, 95, 2, 77, 10, 19, 25, 89, 46, 80, 78, 79, 20, 84, 69, 31, 26, 8, 60, 50, 9, 29, 11, 39, 65, 100, 33, 13, 53, 41, 52, 18, 27, 56, 12, 15, 36, 43, 82, 66, 42, 81, 40, 94, 67, 75, 34, 72, 1, 58, 21, 93, 54, 6, 17, 32, 68, 87, 28, 83, 38, 62, 61, 85, 63, 4, 30, 5, 97, 98, 51, 88, 45, 35, 59, 23, 14, 24, 91, 70, 86, 76, 57, 7, 47, 73, 92, 90], \"y\": [1.0422222222222222, 0.9211111111111112, 1.06, 0.9322222222222222, 1.01, 1.0, 1.0, 1.0033333333333334, 0.9433333333333334, 1.0288888888888892, 1.0922222222222222, 1.0188888888888892, 1.0666666666666669, 1.022222222222222, 0.9855555555555556, 1.0377777777777777, 0.9844444444444445, 0.99, 1.0444444444444445, 1.0388888888888892, 1.007777777777778, 1.0411111111111109, 0.9577777777777776, 0.9588888888888888, 0.98, 0.9944444444444444, 0.9344444444444444, 0.9544444444444444, 0.9877777777777778, 1.0422222222222222, 1.03, 0.9622222222222222, 1.0111111111111108, 1.0166666666666666, 0.9866666666666668, 0.9666666666666668, 1.002222222222222, 1.0011111111111108, 1.0066666666666666, 0.9777777777777776, 1.0677777777777775, 0.9355555555555556, 1.0322222222222222, 1.0577777777777777, 1.0366666666666666, 1.0344444444444445, 1.0144444444444445, 0.9833333333333332, 1.012222222222222, 1.0411111111111109, 1.0311111111111109, 0.9777777777777776, 1.0555555555555556, 1.0411111111111109, 0.9844444444444445, 0.9744444444444444, 1.022222222222222, 1.007777777777778, 1.0266666666666666, 0.97, 0.9633333333333334, 1.0244444444444445, 0.9944444444444444, 0.9744444444444444, 1.06, 0.9455555555555556, 0.9377777777777778, 0.9922222222222222, 0.9766666666666668, 1.0177777777777777, 1.0133333333333334, 0.9877777777777778, 0.9988888888888888, 1.06, 1.0677777777777775, 0.9622222222222222, 1.0722222222222222, 0.9277777777777778, 1.0188888888888892, 0.9666666666666668, 0.9611111111111112, 1.022222222222222, 1.0044444444444445, 0.9988888888888888, 0.9444444444444444, 0.9577777777777776, 1.0333333333333334, 1.0244444444444445, 0.9877777777777778, 0.9811111111111112, 1.0055555555555555, 0.9922222222222222, 1.0088888888888892, 0.9033333333333332, 0.9588888888888888, 0.9811111111111112, 0.9577777777777776, 0.9911111111111112, 0.9333333333333332, 1.0411111111111109], \"type\": \"scatter\", \"uid\": \"a09a37ba-f700-4dab-9784-5303e98948ec\"}, {\"line\": {\"color\": \"#0c463e\"}, \"mode\": \"markers\", \"name\": \"1000000\", \"x\": [37, 22, 99, 16, 96, 71, 44, 48, 49, 55, 74, 3, 64, 95, 2, 77, 10, 19, 25, 89, 46, 80, 78, 79, 20, 84, 69, 31, 26, 8, 60, 50, 9, 29, 11, 39, 65, 100, 33, 13, 53, 41, 52, 18, 27, 56, 12, 15, 36, 43, 82, 66, 42, 81, 40, 94, 67, 75, 34, 72, 1, 58, 21, 93, 54, 6, 17, 32, 68, 87, 28, 83, 38, 62, 61, 85, 63, 4, 30, 5, 97, 98, 51, 88, 45, 35, 59, 23, 14, 24, 91, 70, 86, 76, 57, 7, 47, 73, 92, 90], \"y\": [0.951, 1.0170000000000001, 1.031, 1.061, 1.0070000000000001, 0.991, 0.973, 1.008, 0.986, 0.9490000000000001, 1.0070000000000001, 1.038, 0.9890000000000001, 0.975, 1.072, 0.932, 1.005, 0.948, 1.02, 1.021, 1.014, 1.0, 1.01, 0.948, 0.998, 1.004, 0.991, 1.0290000000000001, 0.997, 1.031, 0.958, 0.9520000000000001, 0.9640000000000001, 0.975, 1.051, 1.002, 0.9940000000000001, 1.01, 1.077, 1.035, 1.031, 0.986, 0.985, 0.935, 1.0, 1.0590000000000002, 1.012, 0.9990000000000001, 1.005, 0.972, 0.972, 0.9640000000000001, 0.992, 1.05, 1.045, 0.9620000000000001, 1.032, 0.975, 1.014, 1.0390000000000001, 1.004, 0.9620000000000001, 0.9890000000000001, 1.082, 1.056, 0.956, 0.971, 1.041, 0.953, 0.97, 1.012, 1.037, 0.961, 1.028, 1.001, 1.015, 0.9329999999999999, 0.9640000000000001, 0.992, 0.9790000000000001, 0.995, 0.995, 0.955, 0.9129999999999999, 1.0190000000000001, 0.997, 1.046, 0.909, 0.987, 1.02, 1.023, 1.028, 1.021, 1.028, 1.034, 1.026, 1.005, 1.025, 1.018, 1.0], \"type\": \"scatter\", \"uid\": \"2d974cfe-d7f1-435c-88a4-314f15810a51\"}], {\"plot_bgcolor\": \"rgb(255, 255,255)\", \"title\": \"Low Self Loop Input/Frequency\", \"xaxis\": {\"title\": \"Input\"}, \"yaxis\": {\"title\": \"Frequency (%)\"}}, {\"showLink\": true, \"linkText\": \"Export to plot.ly\", \"plotlyServerURL\": \"https://plot.ly\"})});</script><script type=\"text/javascript\">window.addEventListener(\"resize\", function(){window._Plotly.Plots.resize(document.getElementById(\"e177a641-d39e-4d77-a939-0a58e652bac1\"));});</script>"
      ]
     },
     "metadata": {},
     "output_type": "display_data"
    }
   ],
   "source": [
    "df = pd.read_csv('percentages/MarkovLow/0.csv')\n",
    "\n",
    "trace1 = go.Scatter(\n",
    "                    x=df['Input'], y=df['Percentage'], # Data\n",
    "                    mode='markers',\n",
    "                    name='100000',\n",
    "                    line = dict(color = ('#CBF4F0'))\n",
    "                   )\n",
    "\n",
    "\n",
    "df = pd.read_csv('percentages/MarkovLow/1.csv')\n",
    "\n",
    "trace2 = go.Scatter(\n",
    "                    x=df['Input'], y=df['Percentage'], # Data\n",
    "                    mode='markers',\n",
    "                    name='200000',\n",
    "                    line = dict(color = ('#A9EDE6'))\n",
    "                   )\n",
    "\n",
    "df = pd.read_csv('percentages/MarkovLow/2.csv')\n",
    "\n",
    "trace3 = go.Scatter(\n",
    "                    x=df['Input'], y=df['Percentage'], # Data\n",
    "                    mode='markers',\n",
    "                    name='300000',\n",
    "                    line = dict(color = ('#86E6DC'))\n",
    "                   )\n",
    "\n",
    "\n",
    "df = pd.read_csv('percentages/MarkovLow/3.csv')\n",
    "\n",
    "trace4 = go.Scatter(\n",
    "                    x=df['Input'], y=df['Percentage'], # Data\n",
    "                    mode='markers',\n",
    "                    name='400000',\n",
    "                    line = dict(color = ('#64DFD2'))\n",
    "                   )\n",
    "\n",
    "\n",
    "df = pd.read_csv('percentages/MarkovLow/4.csv')\n",
    "\n",
    "trace5 = go.Scatter(\n",
    "                    x=df['Input'], y=df['Percentage'], # Data\n",
    "                    mode='markers',\n",
    "                    name='500000',\n",
    "                    line = dict(color = ('#42D9C8'))\n",
    "                   )\n",
    "\n",
    "df = pd.read_csv('percentages/MarkovLow/5.csv')\n",
    "\n",
    "trace6 = go.Scatter(\n",
    "                    x=df['Input'], y=df['Percentage'], # Data\n",
    "                    mode='markers',\n",
    "                    name='600000',\n",
    "                    line = dict(color = ('#37B2A4'))\n",
    "                   )\n",
    "\n",
    "df = pd.read_csv('percentages/MarkovLow/6.csv')\n",
    "\n",
    "trace7 = go.Scatter(\n",
    "                    x=df['Input'], y=df['Percentage'], # Data\n",
    "                    mode='markers',\n",
    "                    name='700000',\n",
    "                    line = dict(color = ('#2A8B80'))\n",
    "                   )\n",
    "\n",
    "df = pd.read_csv('percentages/MarkovLow/7.csv')\n",
    "\n",
    "trace8 = go.Scatter(\n",
    "                    x=df['Input'], y=df['Percentage'], # Data\n",
    "                    mode='markers',\n",
    "                    name='800000',\n",
    "                    line = dict(color = ('#206e65'))\n",
    "                   )\n",
    "\n",
    "df = pd.read_csv('percentages/MarkovLow/8.csv')\n",
    "\n",
    "trace9 = go.Scatter(\n",
    "                    x=df['Input'], y=df['Percentage'], # Data\n",
    "                    mode='markers',\n",
    "                    name='900000',\n",
    "                    line = dict(color = ('#1d5b54'))\n",
    "                   )\n",
    "\n",
    "df = pd.read_csv('percentages/MarkovLow/9.csv')\n",
    "\n",
    "trace10 = go.Scatter(\n",
    "                    x=df['Input'], y=df['Percentage'], # Data\n",
    "                    mode='markers', \n",
    "                    name='1000000',\n",
    "                    line = dict(color = ('#0c463e'))\n",
    "                   )\n",
    "\n",
    "\n",
    "\n",
    "\n",
    "layout = go.Layout(title='Low Self Loop Input/Frequency',\n",
    "                   plot_bgcolor='rgb(255, 255,255)',\n",
    "                   xaxis=dict(title='Input'),\n",
    "                   yaxis=dict(title='Frequency (%)'))\n",
    "\n",
    "# fig = go.Figure(data=[trace1], layout=layout)\n",
    "\n",
    "fig = go.Figure(data=[trace1, trace2, trace3, trace4, trace5, trace6, trace7, trace8, trace9, trace10], layout=layout)\n",
    "\n",
    "# Plot data in the notebook\n",
    "iplot(fig)"
   ]
  },
  {
   "cell_type": "code",
   "execution_count": 36,
   "metadata": {},
   "outputs": [
    {
     "data": {
      "application/vnd.plotly.v1+json": {
       "config": {
        "linkText": "Export to plot.ly",
        "plotlyServerURL": "https://plot.ly",
        "showLink": true
       },
       "data": [
        {
         "line": {
          "color": "rgb(253, 127, 40)"
         },
         "mode": "lines",
         "name": "Splay",
         "type": "scatter",
         "uid": "a95e5c5d-90e3-4dc8-9587-45b363af96ec",
         "x": [
          10000,
          20000,
          30000,
          40000,
          50000,
          60000,
          70000,
          80000,
          90000,
          100000
         ],
         "y": [
          60795,
          121232,
          181266,
          242825,
          303506,
          364777,
          423805,
          486479,
          547275,
          607287
         ]
        },
        {
         "line": {
          "color": "rgb(50, 158, 52)"
         },
         "mode": "lines",
         "name": "Transpose",
         "type": "scatter",
         "uid": "7ee6d5c9-e04c-4c72-85cd-cbcad480f598",
         "x": [
          10000,
          20000,
          30000,
          40000,
          50000,
          60000,
          70000,
          80000,
          90000,
          100000
         ],
         "y": [
          9663,
          19369,
          28969,
          38705,
          48296,
          58084,
          67771,
          77249,
          87050,
          96724
         ]
        },
        {
         "line": {
          "color": "rgb(211, 41, 47)"
         },
         "mode": "lines",
         "name": "2-in-a-row",
         "type": "scatter",
         "uid": "094b01ae-5088-436a-9148-0efb440b9132",
         "x": [
          10000,
          20000,
          30000,
          40000,
          50000,
          60000,
          70000,
          80000,
          90000,
          100000
         ],
         "y": [
          718,
          1213,
          1927,
          2486,
          2950,
          3563,
          4115,
          4727,
          5064,
          5724
         ]
        }
       ],
       "layout": {
        "plot_bgcolor": "rgb(255, 255,255)",
        "title": "Rotation Cost: Low Self Loop",
        "xaxis": {
         "title": "Sequence Length"
        },
        "yaxis": {
         "title": "Rotation Cost"
        }
       }
      },
      "text/html": [
       "<div id=\"caca6d08-2659-4f20-98ac-cca27732d9bd\" style=\"height: 525px; width: 100%;\" class=\"plotly-graph-div\"></div><script type=\"text/javascript\">require([\"plotly\"], function(Plotly) { window.PLOTLYENV=window.PLOTLYENV || {};window.PLOTLYENV.BASE_URL=\"https://plot.ly\";Plotly.newPlot(\"caca6d08-2659-4f20-98ac-cca27732d9bd\", [{\"line\": {\"color\": \"rgb(253, 127, 40)\"}, \"mode\": \"lines\", \"name\": \"Splay\", \"x\": [10000, 20000, 30000, 40000, 50000, 60000, 70000, 80000, 90000, 100000], \"y\": [60795, 121232, 181266, 242825, 303506, 364777, 423805, 486479, 547275, 607287], \"type\": \"scatter\", \"uid\": \"a95e5c5d-90e3-4dc8-9587-45b363af96ec\"}, {\"line\": {\"color\": \"rgb(50, 158, 52)\"}, \"mode\": \"lines\", \"name\": \"Transpose\", \"x\": [10000, 20000, 30000, 40000, 50000, 60000, 70000, 80000, 90000, 100000], \"y\": [9663, 19369, 28969, 38705, 48296, 58084, 67771, 77249, 87050, 96724], \"type\": \"scatter\", \"uid\": \"7ee6d5c9-e04c-4c72-85cd-cbcad480f598\"}, {\"line\": {\"color\": \"rgb(211, 41, 47)\"}, \"mode\": \"lines\", \"name\": \"2-in-a-row\", \"x\": [10000, 20000, 30000, 40000, 50000, 60000, 70000, 80000, 90000, 100000], \"y\": [718, 1213, 1927, 2486, 2950, 3563, 4115, 4727, 5064, 5724], \"type\": \"scatter\", \"uid\": \"094b01ae-5088-436a-9148-0efb440b9132\"}], {\"plot_bgcolor\": \"rgb(255, 255,255)\", \"title\": \"Rotation Cost: Low Self Loop\", \"xaxis\": {\"title\": \"Sequence Length\"}, \"yaxis\": {\"title\": \"Rotation Cost\"}}, {\"showLink\": true, \"linkText\": \"Export to plot.ly\", \"plotlyServerURL\": \"https://plot.ly\"})});</script><script type=\"text/javascript\">window.addEventListener(\"resize\", function(){window._Plotly.Plots.resize(document.getElementById(\"caca6d08-2659-4f20-98ac-cca27732d9bd\"));});</script>"
      ],
      "text/vnd.plotly.v1+html": [
       "<div id=\"caca6d08-2659-4f20-98ac-cca27732d9bd\" style=\"height: 525px; width: 100%;\" class=\"plotly-graph-div\"></div><script type=\"text/javascript\">require([\"plotly\"], function(Plotly) { window.PLOTLYENV=window.PLOTLYENV || {};window.PLOTLYENV.BASE_URL=\"https://plot.ly\";Plotly.newPlot(\"caca6d08-2659-4f20-98ac-cca27732d9bd\", [{\"line\": {\"color\": \"rgb(253, 127, 40)\"}, \"mode\": \"lines\", \"name\": \"Splay\", \"x\": [10000, 20000, 30000, 40000, 50000, 60000, 70000, 80000, 90000, 100000], \"y\": [60795, 121232, 181266, 242825, 303506, 364777, 423805, 486479, 547275, 607287], \"type\": \"scatter\", \"uid\": \"a95e5c5d-90e3-4dc8-9587-45b363af96ec\"}, {\"line\": {\"color\": \"rgb(50, 158, 52)\"}, \"mode\": \"lines\", \"name\": \"Transpose\", \"x\": [10000, 20000, 30000, 40000, 50000, 60000, 70000, 80000, 90000, 100000], \"y\": [9663, 19369, 28969, 38705, 48296, 58084, 67771, 77249, 87050, 96724], \"type\": \"scatter\", \"uid\": \"7ee6d5c9-e04c-4c72-85cd-cbcad480f598\"}, {\"line\": {\"color\": \"rgb(211, 41, 47)\"}, \"mode\": \"lines\", \"name\": \"2-in-a-row\", \"x\": [10000, 20000, 30000, 40000, 50000, 60000, 70000, 80000, 90000, 100000], \"y\": [718, 1213, 1927, 2486, 2950, 3563, 4115, 4727, 5064, 5724], \"type\": \"scatter\", \"uid\": \"094b01ae-5088-436a-9148-0efb440b9132\"}], {\"plot_bgcolor\": \"rgb(255, 255,255)\", \"title\": \"Rotation Cost: Low Self Loop\", \"xaxis\": {\"title\": \"Sequence Length\"}, \"yaxis\": {\"title\": \"Rotation Cost\"}}, {\"showLink\": true, \"linkText\": \"Export to plot.ly\", \"plotlyServerURL\": \"https://plot.ly\"})});</script><script type=\"text/javascript\">window.addEventListener(\"resize\", function(){window._Plotly.Plots.resize(document.getElementById(\"caca6d08-2659-4f20-98ac-cca27732d9bd\"));});</script>"
      ]
     },
     "metadata": {},
     "output_type": "display_data"
    },
    {
     "data": {
      "application/vnd.plotly.v1+json": {
       "config": {
        "linkText": "Export to plot.ly",
        "plotlyServerURL": "https://plot.ly",
        "showLink": true
       },
       "data": [
        {
         "colorscale": [
          [
           0,
           "#000000"
          ],
          [
           0.5,
           "#FFFFFF"
          ],
          [
           1,
           "#ffffff"
          ]
         ],
         "hoverinfo": "none",
         "opacity": 0.75,
         "showscale": false,
         "type": "heatmap",
         "uid": "acf4ca1f-4c37-4462-8252-96f87069bfac",
         "z": [
          [
           0,
           0,
           0,
           0
          ],
          [
           0.5,
           0.5,
           0.5,
           0.5
          ],
          [
           1,
           1,
           1,
           1
          ],
          [
           0.5,
           0.5,
           0.5,
           0.5
          ],
          [
           1,
           1,
           1,
           1
          ],
          [
           0.5,
           0.5,
           0.5,
           0.5
          ],
          [
           1,
           1,
           1,
           1
          ],
          [
           0.5,
           0.5,
           0.5,
           0.5
          ],
          [
           1,
           1,
           1,
           1
          ],
          [
           0.5,
           0.5,
           0.5,
           0.5
          ],
          [
           1,
           1,
           1,
           1
          ]
         ]
        }
       ],
       "layout": {
        "annotations": [
         {
          "align": "left",
          "font": {
           "color": "#ffffff"
          },
          "showarrow": false,
          "text": "<b>Sequence Length</b>",
          "x": -0.45,
          "xanchor": "left",
          "xref": "x",
          "y": 0,
          "yref": "y"
         },
         {
          "align": "left",
          "font": {
           "color": "#ffffff"
          },
          "showarrow": false,
          "text": "<b>Splay</b>",
          "x": 0.55,
          "xanchor": "left",
          "xref": "x",
          "y": 0,
          "yref": "y"
         },
         {
          "align": "left",
          "font": {
           "color": "#ffffff"
          },
          "showarrow": false,
          "text": "<b>Transpose</b>",
          "x": 1.55,
          "xanchor": "left",
          "xref": "x",
          "y": 0,
          "yref": "y"
         },
         {
          "align": "left",
          "font": {
           "color": "#ffffff"
          },
          "showarrow": false,
          "text": "<b>2-in-a-Row</b>",
          "x": 2.55,
          "xanchor": "left",
          "xref": "x",
          "y": 0,
          "yref": "y"
         },
         {
          "align": "left",
          "font": {
           "color": "#000000"
          },
          "showarrow": false,
          "text": "10000",
          "x": -0.45,
          "xanchor": "left",
          "xref": "x",
          "y": 1,
          "yref": "y"
         },
         {
          "align": "left",
          "font": {
           "color": "#000000"
          },
          "showarrow": false,
          "text": "60795",
          "x": 0.55,
          "xanchor": "left",
          "xref": "x",
          "y": 1,
          "yref": "y"
         },
         {
          "align": "left",
          "font": {
           "color": "#000000"
          },
          "showarrow": false,
          "text": "9663",
          "x": 1.55,
          "xanchor": "left",
          "xref": "x",
          "y": 1,
          "yref": "y"
         },
         {
          "align": "left",
          "font": {
           "color": "#000000"
          },
          "showarrow": false,
          "text": "718",
          "x": 2.55,
          "xanchor": "left",
          "xref": "x",
          "y": 1,
          "yref": "y"
         },
         {
          "align": "left",
          "font": {
           "color": "#000000"
          },
          "showarrow": false,
          "text": "20000",
          "x": -0.45,
          "xanchor": "left",
          "xref": "x",
          "y": 2,
          "yref": "y"
         },
         {
          "align": "left",
          "font": {
           "color": "#000000"
          },
          "showarrow": false,
          "text": "121232",
          "x": 0.55,
          "xanchor": "left",
          "xref": "x",
          "y": 2,
          "yref": "y"
         },
         {
          "align": "left",
          "font": {
           "color": "#000000"
          },
          "showarrow": false,
          "text": "19369",
          "x": 1.55,
          "xanchor": "left",
          "xref": "x",
          "y": 2,
          "yref": "y"
         },
         {
          "align": "left",
          "font": {
           "color": "#000000"
          },
          "showarrow": false,
          "text": "1213",
          "x": 2.55,
          "xanchor": "left",
          "xref": "x",
          "y": 2,
          "yref": "y"
         },
         {
          "align": "left",
          "font": {
           "color": "#000000"
          },
          "showarrow": false,
          "text": "30000",
          "x": -0.45,
          "xanchor": "left",
          "xref": "x",
          "y": 3,
          "yref": "y"
         },
         {
          "align": "left",
          "font": {
           "color": "#000000"
          },
          "showarrow": false,
          "text": "181266",
          "x": 0.55,
          "xanchor": "left",
          "xref": "x",
          "y": 3,
          "yref": "y"
         },
         {
          "align": "left",
          "font": {
           "color": "#000000"
          },
          "showarrow": false,
          "text": "28969",
          "x": 1.55,
          "xanchor": "left",
          "xref": "x",
          "y": 3,
          "yref": "y"
         },
         {
          "align": "left",
          "font": {
           "color": "#000000"
          },
          "showarrow": false,
          "text": "1927",
          "x": 2.55,
          "xanchor": "left",
          "xref": "x",
          "y": 3,
          "yref": "y"
         },
         {
          "align": "left",
          "font": {
           "color": "#000000"
          },
          "showarrow": false,
          "text": "40000",
          "x": -0.45,
          "xanchor": "left",
          "xref": "x",
          "y": 4,
          "yref": "y"
         },
         {
          "align": "left",
          "font": {
           "color": "#000000"
          },
          "showarrow": false,
          "text": "242825",
          "x": 0.55,
          "xanchor": "left",
          "xref": "x",
          "y": 4,
          "yref": "y"
         },
         {
          "align": "left",
          "font": {
           "color": "#000000"
          },
          "showarrow": false,
          "text": "38705",
          "x": 1.55,
          "xanchor": "left",
          "xref": "x",
          "y": 4,
          "yref": "y"
         },
         {
          "align": "left",
          "font": {
           "color": "#000000"
          },
          "showarrow": false,
          "text": "2486",
          "x": 2.55,
          "xanchor": "left",
          "xref": "x",
          "y": 4,
          "yref": "y"
         },
         {
          "align": "left",
          "font": {
           "color": "#000000"
          },
          "showarrow": false,
          "text": "50000",
          "x": -0.45,
          "xanchor": "left",
          "xref": "x",
          "y": 5,
          "yref": "y"
         },
         {
          "align": "left",
          "font": {
           "color": "#000000"
          },
          "showarrow": false,
          "text": "303506",
          "x": 0.55,
          "xanchor": "left",
          "xref": "x",
          "y": 5,
          "yref": "y"
         },
         {
          "align": "left",
          "font": {
           "color": "#000000"
          },
          "showarrow": false,
          "text": "48296",
          "x": 1.55,
          "xanchor": "left",
          "xref": "x",
          "y": 5,
          "yref": "y"
         },
         {
          "align": "left",
          "font": {
           "color": "#000000"
          },
          "showarrow": false,
          "text": "2950",
          "x": 2.55,
          "xanchor": "left",
          "xref": "x",
          "y": 5,
          "yref": "y"
         },
         {
          "align": "left",
          "font": {
           "color": "#000000"
          },
          "showarrow": false,
          "text": "60000",
          "x": -0.45,
          "xanchor": "left",
          "xref": "x",
          "y": 6,
          "yref": "y"
         },
         {
          "align": "left",
          "font": {
           "color": "#000000"
          },
          "showarrow": false,
          "text": "364777",
          "x": 0.55,
          "xanchor": "left",
          "xref": "x",
          "y": 6,
          "yref": "y"
         },
         {
          "align": "left",
          "font": {
           "color": "#000000"
          },
          "showarrow": false,
          "text": "58084",
          "x": 1.55,
          "xanchor": "left",
          "xref": "x",
          "y": 6,
          "yref": "y"
         },
         {
          "align": "left",
          "font": {
           "color": "#000000"
          },
          "showarrow": false,
          "text": "3563",
          "x": 2.55,
          "xanchor": "left",
          "xref": "x",
          "y": 6,
          "yref": "y"
         },
         {
          "align": "left",
          "font": {
           "color": "#000000"
          },
          "showarrow": false,
          "text": "70000",
          "x": -0.45,
          "xanchor": "left",
          "xref": "x",
          "y": 7,
          "yref": "y"
         },
         {
          "align": "left",
          "font": {
           "color": "#000000"
          },
          "showarrow": false,
          "text": "423805",
          "x": 0.55,
          "xanchor": "left",
          "xref": "x",
          "y": 7,
          "yref": "y"
         },
         {
          "align": "left",
          "font": {
           "color": "#000000"
          },
          "showarrow": false,
          "text": "67771",
          "x": 1.55,
          "xanchor": "left",
          "xref": "x",
          "y": 7,
          "yref": "y"
         },
         {
          "align": "left",
          "font": {
           "color": "#000000"
          },
          "showarrow": false,
          "text": "4115",
          "x": 2.55,
          "xanchor": "left",
          "xref": "x",
          "y": 7,
          "yref": "y"
         },
         {
          "align": "left",
          "font": {
           "color": "#000000"
          },
          "showarrow": false,
          "text": "80000",
          "x": -0.45,
          "xanchor": "left",
          "xref": "x",
          "y": 8,
          "yref": "y"
         },
         {
          "align": "left",
          "font": {
           "color": "#000000"
          },
          "showarrow": false,
          "text": "486479",
          "x": 0.55,
          "xanchor": "left",
          "xref": "x",
          "y": 8,
          "yref": "y"
         },
         {
          "align": "left",
          "font": {
           "color": "#000000"
          },
          "showarrow": false,
          "text": "77249",
          "x": 1.55,
          "xanchor": "left",
          "xref": "x",
          "y": 8,
          "yref": "y"
         },
         {
          "align": "left",
          "font": {
           "color": "#000000"
          },
          "showarrow": false,
          "text": "4727",
          "x": 2.55,
          "xanchor": "left",
          "xref": "x",
          "y": 8,
          "yref": "y"
         },
         {
          "align": "left",
          "font": {
           "color": "#000000"
          },
          "showarrow": false,
          "text": "90000",
          "x": -0.45,
          "xanchor": "left",
          "xref": "x",
          "y": 9,
          "yref": "y"
         },
         {
          "align": "left",
          "font": {
           "color": "#000000"
          },
          "showarrow": false,
          "text": "547275",
          "x": 0.55,
          "xanchor": "left",
          "xref": "x",
          "y": 9,
          "yref": "y"
         },
         {
          "align": "left",
          "font": {
           "color": "#000000"
          },
          "showarrow": false,
          "text": "87050",
          "x": 1.55,
          "xanchor": "left",
          "xref": "x",
          "y": 9,
          "yref": "y"
         },
         {
          "align": "left",
          "font": {
           "color": "#000000"
          },
          "showarrow": false,
          "text": "5064",
          "x": 2.55,
          "xanchor": "left",
          "xref": "x",
          "y": 9,
          "yref": "y"
         },
         {
          "align": "left",
          "font": {
           "color": "#000000"
          },
          "showarrow": false,
          "text": "100000",
          "x": -0.45,
          "xanchor": "left",
          "xref": "x",
          "y": 10,
          "yref": "y"
         },
         {
          "align": "left",
          "font": {
           "color": "#000000"
          },
          "showarrow": false,
          "text": "607287",
          "x": 0.55,
          "xanchor": "left",
          "xref": "x",
          "y": 10,
          "yref": "y"
         },
         {
          "align": "left",
          "font": {
           "color": "#000000"
          },
          "showarrow": false,
          "text": "96724",
          "x": 1.55,
          "xanchor": "left",
          "xref": "x",
          "y": 10,
          "yref": "y"
         },
         {
          "align": "left",
          "font": {
           "color": "#000000"
          },
          "showarrow": false,
          "text": "5724",
          "x": 2.55,
          "xanchor": "left",
          "xref": "x",
          "y": 10,
          "yref": "y"
         }
        ],
        "height": 380,
        "margin": {
         "b": 0,
         "l": 0,
         "r": 0,
         "t": 0
        },
        "xaxis": {
         "dtick": 1,
         "gridwidth": 2,
         "showticklabels": false,
         "tick0": -0.5,
         "ticks": "",
         "zeroline": false
        },
        "yaxis": {
         "autorange": "reversed",
         "dtick": 1,
         "gridwidth": 2,
         "showticklabels": false,
         "tick0": 0.5,
         "ticks": "",
         "zeroline": false
        }
       }
      },
      "text/html": [
       "<div id=\"8cea51c2-4b69-4f6f-9e2c-3e7a65e3575d\" style=\"height: 380px; width: 100%;\" class=\"plotly-graph-div\"></div><script type=\"text/javascript\">require([\"plotly\"], function(Plotly) { window.PLOTLYENV=window.PLOTLYENV || {};window.PLOTLYENV.BASE_URL=\"https://plot.ly\";Plotly.newPlot(\"8cea51c2-4b69-4f6f-9e2c-3e7a65e3575d\", [{\"colorscale\": [[0, \"#000000\"], [0.5, \"#FFFFFF\"], [1, \"#ffffff\"]], \"hoverinfo\": \"none\", \"opacity\": 0.75, \"showscale\": false, \"z\": [[0, 0, 0, 0], [0.5, 0.5, 0.5, 0.5], [1, 1, 1, 1], [0.5, 0.5, 0.5, 0.5], [1, 1, 1, 1], [0.5, 0.5, 0.5, 0.5], [1, 1, 1, 1], [0.5, 0.5, 0.5, 0.5], [1, 1, 1, 1], [0.5, 0.5, 0.5, 0.5], [1, 1, 1, 1]], \"type\": \"heatmap\", \"uid\": \"acf4ca1f-4c37-4462-8252-96f87069bfac\"}], {\"annotations\": [{\"align\": \"left\", \"font\": {\"color\": \"#ffffff\"}, \"showarrow\": false, \"text\": \"<b>Sequence Length</b>\", \"x\": -0.45, \"xanchor\": \"left\", \"xref\": \"x\", \"y\": 0, \"yref\": \"y\"}, {\"align\": \"left\", \"font\": {\"color\": \"#ffffff\"}, \"showarrow\": false, \"text\": \"<b>Splay</b>\", \"x\": 0.55, \"xanchor\": \"left\", \"xref\": \"x\", \"y\": 0, \"yref\": \"y\"}, {\"align\": \"left\", \"font\": {\"color\": \"#ffffff\"}, \"showarrow\": false, \"text\": \"<b>Transpose</b>\", \"x\": 1.55, \"xanchor\": \"left\", \"xref\": \"x\", \"y\": 0, \"yref\": \"y\"}, {\"align\": \"left\", \"font\": {\"color\": \"#ffffff\"}, \"showarrow\": false, \"text\": \"<b>2-in-a-Row</b>\", \"x\": 2.55, \"xanchor\": \"left\", \"xref\": \"x\", \"y\": 0, \"yref\": \"y\"}, {\"align\": \"left\", \"font\": {\"color\": \"#000000\"}, \"showarrow\": false, \"text\": \"10000\", \"x\": -0.45, \"xanchor\": \"left\", \"xref\": \"x\", \"y\": 1, \"yref\": \"y\"}, {\"align\": \"left\", \"font\": {\"color\": \"#000000\"}, \"showarrow\": false, \"text\": \"60795\", \"x\": 0.55, \"xanchor\": \"left\", \"xref\": \"x\", \"y\": 1, \"yref\": \"y\"}, {\"align\": \"left\", \"font\": {\"color\": \"#000000\"}, \"showarrow\": false, \"text\": \"9663\", \"x\": 1.55, \"xanchor\": \"left\", \"xref\": \"x\", \"y\": 1, \"yref\": \"y\"}, {\"align\": \"left\", \"font\": {\"color\": \"#000000\"}, \"showarrow\": false, \"text\": \"718\", \"x\": 2.55, \"xanchor\": \"left\", \"xref\": \"x\", \"y\": 1, \"yref\": \"y\"}, {\"align\": \"left\", \"font\": {\"color\": \"#000000\"}, \"showarrow\": false, \"text\": \"20000\", \"x\": -0.45, \"xanchor\": \"left\", \"xref\": \"x\", \"y\": 2, \"yref\": \"y\"}, {\"align\": \"left\", \"font\": {\"color\": \"#000000\"}, \"showarrow\": false, \"text\": \"121232\", \"x\": 0.55, \"xanchor\": \"left\", \"xref\": \"x\", \"y\": 2, \"yref\": \"y\"}, {\"align\": \"left\", \"font\": {\"color\": \"#000000\"}, \"showarrow\": false, \"text\": \"19369\", \"x\": 1.55, \"xanchor\": \"left\", \"xref\": \"x\", \"y\": 2, \"yref\": \"y\"}, {\"align\": \"left\", \"font\": {\"color\": \"#000000\"}, \"showarrow\": false, \"text\": \"1213\", \"x\": 2.55, \"xanchor\": \"left\", \"xref\": \"x\", \"y\": 2, \"yref\": \"y\"}, {\"align\": \"left\", \"font\": {\"color\": \"#000000\"}, \"showarrow\": false, \"text\": \"30000\", \"x\": -0.45, \"xanchor\": \"left\", \"xref\": \"x\", \"y\": 3, \"yref\": \"y\"}, {\"align\": \"left\", \"font\": {\"color\": \"#000000\"}, \"showarrow\": false, \"text\": \"181266\", \"x\": 0.55, \"xanchor\": \"left\", \"xref\": \"x\", \"y\": 3, \"yref\": \"y\"}, {\"align\": \"left\", \"font\": {\"color\": \"#000000\"}, \"showarrow\": false, \"text\": \"28969\", \"x\": 1.55, \"xanchor\": \"left\", \"xref\": \"x\", \"y\": 3, \"yref\": \"y\"}, {\"align\": \"left\", \"font\": {\"color\": \"#000000\"}, \"showarrow\": false, \"text\": \"1927\", \"x\": 2.55, \"xanchor\": \"left\", \"xref\": \"x\", \"y\": 3, \"yref\": \"y\"}, {\"align\": \"left\", \"font\": {\"color\": \"#000000\"}, \"showarrow\": false, \"text\": \"40000\", \"x\": -0.45, \"xanchor\": \"left\", \"xref\": \"x\", \"y\": 4, \"yref\": \"y\"}, {\"align\": \"left\", \"font\": {\"color\": \"#000000\"}, \"showarrow\": false, \"text\": \"242825\", \"x\": 0.55, \"xanchor\": \"left\", \"xref\": \"x\", \"y\": 4, \"yref\": \"y\"}, {\"align\": \"left\", \"font\": {\"color\": \"#000000\"}, \"showarrow\": false, \"text\": \"38705\", \"x\": 1.55, \"xanchor\": \"left\", \"xref\": \"x\", \"y\": 4, \"yref\": \"y\"}, {\"align\": \"left\", \"font\": {\"color\": \"#000000\"}, \"showarrow\": false, \"text\": \"2486\", \"x\": 2.55, \"xanchor\": \"left\", \"xref\": \"x\", \"y\": 4, \"yref\": \"y\"}, {\"align\": \"left\", \"font\": {\"color\": \"#000000\"}, \"showarrow\": false, \"text\": \"50000\", \"x\": -0.45, \"xanchor\": \"left\", \"xref\": \"x\", \"y\": 5, \"yref\": \"y\"}, {\"align\": \"left\", \"font\": {\"color\": \"#000000\"}, \"showarrow\": false, \"text\": \"303506\", \"x\": 0.55, \"xanchor\": \"left\", \"xref\": \"x\", \"y\": 5, \"yref\": \"y\"}, {\"align\": \"left\", \"font\": {\"color\": \"#000000\"}, \"showarrow\": false, \"text\": \"48296\", \"x\": 1.55, \"xanchor\": \"left\", \"xref\": \"x\", \"y\": 5, \"yref\": \"y\"}, {\"align\": \"left\", \"font\": {\"color\": \"#000000\"}, \"showarrow\": false, \"text\": \"2950\", \"x\": 2.55, \"xanchor\": \"left\", \"xref\": \"x\", \"y\": 5, \"yref\": \"y\"}, {\"align\": \"left\", \"font\": {\"color\": \"#000000\"}, \"showarrow\": false, \"text\": \"60000\", \"x\": -0.45, \"xanchor\": \"left\", \"xref\": \"x\", \"y\": 6, \"yref\": \"y\"}, {\"align\": \"left\", \"font\": {\"color\": \"#000000\"}, \"showarrow\": false, \"text\": \"364777\", \"x\": 0.55, \"xanchor\": \"left\", \"xref\": \"x\", \"y\": 6, \"yref\": \"y\"}, {\"align\": \"left\", \"font\": {\"color\": \"#000000\"}, \"showarrow\": false, \"text\": \"58084\", \"x\": 1.55, \"xanchor\": \"left\", \"xref\": \"x\", \"y\": 6, \"yref\": \"y\"}, {\"align\": \"left\", \"font\": {\"color\": \"#000000\"}, \"showarrow\": false, \"text\": \"3563\", \"x\": 2.55, \"xanchor\": \"left\", \"xref\": \"x\", \"y\": 6, \"yref\": \"y\"}, {\"align\": \"left\", \"font\": {\"color\": \"#000000\"}, \"showarrow\": false, \"text\": \"70000\", \"x\": -0.45, \"xanchor\": \"left\", \"xref\": \"x\", \"y\": 7, \"yref\": \"y\"}, {\"align\": \"left\", \"font\": {\"color\": \"#000000\"}, \"showarrow\": false, \"text\": \"423805\", \"x\": 0.55, \"xanchor\": \"left\", \"xref\": \"x\", \"y\": 7, \"yref\": \"y\"}, {\"align\": \"left\", \"font\": {\"color\": \"#000000\"}, \"showarrow\": false, \"text\": \"67771\", \"x\": 1.55, \"xanchor\": \"left\", \"xref\": \"x\", \"y\": 7, \"yref\": \"y\"}, {\"align\": \"left\", \"font\": {\"color\": \"#000000\"}, \"showarrow\": false, \"text\": \"4115\", \"x\": 2.55, \"xanchor\": \"left\", \"xref\": \"x\", \"y\": 7, \"yref\": \"y\"}, {\"align\": \"left\", \"font\": {\"color\": \"#000000\"}, \"showarrow\": false, \"text\": \"80000\", \"x\": -0.45, \"xanchor\": \"left\", \"xref\": \"x\", \"y\": 8, \"yref\": \"y\"}, {\"align\": \"left\", \"font\": {\"color\": \"#000000\"}, \"showarrow\": false, \"text\": \"486479\", \"x\": 0.55, \"xanchor\": \"left\", \"xref\": \"x\", \"y\": 8, \"yref\": \"y\"}, {\"align\": \"left\", \"font\": {\"color\": \"#000000\"}, \"showarrow\": false, \"text\": \"77249\", \"x\": 1.55, \"xanchor\": \"left\", \"xref\": \"x\", \"y\": 8, \"yref\": \"y\"}, {\"align\": \"left\", \"font\": {\"color\": \"#000000\"}, \"showarrow\": false, \"text\": \"4727\", \"x\": 2.55, \"xanchor\": \"left\", \"xref\": \"x\", \"y\": 8, \"yref\": \"y\"}, {\"align\": \"left\", \"font\": {\"color\": \"#000000\"}, \"showarrow\": false, \"text\": \"90000\", \"x\": -0.45, \"xanchor\": \"left\", \"xref\": \"x\", \"y\": 9, \"yref\": \"y\"}, {\"align\": \"left\", \"font\": {\"color\": \"#000000\"}, \"showarrow\": false, \"text\": \"547275\", \"x\": 0.55, \"xanchor\": \"left\", \"xref\": \"x\", \"y\": 9, \"yref\": \"y\"}, {\"align\": \"left\", \"font\": {\"color\": \"#000000\"}, \"showarrow\": false, \"text\": \"87050\", \"x\": 1.55, \"xanchor\": \"left\", \"xref\": \"x\", \"y\": 9, \"yref\": \"y\"}, {\"align\": \"left\", \"font\": {\"color\": \"#000000\"}, \"showarrow\": false, \"text\": \"5064\", \"x\": 2.55, \"xanchor\": \"left\", \"xref\": \"x\", \"y\": 9, \"yref\": \"y\"}, {\"align\": \"left\", \"font\": {\"color\": \"#000000\"}, \"showarrow\": false, \"text\": \"100000\", \"x\": -0.45, \"xanchor\": \"left\", \"xref\": \"x\", \"y\": 10, \"yref\": \"y\"}, {\"align\": \"left\", \"font\": {\"color\": \"#000000\"}, \"showarrow\": false, \"text\": \"607287\", \"x\": 0.55, \"xanchor\": \"left\", \"xref\": \"x\", \"y\": 10, \"yref\": \"y\"}, {\"align\": \"left\", \"font\": {\"color\": \"#000000\"}, \"showarrow\": false, \"text\": \"96724\", \"x\": 1.55, \"xanchor\": \"left\", \"xref\": \"x\", \"y\": 10, \"yref\": \"y\"}, {\"align\": \"left\", \"font\": {\"color\": \"#000000\"}, \"showarrow\": false, \"text\": \"5724\", \"x\": 2.55, \"xanchor\": \"left\", \"xref\": \"x\", \"y\": 10, \"yref\": \"y\"}], \"height\": 380, \"margin\": {\"b\": 0, \"l\": 0, \"r\": 0, \"t\": 0}, \"xaxis\": {\"dtick\": 1, \"gridwidth\": 2, \"showticklabels\": false, \"tick0\": -0.5, \"ticks\": \"\", \"zeroline\": false}, \"yaxis\": {\"autorange\": \"reversed\", \"dtick\": 1, \"gridwidth\": 2, \"showticklabels\": false, \"tick0\": 0.5, \"ticks\": \"\", \"zeroline\": false}}, {\"showLink\": true, \"linkText\": \"Export to plot.ly\", \"plotlyServerURL\": \"https://plot.ly\"})});</script><script type=\"text/javascript\">window.addEventListener(\"resize\", function(){window._Plotly.Plots.resize(document.getElementById(\"8cea51c2-4b69-4f6f-9e2c-3e7a65e3575d\"));});</script>"
      ],
      "text/vnd.plotly.v1+html": [
       "<div id=\"8cea51c2-4b69-4f6f-9e2c-3e7a65e3575d\" style=\"height: 380px; width: 100%;\" class=\"plotly-graph-div\"></div><script type=\"text/javascript\">require([\"plotly\"], function(Plotly) { window.PLOTLYENV=window.PLOTLYENV || {};window.PLOTLYENV.BASE_URL=\"https://plot.ly\";Plotly.newPlot(\"8cea51c2-4b69-4f6f-9e2c-3e7a65e3575d\", [{\"colorscale\": [[0, \"#000000\"], [0.5, \"#FFFFFF\"], [1, \"#ffffff\"]], \"hoverinfo\": \"none\", \"opacity\": 0.75, \"showscale\": false, \"z\": [[0, 0, 0, 0], [0.5, 0.5, 0.5, 0.5], [1, 1, 1, 1], [0.5, 0.5, 0.5, 0.5], [1, 1, 1, 1], [0.5, 0.5, 0.5, 0.5], [1, 1, 1, 1], [0.5, 0.5, 0.5, 0.5], [1, 1, 1, 1], [0.5, 0.5, 0.5, 0.5], [1, 1, 1, 1]], \"type\": \"heatmap\", \"uid\": \"acf4ca1f-4c37-4462-8252-96f87069bfac\"}], {\"annotations\": [{\"align\": \"left\", \"font\": {\"color\": \"#ffffff\"}, \"showarrow\": false, \"text\": \"<b>Sequence Length</b>\", \"x\": -0.45, \"xanchor\": \"left\", \"xref\": \"x\", \"y\": 0, \"yref\": \"y\"}, {\"align\": \"left\", \"font\": {\"color\": \"#ffffff\"}, \"showarrow\": false, \"text\": \"<b>Splay</b>\", \"x\": 0.55, \"xanchor\": \"left\", \"xref\": \"x\", \"y\": 0, \"yref\": \"y\"}, {\"align\": \"left\", \"font\": {\"color\": \"#ffffff\"}, \"showarrow\": false, \"text\": \"<b>Transpose</b>\", \"x\": 1.55, \"xanchor\": \"left\", \"xref\": \"x\", \"y\": 0, \"yref\": \"y\"}, {\"align\": \"left\", \"font\": {\"color\": \"#ffffff\"}, \"showarrow\": false, \"text\": \"<b>2-in-a-Row</b>\", \"x\": 2.55, \"xanchor\": \"left\", \"xref\": \"x\", \"y\": 0, \"yref\": \"y\"}, {\"align\": \"left\", \"font\": {\"color\": \"#000000\"}, \"showarrow\": false, \"text\": \"10000\", \"x\": -0.45, \"xanchor\": \"left\", \"xref\": \"x\", \"y\": 1, \"yref\": \"y\"}, {\"align\": \"left\", \"font\": {\"color\": \"#000000\"}, \"showarrow\": false, \"text\": \"60795\", \"x\": 0.55, \"xanchor\": \"left\", \"xref\": \"x\", \"y\": 1, \"yref\": \"y\"}, {\"align\": \"left\", \"font\": {\"color\": \"#000000\"}, \"showarrow\": false, \"text\": \"9663\", \"x\": 1.55, \"xanchor\": \"left\", \"xref\": \"x\", \"y\": 1, \"yref\": \"y\"}, {\"align\": \"left\", \"font\": {\"color\": \"#000000\"}, \"showarrow\": false, \"text\": \"718\", \"x\": 2.55, \"xanchor\": \"left\", \"xref\": \"x\", \"y\": 1, \"yref\": \"y\"}, {\"align\": \"left\", \"font\": {\"color\": \"#000000\"}, \"showarrow\": false, \"text\": \"20000\", \"x\": -0.45, \"xanchor\": \"left\", \"xref\": \"x\", \"y\": 2, \"yref\": \"y\"}, {\"align\": \"left\", \"font\": {\"color\": \"#000000\"}, \"showarrow\": false, \"text\": \"121232\", \"x\": 0.55, \"xanchor\": \"left\", \"xref\": \"x\", \"y\": 2, \"yref\": \"y\"}, {\"align\": \"left\", \"font\": {\"color\": \"#000000\"}, \"showarrow\": false, \"text\": \"19369\", \"x\": 1.55, \"xanchor\": \"left\", \"xref\": \"x\", \"y\": 2, \"yref\": \"y\"}, {\"align\": \"left\", \"font\": {\"color\": \"#000000\"}, \"showarrow\": false, \"text\": \"1213\", \"x\": 2.55, \"xanchor\": \"left\", \"xref\": \"x\", \"y\": 2, \"yref\": \"y\"}, {\"align\": \"left\", \"font\": {\"color\": \"#000000\"}, \"showarrow\": false, \"text\": \"30000\", \"x\": -0.45, \"xanchor\": \"left\", \"xref\": \"x\", \"y\": 3, \"yref\": \"y\"}, {\"align\": \"left\", \"font\": {\"color\": \"#000000\"}, \"showarrow\": false, \"text\": \"181266\", \"x\": 0.55, \"xanchor\": \"left\", \"xref\": \"x\", \"y\": 3, \"yref\": \"y\"}, {\"align\": \"left\", \"font\": {\"color\": \"#000000\"}, \"showarrow\": false, \"text\": \"28969\", \"x\": 1.55, \"xanchor\": \"left\", \"xref\": \"x\", \"y\": 3, \"yref\": \"y\"}, {\"align\": \"left\", \"font\": {\"color\": \"#000000\"}, \"showarrow\": false, \"text\": \"1927\", \"x\": 2.55, \"xanchor\": \"left\", \"xref\": \"x\", \"y\": 3, \"yref\": \"y\"}, {\"align\": \"left\", \"font\": {\"color\": \"#000000\"}, \"showarrow\": false, \"text\": \"40000\", \"x\": -0.45, \"xanchor\": \"left\", \"xref\": \"x\", \"y\": 4, \"yref\": \"y\"}, {\"align\": \"left\", \"font\": {\"color\": \"#000000\"}, \"showarrow\": false, \"text\": \"242825\", \"x\": 0.55, \"xanchor\": \"left\", \"xref\": \"x\", \"y\": 4, \"yref\": \"y\"}, {\"align\": \"left\", \"font\": {\"color\": \"#000000\"}, \"showarrow\": false, \"text\": \"38705\", \"x\": 1.55, \"xanchor\": \"left\", \"xref\": \"x\", \"y\": 4, \"yref\": \"y\"}, {\"align\": \"left\", \"font\": {\"color\": \"#000000\"}, \"showarrow\": false, \"text\": \"2486\", \"x\": 2.55, \"xanchor\": \"left\", \"xref\": \"x\", \"y\": 4, \"yref\": \"y\"}, {\"align\": \"left\", \"font\": {\"color\": \"#000000\"}, \"showarrow\": false, \"text\": \"50000\", \"x\": -0.45, \"xanchor\": \"left\", \"xref\": \"x\", \"y\": 5, \"yref\": \"y\"}, {\"align\": \"left\", \"font\": {\"color\": \"#000000\"}, \"showarrow\": false, \"text\": \"303506\", \"x\": 0.55, \"xanchor\": \"left\", \"xref\": \"x\", \"y\": 5, \"yref\": \"y\"}, {\"align\": \"left\", \"font\": {\"color\": \"#000000\"}, \"showarrow\": false, \"text\": \"48296\", \"x\": 1.55, \"xanchor\": \"left\", \"xref\": \"x\", \"y\": 5, \"yref\": \"y\"}, {\"align\": \"left\", \"font\": {\"color\": \"#000000\"}, \"showarrow\": false, \"text\": \"2950\", \"x\": 2.55, \"xanchor\": \"left\", \"xref\": \"x\", \"y\": 5, \"yref\": \"y\"}, {\"align\": \"left\", \"font\": {\"color\": \"#000000\"}, \"showarrow\": false, \"text\": \"60000\", \"x\": -0.45, \"xanchor\": \"left\", \"xref\": \"x\", \"y\": 6, \"yref\": \"y\"}, {\"align\": \"left\", \"font\": {\"color\": \"#000000\"}, \"showarrow\": false, \"text\": \"364777\", \"x\": 0.55, \"xanchor\": \"left\", \"xref\": \"x\", \"y\": 6, \"yref\": \"y\"}, {\"align\": \"left\", \"font\": {\"color\": \"#000000\"}, \"showarrow\": false, \"text\": \"58084\", \"x\": 1.55, \"xanchor\": \"left\", \"xref\": \"x\", \"y\": 6, \"yref\": \"y\"}, {\"align\": \"left\", \"font\": {\"color\": \"#000000\"}, \"showarrow\": false, \"text\": \"3563\", \"x\": 2.55, \"xanchor\": \"left\", \"xref\": \"x\", \"y\": 6, \"yref\": \"y\"}, {\"align\": \"left\", \"font\": {\"color\": \"#000000\"}, \"showarrow\": false, \"text\": \"70000\", \"x\": -0.45, \"xanchor\": \"left\", \"xref\": \"x\", \"y\": 7, \"yref\": \"y\"}, {\"align\": \"left\", \"font\": {\"color\": \"#000000\"}, \"showarrow\": false, \"text\": \"423805\", \"x\": 0.55, \"xanchor\": \"left\", \"xref\": \"x\", \"y\": 7, \"yref\": \"y\"}, {\"align\": \"left\", \"font\": {\"color\": \"#000000\"}, \"showarrow\": false, \"text\": \"67771\", \"x\": 1.55, \"xanchor\": \"left\", \"xref\": \"x\", \"y\": 7, \"yref\": \"y\"}, {\"align\": \"left\", \"font\": {\"color\": \"#000000\"}, \"showarrow\": false, \"text\": \"4115\", \"x\": 2.55, \"xanchor\": \"left\", \"xref\": \"x\", \"y\": 7, \"yref\": \"y\"}, {\"align\": \"left\", \"font\": {\"color\": \"#000000\"}, \"showarrow\": false, \"text\": \"80000\", \"x\": -0.45, \"xanchor\": \"left\", \"xref\": \"x\", \"y\": 8, \"yref\": \"y\"}, {\"align\": \"left\", \"font\": {\"color\": \"#000000\"}, \"showarrow\": false, \"text\": \"486479\", \"x\": 0.55, \"xanchor\": \"left\", \"xref\": \"x\", \"y\": 8, \"yref\": \"y\"}, {\"align\": \"left\", \"font\": {\"color\": \"#000000\"}, \"showarrow\": false, \"text\": \"77249\", \"x\": 1.55, \"xanchor\": \"left\", \"xref\": \"x\", \"y\": 8, \"yref\": \"y\"}, {\"align\": \"left\", \"font\": {\"color\": \"#000000\"}, \"showarrow\": false, \"text\": \"4727\", \"x\": 2.55, \"xanchor\": \"left\", \"xref\": \"x\", \"y\": 8, \"yref\": \"y\"}, {\"align\": \"left\", \"font\": {\"color\": \"#000000\"}, \"showarrow\": false, \"text\": \"90000\", \"x\": -0.45, \"xanchor\": \"left\", \"xref\": \"x\", \"y\": 9, \"yref\": \"y\"}, {\"align\": \"left\", \"font\": {\"color\": \"#000000\"}, \"showarrow\": false, \"text\": \"547275\", \"x\": 0.55, \"xanchor\": \"left\", \"xref\": \"x\", \"y\": 9, \"yref\": \"y\"}, {\"align\": \"left\", \"font\": {\"color\": \"#000000\"}, \"showarrow\": false, \"text\": \"87050\", \"x\": 1.55, \"xanchor\": \"left\", \"xref\": \"x\", \"y\": 9, \"yref\": \"y\"}, {\"align\": \"left\", \"font\": {\"color\": \"#000000\"}, \"showarrow\": false, \"text\": \"5064\", \"x\": 2.55, \"xanchor\": \"left\", \"xref\": \"x\", \"y\": 9, \"yref\": \"y\"}, {\"align\": \"left\", \"font\": {\"color\": \"#000000\"}, \"showarrow\": false, \"text\": \"100000\", \"x\": -0.45, \"xanchor\": \"left\", \"xref\": \"x\", \"y\": 10, \"yref\": \"y\"}, {\"align\": \"left\", \"font\": {\"color\": \"#000000\"}, \"showarrow\": false, \"text\": \"607287\", \"x\": 0.55, \"xanchor\": \"left\", \"xref\": \"x\", \"y\": 10, \"yref\": \"y\"}, {\"align\": \"left\", \"font\": {\"color\": \"#000000\"}, \"showarrow\": false, \"text\": \"96724\", \"x\": 1.55, \"xanchor\": \"left\", \"xref\": \"x\", \"y\": 10, \"yref\": \"y\"}, {\"align\": \"left\", \"font\": {\"color\": \"#000000\"}, \"showarrow\": false, \"text\": \"5724\", \"x\": 2.55, \"xanchor\": \"left\", \"xref\": \"x\", \"y\": 10, \"yref\": \"y\"}], \"height\": 380, \"margin\": {\"b\": 0, \"l\": 0, \"r\": 0, \"t\": 0}, \"xaxis\": {\"dtick\": 1, \"gridwidth\": 2, \"showticklabels\": false, \"tick0\": -0.5, \"ticks\": \"\", \"zeroline\": false}, \"yaxis\": {\"autorange\": \"reversed\", \"dtick\": 1, \"gridwidth\": 2, \"showticklabels\": false, \"tick0\": 0.5, \"ticks\": \"\", \"zeroline\": false}}, {\"showLink\": true, \"linkText\": \"Export to plot.ly\", \"plotlyServerURL\": \"https://plot.ly\"})});</script><script type=\"text/javascript\">window.addEventListener(\"resize\", function(){window._Plotly.Plots.resize(document.getElementById(\"8cea51c2-4b69-4f6f-9e2c-3e7a65e3575d\"));});</script>"
      ]
     },
     "metadata": {},
     "output_type": "display_data"
    }
   ],
   "source": [
    "df = pd.read_csv('rotation/mtfMarkovLowRotationCost.csv')\n",
    "\n",
    "trace1 = go.Scatter(\n",
    "                    x=df['Sequence Length'], y=df['Access Costs'], # Data\n",
    "                    mode='lines', name='Splay',\n",
    "                    line = dict(color = ('rgb(253, 127, 40)'))\n",
    "                   )\n",
    "\n",
    "df = pd.read_csv('rotation/transposeMarkovLowRotationCost.csv')\n",
    "\n",
    "trace2 = go.Scatter(\n",
    "                    x=df['Sequence Length'], y=df['Access Costs'], # Data\n",
    "                    mode='lines', name='Transpose',\n",
    "                    line = dict(color = ('rgb(50, 158, 52)'))\n",
    "                   )\n",
    "\n",
    "df = pd.read_csv('rotation/kInARowMarkovLowRotationCost.csv')\n",
    "\n",
    "trace3 = go.Scatter(\n",
    "                    x=df['Sequence Length'], y=df['Access Costs'], # Data\n",
    "                    mode='lines', name='2-in-a-row',\n",
    "                    line = dict(color = ('rgb(211, 41, 47)'))\n",
    "                   )\n",
    "\n",
    "\n",
    "\n",
    "layout = go.Layout(title='Rotation Cost: Low Self Loop',\n",
    "                   plot_bgcolor='rgb(255, 255,255)',\n",
    "                   xaxis=dict(title='Sequence Length'),\n",
    "                   yaxis=dict(title='Rotation Cost'))\n",
    "\n",
    "fig = go.Figure(data=[trace1, trace2, trace3], layout=layout)\n",
    "\n",
    "# Plot data in the notebook\n",
    "iplot(fig)\n",
    "\n",
    "\n",
    "df = pd.read_csv('table/MarkovLowRotation.csv')\n",
    "colorscale = [[0, '#000000'],[.5, '#FFFFFF'],[1, '#ffffff']]\n",
    "table = ff.create_table(df, colorscale=colorscale)\n",
    "iplot(table)"
   ]
  },
  {
   "cell_type": "code",
   "execution_count": 37,
   "metadata": {},
   "outputs": [
    {
     "data": {
      "application/vnd.plotly.v1+json": {
       "config": {
        "linkText": "Export to plot.ly",
        "plotlyServerURL": "https://plot.ly",
        "showLink": true
       },
       "data": [
        {
         "line": {
          "color": "rgb(253, 127, 40)"
         },
         "mode": "lines",
         "name": "Splay",
         "type": "scatter",
         "uid": "44c154eb-6f4e-465b-8cde-df3b6cb51a3d",
         "x": [
          10000,
          20000,
          30000,
          40000,
          50000,
          60000,
          70000,
          80000,
          90000,
          100000
         ],
         "y": [
          121590,
          242464,
          362532,
          485650,
          607012,
          729554,
          847610,
          972958,
          1094550,
          1214574
         ]
        },
        {
         "line": {
          "color": "rgb(50, 158, 52)"
         },
         "mode": "lines",
         "name": "Transpose",
         "type": "scatter",
         "uid": "15f4790f-d104-4473-9a47-406bef083844",
         "x": [
          10000,
          20000,
          30000,
          40000,
          50000,
          60000,
          70000,
          80000,
          90000,
          100000
         ],
         "y": [
          103571,
          242492,
          337516,
          421689,
          558694,
          698065,
          773744,
          921569,
          1012948,
          1134398
         ]
        },
        {
         "line": {
          "color": "rgb(211, 41, 47)"
         },
         "mode": "lines",
         "name": "2-in-a-row",
         "type": "scatter",
         "uid": "e6791a55-f1f3-4d12-9ef7-f5ab2728f176",
         "x": [
          10000,
          20000,
          30000,
          40000,
          50000,
          60000,
          70000,
          80000,
          90000,
          100000
         ],
         "y": [
          67772,
          137089,
          201589,
          272460,
          335042,
          404788,
          463787,
          533830,
          605759,
          675357
         ]
        }
       ],
       "layout": {
        "plot_bgcolor": "rgb(255, 255,255)",
        "title": "Total Cost: Low Self Loop",
        "xaxis": {
         "title": "Sequence Length"
        },
        "yaxis": {
         "title": "Total Cost"
        }
       }
      },
      "text/html": [
       "<div id=\"debfb855-4fa5-449c-99b1-fd185f1c8231\" style=\"height: 525px; width: 100%;\" class=\"plotly-graph-div\"></div><script type=\"text/javascript\">require([\"plotly\"], function(Plotly) { window.PLOTLYENV=window.PLOTLYENV || {};window.PLOTLYENV.BASE_URL=\"https://plot.ly\";Plotly.newPlot(\"debfb855-4fa5-449c-99b1-fd185f1c8231\", [{\"line\": {\"color\": \"rgb(253, 127, 40)\"}, \"mode\": \"lines\", \"name\": \"Splay\", \"x\": [10000, 20000, 30000, 40000, 50000, 60000, 70000, 80000, 90000, 100000], \"y\": [121590, 242464, 362532, 485650, 607012, 729554, 847610, 972958, 1094550, 1214574], \"type\": \"scatter\", \"uid\": \"44c154eb-6f4e-465b-8cde-df3b6cb51a3d\"}, {\"line\": {\"color\": \"rgb(50, 158, 52)\"}, \"mode\": \"lines\", \"name\": \"Transpose\", \"x\": [10000, 20000, 30000, 40000, 50000, 60000, 70000, 80000, 90000, 100000], \"y\": [103571, 242492, 337516, 421689, 558694, 698065, 773744, 921569, 1012948, 1134398], \"type\": \"scatter\", \"uid\": \"15f4790f-d104-4473-9a47-406bef083844\"}, {\"line\": {\"color\": \"rgb(211, 41, 47)\"}, \"mode\": \"lines\", \"name\": \"2-in-a-row\", \"x\": [10000, 20000, 30000, 40000, 50000, 60000, 70000, 80000, 90000, 100000], \"y\": [67772, 137089, 201589, 272460, 335042, 404788, 463787, 533830, 605759, 675357], \"type\": \"scatter\", \"uid\": \"e6791a55-f1f3-4d12-9ef7-f5ab2728f176\"}], {\"plot_bgcolor\": \"rgb(255, 255,255)\", \"title\": \"Total Cost: Low Self Loop\", \"xaxis\": {\"title\": \"Sequence Length\"}, \"yaxis\": {\"title\": \"Total Cost\"}}, {\"showLink\": true, \"linkText\": \"Export to plot.ly\", \"plotlyServerURL\": \"https://plot.ly\"})});</script><script type=\"text/javascript\">window.addEventListener(\"resize\", function(){window._Plotly.Plots.resize(document.getElementById(\"debfb855-4fa5-449c-99b1-fd185f1c8231\"));});</script>"
      ],
      "text/vnd.plotly.v1+html": [
       "<div id=\"debfb855-4fa5-449c-99b1-fd185f1c8231\" style=\"height: 525px; width: 100%;\" class=\"plotly-graph-div\"></div><script type=\"text/javascript\">require([\"plotly\"], function(Plotly) { window.PLOTLYENV=window.PLOTLYENV || {};window.PLOTLYENV.BASE_URL=\"https://plot.ly\";Plotly.newPlot(\"debfb855-4fa5-449c-99b1-fd185f1c8231\", [{\"line\": {\"color\": \"rgb(253, 127, 40)\"}, \"mode\": \"lines\", \"name\": \"Splay\", \"x\": [10000, 20000, 30000, 40000, 50000, 60000, 70000, 80000, 90000, 100000], \"y\": [121590, 242464, 362532, 485650, 607012, 729554, 847610, 972958, 1094550, 1214574], \"type\": \"scatter\", \"uid\": \"44c154eb-6f4e-465b-8cde-df3b6cb51a3d\"}, {\"line\": {\"color\": \"rgb(50, 158, 52)\"}, \"mode\": \"lines\", \"name\": \"Transpose\", \"x\": [10000, 20000, 30000, 40000, 50000, 60000, 70000, 80000, 90000, 100000], \"y\": [103571, 242492, 337516, 421689, 558694, 698065, 773744, 921569, 1012948, 1134398], \"type\": \"scatter\", \"uid\": \"15f4790f-d104-4473-9a47-406bef083844\"}, {\"line\": {\"color\": \"rgb(211, 41, 47)\"}, \"mode\": \"lines\", \"name\": \"2-in-a-row\", \"x\": [10000, 20000, 30000, 40000, 50000, 60000, 70000, 80000, 90000, 100000], \"y\": [67772, 137089, 201589, 272460, 335042, 404788, 463787, 533830, 605759, 675357], \"type\": \"scatter\", \"uid\": \"e6791a55-f1f3-4d12-9ef7-f5ab2728f176\"}], {\"plot_bgcolor\": \"rgb(255, 255,255)\", \"title\": \"Total Cost: Low Self Loop\", \"xaxis\": {\"title\": \"Sequence Length\"}, \"yaxis\": {\"title\": \"Total Cost\"}}, {\"showLink\": true, \"linkText\": \"Export to plot.ly\", \"plotlyServerURL\": \"https://plot.ly\"})});</script><script type=\"text/javascript\">window.addEventListener(\"resize\", function(){window._Plotly.Plots.resize(document.getElementById(\"debfb855-4fa5-449c-99b1-fd185f1c8231\"));});</script>"
      ]
     },
     "metadata": {},
     "output_type": "display_data"
    }
   ],
   "source": [
    "df = pd.read_csv('total/mtfMarkovLowTotalCost.csv')\n",
    "\n",
    "trace1 = go.Scatter(\n",
    "                    x=df['Sequence Length'], y=df['Access Costs'], # Data\n",
    "                    mode='lines', name='Splay',\n",
    "                    line = dict(color = ('rgb(253, 127, 40)'))\n",
    "                   )\n",
    "\n",
    "df = pd.read_csv('total/transposeMarkovLowTotalCost.csv')\n",
    "\n",
    "trace2 = go.Scatter(\n",
    "                    x=df['Sequence Length'], y=df['Access Costs'], # Data\n",
    "                    mode='lines', name='Transpose',\n",
    "                    line = dict(color = ('rgb(50, 158, 52)'))\n",
    "                   )\n",
    "\n",
    "df = pd.read_csv('total/kInARowMarkovLowTotalCost.csv')\n",
    "\n",
    "trace3 = go.Scatter(\n",
    "                    x=df['Sequence Length'], y=df['Access Costs'], # Data\n",
    "                    mode='lines', name='2-in-a-row',\n",
    "                    line = dict(color = ('rgb(211, 41, 47)'))\n",
    "                   )\n",
    "\n",
    "\n",
    "\n",
    "layout = go.Layout(title='Total Cost: Low Self Loop',\n",
    "                   plot_bgcolor='rgb(255, 255,255)',\n",
    "                   xaxis=dict(title='Sequence Length'),\n",
    "                   yaxis=dict(title='Total Cost'))\n",
    "\n",
    "fig = go.Figure(data=[trace1, trace2, trace3], layout=layout)\n",
    "\n",
    "# Plot data in the notebook\n",
    "iplot(fig)\n"
   ]
  },
  {
   "cell_type": "code",
   "execution_count": 38,
   "metadata": {},
   "outputs": [
    {
     "data": {
      "application/vnd.plotly.v1+json": {
       "config": {
        "linkText": "Export to plot.ly",
        "plotlyServerURL": "https://plot.ly",
        "showLink": true
       },
       "data": [
        {
         "line": {
          "color": "rgb(37, 120, 178)"
         },
         "mode": "lines",
         "name": "OPT",
         "type": "scatter",
         "uid": "f3331250-149e-4387-ab4e-0ce4cc3da073",
         "x": [
          10000,
          20000,
          30000,
          40000,
          50000,
          60000,
          70000,
          80000,
          90000,
          100000
         ],
         "y": [
          100144,
          203709,
          309348,
          408313,
          515971,
          622972,
          720952,
          831229,
          932893,
          1034194
         ]
        },
        {
         "line": {
          "color": "rgb(253, 127, 40)"
         },
         "mode": "lines",
         "name": "MTF",
         "type": "scatter",
         "uid": "e1881f50-9e41-4224-82a4-af65a1f7c0c9",
         "x": [
          10000,
          20000,
          30000,
          40000,
          50000,
          60000,
          70000,
          80000,
          90000,
          100000
         ],
         "y": [
          146997,
          296556,
          451536,
          594085,
          751170,
          907171,
          1053712,
          1210240,
          1355056,
          1502425
         ]
        },
        {
         "line": {
          "color": "rgb(50, 158, 52)"
         },
         "mode": "lines",
         "name": "Transpose",
         "type": "scatter",
         "uid": "892aae69-2a90-43b2-b31c-7cb2b3db8425",
         "x": [
          10000,
          20000,
          30000,
          40000,
          50000,
          60000,
          70000,
          80000,
          90000,
          100000
         ],
         "y": [
          104229,
          211642,
          319722,
          422109,
          532505,
          643077,
          744218,
          857196,
          962343,
          1066519
         ]
        },
        {
         "line": {
          "color": "rgb(211, 41, 47)"
         },
         "mode": "lines",
         "name": "2-in-a-row",
         "type": "scatter",
         "uid": "9078b464-a2ed-4ced-aa43-1f0286229b5b",
         "x": [
          10000,
          20000,
          30000,
          40000,
          50000,
          60000,
          70000,
          80000,
          90000,
          100000
         ],
         "y": [
          101833,
          208251,
          314110,
          413739,
          523567,
          628673,
          729656,
          849188,
          950790,
          1048455
         ]
        }
       ],
       "layout": {
        "plot_bgcolor": "rgb(255, 255,255)",
        "title": "List Access Cost: Zipfian",
        "xaxis": {
         "title": "Sequence Length"
        },
        "yaxis": {
         "title": "Access Cost"
        }
       }
      },
      "text/html": [
       "<div id=\"46a9869d-0239-4080-ab98-193b5d2c6fcf\" style=\"height: 525px; width: 100%;\" class=\"plotly-graph-div\"></div><script type=\"text/javascript\">require([\"plotly\"], function(Plotly) { window.PLOTLYENV=window.PLOTLYENV || {};window.PLOTLYENV.BASE_URL=\"https://plot.ly\";Plotly.newPlot(\"46a9869d-0239-4080-ab98-193b5d2c6fcf\", [{\"line\": {\"color\": \"rgb(37, 120, 178)\"}, \"mode\": \"lines\", \"name\": \"OPT\", \"x\": [10000, 20000, 30000, 40000, 50000, 60000, 70000, 80000, 90000, 100000], \"y\": [100144, 203709, 309348, 408313, 515971, 622972, 720952, 831229, 932893, 1034194], \"type\": \"scatter\", \"uid\": \"f3331250-149e-4387-ab4e-0ce4cc3da073\"}, {\"line\": {\"color\": \"rgb(253, 127, 40)\"}, \"mode\": \"lines\", \"name\": \"MTF\", \"x\": [10000, 20000, 30000, 40000, 50000, 60000, 70000, 80000, 90000, 100000], \"y\": [146997, 296556, 451536, 594085, 751170, 907171, 1053712, 1210240, 1355056, 1502425], \"type\": \"scatter\", \"uid\": \"e1881f50-9e41-4224-82a4-af65a1f7c0c9\"}, {\"line\": {\"color\": \"rgb(50, 158, 52)\"}, \"mode\": \"lines\", \"name\": \"Transpose\", \"x\": [10000, 20000, 30000, 40000, 50000, 60000, 70000, 80000, 90000, 100000], \"y\": [104229, 211642, 319722, 422109, 532505, 643077, 744218, 857196, 962343, 1066519], \"type\": \"scatter\", \"uid\": \"892aae69-2a90-43b2-b31c-7cb2b3db8425\"}, {\"line\": {\"color\": \"rgb(211, 41, 47)\"}, \"mode\": \"lines\", \"name\": \"2-in-a-row\", \"x\": [10000, 20000, 30000, 40000, 50000, 60000, 70000, 80000, 90000, 100000], \"y\": [101833, 208251, 314110, 413739, 523567, 628673, 729656, 849188, 950790, 1048455], \"type\": \"scatter\", \"uid\": \"9078b464-a2ed-4ced-aa43-1f0286229b5b\"}], {\"plot_bgcolor\": \"rgb(255, 255,255)\", \"title\": \"List Access Cost: Zipfian\", \"xaxis\": {\"title\": \"Sequence Length\"}, \"yaxis\": {\"title\": \"Access Cost\"}}, {\"showLink\": true, \"linkText\": \"Export to plot.ly\", \"plotlyServerURL\": \"https://plot.ly\"})});</script><script type=\"text/javascript\">window.addEventListener(\"resize\", function(){window._Plotly.Plots.resize(document.getElementById(\"46a9869d-0239-4080-ab98-193b5d2c6fcf\"));});</script>"
      ],
      "text/vnd.plotly.v1+html": [
       "<div id=\"46a9869d-0239-4080-ab98-193b5d2c6fcf\" style=\"height: 525px; width: 100%;\" class=\"plotly-graph-div\"></div><script type=\"text/javascript\">require([\"plotly\"], function(Plotly) { window.PLOTLYENV=window.PLOTLYENV || {};window.PLOTLYENV.BASE_URL=\"https://plot.ly\";Plotly.newPlot(\"46a9869d-0239-4080-ab98-193b5d2c6fcf\", [{\"line\": {\"color\": \"rgb(37, 120, 178)\"}, \"mode\": \"lines\", \"name\": \"OPT\", \"x\": [10000, 20000, 30000, 40000, 50000, 60000, 70000, 80000, 90000, 100000], \"y\": [100144, 203709, 309348, 408313, 515971, 622972, 720952, 831229, 932893, 1034194], \"type\": \"scatter\", \"uid\": \"f3331250-149e-4387-ab4e-0ce4cc3da073\"}, {\"line\": {\"color\": \"rgb(253, 127, 40)\"}, \"mode\": \"lines\", \"name\": \"MTF\", \"x\": [10000, 20000, 30000, 40000, 50000, 60000, 70000, 80000, 90000, 100000], \"y\": [146997, 296556, 451536, 594085, 751170, 907171, 1053712, 1210240, 1355056, 1502425], \"type\": \"scatter\", \"uid\": \"e1881f50-9e41-4224-82a4-af65a1f7c0c9\"}, {\"line\": {\"color\": \"rgb(50, 158, 52)\"}, \"mode\": \"lines\", \"name\": \"Transpose\", \"x\": [10000, 20000, 30000, 40000, 50000, 60000, 70000, 80000, 90000, 100000], \"y\": [104229, 211642, 319722, 422109, 532505, 643077, 744218, 857196, 962343, 1066519], \"type\": \"scatter\", \"uid\": \"892aae69-2a90-43b2-b31c-7cb2b3db8425\"}, {\"line\": {\"color\": \"rgb(211, 41, 47)\"}, \"mode\": \"lines\", \"name\": \"2-in-a-row\", \"x\": [10000, 20000, 30000, 40000, 50000, 60000, 70000, 80000, 90000, 100000], \"y\": [101833, 208251, 314110, 413739, 523567, 628673, 729656, 849188, 950790, 1048455], \"type\": \"scatter\", \"uid\": \"9078b464-a2ed-4ced-aa43-1f0286229b5b\"}], {\"plot_bgcolor\": \"rgb(255, 255,255)\", \"title\": \"List Access Cost: Zipfian\", \"xaxis\": {\"title\": \"Sequence Length\"}, \"yaxis\": {\"title\": \"Access Cost\"}}, {\"showLink\": true, \"linkText\": \"Export to plot.ly\", \"plotlyServerURL\": \"https://plot.ly\"})});</script><script type=\"text/javascript\">window.addEventListener(\"resize\", function(){window._Plotly.Plots.resize(document.getElementById(\"46a9869d-0239-4080-ab98-193b5d2c6fcf\"));});</script>"
      ]
     },
     "metadata": {},
     "output_type": "display_data"
    },
    {
     "data": {
      "application/vnd.plotly.v1+json": {
       "config": {
        "linkText": "Export to plot.ly",
        "plotlyServerURL": "https://plot.ly",
        "showLink": true
       },
       "data": [
        {
         "colorscale": [
          [
           0,
           "#000000"
          ],
          [
           0.5,
           "#FFFFFF"
          ],
          [
           1,
           "#ffffff"
          ]
         ],
         "hoverinfo": "none",
         "opacity": 0.75,
         "showscale": false,
         "type": "heatmap",
         "uid": "3651f5dd-b054-4959-895a-c1b14985032a",
         "z": [
          [
           0,
           0,
           0,
           0,
           0
          ],
          [
           0.5,
           0.5,
           0.5,
           0.5,
           0.5
          ],
          [
           1,
           1,
           1,
           1,
           1
          ],
          [
           0.5,
           0.5,
           0.5,
           0.5,
           0.5
          ],
          [
           1,
           1,
           1,
           1,
           1
          ],
          [
           0.5,
           0.5,
           0.5,
           0.5,
           0.5
          ],
          [
           1,
           1,
           1,
           1,
           1
          ],
          [
           0.5,
           0.5,
           0.5,
           0.5,
           0.5
          ],
          [
           1,
           1,
           1,
           1,
           1
          ],
          [
           0.5,
           0.5,
           0.5,
           0.5,
           0.5
          ],
          [
           1,
           1,
           1,
           1,
           1
          ]
         ]
        }
       ],
       "layout": {
        "annotations": [
         {
          "align": "left",
          "font": {
           "color": "#ffffff"
          },
          "showarrow": false,
          "text": "<b>Sequence Length</b>",
          "x": -0.45,
          "xanchor": "left",
          "xref": "x",
          "y": 0,
          "yref": "y"
         },
         {
          "align": "left",
          "font": {
           "color": "#ffffff"
          },
          "showarrow": false,
          "text": "<b>OPT</b>",
          "x": 0.55,
          "xanchor": "left",
          "xref": "x",
          "y": 0,
          "yref": "y"
         },
         {
          "align": "left",
          "font": {
           "color": "#ffffff"
          },
          "showarrow": false,
          "text": "<b>MTF</b>",
          "x": 1.55,
          "xanchor": "left",
          "xref": "x",
          "y": 0,
          "yref": "y"
         },
         {
          "align": "left",
          "font": {
           "color": "#ffffff"
          },
          "showarrow": false,
          "text": "<b>Transpose</b>",
          "x": 2.55,
          "xanchor": "left",
          "xref": "x",
          "y": 0,
          "yref": "y"
         },
         {
          "align": "left",
          "font": {
           "color": "#ffffff"
          },
          "showarrow": false,
          "text": "<b>2-in-a-Row</b>",
          "x": 3.55,
          "xanchor": "left",
          "xref": "x",
          "y": 0,
          "yref": "y"
         },
         {
          "align": "left",
          "font": {
           "color": "#000000"
          },
          "showarrow": false,
          "text": "10000",
          "x": -0.45,
          "xanchor": "left",
          "xref": "x",
          "y": 1,
          "yref": "y"
         },
         {
          "align": "left",
          "font": {
           "color": "#000000"
          },
          "showarrow": false,
          "text": "100144",
          "x": 0.55,
          "xanchor": "left",
          "xref": "x",
          "y": 1,
          "yref": "y"
         },
         {
          "align": "left",
          "font": {
           "color": "#000000"
          },
          "showarrow": false,
          "text": "146997",
          "x": 1.55,
          "xanchor": "left",
          "xref": "x",
          "y": 1,
          "yref": "y"
         },
         {
          "align": "left",
          "font": {
           "color": "#000000"
          },
          "showarrow": false,
          "text": "104229",
          "x": 2.55,
          "xanchor": "left",
          "xref": "x",
          "y": 1,
          "yref": "y"
         },
         {
          "align": "left",
          "font": {
           "color": "#000000"
          },
          "showarrow": false,
          "text": "101833",
          "x": 3.55,
          "xanchor": "left",
          "xref": "x",
          "y": 1,
          "yref": "y"
         },
         {
          "align": "left",
          "font": {
           "color": "#000000"
          },
          "showarrow": false,
          "text": "20000",
          "x": -0.45,
          "xanchor": "left",
          "xref": "x",
          "y": 2,
          "yref": "y"
         },
         {
          "align": "left",
          "font": {
           "color": "#000000"
          },
          "showarrow": false,
          "text": "203709",
          "x": 0.55,
          "xanchor": "left",
          "xref": "x",
          "y": 2,
          "yref": "y"
         },
         {
          "align": "left",
          "font": {
           "color": "#000000"
          },
          "showarrow": false,
          "text": "296556",
          "x": 1.55,
          "xanchor": "left",
          "xref": "x",
          "y": 2,
          "yref": "y"
         },
         {
          "align": "left",
          "font": {
           "color": "#000000"
          },
          "showarrow": false,
          "text": "211642",
          "x": 2.55,
          "xanchor": "left",
          "xref": "x",
          "y": 2,
          "yref": "y"
         },
         {
          "align": "left",
          "font": {
           "color": "#000000"
          },
          "showarrow": false,
          "text": "208251",
          "x": 3.55,
          "xanchor": "left",
          "xref": "x",
          "y": 2,
          "yref": "y"
         },
         {
          "align": "left",
          "font": {
           "color": "#000000"
          },
          "showarrow": false,
          "text": "30000",
          "x": -0.45,
          "xanchor": "left",
          "xref": "x",
          "y": 3,
          "yref": "y"
         },
         {
          "align": "left",
          "font": {
           "color": "#000000"
          },
          "showarrow": false,
          "text": "309348",
          "x": 0.55,
          "xanchor": "left",
          "xref": "x",
          "y": 3,
          "yref": "y"
         },
         {
          "align": "left",
          "font": {
           "color": "#000000"
          },
          "showarrow": false,
          "text": "451536",
          "x": 1.55,
          "xanchor": "left",
          "xref": "x",
          "y": 3,
          "yref": "y"
         },
         {
          "align": "left",
          "font": {
           "color": "#000000"
          },
          "showarrow": false,
          "text": "319722",
          "x": 2.55,
          "xanchor": "left",
          "xref": "x",
          "y": 3,
          "yref": "y"
         },
         {
          "align": "left",
          "font": {
           "color": "#000000"
          },
          "showarrow": false,
          "text": "314110",
          "x": 3.55,
          "xanchor": "left",
          "xref": "x",
          "y": 3,
          "yref": "y"
         },
         {
          "align": "left",
          "font": {
           "color": "#000000"
          },
          "showarrow": false,
          "text": "40000",
          "x": -0.45,
          "xanchor": "left",
          "xref": "x",
          "y": 4,
          "yref": "y"
         },
         {
          "align": "left",
          "font": {
           "color": "#000000"
          },
          "showarrow": false,
          "text": "408313",
          "x": 0.55,
          "xanchor": "left",
          "xref": "x",
          "y": 4,
          "yref": "y"
         },
         {
          "align": "left",
          "font": {
           "color": "#000000"
          },
          "showarrow": false,
          "text": "594085",
          "x": 1.55,
          "xanchor": "left",
          "xref": "x",
          "y": 4,
          "yref": "y"
         },
         {
          "align": "left",
          "font": {
           "color": "#000000"
          },
          "showarrow": false,
          "text": "422109",
          "x": 2.55,
          "xanchor": "left",
          "xref": "x",
          "y": 4,
          "yref": "y"
         },
         {
          "align": "left",
          "font": {
           "color": "#000000"
          },
          "showarrow": false,
          "text": "413739",
          "x": 3.55,
          "xanchor": "left",
          "xref": "x",
          "y": 4,
          "yref": "y"
         },
         {
          "align": "left",
          "font": {
           "color": "#000000"
          },
          "showarrow": false,
          "text": "50000",
          "x": -0.45,
          "xanchor": "left",
          "xref": "x",
          "y": 5,
          "yref": "y"
         },
         {
          "align": "left",
          "font": {
           "color": "#000000"
          },
          "showarrow": false,
          "text": "515971",
          "x": 0.55,
          "xanchor": "left",
          "xref": "x",
          "y": 5,
          "yref": "y"
         },
         {
          "align": "left",
          "font": {
           "color": "#000000"
          },
          "showarrow": false,
          "text": "751170",
          "x": 1.55,
          "xanchor": "left",
          "xref": "x",
          "y": 5,
          "yref": "y"
         },
         {
          "align": "left",
          "font": {
           "color": "#000000"
          },
          "showarrow": false,
          "text": "532505",
          "x": 2.55,
          "xanchor": "left",
          "xref": "x",
          "y": 5,
          "yref": "y"
         },
         {
          "align": "left",
          "font": {
           "color": "#000000"
          },
          "showarrow": false,
          "text": "523567",
          "x": 3.55,
          "xanchor": "left",
          "xref": "x",
          "y": 5,
          "yref": "y"
         },
         {
          "align": "left",
          "font": {
           "color": "#000000"
          },
          "showarrow": false,
          "text": "60000",
          "x": -0.45,
          "xanchor": "left",
          "xref": "x",
          "y": 6,
          "yref": "y"
         },
         {
          "align": "left",
          "font": {
           "color": "#000000"
          },
          "showarrow": false,
          "text": "622972",
          "x": 0.55,
          "xanchor": "left",
          "xref": "x",
          "y": 6,
          "yref": "y"
         },
         {
          "align": "left",
          "font": {
           "color": "#000000"
          },
          "showarrow": false,
          "text": "907171",
          "x": 1.55,
          "xanchor": "left",
          "xref": "x",
          "y": 6,
          "yref": "y"
         },
         {
          "align": "left",
          "font": {
           "color": "#000000"
          },
          "showarrow": false,
          "text": "643077",
          "x": 2.55,
          "xanchor": "left",
          "xref": "x",
          "y": 6,
          "yref": "y"
         },
         {
          "align": "left",
          "font": {
           "color": "#000000"
          },
          "showarrow": false,
          "text": "628673",
          "x": 3.55,
          "xanchor": "left",
          "xref": "x",
          "y": 6,
          "yref": "y"
         },
         {
          "align": "left",
          "font": {
           "color": "#000000"
          },
          "showarrow": false,
          "text": "70000",
          "x": -0.45,
          "xanchor": "left",
          "xref": "x",
          "y": 7,
          "yref": "y"
         },
         {
          "align": "left",
          "font": {
           "color": "#000000"
          },
          "showarrow": false,
          "text": "720952",
          "x": 0.55,
          "xanchor": "left",
          "xref": "x",
          "y": 7,
          "yref": "y"
         },
         {
          "align": "left",
          "font": {
           "color": "#000000"
          },
          "showarrow": false,
          "text": "1053712",
          "x": 1.55,
          "xanchor": "left",
          "xref": "x",
          "y": 7,
          "yref": "y"
         },
         {
          "align": "left",
          "font": {
           "color": "#000000"
          },
          "showarrow": false,
          "text": "744218",
          "x": 2.55,
          "xanchor": "left",
          "xref": "x",
          "y": 7,
          "yref": "y"
         },
         {
          "align": "left",
          "font": {
           "color": "#000000"
          },
          "showarrow": false,
          "text": "729656",
          "x": 3.55,
          "xanchor": "left",
          "xref": "x",
          "y": 7,
          "yref": "y"
         },
         {
          "align": "left",
          "font": {
           "color": "#000000"
          },
          "showarrow": false,
          "text": "80000",
          "x": -0.45,
          "xanchor": "left",
          "xref": "x",
          "y": 8,
          "yref": "y"
         },
         {
          "align": "left",
          "font": {
           "color": "#000000"
          },
          "showarrow": false,
          "text": "831229",
          "x": 0.55,
          "xanchor": "left",
          "xref": "x",
          "y": 8,
          "yref": "y"
         },
         {
          "align": "left",
          "font": {
           "color": "#000000"
          },
          "showarrow": false,
          "text": "1210240",
          "x": 1.55,
          "xanchor": "left",
          "xref": "x",
          "y": 8,
          "yref": "y"
         },
         {
          "align": "left",
          "font": {
           "color": "#000000"
          },
          "showarrow": false,
          "text": "857196",
          "x": 2.55,
          "xanchor": "left",
          "xref": "x",
          "y": 8,
          "yref": "y"
         },
         {
          "align": "left",
          "font": {
           "color": "#000000"
          },
          "showarrow": false,
          "text": "849188",
          "x": 3.55,
          "xanchor": "left",
          "xref": "x",
          "y": 8,
          "yref": "y"
         },
         {
          "align": "left",
          "font": {
           "color": "#000000"
          },
          "showarrow": false,
          "text": "90000",
          "x": -0.45,
          "xanchor": "left",
          "xref": "x",
          "y": 9,
          "yref": "y"
         },
         {
          "align": "left",
          "font": {
           "color": "#000000"
          },
          "showarrow": false,
          "text": "932893",
          "x": 0.55,
          "xanchor": "left",
          "xref": "x",
          "y": 9,
          "yref": "y"
         },
         {
          "align": "left",
          "font": {
           "color": "#000000"
          },
          "showarrow": false,
          "text": "1355056",
          "x": 1.55,
          "xanchor": "left",
          "xref": "x",
          "y": 9,
          "yref": "y"
         },
         {
          "align": "left",
          "font": {
           "color": "#000000"
          },
          "showarrow": false,
          "text": "962343",
          "x": 2.55,
          "xanchor": "left",
          "xref": "x",
          "y": 9,
          "yref": "y"
         },
         {
          "align": "left",
          "font": {
           "color": "#000000"
          },
          "showarrow": false,
          "text": "950790",
          "x": 3.55,
          "xanchor": "left",
          "xref": "x",
          "y": 9,
          "yref": "y"
         },
         {
          "align": "left",
          "font": {
           "color": "#000000"
          },
          "showarrow": false,
          "text": "100000",
          "x": -0.45,
          "xanchor": "left",
          "xref": "x",
          "y": 10,
          "yref": "y"
         },
         {
          "align": "left",
          "font": {
           "color": "#000000"
          },
          "showarrow": false,
          "text": "1034194",
          "x": 0.55,
          "xanchor": "left",
          "xref": "x",
          "y": 10,
          "yref": "y"
         },
         {
          "align": "left",
          "font": {
           "color": "#000000"
          },
          "showarrow": false,
          "text": "1502425",
          "x": 1.55,
          "xanchor": "left",
          "xref": "x",
          "y": 10,
          "yref": "y"
         },
         {
          "align": "left",
          "font": {
           "color": "#000000"
          },
          "showarrow": false,
          "text": "1066519",
          "x": 2.55,
          "xanchor": "left",
          "xref": "x",
          "y": 10,
          "yref": "y"
         },
         {
          "align": "left",
          "font": {
           "color": "#000000"
          },
          "showarrow": false,
          "text": "1048455",
          "x": 3.55,
          "xanchor": "left",
          "xref": "x",
          "y": 10,
          "yref": "y"
         }
        ],
        "height": 380,
        "margin": {
         "b": 0,
         "l": 0,
         "r": 0,
         "t": 0
        },
        "xaxis": {
         "dtick": 1,
         "gridwidth": 2,
         "showticklabels": false,
         "tick0": -0.5,
         "ticks": "",
         "zeroline": false
        },
        "yaxis": {
         "autorange": "reversed",
         "dtick": 1,
         "gridwidth": 2,
         "showticklabels": false,
         "tick0": 0.5,
         "ticks": "",
         "zeroline": false
        }
       }
      },
      "text/html": [
       "<div id=\"3c9702f5-3873-482d-8202-2e43eb19eda0\" style=\"height: 380px; width: 100%;\" class=\"plotly-graph-div\"></div><script type=\"text/javascript\">require([\"plotly\"], function(Plotly) { window.PLOTLYENV=window.PLOTLYENV || {};window.PLOTLYENV.BASE_URL=\"https://plot.ly\";Plotly.newPlot(\"3c9702f5-3873-482d-8202-2e43eb19eda0\", [{\"colorscale\": [[0, \"#000000\"], [0.5, \"#FFFFFF\"], [1, \"#ffffff\"]], \"hoverinfo\": \"none\", \"opacity\": 0.75, \"showscale\": false, \"z\": [[0, 0, 0, 0, 0], [0.5, 0.5, 0.5, 0.5, 0.5], [1, 1, 1, 1, 1], [0.5, 0.5, 0.5, 0.5, 0.5], [1, 1, 1, 1, 1], [0.5, 0.5, 0.5, 0.5, 0.5], [1, 1, 1, 1, 1], [0.5, 0.5, 0.5, 0.5, 0.5], [1, 1, 1, 1, 1], [0.5, 0.5, 0.5, 0.5, 0.5], [1, 1, 1, 1, 1]], \"type\": \"heatmap\", \"uid\": \"3651f5dd-b054-4959-895a-c1b14985032a\"}], {\"annotations\": [{\"align\": \"left\", \"font\": {\"color\": \"#ffffff\"}, \"showarrow\": false, \"text\": \"<b>Sequence Length</b>\", \"x\": -0.45, \"xanchor\": \"left\", \"xref\": \"x\", \"y\": 0, \"yref\": \"y\"}, {\"align\": \"left\", \"font\": {\"color\": \"#ffffff\"}, \"showarrow\": false, \"text\": \"<b>OPT</b>\", \"x\": 0.55, \"xanchor\": \"left\", \"xref\": \"x\", \"y\": 0, \"yref\": \"y\"}, {\"align\": \"left\", \"font\": {\"color\": \"#ffffff\"}, \"showarrow\": false, \"text\": \"<b>MTF</b>\", \"x\": 1.55, \"xanchor\": \"left\", \"xref\": \"x\", \"y\": 0, \"yref\": \"y\"}, {\"align\": \"left\", \"font\": {\"color\": \"#ffffff\"}, \"showarrow\": false, \"text\": \"<b>Transpose</b>\", \"x\": 2.55, \"xanchor\": \"left\", \"xref\": \"x\", \"y\": 0, \"yref\": \"y\"}, {\"align\": \"left\", \"font\": {\"color\": \"#ffffff\"}, \"showarrow\": false, \"text\": \"<b>2-in-a-Row</b>\", \"x\": 3.55, \"xanchor\": \"left\", \"xref\": \"x\", \"y\": 0, \"yref\": \"y\"}, {\"align\": \"left\", \"font\": {\"color\": \"#000000\"}, \"showarrow\": false, \"text\": \"10000\", \"x\": -0.45, \"xanchor\": \"left\", \"xref\": \"x\", \"y\": 1, \"yref\": \"y\"}, {\"align\": \"left\", \"font\": {\"color\": \"#000000\"}, \"showarrow\": false, \"text\": \"100144\", \"x\": 0.55, \"xanchor\": \"left\", \"xref\": \"x\", \"y\": 1, \"yref\": \"y\"}, {\"align\": \"left\", \"font\": {\"color\": \"#000000\"}, \"showarrow\": false, \"text\": \"146997\", \"x\": 1.55, \"xanchor\": \"left\", \"xref\": \"x\", \"y\": 1, \"yref\": \"y\"}, {\"align\": \"left\", \"font\": {\"color\": \"#000000\"}, \"showarrow\": false, \"text\": \"104229\", \"x\": 2.55, \"xanchor\": \"left\", \"xref\": \"x\", \"y\": 1, \"yref\": \"y\"}, {\"align\": \"left\", \"font\": {\"color\": \"#000000\"}, \"showarrow\": false, \"text\": \"101833\", \"x\": 3.55, \"xanchor\": \"left\", \"xref\": \"x\", \"y\": 1, \"yref\": \"y\"}, {\"align\": \"left\", \"font\": {\"color\": \"#000000\"}, \"showarrow\": false, \"text\": \"20000\", \"x\": -0.45, \"xanchor\": \"left\", \"xref\": \"x\", \"y\": 2, \"yref\": \"y\"}, {\"align\": \"left\", \"font\": {\"color\": \"#000000\"}, \"showarrow\": false, \"text\": \"203709\", \"x\": 0.55, \"xanchor\": \"left\", \"xref\": \"x\", \"y\": 2, \"yref\": \"y\"}, {\"align\": \"left\", \"font\": {\"color\": \"#000000\"}, \"showarrow\": false, \"text\": \"296556\", \"x\": 1.55, \"xanchor\": \"left\", \"xref\": \"x\", \"y\": 2, \"yref\": \"y\"}, {\"align\": \"left\", \"font\": {\"color\": \"#000000\"}, \"showarrow\": false, \"text\": \"211642\", \"x\": 2.55, \"xanchor\": \"left\", \"xref\": \"x\", \"y\": 2, \"yref\": \"y\"}, {\"align\": \"left\", \"font\": {\"color\": \"#000000\"}, \"showarrow\": false, \"text\": \"208251\", \"x\": 3.55, \"xanchor\": \"left\", \"xref\": \"x\", \"y\": 2, \"yref\": \"y\"}, {\"align\": \"left\", \"font\": {\"color\": \"#000000\"}, \"showarrow\": false, \"text\": \"30000\", \"x\": -0.45, \"xanchor\": \"left\", \"xref\": \"x\", \"y\": 3, \"yref\": \"y\"}, {\"align\": \"left\", \"font\": {\"color\": \"#000000\"}, \"showarrow\": false, \"text\": \"309348\", \"x\": 0.55, \"xanchor\": \"left\", \"xref\": \"x\", \"y\": 3, \"yref\": \"y\"}, {\"align\": \"left\", \"font\": {\"color\": \"#000000\"}, \"showarrow\": false, \"text\": \"451536\", \"x\": 1.55, \"xanchor\": \"left\", \"xref\": \"x\", \"y\": 3, \"yref\": \"y\"}, {\"align\": \"left\", \"font\": {\"color\": \"#000000\"}, \"showarrow\": false, \"text\": \"319722\", \"x\": 2.55, \"xanchor\": \"left\", \"xref\": \"x\", \"y\": 3, \"yref\": \"y\"}, {\"align\": \"left\", \"font\": {\"color\": \"#000000\"}, \"showarrow\": false, \"text\": \"314110\", \"x\": 3.55, \"xanchor\": \"left\", \"xref\": \"x\", \"y\": 3, \"yref\": \"y\"}, {\"align\": \"left\", \"font\": {\"color\": \"#000000\"}, \"showarrow\": false, \"text\": \"40000\", \"x\": -0.45, \"xanchor\": \"left\", \"xref\": \"x\", \"y\": 4, \"yref\": \"y\"}, {\"align\": \"left\", \"font\": {\"color\": \"#000000\"}, \"showarrow\": false, \"text\": \"408313\", \"x\": 0.55, \"xanchor\": \"left\", \"xref\": \"x\", \"y\": 4, \"yref\": \"y\"}, {\"align\": \"left\", \"font\": {\"color\": \"#000000\"}, \"showarrow\": false, \"text\": \"594085\", \"x\": 1.55, \"xanchor\": \"left\", \"xref\": \"x\", \"y\": 4, \"yref\": \"y\"}, {\"align\": \"left\", \"font\": {\"color\": \"#000000\"}, \"showarrow\": false, \"text\": \"422109\", \"x\": 2.55, \"xanchor\": \"left\", \"xref\": \"x\", \"y\": 4, \"yref\": \"y\"}, {\"align\": \"left\", \"font\": {\"color\": \"#000000\"}, \"showarrow\": false, \"text\": \"413739\", \"x\": 3.55, \"xanchor\": \"left\", \"xref\": \"x\", \"y\": 4, \"yref\": \"y\"}, {\"align\": \"left\", \"font\": {\"color\": \"#000000\"}, \"showarrow\": false, \"text\": \"50000\", \"x\": -0.45, \"xanchor\": \"left\", \"xref\": \"x\", \"y\": 5, \"yref\": \"y\"}, {\"align\": \"left\", \"font\": {\"color\": \"#000000\"}, \"showarrow\": false, \"text\": \"515971\", \"x\": 0.55, \"xanchor\": \"left\", \"xref\": \"x\", \"y\": 5, \"yref\": \"y\"}, {\"align\": \"left\", \"font\": {\"color\": \"#000000\"}, \"showarrow\": false, \"text\": \"751170\", \"x\": 1.55, \"xanchor\": \"left\", \"xref\": \"x\", \"y\": 5, \"yref\": \"y\"}, {\"align\": \"left\", \"font\": {\"color\": \"#000000\"}, \"showarrow\": false, \"text\": \"532505\", \"x\": 2.55, \"xanchor\": \"left\", \"xref\": \"x\", \"y\": 5, \"yref\": \"y\"}, {\"align\": \"left\", \"font\": {\"color\": \"#000000\"}, \"showarrow\": false, \"text\": \"523567\", \"x\": 3.55, \"xanchor\": \"left\", \"xref\": \"x\", \"y\": 5, \"yref\": \"y\"}, {\"align\": \"left\", \"font\": {\"color\": \"#000000\"}, \"showarrow\": false, \"text\": \"60000\", \"x\": -0.45, \"xanchor\": \"left\", \"xref\": \"x\", \"y\": 6, \"yref\": \"y\"}, {\"align\": \"left\", \"font\": {\"color\": \"#000000\"}, \"showarrow\": false, \"text\": \"622972\", \"x\": 0.55, \"xanchor\": \"left\", \"xref\": \"x\", \"y\": 6, \"yref\": \"y\"}, {\"align\": \"left\", \"font\": {\"color\": \"#000000\"}, \"showarrow\": false, \"text\": \"907171\", \"x\": 1.55, \"xanchor\": \"left\", \"xref\": \"x\", \"y\": 6, \"yref\": \"y\"}, {\"align\": \"left\", \"font\": {\"color\": \"#000000\"}, \"showarrow\": false, \"text\": \"643077\", \"x\": 2.55, \"xanchor\": \"left\", \"xref\": \"x\", \"y\": 6, \"yref\": \"y\"}, {\"align\": \"left\", \"font\": {\"color\": \"#000000\"}, \"showarrow\": false, \"text\": \"628673\", \"x\": 3.55, \"xanchor\": \"left\", \"xref\": \"x\", \"y\": 6, \"yref\": \"y\"}, {\"align\": \"left\", \"font\": {\"color\": \"#000000\"}, \"showarrow\": false, \"text\": \"70000\", \"x\": -0.45, \"xanchor\": \"left\", \"xref\": \"x\", \"y\": 7, \"yref\": \"y\"}, {\"align\": \"left\", \"font\": {\"color\": \"#000000\"}, \"showarrow\": false, \"text\": \"720952\", \"x\": 0.55, \"xanchor\": \"left\", \"xref\": \"x\", \"y\": 7, \"yref\": \"y\"}, {\"align\": \"left\", \"font\": {\"color\": \"#000000\"}, \"showarrow\": false, \"text\": \"1053712\", \"x\": 1.55, \"xanchor\": \"left\", \"xref\": \"x\", \"y\": 7, \"yref\": \"y\"}, {\"align\": \"left\", \"font\": {\"color\": \"#000000\"}, \"showarrow\": false, \"text\": \"744218\", \"x\": 2.55, \"xanchor\": \"left\", \"xref\": \"x\", \"y\": 7, \"yref\": \"y\"}, {\"align\": \"left\", \"font\": {\"color\": \"#000000\"}, \"showarrow\": false, \"text\": \"729656\", \"x\": 3.55, \"xanchor\": \"left\", \"xref\": \"x\", \"y\": 7, \"yref\": \"y\"}, {\"align\": \"left\", \"font\": {\"color\": \"#000000\"}, \"showarrow\": false, \"text\": \"80000\", \"x\": -0.45, \"xanchor\": \"left\", \"xref\": \"x\", \"y\": 8, \"yref\": \"y\"}, {\"align\": \"left\", \"font\": {\"color\": \"#000000\"}, \"showarrow\": false, \"text\": \"831229\", \"x\": 0.55, \"xanchor\": \"left\", \"xref\": \"x\", \"y\": 8, \"yref\": \"y\"}, {\"align\": \"left\", \"font\": {\"color\": \"#000000\"}, \"showarrow\": false, \"text\": \"1210240\", \"x\": 1.55, \"xanchor\": \"left\", \"xref\": \"x\", \"y\": 8, \"yref\": \"y\"}, {\"align\": \"left\", \"font\": {\"color\": \"#000000\"}, \"showarrow\": false, \"text\": \"857196\", \"x\": 2.55, \"xanchor\": \"left\", \"xref\": \"x\", \"y\": 8, \"yref\": \"y\"}, {\"align\": \"left\", \"font\": {\"color\": \"#000000\"}, \"showarrow\": false, \"text\": \"849188\", \"x\": 3.55, \"xanchor\": \"left\", \"xref\": \"x\", \"y\": 8, \"yref\": \"y\"}, {\"align\": \"left\", \"font\": {\"color\": \"#000000\"}, \"showarrow\": false, \"text\": \"90000\", \"x\": -0.45, \"xanchor\": \"left\", \"xref\": \"x\", \"y\": 9, \"yref\": \"y\"}, {\"align\": \"left\", \"font\": {\"color\": \"#000000\"}, \"showarrow\": false, \"text\": \"932893\", \"x\": 0.55, \"xanchor\": \"left\", \"xref\": \"x\", \"y\": 9, \"yref\": \"y\"}, {\"align\": \"left\", \"font\": {\"color\": \"#000000\"}, \"showarrow\": false, \"text\": \"1355056\", \"x\": 1.55, \"xanchor\": \"left\", \"xref\": \"x\", \"y\": 9, \"yref\": \"y\"}, {\"align\": \"left\", \"font\": {\"color\": \"#000000\"}, \"showarrow\": false, \"text\": \"962343\", \"x\": 2.55, \"xanchor\": \"left\", \"xref\": \"x\", \"y\": 9, \"yref\": \"y\"}, {\"align\": \"left\", \"font\": {\"color\": \"#000000\"}, \"showarrow\": false, \"text\": \"950790\", \"x\": 3.55, \"xanchor\": \"left\", \"xref\": \"x\", \"y\": 9, \"yref\": \"y\"}, {\"align\": \"left\", \"font\": {\"color\": \"#000000\"}, \"showarrow\": false, \"text\": \"100000\", \"x\": -0.45, \"xanchor\": \"left\", \"xref\": \"x\", \"y\": 10, \"yref\": \"y\"}, {\"align\": \"left\", \"font\": {\"color\": \"#000000\"}, \"showarrow\": false, \"text\": \"1034194\", \"x\": 0.55, \"xanchor\": \"left\", \"xref\": \"x\", \"y\": 10, \"yref\": \"y\"}, {\"align\": \"left\", \"font\": {\"color\": \"#000000\"}, \"showarrow\": false, \"text\": \"1502425\", \"x\": 1.55, \"xanchor\": \"left\", \"xref\": \"x\", \"y\": 10, \"yref\": \"y\"}, {\"align\": \"left\", \"font\": {\"color\": \"#000000\"}, \"showarrow\": false, \"text\": \"1066519\", \"x\": 2.55, \"xanchor\": \"left\", \"xref\": \"x\", \"y\": 10, \"yref\": \"y\"}, {\"align\": \"left\", \"font\": {\"color\": \"#000000\"}, \"showarrow\": false, \"text\": \"1048455\", \"x\": 3.55, \"xanchor\": \"left\", \"xref\": \"x\", \"y\": 10, \"yref\": \"y\"}], \"height\": 380, \"margin\": {\"b\": 0, \"l\": 0, \"r\": 0, \"t\": 0}, \"xaxis\": {\"dtick\": 1, \"gridwidth\": 2, \"showticklabels\": false, \"tick0\": -0.5, \"ticks\": \"\", \"zeroline\": false}, \"yaxis\": {\"autorange\": \"reversed\", \"dtick\": 1, \"gridwidth\": 2, \"showticklabels\": false, \"tick0\": 0.5, \"ticks\": \"\", \"zeroline\": false}}, {\"showLink\": true, \"linkText\": \"Export to plot.ly\", \"plotlyServerURL\": \"https://plot.ly\"})});</script><script type=\"text/javascript\">window.addEventListener(\"resize\", function(){window._Plotly.Plots.resize(document.getElementById(\"3c9702f5-3873-482d-8202-2e43eb19eda0\"));});</script>"
      ],
      "text/vnd.plotly.v1+html": [
       "<div id=\"3c9702f5-3873-482d-8202-2e43eb19eda0\" style=\"height: 380px; width: 100%;\" class=\"plotly-graph-div\"></div><script type=\"text/javascript\">require([\"plotly\"], function(Plotly) { window.PLOTLYENV=window.PLOTLYENV || {};window.PLOTLYENV.BASE_URL=\"https://plot.ly\";Plotly.newPlot(\"3c9702f5-3873-482d-8202-2e43eb19eda0\", [{\"colorscale\": [[0, \"#000000\"], [0.5, \"#FFFFFF\"], [1, \"#ffffff\"]], \"hoverinfo\": \"none\", \"opacity\": 0.75, \"showscale\": false, \"z\": [[0, 0, 0, 0, 0], [0.5, 0.5, 0.5, 0.5, 0.5], [1, 1, 1, 1, 1], [0.5, 0.5, 0.5, 0.5, 0.5], [1, 1, 1, 1, 1], [0.5, 0.5, 0.5, 0.5, 0.5], [1, 1, 1, 1, 1], [0.5, 0.5, 0.5, 0.5, 0.5], [1, 1, 1, 1, 1], [0.5, 0.5, 0.5, 0.5, 0.5], [1, 1, 1, 1, 1]], \"type\": \"heatmap\", \"uid\": \"3651f5dd-b054-4959-895a-c1b14985032a\"}], {\"annotations\": [{\"align\": \"left\", \"font\": {\"color\": \"#ffffff\"}, \"showarrow\": false, \"text\": \"<b>Sequence Length</b>\", \"x\": -0.45, \"xanchor\": \"left\", \"xref\": \"x\", \"y\": 0, \"yref\": \"y\"}, {\"align\": \"left\", \"font\": {\"color\": \"#ffffff\"}, \"showarrow\": false, \"text\": \"<b>OPT</b>\", \"x\": 0.55, \"xanchor\": \"left\", \"xref\": \"x\", \"y\": 0, \"yref\": \"y\"}, {\"align\": \"left\", \"font\": {\"color\": \"#ffffff\"}, \"showarrow\": false, \"text\": \"<b>MTF</b>\", \"x\": 1.55, \"xanchor\": \"left\", \"xref\": \"x\", \"y\": 0, \"yref\": \"y\"}, {\"align\": \"left\", \"font\": {\"color\": \"#ffffff\"}, \"showarrow\": false, \"text\": \"<b>Transpose</b>\", \"x\": 2.55, \"xanchor\": \"left\", \"xref\": \"x\", \"y\": 0, \"yref\": \"y\"}, {\"align\": \"left\", \"font\": {\"color\": \"#ffffff\"}, \"showarrow\": false, \"text\": \"<b>2-in-a-Row</b>\", \"x\": 3.55, \"xanchor\": \"left\", \"xref\": \"x\", \"y\": 0, \"yref\": \"y\"}, {\"align\": \"left\", \"font\": {\"color\": \"#000000\"}, \"showarrow\": false, \"text\": \"10000\", \"x\": -0.45, \"xanchor\": \"left\", \"xref\": \"x\", \"y\": 1, \"yref\": \"y\"}, {\"align\": \"left\", \"font\": {\"color\": \"#000000\"}, \"showarrow\": false, \"text\": \"100144\", \"x\": 0.55, \"xanchor\": \"left\", \"xref\": \"x\", \"y\": 1, \"yref\": \"y\"}, {\"align\": \"left\", \"font\": {\"color\": \"#000000\"}, \"showarrow\": false, \"text\": \"146997\", \"x\": 1.55, \"xanchor\": \"left\", \"xref\": \"x\", \"y\": 1, \"yref\": \"y\"}, {\"align\": \"left\", \"font\": {\"color\": \"#000000\"}, \"showarrow\": false, \"text\": \"104229\", \"x\": 2.55, \"xanchor\": \"left\", \"xref\": \"x\", \"y\": 1, \"yref\": \"y\"}, {\"align\": \"left\", \"font\": {\"color\": \"#000000\"}, \"showarrow\": false, \"text\": \"101833\", \"x\": 3.55, \"xanchor\": \"left\", \"xref\": \"x\", \"y\": 1, \"yref\": \"y\"}, {\"align\": \"left\", \"font\": {\"color\": \"#000000\"}, \"showarrow\": false, \"text\": \"20000\", \"x\": -0.45, \"xanchor\": \"left\", \"xref\": \"x\", \"y\": 2, \"yref\": \"y\"}, {\"align\": \"left\", \"font\": {\"color\": \"#000000\"}, \"showarrow\": false, \"text\": \"203709\", \"x\": 0.55, \"xanchor\": \"left\", \"xref\": \"x\", \"y\": 2, \"yref\": \"y\"}, {\"align\": \"left\", \"font\": {\"color\": \"#000000\"}, \"showarrow\": false, \"text\": \"296556\", \"x\": 1.55, \"xanchor\": \"left\", \"xref\": \"x\", \"y\": 2, \"yref\": \"y\"}, {\"align\": \"left\", \"font\": {\"color\": \"#000000\"}, \"showarrow\": false, \"text\": \"211642\", \"x\": 2.55, \"xanchor\": \"left\", \"xref\": \"x\", \"y\": 2, \"yref\": \"y\"}, {\"align\": \"left\", \"font\": {\"color\": \"#000000\"}, \"showarrow\": false, \"text\": \"208251\", \"x\": 3.55, \"xanchor\": \"left\", \"xref\": \"x\", \"y\": 2, \"yref\": \"y\"}, {\"align\": \"left\", \"font\": {\"color\": \"#000000\"}, \"showarrow\": false, \"text\": \"30000\", \"x\": -0.45, \"xanchor\": \"left\", \"xref\": \"x\", \"y\": 3, \"yref\": \"y\"}, {\"align\": \"left\", \"font\": {\"color\": \"#000000\"}, \"showarrow\": false, \"text\": \"309348\", \"x\": 0.55, \"xanchor\": \"left\", \"xref\": \"x\", \"y\": 3, \"yref\": \"y\"}, {\"align\": \"left\", \"font\": {\"color\": \"#000000\"}, \"showarrow\": false, \"text\": \"451536\", \"x\": 1.55, \"xanchor\": \"left\", \"xref\": \"x\", \"y\": 3, \"yref\": \"y\"}, {\"align\": \"left\", \"font\": {\"color\": \"#000000\"}, \"showarrow\": false, \"text\": \"319722\", \"x\": 2.55, \"xanchor\": \"left\", \"xref\": \"x\", \"y\": 3, \"yref\": \"y\"}, {\"align\": \"left\", \"font\": {\"color\": \"#000000\"}, \"showarrow\": false, \"text\": \"314110\", \"x\": 3.55, \"xanchor\": \"left\", \"xref\": \"x\", \"y\": 3, \"yref\": \"y\"}, {\"align\": \"left\", \"font\": {\"color\": \"#000000\"}, \"showarrow\": false, \"text\": \"40000\", \"x\": -0.45, \"xanchor\": \"left\", \"xref\": \"x\", \"y\": 4, \"yref\": \"y\"}, {\"align\": \"left\", \"font\": {\"color\": \"#000000\"}, \"showarrow\": false, \"text\": \"408313\", \"x\": 0.55, \"xanchor\": \"left\", \"xref\": \"x\", \"y\": 4, \"yref\": \"y\"}, {\"align\": \"left\", \"font\": {\"color\": \"#000000\"}, \"showarrow\": false, \"text\": \"594085\", \"x\": 1.55, \"xanchor\": \"left\", \"xref\": \"x\", \"y\": 4, \"yref\": \"y\"}, {\"align\": \"left\", \"font\": {\"color\": \"#000000\"}, \"showarrow\": false, \"text\": \"422109\", \"x\": 2.55, \"xanchor\": \"left\", \"xref\": \"x\", \"y\": 4, \"yref\": \"y\"}, {\"align\": \"left\", \"font\": {\"color\": \"#000000\"}, \"showarrow\": false, \"text\": \"413739\", \"x\": 3.55, \"xanchor\": \"left\", \"xref\": \"x\", \"y\": 4, \"yref\": \"y\"}, {\"align\": \"left\", \"font\": {\"color\": \"#000000\"}, \"showarrow\": false, \"text\": \"50000\", \"x\": -0.45, \"xanchor\": \"left\", \"xref\": \"x\", \"y\": 5, \"yref\": \"y\"}, {\"align\": \"left\", \"font\": {\"color\": \"#000000\"}, \"showarrow\": false, \"text\": \"515971\", \"x\": 0.55, \"xanchor\": \"left\", \"xref\": \"x\", \"y\": 5, \"yref\": \"y\"}, {\"align\": \"left\", \"font\": {\"color\": \"#000000\"}, \"showarrow\": false, \"text\": \"751170\", \"x\": 1.55, \"xanchor\": \"left\", \"xref\": \"x\", \"y\": 5, \"yref\": \"y\"}, {\"align\": \"left\", \"font\": {\"color\": \"#000000\"}, \"showarrow\": false, \"text\": \"532505\", \"x\": 2.55, \"xanchor\": \"left\", \"xref\": \"x\", \"y\": 5, \"yref\": \"y\"}, {\"align\": \"left\", \"font\": {\"color\": \"#000000\"}, \"showarrow\": false, \"text\": \"523567\", \"x\": 3.55, \"xanchor\": \"left\", \"xref\": \"x\", \"y\": 5, \"yref\": \"y\"}, {\"align\": \"left\", \"font\": {\"color\": \"#000000\"}, \"showarrow\": false, \"text\": \"60000\", \"x\": -0.45, \"xanchor\": \"left\", \"xref\": \"x\", \"y\": 6, \"yref\": \"y\"}, {\"align\": \"left\", \"font\": {\"color\": \"#000000\"}, \"showarrow\": false, \"text\": \"622972\", \"x\": 0.55, \"xanchor\": \"left\", \"xref\": \"x\", \"y\": 6, \"yref\": \"y\"}, {\"align\": \"left\", \"font\": {\"color\": \"#000000\"}, \"showarrow\": false, \"text\": \"907171\", \"x\": 1.55, \"xanchor\": \"left\", \"xref\": \"x\", \"y\": 6, \"yref\": \"y\"}, {\"align\": \"left\", \"font\": {\"color\": \"#000000\"}, \"showarrow\": false, \"text\": \"643077\", \"x\": 2.55, \"xanchor\": \"left\", \"xref\": \"x\", \"y\": 6, \"yref\": \"y\"}, {\"align\": \"left\", \"font\": {\"color\": \"#000000\"}, \"showarrow\": false, \"text\": \"628673\", \"x\": 3.55, \"xanchor\": \"left\", \"xref\": \"x\", \"y\": 6, \"yref\": \"y\"}, {\"align\": \"left\", \"font\": {\"color\": \"#000000\"}, \"showarrow\": false, \"text\": \"70000\", \"x\": -0.45, \"xanchor\": \"left\", \"xref\": \"x\", \"y\": 7, \"yref\": \"y\"}, {\"align\": \"left\", \"font\": {\"color\": \"#000000\"}, \"showarrow\": false, \"text\": \"720952\", \"x\": 0.55, \"xanchor\": \"left\", \"xref\": \"x\", \"y\": 7, \"yref\": \"y\"}, {\"align\": \"left\", \"font\": {\"color\": \"#000000\"}, \"showarrow\": false, \"text\": \"1053712\", \"x\": 1.55, \"xanchor\": \"left\", \"xref\": \"x\", \"y\": 7, \"yref\": \"y\"}, {\"align\": \"left\", \"font\": {\"color\": \"#000000\"}, \"showarrow\": false, \"text\": \"744218\", \"x\": 2.55, \"xanchor\": \"left\", \"xref\": \"x\", \"y\": 7, \"yref\": \"y\"}, {\"align\": \"left\", \"font\": {\"color\": \"#000000\"}, \"showarrow\": false, \"text\": \"729656\", \"x\": 3.55, \"xanchor\": \"left\", \"xref\": \"x\", \"y\": 7, \"yref\": \"y\"}, {\"align\": \"left\", \"font\": {\"color\": \"#000000\"}, \"showarrow\": false, \"text\": \"80000\", \"x\": -0.45, \"xanchor\": \"left\", \"xref\": \"x\", \"y\": 8, \"yref\": \"y\"}, {\"align\": \"left\", \"font\": {\"color\": \"#000000\"}, \"showarrow\": false, \"text\": \"831229\", \"x\": 0.55, \"xanchor\": \"left\", \"xref\": \"x\", \"y\": 8, \"yref\": \"y\"}, {\"align\": \"left\", \"font\": {\"color\": \"#000000\"}, \"showarrow\": false, \"text\": \"1210240\", \"x\": 1.55, \"xanchor\": \"left\", \"xref\": \"x\", \"y\": 8, \"yref\": \"y\"}, {\"align\": \"left\", \"font\": {\"color\": \"#000000\"}, \"showarrow\": false, \"text\": \"857196\", \"x\": 2.55, \"xanchor\": \"left\", \"xref\": \"x\", \"y\": 8, \"yref\": \"y\"}, {\"align\": \"left\", \"font\": {\"color\": \"#000000\"}, \"showarrow\": false, \"text\": \"849188\", \"x\": 3.55, \"xanchor\": \"left\", \"xref\": \"x\", \"y\": 8, \"yref\": \"y\"}, {\"align\": \"left\", \"font\": {\"color\": \"#000000\"}, \"showarrow\": false, \"text\": \"90000\", \"x\": -0.45, \"xanchor\": \"left\", \"xref\": \"x\", \"y\": 9, \"yref\": \"y\"}, {\"align\": \"left\", \"font\": {\"color\": \"#000000\"}, \"showarrow\": false, \"text\": \"932893\", \"x\": 0.55, \"xanchor\": \"left\", \"xref\": \"x\", \"y\": 9, \"yref\": \"y\"}, {\"align\": \"left\", \"font\": {\"color\": \"#000000\"}, \"showarrow\": false, \"text\": \"1355056\", \"x\": 1.55, \"xanchor\": \"left\", \"xref\": \"x\", \"y\": 9, \"yref\": \"y\"}, {\"align\": \"left\", \"font\": {\"color\": \"#000000\"}, \"showarrow\": false, \"text\": \"962343\", \"x\": 2.55, \"xanchor\": \"left\", \"xref\": \"x\", \"y\": 9, \"yref\": \"y\"}, {\"align\": \"left\", \"font\": {\"color\": \"#000000\"}, \"showarrow\": false, \"text\": \"950790\", \"x\": 3.55, \"xanchor\": \"left\", \"xref\": \"x\", \"y\": 9, \"yref\": \"y\"}, {\"align\": \"left\", \"font\": {\"color\": \"#000000\"}, \"showarrow\": false, \"text\": \"100000\", \"x\": -0.45, \"xanchor\": \"left\", \"xref\": \"x\", \"y\": 10, \"yref\": \"y\"}, {\"align\": \"left\", \"font\": {\"color\": \"#000000\"}, \"showarrow\": false, \"text\": \"1034194\", \"x\": 0.55, \"xanchor\": \"left\", \"xref\": \"x\", \"y\": 10, \"yref\": \"y\"}, {\"align\": \"left\", \"font\": {\"color\": \"#000000\"}, \"showarrow\": false, \"text\": \"1502425\", \"x\": 1.55, \"xanchor\": \"left\", \"xref\": \"x\", \"y\": 10, \"yref\": \"y\"}, {\"align\": \"left\", \"font\": {\"color\": \"#000000\"}, \"showarrow\": false, \"text\": \"1066519\", \"x\": 2.55, \"xanchor\": \"left\", \"xref\": \"x\", \"y\": 10, \"yref\": \"y\"}, {\"align\": \"left\", \"font\": {\"color\": \"#000000\"}, \"showarrow\": false, \"text\": \"1048455\", \"x\": 3.55, \"xanchor\": \"left\", \"xref\": \"x\", \"y\": 10, \"yref\": \"y\"}], \"height\": 380, \"margin\": {\"b\": 0, \"l\": 0, \"r\": 0, \"t\": 0}, \"xaxis\": {\"dtick\": 1, \"gridwidth\": 2, \"showticklabels\": false, \"tick0\": -0.5, \"ticks\": \"\", \"zeroline\": false}, \"yaxis\": {\"autorange\": \"reversed\", \"dtick\": 1, \"gridwidth\": 2, \"showticklabels\": false, \"tick0\": 0.5, \"ticks\": \"\", \"zeroline\": false}}, {\"showLink\": true, \"linkText\": \"Export to plot.ly\", \"plotlyServerURL\": \"https://plot.ly\"})});</script><script type=\"text/javascript\">window.addEventListener(\"resize\", function(){window._Plotly.Plots.resize(document.getElementById(\"3c9702f5-3873-482d-8202-2e43eb19eda0\"));});</script>"
      ]
     },
     "metadata": {},
     "output_type": "display_data"
    }
   ],
   "source": [
    "df = pd.read_csv('list/staticZipfianListAccessCost.csv')\n",
    "\n",
    "trace1 = go.Scatter(\n",
    "                    x=df['Sequence Length'], y=df['Access Costs'], # Data\n",
    "                    mode='lines', name='OPT',\n",
    "                    line = dict(color = ('rgb(37, 120, 178)'))\n",
    "                   )\n",
    "\n",
    "df = pd.read_csv('list/mtfZipfianListAccessCost.csv')\n",
    "\n",
    "trace2 = go.Scatter(\n",
    "                    x=df['Sequence Length'], y=df['Access Costs'], # Data\n",
    "                    mode='lines', name='MTF',\n",
    "                    line = dict(color = ('rgb(253, 127, 40)'))\n",
    "                   )\n",
    "\n",
    "df = pd.read_csv('list/transposeZipfianListAccessCost.csv')\n",
    "\n",
    "trace3 = go.Scatter(\n",
    "                    x=df['Sequence Length'], y=df['Access Costs'], # Data\n",
    "                    mode='lines', name='Transpose',\n",
    "                    line = dict(color = ('rgb(50, 158, 52)'))\n",
    "                   )\n",
    "\n",
    "df = pd.read_csv('list/kInARowZipfianListAccessCost.csv')\n",
    "\n",
    "trace4 = go.Scatter(\n",
    "                    x=df['Sequence Length'], y=df['Access Costs'], # Data\n",
    "                    mode='lines', name='2-in-a-row',\n",
    "                    line = dict(color = ('rgb(211, 41, 47)'))\n",
    "                   )\n",
    "\n",
    "\n",
    "\n",
    "layout = go.Layout(title='List Access Cost: Zipfian',\n",
    "                   plot_bgcolor='rgb(255, 255,255)',\n",
    "                   xaxis=dict(title='Sequence Length'),\n",
    "                   yaxis=dict(title='Access Cost'))\n",
    "\n",
    "fig = go.Figure(data=[trace1, trace2, trace3, trace4], layout=layout)\n",
    "\n",
    "# Plot data in the notebook\n",
    "iplot(fig)\n",
    "\n",
    "\n",
    "df = pd.read_csv('table/ZipfianList.csv')\n",
    "colorscale = [[0, '#000000'],[.5, '#FFFFFF'],[1, '#ffffff']]\n",
    "table = ff.create_table(df, colorscale=colorscale)\n",
    "iplot(table)"
   ]
  },
  {
   "cell_type": "code",
   "execution_count": null,
   "metadata": {},
   "outputs": [
    {
     "data": {
      "application/vnd.plotly.v1+json": {
       "config": {
        "linkText": "Export to plot.ly",
        "plotlyServerURL": "https://plot.ly",
        "showLink": true
       },
       "data": [
        {
         "line": {
          "color": "rgb(37, 120, 178)"
         },
         "mode": "lines",
         "name": "OPT",
         "type": "scatter",
         "uid": "13b6081c-8730-49c8-ac18-ba71a2ccb6b9",
         "x": [
          10000,
          20000,
          30000,
          40000,
          50000,
          60000,
          70000,
          80000,
          90000,
          100000
         ],
         "y": [
          25252,
          51310,
          77795,
          103814,
          130330,
          155343,
          180386,
          207634,
          232277,
          258986
         ]
        },
        {
         "line": {
          "color": "rgb(253, 127, 40)"
         },
         "mode": "lines",
         "name": "Splay",
         "type": "scatter",
         "uid": "5fd275af-49ee-423e-ab86-69d4cb3b3e10",
         "x": [
          10000,
          20000,
          30000,
          40000,
          50000,
          60000,
          70000,
          80000,
          90000,
          100000
         ],
         "y": [
          35142,
          70318,
          106579,
          141207,
          177300,
          213466,
          248907,
          284447,
          319773,
          354792
         ]
        },
        {
         "line": {
          "color": "rgb(50, 158, 52)"
         },
         "mode": "lines",
         "name": "Transpose",
         "type": "scatter",
         "uid": "84d6768c-5d00-4e70-aaf4-2404771f64b9",
         "x": [
          10000,
          20000,
          30000,
          40000,
          50000,
          60000,
          70000,
          80000,
          90000,
          100000
         ],
         "y": [
          28555,
          57333,
          87961,
          115822,
          146304,
          173763,
          204267,
          233515,
          261897,
          290606
         ]
        },
        {
         "line": {
          "color": "rgb(211, 41, 47)"
         },
         "mode": "lines",
         "name": "2-in-a-row",
         "type": "scatter",
         "uid": "0541d6c0-6f1d-4e34-90bb-9dab08e0bb5b",
         "x": [
          10000,
          20000,
          30000,
          40000,
          50000,
          60000,
          70000,
          80000,
          90000,
          100000
         ],
         "y": [
          25585,
          50097,
          74970,
          101425,
          129008,
          146388,
          181055,
          209629,
          242020,
          256117
         ]
        }
       ],
       "layout": {
        "plot_bgcolor": "rgb(255, 255,255)",
        "title": "Trees Access Cost: Zipfian",
        "xaxis": {
         "title": "Sequence Length"
        },
        "yaxis": {
         "title": "Access Cost"
        }
       }
      },
      "text/html": [
       "<div id=\"153d6185-6aad-45ac-9fe2-bd1502eadae6\" style=\"height: 525px; width: 100%;\" class=\"plotly-graph-div\"></div><script type=\"text/javascript\">require([\"plotly\"], function(Plotly) { window.PLOTLYENV=window.PLOTLYENV || {};window.PLOTLYENV.BASE_URL=\"https://plot.ly\";Plotly.newPlot(\"153d6185-6aad-45ac-9fe2-bd1502eadae6\", [{\"line\": {\"color\": \"rgb(37, 120, 178)\"}, \"mode\": \"lines\", \"name\": \"OPT\", \"x\": [10000, 20000, 30000, 40000, 50000, 60000, 70000, 80000, 90000, 100000], \"y\": [25252, 51310, 77795, 103814, 130330, 155343, 180386, 207634, 232277, 258986], \"type\": \"scatter\", \"uid\": \"13b6081c-8730-49c8-ac18-ba71a2ccb6b9\"}, {\"line\": {\"color\": \"rgb(253, 127, 40)\"}, \"mode\": \"lines\", \"name\": \"Splay\", \"x\": [10000, 20000, 30000, 40000, 50000, 60000, 70000, 80000, 90000, 100000], \"y\": [35142, 70318, 106579, 141207, 177300, 213466, 248907, 284447, 319773, 354792], \"type\": \"scatter\", \"uid\": \"5fd275af-49ee-423e-ab86-69d4cb3b3e10\"}, {\"line\": {\"color\": \"rgb(50, 158, 52)\"}, \"mode\": \"lines\", \"name\": \"Transpose\", \"x\": [10000, 20000, 30000, 40000, 50000, 60000, 70000, 80000, 90000, 100000], \"y\": [28555, 57333, 87961, 115822, 146304, 173763, 204267, 233515, 261897, 290606], \"type\": \"scatter\", \"uid\": \"84d6768c-5d00-4e70-aaf4-2404771f64b9\"}, {\"line\": {\"color\": \"rgb(211, 41, 47)\"}, \"mode\": \"lines\", \"name\": \"2-in-a-row\", \"x\": [10000, 20000, 30000, 40000, 50000, 60000, 70000, 80000, 90000, 100000], \"y\": [25585, 50097, 74970, 101425, 129008, 146388, 181055, 209629, 242020, 256117], \"type\": \"scatter\", \"uid\": \"0541d6c0-6f1d-4e34-90bb-9dab08e0bb5b\"}], {\"plot_bgcolor\": \"rgb(255, 255,255)\", \"title\": \"Trees Access Cost: Zipfian\", \"xaxis\": {\"title\": \"Sequence Length\"}, \"yaxis\": {\"title\": \"Access Cost\"}}, {\"showLink\": true, \"linkText\": \"Export to plot.ly\", \"plotlyServerURL\": \"https://plot.ly\"})});</script><script type=\"text/javascript\">window.addEventListener(\"resize\", function(){window._Plotly.Plots.resize(document.getElementById(\"153d6185-6aad-45ac-9fe2-bd1502eadae6\"));});</script>"
      ],
      "text/vnd.plotly.v1+html": [
       "<div id=\"153d6185-6aad-45ac-9fe2-bd1502eadae6\" style=\"height: 525px; width: 100%;\" class=\"plotly-graph-div\"></div><script type=\"text/javascript\">require([\"plotly\"], function(Plotly) { window.PLOTLYENV=window.PLOTLYENV || {};window.PLOTLYENV.BASE_URL=\"https://plot.ly\";Plotly.newPlot(\"153d6185-6aad-45ac-9fe2-bd1502eadae6\", [{\"line\": {\"color\": \"rgb(37, 120, 178)\"}, \"mode\": \"lines\", \"name\": \"OPT\", \"x\": [10000, 20000, 30000, 40000, 50000, 60000, 70000, 80000, 90000, 100000], \"y\": [25252, 51310, 77795, 103814, 130330, 155343, 180386, 207634, 232277, 258986], \"type\": \"scatter\", \"uid\": \"13b6081c-8730-49c8-ac18-ba71a2ccb6b9\"}, {\"line\": {\"color\": \"rgb(253, 127, 40)\"}, \"mode\": \"lines\", \"name\": \"Splay\", \"x\": [10000, 20000, 30000, 40000, 50000, 60000, 70000, 80000, 90000, 100000], \"y\": [35142, 70318, 106579, 141207, 177300, 213466, 248907, 284447, 319773, 354792], \"type\": \"scatter\", \"uid\": \"5fd275af-49ee-423e-ab86-69d4cb3b3e10\"}, {\"line\": {\"color\": \"rgb(50, 158, 52)\"}, \"mode\": \"lines\", \"name\": \"Transpose\", \"x\": [10000, 20000, 30000, 40000, 50000, 60000, 70000, 80000, 90000, 100000], \"y\": [28555, 57333, 87961, 115822, 146304, 173763, 204267, 233515, 261897, 290606], \"type\": \"scatter\", \"uid\": \"84d6768c-5d00-4e70-aaf4-2404771f64b9\"}, {\"line\": {\"color\": \"rgb(211, 41, 47)\"}, \"mode\": \"lines\", \"name\": \"2-in-a-row\", \"x\": [10000, 20000, 30000, 40000, 50000, 60000, 70000, 80000, 90000, 100000], \"y\": [25585, 50097, 74970, 101425, 129008, 146388, 181055, 209629, 242020, 256117], \"type\": \"scatter\", \"uid\": \"0541d6c0-6f1d-4e34-90bb-9dab08e0bb5b\"}], {\"plot_bgcolor\": \"rgb(255, 255,255)\", \"title\": \"Trees Access Cost: Zipfian\", \"xaxis\": {\"title\": \"Sequence Length\"}, \"yaxis\": {\"title\": \"Access Cost\"}}, {\"showLink\": true, \"linkText\": \"Export to plot.ly\", \"plotlyServerURL\": \"https://plot.ly\"})});</script><script type=\"text/javascript\">window.addEventListener(\"resize\", function(){window._Plotly.Plots.resize(document.getElementById(\"153d6185-6aad-45ac-9fe2-bd1502eadae6\"));});</script>"
      ]
     },
     "metadata": {},
     "output_type": "display_data"
    },
    {
     "data": {
      "application/vnd.plotly.v1+json": {
       "config": {
        "linkText": "Export to plot.ly",
        "plotlyServerURL": "https://plot.ly",
        "showLink": true
       },
       "data": [
        {
         "colorscale": [
          [
           0,
           "#000000"
          ],
          [
           0.5,
           "#FFFFFF"
          ],
          [
           1,
           "#ffffff"
          ]
         ],
         "hoverinfo": "none",
         "opacity": 0.75,
         "showscale": false,
         "type": "heatmap",
         "uid": "00fc099c-7233-4f89-b65f-b8a230533c6c",
         "z": [
          [
           0,
           0,
           0,
           0,
           0
          ],
          [
           0.5,
           0.5,
           0.5,
           0.5,
           0.5
          ],
          [
           1,
           1,
           1,
           1,
           1
          ],
          [
           0.5,
           0.5,
           0.5,
           0.5,
           0.5
          ],
          [
           1,
           1,
           1,
           1,
           1
          ],
          [
           0.5,
           0.5,
           0.5,
           0.5,
           0.5
          ],
          [
           1,
           1,
           1,
           1,
           1
          ],
          [
           0.5,
           0.5,
           0.5,
           0.5,
           0.5
          ],
          [
           1,
           1,
           1,
           1,
           1
          ],
          [
           0.5,
           0.5,
           0.5,
           0.5,
           0.5
          ],
          [
           1,
           1,
           1,
           1,
           1
          ]
         ]
        }
       ],
       "layout": {
        "annotations": [
         {
          "align": "left",
          "font": {
           "color": "#ffffff"
          },
          "showarrow": false,
          "text": "<b>Sequence Length</b>",
          "x": -0.45,
          "xanchor": "left",
          "xref": "x",
          "y": 0,
          "yref": "y"
         },
         {
          "align": "left",
          "font": {
           "color": "#ffffff"
          },
          "showarrow": false,
          "text": "<b>OPT</b>",
          "x": 0.55,
          "xanchor": "left",
          "xref": "x",
          "y": 0,
          "yref": "y"
         },
         {
          "align": "left",
          "font": {
           "color": "#ffffff"
          },
          "showarrow": false,
          "text": "<b>Splay</b>",
          "x": 1.55,
          "xanchor": "left",
          "xref": "x",
          "y": 0,
          "yref": "y"
         },
         {
          "align": "left",
          "font": {
           "color": "#ffffff"
          },
          "showarrow": false,
          "text": "<b>Transpose</b>",
          "x": 2.55,
          "xanchor": "left",
          "xref": "x",
          "y": 0,
          "yref": "y"
         },
         {
          "align": "left",
          "font": {
           "color": "#ffffff"
          },
          "showarrow": false,
          "text": "<b>2-in-a-Row</b>",
          "x": 3.55,
          "xanchor": "left",
          "xref": "x",
          "y": 0,
          "yref": "y"
         },
         {
          "align": "left",
          "font": {
           "color": "#000000"
          },
          "showarrow": false,
          "text": "10000",
          "x": -0.45,
          "xanchor": "left",
          "xref": "x",
          "y": 1,
          "yref": "y"
         },
         {
          "align": "left",
          "font": {
           "color": "#000000"
          },
          "showarrow": false,
          "text": "25252",
          "x": 0.55,
          "xanchor": "left",
          "xref": "x",
          "y": 1,
          "yref": "y"
         },
         {
          "align": "left",
          "font": {
           "color": "#000000"
          },
          "showarrow": false,
          "text": "35142",
          "x": 1.55,
          "xanchor": "left",
          "xref": "x",
          "y": 1,
          "yref": "y"
         },
         {
          "align": "left",
          "font": {
           "color": "#000000"
          },
          "showarrow": false,
          "text": "28555",
          "x": 2.55,
          "xanchor": "left",
          "xref": "x",
          "y": 1,
          "yref": "y"
         },
         {
          "align": "left",
          "font": {
           "color": "#000000"
          },
          "showarrow": false,
          "text": "25585",
          "x": 3.55,
          "xanchor": "left",
          "xref": "x",
          "y": 1,
          "yref": "y"
         },
         {
          "align": "left",
          "font": {
           "color": "#000000"
          },
          "showarrow": false,
          "text": "20000",
          "x": -0.45,
          "xanchor": "left",
          "xref": "x",
          "y": 2,
          "yref": "y"
         },
         {
          "align": "left",
          "font": {
           "color": "#000000"
          },
          "showarrow": false,
          "text": "51310",
          "x": 0.55,
          "xanchor": "left",
          "xref": "x",
          "y": 2,
          "yref": "y"
         },
         {
          "align": "left",
          "font": {
           "color": "#000000"
          },
          "showarrow": false,
          "text": "70318",
          "x": 1.55,
          "xanchor": "left",
          "xref": "x",
          "y": 2,
          "yref": "y"
         },
         {
          "align": "left",
          "font": {
           "color": "#000000"
          },
          "showarrow": false,
          "text": "57333",
          "x": 2.55,
          "xanchor": "left",
          "xref": "x",
          "y": 2,
          "yref": "y"
         },
         {
          "align": "left",
          "font": {
           "color": "#000000"
          },
          "showarrow": false,
          "text": "50097",
          "x": 3.55,
          "xanchor": "left",
          "xref": "x",
          "y": 2,
          "yref": "y"
         },
         {
          "align": "left",
          "font": {
           "color": "#000000"
          },
          "showarrow": false,
          "text": "30000",
          "x": -0.45,
          "xanchor": "left",
          "xref": "x",
          "y": 3,
          "yref": "y"
         },
         {
          "align": "left",
          "font": {
           "color": "#000000"
          },
          "showarrow": false,
          "text": "77795",
          "x": 0.55,
          "xanchor": "left",
          "xref": "x",
          "y": 3,
          "yref": "y"
         },
         {
          "align": "left",
          "font": {
           "color": "#000000"
          },
          "showarrow": false,
          "text": "106579",
          "x": 1.55,
          "xanchor": "left",
          "xref": "x",
          "y": 3,
          "yref": "y"
         },
         {
          "align": "left",
          "font": {
           "color": "#000000"
          },
          "showarrow": false,
          "text": "87961",
          "x": 2.55,
          "xanchor": "left",
          "xref": "x",
          "y": 3,
          "yref": "y"
         },
         {
          "align": "left",
          "font": {
           "color": "#000000"
          },
          "showarrow": false,
          "text": "74970",
          "x": 3.55,
          "xanchor": "left",
          "xref": "x",
          "y": 3,
          "yref": "y"
         },
         {
          "align": "left",
          "font": {
           "color": "#000000"
          },
          "showarrow": false,
          "text": "40000",
          "x": -0.45,
          "xanchor": "left",
          "xref": "x",
          "y": 4,
          "yref": "y"
         },
         {
          "align": "left",
          "font": {
           "color": "#000000"
          },
          "showarrow": false,
          "text": "103814",
          "x": 0.55,
          "xanchor": "left",
          "xref": "x",
          "y": 4,
          "yref": "y"
         },
         {
          "align": "left",
          "font": {
           "color": "#000000"
          },
          "showarrow": false,
          "text": "141207",
          "x": 1.55,
          "xanchor": "left",
          "xref": "x",
          "y": 4,
          "yref": "y"
         },
         {
          "align": "left",
          "font": {
           "color": "#000000"
          },
          "showarrow": false,
          "text": "115822",
          "x": 2.55,
          "xanchor": "left",
          "xref": "x",
          "y": 4,
          "yref": "y"
         },
         {
          "align": "left",
          "font": {
           "color": "#000000"
          },
          "showarrow": false,
          "text": "101425",
          "x": 3.55,
          "xanchor": "left",
          "xref": "x",
          "y": 4,
          "yref": "y"
         },
         {
          "align": "left",
          "font": {
           "color": "#000000"
          },
          "showarrow": false,
          "text": "50000",
          "x": -0.45,
          "xanchor": "left",
          "xref": "x",
          "y": 5,
          "yref": "y"
         },
         {
          "align": "left",
          "font": {
           "color": "#000000"
          },
          "showarrow": false,
          "text": "130330",
          "x": 0.55,
          "xanchor": "left",
          "xref": "x",
          "y": 5,
          "yref": "y"
         },
         {
          "align": "left",
          "font": {
           "color": "#000000"
          },
          "showarrow": false,
          "text": "177300",
          "x": 1.55,
          "xanchor": "left",
          "xref": "x",
          "y": 5,
          "yref": "y"
         },
         {
          "align": "left",
          "font": {
           "color": "#000000"
          },
          "showarrow": false,
          "text": "146304",
          "x": 2.55,
          "xanchor": "left",
          "xref": "x",
          "y": 5,
          "yref": "y"
         },
         {
          "align": "left",
          "font": {
           "color": "#000000"
          },
          "showarrow": false,
          "text": "129008",
          "x": 3.55,
          "xanchor": "left",
          "xref": "x",
          "y": 5,
          "yref": "y"
         },
         {
          "align": "left",
          "font": {
           "color": "#000000"
          },
          "showarrow": false,
          "text": "60000",
          "x": -0.45,
          "xanchor": "left",
          "xref": "x",
          "y": 6,
          "yref": "y"
         },
         {
          "align": "left",
          "font": {
           "color": "#000000"
          },
          "showarrow": false,
          "text": "155343",
          "x": 0.55,
          "xanchor": "left",
          "xref": "x",
          "y": 6,
          "yref": "y"
         },
         {
          "align": "left",
          "font": {
           "color": "#000000"
          },
          "showarrow": false,
          "text": "213466",
          "x": 1.55,
          "xanchor": "left",
          "xref": "x",
          "y": 6,
          "yref": "y"
         },
         {
          "align": "left",
          "font": {
           "color": "#000000"
          },
          "showarrow": false,
          "text": "173763",
          "x": 2.55,
          "xanchor": "left",
          "xref": "x",
          "y": 6,
          "yref": "y"
         },
         {
          "align": "left",
          "font": {
           "color": "#000000"
          },
          "showarrow": false,
          "text": "146388",
          "x": 3.55,
          "xanchor": "left",
          "xref": "x",
          "y": 6,
          "yref": "y"
         },
         {
          "align": "left",
          "font": {
           "color": "#000000"
          },
          "showarrow": false,
          "text": "70000",
          "x": -0.45,
          "xanchor": "left",
          "xref": "x",
          "y": 7,
          "yref": "y"
         },
         {
          "align": "left",
          "font": {
           "color": "#000000"
          },
          "showarrow": false,
          "text": "180386",
          "x": 0.55,
          "xanchor": "left",
          "xref": "x",
          "y": 7,
          "yref": "y"
         },
         {
          "align": "left",
          "font": {
           "color": "#000000"
          },
          "showarrow": false,
          "text": "248907",
          "x": 1.55,
          "xanchor": "left",
          "xref": "x",
          "y": 7,
          "yref": "y"
         },
         {
          "align": "left",
          "font": {
           "color": "#000000"
          },
          "showarrow": false,
          "text": "204267",
          "x": 2.55,
          "xanchor": "left",
          "xref": "x",
          "y": 7,
          "yref": "y"
         },
         {
          "align": "left",
          "font": {
           "color": "#000000"
          },
          "showarrow": false,
          "text": "181055",
          "x": 3.55,
          "xanchor": "left",
          "xref": "x",
          "y": 7,
          "yref": "y"
         },
         {
          "align": "left",
          "font": {
           "color": "#000000"
          },
          "showarrow": false,
          "text": "80000",
          "x": -0.45,
          "xanchor": "left",
          "xref": "x",
          "y": 8,
          "yref": "y"
         },
         {
          "align": "left",
          "font": {
           "color": "#000000"
          },
          "showarrow": false,
          "text": "207634",
          "x": 0.55,
          "xanchor": "left",
          "xref": "x",
          "y": 8,
          "yref": "y"
         },
         {
          "align": "left",
          "font": {
           "color": "#000000"
          },
          "showarrow": false,
          "text": "284447",
          "x": 1.55,
          "xanchor": "left",
          "xref": "x",
          "y": 8,
          "yref": "y"
         },
         {
          "align": "left",
          "font": {
           "color": "#000000"
          },
          "showarrow": false,
          "text": "233515",
          "x": 2.55,
          "xanchor": "left",
          "xref": "x",
          "y": 8,
          "yref": "y"
         },
         {
          "align": "left",
          "font": {
           "color": "#000000"
          },
          "showarrow": false,
          "text": "209629",
          "x": 3.55,
          "xanchor": "left",
          "xref": "x",
          "y": 8,
          "yref": "y"
         },
         {
          "align": "left",
          "font": {
           "color": "#000000"
          },
          "showarrow": false,
          "text": "90000",
          "x": -0.45,
          "xanchor": "left",
          "xref": "x",
          "y": 9,
          "yref": "y"
         },
         {
          "align": "left",
          "font": {
           "color": "#000000"
          },
          "showarrow": false,
          "text": "232277",
          "x": 0.55,
          "xanchor": "left",
          "xref": "x",
          "y": 9,
          "yref": "y"
         },
         {
          "align": "left",
          "font": {
           "color": "#000000"
          },
          "showarrow": false,
          "text": "319773",
          "x": 1.55,
          "xanchor": "left",
          "xref": "x",
          "y": 9,
          "yref": "y"
         },
         {
          "align": "left",
          "font": {
           "color": "#000000"
          },
          "showarrow": false,
          "text": "261897",
          "x": 2.55,
          "xanchor": "left",
          "xref": "x",
          "y": 9,
          "yref": "y"
         },
         {
          "align": "left",
          "font": {
           "color": "#000000"
          },
          "showarrow": false,
          "text": "242020",
          "x": 3.55,
          "xanchor": "left",
          "xref": "x",
          "y": 9,
          "yref": "y"
         },
         {
          "align": "left",
          "font": {
           "color": "#000000"
          },
          "showarrow": false,
          "text": "100000",
          "x": -0.45,
          "xanchor": "left",
          "xref": "x",
          "y": 10,
          "yref": "y"
         },
         {
          "align": "left",
          "font": {
           "color": "#000000"
          },
          "showarrow": false,
          "text": "258986",
          "x": 0.55,
          "xanchor": "left",
          "xref": "x",
          "y": 10,
          "yref": "y"
         },
         {
          "align": "left",
          "font": {
           "color": "#000000"
          },
          "showarrow": false,
          "text": "354792",
          "x": 1.55,
          "xanchor": "left",
          "xref": "x",
          "y": 10,
          "yref": "y"
         },
         {
          "align": "left",
          "font": {
           "color": "#000000"
          },
          "showarrow": false,
          "text": "290606",
          "x": 2.55,
          "xanchor": "left",
          "xref": "x",
          "y": 10,
          "yref": "y"
         },
         {
          "align": "left",
          "font": {
           "color": "#000000"
          },
          "showarrow": false,
          "text": "256117",
          "x": 3.55,
          "xanchor": "left",
          "xref": "x",
          "y": 10,
          "yref": "y"
         }
        ],
        "height": 380,
        "margin": {
         "b": 0,
         "l": 0,
         "r": 0,
         "t": 0
        },
        "xaxis": {
         "dtick": 1,
         "gridwidth": 2,
         "showticklabels": false,
         "tick0": -0.5,
         "ticks": "",
         "zeroline": false
        },
        "yaxis": {
         "autorange": "reversed",
         "dtick": 1,
         "gridwidth": 2,
         "showticklabels": false,
         "tick0": 0.5,
         "ticks": "",
         "zeroline": false
        }
       }
      },
      "text/html": [
       "<div id=\"c8637f0d-c25c-4600-a11a-ec3ff05e4044\" style=\"height: 380px; width: 100%;\" class=\"plotly-graph-div\"></div><script type=\"text/javascript\">require([\"plotly\"], function(Plotly) { window.PLOTLYENV=window.PLOTLYENV || {};window.PLOTLYENV.BASE_URL=\"https://plot.ly\";Plotly.newPlot(\"c8637f0d-c25c-4600-a11a-ec3ff05e4044\", [{\"colorscale\": [[0, \"#000000\"], [0.5, \"#FFFFFF\"], [1, \"#ffffff\"]], \"hoverinfo\": \"none\", \"opacity\": 0.75, \"showscale\": false, \"z\": [[0, 0, 0, 0, 0], [0.5, 0.5, 0.5, 0.5, 0.5], [1, 1, 1, 1, 1], [0.5, 0.5, 0.5, 0.5, 0.5], [1, 1, 1, 1, 1], [0.5, 0.5, 0.5, 0.5, 0.5], [1, 1, 1, 1, 1], [0.5, 0.5, 0.5, 0.5, 0.5], [1, 1, 1, 1, 1], [0.5, 0.5, 0.5, 0.5, 0.5], [1, 1, 1, 1, 1]], \"type\": \"heatmap\", \"uid\": \"00fc099c-7233-4f89-b65f-b8a230533c6c\"}], {\"annotations\": [{\"align\": \"left\", \"font\": {\"color\": \"#ffffff\"}, \"showarrow\": false, \"text\": \"<b>Sequence Length</b>\", \"x\": -0.45, \"xanchor\": \"left\", \"xref\": \"x\", \"y\": 0, \"yref\": \"y\"}, {\"align\": \"left\", \"font\": {\"color\": \"#ffffff\"}, \"showarrow\": false, \"text\": \"<b>OPT</b>\", \"x\": 0.55, \"xanchor\": \"left\", \"xref\": \"x\", \"y\": 0, \"yref\": \"y\"}, {\"align\": \"left\", \"font\": {\"color\": \"#ffffff\"}, \"showarrow\": false, \"text\": \"<b>Splay</b>\", \"x\": 1.55, \"xanchor\": \"left\", \"xref\": \"x\", \"y\": 0, \"yref\": \"y\"}, {\"align\": \"left\", \"font\": {\"color\": \"#ffffff\"}, \"showarrow\": false, \"text\": \"<b>Transpose</b>\", \"x\": 2.55, \"xanchor\": \"left\", \"xref\": \"x\", \"y\": 0, \"yref\": \"y\"}, {\"align\": \"left\", \"font\": {\"color\": \"#ffffff\"}, \"showarrow\": false, \"text\": \"<b>2-in-a-Row</b>\", \"x\": 3.55, \"xanchor\": \"left\", \"xref\": \"x\", \"y\": 0, \"yref\": \"y\"}, {\"align\": \"left\", \"font\": {\"color\": \"#000000\"}, \"showarrow\": false, \"text\": \"10000\", \"x\": -0.45, \"xanchor\": \"left\", \"xref\": \"x\", \"y\": 1, \"yref\": \"y\"}, {\"align\": \"left\", \"font\": {\"color\": \"#000000\"}, \"showarrow\": false, \"text\": \"25252\", \"x\": 0.55, \"xanchor\": \"left\", \"xref\": \"x\", \"y\": 1, \"yref\": \"y\"}, {\"align\": \"left\", \"font\": {\"color\": \"#000000\"}, \"showarrow\": false, \"text\": \"35142\", \"x\": 1.55, \"xanchor\": \"left\", \"xref\": \"x\", \"y\": 1, \"yref\": \"y\"}, {\"align\": \"left\", \"font\": {\"color\": \"#000000\"}, \"showarrow\": false, \"text\": \"28555\", \"x\": 2.55, \"xanchor\": \"left\", \"xref\": \"x\", \"y\": 1, \"yref\": \"y\"}, {\"align\": \"left\", \"font\": {\"color\": \"#000000\"}, \"showarrow\": false, \"text\": \"25585\", \"x\": 3.55, \"xanchor\": \"left\", \"xref\": \"x\", \"y\": 1, \"yref\": \"y\"}, {\"align\": \"left\", \"font\": {\"color\": \"#000000\"}, \"showarrow\": false, \"text\": \"20000\", \"x\": -0.45, \"xanchor\": \"left\", \"xref\": \"x\", \"y\": 2, \"yref\": \"y\"}, {\"align\": \"left\", \"font\": {\"color\": \"#000000\"}, \"showarrow\": false, \"text\": \"51310\", \"x\": 0.55, \"xanchor\": \"left\", \"xref\": \"x\", \"y\": 2, \"yref\": \"y\"}, {\"align\": \"left\", \"font\": {\"color\": \"#000000\"}, \"showarrow\": false, \"text\": \"70318\", \"x\": 1.55, \"xanchor\": \"left\", \"xref\": \"x\", \"y\": 2, \"yref\": \"y\"}, {\"align\": \"left\", \"font\": {\"color\": \"#000000\"}, \"showarrow\": false, \"text\": \"57333\", \"x\": 2.55, \"xanchor\": \"left\", \"xref\": \"x\", \"y\": 2, \"yref\": \"y\"}, {\"align\": \"left\", \"font\": {\"color\": \"#000000\"}, \"showarrow\": false, \"text\": \"50097\", \"x\": 3.55, \"xanchor\": \"left\", \"xref\": \"x\", \"y\": 2, \"yref\": \"y\"}, {\"align\": \"left\", \"font\": {\"color\": \"#000000\"}, \"showarrow\": false, \"text\": \"30000\", \"x\": -0.45, \"xanchor\": \"left\", \"xref\": \"x\", \"y\": 3, \"yref\": \"y\"}, {\"align\": \"left\", \"font\": {\"color\": \"#000000\"}, \"showarrow\": false, \"text\": \"77795\", \"x\": 0.55, \"xanchor\": \"left\", \"xref\": \"x\", \"y\": 3, \"yref\": \"y\"}, {\"align\": \"left\", \"font\": {\"color\": \"#000000\"}, \"showarrow\": false, \"text\": \"106579\", \"x\": 1.55, \"xanchor\": \"left\", \"xref\": \"x\", \"y\": 3, \"yref\": \"y\"}, {\"align\": \"left\", \"font\": {\"color\": \"#000000\"}, \"showarrow\": false, \"text\": \"87961\", \"x\": 2.55, \"xanchor\": \"left\", \"xref\": \"x\", \"y\": 3, \"yref\": \"y\"}, {\"align\": \"left\", \"font\": {\"color\": \"#000000\"}, \"showarrow\": false, \"text\": \"74970\", \"x\": 3.55, \"xanchor\": \"left\", \"xref\": \"x\", \"y\": 3, \"yref\": \"y\"}, {\"align\": \"left\", \"font\": {\"color\": \"#000000\"}, \"showarrow\": false, \"text\": \"40000\", \"x\": -0.45, \"xanchor\": \"left\", \"xref\": \"x\", \"y\": 4, \"yref\": \"y\"}, {\"align\": \"left\", \"font\": {\"color\": \"#000000\"}, \"showarrow\": false, \"text\": \"103814\", \"x\": 0.55, \"xanchor\": \"left\", \"xref\": \"x\", \"y\": 4, \"yref\": \"y\"}, {\"align\": \"left\", \"font\": {\"color\": \"#000000\"}, \"showarrow\": false, \"text\": \"141207\", \"x\": 1.55, \"xanchor\": \"left\", \"xref\": \"x\", \"y\": 4, \"yref\": \"y\"}, {\"align\": \"left\", \"font\": {\"color\": \"#000000\"}, \"showarrow\": false, \"text\": \"115822\", \"x\": 2.55, \"xanchor\": \"left\", \"xref\": \"x\", \"y\": 4, \"yref\": \"y\"}, {\"align\": \"left\", \"font\": {\"color\": \"#000000\"}, \"showarrow\": false, \"text\": \"101425\", \"x\": 3.55, \"xanchor\": \"left\", \"xref\": \"x\", \"y\": 4, \"yref\": \"y\"}, {\"align\": \"left\", \"font\": {\"color\": \"#000000\"}, \"showarrow\": false, \"text\": \"50000\", \"x\": -0.45, \"xanchor\": \"left\", \"xref\": \"x\", \"y\": 5, \"yref\": \"y\"}, {\"align\": \"left\", \"font\": {\"color\": \"#000000\"}, \"showarrow\": false, \"text\": \"130330\", \"x\": 0.55, \"xanchor\": \"left\", \"xref\": \"x\", \"y\": 5, \"yref\": \"y\"}, {\"align\": \"left\", \"font\": {\"color\": \"#000000\"}, \"showarrow\": false, \"text\": \"177300\", \"x\": 1.55, \"xanchor\": \"left\", \"xref\": \"x\", \"y\": 5, \"yref\": \"y\"}, {\"align\": \"left\", \"font\": {\"color\": \"#000000\"}, \"showarrow\": false, \"text\": \"146304\", \"x\": 2.55, \"xanchor\": \"left\", \"xref\": \"x\", \"y\": 5, \"yref\": \"y\"}, {\"align\": \"left\", \"font\": {\"color\": \"#000000\"}, \"showarrow\": false, \"text\": \"129008\", \"x\": 3.55, \"xanchor\": \"left\", \"xref\": \"x\", \"y\": 5, \"yref\": \"y\"}, {\"align\": \"left\", \"font\": {\"color\": \"#000000\"}, \"showarrow\": false, \"text\": \"60000\", \"x\": -0.45, \"xanchor\": \"left\", \"xref\": \"x\", \"y\": 6, \"yref\": \"y\"}, {\"align\": \"left\", \"font\": {\"color\": \"#000000\"}, \"showarrow\": false, \"text\": \"155343\", \"x\": 0.55, \"xanchor\": \"left\", \"xref\": \"x\", \"y\": 6, \"yref\": \"y\"}, {\"align\": \"left\", \"font\": {\"color\": \"#000000\"}, \"showarrow\": false, \"text\": \"213466\", \"x\": 1.55, \"xanchor\": \"left\", \"xref\": \"x\", \"y\": 6, \"yref\": \"y\"}, {\"align\": \"left\", \"font\": {\"color\": \"#000000\"}, \"showarrow\": false, \"text\": \"173763\", \"x\": 2.55, \"xanchor\": \"left\", \"xref\": \"x\", \"y\": 6, \"yref\": \"y\"}, {\"align\": \"left\", \"font\": {\"color\": \"#000000\"}, \"showarrow\": false, \"text\": \"146388\", \"x\": 3.55, \"xanchor\": \"left\", \"xref\": \"x\", \"y\": 6, \"yref\": \"y\"}, {\"align\": \"left\", \"font\": {\"color\": \"#000000\"}, \"showarrow\": false, \"text\": \"70000\", \"x\": -0.45, \"xanchor\": \"left\", \"xref\": \"x\", \"y\": 7, \"yref\": \"y\"}, {\"align\": \"left\", \"font\": {\"color\": \"#000000\"}, \"showarrow\": false, \"text\": \"180386\", \"x\": 0.55, \"xanchor\": \"left\", \"xref\": \"x\", \"y\": 7, \"yref\": \"y\"}, {\"align\": \"left\", \"font\": {\"color\": \"#000000\"}, \"showarrow\": false, \"text\": \"248907\", \"x\": 1.55, \"xanchor\": \"left\", \"xref\": \"x\", \"y\": 7, \"yref\": \"y\"}, {\"align\": \"left\", \"font\": {\"color\": \"#000000\"}, \"showarrow\": false, \"text\": \"204267\", \"x\": 2.55, \"xanchor\": \"left\", \"xref\": \"x\", \"y\": 7, \"yref\": \"y\"}, {\"align\": \"left\", \"font\": {\"color\": \"#000000\"}, \"showarrow\": false, \"text\": \"181055\", \"x\": 3.55, \"xanchor\": \"left\", \"xref\": \"x\", \"y\": 7, \"yref\": \"y\"}, {\"align\": \"left\", \"font\": {\"color\": \"#000000\"}, \"showarrow\": false, \"text\": \"80000\", \"x\": -0.45, \"xanchor\": \"left\", \"xref\": \"x\", \"y\": 8, \"yref\": \"y\"}, {\"align\": \"left\", \"font\": {\"color\": \"#000000\"}, \"showarrow\": false, \"text\": \"207634\", \"x\": 0.55, \"xanchor\": \"left\", \"xref\": \"x\", \"y\": 8, \"yref\": \"y\"}, {\"align\": \"left\", \"font\": {\"color\": \"#000000\"}, \"showarrow\": false, \"text\": \"284447\", \"x\": 1.55, \"xanchor\": \"left\", \"xref\": \"x\", \"y\": 8, \"yref\": \"y\"}, {\"align\": \"left\", \"font\": {\"color\": \"#000000\"}, \"showarrow\": false, \"text\": \"233515\", \"x\": 2.55, \"xanchor\": \"left\", \"xref\": \"x\", \"y\": 8, \"yref\": \"y\"}, {\"align\": \"left\", \"font\": {\"color\": \"#000000\"}, \"showarrow\": false, \"text\": \"209629\", \"x\": 3.55, \"xanchor\": \"left\", \"xref\": \"x\", \"y\": 8, \"yref\": \"y\"}, {\"align\": \"left\", \"font\": {\"color\": \"#000000\"}, \"showarrow\": false, \"text\": \"90000\", \"x\": -0.45, \"xanchor\": \"left\", \"xref\": \"x\", \"y\": 9, \"yref\": \"y\"}, {\"align\": \"left\", \"font\": {\"color\": \"#000000\"}, \"showarrow\": false, \"text\": \"232277\", \"x\": 0.55, \"xanchor\": \"left\", \"xref\": \"x\", \"y\": 9, \"yref\": \"y\"}, {\"align\": \"left\", \"font\": {\"color\": \"#000000\"}, \"showarrow\": false, \"text\": \"319773\", \"x\": 1.55, \"xanchor\": \"left\", \"xref\": \"x\", \"y\": 9, \"yref\": \"y\"}, {\"align\": \"left\", \"font\": {\"color\": \"#000000\"}, \"showarrow\": false, \"text\": \"261897\", \"x\": 2.55, \"xanchor\": \"left\", \"xref\": \"x\", \"y\": 9, \"yref\": \"y\"}, {\"align\": \"left\", \"font\": {\"color\": \"#000000\"}, \"showarrow\": false, \"text\": \"242020\", \"x\": 3.55, \"xanchor\": \"left\", \"xref\": \"x\", \"y\": 9, \"yref\": \"y\"}, {\"align\": \"left\", \"font\": {\"color\": \"#000000\"}, \"showarrow\": false, \"text\": \"100000\", \"x\": -0.45, \"xanchor\": \"left\", \"xref\": \"x\", \"y\": 10, \"yref\": \"y\"}, {\"align\": \"left\", \"font\": {\"color\": \"#000000\"}, \"showarrow\": false, \"text\": \"258986\", \"x\": 0.55, \"xanchor\": \"left\", \"xref\": \"x\", \"y\": 10, \"yref\": \"y\"}, {\"align\": \"left\", \"font\": {\"color\": \"#000000\"}, \"showarrow\": false, \"text\": \"354792\", \"x\": 1.55, \"xanchor\": \"left\", \"xref\": \"x\", \"y\": 10, \"yref\": \"y\"}, {\"align\": \"left\", \"font\": {\"color\": \"#000000\"}, \"showarrow\": false, \"text\": \"290606\", \"x\": 2.55, \"xanchor\": \"left\", \"xref\": \"x\", \"y\": 10, \"yref\": \"y\"}, {\"align\": \"left\", \"font\": {\"color\": \"#000000\"}, \"showarrow\": false, \"text\": \"256117\", \"x\": 3.55, \"xanchor\": \"left\", \"xref\": \"x\", \"y\": 10, \"yref\": \"y\"}], \"height\": 380, \"margin\": {\"b\": 0, \"l\": 0, \"r\": 0, \"t\": 0}, \"xaxis\": {\"dtick\": 1, \"gridwidth\": 2, \"showticklabels\": false, \"tick0\": -0.5, \"ticks\": \"\", \"zeroline\": false}, \"yaxis\": {\"autorange\": \"reversed\", \"dtick\": 1, \"gridwidth\": 2, \"showticklabels\": false, \"tick0\": 0.5, \"ticks\": \"\", \"zeroline\": false}}, {\"showLink\": true, \"linkText\": \"Export to plot.ly\", \"plotlyServerURL\": \"https://plot.ly\"})});</script><script type=\"text/javascript\">window.addEventListener(\"resize\", function(){window._Plotly.Plots.resize(document.getElementById(\"c8637f0d-c25c-4600-a11a-ec3ff05e4044\"));});</script>"
      ],
      "text/vnd.plotly.v1+html": [
       "<div id=\"c8637f0d-c25c-4600-a11a-ec3ff05e4044\" style=\"height: 380px; width: 100%;\" class=\"plotly-graph-div\"></div><script type=\"text/javascript\">require([\"plotly\"], function(Plotly) { window.PLOTLYENV=window.PLOTLYENV || {};window.PLOTLYENV.BASE_URL=\"https://plot.ly\";Plotly.newPlot(\"c8637f0d-c25c-4600-a11a-ec3ff05e4044\", [{\"colorscale\": [[0, \"#000000\"], [0.5, \"#FFFFFF\"], [1, \"#ffffff\"]], \"hoverinfo\": \"none\", \"opacity\": 0.75, \"showscale\": false, \"z\": [[0, 0, 0, 0, 0], [0.5, 0.5, 0.5, 0.5, 0.5], [1, 1, 1, 1, 1], [0.5, 0.5, 0.5, 0.5, 0.5], [1, 1, 1, 1, 1], [0.5, 0.5, 0.5, 0.5, 0.5], [1, 1, 1, 1, 1], [0.5, 0.5, 0.5, 0.5, 0.5], [1, 1, 1, 1, 1], [0.5, 0.5, 0.5, 0.5, 0.5], [1, 1, 1, 1, 1]], \"type\": \"heatmap\", \"uid\": \"00fc099c-7233-4f89-b65f-b8a230533c6c\"}], {\"annotations\": [{\"align\": \"left\", \"font\": {\"color\": \"#ffffff\"}, \"showarrow\": false, \"text\": \"<b>Sequence Length</b>\", \"x\": -0.45, \"xanchor\": \"left\", \"xref\": \"x\", \"y\": 0, \"yref\": \"y\"}, {\"align\": \"left\", \"font\": {\"color\": \"#ffffff\"}, \"showarrow\": false, \"text\": \"<b>OPT</b>\", \"x\": 0.55, \"xanchor\": \"left\", \"xref\": \"x\", \"y\": 0, \"yref\": \"y\"}, {\"align\": \"left\", \"font\": {\"color\": \"#ffffff\"}, \"showarrow\": false, \"text\": \"<b>Splay</b>\", \"x\": 1.55, \"xanchor\": \"left\", \"xref\": \"x\", \"y\": 0, \"yref\": \"y\"}, {\"align\": \"left\", \"font\": {\"color\": \"#ffffff\"}, \"showarrow\": false, \"text\": \"<b>Transpose</b>\", \"x\": 2.55, \"xanchor\": \"left\", \"xref\": \"x\", \"y\": 0, \"yref\": \"y\"}, {\"align\": \"left\", \"font\": {\"color\": \"#ffffff\"}, \"showarrow\": false, \"text\": \"<b>2-in-a-Row</b>\", \"x\": 3.55, \"xanchor\": \"left\", \"xref\": \"x\", \"y\": 0, \"yref\": \"y\"}, {\"align\": \"left\", \"font\": {\"color\": \"#000000\"}, \"showarrow\": false, \"text\": \"10000\", \"x\": -0.45, \"xanchor\": \"left\", \"xref\": \"x\", \"y\": 1, \"yref\": \"y\"}, {\"align\": \"left\", \"font\": {\"color\": \"#000000\"}, \"showarrow\": false, \"text\": \"25252\", \"x\": 0.55, \"xanchor\": \"left\", \"xref\": \"x\", \"y\": 1, \"yref\": \"y\"}, {\"align\": \"left\", \"font\": {\"color\": \"#000000\"}, \"showarrow\": false, \"text\": \"35142\", \"x\": 1.55, \"xanchor\": \"left\", \"xref\": \"x\", \"y\": 1, \"yref\": \"y\"}, {\"align\": \"left\", \"font\": {\"color\": \"#000000\"}, \"showarrow\": false, \"text\": \"28555\", \"x\": 2.55, \"xanchor\": \"left\", \"xref\": \"x\", \"y\": 1, \"yref\": \"y\"}, {\"align\": \"left\", \"font\": {\"color\": \"#000000\"}, \"showarrow\": false, \"text\": \"25585\", \"x\": 3.55, \"xanchor\": \"left\", \"xref\": \"x\", \"y\": 1, \"yref\": \"y\"}, {\"align\": \"left\", \"font\": {\"color\": \"#000000\"}, \"showarrow\": false, \"text\": \"20000\", \"x\": -0.45, \"xanchor\": \"left\", \"xref\": \"x\", \"y\": 2, \"yref\": \"y\"}, {\"align\": \"left\", \"font\": {\"color\": \"#000000\"}, \"showarrow\": false, \"text\": \"51310\", \"x\": 0.55, \"xanchor\": \"left\", \"xref\": \"x\", \"y\": 2, \"yref\": \"y\"}, {\"align\": \"left\", \"font\": {\"color\": \"#000000\"}, \"showarrow\": false, \"text\": \"70318\", \"x\": 1.55, \"xanchor\": \"left\", \"xref\": \"x\", \"y\": 2, \"yref\": \"y\"}, {\"align\": \"left\", \"font\": {\"color\": \"#000000\"}, \"showarrow\": false, \"text\": \"57333\", \"x\": 2.55, \"xanchor\": \"left\", \"xref\": \"x\", \"y\": 2, \"yref\": \"y\"}, {\"align\": \"left\", \"font\": {\"color\": \"#000000\"}, \"showarrow\": false, \"text\": \"50097\", \"x\": 3.55, \"xanchor\": \"left\", \"xref\": \"x\", \"y\": 2, \"yref\": \"y\"}, {\"align\": \"left\", \"font\": {\"color\": \"#000000\"}, \"showarrow\": false, \"text\": \"30000\", \"x\": -0.45, \"xanchor\": \"left\", \"xref\": \"x\", \"y\": 3, \"yref\": \"y\"}, {\"align\": \"left\", \"font\": {\"color\": \"#000000\"}, \"showarrow\": false, \"text\": \"77795\", \"x\": 0.55, \"xanchor\": \"left\", \"xref\": \"x\", \"y\": 3, \"yref\": \"y\"}, {\"align\": \"left\", \"font\": {\"color\": \"#000000\"}, \"showarrow\": false, \"text\": \"106579\", \"x\": 1.55, \"xanchor\": \"left\", \"xref\": \"x\", \"y\": 3, \"yref\": \"y\"}, {\"align\": \"left\", \"font\": {\"color\": \"#000000\"}, \"showarrow\": false, \"text\": \"87961\", \"x\": 2.55, \"xanchor\": \"left\", \"xref\": \"x\", \"y\": 3, \"yref\": \"y\"}, {\"align\": \"left\", \"font\": {\"color\": \"#000000\"}, \"showarrow\": false, \"text\": \"74970\", \"x\": 3.55, \"xanchor\": \"left\", \"xref\": \"x\", \"y\": 3, \"yref\": \"y\"}, {\"align\": \"left\", \"font\": {\"color\": \"#000000\"}, \"showarrow\": false, \"text\": \"40000\", \"x\": -0.45, \"xanchor\": \"left\", \"xref\": \"x\", \"y\": 4, \"yref\": \"y\"}, {\"align\": \"left\", \"font\": {\"color\": \"#000000\"}, \"showarrow\": false, \"text\": \"103814\", \"x\": 0.55, \"xanchor\": \"left\", \"xref\": \"x\", \"y\": 4, \"yref\": \"y\"}, {\"align\": \"left\", \"font\": {\"color\": \"#000000\"}, \"showarrow\": false, \"text\": \"141207\", \"x\": 1.55, \"xanchor\": \"left\", \"xref\": \"x\", \"y\": 4, \"yref\": \"y\"}, {\"align\": \"left\", \"font\": {\"color\": \"#000000\"}, \"showarrow\": false, \"text\": \"115822\", \"x\": 2.55, \"xanchor\": \"left\", \"xref\": \"x\", \"y\": 4, \"yref\": \"y\"}, {\"align\": \"left\", \"font\": {\"color\": \"#000000\"}, \"showarrow\": false, \"text\": \"101425\", \"x\": 3.55, \"xanchor\": \"left\", \"xref\": \"x\", \"y\": 4, \"yref\": \"y\"}, {\"align\": \"left\", \"font\": {\"color\": \"#000000\"}, \"showarrow\": false, \"text\": \"50000\", \"x\": -0.45, \"xanchor\": \"left\", \"xref\": \"x\", \"y\": 5, \"yref\": \"y\"}, {\"align\": \"left\", \"font\": {\"color\": \"#000000\"}, \"showarrow\": false, \"text\": \"130330\", \"x\": 0.55, \"xanchor\": \"left\", \"xref\": \"x\", \"y\": 5, \"yref\": \"y\"}, {\"align\": \"left\", \"font\": {\"color\": \"#000000\"}, \"showarrow\": false, \"text\": \"177300\", \"x\": 1.55, \"xanchor\": \"left\", \"xref\": \"x\", \"y\": 5, \"yref\": \"y\"}, {\"align\": \"left\", \"font\": {\"color\": \"#000000\"}, \"showarrow\": false, \"text\": \"146304\", \"x\": 2.55, \"xanchor\": \"left\", \"xref\": \"x\", \"y\": 5, \"yref\": \"y\"}, {\"align\": \"left\", \"font\": {\"color\": \"#000000\"}, \"showarrow\": false, \"text\": \"129008\", \"x\": 3.55, \"xanchor\": \"left\", \"xref\": \"x\", \"y\": 5, \"yref\": \"y\"}, {\"align\": \"left\", \"font\": {\"color\": \"#000000\"}, \"showarrow\": false, \"text\": \"60000\", \"x\": -0.45, \"xanchor\": \"left\", \"xref\": \"x\", \"y\": 6, \"yref\": \"y\"}, {\"align\": \"left\", \"font\": {\"color\": \"#000000\"}, \"showarrow\": false, \"text\": \"155343\", \"x\": 0.55, \"xanchor\": \"left\", \"xref\": \"x\", \"y\": 6, \"yref\": \"y\"}, {\"align\": \"left\", \"font\": {\"color\": \"#000000\"}, \"showarrow\": false, \"text\": \"213466\", \"x\": 1.55, \"xanchor\": \"left\", \"xref\": \"x\", \"y\": 6, \"yref\": \"y\"}, {\"align\": \"left\", \"font\": {\"color\": \"#000000\"}, \"showarrow\": false, \"text\": \"173763\", \"x\": 2.55, \"xanchor\": \"left\", \"xref\": \"x\", \"y\": 6, \"yref\": \"y\"}, {\"align\": \"left\", \"font\": {\"color\": \"#000000\"}, \"showarrow\": false, \"text\": \"146388\", \"x\": 3.55, \"xanchor\": \"left\", \"xref\": \"x\", \"y\": 6, \"yref\": \"y\"}, {\"align\": \"left\", \"font\": {\"color\": \"#000000\"}, \"showarrow\": false, \"text\": \"70000\", \"x\": -0.45, \"xanchor\": \"left\", \"xref\": \"x\", \"y\": 7, \"yref\": \"y\"}, {\"align\": \"left\", \"font\": {\"color\": \"#000000\"}, \"showarrow\": false, \"text\": \"180386\", \"x\": 0.55, \"xanchor\": \"left\", \"xref\": \"x\", \"y\": 7, \"yref\": \"y\"}, {\"align\": \"left\", \"font\": {\"color\": \"#000000\"}, \"showarrow\": false, \"text\": \"248907\", \"x\": 1.55, \"xanchor\": \"left\", \"xref\": \"x\", \"y\": 7, \"yref\": \"y\"}, {\"align\": \"left\", \"font\": {\"color\": \"#000000\"}, \"showarrow\": false, \"text\": \"204267\", \"x\": 2.55, \"xanchor\": \"left\", \"xref\": \"x\", \"y\": 7, \"yref\": \"y\"}, {\"align\": \"left\", \"font\": {\"color\": \"#000000\"}, \"showarrow\": false, \"text\": \"181055\", \"x\": 3.55, \"xanchor\": \"left\", \"xref\": \"x\", \"y\": 7, \"yref\": \"y\"}, {\"align\": \"left\", \"font\": {\"color\": \"#000000\"}, \"showarrow\": false, \"text\": \"80000\", \"x\": -0.45, \"xanchor\": \"left\", \"xref\": \"x\", \"y\": 8, \"yref\": \"y\"}, {\"align\": \"left\", \"font\": {\"color\": \"#000000\"}, \"showarrow\": false, \"text\": \"207634\", \"x\": 0.55, \"xanchor\": \"left\", \"xref\": \"x\", \"y\": 8, \"yref\": \"y\"}, {\"align\": \"left\", \"font\": {\"color\": \"#000000\"}, \"showarrow\": false, \"text\": \"284447\", \"x\": 1.55, \"xanchor\": \"left\", \"xref\": \"x\", \"y\": 8, \"yref\": \"y\"}, {\"align\": \"left\", \"font\": {\"color\": \"#000000\"}, \"showarrow\": false, \"text\": \"233515\", \"x\": 2.55, \"xanchor\": \"left\", \"xref\": \"x\", \"y\": 8, \"yref\": \"y\"}, {\"align\": \"left\", \"font\": {\"color\": \"#000000\"}, \"showarrow\": false, \"text\": \"209629\", \"x\": 3.55, \"xanchor\": \"left\", \"xref\": \"x\", \"y\": 8, \"yref\": \"y\"}, {\"align\": \"left\", \"font\": {\"color\": \"#000000\"}, \"showarrow\": false, \"text\": \"90000\", \"x\": -0.45, \"xanchor\": \"left\", \"xref\": \"x\", \"y\": 9, \"yref\": \"y\"}, {\"align\": \"left\", \"font\": {\"color\": \"#000000\"}, \"showarrow\": false, \"text\": \"232277\", \"x\": 0.55, \"xanchor\": \"left\", \"xref\": \"x\", \"y\": 9, \"yref\": \"y\"}, {\"align\": \"left\", \"font\": {\"color\": \"#000000\"}, \"showarrow\": false, \"text\": \"319773\", \"x\": 1.55, \"xanchor\": \"left\", \"xref\": \"x\", \"y\": 9, \"yref\": \"y\"}, {\"align\": \"left\", \"font\": {\"color\": \"#000000\"}, \"showarrow\": false, \"text\": \"261897\", \"x\": 2.55, \"xanchor\": \"left\", \"xref\": \"x\", \"y\": 9, \"yref\": \"y\"}, {\"align\": \"left\", \"font\": {\"color\": \"#000000\"}, \"showarrow\": false, \"text\": \"242020\", \"x\": 3.55, \"xanchor\": \"left\", \"xref\": \"x\", \"y\": 9, \"yref\": \"y\"}, {\"align\": \"left\", \"font\": {\"color\": \"#000000\"}, \"showarrow\": false, \"text\": \"100000\", \"x\": -0.45, \"xanchor\": \"left\", \"xref\": \"x\", \"y\": 10, \"yref\": \"y\"}, {\"align\": \"left\", \"font\": {\"color\": \"#000000\"}, \"showarrow\": false, \"text\": \"258986\", \"x\": 0.55, \"xanchor\": \"left\", \"xref\": \"x\", \"y\": 10, \"yref\": \"y\"}, {\"align\": \"left\", \"font\": {\"color\": \"#000000\"}, \"showarrow\": false, \"text\": \"354792\", \"x\": 1.55, \"xanchor\": \"left\", \"xref\": \"x\", \"y\": 10, \"yref\": \"y\"}, {\"align\": \"left\", \"font\": {\"color\": \"#000000\"}, \"showarrow\": false, \"text\": \"290606\", \"x\": 2.55, \"xanchor\": \"left\", \"xref\": \"x\", \"y\": 10, \"yref\": \"y\"}, {\"align\": \"left\", \"font\": {\"color\": \"#000000\"}, \"showarrow\": false, \"text\": \"256117\", \"x\": 3.55, \"xanchor\": \"left\", \"xref\": \"x\", \"y\": 10, \"yref\": \"y\"}], \"height\": 380, \"margin\": {\"b\": 0, \"l\": 0, \"r\": 0, \"t\": 0}, \"xaxis\": {\"dtick\": 1, \"gridwidth\": 2, \"showticklabels\": false, \"tick0\": -0.5, \"ticks\": \"\", \"zeroline\": false}, \"yaxis\": {\"autorange\": \"reversed\", \"dtick\": 1, \"gridwidth\": 2, \"showticklabels\": false, \"tick0\": 0.5, \"ticks\": \"\", \"zeroline\": false}}, {\"showLink\": true, \"linkText\": \"Export to plot.ly\", \"plotlyServerURL\": \"https://plot.ly\"})});</script><script type=\"text/javascript\">window.addEventListener(\"resize\", function(){window._Plotly.Plots.resize(document.getElementById(\"c8637f0d-c25c-4600-a11a-ec3ff05e4044\"));});</script>"
      ]
     },
     "metadata": {},
     "output_type": "display_data"
    }
   ],
   "source": [
    "df = pd.read_csv('trees/staticZipfianTreesAccessCost.csv')\n",
    "\n",
    "trace1 = go.Scatter(\n",
    "                    x=df['Sequence Length'], y=df['Access Costs'], # Data\n",
    "                    mode='lines', name='OPT',\n",
    "                    line = dict(color = ('rgb(37, 120, 178)'))\n",
    "                   )\n",
    "\n",
    "df = pd.read_csv('trees/mtfZipfianTreesAccessCost.csv')\n",
    "\n",
    "trace2 = go.Scatter(\n",
    "                    x=df['Sequence Length'], y=df['Access Costs'], # Data\n",
    "                    mode='lines', name='Splay',\n",
    "                    line = dict(color = ('rgb(253, 127, 40)'))\n",
    "                   )\n",
    "\n",
    "df = pd.read_csv('trees/transposeZipfianTreesAccessCost.csv')\n",
    "\n",
    "trace3 = go.Scatter(\n",
    "                    x=df['Sequence Length'], y=df['Access Costs'], # Data\n",
    "                    mode='lines', name='Transpose',\n",
    "                    line = dict(color = ('rgb(50, 158, 52)'))\n",
    "                   )\n",
    "\n",
    "df = pd.read_csv('trees/kInARowZipfianTreesAccessCost.csv')\n",
    "\n",
    "trace4 = go.Scatter(\n",
    "                    x=df['Sequence Length'], y=df['Access Costs'], # Data\n",
    "                     mode='lines', name='2-in-a-row',\n",
    "                    line = dict(color = ('rgb(211, 41, 47)'))\n",
    "                   )\n",
    "\n",
    "\n",
    "\n",
    "layout = go.Layout(title='Trees Access Cost: Zipfian',\n",
    "                   plot_bgcolor='rgb(255, 255,255)',\n",
    "                   xaxis=dict(title='Sequence Length'),\n",
    "                   yaxis=dict(title='Access Cost'))\n",
    "\n",
    "fig = go.Figure(data=[trace1, trace2, trace3, trace4], layout=layout)\n",
    "\n",
    "# Plot data in the notebook\n",
    "iplot(fig)\n",
    "\n",
    "\n",
    "\n",
    "df = pd.read_csv('table/ZipfianTrees.csv')\n",
    "colorscale = [[0, '#000000'],[.5, '#FFFFFF'],[1, '#ffffff']]\n",
    "table = ff.create_table(df, colorscale=colorscale)\n",
    "iplot(table)"
   ]
  },
  {
   "cell_type": "code",
   "execution_count": null,
   "metadata": {},
   "outputs": [],
   "source": [
    "df = pd.read_csv('percentages/Zipfian/0.csv')\n",
    "\n",
    "trace1 = go.Scatter(\n",
    "                    x=df['Input'], y=df['Percentage'], # Data\n",
    "                    mode='markers',\n",
    "                    name='100000',\n",
    "                    line = dict(color = ('#CBF4F0'))\n",
    "                   )\n",
    "\n",
    "\n",
    "df = pd.read_csv('percentages/Zipfian/1.csv')\n",
    "\n",
    "trace2 = go.Scatter(\n",
    "                    x=df['Input'], y=df['Percentage'], # Data\n",
    "                    mode='markers',\n",
    "                    name='200000',\n",
    "                    line = dict(color = ('#A9EDE6'))\n",
    "                   )\n",
    "\n",
    "df = pd.read_csv('percentages/Zipfian/2.csv')\n",
    "\n",
    "trace3 = go.Scatter(\n",
    "                    x=df['Input'], y=df['Percentage'], # Data\n",
    "                    mode='markers',\n",
    "                    name='300000',\n",
    "                    line = dict(color = ('#86E6DC'))\n",
    "                   )\n",
    "\n",
    "\n",
    "df = pd.read_csv('percentages/Zipfian/3.csv')\n",
    "\n",
    "trace4 = go.Scatter(\n",
    "                    x=df['Input'], y=df['Percentage'], # Data\n",
    "                    mode='markers',\n",
    "                    name='400000',\n",
    "                    line = dict(color = ('#64DFD2'))\n",
    "                   )\n",
    "\n",
    "\n",
    "df = pd.read_csv('percentages/Zipfian/4.csv')\n",
    "\n",
    "trace5 = go.Scatter(\n",
    "                    x=df['Input'], y=df['Percentage'], # Data\n",
    "                    mode='markers',\n",
    "                    name='500000',\n",
    "                    line = dict(color = ('#42D9C8'))\n",
    "                   )\n",
    "\n",
    "df = pd.read_csv('percentages/Zipfian/5.csv')\n",
    "\n",
    "trace6 = go.Scatter(\n",
    "                    x=df['Input'], y=df['Percentage'], # Data\n",
    "                    mode='markers',\n",
    "                    name='600000',\n",
    "                    line = dict(color = ('#37B2A4'))\n",
    "                   )\n",
    "\n",
    "df = pd.read_csv('percentages/Zipfian/6.csv')\n",
    "\n",
    "trace7 = go.Scatter(\n",
    "                    x=df['Input'], y=df['Percentage'], # Data\n",
    "                    mode='markers',\n",
    "                    name='700000',\n",
    "                    line = dict(color = ('#2A8B80'))\n",
    "                   )\n",
    "\n",
    "df = pd.read_csv('percentages/Zipfian/7.csv')\n",
    "\n",
    "trace8 = go.Scatter(\n",
    "                    x=df['Input'], y=df['Percentage'], # Data\n",
    "                    mode='markers',\n",
    "                    name='800000',\n",
    "                    line = dict(color = ('#206e65'))\n",
    "                   )\n",
    "\n",
    "df = pd.read_csv('percentages/Zipfian/8.csv')\n",
    "\n",
    "trace9 = go.Scatter(\n",
    "                    x=df['Input'], y=df['Percentage'], # Data\n",
    "                    mode='markers',\n",
    "                    name='900000',\n",
    "                    line = dict(color = ('#1d5b54'))\n",
    "                   )\n",
    "\n",
    "df = pd.read_csv('percentages/Zipfian/9.csv')\n",
    "\n",
    "trace10 = go.Scatter(\n",
    "                    x=df['Input'], y=df['Percentage'], # Data\n",
    "                    mode='markers', \n",
    "                    name='1000000',\n",
    "                    line = dict(color = ('#0c463e'))\n",
    "                   )\n",
    "\n",
    "\n",
    "\n",
    "\n",
    "layout = go.Layout(title='Zipfian Rank/Frequency',\n",
    "                   plot_bgcolor='rgb(255, 255,255)',\n",
    "                   xaxis=dict(title='Rank'),\n",
    "                   yaxis=dict(title='Frequency (%)'))\n",
    "\n",
    "\n",
    "fig = go.Figure(data=[trace1, trace2, trace3, trace4, trace5, trace6, trace7, trace8, trace9, trace10], layout=layout)\n",
    "\n",
    "# Plot data in the notebook\n",
    "iplot(fig)\n",
    "\n",
    "df = pd.read_csv('percentages/Zipfian/probabilities.csv')\n",
    "\n",
    "logTrace = go.Scatter(\n",
    "                    x=np.log(df['Input']), y=np.log(df['Percentage']), # Data\n",
    "                    mode='lines',\n",
    "                    name='100000',\n",
    "                    line = dict(color = ('#fd28b9'))\n",
    "                   )\n",
    "\n",
    "\n",
    "layout = go.Layout(title='Zipfian Log-Log Graph',\n",
    "                   plot_bgcolor='rgb(255, 255,255)',\n",
    "                   xaxis=dict(title='Log(Rank)'),\n",
    "                   yaxis=dict(title='Log(Probability)'))\n",
    "\n",
    "fig = go.Figure(data=[logTrace], layout=layout)\n",
    "iplot(fig)\n"
   ]
  },
  {
   "cell_type": "code",
   "execution_count": null,
   "metadata": {},
   "outputs": [],
   "source": [
    "df = pd.read_csv('rotation/mtfZipfianRotationCost.csv')\n",
    "\n",
    "trace1 = go.Scatter(\n",
    "                    x=df['Sequence Length'], y=df['Access Costs'], # Data\n",
    "                    mode='lines', name='Splay',\n",
    "                    line = dict(color = ('rgb(253, 127, 40)'))\n",
    "                   )\n",
    "\n",
    "df = pd.read_csv('rotation/transposeZipfianRotationCost.csv')\n",
    "\n",
    "trace2 = go.Scatter(\n",
    "                    x=df['Sequence Length'], y=df['Access Costs'], # Data\n",
    "                    mode='lines', name='Transpose',\n",
    "                    line = dict(color = ('rgb(50, 158, 52)'))\n",
    "                   )\n",
    "\n",
    "df = pd.read_csv('rotation/kInARowZipfianRotationCost.csv')\n",
    "\n",
    "trace3 = go.Scatter(\n",
    "                    x=df['Sequence Length'], y=df['Access Costs'], # Data\n",
    "                    mode='lines', name='2-in-a-row',\n",
    "                    line = dict(color = ('rgb(211, 41, 47)'))\n",
    "                   )\n",
    "\n",
    "\n",
    "\n",
    "layout = go.Layout(title='Rotation Cost: Zipfian',\n",
    "                   plot_bgcolor='rgb(255, 255,255)',\n",
    "                   xaxis=dict(title='Sequence Length'),\n",
    "                   yaxis=dict(title='Rotation Cost'))\n",
    "\n",
    "fig = go.Figure(data=[trace1, trace2, trace3], layout=layout)\n",
    "\n",
    "# Plot data in the notebook\n",
    "iplot(fig)\n",
    "\n",
    "df = pd.read_csv('table/ZipfianRotation.csv')\n",
    "colorscale = [[0, '#000000'],[.5, '#FFFFFF'],[1, '#ffffff']]\n",
    "table = ff.create_table(df, colorscale=colorscale)\n",
    "iplot(table)"
   ]
  },
  {
   "cell_type": "code",
   "execution_count": null,
   "metadata": {},
   "outputs": [],
   "source": [
    "df = pd.read_csv('total/mtfZipfianTotalCost.csv')\n",
    "\n",
    "trace1 = go.Scatter(\n",
    "                    x=df['Sequence Length'], y=df['Access Costs'], # Data\n",
    "                    mode='lines', name='Splay',\n",
    "                    line = dict(color = ('rgb(253, 127, 40)'))\n",
    "                   )\n",
    "\n",
    "df = pd.read_csv('total/transposeZipfianTotalCost.csv')\n",
    "\n",
    "trace2 = go.Scatter(\n",
    "                    x=df['Sequence Length'], y=df['Access Costs'], # Data\n",
    "                    mode='lines', name='Transpose',\n",
    "                    line = dict(color = ('rgb(50, 158, 52)'))\n",
    "                   )\n",
    "\n",
    "df = pd.read_csv('total/kInARowZipfianTotalCost.csv')\n",
    "\n",
    "trace3 = go.Scatter(\n",
    "                    x=df['Sequence Length'], y=df['Access Costs'], # Data\n",
    "                    mode='lines', name='2-in-a-row',\n",
    "                    line = dict(color = ('rgb(211, 41, 47)'))\n",
    "                   )\n",
    "\n",
    "\n",
    "\n",
    "layout = go.Layout(title='Total Cost: Zipfian',\n",
    "                   plot_bgcolor='rgb(255, 255,255)',\n",
    "                   xaxis=dict(title='Sequence Length'),\n",
    "                   yaxis=dict(title='Total Cost'))\n",
    "\n",
    "fig = go.Figure(data=[trace1, trace2, trace3], layout=layout)\n",
    "\n",
    "# Plot data in the notebook\n",
    "iplot(fig)\n"
   ]
  },
  {
   "cell_type": "code",
   "execution_count": null,
   "metadata": {},
   "outputs": [],
   "source": [
    "df = pd.read_csv('histogram/MarkovHighList.csv')\n",
    "df1 = pd.read_csv('histogram/MarkovMediumList.csv')\n",
    "df2 = pd.read_csv('histogram/MarkovLowList.csv')\n",
    "df3 = pd.read_csv('histogram/ZipfianList.csv')\n",
    "\n",
    "data = [\n",
    "  go.Histogram(\n",
    "    histfunc = \"sum\",\n",
    "    y = df['Cost'],\n",
    "    x = df['Heuristic'],\n",
    "    name = \"High Self Loop\",\n",
    "    marker=dict(color = ('rgb(14,23,100)'))\n",
    "  ),\n",
    "  go.Histogram(\n",
    "    histfunc = \"sum\",\n",
    "    y = df1['Cost'],\n",
    "    x = df1['Heuristic'],\n",
    "    name = \"Medium Self Loop\",\n",
    "    marker=dict(color = ('rgb(25,48,134)'))\n",
    "  ),\n",
    "  go.Histogram(\n",
    "    histfunc = \"sum\",\n",
    "    y = df2['Cost'],\n",
    "    x = df2['Heuristic'],\n",
    "    name = \"Low Self Loop\",\n",
    "    marker=dict(color = ('rgb(37,91,168)'))\n",
    "  ),\n",
    "  go.Histogram(\n",
    "    histfunc = \"sum\",\n",
    "    y = df3['Cost'],\n",
    "    x = df3['Heuristic'],\n",
    "    name = \"Zipfian\",\n",
    "    marker=dict(color = ('rgb(200,212,222)'))\n",
    "  )\n",
    "]\n",
    "\n",
    "layout = go.Layout(title='Access Cost: List',\n",
    "                   plot_bgcolor='rgb(255, 255,255)')\n",
    "fig = go.Figure(data, layout=layout)\n",
    "iplot(fig)\n",
    "\n",
    "\n",
    "\n",
    "data = [\n",
    "  go.Histogram(\n",
    "    histfunc = \"sum\",\n",
    "    y = df['Cost'],\n",
    "    x = df['Heuristic'],\n",
    "    name = \"High Self Loop\",\n",
    "    marker=dict(color = ('rgb(14,23,100)'))\n",
    "  )\n",
    "]\n",
    "\n",
    "layout = go.Layout(title='Access Cost List: High Self Loop',\n",
    "                   plot_bgcolor='rgb(255, 255,255)', width=500,height=500)\n",
    "fig = go.Figure(data, layout=layout)\n",
    "iplot(fig)\n",
    "\n",
    "\n",
    "data = [\n",
    "  go.Histogram(\n",
    "    histfunc = \"sum\",\n",
    "    y = df1['Cost'],\n",
    "    x = df1['Heuristic'],\n",
    "    name = \"Medium Self Loop\",\n",
    "    marker=dict(color = ('rgb(25,48,134)'))\n",
    "  )\n",
    "]\n",
    "\n",
    "layout = go.Layout(title='Access Cost List: Medium Self Loop',\n",
    "                   plot_bgcolor='rgb(255, 255,255)', width=500,height=500)\n",
    "fig = go.Figure(data, layout=layout)\n",
    "iplot(fig)\n",
    "\n",
    "\n",
    "data = [\n",
    "  go.Histogram(\n",
    "    histfunc = \"sum\",\n",
    "    y = df2['Cost'],\n",
    "    x = df2['Heuristic'],\n",
    "    name = \"Low Self Loop\",\n",
    "    marker=dict(color = ('rgb(37,91,168)'))\n",
    "  )\n",
    "]\n",
    "\n",
    "layout = go.Layout(title='Access Cost List: Low Self Loop',\n",
    "                   plot_bgcolor='rgb(255,255,255)', width=500,height=500)\n",
    "fig = go.Figure(data, layout=layout)\n",
    "iplot(fig)\n",
    "\n",
    "\n",
    "data = [\n",
    "  go.Histogram(\n",
    "    histfunc = \"sum\",\n",
    "    y = df3['Cost'],\n",
    "    x = df3['Heuristic'],\n",
    "    name = \"Zipfian\",\n",
    "    marker=dict(color = ('rgb(200,212,222)'))\n",
    "  )\n",
    "]\n",
    "\n",
    "layout = go.Layout(title='Access Cost List: Zipfian',\n",
    "                   plot_bgcolor='rgb(255, 255,255)', width=500,height=500)\n",
    "fig = go.Figure(data, layout=layout)\n",
    "iplot(fig)\n",
    "\n"
   ]
  },
  {
   "cell_type": "code",
   "execution_count": null,
   "metadata": {},
   "outputs": [],
   "source": [
    "df = pd.read_csv('histogram/MarkovHighTrees.csv')\n",
    "df1 = pd.read_csv('histogram/MarkovMediumTrees.csv')\n",
    "df2 = pd.read_csv('histogram/MarkovLowTrees.csv')\n",
    "df3 = pd.read_csv('histogram/ZipfianTrees.csv')\n",
    "\n",
    "data = [\n",
    "  go.Histogram(\n",
    "    histfunc = \"sum\",\n",
    "    y = df['Cost'],\n",
    "    x = df['Heuristic'],\n",
    "    name = \"High Self Loop\",\n",
    "    marker=dict(color = ('rgb(14,23,100)'))\n",
    "  ),\n",
    "  go.Histogram(\n",
    "    histfunc = \"sum\",\n",
    "    y = df1['Cost'],\n",
    "    x = df1['Heuristic'],\n",
    "    name = \"Medium Self Loop\",\n",
    "    marker=dict(color = ('rgb(25,48,134)'))\n",
    "  ),\n",
    "  go.Histogram(\n",
    "    histfunc = \"sum\",\n",
    "    y = df2['Cost'],\n",
    "    x = df2['Heuristic'],\n",
    "    name = \"Low Self Loop\",\n",
    "    marker=dict(color = ('rgb(37,91,168)'))\n",
    "  ),\n",
    "  go.Histogram(\n",
    "    histfunc = \"sum\",\n",
    "    y = df3['Cost'],\n",
    "    x = df3['Heuristic'],\n",
    "    name = \"Zipfian\",\n",
    "    marker=dict(color = ('rgb(200,212,222)'))\n",
    "  )\n",
    "]\n",
    "\n",
    "\n",
    "layout = go.Layout(title='Access Cost: Trees',\n",
    "                   plot_bgcolor='rgb(255, 255,255)')\n",
    "fig = go.Figure(data, layout=layout)\n",
    "iplot(fig)"
   ]
  },
  {
   "cell_type": "code",
   "execution_count": null,
   "metadata": {},
   "outputs": [],
   "source": [
    "df = pd.read_csv('histogram/MarkovHighRotation.csv')\n",
    "df1 = pd.read_csv('histogram/MarkovMediumRotation.csv')\n",
    "df2 = pd.read_csv('histogram/MarkovLowRotation.csv')\n",
    "df3 = pd.read_csv('histogram/ZipfianRotation.csv')\n",
    "\n",
    "data = [\n",
    "  go.Histogram(\n",
    "    histfunc = \"sum\",\n",
    "    y = df['Cost'],\n",
    "    x = df['Heuristic'],\n",
    "    name = \"High Self Loop\",\n",
    "    marker=dict(color = ('rgb(14,23,100)'))\n",
    "  ),\n",
    "  go.Histogram(\n",
    "    histfunc = \"sum\",\n",
    "    y = df1['Cost'],\n",
    "    x = df1['Heuristic'],\n",
    "    name = \"Medium Self Loop\",\n",
    "    marker=dict(color = ('rgb(25,48,134)'))\n",
    "  ),\n",
    "  go.Histogram(\n",
    "    histfunc = \"sum\",\n",
    "    y = df2['Cost'],\n",
    "    x = df2['Heuristic'],\n",
    "    name = \"Low Self Loop\",\n",
    "    marker=dict(color = ('rgb(37,91,168)'))\n",
    "  ),\n",
    "  go.Histogram(\n",
    "    histfunc = \"sum\",\n",
    "    y = df3['Cost'],\n",
    "    x = df3['Heuristic'],\n",
    "    name = \"Zipfian\",\n",
    "    marker=dict(color = ('rgb(200,212,222)'))\n",
    "  )\n",
    "]\n",
    "\n",
    "\n",
    "layout = go.Layout(title='Rotation Cost',\n",
    "                   plot_bgcolor='rgb(255, 255,255)')\n",
    "fig = go.Figure(data, layout=layout)\n",
    "iplot(fig)"
   ]
  },
  {
   "cell_type": "code",
   "execution_count": null,
   "metadata": {
    "collapsed": true
   },
   "outputs": [],
   "source": []
  }
 ],
 "metadata": {
  "kernelspec": {
   "display_name": "Python 3",
   "language": "python",
   "name": "python3"
  },
  "language_info": {
   "codemirror_mode": {
    "name": "ipython",
    "version": 3
   },
   "file_extension": ".py",
   "mimetype": "text/x-python",
   "name": "python",
   "nbconvert_exporter": "python",
   "pygments_lexer": "ipython3",
   "version": "3.6.2"
  }
 },
 "nbformat": 4,
 "nbformat_minor": 2
}
